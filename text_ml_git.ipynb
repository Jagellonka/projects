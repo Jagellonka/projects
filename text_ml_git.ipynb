{
 "cells": [
  {
   "cell_type": "markdown",
   "metadata": {
    "toc": true
   },
   "source": [
    "<h1>Содержание<span class=\"tocSkip\"></span></h1>\n",
    "<div class=\"toc\"><ul class=\"toc-item\"><li><span><a href=\"#Подготовка\" data-toc-modified-id=\"Подготовка-1\"><span class=\"toc-item-num\">1&nbsp;&nbsp;</span>Подготовка</a></span></li><li><span><a href=\"#Обучение\" data-toc-modified-id=\"Обучение-2\"><span class=\"toc-item-num\">2&nbsp;&nbsp;</span>Обучение</a></span><ul class=\"toc-item\"><li><span><a href=\"#Модель-CatBoost\" data-toc-modified-id=\"Модель-CatBoost-2.1\"><span class=\"toc-item-num\">2.1&nbsp;&nbsp;</span>Модель CatBoost</a></span></li><li><span><a href=\"#Модель-Logistic-Regression\" data-toc-modified-id=\"Модель-Logistic-Regression-2.2\"><span class=\"toc-item-num\">2.2&nbsp;&nbsp;</span>Модель Logistic Regression</a></span></li></ul></li><li><span><a href=\"#Выводы\" data-toc-modified-id=\"Выводы-3\"><span class=\"toc-item-num\">3&nbsp;&nbsp;</span>Выводы</a></span></li><li><span><a href=\"#Чек-лист-проверки\" data-toc-modified-id=\"Чек-лист-проверки-4\"><span class=\"toc-item-num\">4&nbsp;&nbsp;</span>Чек-лист проверки</a></span></li></ul></div>"
   ]
  },
  {
   "cell_type": "markdown",
   "metadata": {},
   "source": [
    "# Проект для «Викишоп»"
   ]
  },
  {
   "cell_type": "markdown",
   "metadata": {},
   "source": [
    "Обучите модель классифицировать комментарии на позитивные и негативные. В вашем распоряжении набор данных с разметкой о токсичности правок.\n",
    "\n",
    "Постройте модель со значением метрики качества *F1* не меньше 0.75. \n"
   ]
  },
  {
   "cell_type": "markdown",
   "metadata": {},
   "source": [
    "## Подготовка"
   ]
  },
  {
   "cell_type": "code",
   "execution_count": 1,
   "metadata": {},
   "outputs": [
    {
     "name": "stdout",
     "output_type": "stream",
     "text": [
      "Requirement already satisfied: nltk in /opt/conda/lib/python3.9/site-packages (3.6.1)\n",
      "Collecting nltk\n",
      "  Downloading nltk-3.8.1-py3-none-any.whl (1.5 MB)\n",
      "\u001b[K     |████████████████████████████████| 1.5 MB 2.2 MB/s eta 0:00:01\n",
      "\u001b[?25hRequirement already satisfied: click in /opt/conda/lib/python3.9/site-packages (from nltk) (8.1.3)\n",
      "Requirement already satisfied: joblib in /opt/conda/lib/python3.9/site-packages (from nltk) (1.1.0)\n",
      "Requirement already satisfied: regex>=2021.8.3 in /opt/conda/lib/python3.9/site-packages (from nltk) (2022.8.17)\n",
      "Requirement already satisfied: tqdm in /opt/conda/lib/python3.9/site-packages (from nltk) (4.61.2)\n",
      "Installing collected packages: nltk\n",
      "  Attempting uninstall: nltk\n",
      "    Found existing installation: nltk 3.6.1\n",
      "    Uninstalling nltk-3.6.1:\n",
      "      Successfully uninstalled nltk-3.6.1\n",
      "Successfully installed nltk-3.8.1\n",
      "/opt/conda/lib/python3.9/runpy.py:127: RuntimeWarning: 'nltk.downloader' found in sys.modules after import of package 'nltk', but prior to execution of 'nltk.downloader'; this may result in unpredictable behaviour\n",
      "  warn(RuntimeWarning(msg))\n",
      "[nltk_data] Downloading collection 'popular'\n",
      "[nltk_data]    | \n",
      "[nltk_data]    | Downloading package cmudict to\n",
      "[nltk_data]    |     /home/jovyan/nltk_data...\n",
      "[nltk_data]    |   Unzipping corpora/cmudict.zip.\n",
      "[nltk_data]    | Downloading package gazetteers to\n",
      "[nltk_data]    |     /home/jovyan/nltk_data...\n",
      "[nltk_data]    |   Unzipping corpora/gazetteers.zip.\n",
      "[nltk_data]    | Downloading package genesis to\n",
      "[nltk_data]    |     /home/jovyan/nltk_data...\n",
      "[nltk_data]    |   Unzipping corpora/genesis.zip.\n",
      "[nltk_data]    | Downloading package gutenberg to\n",
      "[nltk_data]    |     /home/jovyan/nltk_data...\n",
      "[nltk_data]    |   Unzipping corpora/gutenberg.zip.\n",
      "[nltk_data]    | Downloading package inaugural to\n",
      "[nltk_data]    |     /home/jovyan/nltk_data...\n",
      "[nltk_data]    |   Unzipping corpora/inaugural.zip.\n",
      "[nltk_data]    | Downloading package movie_reviews to\n",
      "[nltk_data]    |     /home/jovyan/nltk_data...\n",
      "[nltk_data]    |   Unzipping corpora/movie_reviews.zip.\n",
      "[nltk_data]    | Downloading package names to\n",
      "[nltk_data]    |     /home/jovyan/nltk_data...\n",
      "[nltk_data]    |   Unzipping corpora/names.zip.\n",
      "[nltk_data]    | Downloading package shakespeare to\n",
      "[nltk_data]    |     /home/jovyan/nltk_data...\n",
      "[nltk_data]    |   Unzipping corpora/shakespeare.zip.\n",
      "[nltk_data]    | Downloading package stopwords to\n",
      "[nltk_data]    |     /home/jovyan/nltk_data...\n",
      "[nltk_data]    |   Package stopwords is already up-to-date!\n",
      "[nltk_data]    | Downloading package treebank to\n",
      "[nltk_data]    |     /home/jovyan/nltk_data...\n",
      "[nltk_data]    |   Unzipping corpora/treebank.zip.\n",
      "[nltk_data]    | Downloading package twitter_samples to\n",
      "[nltk_data]    |     /home/jovyan/nltk_data...\n",
      "[nltk_data]    |   Unzipping corpora/twitter_samples.zip.\n",
      "[nltk_data]    | Downloading package omw to /home/jovyan/nltk_data...\n",
      "[nltk_data]    | Downloading package omw-1.4 to\n",
      "[nltk_data]    |     /home/jovyan/nltk_data...\n",
      "[nltk_data]    | Downloading package wordnet to\n",
      "[nltk_data]    |     /home/jovyan/nltk_data...\n",
      "[nltk_data]    |   Package wordnet is already up-to-date!\n",
      "[nltk_data]    | Downloading package wordnet2021 to\n",
      "[nltk_data]    |     /home/jovyan/nltk_data...\n",
      "[nltk_data]    | Downloading package wordnet31 to\n",
      "[nltk_data]    |     /home/jovyan/nltk_data...\n",
      "[nltk_data]    | Downloading package wordnet_ic to\n",
      "[nltk_data]    |     /home/jovyan/nltk_data...\n",
      "[nltk_data]    |   Unzipping corpora/wordnet_ic.zip.\n",
      "[nltk_data]    | Downloading package words to\n",
      "[nltk_data]    |     /home/jovyan/nltk_data...\n",
      "[nltk_data]    |   Unzipping corpora/words.zip.\n",
      "[nltk_data]    | Downloading package maxent_ne_chunker to\n",
      "[nltk_data]    |     /home/jovyan/nltk_data...\n",
      "[nltk_data]    |   Unzipping chunkers/maxent_ne_chunker.zip.\n",
      "[nltk_data]    | Downloading package punkt to\n",
      "[nltk_data]    |     /home/jovyan/nltk_data...\n",
      "[nltk_data]    |   Package punkt is already up-to-date!\n",
      "[nltk_data]    | Downloading package snowball_data to\n",
      "[nltk_data]    |     /home/jovyan/nltk_data...\n",
      "[nltk_data]    | Downloading package averaged_perceptron_tagger to\n",
      "[nltk_data]    |     /home/jovyan/nltk_data...\n",
      "[nltk_data]    |   Unzipping taggers/averaged_perceptron_tagger.zip.\n",
      "[nltk_data]    | \n",
      "[nltk_data]  Done downloading collection popular\n",
      "Collecting pywsd\n",
      "  Downloading pywsd-1.2.5-py3-none-any.whl (26.9 MB)\n",
      "\u001b[K     |████████████████████████████████| 26.9 MB 29 kB/s  eta 0:00:01\n",
      "\u001b[?25hRequirement already satisfied: nltk in /opt/conda/lib/python3.9/site-packages (from pywsd) (3.8.1)\n",
      "Collecting wn==0.0.23\n",
      "  Downloading wn-0.0.23.tar.gz (31.6 MB)\n",
      "\u001b[K     |████████████████████████████████| 31.6 MB 896 kB/s eta 0:00:011\n",
      "\u001b[?25hRequirement already satisfied: pandas in /opt/conda/lib/python3.9/site-packages (from pywsd) (1.2.4)\n",
      "Requirement already satisfied: numpy in /opt/conda/lib/python3.9/site-packages (from pywsd) (1.21.1)\n",
      "Requirement already satisfied: six in /opt/conda/lib/python3.9/site-packages (from pywsd) (1.16.0)\n",
      "Requirement already satisfied: joblib in /opt/conda/lib/python3.9/site-packages (from nltk->pywsd) (1.1.0)\n",
      "Requirement already satisfied: regex>=2021.8.3 in /opt/conda/lib/python3.9/site-packages (from nltk->pywsd) (2022.8.17)\n",
      "Requirement already satisfied: click in /opt/conda/lib/python3.9/site-packages (from nltk->pywsd) (8.1.3)\n",
      "Requirement already satisfied: tqdm in /opt/conda/lib/python3.9/site-packages (from nltk->pywsd) (4.61.2)\n",
      "Requirement already satisfied: python-dateutil>=2.7.3 in /opt/conda/lib/python3.9/site-packages (from pandas->pywsd) (2.8.1)\n",
      "Requirement already satisfied: pytz>=2017.3 in /opt/conda/lib/python3.9/site-packages (from pandas->pywsd) (2021.1)\n",
      "Building wheels for collected packages: wn\n",
      "  Building wheel for wn (setup.py) ... \u001b[?25ldone\n",
      "\u001b[?25h  Created wheel for wn: filename=wn-0.0.23-py3-none-any.whl size=31792943 sha256=099931689fdda6f915f8766f4235684b2454c88709431858c39947da48de6fdb\n",
      "  Stored in directory: /home/jovyan/.cache/pip/wheels/cd/8b/7d/c44f094ca392bd08edcd90adf241a3484b75e2b8e205fab50a\n",
      "Successfully built wn\n",
      "Installing collected packages: wn, pywsd\n",
      "Successfully installed pywsd-1.2.5 wn-0.0.23\n"
     ]
    }
   ],
   "source": [
    "!pip install -U nltk\n",
    "!python -m nltk.downloader popular\n",
    "!pip install -U pywsd"
   ]
  },
  {
   "cell_type": "code",
   "execution_count": 2,
   "metadata": {},
   "outputs": [],
   "source": [
    "import pandas as pd\n",
    "import numpy as np\n",
    "from sklearn.linear_model import LogisticRegression\n",
    "from sklearn.model_selection import train_test_split\n",
    "import nltk\n",
    "from nltk.corpus import stopwords as nltk_stopwords\n",
    "from nltk import pos_tag\n",
    "from nltk.stem import WordNetLemmatizer\n",
    "from nltk.tokenize import word_tokenize\n",
    "import re\n",
    "from sklearn.feature_extraction.text import TfidfVectorizer\n",
    "from catboost import CatBoostClassifier\n",
    "from sklearn.metrics import f1_score\n",
    "from sklearn.model_selection import StratifiedKFold\n",
    "from sklearn.model_selection import cross_val_score"
   ]
  },
  {
   "cell_type": "code",
   "execution_count": 3,
   "metadata": {
    "scrolled": false
   },
   "outputs": [
    {
     "data": {
      "text/html": [
       "<div>\n",
       "<style scoped>\n",
       "    .dataframe tbody tr th:only-of-type {\n",
       "        vertical-align: middle;\n",
       "    }\n",
       "\n",
       "    .dataframe tbody tr th {\n",
       "        vertical-align: top;\n",
       "    }\n",
       "\n",
       "    .dataframe thead th {\n",
       "        text-align: right;\n",
       "    }\n",
       "</style>\n",
       "<table border=\"1\" class=\"dataframe\">\n",
       "  <thead>\n",
       "    <tr style=\"text-align: right;\">\n",
       "      <th></th>\n",
       "      <th>Unnamed: 0</th>\n",
       "      <th>text</th>\n",
       "      <th>toxic</th>\n",
       "    </tr>\n",
       "  </thead>\n",
       "  <tbody>\n",
       "    <tr>\n",
       "      <th>0</th>\n",
       "      <td>0</td>\n",
       "      <td>Explanation\\nWhy the edits made under my usern...</td>\n",
       "      <td>0</td>\n",
       "    </tr>\n",
       "    <tr>\n",
       "      <th>1</th>\n",
       "      <td>1</td>\n",
       "      <td>D'aww! He matches this background colour I'm s...</td>\n",
       "      <td>0</td>\n",
       "    </tr>\n",
       "    <tr>\n",
       "      <th>2</th>\n",
       "      <td>2</td>\n",
       "      <td>Hey man, I'm really not trying to edit war. It...</td>\n",
       "      <td>0</td>\n",
       "    </tr>\n",
       "    <tr>\n",
       "      <th>3</th>\n",
       "      <td>3</td>\n",
       "      <td>\"\\nMore\\nI can't make any real suggestions on ...</td>\n",
       "      <td>0</td>\n",
       "    </tr>\n",
       "    <tr>\n",
       "      <th>4</th>\n",
       "      <td>4</td>\n",
       "      <td>You, sir, are my hero. Any chance you remember...</td>\n",
       "      <td>0</td>\n",
       "    </tr>\n",
       "    <tr>\n",
       "      <th>...</th>\n",
       "      <td>...</td>\n",
       "      <td>...</td>\n",
       "      <td>...</td>\n",
       "    </tr>\n",
       "    <tr>\n",
       "      <th>159287</th>\n",
       "      <td>159446</td>\n",
       "      <td>\":::::And for the second time of asking, when ...</td>\n",
       "      <td>0</td>\n",
       "    </tr>\n",
       "    <tr>\n",
       "      <th>159288</th>\n",
       "      <td>159447</td>\n",
       "      <td>You should be ashamed of yourself \\n\\nThat is ...</td>\n",
       "      <td>0</td>\n",
       "    </tr>\n",
       "    <tr>\n",
       "      <th>159289</th>\n",
       "      <td>159448</td>\n",
       "      <td>Spitzer \\n\\nUmm, theres no actual article for ...</td>\n",
       "      <td>0</td>\n",
       "    </tr>\n",
       "    <tr>\n",
       "      <th>159290</th>\n",
       "      <td>159449</td>\n",
       "      <td>And it looks like it was actually you who put ...</td>\n",
       "      <td>0</td>\n",
       "    </tr>\n",
       "    <tr>\n",
       "      <th>159291</th>\n",
       "      <td>159450</td>\n",
       "      <td>\"\\nAnd ... I really don't think you understand...</td>\n",
       "      <td>0</td>\n",
       "    </tr>\n",
       "  </tbody>\n",
       "</table>\n",
       "<p>159292 rows × 3 columns</p>\n",
       "</div>"
      ],
      "text/plain": [
       "        Unnamed: 0                                               text  toxic\n",
       "0                0  Explanation\\nWhy the edits made under my usern...      0\n",
       "1                1  D'aww! He matches this background colour I'm s...      0\n",
       "2                2  Hey man, I'm really not trying to edit war. It...      0\n",
       "3                3  \"\\nMore\\nI can't make any real suggestions on ...      0\n",
       "4                4  You, sir, are my hero. Any chance you remember...      0\n",
       "...            ...                                                ...    ...\n",
       "159287      159446  \":::::And for the second time of asking, when ...      0\n",
       "159288      159447  You should be ashamed of yourself \\n\\nThat is ...      0\n",
       "159289      159448  Spitzer \\n\\nUmm, theres no actual article for ...      0\n",
       "159290      159449  And it looks like it was actually you who put ...      0\n",
       "159291      159450  \"\\nAnd ... I really don't think you understand...      0\n",
       "\n",
       "[159292 rows x 3 columns]"
      ]
     },
     "execution_count": 3,
     "metadata": {},
     "output_type": "execute_result"
    }
   ],
   "source": [
    "data = pd.read_csv('/datasets/toxic_comments.csv')\n",
    "data"
   ]
  },
  {
   "cell_type": "markdown",
   "metadata": {},
   "source": [
    "Датасет содержит 159292 строк и 3 столбца. Удалим столбец `Unnamed: 0`."
   ]
  },
  {
   "cell_type": "code",
   "execution_count": 4,
   "metadata": {},
   "outputs": [],
   "source": [
    "data.drop(columns='Unnamed: 0', inplace=True)"
   ]
  },
  {
   "cell_type": "markdown",
   "metadata": {},
   "source": [
    "Посмотрим распределение текстов."
   ]
  },
  {
   "cell_type": "code",
   "execution_count": 5,
   "metadata": {
    "scrolled": true
   },
   "outputs": [
    {
     "name": "stdout",
     "output_type": "stream",
     "text": [
      "0    143106\n",
      "1     16186\n",
      "Name: toxic, dtype: int64\n"
     ]
    },
    {
     "data": {
      "image/png": "[encoded data removed]",
      "text/plain": [
       "<Figure size 432x288 with 1 Axes>"
      ]
     },
     "metadata": {
      "needs_background": "light"
     },
     "output_type": "display_data"
    }
   ],
   "source": [
    "data['toxic'].hist()\n",
    "print(data.toxic.value_counts())"
   ]
  },
  {
   "cell_type": "markdown",
   "metadata": {},
   "source": [
    "В данных присутствует сильный дисбаланс, токсичных комментариев почти в 10 раз меньше. Учтем это при создании моделей."
   ]
  },
  {
   "cell_type": "markdown",
   "metadata": {},
   "source": [
    "Лемматизируем текст, приведем к нижнему регистру и уберем все лишнее."
   ]
  },
  {
   "cell_type": "code",
   "execution_count": 6,
   "metadata": {},
   "outputs": [],
   "source": [
    "wnl = WordNetLemmatizer()\n",
    "\n",
    "def penn2morphy(penntag):\n",
    "    morphy_tag = {'NN':'n', 'JJ':'a',\n",
    "                  'VB':'v', 'RB':'r'}\n",
    "    try:\n",
    "        return morphy_tag[penntag[:2]]\n",
    "    except:\n",
    "        return 'n' \n",
    "\n",
    "def lemmatize_sent(text):\n",
    "    text = re.sub(r'[^a-zA-Z]', ' ', text) \n",
    "    return ' '.join([wnl.lemmatize(word.lower(), pos=penn2morphy(tag)) \n",
    "            for word, tag in pos_tag(word_tokenize(text))])\n",
    "\n",
    "data['lemm_text'] = data['text'].apply(lemmatize_sent)\n",
    "\n",
    "data = data.drop(['text'], axis=1)"
   ]
  },
  {
   "cell_type": "markdown",
   "metadata": {},
   "source": [
    "Уберем ненужные слова."
   ]
  },
  {
   "cell_type": "code",
   "execution_count": 7,
   "metadata": {
    "scrolled": true
   },
   "outputs": [
    {
     "name": "stderr",
     "output_type": "stream",
     "text": [
      "[nltk_data] Downloading package stopwords to /home/jovyan/nltk_data...\n",
      "[nltk_data]   Package stopwords is already up-to-date!\n"
     ]
    }
   ],
   "source": [
    "nltk.download('stopwords')\n",
    "stopwords = list(nltk_stopwords.words('english'))\n",
    "\n",
    "tf_idf = TfidfVectorizer(stop_words=stopwords)"
   ]
  },
  {
   "cell_type": "markdown",
   "metadata": {},
   "source": [
    "Выделим целевой и обучающий признак."
   ]
  },
  {
   "cell_type": "code",
   "execution_count": 8,
   "metadata": {},
   "outputs": [],
   "source": [
    "target = data['toxic']\n",
    "features = data.drop(columns='toxic', axis=1)"
   ]
  },
  {
   "cell_type": "markdown",
   "metadata": {},
   "source": [
    "Разделим данные на обучающую, валидационную и тестовую выборки. Добавляем параметр `stratify`, чтобы правильно разделить выборки с учетом дисбаланса."
   ]
  },
  {
   "cell_type": "code",
   "execution_count": 9,
   "metadata": {},
   "outputs": [],
   "source": [
    "features_train, features_test, target_train, target_test = train_test_split(features, target, random_state=75,\n",
    "                                                                            test_size=0.2, stratify=target)\n",
    "\n",
    "features_train = tf_idf.fit_transform(features_train['lemm_text'])\n",
    "features_test = tf_idf.transform(features_test['lemm_text'])"
   ]
  },
  {
   "cell_type": "code",
   "execution_count": 10,
   "metadata": {},
   "outputs": [
    {
     "data": {
      "text/plain": [
       "<127433x136605 sparse matrix of type '<class 'numpy.float64'>'\n",
       "\twith 3346818 stored elements in Compressed Sparse Row format>"
      ]
     },
     "execution_count": 10,
     "metadata": {},
     "output_type": "execute_result"
    }
   ],
   "source": [
    "features_train"
   ]
  },
  {
   "cell_type": "markdown",
   "metadata": {},
   "source": [
    "## Обучение"
   ]
  },
  {
   "cell_type": "markdown",
   "metadata": {},
   "source": [
    "### Модель CatBoost"
   ]
  },
  {
   "cell_type": "code",
   "execution_count": 10,
   "metadata": {},
   "outputs": [
    {
     "name": "stdout",
     "output_type": "stream",
     "text": [
      "0:\tlearn: 0.3907035\ttotal: 2s\tremaining: 9m 59s\n",
      "1:\tlearn: 0.2895876\ttotal: 3.52s\tremaining: 8m 43s\n",
      "2:\tlearn: 0.2517631\ttotal: 5.07s\tremaining: 8m 21s\n",
      "3:\tlearn: 0.2357529\ttotal: 6.59s\tremaining: 8m 7s\n",
      "4:\tlearn: 0.2223615\ttotal: 8.19s\tremaining: 8m 3s\n",
      "5:\tlearn: 0.2153654\ttotal: 9.7s\tremaining: 7m 55s\n",
      "6:\tlearn: 0.2092079\ttotal: 11.2s\tremaining: 7m 49s\n",
      "7:\tlearn: 0.2042203\ttotal: 12.7s\tremaining: 7m 42s\n",
      "8:\tlearn: 0.2006969\ttotal: 14.2s\tremaining: 7m 39s\n",
      "9:\tlearn: 0.1970061\ttotal: 15.7s\tremaining: 7m 34s\n",
      "10:\tlearn: 0.1940012\ttotal: 17.3s\tremaining: 7m 33s\n",
      "11:\tlearn: 0.1908490\ttotal: 18.8s\tremaining: 7m 30s\n",
      "12:\tlearn: 0.1883484\ttotal: 20.3s\tremaining: 7m 27s\n",
      "13:\tlearn: 0.1851067\ttotal: 21.7s\tremaining: 7m 23s\n",
      "14:\tlearn: 0.1829602\ttotal: 23.3s\tremaining: 7m 23s\n",
      "15:\tlearn: 0.1806862\ttotal: 24.9s\tremaining: 7m 22s\n",
      "16:\tlearn: 0.1792759\ttotal: 26.3s\tremaining: 7m 18s\n",
      "17:\tlearn: 0.1768874\ttotal: 28s\tremaining: 7m 18s\n",
      "18:\tlearn: 0.1755518\ttotal: 29.4s\tremaining: 7m 15s\n",
      "19:\tlearn: 0.1738473\ttotal: 30.9s\tremaining: 7m 12s\n",
      "20:\tlearn: 0.1724134\ttotal: 32.4s\tremaining: 7m 10s\n",
      "21:\tlearn: 0.1709839\ttotal: 33.8s\tremaining: 7m 7s\n",
      "22:\tlearn: 0.1695080\ttotal: 35.3s\tremaining: 7m 5s\n",
      "23:\tlearn: 0.1683219\ttotal: 36.9s\tremaining: 7m 4s\n",
      "24:\tlearn: 0.1669372\ttotal: 38.4s\tremaining: 7m 2s\n",
      "25:\tlearn: 0.1658752\ttotal: 39.8s\tremaining: 6m 59s\n",
      "26:\tlearn: 0.1641299\ttotal: 41.3s\tremaining: 6m 57s\n",
      "27:\tlearn: 0.1630834\ttotal: 42.8s\tremaining: 6m 55s\n",
      "28:\tlearn: 0.1620869\ttotal: 44.3s\tremaining: 6m 53s\n",
      "29:\tlearn: 0.1608638\ttotal: 45.7s\tremaining: 6m 51s\n",
      "30:\tlearn: 0.1598839\ttotal: 47.2s\tremaining: 6m 49s\n",
      "31:\tlearn: 0.1588722\ttotal: 48.7s\tremaining: 6m 47s\n",
      "32:\tlearn: 0.1580089\ttotal: 50.2s\tremaining: 6m 46s\n",
      "33:\tlearn: 0.1567673\ttotal: 51.7s\tremaining: 6m 44s\n",
      "34:\tlearn: 0.1557288\ttotal: 53.2s\tremaining: 6m 42s\n",
      "35:\tlearn: 0.1547449\ttotal: 54.7s\tremaining: 6m 41s\n",
      "36:\tlearn: 0.1538277\ttotal: 56.2s\tremaining: 6m 39s\n",
      "37:\tlearn: 0.1530997\ttotal: 57.7s\tremaining: 6m 37s\n",
      "38:\tlearn: 0.1524383\ttotal: 59.1s\tremaining: 6m 35s\n",
      "39:\tlearn: 0.1516841\ttotal: 1m\tremaining: 6m 33s\n",
      "40:\tlearn: 0.1508880\ttotal: 1m 2s\tremaining: 6m 31s\n",
      "41:\tlearn: 0.1499748\ttotal: 1m 3s\tremaining: 6m 30s\n",
      "42:\tlearn: 0.1491214\ttotal: 1m 5s\tremaining: 6m 28s\n",
      "43:\tlearn: 0.1484541\ttotal: 1m 6s\tremaining: 6m 26s\n",
      "44:\tlearn: 0.1476071\ttotal: 1m 8s\tremaining: 6m 25s\n",
      "45:\tlearn: 0.1465612\ttotal: 1m 9s\tremaining: 6m 23s\n",
      "46:\tlearn: 0.1459505\ttotal: 1m 10s\tremaining: 6m 21s\n",
      "47:\tlearn: 0.1452934\ttotal: 1m 12s\tremaining: 6m 19s\n",
      "48:\tlearn: 0.1446778\ttotal: 1m 13s\tremaining: 6m 17s\n",
      "49:\tlearn: 0.1436187\ttotal: 1m 15s\tremaining: 6m 16s\n",
      "50:\tlearn: 0.1428941\ttotal: 1m 16s\tremaining: 6m 15s\n",
      "51:\tlearn: 0.1424385\ttotal: 1m 18s\tremaining: 6m 13s\n",
      "52:\tlearn: 0.1418119\ttotal: 1m 19s\tremaining: 6m 11s\n",
      "53:\tlearn: 0.1414168\ttotal: 1m 21s\tremaining: 6m 9s\n",
      "54:\tlearn: 0.1407680\ttotal: 1m 22s\tremaining: 6m 7s\n",
      "55:\tlearn: 0.1404340\ttotal: 1m 23s\tremaining: 6m 5s\n",
      "56:\tlearn: 0.1395007\ttotal: 1m 25s\tremaining: 6m 4s\n",
      "57:\tlearn: 0.1390187\ttotal: 1m 26s\tremaining: 6m 2s\n",
      "58:\tlearn: 0.1385996\ttotal: 1m 28s\tremaining: 6m\n",
      "59:\tlearn: 0.1379296\ttotal: 1m 29s\tremaining: 5m 59s\n",
      "60:\tlearn: 0.1374884\ttotal: 1m 31s\tremaining: 5m 57s\n",
      "61:\tlearn: 0.1371603\ttotal: 1m 32s\tremaining: 5m 55s\n",
      "62:\tlearn: 0.1366286\ttotal: 1m 34s\tremaining: 5m 53s\n",
      "63:\tlearn: 0.1359364\ttotal: 1m 35s\tremaining: 5m 52s\n",
      "64:\tlearn: 0.1356390\ttotal: 1m 37s\tremaining: 5m 51s\n",
      "65:\tlearn: 0.1347128\ttotal: 1m 38s\tremaining: 5m 49s\n",
      "66:\tlearn: 0.1344499\ttotal: 1m 40s\tremaining: 5m 47s\n",
      "67:\tlearn: 0.1340011\ttotal: 1m 41s\tremaining: 5m 46s\n",
      "68:\tlearn: 0.1334973\ttotal: 1m 43s\tremaining: 5m 45s\n",
      "69:\tlearn: 0.1331301\ttotal: 1m 44s\tremaining: 5m 43s\n",
      "70:\tlearn: 0.1326773\ttotal: 1m 46s\tremaining: 5m 41s\n",
      "71:\tlearn: 0.1324219\ttotal: 1m 47s\tremaining: 5m 40s\n",
      "72:\tlearn: 0.1321635\ttotal: 1m 48s\tremaining: 5m 38s\n",
      "73:\tlearn: 0.1317693\ttotal: 1m 50s\tremaining: 5m 37s\n",
      "74:\tlearn: 0.1315122\ttotal: 1m 51s\tremaining: 5m 35s\n",
      "75:\tlearn: 0.1309156\ttotal: 1m 53s\tremaining: 5m 33s\n",
      "76:\tlearn: 0.1303855\ttotal: 1m 54s\tremaining: 5m 32s\n",
      "77:\tlearn: 0.1296088\ttotal: 1m 56s\tremaining: 5m 30s\n",
      "78:\tlearn: 0.1293988\ttotal: 1m 57s\tremaining: 5m 29s\n",
      "79:\tlearn: 0.1287163\ttotal: 1m 59s\tremaining: 5m 27s\n",
      "80:\tlearn: 0.1284999\ttotal: 2m\tremaining: 5m 26s\n",
      "81:\tlearn: 0.1278758\ttotal: 2m 2s\tremaining: 5m 24s\n",
      "82:\tlearn: 0.1276887\ttotal: 2m 3s\tremaining: 5m 22s\n",
      "83:\tlearn: 0.1272092\ttotal: 2m 4s\tremaining: 5m 21s\n",
      "84:\tlearn: 0.1267356\ttotal: 2m 6s\tremaining: 5m 19s\n",
      "85:\tlearn: 0.1265279\ttotal: 2m 7s\tremaining: 5m 18s\n",
      "86:\tlearn: 0.1261726\ttotal: 2m 9s\tremaining: 5m 16s\n",
      "87:\tlearn: 0.1257421\ttotal: 2m 10s\tremaining: 5m 14s\n",
      "88:\tlearn: 0.1255261\ttotal: 2m 12s\tremaining: 5m 13s\n",
      "89:\tlearn: 0.1249452\ttotal: 2m 13s\tremaining: 5m 11s\n",
      "90:\tlearn: 0.1247232\ttotal: 2m 14s\tremaining: 5m 9s\n",
      "91:\tlearn: 0.1244623\ttotal: 2m 16s\tremaining: 5m 8s\n",
      "92:\tlearn: 0.1241848\ttotal: 2m 18s\tremaining: 5m 7s\n",
      "93:\tlearn: 0.1239817\ttotal: 2m 19s\tremaining: 5m 5s\n",
      "94:\tlearn: 0.1235263\ttotal: 2m 20s\tremaining: 5m 4s\n",
      "95:\tlearn: 0.1230854\ttotal: 2m 22s\tremaining: 5m 2s\n",
      "96:\tlearn: 0.1228044\ttotal: 2m 23s\tremaining: 5m 1s\n",
      "97:\tlearn: 0.1226119\ttotal: 2m 25s\tremaining: 4m 59s\n",
      "98:\tlearn: 0.1221385\ttotal: 2m 26s\tremaining: 4m 58s\n",
      "99:\tlearn: 0.1217577\ttotal: 2m 28s\tremaining: 4m 56s\n",
      "100:\tlearn: 0.1215713\ttotal: 2m 29s\tremaining: 4m 55s\n",
      "101:\tlearn: 0.1214006\ttotal: 2m 31s\tremaining: 4m 53s\n",
      "102:\tlearn: 0.1212352\ttotal: 2m 32s\tremaining: 4m 51s\n",
      "103:\tlearn: 0.1210643\ttotal: 2m 33s\tremaining: 4m 50s\n",
      "104:\tlearn: 0.1208690\ttotal: 2m 35s\tremaining: 4m 48s\n",
      "105:\tlearn: 0.1206933\ttotal: 2m 36s\tremaining: 4m 47s\n",
      "106:\tlearn: 0.1205271\ttotal: 2m 38s\tremaining: 4m 45s\n",
      "107:\tlearn: 0.1203697\ttotal: 2m 39s\tremaining: 4m 43s\n",
      "108:\tlearn: 0.1200335\ttotal: 2m 41s\tremaining: 4m 42s\n",
      "109:\tlearn: 0.1197080\ttotal: 2m 42s\tremaining: 4m 40s\n",
      "110:\tlearn: 0.1195424\ttotal: 2m 44s\tremaining: 4m 39s\n",
      "111:\tlearn: 0.1194005\ttotal: 2m 45s\tremaining: 4m 37s\n",
      "112:\tlearn: 0.1189420\ttotal: 2m 47s\tremaining: 4m 36s\n",
      "113:\tlearn: 0.1187959\ttotal: 2m 48s\tremaining: 4m 34s\n",
      "114:\tlearn: 0.1184109\ttotal: 2m 50s\tremaining: 4m 33s\n",
      "115:\tlearn: 0.1182537\ttotal: 2m 51s\tremaining: 4m 32s\n",
      "116:\tlearn: 0.1180907\ttotal: 2m 52s\tremaining: 4m 30s\n",
      "117:\tlearn: 0.1179547\ttotal: 2m 54s\tremaining: 4m 28s\n",
      "118:\tlearn: 0.1178169\ttotal: 2m 55s\tremaining: 4m 27s\n",
      "119:\tlearn: 0.1173615\ttotal: 2m 57s\tremaining: 4m 25s\n",
      "120:\tlearn: 0.1172197\ttotal: 2m 58s\tremaining: 4m 24s\n",
      "121:\tlearn: 0.1170880\ttotal: 3m\tremaining: 4m 22s\n",
      "122:\tlearn: 0.1167976\ttotal: 3m 1s\tremaining: 4m 21s\n",
      "123:\tlearn: 0.1166560\ttotal: 3m 3s\tremaining: 4m 19s\n",
      "124:\tlearn: 0.1163914\ttotal: 3m 4s\tremaining: 4m 18s\n",
      "125:\tlearn: 0.1161007\ttotal: 3m 5s\tremaining: 4m 16s\n",
      "126:\tlearn: 0.1157245\ttotal: 3m 7s\tremaining: 4m 15s\n",
      "127:\tlearn: 0.1154648\ttotal: 3m 8s\tremaining: 4m 13s\n",
      "128:\tlearn: 0.1153331\ttotal: 3m 10s\tremaining: 4m 12s\n",
      "129:\tlearn: 0.1152041\ttotal: 3m 11s\tremaining: 4m 10s\n",
      "130:\tlearn: 0.1150773\ttotal: 3m 13s\tremaining: 4m 9s\n",
      "131:\tlearn: 0.1149101\ttotal: 3m 14s\tremaining: 4m 7s\n",
      "132:\tlearn: 0.1147973\ttotal: 3m 15s\tremaining: 4m 6s\n",
      "133:\tlearn: 0.1145898\ttotal: 3m 17s\tremaining: 4m 4s\n",
      "134:\tlearn: 0.1144604\ttotal: 3m 18s\tremaining: 4m 3s\n",
      "135:\tlearn: 0.1141322\ttotal: 3m 20s\tremaining: 4m 1s\n",
      "136:\tlearn: 0.1138275\ttotal: 3m 21s\tremaining: 4m\n",
      "137:\tlearn: 0.1137068\ttotal: 3m 23s\tremaining: 3m 58s\n",
      "138:\tlearn: 0.1135881\ttotal: 3m 24s\tremaining: 3m 57s\n",
      "139:\tlearn: 0.1134670\ttotal: 3m 26s\tremaining: 3m 55s\n",
      "140:\tlearn: 0.1133373\ttotal: 3m 27s\tremaining: 3m 54s\n",
      "141:\tlearn: 0.1132155\ttotal: 3m 29s\tremaining: 3m 52s\n",
      "142:\tlearn: 0.1130683\ttotal: 3m 30s\tremaining: 3m 51s\n",
      "143:\tlearn: 0.1129346\ttotal: 3m 31s\tremaining: 3m 49s\n",
      "144:\tlearn: 0.1126451\ttotal: 3m 33s\tremaining: 3m 48s\n",
      "145:\tlearn: 0.1125276\ttotal: 3m 34s\tremaining: 3m 46s\n",
      "146:\tlearn: 0.1123922\ttotal: 3m 36s\tremaining: 3m 45s\n",
      "147:\tlearn: 0.1122900\ttotal: 3m 37s\tremaining: 3m 43s\n",
      "148:\tlearn: 0.1120521\ttotal: 3m 39s\tremaining: 3m 42s\n",
      "149:\tlearn: 0.1117191\ttotal: 3m 40s\tremaining: 3m 40s\n",
      "150:\tlearn: 0.1116146\ttotal: 3m 42s\tremaining: 3m 39s\n",
      "151:\tlearn: 0.1112855\ttotal: 3m 43s\tremaining: 3m 38s\n",
      "152:\tlearn: 0.1110443\ttotal: 3m 45s\tremaining: 3m 36s\n",
      "153:\tlearn: 0.1109226\ttotal: 3m 46s\tremaining: 3m 35s\n",
      "154:\tlearn: 0.1108291\ttotal: 3m 48s\tremaining: 3m 33s\n",
      "155:\tlearn: 0.1105101\ttotal: 3m 49s\tremaining: 3m 32s\n",
      "156:\tlearn: 0.1102090\ttotal: 3m 51s\tremaining: 3m 30s\n",
      "157:\tlearn: 0.1099259\ttotal: 3m 52s\tremaining: 3m 29s\n",
      "158:\tlearn: 0.1098210\ttotal: 3m 54s\tremaining: 3m 27s\n",
      "159:\tlearn: 0.1097211\ttotal: 3m 55s\tremaining: 3m 26s\n",
      "160:\tlearn: 0.1093376\ttotal: 3m 57s\tremaining: 3m 24s\n",
      "161:\tlearn: 0.1091371\ttotal: 3m 58s\tremaining: 3m 23s\n",
      "162:\tlearn: 0.1090077\ttotal: 4m\tremaining: 3m 21s\n",
      "163:\tlearn: 0.1088759\ttotal: 4m 1s\tremaining: 3m 20s\n",
      "164:\tlearn: 0.1087580\ttotal: 4m 2s\tremaining: 3m 18s\n",
      "165:\tlearn: 0.1084528\ttotal: 4m 4s\tremaining: 3m 17s\n",
      "166:\tlearn: 0.1083501\ttotal: 4m 5s\tremaining: 3m 15s\n",
      "167:\tlearn: 0.1082444\ttotal: 4m 7s\tremaining: 3m 14s\n",
      "168:\tlearn: 0.1081574\ttotal: 4m 8s\tremaining: 3m 12s\n",
      "169:\tlearn: 0.1080661\ttotal: 4m 10s\tremaining: 3m 11s\n",
      "170:\tlearn: 0.1079574\ttotal: 4m 11s\tremaining: 3m 9s\n",
      "171:\tlearn: 0.1078472\ttotal: 4m 12s\tremaining: 3m 8s\n",
      "172:\tlearn: 0.1077472\ttotal: 4m 14s\tremaining: 3m 6s\n",
      "173:\tlearn: 0.1075924\ttotal: 4m 15s\tremaining: 3m 5s\n",
      "174:\tlearn: 0.1074246\ttotal: 4m 17s\tremaining: 3m 3s\n",
      "175:\tlearn: 0.1072102\ttotal: 4m 18s\tremaining: 3m 2s\n",
      "176:\tlearn: 0.1071188\ttotal: 4m 20s\tremaining: 3m\n",
      "177:\tlearn: 0.1069857\ttotal: 4m 21s\tremaining: 2m 59s\n",
      "178:\tlearn: 0.1067396\ttotal: 4m 23s\tremaining: 2m 58s\n",
      "179:\tlearn: 0.1066496\ttotal: 4m 25s\tremaining: 2m 56s\n",
      "180:\tlearn: 0.1064197\ttotal: 4m 26s\tremaining: 2m 55s\n",
      "181:\tlearn: 0.1063332\ttotal: 4m 28s\tremaining: 2m 53s\n",
      "182:\tlearn: 0.1062537\ttotal: 4m 29s\tremaining: 2m 52s\n",
      "183:\tlearn: 0.1061471\ttotal: 4m 31s\tremaining: 2m 50s\n",
      "184:\tlearn: 0.1060586\ttotal: 4m 32s\tremaining: 2m 49s\n",
      "185:\tlearn: 0.1059775\ttotal: 4m 34s\tremaining: 2m 47s\n",
      "186:\tlearn: 0.1056977\ttotal: 4m 35s\tremaining: 2m 46s\n",
      "187:\tlearn: 0.1056123\ttotal: 4m 37s\tremaining: 2m 45s\n",
      "188:\tlearn: 0.1055281\ttotal: 4m 38s\tremaining: 2m 43s\n",
      "189:\tlearn: 0.1053396\ttotal: 4m 40s\tremaining: 2m 42s\n",
      "190:\tlearn: 0.1052399\ttotal: 4m 41s\tremaining: 2m 40s\n",
      "191:\tlearn: 0.1049824\ttotal: 4m 43s\tremaining: 2m 39s\n",
      "192:\tlearn: 0.1047048\ttotal: 4m 44s\tremaining: 2m 37s\n",
      "193:\tlearn: 0.1045540\ttotal: 4m 46s\tremaining: 2m 36s\n",
      "194:\tlearn: 0.1042729\ttotal: 4m 47s\tremaining: 2m 34s\n",
      "195:\tlearn: 0.1041388\ttotal: 4m 48s\tremaining: 2m 33s\n",
      "196:\tlearn: 0.1039451\ttotal: 4m 50s\tremaining: 2m 31s\n",
      "197:\tlearn: 0.1037518\ttotal: 4m 51s\tremaining: 2m 30s\n",
      "198:\tlearn: 0.1036636\ttotal: 4m 53s\tremaining: 2m 28s\n",
      "199:\tlearn: 0.1035813\ttotal: 4m 54s\tremaining: 2m 27s\n",
      "200:\tlearn: 0.1034965\ttotal: 4m 56s\tremaining: 2m 25s\n",
      "201:\tlearn: 0.1032198\ttotal: 4m 57s\tremaining: 2m 24s\n",
      "202:\tlearn: 0.1031419\ttotal: 4m 59s\tremaining: 2m 22s\n",
      "203:\tlearn: 0.1028516\ttotal: 5m\tremaining: 2m 21s\n",
      "204:\tlearn: 0.1027660\ttotal: 5m 2s\tremaining: 2m 20s\n",
      "205:\tlearn: 0.1025097\ttotal: 5m 3s\tremaining: 2m 18s\n",
      "206:\tlearn: 0.1024157\ttotal: 5m 5s\tremaining: 2m 17s\n",
      "207:\tlearn: 0.1022710\ttotal: 5m 6s\tremaining: 2m 15s\n",
      "208:\tlearn: 0.1021956\ttotal: 5m 8s\tremaining: 2m 14s\n",
      "209:\tlearn: 0.1021191\ttotal: 5m 9s\tremaining: 2m 12s\n",
      "210:\tlearn: 0.1020136\ttotal: 5m 10s\tremaining: 2m 11s\n",
      "211:\tlearn: 0.1018351\ttotal: 5m 12s\tremaining: 2m 9s\n",
      "212:\tlearn: 0.1016172\ttotal: 5m 13s\tremaining: 2m 8s\n",
      "213:\tlearn: 0.1015014\ttotal: 5m 15s\tremaining: 2m 6s\n",
      "214:\tlearn: 0.1010757\ttotal: 5m 16s\tremaining: 2m 5s\n",
      "215:\tlearn: 0.1009594\ttotal: 5m 18s\tremaining: 2m 3s\n",
      "216:\tlearn: 0.1007684\ttotal: 5m 19s\tremaining: 2m 2s\n",
      "217:\tlearn: 0.1006762\ttotal: 5m 21s\tremaining: 2m\n",
      "218:\tlearn: 0.1005898\ttotal: 5m 22s\tremaining: 1m 59s\n",
      "219:\tlearn: 0.1004372\ttotal: 5m 23s\tremaining: 1m 57s\n",
      "220:\tlearn: 0.1003550\ttotal: 5m 25s\tremaining: 1m 56s\n",
      "221:\tlearn: 0.1002731\ttotal: 5m 26s\tremaining: 1m 54s\n",
      "222:\tlearn: 0.1002044\ttotal: 5m 28s\tremaining: 1m 53s\n",
      "223:\tlearn: 0.1001190\ttotal: 5m 29s\tremaining: 1m 51s\n",
      "224:\tlearn: 0.1000385\ttotal: 5m 31s\tremaining: 1m 50s\n",
      "225:\tlearn: 0.0999650\ttotal: 5m 32s\tremaining: 1m 48s\n",
      "226:\tlearn: 0.0998838\ttotal: 5m 34s\tremaining: 1m 47s\n",
      "227:\tlearn: 0.0998058\ttotal: 5m 35s\tremaining: 1m 45s\n",
      "228:\tlearn: 0.0997189\ttotal: 5m 37s\tremaining: 1m 44s\n",
      "229:\tlearn: 0.0994963\ttotal: 5m 38s\tremaining: 1m 43s\n",
      "230:\tlearn: 0.0994211\ttotal: 5m 40s\tremaining: 1m 41s\n",
      "231:\tlearn: 0.0993454\ttotal: 5m 41s\tremaining: 1m 40s\n",
      "232:\tlearn: 0.0992736\ttotal: 5m 43s\tremaining: 1m 38s\n",
      "233:\tlearn: 0.0991046\ttotal: 5m 44s\tremaining: 1m 37s\n",
      "234:\tlearn: 0.0990099\ttotal: 5m 45s\tremaining: 1m 35s\n",
      "235:\tlearn: 0.0989374\ttotal: 5m 47s\tremaining: 1m 34s\n",
      "236:\tlearn: 0.0986719\ttotal: 5m 48s\tremaining: 1m 32s\n",
      "237:\tlearn: 0.0985564\ttotal: 5m 50s\tremaining: 1m 31s\n",
      "238:\tlearn: 0.0984785\ttotal: 5m 51s\tremaining: 1m 29s\n",
      "239:\tlearn: 0.0983966\ttotal: 5m 53s\tremaining: 1m 28s\n",
      "240:\tlearn: 0.0983198\ttotal: 5m 54s\tremaining: 1m 26s\n",
      "241:\tlearn: 0.0981522\ttotal: 5m 56s\tremaining: 1m 25s\n",
      "242:\tlearn: 0.0980494\ttotal: 5m 57s\tremaining: 1m 23s\n",
      "243:\tlearn: 0.0978356\ttotal: 5m 58s\tremaining: 1m 22s\n",
      "244:\tlearn: 0.0977696\ttotal: 6m\tremaining: 1m 20s\n",
      "245:\tlearn: 0.0976541\ttotal: 6m 1s\tremaining: 1m 19s\n",
      "246:\tlearn: 0.0975852\ttotal: 6m 3s\tremaining: 1m 17s\n",
      "247:\tlearn: 0.0975038\ttotal: 6m 4s\tremaining: 1m 16s\n",
      "248:\tlearn: 0.0974291\ttotal: 6m 6s\tremaining: 1m 14s\n",
      "249:\tlearn: 0.0973567\ttotal: 6m 7s\tremaining: 1m 13s\n",
      "250:\tlearn: 0.0970768\ttotal: 6m 8s\tremaining: 1m 12s\n",
      "251:\tlearn: 0.0970037\ttotal: 6m 10s\tremaining: 1m 10s\n",
      "252:\tlearn: 0.0968736\ttotal: 6m 11s\tremaining: 1m 9s\n",
      "253:\tlearn: 0.0967980\ttotal: 6m 13s\tremaining: 1m 7s\n",
      "254:\tlearn: 0.0966527\ttotal: 6m 14s\tremaining: 1m 6s\n",
      "255:\tlearn: 0.0965827\ttotal: 6m 15s\tremaining: 1m 4s\n",
      "256:\tlearn: 0.0964880\ttotal: 6m 17s\tremaining: 1m 3s\n",
      "257:\tlearn: 0.0964133\ttotal: 6m 18s\tremaining: 1m 1s\n",
      "258:\tlearn: 0.0963391\ttotal: 6m 20s\tremaining: 1m\n",
      "259:\tlearn: 0.0962714\ttotal: 6m 21s\tremaining: 58.7s\n",
      "260:\tlearn: 0.0962035\ttotal: 6m 23s\tremaining: 57.2s\n",
      "261:\tlearn: 0.0961359\ttotal: 6m 24s\tremaining: 55.8s\n",
      "262:\tlearn: 0.0960637\ttotal: 6m 25s\tremaining: 54.3s\n",
      "263:\tlearn: 0.0959984\ttotal: 6m 27s\tremaining: 52.8s\n",
      "264:\tlearn: 0.0959278\ttotal: 6m 28s\tremaining: 51.3s\n",
      "265:\tlearn: 0.0958587\ttotal: 6m 30s\tremaining: 49.9s\n",
      "266:\tlearn: 0.0957955\ttotal: 6m 31s\tremaining: 48.4s\n",
      "267:\tlearn: 0.0957233\ttotal: 6m 32s\tremaining: 46.9s\n",
      "268:\tlearn: 0.0956140\ttotal: 6m 34s\tremaining: 45.4s\n",
      "269:\tlearn: 0.0955478\ttotal: 6m 35s\tremaining: 44s\n",
      "270:\tlearn: 0.0954829\ttotal: 6m 37s\tremaining: 42.5s\n",
      "271:\tlearn: 0.0954152\ttotal: 6m 38s\tremaining: 41s\n",
      "272:\tlearn: 0.0952347\ttotal: 6m 40s\tremaining: 39.6s\n",
      "273:\tlearn: 0.0951360\ttotal: 6m 41s\tremaining: 38.1s\n",
      "274:\tlearn: 0.0950577\ttotal: 6m 42s\tremaining: 36.6s\n",
      "275:\tlearn: 0.0949632\ttotal: 6m 44s\tremaining: 35.2s\n",
      "276:\tlearn: 0.0947361\ttotal: 6m 45s\tremaining: 33.7s\n",
      "277:\tlearn: 0.0946688\ttotal: 6m 47s\tremaining: 32.2s\n",
      "278:\tlearn: 0.0945935\ttotal: 6m 48s\tremaining: 30.8s\n",
      "279:\tlearn: 0.0945267\ttotal: 6m 50s\tremaining: 29.3s\n",
      "280:\tlearn: 0.0944645\ttotal: 6m 51s\tremaining: 27.8s\n",
      "281:\tlearn: 0.0943999\ttotal: 6m 52s\tremaining: 26.4s\n",
      "282:\tlearn: 0.0941738\ttotal: 6m 54s\tremaining: 24.9s\n",
      "283:\tlearn: 0.0940104\ttotal: 6m 55s\tremaining: 23.4s\n",
      "284:\tlearn: 0.0939437\ttotal: 6m 57s\tremaining: 22s\n",
      "285:\tlearn: 0.0938747\ttotal: 6m 58s\tremaining: 20.5s\n",
      "286:\tlearn: 0.0938116\ttotal: 7m\tremaining: 19s\n",
      "287:\tlearn: 0.0937449\ttotal: 7m 1s\tremaining: 17.6s\n",
      "288:\tlearn: 0.0936735\ttotal: 7m 2s\tremaining: 16.1s\n",
      "289:\tlearn: 0.0936148\ttotal: 7m 4s\tremaining: 14.6s\n",
      "290:\tlearn: 0.0935514\ttotal: 7m 5s\tremaining: 13.2s\n",
      "291:\tlearn: 0.0934813\ttotal: 7m 7s\tremaining: 11.7s\n",
      "292:\tlearn: 0.0934135\ttotal: 7m 8s\tremaining: 10.2s\n",
      "293:\tlearn: 0.0933456\ttotal: 7m 10s\tremaining: 8.78s\n",
      "294:\tlearn: 0.0932811\ttotal: 7m 11s\tremaining: 7.31s\n",
      "295:\tlearn: 0.0932176\ttotal: 7m 12s\tremaining: 5.85s\n",
      "296:\tlearn: 0.0931503\ttotal: 7m 14s\tremaining: 4.39s\n",
      "297:\tlearn: 0.0930846\ttotal: 7m 15s\tremaining: 2.92s\n",
      "298:\tlearn: 0.0929798\ttotal: 7m 17s\tremaining: 1.46s\n",
      "299:\tlearn: 0.0929090\ttotal: 7m 18s\tremaining: 0us\n",
      "0:\tlearn: 0.3845927\ttotal: 2.13s\tremaining: 10m 37s\n",
      "1:\tlearn: 0.2857953\ttotal: 3.78s\tremaining: 9m 23s\n",
      "2:\tlearn: 0.2512592\ttotal: 5.41s\tremaining: 8m 55s\n",
      "3:\tlearn: 0.2316018\ttotal: 7.03s\tremaining: 8m 40s\n",
      "4:\tlearn: 0.2213708\ttotal: 8.66s\tremaining: 8m 31s\n",
      "5:\tlearn: 0.2145734\ttotal: 10.2s\tremaining: 8m 20s\n",
      "6:\tlearn: 0.2094836\ttotal: 11.8s\tremaining: 8m 13s\n",
      "7:\tlearn: 0.2052215\ttotal: 13.3s\tremaining: 8m 6s\n",
      "8:\tlearn: 0.2010355\ttotal: 14.9s\tremaining: 8m\n",
      "9:\tlearn: 0.1973022\ttotal: 16.4s\tremaining: 7m 57s\n",
      "10:\tlearn: 0.1935570\ttotal: 18.1s\tremaining: 7m 55s\n",
      "11:\tlearn: 0.1902677\ttotal: 19.7s\tremaining: 7m 51s\n",
      "12:\tlearn: 0.1860315\ttotal: 21.2s\tremaining: 7m 47s\n",
      "13:\tlearn: 0.1838971\ttotal: 22.7s\tremaining: 7m 42s\n",
      "14:\tlearn: 0.1813604\ttotal: 24.2s\tremaining: 7m 39s\n",
      "15:\tlearn: 0.1798781\ttotal: 25.7s\tremaining: 7m 36s\n",
      "16:\tlearn: 0.1782034\ttotal: 27.3s\tremaining: 7m 34s\n",
      "17:\tlearn: 0.1756183\ttotal: 28.8s\tremaining: 7m 31s\n",
      "18:\tlearn: 0.1743614\ttotal: 30.3s\tremaining: 7m 28s\n",
      "19:\tlearn: 0.1723681\ttotal: 31.8s\tremaining: 7m 24s\n",
      "20:\tlearn: 0.1706050\ttotal: 33.2s\tremaining: 7m 21s\n",
      "21:\tlearn: 0.1688946\ttotal: 34.7s\tremaining: 7m 18s\n",
      "22:\tlearn: 0.1677265\ttotal: 36.2s\tremaining: 7m 16s\n",
      "23:\tlearn: 0.1664554\ttotal: 37.8s\tremaining: 7m 15s\n",
      "24:\tlearn: 0.1649829\ttotal: 39.3s\tremaining: 7m 12s\n",
      "25:\tlearn: 0.1636118\ttotal: 40.8s\tremaining: 7m 9s\n",
      "26:\tlearn: 0.1624618\ttotal: 42.3s\tremaining: 7m 7s\n",
      "27:\tlearn: 0.1611725\ttotal: 43.9s\tremaining: 7m 6s\n",
      "28:\tlearn: 0.1596873\ttotal: 45.4s\tremaining: 7m 4s\n",
      "29:\tlearn: 0.1585923\ttotal: 47s\tremaining: 7m 2s\n",
      "30:\tlearn: 0.1577665\ttotal: 48.5s\tremaining: 7m 1s\n",
      "31:\tlearn: 0.1568020\ttotal: 50s\tremaining: 6m 59s\n",
      "32:\tlearn: 0.1559137\ttotal: 51.5s\tremaining: 6m 56s\n",
      "33:\tlearn: 0.1549203\ttotal: 52.9s\tremaining: 6m 54s\n",
      "34:\tlearn: 0.1538164\ttotal: 54.4s\tremaining: 6m 52s\n",
      "35:\tlearn: 0.1529581\ttotal: 55.9s\tremaining: 6m 50s\n",
      "36:\tlearn: 0.1518112\ttotal: 57.5s\tremaining: 6m 48s\n",
      "37:\tlearn: 0.1509339\ttotal: 59s\tremaining: 6m 46s\n",
      "38:\tlearn: 0.1503330\ttotal: 1m\tremaining: 6m 44s\n",
      "39:\tlearn: 0.1494745\ttotal: 1m 1s\tremaining: 6m 42s\n",
      "40:\tlearn: 0.1487746\ttotal: 1m 3s\tremaining: 6m 40s\n",
      "41:\tlearn: 0.1480201\ttotal: 1m 4s\tremaining: 6m 38s\n",
      "42:\tlearn: 0.1471456\ttotal: 1m 6s\tremaining: 6m 36s\n",
      "43:\tlearn: 0.1462655\ttotal: 1m 7s\tremaining: 6m 35s\n",
      "44:\tlearn: 0.1457764\ttotal: 1m 9s\tremaining: 6m 33s\n",
      "45:\tlearn: 0.1452887\ttotal: 1m 10s\tremaining: 6m 31s\n",
      "46:\tlearn: 0.1444289\ttotal: 1m 12s\tremaining: 6m 29s\n",
      "47:\tlearn: 0.1439128\ttotal: 1m 13s\tremaining: 6m 27s\n",
      "48:\tlearn: 0.1433189\ttotal: 1m 15s\tremaining: 6m 24s\n",
      "49:\tlearn: 0.1428418\ttotal: 1m 16s\tremaining: 6m 23s\n",
      "50:\tlearn: 0.1420951\ttotal: 1m 18s\tremaining: 6m 22s\n",
      "51:\tlearn: 0.1415690\ttotal: 1m 19s\tremaining: 6m 20s\n",
      "52:\tlearn: 0.1410920\ttotal: 1m 21s\tremaining: 6m 18s\n",
      "53:\tlearn: 0.1405248\ttotal: 1m 22s\tremaining: 6m 17s\n",
      "54:\tlearn: 0.1401603\ttotal: 1m 24s\tremaining: 6m 15s\n",
      "55:\tlearn: 0.1396954\ttotal: 1m 25s\tremaining: 6m 13s\n",
      "56:\tlearn: 0.1390618\ttotal: 1m 27s\tremaining: 6m 12s\n",
      "57:\tlearn: 0.1387252\ttotal: 1m 29s\tremaining: 6m 11s\n",
      "58:\tlearn: 0.1381060\ttotal: 1m 30s\tremaining: 6m 10s\n",
      "59:\tlearn: 0.1377977\ttotal: 1m 32s\tremaining: 6m 9s\n",
      "60:\tlearn: 0.1375010\ttotal: 1m 33s\tremaining: 6m 7s\n",
      "61:\tlearn: 0.1370616\ttotal: 1m 35s\tremaining: 6m 5s\n",
      "62:\tlearn: 0.1364955\ttotal: 1m 36s\tremaining: 6m 4s\n",
      "63:\tlearn: 0.1359795\ttotal: 1m 38s\tremaining: 6m 2s\n",
      "64:\tlearn: 0.1355948\ttotal: 1m 39s\tremaining: 6m 1s\n",
      "65:\tlearn: 0.1350915\ttotal: 1m 41s\tremaining: 5m 59s\n",
      "66:\tlearn: 0.1348015\ttotal: 1m 42s\tremaining: 5m 57s\n",
      "67:\tlearn: 0.1337299\ttotal: 1m 44s\tremaining: 5m 56s\n",
      "68:\tlearn: 0.1334690\ttotal: 1m 46s\tremaining: 5m 55s\n",
      "69:\tlearn: 0.1331853\ttotal: 1m 47s\tremaining: 5m 53s\n",
      "70:\tlearn: 0.1327386\ttotal: 1m 49s\tremaining: 5m 52s\n",
      "71:\tlearn: 0.1321960\ttotal: 1m 50s\tremaining: 5m 50s\n",
      "72:\tlearn: 0.1319587\ttotal: 1m 52s\tremaining: 5m 49s\n",
      "73:\tlearn: 0.1316437\ttotal: 1m 53s\tremaining: 5m 47s\n",
      "74:\tlearn: 0.1314297\ttotal: 1m 55s\tremaining: 5m 45s\n",
      "75:\tlearn: 0.1309230\ttotal: 1m 56s\tremaining: 5m 43s\n",
      "76:\tlearn: 0.1307072\ttotal: 1m 58s\tremaining: 5m 42s\n",
      "77:\tlearn: 0.1300357\ttotal: 1m 59s\tremaining: 5m 40s\n",
      "78:\tlearn: 0.1298135\ttotal: 2m 1s\tremaining: 5m 38s\n",
      "79:\tlearn: 0.1293148\ttotal: 2m 2s\tremaining: 5m 37s\n",
      "80:\tlearn: 0.1289588\ttotal: 2m 4s\tremaining: 5m 35s\n",
      "81:\tlearn: 0.1287462\ttotal: 2m 5s\tremaining: 5m 33s\n",
      "82:\tlearn: 0.1285390\ttotal: 2m 6s\tremaining: 5m 31s\n",
      "83:\tlearn: 0.1281946\ttotal: 2m 8s\tremaining: 5m 30s\n",
      "84:\tlearn: 0.1278388\ttotal: 2m 9s\tremaining: 5m 28s\n",
      "85:\tlearn: 0.1275415\ttotal: 2m 11s\tremaining: 5m 26s\n",
      "86:\tlearn: 0.1271098\ttotal: 2m 12s\tremaining: 5m 25s\n",
      "87:\tlearn: 0.1266674\ttotal: 2m 14s\tremaining: 5m 23s\n",
      "88:\tlearn: 0.1261048\ttotal: 2m 16s\tremaining: 5m 22s\n",
      "89:\tlearn: 0.1257103\ttotal: 2m 17s\tremaining: 5m 21s\n",
      "90:\tlearn: 0.1254907\ttotal: 2m 19s\tremaining: 5m 19s\n",
      "91:\tlearn: 0.1251377\ttotal: 2m 20s\tremaining: 5m 18s\n",
      "92:\tlearn: 0.1249385\ttotal: 2m 22s\tremaining: 5m 16s\n",
      "93:\tlearn: 0.1247480\ttotal: 2m 23s\tremaining: 5m 14s\n",
      "94:\tlearn: 0.1245467\ttotal: 2m 25s\tremaining: 5m 12s\n",
      "95:\tlearn: 0.1243649\ttotal: 2m 26s\tremaining: 5m 11s\n",
      "96:\tlearn: 0.1241620\ttotal: 2m 27s\tremaining: 5m 9s\n",
      "97:\tlearn: 0.1239741\ttotal: 2m 29s\tremaining: 5m 7s\n",
      "98:\tlearn: 0.1237955\ttotal: 2m 30s\tremaining: 5m 6s\n",
      "99:\tlearn: 0.1234036\ttotal: 2m 32s\tremaining: 5m 4s\n",
      "100:\tlearn: 0.1232206\ttotal: 2m 33s\tremaining: 5m 2s\n",
      "101:\tlearn: 0.1227024\ttotal: 2m 35s\tremaining: 5m 1s\n",
      "102:\tlearn: 0.1225024\ttotal: 2m 36s\tremaining: 4m 59s\n",
      "103:\tlearn: 0.1223026\ttotal: 2m 38s\tremaining: 4m 57s\n",
      "104:\tlearn: 0.1219716\ttotal: 2m 39s\tremaining: 4m 56s\n",
      "105:\tlearn: 0.1218003\ttotal: 2m 41s\tremaining: 4m 54s\n",
      "106:\tlearn: 0.1216087\ttotal: 2m 42s\tremaining: 4m 53s\n",
      "107:\tlearn: 0.1214251\ttotal: 2m 44s\tremaining: 4m 51s\n",
      "108:\tlearn: 0.1210933\ttotal: 2m 45s\tremaining: 4m 50s\n",
      "109:\tlearn: 0.1206140\ttotal: 2m 47s\tremaining: 4m 49s\n",
      "110:\tlearn: 0.1204382\ttotal: 2m 48s\tremaining: 4m 47s\n",
      "111:\tlearn: 0.1202677\ttotal: 2m 50s\tremaining: 4m 45s\n",
      "112:\tlearn: 0.1201118\ttotal: 2m 51s\tremaining: 4m 44s\n",
      "113:\tlearn: 0.1196657\ttotal: 2m 53s\tremaining: 4m 42s\n",
      "114:\tlearn: 0.1195064\ttotal: 2m 54s\tremaining: 4m 41s\n",
      "115:\tlearn: 0.1191637\ttotal: 2m 56s\tremaining: 4m 39s\n",
      "116:\tlearn: 0.1188970\ttotal: 2m 57s\tremaining: 4m 38s\n",
      "117:\tlearn: 0.1187501\ttotal: 2m 59s\tremaining: 4m 36s\n",
      "118:\tlearn: 0.1186024\ttotal: 3m\tremaining: 4m 34s\n",
      "119:\tlearn: 0.1182857\ttotal: 3m 2s\tremaining: 4m 33s\n",
      "120:\tlearn: 0.1181279\ttotal: 3m 3s\tremaining: 4m 31s\n",
      "121:\tlearn: 0.1177149\ttotal: 3m 5s\tremaining: 4m 30s\n",
      "122:\tlearn: 0.1175655\ttotal: 3m 6s\tremaining: 4m 28s\n",
      "123:\tlearn: 0.1174106\ttotal: 3m 8s\tremaining: 4m 26s\n",
      "124:\tlearn: 0.1172737\ttotal: 3m 9s\tremaining: 4m 25s\n",
      "125:\tlearn: 0.1168614\ttotal: 3m 11s\tremaining: 4m 23s\n",
      "126:\tlearn: 0.1165216\ttotal: 3m 12s\tremaining: 4m 22s\n",
      "127:\tlearn: 0.1160031\ttotal: 3m 14s\tremaining: 4m 21s\n",
      "128:\tlearn: 0.1158566\ttotal: 3m 15s\tremaining: 4m 19s\n",
      "129:\tlearn: 0.1157260\ttotal: 3m 17s\tremaining: 4m 18s\n",
      "130:\tlearn: 0.1155890\ttotal: 3m 19s\tremaining: 4m 16s\n",
      "131:\tlearn: 0.1152116\ttotal: 3m 20s\tremaining: 4m 15s\n",
      "132:\tlearn: 0.1150819\ttotal: 3m 22s\tremaining: 4m 14s\n",
      "133:\tlearn: 0.1149467\ttotal: 3m 24s\tremaining: 4m 12s\n",
      "134:\tlearn: 0.1148244\ttotal: 3m 25s\tremaining: 4m 11s\n",
      "135:\tlearn: 0.1143818\ttotal: 3m 27s\tremaining: 4m 10s\n",
      "136:\tlearn: 0.1140421\ttotal: 3m 28s\tremaining: 4m 8s\n",
      "137:\tlearn: 0.1139065\ttotal: 3m 30s\tremaining: 4m 6s\n",
      "138:\tlearn: 0.1135203\ttotal: 3m 31s\tremaining: 4m 5s\n",
      "139:\tlearn: 0.1134034\ttotal: 3m 33s\tremaining: 4m 3s\n",
      "140:\tlearn: 0.1132759\ttotal: 3m 34s\tremaining: 4m 2s\n",
      "141:\tlearn: 0.1131708\ttotal: 3m 36s\tremaining: 4m\n",
      "142:\tlearn: 0.1130513\ttotal: 3m 37s\tremaining: 3m 58s\n",
      "143:\tlearn: 0.1128672\ttotal: 3m 39s\tremaining: 3m 57s\n",
      "144:\tlearn: 0.1126340\ttotal: 3m 40s\tremaining: 3m 55s\n",
      "145:\tlearn: 0.1125226\ttotal: 3m 42s\tremaining: 3m 54s\n",
      "146:\tlearn: 0.1124110\ttotal: 3m 43s\tremaining: 3m 52s\n",
      "147:\tlearn: 0.1123005\ttotal: 3m 45s\tremaining: 3m 51s\n",
      "148:\tlearn: 0.1120035\ttotal: 3m 46s\tremaining: 3m 49s\n",
      "149:\tlearn: 0.1119047\ttotal: 3m 48s\tremaining: 3m 48s\n",
      "150:\tlearn: 0.1117873\ttotal: 3m 49s\tremaining: 3m 46s\n",
      "151:\tlearn: 0.1116526\ttotal: 3m 51s\tremaining: 3m 45s\n",
      "152:\tlearn: 0.1112265\ttotal: 3m 52s\tremaining: 3m 43s\n",
      "153:\tlearn: 0.1108470\ttotal: 3m 54s\tremaining: 3m 42s\n",
      "154:\tlearn: 0.1107414\ttotal: 3m 55s\tremaining: 3m 40s\n",
      "155:\tlearn: 0.1104284\ttotal: 3m 57s\tremaining: 3m 39s\n",
      "156:\tlearn: 0.1103213\ttotal: 3m 58s\tremaining: 3m 37s\n",
      "157:\tlearn: 0.1101582\ttotal: 4m\tremaining: 3m 35s\n",
      "158:\tlearn: 0.1097152\ttotal: 4m 1s\tremaining: 3m 34s\n",
      "159:\tlearn: 0.1096007\ttotal: 4m 3s\tremaining: 3m 32s\n",
      "160:\tlearn: 0.1094952\ttotal: 4m 4s\tremaining: 3m 31s\n",
      "161:\tlearn: 0.1092047\ttotal: 4m 6s\tremaining: 3m 29s\n",
      "162:\tlearn: 0.1091018\ttotal: 4m 7s\tremaining: 3m 28s\n",
      "163:\tlearn: 0.1089959\ttotal: 4m 9s\tremaining: 3m 26s\n",
      "164:\tlearn: 0.1089001\ttotal: 4m 10s\tremaining: 3m 25s\n",
      "165:\tlearn: 0.1087687\ttotal: 4m 12s\tremaining: 3m 23s\n",
      "166:\tlearn: 0.1085466\ttotal: 4m 13s\tremaining: 3m 21s\n",
      "167:\tlearn: 0.1084367\ttotal: 4m 15s\tremaining: 3m 20s\n",
      "168:\tlearn: 0.1083431\ttotal: 4m 16s\tremaining: 3m 18s\n",
      "169:\tlearn: 0.1081009\ttotal: 4m 18s\tremaining: 3m 17s\n",
      "170:\tlearn: 0.1079968\ttotal: 4m 19s\tremaining: 3m 15s\n",
      "171:\tlearn: 0.1076883\ttotal: 4m 20s\tremaining: 3m 14s\n",
      "172:\tlearn: 0.1074062\ttotal: 4m 22s\tremaining: 3m 12s\n",
      "173:\tlearn: 0.1071348\ttotal: 4m 23s\tremaining: 3m 11s\n",
      "174:\tlearn: 0.1070365\ttotal: 4m 25s\tremaining: 3m 9s\n",
      "175:\tlearn: 0.1066182\ttotal: 4m 27s\tremaining: 3m 8s\n",
      "176:\tlearn: 0.1065274\ttotal: 4m 28s\tremaining: 3m 6s\n",
      "177:\tlearn: 0.1062593\ttotal: 4m 29s\tremaining: 3m 5s\n",
      "178:\tlearn: 0.1061591\ttotal: 4m 31s\tremaining: 3m 3s\n",
      "179:\tlearn: 0.1058861\ttotal: 4m 32s\tremaining: 3m 1s\n",
      "180:\tlearn: 0.1057273\ttotal: 4m 34s\tremaining: 3m\n",
      "181:\tlearn: 0.1055965\ttotal: 4m 35s\tremaining: 2m 58s\n",
      "182:\tlearn: 0.1053945\ttotal: 4m 37s\tremaining: 2m 57s\n",
      "183:\tlearn: 0.1052929\ttotal: 4m 38s\tremaining: 2m 55s\n",
      "184:\tlearn: 0.1051916\ttotal: 4m 40s\tremaining: 2m 54s\n",
      "185:\tlearn: 0.1050905\ttotal: 4m 41s\tremaining: 2m 52s\n",
      "186:\tlearn: 0.1048673\ttotal: 4m 42s\tremaining: 2m 51s\n",
      "187:\tlearn: 0.1046306\ttotal: 4m 44s\tremaining: 2m 49s\n",
      "188:\tlearn: 0.1045350\ttotal: 4m 45s\tremaining: 2m 47s\n",
      "189:\tlearn: 0.1044549\ttotal: 4m 47s\tremaining: 2m 46s\n",
      "190:\tlearn: 0.1041461\ttotal: 4m 48s\tremaining: 2m 44s\n",
      "191:\tlearn: 0.1040359\ttotal: 4m 50s\tremaining: 2m 43s\n",
      "192:\tlearn: 0.1039461\ttotal: 4m 51s\tremaining: 2m 41s\n",
      "193:\tlearn: 0.1038624\ttotal: 4m 52s\tremaining: 2m 40s\n",
      "194:\tlearn: 0.1037610\ttotal: 4m 54s\tremaining: 2m 38s\n",
      "195:\tlearn: 0.1035451\ttotal: 4m 55s\tremaining: 2m 36s\n",
      "196:\tlearn: 0.1034287\ttotal: 4m 57s\tremaining: 2m 35s\n",
      "197:\tlearn: 0.1031258\ttotal: 4m 58s\tremaining: 2m 33s\n",
      "198:\tlearn: 0.1029952\ttotal: 5m\tremaining: 2m 32s\n",
      "199:\tlearn: 0.1028870\ttotal: 5m 1s\tremaining: 2m 30s\n",
      "200:\tlearn: 0.1026264\ttotal: 5m 3s\tremaining: 2m 29s\n",
      "201:\tlearn: 0.1025369\ttotal: 5m 4s\tremaining: 2m 27s\n",
      "202:\tlearn: 0.1023825\ttotal: 5m 6s\tremaining: 2m 26s\n",
      "203:\tlearn: 0.1021843\ttotal: 5m 7s\tremaining: 2m 24s\n",
      "204:\tlearn: 0.1019854\ttotal: 5m 9s\tremaining: 2m 23s\n",
      "205:\tlearn: 0.1016929\ttotal: 5m 10s\tremaining: 2m 21s\n",
      "206:\tlearn: 0.1016067\ttotal: 5m 12s\tremaining: 2m 20s\n",
      "207:\tlearn: 0.1014685\ttotal: 5m 13s\tremaining: 2m 18s\n",
      "208:\tlearn: 0.1011684\ttotal: 5m 14s\tremaining: 2m 17s\n",
      "209:\tlearn: 0.1010850\ttotal: 5m 16s\tremaining: 2m 15s\n",
      "210:\tlearn: 0.1009982\ttotal: 5m 17s\tremaining: 2m 14s\n",
      "211:\tlearn: 0.1009241\ttotal: 5m 19s\tremaining: 2m 12s\n",
      "212:\tlearn: 0.1007511\ttotal: 5m 20s\tremaining: 2m 10s\n",
      "213:\tlearn: 0.1004809\ttotal: 5m 22s\tremaining: 2m 9s\n",
      "214:\tlearn: 0.1001751\ttotal: 5m 23s\tremaining: 2m 7s\n",
      "215:\tlearn: 0.1000889\ttotal: 5m 24s\tremaining: 2m 6s\n",
      "216:\tlearn: 0.1000124\ttotal: 5m 26s\tremaining: 2m 4s\n",
      "217:\tlearn: 0.0999382\ttotal: 5m 27s\tremaining: 2m 3s\n",
      "218:\tlearn: 0.0998565\ttotal: 5m 28s\tremaining: 2m 1s\n",
      "219:\tlearn: 0.0996723\ttotal: 5m 30s\tremaining: 2m\n",
      "220:\tlearn: 0.0995970\ttotal: 5m 31s\tremaining: 1m 58s\n",
      "221:\tlearn: 0.0993624\ttotal: 5m 33s\tremaining: 1m 57s\n",
      "222:\tlearn: 0.0992636\ttotal: 5m 34s\tremaining: 1m 55s\n",
      "223:\tlearn: 0.0990087\ttotal: 5m 35s\tremaining: 1m 53s\n",
      "224:\tlearn: 0.0987031\ttotal: 5m 37s\tremaining: 1m 52s\n",
      "225:\tlearn: 0.0985571\ttotal: 5m 38s\tremaining: 1m 50s\n",
      "226:\tlearn: 0.0984607\ttotal: 5m 40s\tremaining: 1m 49s\n",
      "227:\tlearn: 0.0982351\ttotal: 5m 41s\tremaining: 1m 47s\n",
      "228:\tlearn: 0.0981543\ttotal: 5m 43s\tremaining: 1m 46s\n",
      "229:\tlearn: 0.0979608\ttotal: 5m 44s\tremaining: 1m 44s\n",
      "230:\tlearn: 0.0977801\ttotal: 5m 46s\tremaining: 1m 43s\n",
      "231:\tlearn: 0.0976952\ttotal: 5m 47s\tremaining: 1m 41s\n",
      "232:\tlearn: 0.0976154\ttotal: 5m 48s\tremaining: 1m 40s\n",
      "233:\tlearn: 0.0975401\ttotal: 5m 50s\tremaining: 1m 38s\n",
      "234:\tlearn: 0.0972988\ttotal: 5m 51s\tremaining: 1m 37s\n",
      "235:\tlearn: 0.0972208\ttotal: 5m 52s\tremaining: 1m 35s\n",
      "236:\tlearn: 0.0971373\ttotal: 5m 54s\tremaining: 1m 34s\n",
      "237:\tlearn: 0.0970576\ttotal: 5m 55s\tremaining: 1m 32s\n",
      "238:\tlearn: 0.0969775\ttotal: 5m 57s\tremaining: 1m 31s\n",
      "239:\tlearn: 0.0965220\ttotal: 5m 58s\tremaining: 1m 29s\n",
      "240:\tlearn: 0.0964396\ttotal: 5m 59s\tremaining: 1m 28s\n",
      "241:\tlearn: 0.0963661\ttotal: 6m 1s\tremaining: 1m 26s\n",
      "242:\tlearn: 0.0962884\ttotal: 6m 2s\tremaining: 1m 25s\n",
      "243:\tlearn: 0.0962060\ttotal: 6m 3s\tremaining: 1m 23s\n",
      "244:\tlearn: 0.0960615\ttotal: 6m 5s\tremaining: 1m 22s\n",
      "245:\tlearn: 0.0959034\ttotal: 6m 6s\tremaining: 1m 20s\n",
      "246:\tlearn: 0.0957953\ttotal: 6m 8s\tremaining: 1m 18s\n",
      "247:\tlearn: 0.0957044\ttotal: 6m 9s\tremaining: 1m 17s\n",
      "248:\tlearn: 0.0956299\ttotal: 6m 10s\tremaining: 1m 15s\n",
      "249:\tlearn: 0.0955439\ttotal: 6m 12s\tremaining: 1m 14s\n",
      "250:\tlearn: 0.0954491\ttotal: 6m 13s\tremaining: 1m 12s\n",
      "251:\tlearn: 0.0952730\ttotal: 6m 15s\tremaining: 1m 11s\n",
      "252:\tlearn: 0.0951989\ttotal: 6m 16s\tremaining: 1m 9s\n",
      "253:\tlearn: 0.0951305\ttotal: 6m 18s\tremaining: 1m 8s\n",
      "254:\tlearn: 0.0950543\ttotal: 6m 19s\tremaining: 1m 6s\n",
      "255:\tlearn: 0.0949695\ttotal: 6m 20s\tremaining: 1m 5s\n",
      "256:\tlearn: 0.0948928\ttotal: 6m 22s\tremaining: 1m 3s\n",
      "257:\tlearn: 0.0948173\ttotal: 6m 23s\tremaining: 1m 2s\n",
      "258:\tlearn: 0.0947433\ttotal: 6m 24s\tremaining: 1m\n",
      "259:\tlearn: 0.0946696\ttotal: 6m 26s\tremaining: 59.4s\n",
      "260:\tlearn: 0.0945986\ttotal: 6m 27s\tremaining: 57.9s\n",
      "261:\tlearn: 0.0945173\ttotal: 6m 28s\tremaining: 56.4s\n",
      "262:\tlearn: 0.0943060\ttotal: 6m 30s\tremaining: 54.9s\n",
      "263:\tlearn: 0.0942291\ttotal: 6m 31s\tremaining: 53.4s\n",
      "264:\tlearn: 0.0941555\ttotal: 6m 32s\tremaining: 51.9s\n",
      "265:\tlearn: 0.0940869\ttotal: 6m 34s\tremaining: 50.4s\n",
      "266:\tlearn: 0.0940168\ttotal: 6m 35s\tremaining: 48.9s\n",
      "267:\tlearn: 0.0939505\ttotal: 6m 36s\tremaining: 47.4s\n",
      "268:\tlearn: 0.0938815\ttotal: 6m 38s\tremaining: 45.9s\n",
      "269:\tlearn: 0.0937049\ttotal: 6m 39s\tremaining: 44.4s\n",
      "270:\tlearn: 0.0936316\ttotal: 6m 40s\tremaining: 42.9s\n",
      "271:\tlearn: 0.0935592\ttotal: 6m 42s\tremaining: 41.4s\n",
      "272:\tlearn: 0.0934927\ttotal: 6m 43s\tremaining: 39.9s\n",
      "273:\tlearn: 0.0934267\ttotal: 6m 45s\tremaining: 38.5s\n",
      "274:\tlearn: 0.0933597\ttotal: 6m 46s\tremaining: 37s\n",
      "275:\tlearn: 0.0932876\ttotal: 6m 48s\tremaining: 35.5s\n",
      "276:\tlearn: 0.0932235\ttotal: 6m 49s\tremaining: 34s\n",
      "277:\tlearn: 0.0931540\ttotal: 6m 50s\tremaining: 32.5s\n",
      "278:\tlearn: 0.0930298\ttotal: 6m 52s\tremaining: 31s\n",
      "279:\tlearn: 0.0929624\ttotal: 6m 53s\tremaining: 29.5s\n",
      "280:\tlearn: 0.0928970\ttotal: 6m 54s\tremaining: 28s\n",
      "281:\tlearn: 0.0927393\ttotal: 6m 56s\tremaining: 26.6s\n",
      "282:\tlearn: 0.0926549\ttotal: 6m 57s\tremaining: 25.1s\n",
      "283:\tlearn: 0.0925886\ttotal: 6m 58s\tremaining: 23.6s\n",
      "284:\tlearn: 0.0925200\ttotal: 7m\tremaining: 22.1s\n",
      "285:\tlearn: 0.0924507\ttotal: 7m 1s\tremaining: 20.6s\n",
      "286:\tlearn: 0.0923857\ttotal: 7m 2s\tremaining: 19.2s\n",
      "287:\tlearn: 0.0921927\ttotal: 7m 4s\tremaining: 17.7s\n",
      "288:\tlearn: 0.0921223\ttotal: 7m 5s\tremaining: 16.2s\n",
      "289:\tlearn: 0.0920489\ttotal: 7m 7s\tremaining: 14.7s\n",
      "290:\tlearn: 0.0919855\ttotal: 7m 8s\tremaining: 13.2s\n",
      "291:\tlearn: 0.0919177\ttotal: 7m 9s\tremaining: 11.8s\n",
      "292:\tlearn: 0.0918537\ttotal: 7m 11s\tremaining: 10.3s\n",
      "293:\tlearn: 0.0915913\ttotal: 7m 12s\tremaining: 8.83s\n",
      "294:\tlearn: 0.0915210\ttotal: 7m 14s\tremaining: 7.36s\n",
      "295:\tlearn: 0.0912932\ttotal: 7m 15s\tremaining: 5.89s\n",
      "296:\tlearn: 0.0912232\ttotal: 7m 17s\tremaining: 4.42s\n",
      "297:\tlearn: 0.0911570\ttotal: 7m 18s\tremaining: 2.94s\n",
      "298:\tlearn: 0.0910643\ttotal: 7m 19s\tremaining: 1.47s\n",
      "299:\tlearn: 0.0909411\ttotal: 7m 21s\tremaining: 0us\n",
      "0:\tlearn: 0.3851134\ttotal: 2.07s\tremaining: 10m 20s\n",
      "1:\tlearn: 0.2785634\ttotal: 3.65s\tremaining: 9m 4s\n",
      "2:\tlearn: 0.2459537\ttotal: 5.28s\tremaining: 8m 43s\n",
      "3:\tlearn: 0.2285978\ttotal: 6.77s\tremaining: 8m 20s\n",
      "4:\tlearn: 0.2190235\ttotal: 8.23s\tremaining: 8m 5s\n",
      "5:\tlearn: 0.2126712\ttotal: 9.68s\tremaining: 7m 54s\n",
      "6:\tlearn: 0.2078396\ttotal: 11.1s\tremaining: 7m 46s\n",
      "7:\tlearn: 0.2034797\ttotal: 12.6s\tremaining: 7m 39s\n",
      "8:\tlearn: 0.1986398\ttotal: 14.1s\tremaining: 7m 35s\n",
      "9:\tlearn: 0.1950173\ttotal: 15.6s\tremaining: 7m 33s\n",
      "10:\tlearn: 0.1914147\ttotal: 17.1s\tremaining: 7m 29s\n",
      "11:\tlearn: 0.1875291\ttotal: 18.5s\tremaining: 7m 24s\n",
      "12:\tlearn: 0.1845565\ttotal: 19.9s\tremaining: 7m 20s\n",
      "13:\tlearn: 0.1818583\ttotal: 21.4s\tremaining: 7m 18s\n",
      "14:\tlearn: 0.1794981\ttotal: 22.8s\tremaining: 7m 13s\n",
      "15:\tlearn: 0.1775677\ttotal: 24.2s\tremaining: 7m 9s\n",
      "16:\tlearn: 0.1757192\ttotal: 25.7s\tremaining: 7m 8s\n",
      "17:\tlearn: 0.1734548\ttotal: 27.2s\tremaining: 7m 6s\n",
      "18:\tlearn: 0.1718580\ttotal: 28.7s\tremaining: 7m 4s\n",
      "19:\tlearn: 0.1691745\ttotal: 30.2s\tremaining: 7m 2s\n",
      "20:\tlearn: 0.1677218\ttotal: 31.7s\tremaining: 7m 1s\n",
      "21:\tlearn: 0.1663502\ttotal: 33.2s\tremaining: 6m 59s\n",
      "22:\tlearn: 0.1653860\ttotal: 34.9s\tremaining: 7m\n",
      "23:\tlearn: 0.1643909\ttotal: 36.4s\tremaining: 6m 58s\n",
      "24:\tlearn: 0.1629529\ttotal: 37.8s\tremaining: 6m 55s\n",
      "25:\tlearn: 0.1619721\ttotal: 39.2s\tremaining: 6m 52s\n",
      "26:\tlearn: 0.1608136\ttotal: 40.7s\tremaining: 6m 51s\n",
      "27:\tlearn: 0.1594974\ttotal: 42.2s\tremaining: 6m 49s\n",
      "28:\tlearn: 0.1584961\ttotal: 43.6s\tremaining: 6m 47s\n",
      "29:\tlearn: 0.1572554\ttotal: 45s\tremaining: 6m 45s\n",
      "30:\tlearn: 0.1563328\ttotal: 46.4s\tremaining: 6m 42s\n",
      "31:\tlearn: 0.1554322\ttotal: 47.8s\tremaining: 6m 40s\n",
      "32:\tlearn: 0.1541617\ttotal: 49.2s\tremaining: 6m 38s\n",
      "33:\tlearn: 0.1530722\ttotal: 50.7s\tremaining: 6m 36s\n",
      "34:\tlearn: 0.1521779\ttotal: 52.1s\tremaining: 6m 34s\n",
      "35:\tlearn: 0.1512722\ttotal: 53.6s\tremaining: 6m 33s\n",
      "36:\tlearn: 0.1503901\ttotal: 55.1s\tremaining: 6m 31s\n",
      "37:\tlearn: 0.1494547\ttotal: 56.6s\tremaining: 6m 30s\n",
      "38:\tlearn: 0.1483751\ttotal: 58.1s\tremaining: 6m 28s\n",
      "39:\tlearn: 0.1472802\ttotal: 59.7s\tremaining: 6m 28s\n",
      "40:\tlearn: 0.1461355\ttotal: 1m 1s\tremaining: 6m 28s\n",
      "41:\tlearn: 0.1455834\ttotal: 1m 3s\tremaining: 6m 27s\n",
      "42:\tlearn: 0.1449891\ttotal: 1m 4s\tremaining: 6m 25s\n",
      "43:\tlearn: 0.1442155\ttotal: 1m 6s\tremaining: 6m 24s\n",
      "44:\tlearn: 0.1435820\ttotal: 1m 7s\tremaining: 6m 22s\n",
      "45:\tlearn: 0.1427783\ttotal: 1m 8s\tremaining: 6m 20s\n",
      "46:\tlearn: 0.1423568\ttotal: 1m 10s\tremaining: 6m 17s\n",
      "47:\tlearn: 0.1418869\ttotal: 1m 11s\tremaining: 6m 15s\n",
      "48:\tlearn: 0.1409588\ttotal: 1m 12s\tremaining: 6m 13s\n",
      "49:\tlearn: 0.1405210\ttotal: 1m 14s\tremaining: 6m 11s\n",
      "50:\tlearn: 0.1399874\ttotal: 1m 15s\tremaining: 6m 10s\n",
      "51:\tlearn: 0.1394582\ttotal: 1m 17s\tremaining: 6m 8s\n",
      "52:\tlearn: 0.1386207\ttotal: 1m 18s\tremaining: 6m 6s\n",
      "53:\tlearn: 0.1376269\ttotal: 1m 20s\tremaining: 6m 4s\n",
      "54:\tlearn: 0.1371016\ttotal: 1m 21s\tremaining: 6m 3s\n",
      "55:\tlearn: 0.1366882\ttotal: 1m 22s\tremaining: 6m\n",
      "56:\tlearn: 0.1363555\ttotal: 1m 24s\tremaining: 5m 58s\n",
      "57:\tlearn: 0.1358527\ttotal: 1m 25s\tremaining: 5m 57s\n",
      "58:\tlearn: 0.1353113\ttotal: 1m 26s\tremaining: 5m 55s\n",
      "59:\tlearn: 0.1350016\ttotal: 1m 28s\tremaining: 5m 53s\n",
      "60:\tlearn: 0.1345840\ttotal: 1m 29s\tremaining: 5m 51s\n",
      "61:\tlearn: 0.1342987\ttotal: 1m 30s\tremaining: 5m 49s\n",
      "62:\tlearn: 0.1340023\ttotal: 1m 32s\tremaining: 5m 47s\n",
      "63:\tlearn: 0.1337194\ttotal: 1m 33s\tremaining: 5m 45s\n",
      "64:\tlearn: 0.1332807\ttotal: 1m 35s\tremaining: 5m 43s\n",
      "65:\tlearn: 0.1327523\ttotal: 1m 36s\tremaining: 5m 41s\n",
      "66:\tlearn: 0.1321880\ttotal: 1m 37s\tremaining: 5m 40s\n",
      "67:\tlearn: 0.1317463\ttotal: 1m 39s\tremaining: 5m 38s\n",
      "68:\tlearn: 0.1313137\ttotal: 1m 40s\tremaining: 5m 37s\n",
      "69:\tlearn: 0.1310583\ttotal: 1m 42s\tremaining: 5m 35s\n",
      "70:\tlearn: 0.1306476\ttotal: 1m 43s\tremaining: 5m 34s\n",
      "71:\tlearn: 0.1301269\ttotal: 1m 45s\tremaining: 5m 32s\n",
      "72:\tlearn: 0.1294966\ttotal: 1m 46s\tremaining: 5m 31s\n",
      "73:\tlearn: 0.1290625\ttotal: 1m 47s\tremaining: 5m 29s\n",
      "74:\tlearn: 0.1287699\ttotal: 1m 49s\tremaining: 5m 27s\n",
      "75:\tlearn: 0.1285328\ttotal: 1m 50s\tremaining: 5m 25s\n",
      "76:\tlearn: 0.1283096\ttotal: 1m 51s\tremaining: 5m 24s\n",
      "77:\tlearn: 0.1280772\ttotal: 1m 53s\tremaining: 5m 22s\n",
      "78:\tlearn: 0.1276481\ttotal: 1m 54s\tremaining: 5m 20s\n",
      "79:\tlearn: 0.1272425\ttotal: 1m 56s\tremaining: 5m 19s\n",
      "80:\tlearn: 0.1269657\ttotal: 1m 57s\tremaining: 5m 17s\n",
      "81:\tlearn: 0.1267306\ttotal: 1m 58s\tremaining: 5m 16s\n",
      "82:\tlearn: 0.1259896\ttotal: 2m\tremaining: 5m 15s\n",
      "83:\tlearn: 0.1257636\ttotal: 2m 1s\tremaining: 5m 13s\n",
      "84:\tlearn: 0.1252663\ttotal: 2m 3s\tremaining: 5m 12s\n",
      "85:\tlearn: 0.1249700\ttotal: 2m 4s\tremaining: 5m 10s\n",
      "86:\tlearn: 0.1246032\ttotal: 2m 6s\tremaining: 5m 9s\n",
      "87:\tlearn: 0.1243917\ttotal: 2m 7s\tremaining: 5m 7s\n",
      "88:\tlearn: 0.1237927\ttotal: 2m 9s\tremaining: 5m 5s\n",
      "89:\tlearn: 0.1234920\ttotal: 2m 10s\tremaining: 5m 4s\n",
      "90:\tlearn: 0.1232842\ttotal: 2m 11s\tremaining: 5m 2s\n",
      "91:\tlearn: 0.1230080\ttotal: 2m 13s\tremaining: 5m\n",
      "92:\tlearn: 0.1225063\ttotal: 2m 14s\tremaining: 4m 59s\n",
      "93:\tlearn: 0.1223079\ttotal: 2m 15s\tremaining: 4m 57s\n",
      "94:\tlearn: 0.1221159\ttotal: 2m 17s\tremaining: 4m 56s\n",
      "95:\tlearn: 0.1216798\ttotal: 2m 18s\tremaining: 4m 54s\n",
      "96:\tlearn: 0.1214706\ttotal: 2m 19s\tremaining: 4m 52s\n",
      "97:\tlearn: 0.1212531\ttotal: 2m 21s\tremaining: 4m 51s\n",
      "98:\tlearn: 0.1208315\ttotal: 2m 22s\tremaining: 4m 49s\n",
      "99:\tlearn: 0.1206410\ttotal: 2m 24s\tremaining: 4m 48s\n",
      "100:\tlearn: 0.1204584\ttotal: 2m 25s\tremaining: 4m 46s\n",
      "101:\tlearn: 0.1202313\ttotal: 2m 26s\tremaining: 4m 45s\n",
      "102:\tlearn: 0.1200337\ttotal: 2m 28s\tremaining: 4m 43s\n",
      "103:\tlearn: 0.1198526\ttotal: 2m 29s\tremaining: 4m 41s\n",
      "104:\tlearn: 0.1194554\ttotal: 2m 30s\tremaining: 4m 40s\n",
      "105:\tlearn: 0.1192722\ttotal: 2m 32s\tremaining: 4m 38s\n",
      "106:\tlearn: 0.1188962\ttotal: 2m 33s\tremaining: 4m 36s\n",
      "107:\tlearn: 0.1187222\ttotal: 2m 34s\tremaining: 4m 35s\n",
      "108:\tlearn: 0.1185625\ttotal: 2m 36s\tremaining: 4m 33s\n",
      "109:\tlearn: 0.1184010\ttotal: 2m 37s\tremaining: 4m 32s\n",
      "110:\tlearn: 0.1180028\ttotal: 2m 38s\tremaining: 4m 30s\n",
      "111:\tlearn: 0.1178496\ttotal: 2m 40s\tremaining: 4m 29s\n",
      "112:\tlearn: 0.1176839\ttotal: 2m 41s\tremaining: 4m 27s\n",
      "113:\tlearn: 0.1175279\ttotal: 2m 42s\tremaining: 4m 25s\n",
      "114:\tlearn: 0.1173573\ttotal: 2m 44s\tremaining: 4m 24s\n",
      "115:\tlearn: 0.1171542\ttotal: 2m 45s\tremaining: 4m 22s\n",
      "116:\tlearn: 0.1168295\ttotal: 2m 46s\tremaining: 4m 21s\n",
      "117:\tlearn: 0.1164306\ttotal: 2m 48s\tremaining: 4m 19s\n",
      "118:\tlearn: 0.1160857\ttotal: 2m 49s\tremaining: 4m 18s\n",
      "119:\tlearn: 0.1158288\ttotal: 2m 51s\tremaining: 4m 16s\n",
      "120:\tlearn: 0.1156799\ttotal: 2m 52s\tremaining: 4m 14s\n",
      "121:\tlearn: 0.1152467\ttotal: 2m 53s\tremaining: 4m 13s\n",
      "122:\tlearn: 0.1151075\ttotal: 2m 55s\tremaining: 4m 11s\n",
      "123:\tlearn: 0.1149377\ttotal: 2m 56s\tremaining: 4m 10s\n",
      "124:\tlearn: 0.1147985\ttotal: 2m 57s\tremaining: 4m 8s\n",
      "125:\tlearn: 0.1146274\ttotal: 2m 59s\tremaining: 4m 7s\n",
      "126:\tlearn: 0.1144874\ttotal: 3m\tremaining: 4m 6s\n",
      "127:\tlearn: 0.1140807\ttotal: 3m 2s\tremaining: 4m 4s\n",
      "128:\tlearn: 0.1139412\ttotal: 3m 3s\tremaining: 4m 3s\n",
      "129:\tlearn: 0.1136303\ttotal: 3m 5s\tremaining: 4m 2s\n",
      "130:\tlearn: 0.1134987\ttotal: 3m 6s\tremaining: 4m\n",
      "131:\tlearn: 0.1131538\ttotal: 3m 8s\tremaining: 3m 59s\n",
      "132:\tlearn: 0.1130266\ttotal: 3m 9s\tremaining: 3m 57s\n",
      "133:\tlearn: 0.1128980\ttotal: 3m 10s\tremaining: 3m 56s\n",
      "134:\tlearn: 0.1127637\ttotal: 3m 12s\tremaining: 3m 54s\n",
      "135:\tlearn: 0.1126380\ttotal: 3m 13s\tremaining: 3m 53s\n",
      "136:\tlearn: 0.1125148\ttotal: 3m 14s\tremaining: 3m 51s\n",
      "137:\tlearn: 0.1123943\ttotal: 3m 16s\tremaining: 3m 50s\n",
      "138:\tlearn: 0.1119654\ttotal: 3m 17s\tremaining: 3m 48s\n",
      "139:\tlearn: 0.1115314\ttotal: 3m 18s\tremaining: 3m 47s\n",
      "140:\tlearn: 0.1112220\ttotal: 3m 20s\tremaining: 3m 45s\n",
      "141:\tlearn: 0.1111056\ttotal: 3m 21s\tremaining: 3m 44s\n",
      "142:\tlearn: 0.1109586\ttotal: 3m 22s\tremaining: 3m 42s\n",
      "143:\tlearn: 0.1106319\ttotal: 3m 24s\tremaining: 3m 41s\n",
      "144:\tlearn: 0.1105187\ttotal: 3m 25s\tremaining: 3m 39s\n",
      "145:\tlearn: 0.1104055\ttotal: 3m 26s\tremaining: 3m 38s\n",
      "146:\tlearn: 0.1102873\ttotal: 3m 28s\tremaining: 3m 36s\n",
      "147:\tlearn: 0.1101315\ttotal: 3m 29s\tremaining: 3m 35s\n",
      "148:\tlearn: 0.1099588\ttotal: 3m 31s\tremaining: 3m 34s\n",
      "149:\tlearn: 0.1098463\ttotal: 3m 32s\tremaining: 3m 32s\n",
      "150:\tlearn: 0.1097057\ttotal: 3m 34s\tremaining: 3m 31s\n",
      "151:\tlearn: 0.1095944\ttotal: 3m 35s\tremaining: 3m 29s\n",
      "152:\tlearn: 0.1094879\ttotal: 3m 36s\tremaining: 3m 28s\n",
      "153:\tlearn: 0.1093795\ttotal: 3m 38s\tremaining: 3m 26s\n",
      "154:\tlearn: 0.1090821\ttotal: 3m 39s\tremaining: 3m 25s\n",
      "155:\tlearn: 0.1087936\ttotal: 3m 41s\tremaining: 3m 24s\n",
      "156:\tlearn: 0.1086936\ttotal: 3m 42s\tremaining: 3m 22s\n",
      "157:\tlearn: 0.1083630\ttotal: 3m 43s\tremaining: 3m 21s\n",
      "158:\tlearn: 0.1077193\ttotal: 3m 45s\tremaining: 3m 19s\n",
      "159:\tlearn: 0.1076129\ttotal: 3m 46s\tremaining: 3m 18s\n",
      "160:\tlearn: 0.1074611\ttotal: 3m 47s\tremaining: 3m 16s\n",
      "161:\tlearn: 0.1073485\ttotal: 3m 49s\tremaining: 3m 15s\n",
      "162:\tlearn: 0.1070315\ttotal: 3m 50s\tremaining: 3m 13s\n",
      "163:\tlearn: 0.1069337\ttotal: 3m 51s\tremaining: 3m 12s\n",
      "164:\tlearn: 0.1065987\ttotal: 3m 53s\tremaining: 3m 10s\n",
      "165:\tlearn: 0.1062919\ttotal: 3m 54s\tremaining: 3m 9s\n",
      "166:\tlearn: 0.1060776\ttotal: 3m 56s\tremaining: 3m 8s\n",
      "167:\tlearn: 0.1057600\ttotal: 3m 57s\tremaining: 3m 6s\n",
      "168:\tlearn: 0.1056573\ttotal: 3m 59s\tremaining: 3m 5s\n",
      "169:\tlearn: 0.1055353\ttotal: 4m\tremaining: 3m 3s\n",
      "170:\tlearn: 0.1054302\ttotal: 4m 2s\tremaining: 3m 2s\n",
      "171:\tlearn: 0.1053358\ttotal: 4m 3s\tremaining: 3m 1s\n",
      "172:\tlearn: 0.1051783\ttotal: 4m 5s\tremaining: 2m 59s\n",
      "173:\tlearn: 0.1050346\ttotal: 4m 6s\tremaining: 2m 58s\n",
      "174:\tlearn: 0.1047912\ttotal: 4m 7s\tremaining: 2m 57s\n",
      "175:\tlearn: 0.1043901\ttotal: 4m 9s\tremaining: 2m 55s\n",
      "176:\tlearn: 0.1042764\ttotal: 4m 10s\tremaining: 2m 54s\n",
      "177:\tlearn: 0.1041731\ttotal: 4m 12s\tremaining: 2m 52s\n",
      "178:\tlearn: 0.1038878\ttotal: 4m 13s\tremaining: 2m 51s\n",
      "179:\tlearn: 0.1036639\ttotal: 4m 14s\tremaining: 2m 49s\n",
      "180:\tlearn: 0.1035730\ttotal: 4m 16s\tremaining: 2m 48s\n",
      "181:\tlearn: 0.1034681\ttotal: 4m 17s\tremaining: 2m 47s\n",
      "182:\tlearn: 0.1033815\ttotal: 4m 18s\tremaining: 2m 45s\n",
      "183:\tlearn: 0.1032793\ttotal: 4m 20s\tremaining: 2m 44s\n",
      "184:\tlearn: 0.1031488\ttotal: 4m 21s\tremaining: 2m 42s\n",
      "185:\tlearn: 0.1028604\ttotal: 4m 23s\tremaining: 2m 41s\n",
      "186:\tlearn: 0.1027594\ttotal: 4m 24s\tremaining: 2m 39s\n",
      "187:\tlearn: 0.1026603\ttotal: 4m 25s\tremaining: 2m 38s\n",
      "188:\tlearn: 0.1023443\ttotal: 4m 27s\tremaining: 2m 37s\n",
      "189:\tlearn: 0.1021421\ttotal: 4m 28s\tremaining: 2m 35s\n",
      "190:\tlearn: 0.1018914\ttotal: 4m 30s\tremaining: 2m 34s\n",
      "191:\tlearn: 0.1016418\ttotal: 4m 32s\tremaining: 2m 33s\n",
      "192:\tlearn: 0.1013990\ttotal: 4m 33s\tremaining: 2m 31s\n",
      "193:\tlearn: 0.1012000\ttotal: 4m 35s\tremaining: 2m 30s\n",
      "194:\tlearn: 0.1011145\ttotal: 4m 36s\tremaining: 2m 29s\n",
      "195:\tlearn: 0.1008131\ttotal: 4m 38s\tremaining: 2m 27s\n",
      "196:\tlearn: 0.1007224\ttotal: 4m 39s\tremaining: 2m 26s\n",
      "197:\tlearn: 0.1005220\ttotal: 4m 41s\tremaining: 2m 24s\n",
      "198:\tlearn: 0.1004362\ttotal: 4m 42s\tremaining: 2m 23s\n",
      "199:\tlearn: 0.1001891\ttotal: 4m 43s\tremaining: 2m 21s\n",
      "200:\tlearn: 0.1001018\ttotal: 4m 45s\tremaining: 2m 20s\n",
      "201:\tlearn: 0.1000067\ttotal: 4m 46s\tremaining: 2m 19s\n",
      "202:\tlearn: 0.0998604\ttotal: 4m 47s\tremaining: 2m 17s\n",
      "203:\tlearn: 0.0997697\ttotal: 4m 49s\tremaining: 2m 16s\n",
      "204:\tlearn: 0.0996107\ttotal: 4m 50s\tremaining: 2m 14s\n",
      "205:\tlearn: 0.0995153\ttotal: 4m 51s\tremaining: 2m 13s\n",
      "206:\tlearn: 0.0992005\ttotal: 4m 53s\tremaining: 2m 11s\n",
      "207:\tlearn: 0.0991232\ttotal: 4m 54s\tremaining: 2m 10s\n",
      "208:\tlearn: 0.0989128\ttotal: 4m 56s\tremaining: 2m 8s\n",
      "209:\tlearn: 0.0986946\ttotal: 4m 57s\tremaining: 2m 7s\n",
      "210:\tlearn: 0.0984896\ttotal: 4m 59s\tremaining: 2m 6s\n",
      "211:\tlearn: 0.0982328\ttotal: 5m\tremaining: 2m 4s\n",
      "212:\tlearn: 0.0981591\ttotal: 5m 2s\tremaining: 2m 3s\n",
      "213:\tlearn: 0.0980688\ttotal: 5m 3s\tremaining: 2m 2s\n",
      "214:\tlearn: 0.0977888\ttotal: 5m 5s\tremaining: 2m\n",
      "215:\tlearn: 0.0976648\ttotal: 5m 6s\tremaining: 1m 59s\n",
      "216:\tlearn: 0.0975830\ttotal: 5m 8s\tremaining: 1m 57s\n",
      "217:\tlearn: 0.0974989\ttotal: 5m 9s\tremaining: 1m 56s\n",
      "218:\tlearn: 0.0974257\ttotal: 5m 10s\tremaining: 1m 54s\n",
      "219:\tlearn: 0.0973567\ttotal: 5m 12s\tremaining: 1m 53s\n",
      "220:\tlearn: 0.0971517\ttotal: 5m 13s\tremaining: 1m 52s\n",
      "221:\tlearn: 0.0969862\ttotal: 5m 15s\tremaining: 1m 50s\n",
      "222:\tlearn: 0.0968328\ttotal: 5m 16s\tremaining: 1m 49s\n",
      "223:\tlearn: 0.0967469\ttotal: 5m 18s\tremaining: 1m 47s\n",
      "224:\tlearn: 0.0966628\ttotal: 5m 19s\tremaining: 1m 46s\n",
      "225:\tlearn: 0.0965124\ttotal: 5m 20s\tremaining: 1m 45s\n",
      "226:\tlearn: 0.0964305\ttotal: 5m 22s\tremaining: 1m 43s\n",
      "227:\tlearn: 0.0962684\ttotal: 5m 23s\tremaining: 1m 42s\n",
      "228:\tlearn: 0.0961877\ttotal: 5m 24s\tremaining: 1m 40s\n",
      "229:\tlearn: 0.0960994\ttotal: 5m 26s\tremaining: 1m 39s\n",
      "230:\tlearn: 0.0960113\ttotal: 5m 27s\tremaining: 1m 37s\n",
      "231:\tlearn: 0.0959333\ttotal: 5m 29s\tremaining: 1m 36s\n",
      "232:\tlearn: 0.0958556\ttotal: 5m 30s\tremaining: 1m 35s\n",
      "233:\tlearn: 0.0955606\ttotal: 5m 32s\tremaining: 1m 33s\n",
      "234:\tlearn: 0.0954526\ttotal: 5m 33s\tremaining: 1m 32s\n",
      "235:\tlearn: 0.0953641\ttotal: 5m 35s\tremaining: 1m 30s\n",
      "236:\tlearn: 0.0949850\ttotal: 5m 36s\tremaining: 1m 29s\n",
      "237:\tlearn: 0.0949058\ttotal: 5m 37s\tremaining: 1m 28s\n",
      "238:\tlearn: 0.0948056\ttotal: 5m 39s\tremaining: 1m 26s\n",
      "239:\tlearn: 0.0947171\ttotal: 5m 40s\tremaining: 1m 25s\n",
      "240:\tlearn: 0.0945932\ttotal: 5m 41s\tremaining: 1m 23s\n",
      "241:\tlearn: 0.0944796\ttotal: 5m 43s\tremaining: 1m 22s\n",
      "242:\tlearn: 0.0944013\ttotal: 5m 44s\tremaining: 1m 20s\n",
      "243:\tlearn: 0.0943063\ttotal: 5m 45s\tremaining: 1m 19s\n",
      "244:\tlearn: 0.0942237\ttotal: 5m 47s\tremaining: 1m 17s\n",
      "245:\tlearn: 0.0941452\ttotal: 5m 48s\tremaining: 1m 16s\n",
      "246:\tlearn: 0.0940135\ttotal: 5m 49s\tremaining: 1m 15s\n",
      "247:\tlearn: 0.0939400\ttotal: 5m 51s\tremaining: 1m 13s\n",
      "248:\tlearn: 0.0938586\ttotal: 5m 52s\tremaining: 1m 12s\n",
      "249:\tlearn: 0.0937860\ttotal: 5m 53s\tremaining: 1m 10s\n",
      "250:\tlearn: 0.0936595\ttotal: 5m 55s\tremaining: 1m 9s\n",
      "251:\tlearn: 0.0935820\ttotal: 5m 56s\tremaining: 1m 7s\n",
      "252:\tlearn: 0.0933729\ttotal: 5m 58s\tremaining: 1m 6s\n",
      "253:\tlearn: 0.0932935\ttotal: 5m 59s\tremaining: 1m 5s\n",
      "254:\tlearn: 0.0932173\ttotal: 6m 1s\tremaining: 1m 3s\n",
      "255:\tlearn: 0.0931451\ttotal: 6m 2s\tremaining: 1m 2s\n",
      "256:\tlearn: 0.0930727\ttotal: 6m 4s\tremaining: 1m\n",
      "257:\tlearn: 0.0929992\ttotal: 6m 5s\tremaining: 59.6s\n",
      "258:\tlearn: 0.0929301\ttotal: 6m 7s\tremaining: 58.1s\n",
      "259:\tlearn: 0.0928602\ttotal: 6m 8s\tremaining: 56.7s\n",
      "260:\tlearn: 0.0927933\ttotal: 6m 9s\tremaining: 55.3s\n",
      "261:\tlearn: 0.0927207\ttotal: 6m 11s\tremaining: 53.9s\n",
      "262:\tlearn: 0.0925411\ttotal: 6m 12s\tremaining: 52.4s\n",
      "263:\tlearn: 0.0924635\ttotal: 6m 14s\tremaining: 51s\n",
      "264:\tlearn: 0.0923777\ttotal: 6m 15s\tremaining: 49.6s\n",
      "265:\tlearn: 0.0920180\ttotal: 6m 17s\tremaining: 48.2s\n",
      "266:\tlearn: 0.0919600\ttotal: 6m 18s\tremaining: 46.8s\n",
      "267:\tlearn: 0.0918897\ttotal: 6m 19s\tremaining: 45.3s\n",
      "268:\tlearn: 0.0918153\ttotal: 6m 21s\tremaining: 43.9s\n",
      "269:\tlearn: 0.0917368\ttotal: 6m 22s\tremaining: 42.5s\n",
      "270:\tlearn: 0.0916689\ttotal: 6m 23s\tremaining: 41.1s\n",
      "271:\tlearn: 0.0914895\ttotal: 6m 25s\tremaining: 39.7s\n",
      "272:\tlearn: 0.0914181\ttotal: 6m 26s\tremaining: 38.3s\n",
      "273:\tlearn: 0.0913513\ttotal: 6m 28s\tremaining: 36.9s\n",
      "274:\tlearn: 0.0912865\ttotal: 6m 29s\tremaining: 35.4s\n",
      "275:\tlearn: 0.0912206\ttotal: 6m 31s\tremaining: 34s\n",
      "276:\tlearn: 0.0911554\ttotal: 6m 32s\tremaining: 32.6s\n",
      "277:\tlearn: 0.0910865\ttotal: 6m 34s\tremaining: 31.2s\n",
      "278:\tlearn: 0.0910217\ttotal: 6m 36s\tremaining: 29.8s\n",
      "279:\tlearn: 0.0909375\ttotal: 6m 37s\tremaining: 28.4s\n",
      "280:\tlearn: 0.0907489\ttotal: 6m 38s\tremaining: 27s\n",
      "281:\tlearn: 0.0906797\ttotal: 6m 40s\tremaining: 25.5s\n",
      "282:\tlearn: 0.0906109\ttotal: 6m 41s\tremaining: 24.1s\n",
      "283:\tlearn: 0.0905399\ttotal: 6m 42s\tremaining: 22.7s\n",
      "284:\tlearn: 0.0904676\ttotal: 6m 44s\tremaining: 21.3s\n",
      "285:\tlearn: 0.0903939\ttotal: 6m 45s\tremaining: 19.9s\n",
      "286:\tlearn: 0.0903278\ttotal: 6m 47s\tremaining: 18.4s\n",
      "287:\tlearn: 0.0901860\ttotal: 6m 48s\tremaining: 17s\n",
      "288:\tlearn: 0.0901173\ttotal: 6m 49s\tremaining: 15.6s\n",
      "289:\tlearn: 0.0900559\ttotal: 6m 51s\tremaining: 14.2s\n",
      "290:\tlearn: 0.0899877\ttotal: 6m 52s\tremaining: 12.8s\n",
      "291:\tlearn: 0.0899171\ttotal: 6m 53s\tremaining: 11.3s\n",
      "292:\tlearn: 0.0898140\ttotal: 6m 55s\tremaining: 9.93s\n",
      "293:\tlearn: 0.0897499\ttotal: 6m 56s\tremaining: 8.51s\n",
      "294:\tlearn: 0.0896791\ttotal: 6m 58s\tremaining: 7.09s\n",
      "295:\tlearn: 0.0895493\ttotal: 6m 59s\tremaining: 5.67s\n",
      "296:\tlearn: 0.0894806\ttotal: 7m 1s\tremaining: 4.26s\n",
      "297:\tlearn: 0.0892998\ttotal: 7m 2s\tremaining: 2.84s\n",
      "298:\tlearn: 0.0891538\ttotal: 7m 4s\tremaining: 1.42s\n",
      "299:\tlearn: 0.0889947\ttotal: 7m 6s\tremaining: 0us\n",
      "0.7439861878759956\n"
     ]
    }
   ],
   "source": [
    "skf = StratifiedKFold(n_splits=3, random_state=75, shuffle=True)\n",
    "\n",
    "boost_model = CatBoostClassifier(\n",
    "    iterations=300,\n",
    "    random_seed=75,\n",
    "    learning_rate=0.4\n",
    ")\n",
    "\n",
    "print(cross_val_score(boost_model, features_train, target_train, cv=skf, scoring='f1').mean())"
   ]
  },
  {
   "cell_type": "markdown",
   "metadata": {},
   "source": [
    "Метрика F1 модели Catboost на кросс-валидации составила 74.4%."
   ]
  },
  {
   "cell_type": "markdown",
   "metadata": {},
   "source": [
    "### Модель Logistic Regression"
   ]
  },
  {
   "cell_type": "code",
   "execution_count": 11,
   "metadata": {},
   "outputs": [
    {
     "name": "stdout",
     "output_type": "stream",
     "text": [
      "0.7424120066346244\n"
     ]
    }
   ],
   "source": [
    "logistic_model = LogisticRegression(random_state=75, class_weight = 'balanced', max_iter=1000)\n",
    "print(cross_val_score(logistic_model, features_train, target_train, cv=skf, scoring = 'f1').mean())"
   ]
  },
  {
   "cell_type": "markdown",
   "metadata": {},
   "source": [
    "Метрика F1 модели Logistic Regression составила 74.2%."
   ]
  },
  {
   "cell_type": "markdown",
   "metadata": {},
   "source": [
    "## Выводы"
   ]
  },
  {
   "cell_type": "markdown",
   "metadata": {},
   "source": [
    "Проверим модель CatBoost на тестовых данных."
   ]
  },
  {
   "cell_type": "code",
   "execution_count": 12,
   "metadata": {},
   "outputs": [
    {
     "name": "stdout",
     "output_type": "stream",
     "text": [
      "0:\tlearn: 0.3816254\ttotal: 2.75s\tremaining: 13m 42s\n",
      "1:\tlearn: 0.2790625\ttotal: 4.89s\tremaining: 12m 8s\n",
      "2:\tlearn: 0.2463390\ttotal: 7.06s\tremaining: 11m 39s\n",
      "3:\tlearn: 0.2297594\ttotal: 9.14s\tremaining: 11m 16s\n",
      "4:\tlearn: 0.2177816\ttotal: 11.2s\tremaining: 11m 1s\n",
      "5:\tlearn: 0.2110472\ttotal: 13.2s\tremaining: 10m 48s\n",
      "6:\tlearn: 0.2063301\ttotal: 15.4s\tremaining: 10m 43s\n",
      "7:\tlearn: 0.2021710\ttotal: 17.5s\tremaining: 10m 39s\n",
      "8:\tlearn: 0.1974736\ttotal: 19.8s\tremaining: 10m 40s\n",
      "9:\tlearn: 0.1940783\ttotal: 22s\tremaining: 10m 37s\n",
      "10:\tlearn: 0.1910719\ttotal: 24.2s\tremaining: 10m 36s\n",
      "11:\tlearn: 0.1886190\ttotal: 26.4s\tremaining: 10m 34s\n",
      "12:\tlearn: 0.1850671\ttotal: 28.7s\tremaining: 10m 32s\n",
      "13:\tlearn: 0.1819709\ttotal: 30.6s\tremaining: 10m 25s\n",
      "14:\tlearn: 0.1801730\ttotal: 32.7s\tremaining: 10m 20s\n",
      "15:\tlearn: 0.1784419\ttotal: 34.7s\tremaining: 10m 15s\n",
      "16:\tlearn: 0.1758773\ttotal: 36.8s\tremaining: 10m 11s\n",
      "17:\tlearn: 0.1744690\ttotal: 38.8s\tremaining: 10m 7s\n",
      "18:\tlearn: 0.1728430\ttotal: 40.7s\tremaining: 10m 1s\n",
      "19:\tlearn: 0.1713534\ttotal: 42.7s\tremaining: 9m 57s\n",
      "20:\tlearn: 0.1698069\ttotal: 44.7s\tremaining: 9m 54s\n",
      "21:\tlearn: 0.1682985\ttotal: 46.9s\tremaining: 9m 52s\n",
      "22:\tlearn: 0.1667993\ttotal: 48.8s\tremaining: 9m 48s\n",
      "23:\tlearn: 0.1656702\ttotal: 50.9s\tremaining: 9m 45s\n",
      "24:\tlearn: 0.1646241\ttotal: 53s\tremaining: 9m 43s\n",
      "25:\tlearn: 0.1636282\ttotal: 55.2s\tremaining: 9m 41s\n",
      "26:\tlearn: 0.1625973\ttotal: 57.4s\tremaining: 9m 40s\n",
      "27:\tlearn: 0.1614866\ttotal: 59.5s\tremaining: 9m 38s\n",
      "28:\tlearn: 0.1605013\ttotal: 1m 1s\tremaining: 9m 34s\n",
      "29:\tlearn: 0.1596896\ttotal: 1m 3s\tremaining: 9m 30s\n",
      "30:\tlearn: 0.1587729\ttotal: 1m 5s\tremaining: 9m 27s\n",
      "31:\tlearn: 0.1577075\ttotal: 1m 7s\tremaining: 9m 23s\n",
      "32:\tlearn: 0.1564784\ttotal: 1m 9s\tremaining: 9m 20s\n",
      "33:\tlearn: 0.1551917\ttotal: 1m 11s\tremaining: 9m 17s\n",
      "34:\tlearn: 0.1543485\ttotal: 1m 13s\tremaining: 9m 13s\n",
      "35:\tlearn: 0.1533665\ttotal: 1m 15s\tremaining: 9m 10s\n",
      "36:\tlearn: 0.1526275\ttotal: 1m 17s\tremaining: 9m 7s\n",
      "37:\tlearn: 0.1519980\ttotal: 1m 19s\tremaining: 9m 5s\n",
      "38:\tlearn: 0.1510936\ttotal: 1m 21s\tremaining: 9m 4s\n",
      "39:\tlearn: 0.1505665\ttotal: 1m 23s\tremaining: 9m 1s\n",
      "40:\tlearn: 0.1496329\ttotal: 1m 25s\tremaining: 8m 59s\n",
      "41:\tlearn: 0.1488922\ttotal: 1m 27s\tremaining: 8m 56s\n",
      "42:\tlearn: 0.1482714\ttotal: 1m 29s\tremaining: 8m 53s\n",
      "43:\tlearn: 0.1475969\ttotal: 1m 31s\tremaining: 8m 50s\n",
      "44:\tlearn: 0.1468705\ttotal: 1m 33s\tremaining: 8m 47s\n",
      "45:\tlearn: 0.1462647\ttotal: 1m 35s\tremaining: 8m 45s\n",
      "46:\tlearn: 0.1456005\ttotal: 1m 37s\tremaining: 8m 42s\n",
      "47:\tlearn: 0.1447242\ttotal: 1m 39s\tremaining: 8m 39s\n",
      "48:\tlearn: 0.1441536\ttotal: 1m 40s\tremaining: 8m 37s\n",
      "49:\tlearn: 0.1436328\ttotal: 1m 42s\tremaining: 8m 34s\n",
      "50:\tlearn: 0.1432288\ttotal: 1m 44s\tremaining: 8m 30s\n",
      "51:\tlearn: 0.1424882\ttotal: 1m 46s\tremaining: 8m 29s\n",
      "52:\tlearn: 0.1420473\ttotal: 1m 48s\tremaining: 8m 26s\n",
      "53:\tlearn: 0.1414275\ttotal: 1m 50s\tremaining: 8m 23s\n",
      "54:\tlearn: 0.1408786\ttotal: 1m 52s\tremaining: 8m 22s\n",
      "55:\tlearn: 0.1402941\ttotal: 1m 54s\tremaining: 8m 20s\n",
      "56:\tlearn: 0.1399553\ttotal: 1m 56s\tremaining: 8m 18s\n",
      "57:\tlearn: 0.1395539\ttotal: 1m 58s\tremaining: 8m 16s\n",
      "58:\tlearn: 0.1391909\ttotal: 2m\tremaining: 8m 13s\n",
      "59:\tlearn: 0.1386876\ttotal: 2m 2s\tremaining: 8m 11s\n",
      "60:\tlearn: 0.1382516\ttotal: 2m 4s\tremaining: 8m 8s\n",
      "61:\tlearn: 0.1379571\ttotal: 2m 6s\tremaining: 8m 6s\n",
      "62:\tlearn: 0.1372761\ttotal: 2m 8s\tremaining: 8m 3s\n",
      "63:\tlearn: 0.1367611\ttotal: 2m 10s\tremaining: 8m 1s\n",
      "64:\tlearn: 0.1363315\ttotal: 2m 12s\tremaining: 7m 59s\n",
      "65:\tlearn: 0.1360796\ttotal: 2m 14s\tremaining: 7m 56s\n",
      "66:\tlearn: 0.1356144\ttotal: 2m 16s\tremaining: 7m 54s\n",
      "67:\tlearn: 0.1351481\ttotal: 2m 18s\tremaining: 7m 53s\n",
      "68:\tlearn: 0.1348500\ttotal: 2m 20s\tremaining: 7m 51s\n",
      "69:\tlearn: 0.1345235\ttotal: 2m 22s\tremaining: 7m 49s\n",
      "70:\tlearn: 0.1339652\ttotal: 2m 24s\tremaining: 7m 46s\n",
      "71:\tlearn: 0.1336028\ttotal: 2m 26s\tremaining: 7m 45s\n",
      "72:\tlearn: 0.1332060\ttotal: 2m 28s\tremaining: 7m 42s\n",
      "73:\tlearn: 0.1329290\ttotal: 2m 30s\tremaining: 7m 40s\n",
      "74:\tlearn: 0.1326724\ttotal: 2m 32s\tremaining: 7m 37s\n",
      "75:\tlearn: 0.1321869\ttotal: 2m 34s\tremaining: 7m 35s\n",
      "76:\tlearn: 0.1318938\ttotal: 2m 36s\tremaining: 7m 33s\n",
      "77:\tlearn: 0.1312366\ttotal: 2m 38s\tremaining: 7m 30s\n",
      "78:\tlearn: 0.1307871\ttotal: 2m 40s\tremaining: 7m 28s\n",
      "79:\tlearn: 0.1304724\ttotal: 2m 42s\tremaining: 7m 26s\n",
      "80:\tlearn: 0.1302358\ttotal: 2m 44s\tremaining: 7m 23s\n",
      "81:\tlearn: 0.1300414\ttotal: 2m 46s\tremaining: 7m 21s\n",
      "82:\tlearn: 0.1295834\ttotal: 2m 48s\tremaining: 7m 19s\n",
      "83:\tlearn: 0.1293668\ttotal: 2m 50s\tremaining: 7m 17s\n",
      "84:\tlearn: 0.1291794\ttotal: 2m 52s\tremaining: 7m 15s\n",
      "85:\tlearn: 0.1290232\ttotal: 2m 53s\tremaining: 7m 12s\n",
      "86:\tlearn: 0.1286252\ttotal: 2m 55s\tremaining: 7m 10s\n",
      "87:\tlearn: 0.1282949\ttotal: 2m 57s\tremaining: 7m 8s\n",
      "88:\tlearn: 0.1279651\ttotal: 2m 59s\tremaining: 7m 5s\n",
      "89:\tlearn: 0.1275123\ttotal: 3m 1s\tremaining: 7m 3s\n",
      "90:\tlearn: 0.1270952\ttotal: 3m 3s\tremaining: 7m 1s\n",
      "91:\tlearn: 0.1267997\ttotal: 3m 5s\tremaining: 6m 59s\n",
      "92:\tlearn: 0.1263376\ttotal: 3m 7s\tremaining: 6m 57s\n",
      "93:\tlearn: 0.1261848\ttotal: 3m 9s\tremaining: 6m 54s\n",
      "94:\tlearn: 0.1260308\ttotal: 3m 11s\tremaining: 6m 52s\n",
      "95:\tlearn: 0.1257190\ttotal: 3m 12s\tremaining: 6m 50s\n",
      "96:\tlearn: 0.1253569\ttotal: 3m 14s\tremaining: 6m 48s\n",
      "97:\tlearn: 0.1251873\ttotal: 3m 16s\tremaining: 6m 45s\n",
      "98:\tlearn: 0.1250275\ttotal: 3m 18s\tremaining: 6m 43s\n",
      "99:\tlearn: 0.1248456\ttotal: 3m 20s\tremaining: 6m 41s\n",
      "100:\tlearn: 0.1243989\ttotal: 3m 23s\tremaining: 6m 40s\n",
      "101:\tlearn: 0.1241494\ttotal: 3m 25s\tremaining: 6m 38s\n",
      "102:\tlearn: 0.1239948\ttotal: 3m 27s\tremaining: 6m 35s\n",
      "103:\tlearn: 0.1238537\ttotal: 3m 28s\tremaining: 6m 33s\n",
      "104:\tlearn: 0.1236689\ttotal: 3m 30s\tremaining: 6m 31s\n",
      "105:\tlearn: 0.1234325\ttotal: 3m 32s\tremaining: 6m 29s\n",
      "106:\tlearn: 0.1229261\ttotal: 3m 34s\tremaining: 6m 27s\n",
      "107:\tlearn: 0.1225331\ttotal: 3m 36s\tremaining: 6m 25s\n",
      "108:\tlearn: 0.1223282\ttotal: 3m 38s\tremaining: 6m 22s\n",
      "109:\tlearn: 0.1221849\ttotal: 3m 40s\tremaining: 6m 20s\n",
      "110:\tlearn: 0.1219016\ttotal: 3m 42s\tremaining: 6m 18s\n",
      "111:\tlearn: 0.1217740\ttotal: 3m 44s\tremaining: 6m 16s\n",
      "112:\tlearn: 0.1216153\ttotal: 3m 46s\tremaining: 6m 14s\n",
      "113:\tlearn: 0.1212551\ttotal: 3m 48s\tremaining: 6m 12s\n",
      "114:\tlearn: 0.1209486\ttotal: 3m 50s\tremaining: 6m 10s\n",
      "115:\tlearn: 0.1207891\ttotal: 3m 52s\tremaining: 6m 8s\n",
      "116:\tlearn: 0.1204834\ttotal: 3m 54s\tremaining: 6m 6s\n",
      "117:\tlearn: 0.1201314\ttotal: 3m 56s\tremaining: 6m 4s\n",
      "118:\tlearn: 0.1198123\ttotal: 3m 58s\tremaining: 6m 2s\n",
      "119:\tlearn: 0.1196865\ttotal: 4m\tremaining: 6m\n",
      "120:\tlearn: 0.1195492\ttotal: 4m 2s\tremaining: 5m 58s\n",
      "121:\tlearn: 0.1193003\ttotal: 4m 4s\tremaining: 5m 56s\n",
      "122:\tlearn: 0.1191401\ttotal: 4m 5s\tremaining: 5m 53s\n",
      "123:\tlearn: 0.1190074\ttotal: 4m 7s\tremaining: 5m 51s\n",
      "124:\tlearn: 0.1188087\ttotal: 4m 9s\tremaining: 5m 49s\n",
      "125:\tlearn: 0.1186858\ttotal: 4m 11s\tremaining: 5m 47s\n",
      "126:\tlearn: 0.1183904\ttotal: 4m 13s\tremaining: 5m 45s\n",
      "127:\tlearn: 0.1180538\ttotal: 4m 15s\tremaining: 5m 43s\n",
      "128:\tlearn: 0.1179222\ttotal: 4m 17s\tremaining: 5m 41s\n",
      "129:\tlearn: 0.1177869\ttotal: 4m 19s\tremaining: 5m 39s\n",
      "130:\tlearn: 0.1176488\ttotal: 4m 21s\tremaining: 5m 37s\n",
      "131:\tlearn: 0.1175161\ttotal: 4m 23s\tremaining: 5m 35s\n",
      "132:\tlearn: 0.1171552\ttotal: 4m 25s\tremaining: 5m 33s\n",
      "133:\tlearn: 0.1169545\ttotal: 4m 27s\tremaining: 5m 31s\n",
      "134:\tlearn: 0.1168311\ttotal: 4m 29s\tremaining: 5m 29s\n",
      "135:\tlearn: 0.1166440\ttotal: 4m 31s\tremaining: 5m 27s\n",
      "136:\tlearn: 0.1163479\ttotal: 4m 33s\tremaining: 5m 25s\n",
      "137:\tlearn: 0.1160964\ttotal: 4m 35s\tremaining: 5m 23s\n",
      "138:\tlearn: 0.1159938\ttotal: 4m 37s\tremaining: 5m 21s\n",
      "139:\tlearn: 0.1155392\ttotal: 4m 39s\tremaining: 5m 19s\n",
      "140:\tlearn: 0.1154175\ttotal: 4m 41s\tremaining: 5m 17s\n",
      "141:\tlearn: 0.1151336\ttotal: 4m 43s\tremaining: 5m 15s\n",
      "142:\tlearn: 0.1150174\ttotal: 4m 45s\tremaining: 5m 13s\n",
      "143:\tlearn: 0.1146444\ttotal: 4m 47s\tremaining: 5m 11s\n",
      "144:\tlearn: 0.1145387\ttotal: 4m 49s\tremaining: 5m 9s\n",
      "145:\tlearn: 0.1144397\ttotal: 4m 51s\tremaining: 5m 7s\n",
      "146:\tlearn: 0.1142205\ttotal: 4m 53s\tremaining: 5m 5s\n",
      "147:\tlearn: 0.1141138\ttotal: 4m 55s\tremaining: 5m 3s\n",
      "148:\tlearn: 0.1139051\ttotal: 4m 57s\tremaining: 5m 1s\n",
      "149:\tlearn: 0.1138015\ttotal: 4m 59s\tremaining: 4m 59s\n",
      "150:\tlearn: 0.1137014\ttotal: 5m\tremaining: 4m 56s\n",
      "151:\tlearn: 0.1134589\ttotal: 5m 2s\tremaining: 4m 54s\n",
      "152:\tlearn: 0.1133619\ttotal: 5m 4s\tremaining: 4m 52s\n",
      "153:\tlearn: 0.1132614\ttotal: 5m 6s\tremaining: 4m 50s\n",
      "154:\tlearn: 0.1130728\ttotal: 5m 8s\tremaining: 4m 48s\n",
      "155:\tlearn: 0.1129825\ttotal: 5m 10s\tremaining: 4m 46s\n",
      "156:\tlearn: 0.1128204\ttotal: 5m 12s\tremaining: 4m 44s\n",
      "157:\tlearn: 0.1127247\ttotal: 5m 14s\tremaining: 4m 42s\n",
      "158:\tlearn: 0.1126304\ttotal: 5m 16s\tremaining: 4m 40s\n",
      "159:\tlearn: 0.1125269\ttotal: 5m 18s\tremaining: 4m 38s\n",
      "160:\tlearn: 0.1124380\ttotal: 5m 20s\tremaining: 4m 36s\n",
      "161:\tlearn: 0.1121772\ttotal: 5m 22s\tremaining: 4m 34s\n",
      "162:\tlearn: 0.1120821\ttotal: 5m 24s\tremaining: 4m 32s\n",
      "163:\tlearn: 0.1117677\ttotal: 5m 26s\tremaining: 4m 30s\n",
      "164:\tlearn: 0.1115920\ttotal: 5m 28s\tremaining: 4m 28s\n",
      "165:\tlearn: 0.1115102\ttotal: 5m 29s\tremaining: 4m 26s\n",
      "166:\tlearn: 0.1114023\ttotal: 5m 31s\tremaining: 4m 24s\n",
      "167:\tlearn: 0.1113157\ttotal: 5m 33s\tremaining: 4m 22s\n",
      "168:\tlearn: 0.1111739\ttotal: 5m 35s\tremaining: 4m 20s\n",
      "169:\tlearn: 0.1110759\ttotal: 5m 37s\tremaining: 4m 18s\n",
      "170:\tlearn: 0.1107579\ttotal: 5m 39s\tremaining: 4m 16s\n",
      "171:\tlearn: 0.1106783\ttotal: 5m 41s\tremaining: 4m 14s\n",
      "172:\tlearn: 0.1105981\ttotal: 5m 43s\tremaining: 4m 11s\n",
      "173:\tlearn: 0.1104869\ttotal: 5m 45s\tremaining: 4m 9s\n",
      "174:\tlearn: 0.1103873\ttotal: 5m 47s\tremaining: 4m 7s\n",
      "175:\tlearn: 0.1103064\ttotal: 5m 49s\tremaining: 4m 5s\n",
      "176:\tlearn: 0.1102258\ttotal: 5m 51s\tremaining: 4m 3s\n",
      "177:\tlearn: 0.1101329\ttotal: 5m 53s\tremaining: 4m 1s\n",
      "178:\tlearn: 0.1099568\ttotal: 5m 55s\tremaining: 4m\n",
      "179:\tlearn: 0.1097229\ttotal: 5m 57s\tremaining: 3m 58s\n",
      "180:\tlearn: 0.1096217\ttotal: 5m 59s\tremaining: 3m 56s\n",
      "181:\tlearn: 0.1095423\ttotal: 6m\tremaining: 3m 53s\n",
      "182:\tlearn: 0.1094610\ttotal: 6m 2s\tremaining: 3m 51s\n",
      "183:\tlearn: 0.1091897\ttotal: 6m 4s\tremaining: 3m 49s\n",
      "184:\tlearn: 0.1091208\ttotal: 6m 6s\tremaining: 3m 47s\n",
      "185:\tlearn: 0.1089672\ttotal: 6m 8s\tremaining: 3m 45s\n",
      "186:\tlearn: 0.1088905\ttotal: 6m 10s\tremaining: 3m 43s\n",
      "187:\tlearn: 0.1086240\ttotal: 6m 12s\tremaining: 3m 41s\n",
      "188:\tlearn: 0.1085492\ttotal: 6m 14s\tremaining: 3m 39s\n",
      "189:\tlearn: 0.1084728\ttotal: 6m 16s\tremaining: 3m 38s\n",
      "190:\tlearn: 0.1082623\ttotal: 6m 19s\tremaining: 3m 36s\n",
      "191:\tlearn: 0.1081944\ttotal: 6m 21s\tremaining: 3m 34s\n",
      "192:\tlearn: 0.1081137\ttotal: 6m 23s\tremaining: 3m 32s\n",
      "193:\tlearn: 0.1078895\ttotal: 6m 25s\tremaining: 3m 30s\n",
      "194:\tlearn: 0.1077842\ttotal: 6m 27s\tremaining: 3m 28s\n",
      "195:\tlearn: 0.1075793\ttotal: 6m 30s\tremaining: 3m 26s\n",
      "196:\tlearn: 0.1074962\ttotal: 6m 32s\tremaining: 3m 25s\n",
      "197:\tlearn: 0.1074209\ttotal: 6m 34s\tremaining: 3m 23s\n",
      "198:\tlearn: 0.1071531\ttotal: 6m 36s\tremaining: 3m 21s\n",
      "199:\tlearn: 0.1070816\ttotal: 6m 38s\tremaining: 3m 19s\n",
      "200:\tlearn: 0.1069903\ttotal: 6m 40s\tremaining: 3m 17s\n",
      "201:\tlearn: 0.1068974\ttotal: 6m 42s\tremaining: 3m 15s\n",
      "202:\tlearn: 0.1066437\ttotal: 6m 44s\tremaining: 3m 13s\n",
      "203:\tlearn: 0.1063523\ttotal: 6m 46s\tremaining: 3m 11s\n",
      "204:\tlearn: 0.1062683\ttotal: 6m 48s\tremaining: 3m 9s\n",
      "205:\tlearn: 0.1061972\ttotal: 6m 50s\tremaining: 3m 7s\n",
      "206:\tlearn: 0.1061235\ttotal: 6m 52s\tremaining: 3m 5s\n",
      "207:\tlearn: 0.1060510\ttotal: 6m 55s\tremaining: 3m 3s\n",
      "208:\tlearn: 0.1057950\ttotal: 6m 57s\tremaining: 3m 1s\n",
      "209:\tlearn: 0.1057143\ttotal: 6m 59s\tremaining: 2m 59s\n",
      "210:\tlearn: 0.1056292\ttotal: 7m 1s\tremaining: 2m 57s\n",
      "211:\tlearn: 0.1054658\ttotal: 7m 3s\tremaining: 2m 55s\n",
      "212:\tlearn: 0.1052687\ttotal: 7m 6s\tremaining: 2m 54s\n",
      "213:\tlearn: 0.1050047\ttotal: 7m 8s\tremaining: 2m 52s\n",
      "214:\tlearn: 0.1047437\ttotal: 7m 10s\tremaining: 2m 50s\n",
      "215:\tlearn: 0.1045140\ttotal: 7m 12s\tremaining: 2m 48s\n",
      "216:\tlearn: 0.1042812\ttotal: 7m 14s\tremaining: 2m 46s\n",
      "217:\tlearn: 0.1041397\ttotal: 7m 16s\tremaining: 2m 44s\n",
      "218:\tlearn: 0.1040750\ttotal: 7m 18s\tremaining: 2m 42s\n",
      "219:\tlearn: 0.1040145\ttotal: 7m 20s\tremaining: 2m 40s\n",
      "220:\tlearn: 0.1039421\ttotal: 7m 23s\tremaining: 2m 38s\n",
      "221:\tlearn: 0.1038743\ttotal: 7m 25s\tremaining: 2m 36s\n",
      "222:\tlearn: 0.1037999\ttotal: 7m 27s\tremaining: 2m 34s\n",
      "223:\tlearn: 0.1037248\ttotal: 7m 29s\tremaining: 2m 32s\n",
      "224:\tlearn: 0.1036602\ttotal: 7m 31s\tremaining: 2m 30s\n",
      "225:\tlearn: 0.1035234\ttotal: 7m 34s\tremaining: 2m 28s\n",
      "226:\tlearn: 0.1034644\ttotal: 7m 36s\tremaining: 2m 26s\n",
      "227:\tlearn: 0.1033999\ttotal: 7m 38s\tremaining: 2m 24s\n",
      "228:\tlearn: 0.1033262\ttotal: 7m 40s\tremaining: 2m 22s\n",
      "229:\tlearn: 0.1032631\ttotal: 7m 42s\tremaining: 2m 20s\n",
      "230:\tlearn: 0.1030572\ttotal: 7m 44s\tremaining: 2m 18s\n",
      "231:\tlearn: 0.1029277\ttotal: 7m 46s\tremaining: 2m 16s\n",
      "232:\tlearn: 0.1028522\ttotal: 7m 47s\tremaining: 2m 14s\n",
      "233:\tlearn: 0.1027882\ttotal: 7m 49s\tremaining: 2m 12s\n",
      "234:\tlearn: 0.1027335\ttotal: 7m 51s\tremaining: 2m 10s\n",
      "235:\tlearn: 0.1025372\ttotal: 7m 53s\tremaining: 2m 8s\n",
      "236:\tlearn: 0.1024831\ttotal: 7m 55s\tremaining: 2m 6s\n",
      "237:\tlearn: 0.1023083\ttotal: 7m 57s\tremaining: 2m 4s\n",
      "238:\tlearn: 0.1022421\ttotal: 7m 59s\tremaining: 2m 2s\n",
      "239:\tlearn: 0.1019824\ttotal: 8m 1s\tremaining: 2m\n",
      "240:\tlearn: 0.1019273\ttotal: 8m 3s\tremaining: 1m 58s\n",
      "241:\tlearn: 0.1017619\ttotal: 8m 5s\tremaining: 1m 56s\n",
      "242:\tlearn: 0.1015845\ttotal: 8m 7s\tremaining: 1m 54s\n",
      "243:\tlearn: 0.1015176\ttotal: 8m 9s\tremaining: 1m 52s\n",
      "244:\tlearn: 0.1013248\ttotal: 8m 10s\tremaining: 1m 50s\n",
      "245:\tlearn: 0.1012698\ttotal: 8m 12s\tremaining: 1m 48s\n",
      "246:\tlearn: 0.1011810\ttotal: 8m 14s\tremaining: 1m 46s\n",
      "247:\tlearn: 0.1011206\ttotal: 8m 16s\tremaining: 1m 44s\n",
      "248:\tlearn: 0.1009864\ttotal: 8m 18s\tremaining: 1m 42s\n",
      "249:\tlearn: 0.1008093\ttotal: 8m 20s\tremaining: 1m 40s\n",
      "250:\tlearn: 0.1005755\ttotal: 8m 22s\tremaining: 1m 38s\n",
      "251:\tlearn: 0.1004931\ttotal: 8m 24s\tremaining: 1m 36s\n",
      "252:\tlearn: 0.1003791\ttotal: 8m 26s\tremaining: 1m 34s\n",
      "253:\tlearn: 0.1003172\ttotal: 8m 28s\tremaining: 1m 32s\n",
      "254:\tlearn: 0.1001752\ttotal: 8m 30s\tremaining: 1m 30s\n",
      "255:\tlearn: 0.0999866\ttotal: 8m 32s\tremaining: 1m 28s\n",
      "256:\tlearn: 0.0999279\ttotal: 8m 34s\tremaining: 1m 26s\n",
      "257:\tlearn: 0.0998707\ttotal: 8m 36s\tremaining: 1m 24s\n",
      "258:\tlearn: 0.0997986\ttotal: 8m 38s\tremaining: 1m 22s\n",
      "259:\tlearn: 0.0997380\ttotal: 8m 39s\tremaining: 1m 19s\n",
      "260:\tlearn: 0.0996211\ttotal: 8m 41s\tremaining: 1m 17s\n",
      "261:\tlearn: 0.0994642\ttotal: 8m 43s\tremaining: 1m 15s\n",
      "262:\tlearn: 0.0993358\ttotal: 8m 45s\tremaining: 1m 13s\n",
      "263:\tlearn: 0.0992868\ttotal: 8m 47s\tremaining: 1m 11s\n",
      "264:\tlearn: 0.0992220\ttotal: 8m 49s\tremaining: 1m 9s\n",
      "265:\tlearn: 0.0991314\ttotal: 8m 51s\tremaining: 1m 7s\n",
      "266:\tlearn: 0.0990664\ttotal: 8m 53s\tremaining: 1m 5s\n",
      "267:\tlearn: 0.0989233\ttotal: 8m 55s\tremaining: 1m 3s\n",
      "268:\tlearn: 0.0988689\ttotal: 8m 57s\tremaining: 1m 1s\n",
      "269:\tlearn: 0.0987445\ttotal: 8m 59s\tremaining: 59.9s\n",
      "270:\tlearn: 0.0986955\ttotal: 9m\tremaining: 57.9s\n",
      "271:\tlearn: 0.0985788\ttotal: 9m 2s\tremaining: 55.9s\n",
      "272:\tlearn: 0.0985179\ttotal: 9m 4s\tremaining: 53.9s\n",
      "273:\tlearn: 0.0984672\ttotal: 9m 6s\tremaining: 51.9s\n",
      "274:\tlearn: 0.0982949\ttotal: 9m 8s\tremaining: 49.9s\n",
      "275:\tlearn: 0.0980008\ttotal: 9m 10s\tremaining: 47.9s\n",
      "276:\tlearn: 0.0979304\ttotal: 9m 12s\tremaining: 45.9s\n",
      "277:\tlearn: 0.0978774\ttotal: 9m 14s\tremaining: 43.8s\n",
      "278:\tlearn: 0.0978198\ttotal: 9m 15s\tremaining: 41.8s\n",
      "279:\tlearn: 0.0975883\ttotal: 9m 17s\tremaining: 39.9s\n",
      "280:\tlearn: 0.0975389\ttotal: 9m 19s\tremaining: 37.9s\n",
      "281:\tlearn: 0.0974844\ttotal: 9m 21s\tremaining: 35.9s\n",
      "282:\tlearn: 0.0974358\ttotal: 9m 23s\tremaining: 33.9s\n",
      "283:\tlearn: 0.0972792\ttotal: 9m 26s\tremaining: 31.9s\n",
      "284:\tlearn: 0.0971346\ttotal: 9m 28s\tremaining: 29.9s\n",
      "285:\tlearn: 0.0970822\ttotal: 9m 30s\tremaining: 27.9s\n",
      "286:\tlearn: 0.0970303\ttotal: 9m 31s\tremaining: 25.9s\n",
      "287:\tlearn: 0.0969754\ttotal: 9m 33s\tremaining: 23.9s\n",
      "288:\tlearn: 0.0967363\ttotal: 9m 35s\tremaining: 21.9s\n",
      "289:\tlearn: 0.0966077\ttotal: 9m 37s\tremaining: 19.9s\n",
      "290:\tlearn: 0.0964908\ttotal: 9m 39s\tremaining: 17.9s\n",
      "291:\tlearn: 0.0964268\ttotal: 9m 41s\tremaining: 15.9s\n",
      "292:\tlearn: 0.0963518\ttotal: 9m 43s\tremaining: 13.9s\n",
      "293:\tlearn: 0.0961986\ttotal: 9m 45s\tremaining: 11.9s\n",
      "294:\tlearn: 0.0961525\ttotal: 9m 47s\tremaining: 9.96s\n",
      "295:\tlearn: 0.0960944\ttotal: 9m 49s\tremaining: 7.96s\n",
      "296:\tlearn: 0.0959363\ttotal: 9m 51s\tremaining: 5.97s\n",
      "297:\tlearn: 0.0958874\ttotal: 9m 53s\tremaining: 3.98s\n",
      "298:\tlearn: 0.0958163\ttotal: 9m 55s\tremaining: 1.99s\n",
      "299:\tlearn: 0.0957593\ttotal: 9m 57s\tremaining: 0us\n",
      "Метрика F1 на тесте: 0.7576875768757688\n"
     ]
    }
   ],
   "source": [
    "boost_model = CatBoostClassifier(\n",
    "    iterations=300,\n",
    "    random_seed=75,\n",
    "    learning_rate=0.4\n",
    ")\n",
    "boost_model.fit(features_train, target_train)\n",
    "print('Метрика F1 на тесте:', f1_score(target_test, boost_model.predict(features_test)))"
   ]
  },
  {
   "cell_type": "markdown",
   "metadata": {},
   "source": [
    "Получилось, что модель градиентного бустинга показывает результат 75.8%, ее параметры можно улучшить, используя поиск по сетке или optuna, но в данный момент результат достигнут с метрикой F1 больше 75."
   ]
  }
 ],
 "metadata": {
  "ExecuteTimeLog": [
   {
    "duration": 525,
    "start_time": "2023-09-04T11:38:44.183Z"
   },
   {
    "duration": 2329,
    "start_time": "2023-09-04T11:39:01.646Z"
   },
   {
    "duration": 1801,
    "start_time": "2023-09-07T14:17:00.843Z"
   },
   {
    "duration": 208,
    "start_time": "2023-09-07T14:17:02.650Z"
   },
   {
    "duration": 0,
    "start_time": "2023-09-07T14:17:02.860Z"
   },
   {
    "duration": 0,
    "start_time": "2023-09-07T14:17:02.861Z"
   },
   {
    "duration": 4338,
    "start_time": "2023-09-07T14:17:16.896Z"
   },
   {
    "duration": 20,
    "start_time": "2023-09-07T14:17:23.463Z"
   },
   {
    "duration": 116181,
    "start_time": "2023-09-07T14:17:24.048Z"
   },
   {
    "duration": 25,
    "start_time": "2023-09-07T14:20:44.064Z"
   },
   {
    "duration": 181,
    "start_time": "2023-09-07T14:21:52.492Z"
   },
   {
    "duration": 4,
    "start_time": "2023-09-07T14:22:10.409Z"
   },
   {
    "duration": 5,
    "start_time": "2023-09-07T14:22:13.504Z"
   },
   {
    "duration": 5,
    "start_time": "2023-09-07T14:22:56.008Z"
   },
   {
    "duration": 12,
    "start_time": "2023-09-07T14:24:32.954Z"
   },
   {
    "duration": 35,
    "start_time": "2023-09-07T14:25:18.054Z"
   },
   {
    "duration": 9,
    "start_time": "2023-09-07T14:25:22.135Z"
   },
   {
    "duration": 9,
    "start_time": "2023-09-07T14:25:29.490Z"
   },
   {
    "duration": 32,
    "start_time": "2023-09-07T14:25:41.682Z"
   },
   {
    "duration": 9,
    "start_time": "2023-09-07T14:25:42.215Z"
   },
   {
    "duration": 11,
    "start_time": "2023-09-07T14:26:37.063Z"
   },
   {
    "duration": 46,
    "start_time": "2023-09-07T14:27:16.456Z"
   },
   {
    "duration": 4,
    "start_time": "2023-09-07T14:27:21.686Z"
   },
   {
    "duration": 8,
    "start_time": "2023-09-07T14:27:28.063Z"
   },
   {
    "duration": 5,
    "start_time": "2023-09-07T14:27:34.787Z"
   },
   {
    "duration": 4,
    "start_time": "2023-09-07T14:29:24.690Z"
   },
   {
    "duration": 70,
    "start_time": "2023-09-07T14:30:47.496Z"
   },
   {
    "duration": 21,
    "start_time": "2023-09-07T14:30:57.920Z"
   },
   {
    "duration": 8,
    "start_time": "2023-09-07T14:33:00.497Z"
   },
   {
    "duration": 11,
    "start_time": "2023-09-07T14:33:18.104Z"
   },
   {
    "duration": 5,
    "start_time": "2023-09-07T14:34:52.223Z"
   },
   {
    "duration": 12,
    "start_time": "2023-09-07T14:35:52.543Z"
   },
   {
    "duration": 12,
    "start_time": "2023-09-07T14:35:56.327Z"
   },
   {
    "duration": 8827,
    "start_time": "2023-09-07T14:36:10.490Z"
   },
   {
    "duration": 4,
    "start_time": "2023-09-07T14:36:21.599Z"
   },
   {
    "duration": 609845,
    "start_time": "2023-09-07T14:36:26.624Z"
   },
   {
    "duration": 426592,
    "start_time": "2023-09-07T14:47:17.457Z"
   },
   {
    "duration": 4,
    "start_time": "2023-09-07T14:55:02.415Z"
   },
   {
    "duration": 23,
    "start_time": "2023-09-07T14:56:11.258Z"
   },
   {
    "duration": 4,
    "start_time": "2023-09-07T14:56:58.849Z"
   },
   {
    "duration": 15,
    "start_time": "2023-09-07T14:57:01.982Z"
   },
   {
    "duration": 2111,
    "start_time": "2023-09-07T14:57:17.598Z"
   },
   {
    "duration": 74,
    "start_time": "2023-09-07T14:57:43.538Z"
   },
   {
    "duration": 700994,
    "start_time": "2023-09-07T14:57:51.885Z"
   },
   {
    "duration": 4,
    "start_time": "2023-09-07T15:10:30.299Z"
   },
   {
    "duration": 95,
    "start_time": "2023-09-07T15:11:32.160Z"
   },
   {
    "duration": 211062,
    "start_time": "2023-09-07T15:11:35.435Z"
   },
   {
    "duration": 16,
    "start_time": "2023-09-07T15:17:22.821Z"
   },
   {
    "duration": 18,
    "start_time": "2023-09-07T15:19:49.060Z"
   },
   {
    "duration": 5,
    "start_time": "2023-09-07T15:20:23.941Z"
   },
   {
    "duration": 125920,
    "start_time": "2023-09-07T15:20:27.660Z"
   },
   {
    "duration": 1271,
    "start_time": "2023-09-07T15:23:30.411Z"
   },
   {
    "duration": 81125,
    "start_time": "2023-09-07T15:23:42.156Z"
   },
   {
    "duration": 1294,
    "start_time": "2023-09-07T15:25:05.448Z"
   },
   {
    "duration": 1364,
    "start_time": "2023-09-07T15:25:16.229Z"
   },
   {
    "duration": 1392,
    "start_time": "2023-09-07T15:25:35.491Z"
   },
   {
    "duration": 1495,
    "start_time": "2023-09-07T15:26:11.944Z"
   },
   {
    "duration": 442987,
    "start_time": "2023-09-07T15:26:35.182Z"
   },
   {
    "duration": 8171,
    "start_time": "2023-09-07T15:36:00.309Z"
   },
   {
    "duration": 12,
    "start_time": "2023-09-07T15:36:20.778Z"
   },
   {
    "duration": 8591,
    "start_time": "2023-09-07T15:36:22.589Z"
   },
   {
    "duration": 10,
    "start_time": "2023-09-07T15:38:34.517Z"
   },
   {
    "duration": 11,
    "start_time": "2023-09-07T15:39:28.326Z"
   },
   {
    "duration": 8490,
    "start_time": "2023-09-07T15:39:31.063Z"
   },
   {
    "duration": 47,
    "start_time": "2023-09-07T15:40:01.967Z"
   },
   {
    "duration": 41,
    "start_time": "2023-09-07T15:40:05.500Z"
   },
   {
    "duration": 46,
    "start_time": "2023-09-07T15:40:09.189Z"
   },
   {
    "duration": 8161,
    "start_time": "2023-09-07T15:40:46.510Z"
   },
   {
    "duration": 66,
    "start_time": "2023-09-07T15:41:46.416Z"
   },
   {
    "duration": 62085,
    "start_time": "2023-09-07T15:41:51.283Z"
   },
   {
    "duration": 1259,
    "start_time": "2023-09-07T15:42:55.998Z"
   },
   {
    "duration": 596910,
    "start_time": "2023-09-07T15:45:41.486Z"
   },
   {
    "duration": 584077,
    "start_time": "2023-09-07T16:03:29.815Z"
   },
   {
    "duration": 1050,
    "start_time": "2023-09-07T16:27:06.160Z"
   },
   {
    "duration": 14855,
    "start_time": "2023-09-07T16:27:20.338Z"
   },
   {
    "duration": 4,
    "start_time": "2023-09-07T16:37:13.404Z"
   },
   {
    "duration": 377,
    "start_time": "2023-09-07T16:37:43.162Z"
   },
   {
    "duration": 50,
    "start_time": "2023-09-08T11:11:57.575Z"
   },
   {
    "duration": 6,
    "start_time": "2023-09-08T11:11:59.783Z"
   },
   {
    "duration": 1436,
    "start_time": "2023-09-08T11:12:01.639Z"
   },
   {
    "duration": 2446,
    "start_time": "2023-09-08T11:12:03.077Z"
   },
   {
    "duration": 12,
    "start_time": "2023-09-08T11:12:08.759Z"
   },
   {
    "duration": 4,
    "start_time": "2023-09-08T11:15:19.685Z"
   },
   {
    "duration": 863,
    "start_time": "2023-09-08T11:15:19.691Z"
   },
   {
    "duration": 10,
    "start_time": "2023-09-08T11:15:20.556Z"
   },
   {
    "duration": 103610,
    "start_time": "2023-09-08T11:15:20.567Z"
   },
   {
    "duration": 231,
    "start_time": "2023-09-08T11:17:04.180Z"
   },
   {
    "duration": 11,
    "start_time": "2023-09-08T11:17:04.412Z"
   },
   {
    "duration": 14,
    "start_time": "2023-09-08T11:17:04.425Z"
   },
   {
    "duration": 7530,
    "start_time": "2023-09-08T11:17:04.440Z"
   },
   {
    "duration": 54688,
    "start_time": "2023-09-08T11:22:29.606Z"
   },
   {
    "duration": 72329,
    "start_time": "2023-09-08T11:24:13.074Z"
   },
   {
    "duration": 828,
    "start_time": "2023-09-08T11:26:07.843Z"
   },
   {
    "duration": 858,
    "start_time": "2023-09-08T11:26:12.501Z"
   },
   {
    "duration": 758,
    "start_time": "2023-09-08T11:27:12.541Z"
   },
   {
    "duration": 143,
    "start_time": "2023-09-08T11:27:20.132Z"
   },
   {
    "duration": 140,
    "start_time": "2023-09-08T11:27:42.340Z"
   },
   {
    "duration": 256,
    "start_time": "2023-09-08T11:27:51.725Z"
   },
   {
    "duration": 246,
    "start_time": "2023-09-08T11:28:07.774Z"
   },
   {
    "duration": 159,
    "start_time": "2023-09-08T11:28:11.629Z"
   },
   {
    "duration": 148,
    "start_time": "2023-09-08T11:28:56.285Z"
   },
   {
    "duration": 1375,
    "start_time": "2023-09-08T11:34:17.678Z"
   },
   {
    "duration": 992,
    "start_time": "2023-09-08T11:34:19.055Z"
   },
   {
    "duration": 13,
    "start_time": "2023-09-08T11:34:20.049Z"
   },
   {
    "duration": 459,
    "start_time": "2023-09-08T11:34:20.063Z"
   },
   {
    "duration": 96307,
    "start_time": "2023-09-08T11:34:20.525Z"
   },
   {
    "duration": 218,
    "start_time": "2023-09-08T11:35:56.834Z"
   },
   {
    "duration": 17,
    "start_time": "2023-09-08T11:35:57.054Z"
   },
   {
    "duration": 7602,
    "start_time": "2023-09-08T11:35:57.074Z"
   },
   {
    "duration": 541435,
    "start_time": "2023-09-08T11:36:04.677Z"
   },
   {
    "duration": 299,
    "start_time": "2023-09-08T11:45:06.114Z"
   },
   {
    "duration": 63396,
    "start_time": "2023-09-08T11:45:06.415Z"
   },
   {
    "duration": 380,
    "start_time": "2023-09-08T11:50:29.426Z"
   },
   {
    "duration": 258,
    "start_time": "2023-09-08T11:50:41.539Z"
   },
   {
    "duration": 78,
    "start_time": "2023-09-08T16:58:33.294Z"
   },
   {
    "duration": 36496,
    "start_time": "2023-09-08T16:58:38.305Z"
   },
   {
    "duration": 7245,
    "start_time": "2023-09-08T17:01:02.090Z"
   },
   {
    "duration": 11487,
    "start_time": "2023-09-08T17:01:09.337Z"
   },
   {
    "duration": 2496,
    "start_time": "2023-09-08T17:01:20.826Z"
   },
   {
    "duration": 12,
    "start_time": "2023-09-08T17:01:23.324Z"
   },
   {
    "duration": 608,
    "start_time": "2023-09-08T17:01:23.338Z"
   },
   {
    "duration": 481,
    "start_time": "2023-09-08T17:01:23.948Z"
   },
   {
    "duration": 423,
    "start_time": "2023-09-08T17:01:43.981Z"
   },
   {
    "duration": 391401,
    "start_time": "2023-09-08T17:01:53.998Z"
   },
   {
    "duration": 3,
    "start_time": "2023-09-08T17:08:49.941Z"
   },
   {
    "duration": 447,
    "start_time": "2023-09-08T17:09:35.126Z"
   },
   {
    "duration": 4,
    "start_time": "2023-09-08T17:11:18.789Z"
   },
   {
    "duration": 583734,
    "start_time": "2023-09-08T17:11:22.669Z"
   },
   {
    "duration": 10,
    "start_time": "2023-09-08T17:21:17.835Z"
   },
   {
    "duration": 1454,
    "start_time": "2023-09-08T17:25:00.665Z"
   },
   {
    "duration": 843,
    "start_time": "2023-09-08T17:25:19.385Z"
   },
   {
    "duration": 532672,
    "start_time": "2023-09-08T17:25:22.277Z"
   },
   {
    "duration": 9,
    "start_time": "2023-09-08T17:34:23.942Z"
   },
   {
    "duration": 141,
    "start_time": "2023-09-08T17:34:49.455Z"
   },
   {
    "duration": 12,
    "start_time": "2023-09-08T17:35:10.906Z"
   },
   {
    "duration": 89,
    "start_time": "2023-09-08T17:35:12.992Z"
   },
   {
    "duration": 805,
    "start_time": "2023-09-08T17:37:57.447Z"
   },
   {
    "duration": 566716,
    "start_time": "2023-09-08T17:38:00.568Z"
   },
   {
    "duration": 8,
    "start_time": "2023-09-08T17:52:00.026Z"
   },
   {
    "duration": 15,
    "start_time": "2023-09-08T17:52:02.192Z"
   },
   {
    "duration": 7630,
    "start_time": "2023-09-08T17:52:04.833Z"
   },
   {
    "duration": 7387,
    "start_time": "2023-09-08T17:59:51.834Z"
   },
   {
    "duration": 15,
    "start_time": "2023-09-08T18:00:01.897Z"
   },
   {
    "duration": 7832,
    "start_time": "2023-09-08T18:00:03.770Z"
   },
   {
    "duration": 4,
    "start_time": "2023-09-08T18:00:27.211Z"
   },
   {
    "duration": 4,
    "start_time": "2023-09-08T18:02:36.082Z"
   },
   {
    "duration": 37,
    "start_time": "2023-09-08T18:04:17.986Z"
   },
   {
    "duration": 43,
    "start_time": "2023-09-08T18:04:53.035Z"
   },
   {
    "duration": 98,
    "start_time": "2023-09-09T18:08:50.647Z"
   },
   {
    "duration": 3065,
    "start_time": "2023-09-09T18:11:22.186Z"
   },
   {
    "duration": 0,
    "start_time": "2023-09-09T18:11:25.253Z"
   },
   {
    "duration": 0,
    "start_time": "2023-09-09T18:11:25.254Z"
   },
   {
    "duration": 0,
    "start_time": "2023-09-09T18:11:25.256Z"
   },
   {
    "duration": 0,
    "start_time": "2023-09-09T18:11:25.257Z"
   },
   {
    "duration": 0,
    "start_time": "2023-09-09T18:11:25.267Z"
   },
   {
    "duration": 0,
    "start_time": "2023-09-09T18:11:25.268Z"
   },
   {
    "duration": 0,
    "start_time": "2023-09-09T18:11:25.269Z"
   },
   {
    "duration": 0,
    "start_time": "2023-09-09T18:11:25.270Z"
   },
   {
    "duration": 0,
    "start_time": "2023-09-09T18:11:25.271Z"
   },
   {
    "duration": 0,
    "start_time": "2023-09-09T18:11:25.272Z"
   },
   {
    "duration": 1560,
    "start_time": "2023-09-10T05:30:51.893Z"
   },
   {
    "duration": 0,
    "start_time": "2023-09-10T05:30:53.455Z"
   },
   {
    "duration": 0,
    "start_time": "2023-09-10T05:30:53.456Z"
   },
   {
    "duration": 0,
    "start_time": "2023-09-10T05:30:53.457Z"
   },
   {
    "duration": 0,
    "start_time": "2023-09-10T05:30:53.458Z"
   },
   {
    "duration": 0,
    "start_time": "2023-09-10T05:30:53.460Z"
   },
   {
    "duration": 0,
    "start_time": "2023-09-10T05:30:53.461Z"
   },
   {
    "duration": 0,
    "start_time": "2023-09-10T05:30:53.462Z"
   },
   {
    "duration": 0,
    "start_time": "2023-09-10T05:30:53.464Z"
   },
   {
    "duration": 0,
    "start_time": "2023-09-10T05:30:53.465Z"
   },
   {
    "duration": 0,
    "start_time": "2023-09-10T05:30:53.466Z"
   },
   {
    "duration": 1456,
    "start_time": "2023-09-10T05:31:05.848Z"
   },
   {
    "duration": 175,
    "start_time": "2023-09-10T05:31:07.306Z"
   },
   {
    "duration": 0,
    "start_time": "2023-09-10T05:31:07.483Z"
   },
   {
    "duration": 0,
    "start_time": "2023-09-10T05:31:07.484Z"
   },
   {
    "duration": 0,
    "start_time": "2023-09-10T05:31:07.485Z"
   },
   {
    "duration": 0,
    "start_time": "2023-09-10T05:31:07.487Z"
   },
   {
    "duration": 0,
    "start_time": "2023-09-10T05:31:07.488Z"
   },
   {
    "duration": 0,
    "start_time": "2023-09-10T05:31:07.489Z"
   },
   {
    "duration": 0,
    "start_time": "2023-09-10T05:31:07.490Z"
   },
   {
    "duration": 0,
    "start_time": "2023-09-10T05:31:07.491Z"
   },
   {
    "duration": 0,
    "start_time": "2023-09-10T05:31:07.492Z"
   },
   {
    "duration": 1702,
    "start_time": "2023-09-10T05:31:28.852Z"
   },
   {
    "duration": 2508,
    "start_time": "2023-09-10T05:31:30.557Z"
   },
   {
    "duration": 14,
    "start_time": "2023-09-10T05:31:33.066Z"
   },
   {
    "duration": 583,
    "start_time": "2023-09-10T05:31:33.082Z"
   },
   {
    "duration": 648,
    "start_time": "2023-09-10T05:31:33.668Z"
   },
   {
    "duration": 0,
    "start_time": "2023-09-10T05:31:34.319Z"
   },
   {
    "duration": 0,
    "start_time": "2023-09-10T05:31:34.320Z"
   },
   {
    "duration": 0,
    "start_time": "2023-09-10T05:31:34.322Z"
   },
   {
    "duration": 0,
    "start_time": "2023-09-10T05:31:34.324Z"
   },
   {
    "duration": 0,
    "start_time": "2023-09-10T05:31:34.325Z"
   },
   {
    "duration": 0,
    "start_time": "2023-09-10T05:31:34.327Z"
   },
   {
    "duration": 57669,
    "start_time": "2023-09-10T05:32:44.963Z"
   },
   {
    "duration": 1713,
    "start_time": "2023-09-10T05:33:42.635Z"
   },
   {
    "duration": 1017,
    "start_time": "2023-09-10T05:33:44.349Z"
   },
   {
    "duration": 15,
    "start_time": "2023-09-10T05:33:45.368Z"
   },
   {
    "duration": 395,
    "start_time": "2023-09-10T05:33:45.385Z"
   },
   {
    "duration": 52605,
    "start_time": "2023-09-10T08:34:40.979Z"
   },
   {
    "duration": 1479,
    "start_time": "2023-09-10T08:35:33.586Z"
   },
   {
    "duration": 3519,
    "start_time": "2023-09-10T08:35:35.067Z"
   },
   {
    "duration": 13,
    "start_time": "2023-09-10T08:35:38.588Z"
   },
   {
    "duration": 634,
    "start_time": "2023-09-10T08:35:38.603Z"
   },
   {
    "duration": 530348,
    "start_time": "2023-09-10T08:35:39.244Z"
   },
   {
    "duration": 163,
    "start_time": "2023-09-10T08:44:29.594Z"
   },
   {
    "duration": 10,
    "start_time": "2023-09-10T08:44:29.759Z"
   },
   {
    "duration": 7187,
    "start_time": "2023-09-10T08:44:29.770Z"
   },
   {
    "duration": 1369817,
    "start_time": "2023-09-10T08:44:36.959Z"
   },
   {
    "duration": 117668,
    "start_time": "2023-09-10T09:07:26.778Z"
   },
   {
    "duration": 633656,
    "start_time": "2023-09-10T09:09:24.448Z"
   },
   {
    "duration": 44114,
    "start_time": "2023-09-15T17:20:34.661Z"
   },
   {
    "duration": 1419,
    "start_time": "2023-09-15T17:21:18.778Z"
   },
   {
    "duration": 2629,
    "start_time": "2023-09-15T17:21:20.198Z"
   },
   {
    "duration": 13,
    "start_time": "2023-09-15T17:21:22.829Z"
   },
   {
    "duration": 660,
    "start_time": "2023-09-15T17:21:22.844Z"
   },
   {
    "duration": 504016,
    "start_time": "2023-09-15T17:21:23.506Z"
   },
   {
    "duration": 143,
    "start_time": "2023-09-15T17:29:47.523Z"
   },
   {
    "duration": 11,
    "start_time": "2023-09-15T17:29:47.667Z"
   },
   {
    "duration": 6641,
    "start_time": "2023-09-15T17:29:47.679Z"
   },
   {
    "duration": 5,
    "start_time": "2023-09-15T17:34:36.482Z"
   },
   {
    "duration": 17,
    "start_time": "2023-09-15T18:16:07.640Z"
   }
  ],
  "kernelspec": {
   "display_name": "Python 3 (ipykernel)",
   "language": "python",
   "name": "python3"
  },
  "language_info": {
   "codemirror_mode": {
    "name": "ipython",
    "version": 3
   },
   "file_extension": ".py",
   "mimetype": "text/x-python",
   "name": "python",
   "nbconvert_exporter": "python",
   "pygments_lexer": "ipython3",
   "version": "3.10.9"
  },
  "toc": {
   "base_numbering": 1,
   "nav_menu": {},
   "number_sections": true,
   "sideBar": true,
   "skip_h1_title": true,
   "title_cell": "Содержание",
   "title_sidebar": "Contents",
   "toc_cell": true,
   "toc_position": {
    "height": "calc(100% - 180px)",
    "left": "10px",
    "top": "150px",
    "width": "237px"
   },
   "toc_section_display": true,
   "toc_window_display": true
  }
 },
 "nbformat": 4,
 "nbformat_minor": 2
}
