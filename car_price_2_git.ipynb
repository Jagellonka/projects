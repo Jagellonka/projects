{
 "cells": [
  {
   "cell_type": "markdown",
   "id": "24d11ea2",
   "metadata": {},
   "source": [
    "# Описание задачи"
   ]
  },
  {
   "cell_type": "markdown",
   "id": "8fc8b066",
   "metadata": {},
   "source": [
    "Многие знают про маркетплейсы где продаются б/у вещи, на которых есть возможность недорого купить качественную и полезную вещь. Но всегда волнует вопрос - кто и как устанавливает цену, и какие его характеристики больше всего влияют на итоговую стоимость продажи?! Вопрос становиться особо актуальным, если речь идет про дорогие товары, например про автомобили!\n",
    "\n",
    "Целью вашего проекта будет разработанная модель предсказания стоимости автомобиля на вторичном рынке."
   ]
  },
  {
   "cell_type": "markdown",
   "id": "0d6369ef",
   "metadata": {},
   "source": [
    "# Метрика качества"
   ]
  },
  {
   "cell_type": "markdown",
   "id": "db1e2398",
   "metadata": {},
   "source": [
    "Работа вашей модели будет оцениваться по метрике MAPE (Mean Absolute Percentage Error)"
   ]
  },
  {
   "cell_type": "markdown",
   "id": "34b9d0e2",
   "metadata": {},
   "source": [
    "# Описание полей данных"
   ]
  },
  {
   "cell_type": "markdown",
   "id": "13005202",
   "metadata": {},
   "source": [
    "- Date: Год выпуска автомобиля.\n",
    "- Make: Марка автомобиля.\n",
    "- Model: Модель автомобиля определенной марки.\n",
    "- Trim: Модификации автомобиля.\n",
    "- Body: Тип кузова транспортного средства относится к форме и модели конкретной марки автомобиля.\n",
    "- Transmission: Тип коробки передач.\n",
    "- VIN: Идентификационный номер транспортного средства.\n",
    "- State: Штат регистрации автомобиля\n",
    "- Condition: Состояние автомобилей на момент аукциона.\n",
    "- Odometer: Пробег - расстояние, пройденное автомобилем с момента выпуска.\n",
    "- Color: Цвет кузова автомобиля.\n",
    "- Interior: Цвет салона автомобиля.\n",
    "- Seller: Продавец автомобиля, автосалоны.\n",
    "- sellingprice: цена, по которой автомобиль был продан на аукционе.\n",
    "- saledate: Дата продажи автомобиля."
   ]
  },
  {
   "cell_type": "markdown",
   "id": "2e3c11e7",
   "metadata": {},
   "source": [
    "## Подготовка"
   ]
  },
  {
   "cell_type": "code",
   "execution_count": 1,
   "id": "af670540",
   "metadata": {
    "scrolled": true
   },
   "outputs": [],
   "source": [
    "import pandas as pd # библиотека Pandas\n",
    "from sklearn.pipeline import Pipeline, FeatureUnion # pipe\n",
    "from sklearn.preprocessing import StandardScaler # стандартизация\n",
    "from sklearn.metrics import mean_absolute_percentage_error\n",
    "from sklearn.preprocessing import OneHotEncoder\n",
    "from sklearn.compose import ColumnTransformer\n",
    "import optuna\n",
    "from sklearn.ensemble import RandomForestRegressor\n",
    "from sklearn.model_selection import cross_val_score\n",
    "from sklearn.metrics import make_scorer\n",
    "from sklearn.metrics import get_scorer_names\n",
    "from sklearn.model_selection import GridSearchCV\n",
    "from sklearn.model_selection import cross_validate\n",
    "from sklearn.metrics import mean_absolute_percentage_error\n",
    "from dateutil.parser import parse\n",
    "from sklearn.model_selection import train_test_split\n",
    "from lightgbm import LGBMRegressor # модель бустинга\n",
    "import scipy.stats as ss\n",
    "import seaborn as sns\n",
    "import numpy as np\n",
    "from sklearn.linear_model import LinearRegression, Lasso, Ridge, SGDRegressor # Линейная регрессия\n",
    "from catboost import CatBoostClassifier, CatBoostRegressor, Pool, cv, CatBoost\n",
    "from sklearn.ensemble import StackingRegressor\n",
    "from sklearn.svm import LinearSVR\n",
    "\n",
    "from category_encoders.m_estimate import MEstimateEncoder\n",
    "from sklearn.pipeline import make_pipeline"
   ]
  },
  {
   "cell_type": "markdown",
   "id": "d7837332",
   "metadata": {},
   "source": [
    "Заранее пропишем функцию для корреляции Крамера."
   ]
  },
  {
   "cell_type": "code",
   "execution_count": 2,
   "id": "720c996d",
   "metadata": {},
   "outputs": [],
   "source": [
    "def cramers_v(confusion_matrix):\n",
    "    chi2 = ss.chi2_contingency(confusion_matrix)[0]\n",
    "    n = confusion_matrix.sum()\n",
    "    phi2 = chi2 / n\n",
    "    r, k = confusion_matrix.shape\n",
    "    phi2corr = max(0, phi2 - ((k-1)*(r-1))/(n-1))\n",
    "    rcorr = r - ((r-1)**2)/(n-1)\n",
    "    kcorr = k - ((k-1)**2)/(n-1)\n",
    "    return np.sqrt(phi2corr / min((kcorr-1), (rcorr-1)))"
   ]
  },
  {
   "cell_type": "markdown",
   "id": "2b251518",
   "metadata": {},
   "source": [
    "Загрузим датасет и посмотрим корреляции категориальных признаков."
   ]
  },
  {
   "cell_type": "code",
   "execution_count": 3,
   "id": "55007124",
   "metadata": {
    "scrolled": true
   },
   "outputs": [],
   "source": [
    "data = pd.read_csv('train.csv')\n",
    "data.drop(columns=['vin'], inplace=True)\n",
    "num_cols = data._get_numeric_data().columns\n",
    "cat_cols = list(set(data.columns) - set(num_cols))\n",
    "# for cat in cat_cols:\n",
    "#     confusion_matrix = pd.crosstab(data[cat], data['sellingprice'])\n",
    "#     print(cat, cramers_v(confusion_matrix.values))"
   ]
  },
  {
   "cell_type": "markdown",
   "id": "96e4ecdd",
   "metadata": {},
   "source": [
    "Наибольшие корреляции с целевым признаком наблюдаются у марки автомобиля, модели, продавца."
   ]
  },
  {
   "cell_type": "markdown",
   "id": "10fc6945",
   "metadata": {},
   "source": [
    "Проверим уникальные значения полей."
   ]
  },
  {
   "cell_type": "code",
   "execution_count": 4,
   "id": "71fd87b0",
   "metadata": {},
   "outputs": [
    {
     "data": {
      "text/plain": [
       "array(['Ford', 'Nissan', 'HUMMER', 'Lincoln', 'pontiac', 'Hyundai', nan,\n",
       "       'Buick', 'Chevrolet', 'Honda', 'Acura', 'Cadillac', 'GMC', 'Saab',\n",
       "       'Dodge', 'Mercedes-Benz', 'Toyota', 'Volkswagen', 'BMW',\n",
       "       'Infiniti', 'Chrysler', 'Kia', 'Jaguar', 'Subaru', 'Jeep', 'Lexus',\n",
       "       'mercedes', 'Scion', 'FIAT', 'Suzuki', 'Mazda', 'Volvo', 'Audi',\n",
       "       'MINI', 'Isuzu', 'Mitsubishi', 'smart', 'Pontiac', 'Porsche',\n",
       "       'subaru', 'ford', 'Land Rover', 'chrysler', 'Saturn', 'mazda',\n",
       "       'dodge', 'Ram', 'Oldsmobile', 'hyundai', 'Mercury', 'Bentley',\n",
       "       'toyota', 'lincoln', 'Fisker', 'nissan', 'chevrolet', 'honda',\n",
       "       'porsche', 'mitsubishi', 'lexus', 'bmw', 'Maserati', 'acura',\n",
       "       'jeep', 'mercury', 'Tesla', 'landrover', 'vw', 'cadillac', 'buick',\n",
       "       'gmc truck', 'land rover', 'volkswagen', 'Rolls-Royce', 'audi',\n",
       "       'Ferrari', 'suzuki', 'Plymouth', 'oldsmobile', 'Lamborghini',\n",
       "       'gmc', 'Geo', 'ford truck', 'Aston Martin', 'plymouth', 'Daewoo',\n",
       "       'maserati', 'kia', 'mercedes-b', 'dodge tk', 'mazda tk', 'dot',\n",
       "       'airstream'], dtype=object)"
      ]
     },
     "execution_count": 4,
     "metadata": {},
     "output_type": "execute_result"
    }
   ],
   "source": [
    "data['make'].unique()"
   ]
  },
  {
   "cell_type": "markdown",
   "id": "ada8d406",
   "metadata": {},
   "source": [
    "Некоторые названия дублируются с различными регистрами и сокращениями, приведем все к нижнему регистру."
   ]
  },
  {
   "cell_type": "code",
   "execution_count": 5,
   "id": "94108cf9",
   "metadata": {},
   "outputs": [],
   "source": [
    "data['make'] = data['make'].str.lower()"
   ]
  },
  {
   "cell_type": "code",
   "execution_count": 6,
   "id": "e7e38316",
   "metadata": {
    "scrolled": true
   },
   "outputs": [
    {
     "name": "stdout",
     "output_type": "stream",
     "text": [
      "['acura', 'airstream', 'aston martin', 'audi', 'bentley', 'bmw', 'buick', 'cadillac', 'chevrolet', 'chrysler', 'daewoo', 'dodge', 'dodge tk', 'dot', 'ferrari', 'fiat', 'fisker', 'ford', 'ford truck', 'geo', 'gmc', 'gmc truck', 'honda', 'hummer', 'hyundai', 'infiniti', 'isuzu', 'jaguar', 'jeep', 'kia', 'lamborghini', 'land rover', 'landrover', 'lexus', 'lincoln', 'maserati', 'mazda', 'mazda tk', 'mercedes', 'mercedes-b', 'mercedes-benz', 'mercury', 'mini', 'mitsubishi', 'nan', 'nissan', 'oldsmobile', 'plymouth', 'pontiac', 'porsche', 'ram', 'rolls-royce', 'saab', 'saturn', 'scion', 'smart', 'subaru', 'suzuki', 'tesla', 'toyota', 'volkswagen', 'volvo', 'vw']\n"
     ]
    }
   ],
   "source": [
    "print(sorted(data['make'].unique().astype(str)))"
   ]
  },
  {
   "cell_type": "markdown",
   "id": "4487678b",
   "metadata": {},
   "source": [
    "Создадим словарь, по которому будем приводить названия к одному виду."
   ]
  },
  {
   "cell_type": "code",
   "execution_count": 7,
   "id": "6671dacb",
   "metadata": {},
   "outputs": [],
   "source": [
    "auto_dict = {'land rover': 'landrover', 'mercedes-b' : 'mercedes', 'mercedes-benz': 'mercedes', 'vw' : 'volkswagen'}"
   ]
  },
  {
   "cell_type": "code",
   "execution_count": 8,
   "id": "01fe11d5",
   "metadata": {},
   "outputs": [],
   "source": [
    "data['make'] = data['make'].apply(lambda x: auto_dict.get(x) if x in auto_dict else x)"
   ]
  },
  {
   "cell_type": "markdown",
   "id": "8216f0fa",
   "metadata": {},
   "source": [
    "Построим графики зависимости цены от марки машины."
   ]
  },
  {
   "cell_type": "code",
   "execution_count": 9,
   "id": "d5e06cb6",
   "metadata": {
    "scrolled": true
   },
   "outputs": [
    {
     "data": {
      "text/plain": [
       "<Axes: xlabel='make'>"
      ]
     },
     "execution_count": 9,
     "metadata": {},
     "output_type": "execute_result"
    },
    {
     "data": {
      "image/png": "[encoded data removed]",
      "text/plain": [
       "<Figure size 1800x900 with 1 Axes>"
      ]
     },
     "metadata": {},
     "output_type": "display_data"
    }
   ],
   "source": [
    "data.pivot_table(index='make', values='sellingprice', aggfunc='median').reset_index()\\\n",
    ".plot(x='make', y='sellingprice', kind='bar', figsize=(18, 9))"
   ]
  },
  {
   "cell_type": "markdown",
   "id": "5a5591ba",
   "metadata": {},
   "source": [
    "Можно легко заметить, что цены на автомобили в зависимости от марки существенно отличаются."
   ]
  },
  {
   "cell_type": "code",
   "execution_count": 10,
   "id": "718a490e",
   "metadata": {
    "scrolled": true
   },
   "outputs": [
    {
     "data": {
      "text/plain": [
       "<Axes: xlabel='condition'>"
      ]
     },
     "execution_count": 10,
     "metadata": {},
     "output_type": "execute_result"
    },
    {
     "data": {
      "image/png": "[encoded data removed]",
      "text/plain": [
       "<Figure size 1800x900 with 1 Axes>"
      ]
     },
     "metadata": {},
     "output_type": "display_data"
    }
   ],
   "source": [
    "data.groupby('condition')['sellingprice'].median().plot(kind='bar', figsize=(18, 9))"
   ]
  },
  {
   "cell_type": "markdown",
   "id": "c42daa11",
   "metadata": {},
   "source": [
    "Также в среднем по состоянию автомобиля цена растет."
   ]
  },
  {
   "cell_type": "markdown",
   "id": "d8574a6d",
   "metadata": {},
   "source": [
    "Оценим разброс значений."
   ]
  },
  {
   "cell_type": "code",
   "execution_count": 11,
   "id": "65d43dff",
   "metadata": {
    "scrolled": true
   },
   "outputs": [
    {
     "data": {
      "text/html": [
       "<div>\n",
       "<style scoped>\n",
       "    .dataframe tbody tr th:only-of-type {\n",
       "        vertical-align: middle;\n",
       "    }\n",
       "\n",
       "    .dataframe tbody tr th {\n",
       "        vertical-align: top;\n",
       "    }\n",
       "\n",
       "    .dataframe thead th {\n",
       "        text-align: right;\n",
       "    }\n",
       "</style>\n",
       "<table border=\"1\" class=\"dataframe\">\n",
       "  <thead>\n",
       "    <tr style=\"text-align: right;\">\n",
       "      <th></th>\n",
       "      <th>year</th>\n",
       "      <th>condition</th>\n",
       "      <th>odometer</th>\n",
       "      <th>sellingprice</th>\n",
       "    </tr>\n",
       "  </thead>\n",
       "  <tbody>\n",
       "    <tr>\n",
       "      <th>count</th>\n",
       "      <td>440236.000000</td>\n",
       "      <td>430831.000000</td>\n",
       "      <td>440167.000000</td>\n",
       "      <td>440236.000000</td>\n",
       "    </tr>\n",
       "    <tr>\n",
       "      <th>mean</th>\n",
       "      <td>2010.040101</td>\n",
       "      <td>3.425077</td>\n",
       "      <td>68344.421604</td>\n",
       "      <td>13592.209588</td>\n",
       "    </tr>\n",
       "    <tr>\n",
       "      <th>std</th>\n",
       "      <td>3.977945</td>\n",
       "      <td>0.949973</td>\n",
       "      <td>53542.203908</td>\n",
       "      <td>9751.479098</td>\n",
       "    </tr>\n",
       "    <tr>\n",
       "      <th>min</th>\n",
       "      <td>1982.000000</td>\n",
       "      <td>1.000000</td>\n",
       "      <td>1.000000</td>\n",
       "      <td>1.000000</td>\n",
       "    </tr>\n",
       "    <tr>\n",
       "      <th>25%</th>\n",
       "      <td>2007.000000</td>\n",
       "      <td>2.700000</td>\n",
       "      <td>28258.000000</td>\n",
       "      <td>6900.000000</td>\n",
       "    </tr>\n",
       "    <tr>\n",
       "      <th>50%</th>\n",
       "      <td>2012.000000</td>\n",
       "      <td>3.600000</td>\n",
       "      <td>52098.000000</td>\n",
       "      <td>12100.000000</td>\n",
       "    </tr>\n",
       "    <tr>\n",
       "      <th>75%</th>\n",
       "      <td>2013.000000</td>\n",
       "      <td>4.200000</td>\n",
       "      <td>99272.000000</td>\n",
       "      <td>18200.000000</td>\n",
       "    </tr>\n",
       "    <tr>\n",
       "      <th>max</th>\n",
       "      <td>2015.000000</td>\n",
       "      <td>5.000000</td>\n",
       "      <td>999999.000000</td>\n",
       "      <td>230000.000000</td>\n",
       "    </tr>\n",
       "  </tbody>\n",
       "</table>\n",
       "</div>"
      ],
      "text/plain": [
       "                year      condition       odometer   sellingprice\n",
       "count  440236.000000  430831.000000  440167.000000  440236.000000\n",
       "mean     2010.040101       3.425077   68344.421604   13592.209588\n",
       "std         3.977945       0.949973   53542.203908    9751.479098\n",
       "min      1982.000000       1.000000       1.000000       1.000000\n",
       "25%      2007.000000       2.700000   28258.000000    6900.000000\n",
       "50%      2012.000000       3.600000   52098.000000   12100.000000\n",
       "75%      2013.000000       4.200000   99272.000000   18200.000000\n",
       "max      2015.000000       5.000000  999999.000000  230000.000000"
      ]
     },
     "execution_count": 11,
     "metadata": {},
     "output_type": "execute_result"
    }
   ],
   "source": [
    "data.describe()"
   ]
  },
  {
   "cell_type": "markdown",
   "id": "3e63a50b",
   "metadata": {},
   "source": [
    "Можно заметить, что у некоторых автомобилей почти отсутстует пробег, проверим эти данные."
   ]
  },
  {
   "cell_type": "code",
   "execution_count": 12,
   "id": "79a94a28",
   "metadata": {},
   "outputs": [
    {
     "data": {
      "text/html": [
       "<div>\n",
       "<style scoped>\n",
       "    .dataframe tbody tr th:only-of-type {\n",
       "        vertical-align: middle;\n",
       "    }\n",
       "\n",
       "    .dataframe tbody tr th {\n",
       "        vertical-align: top;\n",
       "    }\n",
       "\n",
       "    .dataframe thead th {\n",
       "        text-align: right;\n",
       "    }\n",
       "</style>\n",
       "<table border=\"1\" class=\"dataframe\">\n",
       "  <thead>\n",
       "    <tr style=\"text-align: right;\">\n",
       "      <th></th>\n",
       "      <th>year</th>\n",
       "      <th>make</th>\n",
       "      <th>model</th>\n",
       "      <th>trim</th>\n",
       "      <th>body</th>\n",
       "      <th>transmission</th>\n",
       "      <th>state</th>\n",
       "      <th>condition</th>\n",
       "      <th>odometer</th>\n",
       "      <th>color</th>\n",
       "      <th>interior</th>\n",
       "      <th>seller</th>\n",
       "      <th>sellingprice</th>\n",
       "      <th>saledate</th>\n",
       "    </tr>\n",
       "  </thead>\n",
       "  <tbody>\n",
       "    <tr>\n",
       "      <th>125</th>\n",
       "      <td>2000</td>\n",
       "      <td>jeep</td>\n",
       "      <td>Cherokee</td>\n",
       "      <td>Sport</td>\n",
       "      <td>SUV</td>\n",
       "      <td>automatic</td>\n",
       "      <td>ny</td>\n",
       "      <td>3.1</td>\n",
       "      <td>1.0</td>\n",
       "      <td>blue</td>\n",
       "      <td>gray</td>\n",
       "      <td>morehead auto sales inc</td>\n",
       "      <td>300</td>\n",
       "      <td>Wed Jan 21 2015 01:00:00 GMT-0800 (PST)</td>\n",
       "    </tr>\n",
       "    <tr>\n",
       "      <th>212</th>\n",
       "      <td>2007</td>\n",
       "      <td>gmc</td>\n",
       "      <td>Yukon</td>\n",
       "      <td>SLE</td>\n",
       "      <td>SUV</td>\n",
       "      <td>automatic</td>\n",
       "      <td>tx</td>\n",
       "      <td>2.1</td>\n",
       "      <td>1.0</td>\n",
       "      <td>black</td>\n",
       "      <td>black</td>\n",
       "      <td>shamaley buick gmc</td>\n",
       "      <td>10000</td>\n",
       "      <td>Thu Jan 22 2015 04:00:00 GMT-0800 (PST)</td>\n",
       "    </tr>\n",
       "    <tr>\n",
       "      <th>270</th>\n",
       "      <td>2000</td>\n",
       "      <td>nissan</td>\n",
       "      <td>Altima</td>\n",
       "      <td>GXE</td>\n",
       "      <td>Sedan</td>\n",
       "      <td>automatic</td>\n",
       "      <td>nv</td>\n",
       "      <td>2.0</td>\n",
       "      <td>1.0</td>\n",
       "      <td>black</td>\n",
       "      <td>—</td>\n",
       "      <td>titlemax of eastern ave. - nv 7</td>\n",
       "      <td>800</td>\n",
       "      <td>Thu Mar 05 2015 03:00:00 GMT-0800 (PST)</td>\n",
       "    </tr>\n",
       "    <tr>\n",
       "      <th>788</th>\n",
       "      <td>2013</td>\n",
       "      <td>hyundai</td>\n",
       "      <td>Accent</td>\n",
       "      <td>GLS</td>\n",
       "      <td>Sedan</td>\n",
       "      <td>automatic</td>\n",
       "      <td>az</td>\n",
       "      <td>1.0</td>\n",
       "      <td>1.0</td>\n",
       "      <td>red</td>\n",
       "      <td>gray</td>\n",
       "      <td>enterprise vehicle exchange / tra / rental / t...</td>\n",
       "      <td>4700</td>\n",
       "      <td>Wed Jan 07 2015 11:00:00 GMT-0800 (PST)</td>\n",
       "    </tr>\n",
       "    <tr>\n",
       "      <th>993</th>\n",
       "      <td>1997</td>\n",
       "      <td>toyota</td>\n",
       "      <td>Camry</td>\n",
       "      <td>XLE</td>\n",
       "      <td>Sedan</td>\n",
       "      <td>automatic</td>\n",
       "      <td>ga</td>\n",
       "      <td>2.0</td>\n",
       "      <td>1.0</td>\n",
       "      <td>beige</td>\n",
       "      <td>tan</td>\n",
       "      <td>capital auto auction</td>\n",
       "      <td>1000</td>\n",
       "      <td>Thu Feb 19 2015 04:30:00 GMT-0800 (PST)</td>\n",
       "    </tr>\n",
       "    <tr>\n",
       "      <th>...</th>\n",
       "      <td>...</td>\n",
       "      <td>...</td>\n",
       "      <td>...</td>\n",
       "      <td>...</td>\n",
       "      <td>...</td>\n",
       "      <td>...</td>\n",
       "      <td>...</td>\n",
       "      <td>...</td>\n",
       "      <td>...</td>\n",
       "      <td>...</td>\n",
       "      <td>...</td>\n",
       "      <td>...</td>\n",
       "      <td>...</td>\n",
       "      <td>...</td>\n",
       "    </tr>\n",
       "    <tr>\n",
       "      <th>438289</th>\n",
       "      <td>2002</td>\n",
       "      <td>acura</td>\n",
       "      <td>RL</td>\n",
       "      <td>3.5</td>\n",
       "      <td>Sedan</td>\n",
       "      <td>automatic</td>\n",
       "      <td>mo</td>\n",
       "      <td>1.9</td>\n",
       "      <td>1.0</td>\n",
       "      <td>black</td>\n",
       "      <td>tan</td>\n",
       "      <td>hendrick lexus kansas city</td>\n",
       "      <td>1400</td>\n",
       "      <td>Wed Dec 31 2014 10:30:00 GMT-0800 (PST)</td>\n",
       "    </tr>\n",
       "    <tr>\n",
       "      <th>439216</th>\n",
       "      <td>1999</td>\n",
       "      <td>oldsmobile</td>\n",
       "      <td>intrigue</td>\n",
       "      <td>base</td>\n",
       "      <td>NaN</td>\n",
       "      <td>automatic</td>\n",
       "      <td>sc</td>\n",
       "      <td>NaN</td>\n",
       "      <td>1.0</td>\n",
       "      <td>green</td>\n",
       "      <td>beige</td>\n",
       "      <td>thomas auto sales inc</td>\n",
       "      <td>500</td>\n",
       "      <td>Thu Dec 18 2014 10:15:00 GMT-0800 (PST)</td>\n",
       "    </tr>\n",
       "    <tr>\n",
       "      <th>439366</th>\n",
       "      <td>2002</td>\n",
       "      <td>toyota</td>\n",
       "      <td>Camry</td>\n",
       "      <td>SE</td>\n",
       "      <td>Sedan</td>\n",
       "      <td>NaN</td>\n",
       "      <td>il</td>\n",
       "      <td>NaN</td>\n",
       "      <td>1.0</td>\n",
       "      <td>gray</td>\n",
       "      <td>—</td>\n",
       "      <td>grossinger city toyota</td>\n",
       "      <td>2850</td>\n",
       "      <td>Thu Dec 18 2014 13:00:00 GMT-0800 (PST)</td>\n",
       "    </tr>\n",
       "    <tr>\n",
       "      <th>439525</th>\n",
       "      <td>2005</td>\n",
       "      <td>nissan</td>\n",
       "      <td>Quest</td>\n",
       "      <td>3.5 SE</td>\n",
       "      <td>Minivan</td>\n",
       "      <td>automatic</td>\n",
       "      <td>fl</td>\n",
       "      <td>2.4</td>\n",
       "      <td>1.0</td>\n",
       "      <td>red</td>\n",
       "      <td>—</td>\n",
       "      <td>mid atlantic finance/clearwater</td>\n",
       "      <td>4500</td>\n",
       "      <td>Thu Jun 18 2015 09:50:00 GMT-0700 (PDT)</td>\n",
       "    </tr>\n",
       "    <tr>\n",
       "      <th>439922</th>\n",
       "      <td>2001</td>\n",
       "      <td>honda</td>\n",
       "      <td>Accord</td>\n",
       "      <td>Value Package</td>\n",
       "      <td>Sedan</td>\n",
       "      <td>NaN</td>\n",
       "      <td>oh</td>\n",
       "      <td>1.0</td>\n",
       "      <td>1.0</td>\n",
       "      <td>silver</td>\n",
       "      <td>gray</td>\n",
       "      <td>select remarketing group llc/loan max title</td>\n",
       "      <td>300</td>\n",
       "      <td>Tue Dec 30 2014 13:00:00 GMT-0800 (PST)</td>\n",
       "    </tr>\n",
       "  </tbody>\n",
       "</table>\n",
       "<p>1059 rows × 14 columns</p>\n",
       "</div>"
      ],
      "text/plain": [
       "        year        make     model           trim     body transmission state  \\\n",
       "125     2000        jeep  Cherokee          Sport      SUV    automatic    ny   \n",
       "212     2007         gmc     Yukon            SLE      SUV    automatic    tx   \n",
       "270     2000      nissan    Altima            GXE    Sedan    automatic    nv   \n",
       "788     2013     hyundai    Accent            GLS    Sedan    automatic    az   \n",
       "993     1997      toyota     Camry            XLE    Sedan    automatic    ga   \n",
       "...      ...         ...       ...            ...      ...          ...   ...   \n",
       "438289  2002       acura        RL            3.5    Sedan    automatic    mo   \n",
       "439216  1999  oldsmobile  intrigue           base      NaN    automatic    sc   \n",
       "439366  2002      toyota     Camry             SE    Sedan          NaN    il   \n",
       "439525  2005      nissan     Quest         3.5 SE  Minivan    automatic    fl   \n",
       "439922  2001       honda    Accord  Value Package    Sedan          NaN    oh   \n",
       "\n",
       "        condition  odometer   color interior  \\\n",
       "125           3.1       1.0    blue     gray   \n",
       "212           2.1       1.0   black    black   \n",
       "270           2.0       1.0   black        —   \n",
       "788           1.0       1.0     red     gray   \n",
       "993           2.0       1.0   beige      tan   \n",
       "...           ...       ...     ...      ...   \n",
       "438289        1.9       1.0   black      tan   \n",
       "439216        NaN       1.0   green    beige   \n",
       "439366        NaN       1.0    gray        —   \n",
       "439525        2.4       1.0     red        —   \n",
       "439922        1.0       1.0  silver     gray   \n",
       "\n",
       "                                                   seller  sellingprice  \\\n",
       "125                               morehead auto sales inc           300   \n",
       "212                                    shamaley buick gmc         10000   \n",
       "270                       titlemax of eastern ave. - nv 7           800   \n",
       "788     enterprise vehicle exchange / tra / rental / t...          4700   \n",
       "993                                  capital auto auction          1000   \n",
       "...                                                   ...           ...   \n",
       "438289                         hendrick lexus kansas city          1400   \n",
       "439216                              thomas auto sales inc           500   \n",
       "439366                             grossinger city toyota          2850   \n",
       "439525                    mid atlantic finance/clearwater          4500   \n",
       "439922        select remarketing group llc/loan max title           300   \n",
       "\n",
       "                                       saledate  \n",
       "125     Wed Jan 21 2015 01:00:00 GMT-0800 (PST)  \n",
       "212     Thu Jan 22 2015 04:00:00 GMT-0800 (PST)  \n",
       "270     Thu Mar 05 2015 03:00:00 GMT-0800 (PST)  \n",
       "788     Wed Jan 07 2015 11:00:00 GMT-0800 (PST)  \n",
       "993     Thu Feb 19 2015 04:30:00 GMT-0800 (PST)  \n",
       "...                                         ...  \n",
       "438289  Wed Dec 31 2014 10:30:00 GMT-0800 (PST)  \n",
       "439216  Thu Dec 18 2014 10:15:00 GMT-0800 (PST)  \n",
       "439366  Thu Dec 18 2014 13:00:00 GMT-0800 (PST)  \n",
       "439525  Thu Jun 18 2015 09:50:00 GMT-0700 (PDT)  \n",
       "439922  Tue Dec 30 2014 13:00:00 GMT-0800 (PST)  \n",
       "\n",
       "[1059 rows x 14 columns]"
      ]
     },
     "execution_count": 12,
     "metadata": {},
     "output_type": "execute_result"
    }
   ],
   "source": [
    "data.query('odometer == 1')"
   ]
  },
  {
   "cell_type": "markdown",
   "id": "c2c8e47b",
   "metadata": {},
   "source": [
    "Таких данных довольно много и состояние у автомобилей чаще всего плохое, так что следует поправить это значение."
   ]
  },
  {
   "cell_type": "markdown",
   "id": "67912134",
   "metadata": {},
   "source": [
    "Напишем функцию предобработки данных. Добавим год продажи в качестве признака, умножим на 100 тысяч значения с пробегом 1, также мы уберем выбросы, поставив ценовую вилку для каждой модели машины от 70 до 130 % от средней стоимости."
   ]
  },
  {
   "cell_type": "code",
   "execution_count": 13,
   "id": "4a38923b",
   "metadata": {},
   "outputs": [],
   "source": [
    "def preprocessing(data):\n",
    "    data['saledate'] = pd.to_datetime(data['saledate'], infer_datetime_format=True, utc=True )\n",
    "    data['saledate'] = data['saledate'].dt.tz_convert('UTC')\n",
    "    data['saleyear'] = pd.DatetimeIndex(data['saledate']).year\n",
    "    data.drop(columns='saledate', inplace=True)\n",
    "    data['transmission'].fillna(data.groupby(['make', 'model', 'trim', 'body'])['transmission'].transform('first'), inplace=True) \n",
    "    data['odometer'] = data['odometer'].apply(lambda x: x * 100000 if x==1 else x)\n",
    "    data['mean_model_sellingprice'] = data.groupby(\n",
    "        ['make', 'model', 'trim', 'body', 'year', 'saleyear', 'color', 'interior', 'state'])['sellingprice'].transform('median')\n",
    "    data = data.query('mean_model_sellingprice * 0.7 < sellingprice < mean_model_sellingprice * 1.3')\n",
    "    data.drop(columns=['mean_model_sellingprice'], inplace=True)\n",
    "    print(data.isna().sum())\n",
    "    print(data.shape)\n",
    "    return data"
   ]
  },
  {
   "cell_type": "code",
   "execution_count": 14,
   "id": "65b6a093",
   "metadata": {
    "scrolled": false
   },
   "outputs": [
    {
     "name": "stderr",
     "output_type": "stream",
     "text": [
      "C:\\Users\\New\\AppData\\Local\\Temp\\ipykernel_3252\\1373986185.py:2: UserWarning: The argument 'infer_datetime_format' is deprecated and will be removed in a future version. A strict version of it is now the default, see https://pandas.pydata.org/pdeps/0004-consistent-to-datetime-parsing.html. You can safely remove this argument.\n",
      "  data['saledate'] = pd.to_datetime(data['saledate'], infer_datetime_format=True, utc=True )\n",
      "C:\\Users\\New\\AppData\\Local\\Temp\\ipykernel_3252\\1373986185.py:2: UserWarning: Could not infer format, so each element will be parsed individually, falling back to `dateutil`. To ensure parsing is consistent and as-expected, please specify a format.\n",
      "  data['saledate'] = pd.to_datetime(data['saledate'], infer_datetime_format=True, utc=True )\n"
     ]
    },
    {
     "name": "stdout",
     "output_type": "stream",
     "text": [
      "year               0\n",
      "make               0\n",
      "model              0\n",
      "trim               0\n",
      "body               0\n",
      "transmission     140\n",
      "state              0\n",
      "condition       8749\n",
      "odometer          54\n",
      "color              0\n",
      "interior           0\n",
      "seller             0\n",
      "sellingprice       0\n",
      "saleyear           0\n",
      "dtype: int64\n",
      "(419990, 14)\n"
     ]
    },
    {
     "name": "stderr",
     "output_type": "stream",
     "text": [
      "C:\\Users\\New\\AppData\\Local\\Temp\\ipykernel_3252\\1373986185.py:11: SettingWithCopyWarning: \n",
      "A value is trying to be set on a copy of a slice from a DataFrame\n",
      "\n",
      "See the caveats in the documentation: https://pandas.pydata.org/pandas-docs/stable/user_guide/indexing.html#returning-a-view-versus-a-copy\n",
      "  data.drop(columns=['mean_model_sellingprice'], inplace=True)\n"
     ]
    }
   ],
   "source": [
    "data = preprocessing(data)"
   ]
  },
  {
   "cell_type": "code",
   "execution_count": 15,
   "id": "42283a81",
   "metadata": {
    "scrolled": true
   },
   "outputs": [
    {
     "data": {
      "text/html": [
       "<div>\n",
       "<style scoped>\n",
       "    .dataframe tbody tr th:only-of-type {\n",
       "        vertical-align: middle;\n",
       "    }\n",
       "\n",
       "    .dataframe tbody tr th {\n",
       "        vertical-align: top;\n",
       "    }\n",
       "\n",
       "    .dataframe thead th {\n",
       "        text-align: right;\n",
       "    }\n",
       "</style>\n",
       "<table border=\"1\" class=\"dataframe\">\n",
       "  <thead>\n",
       "    <tr style=\"text-align: right;\">\n",
       "      <th></th>\n",
       "      <th>year</th>\n",
       "      <th>make</th>\n",
       "      <th>model</th>\n",
       "      <th>trim</th>\n",
       "      <th>body</th>\n",
       "      <th>transmission</th>\n",
       "      <th>state</th>\n",
       "      <th>condition</th>\n",
       "      <th>odometer</th>\n",
       "      <th>color</th>\n",
       "      <th>interior</th>\n",
       "      <th>seller</th>\n",
       "      <th>sellingprice</th>\n",
       "      <th>saleyear</th>\n",
       "    </tr>\n",
       "  </thead>\n",
       "  <tbody>\n",
       "    <tr>\n",
       "      <th>0</th>\n",
       "      <td>2011</td>\n",
       "      <td>ford</td>\n",
       "      <td>Edge</td>\n",
       "      <td>SEL</td>\n",
       "      <td>suv</td>\n",
       "      <td>automatic</td>\n",
       "      <td>md</td>\n",
       "      <td>4.2</td>\n",
       "      <td>111041.0</td>\n",
       "      <td>black</td>\n",
       "      <td>black</td>\n",
       "      <td>santander consumer</td>\n",
       "      <td>12500</td>\n",
       "      <td>2015</td>\n",
       "    </tr>\n",
       "    <tr>\n",
       "      <th>1</th>\n",
       "      <td>2014</td>\n",
       "      <td>ford</td>\n",
       "      <td>Fusion</td>\n",
       "      <td>SE</td>\n",
       "      <td>Sedan</td>\n",
       "      <td>automatic</td>\n",
       "      <td>mo</td>\n",
       "      <td>3.5</td>\n",
       "      <td>31034.0</td>\n",
       "      <td>black</td>\n",
       "      <td>black</td>\n",
       "      <td>ars/avis budget group</td>\n",
       "      <td>14500</td>\n",
       "      <td>2015</td>\n",
       "    </tr>\n",
       "    <tr>\n",
       "      <th>2</th>\n",
       "      <td>2012</td>\n",
       "      <td>nissan</td>\n",
       "      <td>Sentra</td>\n",
       "      <td>2.0 SL</td>\n",
       "      <td>sedan</td>\n",
       "      <td>automatic</td>\n",
       "      <td>nj</td>\n",
       "      <td>2.2</td>\n",
       "      <td>35619.0</td>\n",
       "      <td>black</td>\n",
       "      <td>black</td>\n",
       "      <td>nissan-infiniti lt</td>\n",
       "      <td>9100</td>\n",
       "      <td>2015</td>\n",
       "    </tr>\n",
       "    <tr>\n",
       "      <th>3</th>\n",
       "      <td>2003</td>\n",
       "      <td>hummer</td>\n",
       "      <td>H2</td>\n",
       "      <td>Base</td>\n",
       "      <td>suv</td>\n",
       "      <td>automatic</td>\n",
       "      <td>tx</td>\n",
       "      <td>2.8</td>\n",
       "      <td>131301.0</td>\n",
       "      <td>gold</td>\n",
       "      <td>beige</td>\n",
       "      <td>wichita falls ford lin inc</td>\n",
       "      <td>13300</td>\n",
       "      <td>2015</td>\n",
       "    </tr>\n",
       "    <tr>\n",
       "      <th>4</th>\n",
       "      <td>2007</td>\n",
       "      <td>ford</td>\n",
       "      <td>Fusion</td>\n",
       "      <td>SEL</td>\n",
       "      <td>Sedan</td>\n",
       "      <td>automatic</td>\n",
       "      <td>md</td>\n",
       "      <td>2.0</td>\n",
       "      <td>127709.0</td>\n",
       "      <td>black</td>\n",
       "      <td>black</td>\n",
       "      <td>purple heart</td>\n",
       "      <td>1300</td>\n",
       "      <td>2015</td>\n",
       "    </tr>\n",
       "    <tr>\n",
       "      <th>...</th>\n",
       "      <td>...</td>\n",
       "      <td>...</td>\n",
       "      <td>...</td>\n",
       "      <td>...</td>\n",
       "      <td>...</td>\n",
       "      <td>...</td>\n",
       "      <td>...</td>\n",
       "      <td>...</td>\n",
       "      <td>...</td>\n",
       "      <td>...</td>\n",
       "      <td>...</td>\n",
       "      <td>...</td>\n",
       "      <td>...</td>\n",
       "      <td>...</td>\n",
       "    </tr>\n",
       "    <tr>\n",
       "      <th>440231</th>\n",
       "      <td>2013</td>\n",
       "      <td>kia</td>\n",
       "      <td>Optima</td>\n",
       "      <td>EX Hybrid</td>\n",
       "      <td>Sedan</td>\n",
       "      <td>automatic</td>\n",
       "      <td>ca</td>\n",
       "      <td>4.5</td>\n",
       "      <td>20434.0</td>\n",
       "      <td>white</td>\n",
       "      <td>beige</td>\n",
       "      <td>kia motors america, inc</td>\n",
       "      <td>16000</td>\n",
       "      <td>2015</td>\n",
       "    </tr>\n",
       "    <tr>\n",
       "      <th>440232</th>\n",
       "      <td>2014</td>\n",
       "      <td>mini</td>\n",
       "      <td>Cooper Countryman</td>\n",
       "      <td>S ALL4</td>\n",
       "      <td>Wagon</td>\n",
       "      <td>automatic</td>\n",
       "      <td>wi</td>\n",
       "      <td>2.9</td>\n",
       "      <td>14675.0</td>\n",
       "      <td>white</td>\n",
       "      <td>black</td>\n",
       "      <td>bmw mini financial services</td>\n",
       "      <td>24250</td>\n",
       "      <td>2015</td>\n",
       "    </tr>\n",
       "    <tr>\n",
       "      <th>440233</th>\n",
       "      <td>2008</td>\n",
       "      <td>bmw</td>\n",
       "      <td>6 Series</td>\n",
       "      <td>650i</td>\n",
       "      <td>Coupe</td>\n",
       "      <td>automatic</td>\n",
       "      <td>ca</td>\n",
       "      <td>3.7</td>\n",
       "      <td>102552.0</td>\n",
       "      <td>gray</td>\n",
       "      <td>black</td>\n",
       "      <td>studio city auto group</td>\n",
       "      <td>16750</td>\n",
       "      <td>2015</td>\n",
       "    </tr>\n",
       "    <tr>\n",
       "      <th>440234</th>\n",
       "      <td>2014</td>\n",
       "      <td>ram</td>\n",
       "      <td>2500</td>\n",
       "      <td>SLT</td>\n",
       "      <td>Crew Cab</td>\n",
       "      <td>automatic</td>\n",
       "      <td>tx</td>\n",
       "      <td>3.0</td>\n",
       "      <td>29367.0</td>\n",
       "      <td>white</td>\n",
       "      <td>gray</td>\n",
       "      <td>express car &amp; truck rental</td>\n",
       "      <td>33000</td>\n",
       "      <td>2015</td>\n",
       "    </tr>\n",
       "    <tr>\n",
       "      <th>440235</th>\n",
       "      <td>2013</td>\n",
       "      <td>nissan</td>\n",
       "      <td>Rogue</td>\n",
       "      <td>SV</td>\n",
       "      <td>SUV</td>\n",
       "      <td>automatic</td>\n",
       "      <td>il</td>\n",
       "      <td>3.5</td>\n",
       "      <td>27924.0</td>\n",
       "      <td>silver</td>\n",
       "      <td>gray</td>\n",
       "      <td>ec sales,llc</td>\n",
       "      <td>14500</td>\n",
       "      <td>2015</td>\n",
       "    </tr>\n",
       "  </tbody>\n",
       "</table>\n",
       "<p>419990 rows × 14 columns</p>\n",
       "</div>"
      ],
      "text/plain": [
       "        year    make              model       trim      body transmission  \\\n",
       "0       2011    ford               Edge        SEL       suv    automatic   \n",
       "1       2014    ford             Fusion         SE     Sedan    automatic   \n",
       "2       2012  nissan             Sentra     2.0 SL     sedan    automatic   \n",
       "3       2003  hummer                 H2       Base       suv    automatic   \n",
       "4       2007    ford             Fusion        SEL     Sedan    automatic   \n",
       "...      ...     ...                ...        ...       ...          ...   \n",
       "440231  2013     kia             Optima  EX Hybrid     Sedan    automatic   \n",
       "440232  2014    mini  Cooper Countryman     S ALL4     Wagon    automatic   \n",
       "440233  2008     bmw           6 Series       650i     Coupe    automatic   \n",
       "440234  2014     ram               2500        SLT  Crew Cab    automatic   \n",
       "440235  2013  nissan              Rogue         SV       SUV    automatic   \n",
       "\n",
       "       state  condition  odometer   color interior  \\\n",
       "0         md        4.2  111041.0   black    black   \n",
       "1         mo        3.5   31034.0   black    black   \n",
       "2         nj        2.2   35619.0   black    black   \n",
       "3         tx        2.8  131301.0    gold    beige   \n",
       "4         md        2.0  127709.0   black    black   \n",
       "...      ...        ...       ...     ...      ...   \n",
       "440231    ca        4.5   20434.0   white    beige   \n",
       "440232    wi        2.9   14675.0   white    black   \n",
       "440233    ca        3.7  102552.0    gray    black   \n",
       "440234    tx        3.0   29367.0   white     gray   \n",
       "440235    il        3.5   27924.0  silver     gray   \n",
       "\n",
       "                             seller  sellingprice  saleyear  \n",
       "0                santander consumer         12500      2015  \n",
       "1             ars/avis budget group         14500      2015  \n",
       "2                nissan-infiniti lt          9100      2015  \n",
       "3        wichita falls ford lin inc         13300      2015  \n",
       "4                      purple heart          1300      2015  \n",
       "...                             ...           ...       ...  \n",
       "440231      kia motors america, inc         16000      2015  \n",
       "440232  bmw mini financial services         24250      2015  \n",
       "440233       studio city auto group         16750      2015  \n",
       "440234   express car & truck rental         33000      2015  \n",
       "440235                 ec sales,llc         14500      2015  \n",
       "\n",
       "[419990 rows x 14 columns]"
      ]
     },
     "execution_count": 15,
     "metadata": {},
     "output_type": "execute_result"
    }
   ],
   "source": [
    "data"
   ]
  },
  {
   "cell_type": "markdown",
   "id": "10c0e3a8",
   "metadata": {},
   "source": [
    "Создадим этапы pipeline, категориальные признаки кодируем OHE, стандартизируем числовые признаки."
   ]
  },
  {
   "cell_type": "code",
   "execution_count": 16,
   "id": "49112186",
   "metadata": {},
   "outputs": [],
   "source": [
    "num_pipeline = Pipeline(steps=[\n",
    "    ('scale', StandardScaler())\n",
    "])\n",
    "cat_pipeline = Pipeline(steps=[\n",
    "    ('OHE', OneHotEncoder(handle_unknown='ignore', drop='first'))\n",
    "])"
   ]
  },
  {
   "cell_type": "code",
   "execution_count": 17,
   "id": "58cb3491",
   "metadata": {},
   "outputs": [],
   "source": [
    "num_cols = list(data._get_numeric_data().columns)\n",
    "cat_cols = list(set(data.columns) - set(num_cols))\n",
    "num_cols.remove('sellingprice')"
   ]
  },
  {
   "cell_type": "code",
   "execution_count": 18,
   "id": "dbf9bf75",
   "metadata": {},
   "outputs": [
    {
     "data": {
      "text/plain": [
       "(['make',\n",
       "  'trim',\n",
       "  'color',\n",
       "  'seller',\n",
       "  'model',\n",
       "  'interior',\n",
       "  'body',\n",
       "  'transmission',\n",
       "  'state'],\n",
       " ['year', 'condition', 'odometer', 'saleyear'])"
      ]
     },
     "execution_count": 18,
     "metadata": {},
     "output_type": "execute_result"
    }
   ],
   "source": [
    "cat_cols, num_cols"
   ]
  },
  {
   "cell_type": "code",
   "execution_count": 19,
   "id": "8d42f15f",
   "metadata": {},
   "outputs": [],
   "source": [
    "col_trans = ColumnTransformer(transformers=[\n",
    "    ('num_pipeline', num_pipeline, num_cols),\n",
    "    ('cat_pipeline', cat_pipeline, cat_cols)\n",
    "    ],\n",
    "    remainder='passthrough',\n",
    "    n_jobs=-1)"
   ]
  },
  {
   "cell_type": "markdown",
   "id": "d0a5fb01",
   "metadata": {},
   "source": [
    "Разделяем датасет на тренировочный и тестовый датасет."
   ]
  },
  {
   "cell_type": "code",
   "execution_count": 20,
   "id": "0db2d403",
   "metadata": {},
   "outputs": [],
   "source": [
    "features_train = data.drop(columns='sellingprice', axis=1)\n",
    "target_train = data['sellingprice']\n",
    "X_train, X_test, y_train, y_test = train_test_split(features_train, target_train, test_size=0.2, random_state=75)"
   ]
  },
  {
   "cell_type": "markdown",
   "id": "6653c08b",
   "metadata": {},
   "source": [
    "Пишем функцию для optuna."
   ]
  },
  {
   "cell_type": "code",
   "execution_count": 21,
   "id": "3c9406ab",
   "metadata": {},
   "outputs": [],
   "source": [
    "def objective_gbm(trial):\n",
    "    params_gbm = {\n",
    "        \"objective\": 'regression',\n",
    "        \"n_estimators\": 1000,\n",
    "        \"verbosity\": -1,\n",
    "        \"learning_rate\": trial.suggest_float(\"learning_rate\", 1e-3, 0.1, log=True),\n",
    "        \"num_leaves\": trial.suggest_int(\"num_leaves\", 2, 2**10),\n",
    "        \"subsample\": trial.suggest_float(\"subsample\", 0.05, 1.0),\n",
    "        \"colsample_bytree\": trial.suggest_float(\"colsample_bytree\", 0.05, 1.0),\n",
    "        \"min_data_in_leaf\": trial.suggest_int(\"min_data_in_leaf\", 1, 100),\n",
    "        \"lambda_l1\": trial.suggest_float(\"lambda_l1\", 1e-8, 10.0, log=True),\n",
    "        \"lambda_l2\": trial.suggest_float(\"lambda_l2\", 1e-8, 10.0, log=True),\n",
    "        \"feature_fraction\": trial.suggest_float(\"feature_fraction\", 0.4, 1.0),\n",
    "        \"bagging_fraction\": trial.suggest_float(\"bagging_fraction\", 0.4, 1.0),\n",
    "        \"bagging_freq\": trial.suggest_int(\"bagging_freq\", 1, 7),\n",
    "        \"min_child_samples\": trial.suggest_int(\"min_child_samples\", 5, 100),\n",
    "    }\n",
    "    \n",
    "    gbm_model = LGBMRegressor(**params_gbm)\n",
    "    \n",
    "    pipeline = Pipeline(steps=[\n",
    "        ('col_trans', col_trans),\n",
    "        ('model', gbm_model)\n",
    "    ])\n",
    "    \n",
    "    mape = cross_val_score(pipeline, X_train, y_train, cv=3, scoring='neg_mean_absolute_percentage_error').mean()\n",
    "    \n",
    "    return mape"
   ]
  },
  {
   "cell_type": "markdown",
   "id": "c36941ce",
   "metadata": {},
   "source": [
    "Запускаем обучение."
   ]
  },
  {
   "cell_type": "code",
   "execution_count": 28,
   "id": "22d23d46",
   "metadata": {
    "scrolled": true
   },
   "outputs": [
    {
     "name": "stderr",
     "output_type": "stream",
     "text": [
      "[I 2023-09-20 18:03:58,166] A new study created in memory with name: Train\n",
      "[I 2023-09-20 18:08:24,192] Trial 0 finished with value: -0.15496019803831887 and parameters: {'learning_rate': 0.026199472337129947, 'num_leaves': 653, 'subsample': 0.22345252182415237, 'colsample_bytree': 0.6110040898482486, 'min_data_in_leaf': 93, 'lambda_l1': 0.17397355439855489, 'lambda_l2': 0.004647736291761403, 'feature_fraction': 0.7723077536564795, 'bagging_fraction': 0.7355970426498897, 'bagging_freq': 5, 'min_child_samples': 15}. Best is trial 0 with value: -0.15496019803831887.\n",
      "[I 2023-09-20 18:09:36,652] Trial 1 finished with value: -0.16999689403225685 and parameters: {'learning_rate': 0.05637131722033917, 'num_leaves': 61, 'subsample': 0.5770017405536768, 'colsample_bytree': 0.1054986869817342, 'min_data_in_leaf': 83, 'lambda_l1': 3.8413378236325513, 'lambda_l2': 6.655510295748272e-08, 'feature_fraction': 0.6857182785349418, 'bagging_fraction': 0.8033862680625521, 'bagging_freq': 2, 'min_child_samples': 88}. Best is trial 0 with value: -0.15496019803831887.\n",
      "[I 2023-09-20 18:13:53,931] Trial 2 finished with value: -0.1569593016956137 and parameters: {'learning_rate': 0.009740699862653301, 'num_leaves': 884, 'subsample': 0.5189998703652605, 'colsample_bytree': 0.6115077512284576, 'min_data_in_leaf': 94, 'lambda_l1': 0.0023618119698126006, 'lambda_l2': 2.6727712688408602e-06, 'feature_fraction': 0.8807387061682385, 'bagging_fraction': 0.770959512419535, 'bagging_freq': 1, 'min_child_samples': 6}. Best is trial 0 with value: -0.15496019803831887.\n",
      "[I 2023-09-20 18:17:24,445] Trial 3 finished with value: -0.1426623921229602 and parameters: {'learning_rate': 0.03716421005159744, 'num_leaves': 444, 'subsample': 0.330459360979825, 'colsample_bytree': 0.9604238132129225, 'min_data_in_leaf': 35, 'lambda_l1': 0.022528585320034704, 'lambda_l2': 0.20095090968277393, 'feature_fraction': 0.5527050391823738, 'bagging_fraction': 0.8893329736773898, 'bagging_freq': 7, 'min_child_samples': 42}. Best is trial 3 with value: -0.1426623921229602.\n",
      "[I 2023-09-20 18:20:53,498] Trial 4 finished with value: -0.14433483865872168 and parameters: {'learning_rate': 0.02869121625174094, 'num_leaves': 177, 'subsample': 0.7431445471526913, 'colsample_bytree': 0.12804198722173832, 'min_data_in_leaf': 3, 'lambda_l1': 0.000768159832859057, 'lambda_l2': 4.412364759254179e-05, 'feature_fraction': 0.77399822898509, 'bagging_fraction': 0.4263179311558576, 'bagging_freq': 6, 'min_child_samples': 66}. Best is trial 3 with value: -0.1426623921229602.\n",
      "[I 2023-09-20 18:28:13,987] Trial 5 finished with value: -0.14890691498362404 and parameters: {'learning_rate': 0.0186874531116106, 'num_leaves': 949, 'subsample': 0.1314029428838735, 'colsample_bytree': 0.6796959032061773, 'min_data_in_leaf': 39, 'lambda_l1': 1.237383655659124e-06, 'lambda_l2': 0.007450953661774156, 'feature_fraction': 0.9944351030600607, 'bagging_fraction': 0.5621986351593535, 'bagging_freq': 4, 'min_child_samples': 87}. Best is trial 3 with value: -0.1426623921229602.\n",
      "[I 2023-09-20 18:32:42,931] Trial 6 finished with value: -0.5211896041510048 and parameters: {'learning_rate': 0.0016705602606727748, 'num_leaves': 579, 'subsample': 0.4148581584224375, 'colsample_bytree': 0.3646384696184434, 'min_data_in_leaf': 9, 'lambda_l1': 0.08538460519915413, 'lambda_l2': 0.005233198323381978, 'feature_fraction': 0.6629960111358231, 'bagging_fraction': 0.7741018721440106, 'bagging_freq': 4, 'min_child_samples': 33}. Best is trial 3 with value: -0.1426623921229602.\n",
      "[I 2023-09-20 18:35:54,788] Trial 7 finished with value: -0.5393275042381518 and parameters: {'learning_rate': 0.001575600989436662, 'num_leaves': 745, 'subsample': 0.26640447209232127, 'colsample_bytree': 0.5882541537473358, 'min_data_in_leaf': 20, 'lambda_l1': 0.0014228866680961348, 'lambda_l2': 1.6042001137710133e-07, 'feature_fraction': 0.6614700295257387, 'bagging_fraction': 0.4425011254668754, 'bagging_freq': 5, 'min_child_samples': 23}. Best is trial 3 with value: -0.1426623921229602.\n",
      "[I 2023-09-20 18:36:41,899] Trial 8 finished with value: -0.19584424868577285 and parameters: {'learning_rate': 0.018846140696344996, 'num_leaves': 45, 'subsample': 0.6574773796445808, 'colsample_bytree': 0.7003974472468695, 'min_data_in_leaf': 44, 'lambda_l1': 3.76076331385808e-08, 'lambda_l2': 4.186071598298787e-08, 'feature_fraction': 0.6084057638251205, 'bagging_fraction': 0.5877166512857523, 'bagging_freq': 6, 'min_child_samples': 79}. Best is trial 3 with value: -0.1426623921229602.\n",
      "[I 2023-09-20 18:38:57,043] Trial 9 finished with value: -0.17725341675064224 and parameters: {'learning_rate': 0.005566991672929302, 'num_leaves': 358, 'subsample': 0.17287642354068083, 'colsample_bytree': 0.8635583786043055, 'min_data_in_leaf': 54, 'lambda_l1': 6.2253896357776695, 'lambda_l2': 2.2768992952559281e-07, 'feature_fraction': 0.7752540117021602, 'bagging_fraction': 0.8381236624241599, 'bagging_freq': 5, 'min_child_samples': 35}. Best is trial 3 with value: -0.1426623921229602.\n",
      "[I 2023-09-20 18:41:31,702] Trial 10 finished with value: -0.15732495371399122 and parameters: {'learning_rate': 0.08422845342328844, 'num_leaves': 372, 'subsample': 0.7939348249647171, 'colsample_bytree': 0.9662944491811607, 'min_data_in_leaf': 65, 'lambda_l1': 8.216086240260673e-06, 'lambda_l2': 7.910458989257777, 'feature_fraction': 0.4347518973124779, 'bagging_fraction': 0.9747134123532188, 'bagging_freq': 7, 'min_child_samples': 53}. Best is trial 3 with value: -0.1426623921229602.\n",
      "[I 2023-09-20 18:47:03,751] Trial 11 finished with value: -0.13771721507399992 and parameters: {'learning_rate': 0.04266270910233664, 'num_leaves': 287, 'subsample': 0.8532974780931756, 'colsample_bytree': 0.38439419506279937, 'min_data_in_leaf': 2, 'lambda_l1': 0.0002261068269782202, 'lambda_l2': 2.983496904607668e-05, 'feature_fraction': 0.5293810499661622, 'bagging_fraction': 0.4534946319382329, 'bagging_freq': 7, 'min_child_samples': 60}. Best is trial 11 with value: -0.13771721507399992.\n",
      "[I 2023-09-20 18:49:41,903] Trial 12 finished with value: -0.1419149989145776 and parameters: {'learning_rate': 0.0987245478919232, 'num_leaves': 371, 'subsample': 0.9526920709032769, 'colsample_bytree': 0.3874009704444581, 'min_data_in_leaf': 27, 'lambda_l1': 3.926119289184287e-05, 'lambda_l2': 0.49604964043906724, 'feature_fraction': 0.5270575358830217, 'bagging_fraction': 0.9204122732455909, 'bagging_freq': 7, 'min_child_samples': 49}. Best is trial 11 with value: -0.13771721507399992.\n",
      "[I 2023-09-20 18:51:38,270] Trial 13 finished with value: -0.14560384952463726 and parameters: {'learning_rate': 0.09767116812744743, 'num_leaves': 237, 'subsample': 0.9929470385163058, 'colsample_bytree': 0.39460327772641357, 'min_data_in_leaf': 21, 'lambda_l1': 3.062339405894312e-05, 'lambda_l2': 6.556183780782728e-05, 'feature_fraction': 0.4827965315582606, 'bagging_fraction': 0.6648784990136181, 'bagging_freq': 7, 'min_child_samples': 55}. Best is trial 11 with value: -0.13771721507399992.\n",
      "[I 2023-09-20 18:53:54,170] Trial 14 finished with value: -0.14068922030891848 and parameters: {'learning_rate': 0.05469262690954053, 'num_leaves': 264, 'subsample': 0.9826028043586401, 'colsample_bytree': 0.42060528684626836, 'min_data_in_leaf': 22, 'lambda_l1': 6.554928348150264e-05, 'lambda_l2': 8.461658326732698e-06, 'feature_fraction': 0.5114236869467089, 'bagging_fraction': 0.9029322538955944, 'bagging_freq': 3, 'min_child_samples': 66}. Best is trial 11 with value: -0.13771721507399992.\n",
      "[I 2023-09-20 18:56:39,071] Trial 15 finished with value: -0.13943774908850362 and parameters: {'learning_rate': 0.04824317397609911, 'num_leaves': 215, 'subsample': 0.8501301533058644, 'colsample_bytree': 0.26870555505113325, 'min_data_in_leaf': 8, 'lambda_l1': 0.00021709351278273548, 'lambda_l2': 5.245036382751776e-06, 'feature_fraction': 0.40216985876062616, 'bagging_fraction': 0.979825999350214, 'bagging_freq': 3, 'min_child_samples': 68}. Best is trial 11 with value: -0.13771721507399992.\n",
      "[I 2023-09-20 19:01:56,693] Trial 16 finished with value: -0.1436227386600246 and parameters: {'learning_rate': 0.046957711240316294, 'num_leaves': 185, 'subsample': 0.8235436992111178, 'colsample_bytree': 0.24396537076488872, 'min_data_in_leaf': 1, 'lambda_l1': 1.5672982682574305e-06, 'lambda_l2': 1.707187805981337e-06, 'feature_fraction': 0.4236123980356793, 'bagging_fraction': 0.986423154748552, 'bagging_freq': 3, 'min_child_samples': 73}. Best is trial 11 with value: -0.13771721507399992.\n",
      "[I 2023-09-20 19:05:50,299] Trial 17 finished with value: -0.15082553622692565 and parameters: {'learning_rate': 0.012756427619285748, 'num_leaves': 525, 'subsample': 0.8648963133224808, 'colsample_bytree': 0.24439390530379543, 'min_data_in_leaf': 12, 'lambda_l1': 0.00029425400449617246, 'lambda_l2': 1.1664694374964544e-08, 'feature_fraction': 0.4047854813019084, 'bagging_fraction': 0.6842160745122408, 'bagging_freq': 2, 'min_child_samples': 96}. Best is trial 11 with value: -0.13771721507399992.\n",
      "[I 2023-09-20 19:06:10,402] Trial 18 finished with value: -0.28055271616646454 and parameters: {'learning_rate': 0.035930634252037436, 'num_leaves': 7, 'subsample': 0.7151815694420249, 'colsample_bytree': 0.4677931868854668, 'min_data_in_leaf': 60, 'lambda_l1': 0.0027110705164484026, 'lambda_l2': 0.00031275864104639354, 'feature_fraction': 0.580914547505382, 'bagging_fraction': 0.4951073374377802, 'bagging_freq': 3, 'min_child_samples': 59}. Best is trial 11 with value: -0.13771721507399992.\n",
      "[I 2023-09-20 19:07:23,592] Trial 19 finished with value: -0.14542837874161046 and parameters: {'learning_rate': 0.06344972118464148, 'num_leaves': 164, 'subsample': 0.8666700071819256, 'colsample_bytree': 0.29097746580743444, 'min_data_in_leaf': 12, 'lambda_l1': 0.00030263454715284346, 'lambda_l2': 1.0634668546614289e-06, 'feature_fraction': 0.4799849562669492, 'bagging_fraction': 0.6263774626753643, 'bagging_freq': 1, 'min_child_samples': 76}. Best is trial 11 with value: -0.13771721507399992.\n",
      "[I 2023-09-20 19:09:15,251] Trial 20 finished with value: -0.16552372706480803 and parameters: {'learning_rate': 0.04238555688609252, 'num_leaves': 293, 'subsample': 0.652798782543334, 'colsample_bytree': 0.49941305197575603, 'min_data_in_leaf': 74, 'lambda_l1': 0.01165020877277409, 'lambda_l2': 1.432253496222731e-05, 'feature_fraction': 0.4691954054408013, 'bagging_fraction': 0.531988533110026, 'bagging_freq': 2, 'min_child_samples': 66}. Best is trial 11 with value: -0.13771721507399992.\n",
      "[I 2023-09-20 19:11:18,983] Trial 21 finished with value: -0.1456393082080114 and parameters: {'learning_rate': 0.06770881016059083, 'num_leaves': 262, 'subsample': 0.9247165718939935, 'colsample_bytree': 0.19615600304680914, 'min_data_in_leaf': 29, 'lambda_l1': 9.375800530683628e-05, 'lambda_l2': 7.1088035401641e-06, 'feature_fraction': 0.520306783520658, 'bagging_fraction': 0.873220340257952, 'bagging_freq': 3, 'min_child_samples': 66}. Best is trial 11 with value: -0.13771721507399992.\n",
      "[I 2023-09-20 19:12:57,805] Trial 22 finished with value: -0.1497348247277673 and parameters: {'learning_rate': 0.05646506297318093, 'num_leaves': 113, 'subsample': 0.9156370997253368, 'colsample_bytree': 0.052677639640974216, 'min_data_in_leaf': 16, 'lambda_l1': 6.705135429669741e-05, 'lambda_l2': 3.173003967333937e-05, 'feature_fraction': 0.4067037795478017, 'bagging_fraction': 0.942711030298374, 'bagging_freq': 3, 'min_child_samples': 60}. Best is trial 11 with value: -0.13771721507399992.\n",
      "[I 2023-09-20 19:20:42,761] Trial 23 finished with value: -0.13468188757836497 and parameters: {'learning_rate': 0.05074904665970743, 'num_leaves': 449, 'subsample': 0.9989618920045598, 'colsample_bytree': 0.3168024389718329, 'min_data_in_leaf': 1, 'lambda_l1': 5.223826544471882e-06, 'lambda_l2': 4.4574935424368605e-07, 'feature_fraction': 0.5015977803969329, 'bagging_fraction': 0.9949694553146189, 'bagging_freq': 4, 'min_child_samples': 83}. Best is trial 23 with value: -0.13468188757836497.\n",
      "[I 2023-09-20 19:28:42,491] Trial 24 finished with value: -0.13737579312742368 and parameters: {'learning_rate': 0.027733389453412024, 'num_leaves': 472, 'subsample': 0.8061040071707187, 'colsample_bytree': 0.3205674619984916, 'min_data_in_leaf': 1, 'lambda_l1': 6.794022512485916e-06, 'lambda_l2': 7.1063867832922e-07, 'feature_fraction': 0.45761571390685907, 'bagging_fraction': 0.971495127360308, 'bagging_freq': 4, 'min_child_samples': 100}. Best is trial 23 with value: -0.13468188757836497.\n",
      "[I 2023-09-20 19:37:24,564] Trial 25 finished with value: -0.13458814125685967 and parameters: {'learning_rate': 0.026602531525485248, 'num_leaves': 467, 'subsample': 0.7712454206212914, 'colsample_bytree': 0.3305395504795824, 'min_data_in_leaf': 1, 'lambda_l1': 4.023244808031552e-06, 'lambda_l2': 6.346654880971658e-07, 'feature_fraction': 0.5898708678853466, 'bagging_fraction': 0.9993661410298835, 'bagging_freq': 4, 'min_child_samples': 99}. Best is trial 25 with value: -0.13458814125685967.\n",
      "[I 2023-09-20 19:46:13,653] Trial 26 finished with value: -0.13431626946827277 and parameters: {'learning_rate': 0.02614403236112847, 'num_leaves': 469, 'subsample': 0.9986882877543184, 'colsample_bytree': 0.3058498146534418, 'min_data_in_leaf': 1, 'lambda_l1': 3.6649932178744636e-06, 'lambda_l2': 5.305892756779081e-07, 'feature_fraction': 0.613648445364007, 'bagging_fraction': 0.9973709786723141, 'bagging_freq': 4, 'min_child_samples': 98}. Best is trial 26 with value: -0.13431626946827277.\n",
      "[I 2023-09-20 19:50:36,910] Trial 27 finished with value: -0.13943573059717426 and parameters: {'learning_rate': 0.020629299065589222, 'num_leaves': 717, 'subsample': 0.9289920509580205, 'colsample_bytree': 0.18332533155272723, 'min_data_in_leaf': 28, 'lambda_l1': 1.887783347897035e-07, 'lambda_l2': 3.519337440446878e-07, 'feature_fraction': 0.6093727321771898, 'bagging_fraction': 0.9387953403596198, 'bagging_freq': 5, 'min_child_samples': 91}. Best is trial 26 with value: -0.13431626946827277.\n",
      "[I 2023-09-20 19:54:46,309] Trial 28 finished with value: -0.14076684335870873 and parameters: {'learning_rate': 0.014395745557791627, 'num_leaves': 589, 'subsample': 0.9702305576807154, 'colsample_bytree': 0.31872899654773496, 'min_data_in_leaf': 15, 'lambda_l1': 3.4517791423665627e-07, 'lambda_l2': 1.2706829131623968e-08, 'feature_fraction': 0.5797784719203478, 'bagging_fraction': 0.8478461715846874, 'bagging_freq': 4, 'min_child_samples': 82}. Best is trial 26 with value: -0.13431626946827277.\n",
      "[I 2023-09-20 19:59:55,213] Trial 29 finished with value: -0.1316353126847941 and parameters: {'learning_rate': 0.027718780132376403, 'num_leaves': 646, 'subsample': 0.7598030239811668, 'colsample_bytree': 0.4475187204041685, 'min_data_in_leaf': 8, 'lambda_l1': 1.4474966909426492e-08, 'lambda_l2': 6.394391805253028e-07, 'feature_fraction': 0.6296168471776615, 'bagging_fraction': 0.9300288287649648, 'bagging_freq': 5, 'min_child_samples': 100}. Best is trial 29 with value: -0.1316353126847941.\n"
     ]
    },
    {
     "name": "stdout",
     "output_type": "stream",
     "text": [
      "FrozenTrial(number=29, state=TrialState.COMPLETE, values=[-0.1316353126847941], datetime_start=datetime.datetime(2023, 9, 20, 19, 54, 46, 311320), datetime_complete=datetime.datetime(2023, 9, 20, 19, 59, 55, 213994), params={'learning_rate': 0.027718780132376403, 'num_leaves': 646, 'subsample': 0.7598030239811668, 'colsample_bytree': 0.4475187204041685, 'min_data_in_leaf': 8, 'lambda_l1': 1.4474966909426492e-08, 'lambda_l2': 6.394391805253028e-07, 'feature_fraction': 0.6296168471776615, 'bagging_fraction': 0.9300288287649648, 'bagging_freq': 5, 'min_child_samples': 100}, user_attrs={}, system_attrs={}, intermediate_values={}, distributions={'learning_rate': FloatDistribution(high=0.1, log=True, low=0.001, step=None), 'num_leaves': IntDistribution(high=1024, log=False, low=2, step=1), 'subsample': FloatDistribution(high=1.0, log=False, low=0.05, step=None), 'colsample_bytree': FloatDistribution(high=1.0, log=False, low=0.05, step=None), 'min_data_in_leaf': IntDistribution(high=100, log=False, low=1, step=1), 'lambda_l1': FloatDistribution(high=10.0, log=True, low=1e-08, step=None), 'lambda_l2': FloatDistribution(high=10.0, log=True, low=1e-08, step=None), 'feature_fraction': FloatDistribution(high=1.0, log=False, low=0.4, step=None), 'bagging_fraction': FloatDistribution(high=1.0, log=False, low=0.4, step=None), 'bagging_freq': IntDistribution(high=7, log=False, low=1, step=1), 'min_child_samples': IntDistribution(high=100, log=False, low=5, step=1)}, trial_id=29, value=None)\n"
     ]
    }
   ],
   "source": [
    "study_gbm = optuna.create_study(direction=\"maximize\", study_name=\"Train\")\n",
    "study_gbm.optimize(objective_gbm, n_trials=30)\n",
    "print(study_gbm.best_trial)"
   ]
  },
  {
   "cell_type": "code",
   "execution_count": 29,
   "id": "90da3f88",
   "metadata": {},
   "outputs": [],
   "source": [
    "gbm_options = study_gbm.best_params"
   ]
  },
  {
   "cell_type": "markdown",
   "id": "edaabe39",
   "metadata": {},
   "source": [
    "Вытаскиваем параметры лучшей модели."
   ]
  },
  {
   "cell_type": "code",
   "execution_count": 30,
   "id": "aa5a744c",
   "metadata": {},
   "outputs": [],
   "source": [
    "best_gbm_options = {\"objective\": 'regression',\n",
    "                    \"n_estimators\": 1000,\n",
    "                    \"verbosity\": -1} | gbm_options"
   ]
  },
  {
   "cell_type": "code",
   "execution_count": 31,
   "id": "bba697f9",
   "metadata": {},
   "outputs": [
    {
     "data": {
      "text/html": [
       "<style>#sk-container-id-2 {color: black;}#sk-container-id-2 pre{padding: 0;}#sk-container-id-2 div.sk-toggleable {background-color: white;}#sk-container-id-2 label.sk-toggleable__label {cursor: pointer;display: block;width: 100%;margin-bottom: 0;padding: 0.3em;box-sizing: border-box;text-align: center;}#sk-container-id-2 label.sk-toggleable__label-arrow:before {content: \"▸\";float: left;margin-right: 0.25em;color: #696969;}#sk-container-id-2 label.sk-toggleable__label-arrow:hover:before {color: black;}#sk-container-id-2 div.sk-estimator:hover label.sk-toggleable__label-arrow:before {color: black;}#sk-container-id-2 div.sk-toggleable__content {max-height: 0;max-width: 0;overflow: hidden;text-align: left;background-color: #f0f8ff;}#sk-container-id-2 div.sk-toggleable__content pre {margin: 0.2em;color: black;border-radius: 0.25em;background-color: #f0f8ff;}#sk-container-id-2 input.sk-toggleable__control:checked~div.sk-toggleable__content {max-height: 200px;max-width: 100%;overflow: auto;}#sk-container-id-2 input.sk-toggleable__control:checked~label.sk-toggleable__label-arrow:before {content: \"▾\";}#sk-container-id-2 div.sk-estimator input.sk-toggleable__control:checked~label.sk-toggleable__label {background-color: #d4ebff;}#sk-container-id-2 div.sk-label input.sk-toggleable__control:checked~label.sk-toggleable__label {background-color: #d4ebff;}#sk-container-id-2 input.sk-hidden--visually {border: 0;clip: rect(1px 1px 1px 1px);clip: rect(1px, 1px, 1px, 1px);height: 1px;margin: -1px;overflow: hidden;padding: 0;position: absolute;width: 1px;}#sk-container-id-2 div.sk-estimator {font-family: monospace;background-color: #f0f8ff;border: 1px dotted black;border-radius: 0.25em;box-sizing: border-box;margin-bottom: 0.5em;}#sk-container-id-2 div.sk-estimator:hover {background-color: #d4ebff;}#sk-container-id-2 div.sk-parallel-item::after {content: \"\";width: 100%;border-bottom: 1px solid gray;flex-grow: 1;}#sk-container-id-2 div.sk-label:hover label.sk-toggleable__label {background-color: #d4ebff;}#sk-container-id-2 div.sk-serial::before {content: \"\";position: absolute;border-left: 1px solid gray;box-sizing: border-box;top: 0;bottom: 0;left: 50%;z-index: 0;}#sk-container-id-2 div.sk-serial {display: flex;flex-direction: column;align-items: center;background-color: white;padding-right: 0.2em;padding-left: 0.2em;position: relative;}#sk-container-id-2 div.sk-item {position: relative;z-index: 1;}#sk-container-id-2 div.sk-parallel {display: flex;align-items: stretch;justify-content: center;background-color: white;position: relative;}#sk-container-id-2 div.sk-item::before, #sk-container-id-2 div.sk-parallel-item::before {content: \"\";position: absolute;border-left: 1px solid gray;box-sizing: border-box;top: 0;bottom: 0;left: 50%;z-index: -1;}#sk-container-id-2 div.sk-parallel-item {display: flex;flex-direction: column;z-index: 1;position: relative;background-color: white;}#sk-container-id-2 div.sk-parallel-item:first-child::after {align-self: flex-end;width: 50%;}#sk-container-id-2 div.sk-parallel-item:last-child::after {align-self: flex-start;width: 50%;}#sk-container-id-2 div.sk-parallel-item:only-child::after {width: 0;}#sk-container-id-2 div.sk-dashed-wrapped {border: 1px dashed gray;margin: 0 0.4em 0.5em 0.4em;box-sizing: border-box;padding-bottom: 0.4em;background-color: white;}#sk-container-id-2 div.sk-label label {font-family: monospace;font-weight: bold;display: inline-block;line-height: 1.2em;}#sk-container-id-2 div.sk-label-container {text-align: center;}#sk-container-id-2 div.sk-container {/* jupyter's `normalize.less` sets `[hidden] { display: none; }` but bootstrap.min.css set `[hidden] { display: none !important; }` so we also need the `!important` here to be able to override the default hidden behavior on the sphinx rendered scikit-learn.org. See: https://github.com/scikit-learn/scikit-learn/issues/21755 */display: inline-block !important;position: relative;}#sk-container-id-2 div.sk-text-repr-fallback {display: none;}</style><div id=\"sk-container-id-2\" class=\"sk-top-container\"><div class=\"sk-text-repr-fallback\"><pre>Pipeline(steps=[(&#x27;col_trans&#x27;,\n",
       "                 ColumnTransformer(n_jobs=-1, remainder=&#x27;passthrough&#x27;,\n",
       "                                   transformers=[(&#x27;num_pipeline&#x27;,\n",
       "                                                  Pipeline(steps=[(&#x27;scale&#x27;,\n",
       "                                                                   StandardScaler())]),\n",
       "                                                  [&#x27;year&#x27;, &#x27;condition&#x27;,\n",
       "                                                   &#x27;odometer&#x27;, &#x27;saleyear&#x27;]),\n",
       "                                                 (&#x27;cat_pipeline&#x27;,\n",
       "                                                  Pipeline(steps=[(&#x27;OHE&#x27;,\n",
       "                                                                   OneHotEncoder(drop=&#x27;first&#x27;,\n",
       "                                                                                 handle_unknown=&#x27;ignore&#x27;))]),\n",
       "                                                  [&#x27;make&#x27;, &#x27;trim&#x27;, &#x27;color&#x27;,\n",
       "                                                   &#x27;seller&#x27;, &#x27;model&#x27;,\n",
       "                                                   &#x27;interior&#x27;, &#x27;body...\n",
       "                 LGBMRegressor(bagging_fraction=0.9300288287649648,\n",
       "                               bagging_freq=5,\n",
       "                               colsample_bytree=0.4475187204041685,\n",
       "                               feature_fraction=0.6296168471776615,\n",
       "                               lambda_l1=1.4474966909426492e-08,\n",
       "                               lambda_l2=6.394391805253028e-07,\n",
       "                               learning_rate=0.027718780132376403,\n",
       "                               min_child_samples=100, min_data_in_leaf=8,\n",
       "                               n_estimators=1000, num_leaves=646,\n",
       "                               objective=&#x27;regression&#x27;,\n",
       "                               subsample=0.7598030239811668, verbosity=-1))])</pre><b>In a Jupyter environment, please rerun this cell to show the HTML representation or trust the notebook. <br />On GitHub, the HTML representation is unable to render, please try loading this page with nbviewer.org.</b></div><div class=\"sk-container\" hidden><div class=\"sk-item sk-dashed-wrapped\"><div class=\"sk-label-container\"><div class=\"sk-label sk-toggleable\"><input class=\"sk-toggleable__control sk-hidden--visually\" id=\"sk-estimator-id-10\" type=\"checkbox\" ><label for=\"sk-estimator-id-10\" class=\"sk-toggleable__label sk-toggleable__label-arrow\">Pipeline</label><div class=\"sk-toggleable__content\"><pre>Pipeline(steps=[(&#x27;col_trans&#x27;,\n",
       "                 ColumnTransformer(n_jobs=-1, remainder=&#x27;passthrough&#x27;,\n",
       "                                   transformers=[(&#x27;num_pipeline&#x27;,\n",
       "                                                  Pipeline(steps=[(&#x27;scale&#x27;,\n",
       "                                                                   StandardScaler())]),\n",
       "                                                  [&#x27;year&#x27;, &#x27;condition&#x27;,\n",
       "                                                   &#x27;odometer&#x27;, &#x27;saleyear&#x27;]),\n",
       "                                                 (&#x27;cat_pipeline&#x27;,\n",
       "                                                  Pipeline(steps=[(&#x27;OHE&#x27;,\n",
       "                                                                   OneHotEncoder(drop=&#x27;first&#x27;,\n",
       "                                                                                 handle_unknown=&#x27;ignore&#x27;))]),\n",
       "                                                  [&#x27;make&#x27;, &#x27;trim&#x27;, &#x27;color&#x27;,\n",
       "                                                   &#x27;seller&#x27;, &#x27;model&#x27;,\n",
       "                                                   &#x27;interior&#x27;, &#x27;body...\n",
       "                 LGBMRegressor(bagging_fraction=0.9300288287649648,\n",
       "                               bagging_freq=5,\n",
       "                               colsample_bytree=0.4475187204041685,\n",
       "                               feature_fraction=0.6296168471776615,\n",
       "                               lambda_l1=1.4474966909426492e-08,\n",
       "                               lambda_l2=6.394391805253028e-07,\n",
       "                               learning_rate=0.027718780132376403,\n",
       "                               min_child_samples=100, min_data_in_leaf=8,\n",
       "                               n_estimators=1000, num_leaves=646,\n",
       "                               objective=&#x27;regression&#x27;,\n",
       "                               subsample=0.7598030239811668, verbosity=-1))])</pre></div></div></div><div class=\"sk-serial\"><div class=\"sk-item sk-dashed-wrapped\"><div class=\"sk-label-container\"><div class=\"sk-label sk-toggleable\"><input class=\"sk-toggleable__control sk-hidden--visually\" id=\"sk-estimator-id-11\" type=\"checkbox\" ><label for=\"sk-estimator-id-11\" class=\"sk-toggleable__label sk-toggleable__label-arrow\">col_trans: ColumnTransformer</label><div class=\"sk-toggleable__content\"><pre>ColumnTransformer(n_jobs=-1, remainder=&#x27;passthrough&#x27;,\n",
       "                  transformers=[(&#x27;num_pipeline&#x27;,\n",
       "                                 Pipeline(steps=[(&#x27;scale&#x27;, StandardScaler())]),\n",
       "                                 [&#x27;year&#x27;, &#x27;condition&#x27;, &#x27;odometer&#x27;, &#x27;saleyear&#x27;]),\n",
       "                                (&#x27;cat_pipeline&#x27;,\n",
       "                                 Pipeline(steps=[(&#x27;OHE&#x27;,\n",
       "                                                  OneHotEncoder(drop=&#x27;first&#x27;,\n",
       "                                                                handle_unknown=&#x27;ignore&#x27;))]),\n",
       "                                 [&#x27;make&#x27;, &#x27;trim&#x27;, &#x27;color&#x27;, &#x27;seller&#x27;, &#x27;model&#x27;,\n",
       "                                  &#x27;interior&#x27;, &#x27;body&#x27;, &#x27;transmission&#x27;,\n",
       "                                  &#x27;state&#x27;])])</pre></div></div></div><div class=\"sk-parallel\"><div class=\"sk-parallel-item\"><div class=\"sk-item\"><div class=\"sk-label-container\"><div class=\"sk-label sk-toggleable\"><input class=\"sk-toggleable__control sk-hidden--visually\" id=\"sk-estimator-id-12\" type=\"checkbox\" ><label for=\"sk-estimator-id-12\" class=\"sk-toggleable__label sk-toggleable__label-arrow\">num_pipeline</label><div class=\"sk-toggleable__content\"><pre>[&#x27;year&#x27;, &#x27;condition&#x27;, &#x27;odometer&#x27;, &#x27;saleyear&#x27;]</pre></div></div></div><div class=\"sk-serial\"><div class=\"sk-item\"><div class=\"sk-serial\"><div class=\"sk-item\"><div class=\"sk-estimator sk-toggleable\"><input class=\"sk-toggleable__control sk-hidden--visually\" id=\"sk-estimator-id-13\" type=\"checkbox\" ><label for=\"sk-estimator-id-13\" class=\"sk-toggleable__label sk-toggleable__label-arrow\">StandardScaler</label><div class=\"sk-toggleable__content\"><pre>StandardScaler()</pre></div></div></div></div></div></div></div></div><div class=\"sk-parallel-item\"><div class=\"sk-item\"><div class=\"sk-label-container\"><div class=\"sk-label sk-toggleable\"><input class=\"sk-toggleable__control sk-hidden--visually\" id=\"sk-estimator-id-14\" type=\"checkbox\" ><label for=\"sk-estimator-id-14\" class=\"sk-toggleable__label sk-toggleable__label-arrow\">cat_pipeline</label><div class=\"sk-toggleable__content\"><pre>[&#x27;make&#x27;, &#x27;trim&#x27;, &#x27;color&#x27;, &#x27;seller&#x27;, &#x27;model&#x27;, &#x27;interior&#x27;, &#x27;body&#x27;, &#x27;transmission&#x27;, &#x27;state&#x27;]</pre></div></div></div><div class=\"sk-serial\"><div class=\"sk-item\"><div class=\"sk-serial\"><div class=\"sk-item\"><div class=\"sk-estimator sk-toggleable\"><input class=\"sk-toggleable__control sk-hidden--visually\" id=\"sk-estimator-id-15\" type=\"checkbox\" ><label for=\"sk-estimator-id-15\" class=\"sk-toggleable__label sk-toggleable__label-arrow\">OneHotEncoder</label><div class=\"sk-toggleable__content\"><pre>OneHotEncoder(drop=&#x27;first&#x27;, handle_unknown=&#x27;ignore&#x27;)</pre></div></div></div></div></div></div></div></div><div class=\"sk-parallel-item\"><div class=\"sk-item\"><div class=\"sk-label-container\"><div class=\"sk-label sk-toggleable\"><input class=\"sk-toggleable__control sk-hidden--visually\" id=\"sk-estimator-id-16\" type=\"checkbox\" ><label for=\"sk-estimator-id-16\" class=\"sk-toggleable__label sk-toggleable__label-arrow\">remainder</label><div class=\"sk-toggleable__content\"><pre>[]</pre></div></div></div><div class=\"sk-serial\"><div class=\"sk-item\"><div class=\"sk-estimator sk-toggleable\"><input class=\"sk-toggleable__control sk-hidden--visually\" id=\"sk-estimator-id-17\" type=\"checkbox\" ><label for=\"sk-estimator-id-17\" class=\"sk-toggleable__label sk-toggleable__label-arrow\">passthrough</label><div class=\"sk-toggleable__content\"><pre>passthrough</pre></div></div></div></div></div></div></div></div><div class=\"sk-item\"><div class=\"sk-estimator sk-toggleable\"><input class=\"sk-toggleable__control sk-hidden--visually\" id=\"sk-estimator-id-18\" type=\"checkbox\" ><label for=\"sk-estimator-id-18\" class=\"sk-toggleable__label sk-toggleable__label-arrow\">LGBMRegressor</label><div class=\"sk-toggleable__content\"><pre>LGBMRegressor(bagging_fraction=0.9300288287649648, bagging_freq=5,\n",
       "              colsample_bytree=0.4475187204041685,\n",
       "              feature_fraction=0.6296168471776615,\n",
       "              lambda_l1=1.4474966909426492e-08, lambda_l2=6.394391805253028e-07,\n",
       "              learning_rate=0.027718780132376403, min_child_samples=100,\n",
       "              min_data_in_leaf=8, n_estimators=1000, num_leaves=646,\n",
       "              objective=&#x27;regression&#x27;, subsample=0.7598030239811668,\n",
       "              verbosity=-1)</pre></div></div></div></div></div></div></div>"
      ],
      "text/plain": [
       "Pipeline(steps=[('col_trans',\n",
       "                 ColumnTransformer(n_jobs=-1, remainder='passthrough',\n",
       "                                   transformers=[('num_pipeline',\n",
       "                                                  Pipeline(steps=[('scale',\n",
       "                                                                   StandardScaler())]),\n",
       "                                                  ['year', 'condition',\n",
       "                                                   'odometer', 'saleyear']),\n",
       "                                                 ('cat_pipeline',\n",
       "                                                  Pipeline(steps=[('OHE',\n",
       "                                                                   OneHotEncoder(drop='first',\n",
       "                                                                                 handle_unknown='ignore'))]),\n",
       "                                                  ['make', 'trim', 'color',\n",
       "                                                   'seller', 'model',\n",
       "                                                   'interior', 'body...\n",
       "                 LGBMRegressor(bagging_fraction=0.9300288287649648,\n",
       "                               bagging_freq=5,\n",
       "                               colsample_bytree=0.4475187204041685,\n",
       "                               feature_fraction=0.6296168471776615,\n",
       "                               lambda_l1=1.4474966909426492e-08,\n",
       "                               lambda_l2=6.394391805253028e-07,\n",
       "                               learning_rate=0.027718780132376403,\n",
       "                               min_child_samples=100, min_data_in_leaf=8,\n",
       "                               n_estimators=1000, num_leaves=646,\n",
       "                               objective='regression',\n",
       "                               subsample=0.7598030239811668, verbosity=-1))])"
      ]
     },
     "execution_count": 31,
     "metadata": {},
     "output_type": "execute_result"
    }
   ],
   "source": [
    "gbm_best_model = LGBMRegressor(**best_gbm_options)\n",
    "pipeline = Pipeline(steps=[\n",
    "    ('col_trans', col_trans),\n",
    "    ('model', gbm_best_model)\n",
    "    ])\n",
    "\n",
    "\n",
    "pipeline.fit(X_train, y_train)"
   ]
  },
  {
   "cell_type": "markdown",
   "id": "3402b86e",
   "metadata": {},
   "source": [
    "Делаем предсказание на тестовой выборке."
   ]
  },
  {
   "cell_type": "code",
   "execution_count": 32,
   "id": "3844fcdd",
   "metadata": {},
   "outputs": [
    {
     "name": "stdout",
     "output_type": "stream",
     "text": [
      "0.20685162490684642\n"
     ]
    }
   ],
   "source": [
    "print(mean_absolute_percentage_error(y_test, pipeline.predict(X_test)))"
   ]
  },
  {
   "cell_type": "code",
   "execution_count": null,
   "id": "5e444728",
   "metadata": {},
   "outputs": [],
   "source": []
  }
 ],
 "metadata": {
  "kernelspec": {
   "display_name": "Python 3 (ipykernel)",
   "language": "python",
   "name": "python3"
  },
  "language_info": {
   "codemirror_mode": {
    "name": "ipython",
    "version": 3
   },
   "file_extension": ".py",
   "mimetype": "text/x-python",
   "name": "python",
   "nbconvert_exporter": "python",
   "pygments_lexer": "ipython3",
   "version": "3.10.9"
  }
 },
 "nbformat": 4,
 "nbformat_minor": 5
}
