{
 "cells": [
  {
   "cell_type": "markdown",
   "id": "b2ab0bd4",
   "metadata": {},
   "source": [
    "### Описание проекта"
   ]
  },
  {
   "cell_type": "markdown",
   "id": "1dfc556a",
   "metadata": {},
   "source": [
    "Предоставлены данные о некоторых пользователях популярного сервиса аренды самокатов GoFast из несколько городов, а также об их поездках. Требуется проанализировать данные и проверить некоторые гипотезы, которые могут помочь бизнесу вырасти."
   ]
  },
  {
   "cell_type": "markdown",
   "id": "b4e2d3b2",
   "metadata": {},
   "source": [
    "В основных данных есть информация о пользователях и подписках — `users_go.csv`"
   ]
  },
  {
   "cell_type": "markdown",
   "id": "d95fb3c8",
   "metadata": {},
   "source": [
    "- `user_id` — уникальный идентификатор пользователя\n",
    "- `name` — имя пользователя\n",
    "- `age` — возраст\n",
    "- `city` — город\n",
    "- `subscription_type` — тип подписки (free, ultra)"
   ]
  },
  {
   "cell_type": "markdown",
   "id": "61a84852",
   "metadata": {},
   "source": [
    "Есть данные о поездках — `rides_go.csv`"
   ]
  },
  {
   "cell_type": "markdown",
   "id": "26a0c544",
   "metadata": {},
   "source": [
    "- `user_id` — уникальный идентификатор пользователя\n",
    "- `distance` — расстояние, которое пользователь проехал в текущей сессии (в метрах)\n",
    "- `duration` — продолжительность сессии (в минутах) — время с того момента, как пользователь нажал кнопку «Начать поездку» до момента, как он нажал кнопку «Завершить поездку»\n",
    "- `date` — дата совершения поездки"
   ]
  },
  {
   "cell_type": "markdown",
   "id": "a17af543",
   "metadata": {},
   "source": [
    "Информация о подписках — `subscriptions_go.csv`"
   ]
  },
  {
   "cell_type": "markdown",
   "id": "0ab5c0ad",
   "metadata": {},
   "source": [
    "- `subscription_type` — тип подписки\n",
    "- `minute_price` — стоимость одной минуты поездки по данной подписке\n",
    "- `start_ride_price` — стоимость начала поездки\n",
    "- `subscription_fee ` — стоимость ежемесячного платежа"
   ]
  },
  {
   "cell_type": "markdown",
   "id": "c42cbe00",
   "metadata": {},
   "source": [
    "### Загрузка данных"
   ]
  },
  {
   "cell_type": "code",
   "execution_count": 1,
   "id": "4743901a",
   "metadata": {},
   "outputs": [],
   "source": [
    "import pandas as pd # импортируем библиотеку pandas"
   ]
  },
  {
   "cell_type": "code",
   "execution_count": 2,
   "id": "eff9f206",
   "metadata": {
    "scrolled": false
   },
   "outputs": [
    {
     "data": {
      "text/html": [
       "<div>\n",
       "<style scoped>\n",
       "    .dataframe tbody tr th:only-of-type {\n",
       "        vertical-align: middle;\n",
       "    }\n",
       "\n",
       "    .dataframe tbody tr th {\n",
       "        vertical-align: top;\n",
       "    }\n",
       "\n",
       "    .dataframe thead th {\n",
       "        text-align: right;\n",
       "    }\n",
       "</style>\n",
       "<table border=\"1\" class=\"dataframe\">\n",
       "  <thead>\n",
       "    <tr style=\"text-align: right;\">\n",
       "      <th></th>\n",
       "      <th>user_id</th>\n",
       "      <th>name</th>\n",
       "      <th>age</th>\n",
       "      <th>city</th>\n",
       "      <th>subscription_type</th>\n",
       "    </tr>\n",
       "  </thead>\n",
       "  <tbody>\n",
       "    <tr>\n",
       "      <th>0</th>\n",
       "      <td>1</td>\n",
       "      <td>Кира</td>\n",
       "      <td>22</td>\n",
       "      <td>Тюмень</td>\n",
       "      <td>ultra</td>\n",
       "    </tr>\n",
       "    <tr>\n",
       "      <th>1</th>\n",
       "      <td>2</td>\n",
       "      <td>Станислав</td>\n",
       "      <td>31</td>\n",
       "      <td>Омск</td>\n",
       "      <td>ultra</td>\n",
       "    </tr>\n",
       "    <tr>\n",
       "      <th>2</th>\n",
       "      <td>3</td>\n",
       "      <td>Алексей</td>\n",
       "      <td>20</td>\n",
       "      <td>Москва</td>\n",
       "      <td>ultra</td>\n",
       "    </tr>\n",
       "    <tr>\n",
       "      <th>3</th>\n",
       "      <td>4</td>\n",
       "      <td>Константин</td>\n",
       "      <td>26</td>\n",
       "      <td>Ростов-на-Дону</td>\n",
       "      <td>ultra</td>\n",
       "    </tr>\n",
       "    <tr>\n",
       "      <th>4</th>\n",
       "      <td>5</td>\n",
       "      <td>Адель</td>\n",
       "      <td>28</td>\n",
       "      <td>Омск</td>\n",
       "      <td>ultra</td>\n",
       "    </tr>\n",
       "    <tr>\n",
       "      <th>...</th>\n",
       "      <td>...</td>\n",
       "      <td>...</td>\n",
       "      <td>...</td>\n",
       "      <td>...</td>\n",
       "      <td>...</td>\n",
       "    </tr>\n",
       "    <tr>\n",
       "      <th>1560</th>\n",
       "      <td>829</td>\n",
       "      <td>Федор</td>\n",
       "      <td>29</td>\n",
       "      <td>Пятигорск</td>\n",
       "      <td>free</td>\n",
       "    </tr>\n",
       "    <tr>\n",
       "      <th>1561</th>\n",
       "      <td>809</td>\n",
       "      <td>Юрий</td>\n",
       "      <td>26</td>\n",
       "      <td>Сочи</td>\n",
       "      <td>free</td>\n",
       "    </tr>\n",
       "    <tr>\n",
       "      <th>1562</th>\n",
       "      <td>307</td>\n",
       "      <td>Ясмина</td>\n",
       "      <td>19</td>\n",
       "      <td>Краснодар</td>\n",
       "      <td>ultra</td>\n",
       "    </tr>\n",
       "    <tr>\n",
       "      <th>1563</th>\n",
       "      <td>47</td>\n",
       "      <td>Юрий</td>\n",
       "      <td>28</td>\n",
       "      <td>Тюмень</td>\n",
       "      <td>ultra</td>\n",
       "    </tr>\n",
       "    <tr>\n",
       "      <th>1564</th>\n",
       "      <td>1045</td>\n",
       "      <td>Артемий</td>\n",
       "      <td>28</td>\n",
       "      <td>Ростов-на-Дону</td>\n",
       "      <td>free</td>\n",
       "    </tr>\n",
       "  </tbody>\n",
       "</table>\n",
       "<p>1565 rows × 5 columns</p>\n",
       "</div>"
      ],
      "text/plain": [
       "      user_id        name  age            city subscription_type\n",
       "0           1        Кира   22          Тюмень             ultra\n",
       "1           2   Станислав   31            Омск             ultra\n",
       "2           3     Алексей   20          Москва             ultra\n",
       "3           4  Константин   26  Ростов-на-Дону             ultra\n",
       "4           5       Адель   28            Омск             ultra\n",
       "...       ...         ...  ...             ...               ...\n",
       "1560      829       Федор   29       Пятигорск              free\n",
       "1561      809        Юрий   26            Сочи              free\n",
       "1562      307      Ясмина   19       Краснодар             ultra\n",
       "1563       47        Юрий   28          Тюмень             ultra\n",
       "1564     1045     Артемий   28  Ростов-на-Дону              free\n",
       "\n",
       "[1565 rows x 5 columns]"
      ]
     },
     "metadata": {},
     "output_type": "display_data"
    },
    {
     "data": {
      "text/html": [
       "<div>\n",
       "<style scoped>\n",
       "    .dataframe tbody tr th:only-of-type {\n",
       "        vertical-align: middle;\n",
       "    }\n",
       "\n",
       "    .dataframe tbody tr th {\n",
       "        vertical-align: top;\n",
       "    }\n",
       "\n",
       "    .dataframe thead th {\n",
       "        text-align: right;\n",
       "    }\n",
       "</style>\n",
       "<table border=\"1\" class=\"dataframe\">\n",
       "  <thead>\n",
       "    <tr style=\"text-align: right;\">\n",
       "      <th></th>\n",
       "      <th>user_id</th>\n",
       "      <th>distance</th>\n",
       "      <th>duration</th>\n",
       "      <th>date</th>\n",
       "    </tr>\n",
       "  </thead>\n",
       "  <tbody>\n",
       "    <tr>\n",
       "      <th>0</th>\n",
       "      <td>1</td>\n",
       "      <td>4409.919140</td>\n",
       "      <td>25.599769</td>\n",
       "      <td>2021-01-01</td>\n",
       "    </tr>\n",
       "    <tr>\n",
       "      <th>1</th>\n",
       "      <td>1</td>\n",
       "      <td>2617.592153</td>\n",
       "      <td>15.816871</td>\n",
       "      <td>2021-01-18</td>\n",
       "    </tr>\n",
       "    <tr>\n",
       "      <th>2</th>\n",
       "      <td>1</td>\n",
       "      <td>754.159807</td>\n",
       "      <td>6.232113</td>\n",
       "      <td>2021-04-20</td>\n",
       "    </tr>\n",
       "    <tr>\n",
       "      <th>3</th>\n",
       "      <td>1</td>\n",
       "      <td>2694.783254</td>\n",
       "      <td>18.511000</td>\n",
       "      <td>2021-08-11</td>\n",
       "    </tr>\n",
       "    <tr>\n",
       "      <th>4</th>\n",
       "      <td>1</td>\n",
       "      <td>4028.687306</td>\n",
       "      <td>26.265803</td>\n",
       "      <td>2021-08-28</td>\n",
       "    </tr>\n",
       "    <tr>\n",
       "      <th>...</th>\n",
       "      <td>...</td>\n",
       "      <td>...</td>\n",
       "      <td>...</td>\n",
       "      <td>...</td>\n",
       "    </tr>\n",
       "    <tr>\n",
       "      <th>18063</th>\n",
       "      <td>1534</td>\n",
       "      <td>3781.098080</td>\n",
       "      <td>19.822962</td>\n",
       "      <td>2021-11-04</td>\n",
       "    </tr>\n",
       "    <tr>\n",
       "      <th>18064</th>\n",
       "      <td>1534</td>\n",
       "      <td>2840.423057</td>\n",
       "      <td>21.409799</td>\n",
       "      <td>2021-11-16</td>\n",
       "    </tr>\n",
       "    <tr>\n",
       "      <th>18065</th>\n",
       "      <td>1534</td>\n",
       "      <td>3826.185507</td>\n",
       "      <td>18.435051</td>\n",
       "      <td>2021-11-18</td>\n",
       "    </tr>\n",
       "    <tr>\n",
       "      <th>18066</th>\n",
       "      <td>1534</td>\n",
       "      <td>2902.308661</td>\n",
       "      <td>16.674362</td>\n",
       "      <td>2021-11-27</td>\n",
       "    </tr>\n",
       "    <tr>\n",
       "      <th>18067</th>\n",
       "      <td>1534</td>\n",
       "      <td>2371.711192</td>\n",
       "      <td>15.893917</td>\n",
       "      <td>2021-12-29</td>\n",
       "    </tr>\n",
       "  </tbody>\n",
       "</table>\n",
       "<p>18068 rows × 4 columns</p>\n",
       "</div>"
      ],
      "text/plain": [
       "       user_id     distance   duration        date\n",
       "0            1  4409.919140  25.599769  2021-01-01\n",
       "1            1  2617.592153  15.816871  2021-01-18\n",
       "2            1   754.159807   6.232113  2021-04-20\n",
       "3            1  2694.783254  18.511000  2021-08-11\n",
       "4            1  4028.687306  26.265803  2021-08-28\n",
       "...        ...          ...        ...         ...\n",
       "18063     1534  3781.098080  19.822962  2021-11-04\n",
       "18064     1534  2840.423057  21.409799  2021-11-16\n",
       "18065     1534  3826.185507  18.435051  2021-11-18\n",
       "18066     1534  2902.308661  16.674362  2021-11-27\n",
       "18067     1534  2371.711192  15.893917  2021-12-29\n",
       "\n",
       "[18068 rows x 4 columns]"
      ]
     },
     "metadata": {},
     "output_type": "display_data"
    },
    {
     "data": {
      "text/html": [
       "<div>\n",
       "<style scoped>\n",
       "    .dataframe tbody tr th:only-of-type {\n",
       "        vertical-align: middle;\n",
       "    }\n",
       "\n",
       "    .dataframe tbody tr th {\n",
       "        vertical-align: top;\n",
       "    }\n",
       "\n",
       "    .dataframe thead th {\n",
       "        text-align: right;\n",
       "    }\n",
       "</style>\n",
       "<table border=\"1\" class=\"dataframe\">\n",
       "  <thead>\n",
       "    <tr style=\"text-align: right;\">\n",
       "      <th></th>\n",
       "      <th>subscription_type</th>\n",
       "      <th>minute_price</th>\n",
       "      <th>start_ride_price</th>\n",
       "      <th>subscription_fee</th>\n",
       "    </tr>\n",
       "  </thead>\n",
       "  <tbody>\n",
       "    <tr>\n",
       "      <th>0</th>\n",
       "      <td>free</td>\n",
       "      <td>8</td>\n",
       "      <td>50</td>\n",
       "      <td>0</td>\n",
       "    </tr>\n",
       "    <tr>\n",
       "      <th>1</th>\n",
       "      <td>ultra</td>\n",
       "      <td>6</td>\n",
       "      <td>0</td>\n",
       "      <td>199</td>\n",
       "    </tr>\n",
       "  </tbody>\n",
       "</table>\n",
       "</div>"
      ],
      "text/plain": [
       "  subscription_type  minute_price  start_ride_price  subscription_fee\n",
       "0              free             8                50                 0\n",
       "1             ultra             6                 0               199"
      ]
     },
     "metadata": {},
     "output_type": "display_data"
    }
   ],
   "source": [
    "users = pd.read_csv('/datasets/users_go.csv') # считываем данные о пользователях\n",
    "rides = pd.read_csv('/datasets/rides_go.csv') # считываем данные о поездках\n",
    "subscriptions = pd.read_csv('/datasets/subscriptions_go.csv') # считываем данные описаний тарифов\n",
    "display(users, rides, subscriptions) # вывод данных"
   ]
  },
  {
   "cell_type": "markdown",
   "id": "d5302bee",
   "metadata": {},
   "source": [
    "Посмотрим информацию о датасетах."
   ]
  },
  {
   "cell_type": "code",
   "execution_count": 3,
   "id": "c497a712",
   "metadata": {},
   "outputs": [
    {
     "name": "stdout",
     "output_type": "stream",
     "text": [
      "<class 'pandas.core.frame.DataFrame'>\n",
      "RangeIndex: 1565 entries, 0 to 1564\n",
      "Data columns (total 5 columns):\n",
      " #   Column             Non-Null Count  Dtype \n",
      "---  ------             --------------  ----- \n",
      " 0   user_id            1565 non-null   int64 \n",
      " 1   name               1565 non-null   object\n",
      " 2   age                1565 non-null   int64 \n",
      " 3   city               1565 non-null   object\n",
      " 4   subscription_type  1565 non-null   object\n",
      "dtypes: int64(2), object(3)\n",
      "memory usage: 61.3+ KB\n",
      "<class 'pandas.core.frame.DataFrame'>\n",
      "RangeIndex: 18068 entries, 0 to 18067\n",
      "Data columns (total 4 columns):\n",
      " #   Column    Non-Null Count  Dtype  \n",
      "---  ------    --------------  -----  \n",
      " 0   user_id   18068 non-null  int64  \n",
      " 1   distance  18068 non-null  float64\n",
      " 2   duration  18068 non-null  float64\n",
      " 3   date      18068 non-null  object \n",
      "dtypes: float64(2), int64(1), object(1)\n",
      "memory usage: 564.8+ KB\n",
      "<class 'pandas.core.frame.DataFrame'>\n",
      "RangeIndex: 2 entries, 0 to 1\n",
      "Data columns (total 4 columns):\n",
      " #   Column             Non-Null Count  Dtype \n",
      "---  ------             --------------  ----- \n",
      " 0   subscription_type  2 non-null      object\n",
      " 1   minute_price       2 non-null      int64 \n",
      " 2   start_ride_price   2 non-null      int64 \n",
      " 3   subscription_fee   2 non-null      int64 \n",
      "dtypes: int64(3), object(1)\n",
      "memory usage: 192.0+ bytes\n"
     ]
    }
   ],
   "source": [
    "users.info()\n",
    "rides.info()\n",
    "subscriptions.info()"
   ]
  },
  {
   "cell_type": "markdown",
   "id": "e0a1cb5d",
   "metadata": {},
   "source": [
    "Датафрейм `users` содержит 1565 строк и 5 столбцов с информацией о пользователях, типы данных приведены правильно."
   ]
  },
  {
   "cell_type": "markdown",
   "id": "bd009caa",
   "metadata": {},
   "source": [
    "Датафрейм `rides` содержит 18068 строк и 4 столбца с информацией о поездках."
   ]
  },
  {
   "cell_type": "markdown",
   "id": "3811bcac",
   "metadata": {},
   "source": [
    "В данных о пользователях указана информация: id пользователя, его имя, возраст, город, тип подписки."
   ]
  },
  {
   "cell_type": "markdown",
   "id": "18253081",
   "metadata": {},
   "source": [
    "В данных о поездках указано: id пользователя, дистанция поездки (метры), продолжительность поездки (минуты), дата поездки."
   ]
  },
  {
   "cell_type": "markdown",
   "id": "31091a54",
   "metadata": {},
   "source": [
    "В данных описания указано: категории подписок, цена минуты поездки в зависимости от категории, начальная цена поездки в зависимости от категории, стоимость подключения категории."
   ]
  },
  {
   "cell_type": "markdown",
   "id": "e95ebca7",
   "metadata": {},
   "source": [
    "### Предобработка данных"
   ]
  },
  {
   "cell_type": "markdown",
   "id": "293e3e7d",
   "metadata": {},
   "source": [
    "#### Данные о пользователях"
   ]
  },
  {
   "cell_type": "markdown",
   "id": "620dc54e",
   "metadata": {},
   "source": [
    "##### Пропуски"
   ]
  },
  {
   "cell_type": "markdown",
   "id": "7450746a",
   "metadata": {},
   "source": [
    "Рассмотрим пропуски в данных."
   ]
  },
  {
   "cell_type": "code",
   "execution_count": 4,
   "id": "84566171",
   "metadata": {},
   "outputs": [
    {
     "data": {
      "text/plain": [
       "user_id              0\n",
       "name                 0\n",
       "age                  0\n",
       "city                 0\n",
       "subscription_type    0\n",
       "dtype: int64"
      ]
     },
     "execution_count": 4,
     "metadata": {},
     "output_type": "execute_result"
    }
   ],
   "source": [
    "users.isna().sum()"
   ]
  },
  {
   "cell_type": "markdown",
   "id": "8c4fea6f",
   "metadata": {},
   "source": [
    "Пропусков нет, рассмотрим дубликаты."
   ]
  },
  {
   "cell_type": "markdown",
   "id": "1aa3441c",
   "metadata": {},
   "source": [
    "##### Дубликаты"
   ]
  },
  {
   "cell_type": "code",
   "execution_count": 5,
   "id": "1f3bd354",
   "metadata": {},
   "outputs": [
    {
     "data": {
      "text/plain": [
       "31"
      ]
     },
     "execution_count": 5,
     "metadata": {},
     "output_type": "execute_result"
    }
   ],
   "source": [
    "users.duplicated().sum()"
   ]
  },
  {
   "cell_type": "markdown",
   "id": "33d050bd",
   "metadata": {},
   "source": [
    "Присутствует 31 дубликат, удалим их. "
   ]
  },
  {
   "cell_type": "code",
   "execution_count": 6,
   "id": "9be05bf4",
   "metadata": {},
   "outputs": [],
   "source": [
    "users = users.drop_duplicates()"
   ]
  },
  {
   "cell_type": "markdown",
   "id": "4c354386",
   "metadata": {},
   "source": [
    "Проверим на всякий случай дубликаты только по столбцу `user_id`."
   ]
  },
  {
   "cell_type": "code",
   "execution_count": 7,
   "id": "d96ba917",
   "metadata": {},
   "outputs": [
    {
     "data": {
      "text/plain": [
       "0"
      ]
     },
     "execution_count": 7,
     "metadata": {},
     "output_type": "execute_result"
    }
   ],
   "source": [
    "users['user_id'].duplicated().sum()"
   ]
  },
  {
   "cell_type": "markdown",
   "id": "9571feb2",
   "metadata": {},
   "source": [
    "Дубликаты удалены."
   ]
  },
  {
   "cell_type": "markdown",
   "id": "d88cd7a0",
   "metadata": {},
   "source": [
    "##### Аномалии"
   ]
  },
  {
   "cell_type": "markdown",
   "id": "6d06dc1b",
   "metadata": {},
   "source": [
    "Оценим распределение значений числовых ячеек."
   ]
  },
  {
   "cell_type": "code",
   "execution_count": 8,
   "id": "c59eeaa5",
   "metadata": {},
   "outputs": [
    {
     "data": {
      "image/png": "[encoded data removed]",
      "text/plain": [
       "<Figure size 432x288 with 2 Axes>"
      ]
     },
     "metadata": {
      "needs_background": "light"
     },
     "output_type": "display_data"
    }
   ],
   "source": [
    "users.hist();"
   ]
  },
  {
   "cell_type": "markdown",
   "id": "9bb2bd9e",
   "metadata": {},
   "source": [
    "Числовые значения без аномалий, можно отметить, что большинству пользователей от 20 до 30 лет."
   ]
  },
  {
   "cell_type": "markdown",
   "id": "260b06de",
   "metadata": {},
   "source": [
    "#### Данные о поездках"
   ]
  },
  {
   "cell_type": "markdown",
   "id": "6f64417b",
   "metadata": {},
   "source": [
    "##### Приведение типов"
   ]
  },
  {
   "cell_type": "markdown",
   "id": "8029784d",
   "metadata": {},
   "source": [
    "Типы данных указаны правильно, кроме даты поездки. Приведем ее к типу `date`."
   ]
  },
  {
   "cell_type": "code",
   "execution_count": 9,
   "id": "4ce51968",
   "metadata": {},
   "outputs": [],
   "source": [
    "rides['date'] = pd.to_datetime(rides['date'])"
   ]
  },
  {
   "cell_type": "markdown",
   "id": "d8508db4",
   "metadata": {},
   "source": [
    "Добавим столбец с номером месяца поездки."
   ]
  },
  {
   "cell_type": "code",
   "execution_count": 10,
   "id": "a0f291b8",
   "metadata": {},
   "outputs": [],
   "source": [
    "rides['month'] = rides['date'].dt.month"
   ]
  },
  {
   "cell_type": "markdown",
   "id": "a476e4f7",
   "metadata": {},
   "source": [
    "Оценим, за какой период приведены данные."
   ]
  },
  {
   "cell_type": "code",
   "execution_count": 11,
   "id": "58ca92ca",
   "metadata": {},
   "outputs": [
    {
     "name": "stdout",
     "output_type": "stream",
     "text": [
      "2021-01-01 00:00:00 : 2021-12-30 00:00:00\n"
     ]
    }
   ],
   "source": [
    "print(rides['date'].min(), ':', rides['date'].max())"
   ]
  },
  {
   "cell_type": "markdown",
   "id": "d97a31fd",
   "metadata": {},
   "source": [
    "Приведены данные за период с первого января 2021 года по 30 декабря 2021 года."
   ]
  },
  {
   "cell_type": "markdown",
   "id": "4da4c228",
   "metadata": {},
   "source": [
    "##### Пропуски"
   ]
  },
  {
   "cell_type": "markdown",
   "id": "e8673319",
   "metadata": {},
   "source": [
    "Найдем пропуски в данных."
   ]
  },
  {
   "cell_type": "code",
   "execution_count": 12,
   "id": "8163d2db",
   "metadata": {},
   "outputs": [
    {
     "data": {
      "text/plain": [
       "user_id     0\n",
       "distance    0\n",
       "duration    0\n",
       "date        0\n",
       "month       0\n",
       "dtype: int64"
      ]
     },
     "execution_count": 12,
     "metadata": {},
     "output_type": "execute_result"
    }
   ],
   "source": [
    "rides.isna().sum()"
   ]
  },
  {
   "cell_type": "markdown",
   "id": "13abaac3",
   "metadata": {},
   "source": [
    "Пропусков нет."
   ]
  },
  {
   "cell_type": "markdown",
   "id": "c681fc77",
   "metadata": {},
   "source": [
    "##### Дубликаты"
   ]
  },
  {
   "cell_type": "markdown",
   "id": "14325af7",
   "metadata": {},
   "source": [
    "Найдем дубликаты."
   ]
  },
  {
   "cell_type": "code",
   "execution_count": 13,
   "id": "6ca589bc",
   "metadata": {},
   "outputs": [
    {
     "data": {
      "text/plain": [
       "0"
      ]
     },
     "execution_count": 13,
     "metadata": {},
     "output_type": "execute_result"
    }
   ],
   "source": [
    "rides.duplicated().sum()"
   ]
  },
  {
   "cell_type": "markdown",
   "id": "8c6ff9f7",
   "metadata": {},
   "source": [
    "Дубликатов нет."
   ]
  },
  {
   "cell_type": "markdown",
   "id": "0252e5ac",
   "metadata": {},
   "source": [
    "##### Аномалии"
   ]
  },
  {
   "cell_type": "markdown",
   "id": "db93cc57",
   "metadata": {},
   "source": [
    "Оценим распределение значений ячеек."
   ]
  },
  {
   "cell_type": "code",
   "execution_count": 14,
   "id": "62f6e14a",
   "metadata": {
    "scrolled": true
   },
   "outputs": [
    {
     "data": {
      "image/png": "[encoded data removed]",
      "text/plain": [
       "<Figure size 432x288 with 6 Axes>"
      ]
     },
     "metadata": {
      "needs_background": "light"
     },
     "output_type": "display_data"
    }
   ],
   "source": [
    "rides.hist();"
   ]
  },
  {
   "cell_type": "markdown",
   "id": "410a0870",
   "metadata": {},
   "source": [
    "Выраженных аномалий нет, можно отметить:\n",
    "- некоторые пользователи ездят чаще других;\n",
    "- обычно пользователи ездят от 2000 до 4000 метров:\n",
    "- среднее время поездки в пределах 20 минут."
   ]
  },
  {
   "cell_type": "markdown",
   "id": "002979f7",
   "metadata": {},
   "source": [
    "Проверим аномалии исходя из скорости самоката. Создадим столбец со средней скоростью поездки."
   ]
  },
  {
   "cell_type": "code",
   "execution_count": 15,
   "id": "7b142c4e",
   "metadata": {},
   "outputs": [
    {
     "data": {
      "image/png": "[encoded data removed]",
      "text/plain": [
       "<Figure size 648x864 with 1 Axes>"
      ]
     },
     "metadata": {
      "needs_background": "light"
     },
     "output_type": "display_data"
    }
   ],
   "source": [
    "rides['mean_speed'] = (rides['distance'] / 1000) / (rides['duration'] / 60)\n",
    "rides.boxplot('mean_speed', figsize=(9, 12));"
   ]
  },
  {
   "cell_type": "markdown",
   "id": "a4ee2fda",
   "metadata": {},
   "source": [
    "Некоторые пользователи ездили со скоростью выше 400 км/ч, посчитаем сколько таких строк."
   ]
  },
  {
   "cell_type": "code",
   "execution_count": 16,
   "id": "64d6b1a8",
   "metadata": {},
   "outputs": [
    {
     "data": {
      "text/plain": [
       "95"
      ]
     },
     "execution_count": 16,
     "metadata": {},
     "output_type": "execute_result"
    }
   ],
   "source": [
    "rides.query('mean_speed > 400')['user_id'].count()"
   ]
  },
  {
   "cell_type": "markdown",
   "id": "0c81ab71",
   "metadata": {},
   "source": [
    "Всего 95 поездок, создадим отдельный датафрейм, который будем использовать для исследовательского анализа, оригинальный оставим для расчета выручки."
   ]
  },
  {
   "cell_type": "code",
   "execution_count": 17,
   "id": "3ddf6b80",
   "metadata": {},
   "outputs": [],
   "source": [
    "good_rides = rides.query('mean_speed < 400')"
   ]
  },
  {
   "cell_type": "markdown",
   "id": "a8262710",
   "metadata": {},
   "source": [
    "Поездки с очень маленькой средней скоростью оставим, т.к. неизвестно, простаивал ли большую часть времени самокат или просто человек медленно ехал."
   ]
  },
  {
   "cell_type": "markdown",
   "id": "212593c7",
   "metadata": {},
   "source": [
    "### Исследовательский анализ данных"
   ]
  },
  {
   "cell_type": "markdown",
   "id": "fa021f94",
   "metadata": {},
   "source": [
    "#### Частота встречаемости городов"
   ]
  },
  {
   "cell_type": "markdown",
   "id": "972f869e",
   "metadata": {},
   "source": [
    "Подсчитаем количество пользователей в разных городах."
   ]
  },
  {
   "cell_type": "code",
   "execution_count": 18,
   "id": "e3a4274c",
   "metadata": {
    "scrolled": true
   },
   "outputs": [
    {
     "data": {
      "text/html": [
       "<div>\n",
       "<style scoped>\n",
       "    .dataframe tbody tr th:only-of-type {\n",
       "        vertical-align: middle;\n",
       "    }\n",
       "\n",
       "    .dataframe tbody tr th {\n",
       "        vertical-align: top;\n",
       "    }\n",
       "\n",
       "    .dataframe thead th {\n",
       "        text-align: right;\n",
       "    }\n",
       "</style>\n",
       "<table border=\"1\" class=\"dataframe\">\n",
       "  <thead>\n",
       "    <tr style=\"text-align: right;\">\n",
       "      <th></th>\n",
       "      <th>user_id</th>\n",
       "    </tr>\n",
       "    <tr>\n",
       "      <th>city</th>\n",
       "      <th></th>\n",
       "    </tr>\n",
       "  </thead>\n",
       "  <tbody>\n",
       "    <tr>\n",
       "      <th>Пятигорск</th>\n",
       "      <td>219</td>\n",
       "    </tr>\n",
       "    <tr>\n",
       "      <th>Екатеринбург</th>\n",
       "      <td>204</td>\n",
       "    </tr>\n",
       "    <tr>\n",
       "      <th>Ростов-на-Дону</th>\n",
       "      <td>198</td>\n",
       "    </tr>\n",
       "    <tr>\n",
       "      <th>Краснодар</th>\n",
       "      <td>193</td>\n",
       "    </tr>\n",
       "    <tr>\n",
       "      <th>Сочи</th>\n",
       "      <td>189</td>\n",
       "    </tr>\n",
       "    <tr>\n",
       "      <th>Омск</th>\n",
       "      <td>183</td>\n",
       "    </tr>\n",
       "    <tr>\n",
       "      <th>Тюмень</th>\n",
       "      <td>180</td>\n",
       "    </tr>\n",
       "    <tr>\n",
       "      <th>Москва</th>\n",
       "      <td>168</td>\n",
       "    </tr>\n",
       "  </tbody>\n",
       "</table>\n",
       "</div>"
      ],
      "text/plain": [
       "                user_id\n",
       "city                   \n",
       "Пятигорск           219\n",
       "Екатеринбург        204\n",
       "Ростов-на-Дону      198\n",
       "Краснодар           193\n",
       "Сочи                189\n",
       "Омск                183\n",
       "Тюмень              180\n",
       "Москва              168"
      ]
     },
     "execution_count": 18,
     "metadata": {},
     "output_type": "execute_result"
    }
   ],
   "source": [
    "city_users_count = users.pivot_table(index='city', values='user_id', aggfunc='count').sort_values(by='user_id', ascending=False)\n",
    "city_users_count"
   ]
  },
  {
   "cell_type": "markdown",
   "id": "1c79dccc",
   "metadata": {},
   "source": [
    "Распределение получилось примерно одинаковое по городам."
   ]
  },
  {
   "cell_type": "code",
   "execution_count": 19,
   "id": "d67eb0dd",
   "metadata": {
    "scrolled": false
   },
   "outputs": [
    {
     "data": {
      "image/png": "[encoded data removed]",
      "text/plain": [
       "<Figure size 648x864 with 1 Axes>"
      ]
     },
     "metadata": {
      "needs_background": "light"
     },
     "output_type": "display_data"
    }
   ],
   "source": [
    "city_users_count.plot.barh(figsize=(9,12), title='Количество пользователей в разных городах', legend=False);"
   ]
  },
  {
   "cell_type": "code",
   "execution_count": 50,
   "id": "2d498f50",
   "metadata": {},
   "outputs": [
    {
     "data": {
      "image/png": "[encoded data removed]",
      "text/plain": [
       "<Figure size 864x360 with 1 Axes>"
      ]
     },
     "metadata": {
      "needs_background": "light"
     },
     "output_type": "display_data"
    }
   ],
   "source": [
    "# Код ревьюера\n",
    "users['city'].value_counts(ascending = True).plot(figsize = (12, 5),\n",
    "                      kind = 'barh',\n",
    "                      title='Количество пользователей в разных городах', legend=False)\n",
    "plt.show()"
   ]
  },
  {
   "cell_type": "markdown",
   "id": "a0fb2ec8",
   "metadata": {},
   "source": [
    "#### Соотношение пользователей с подпиской и без"
   ]
  },
  {
   "cell_type": "code",
   "execution_count": 20,
   "id": "ab10cdf0",
   "metadata": {
    "scrolled": true
   },
   "outputs": [
    {
     "data": {
      "text/html": [
       "<div>\n",
       "<style scoped>\n",
       "    .dataframe tbody tr th:only-of-type {\n",
       "        vertical-align: middle;\n",
       "    }\n",
       "\n",
       "    .dataframe tbody tr th {\n",
       "        vertical-align: top;\n",
       "    }\n",
       "\n",
       "    .dataframe thead th {\n",
       "        text-align: right;\n",
       "    }\n",
       "</style>\n",
       "<table border=\"1\" class=\"dataframe\">\n",
       "  <thead>\n",
       "    <tr style=\"text-align: right;\">\n",
       "      <th></th>\n",
       "      <th>user_id</th>\n",
       "    </tr>\n",
       "    <tr>\n",
       "      <th>subscription_type</th>\n",
       "      <th></th>\n",
       "    </tr>\n",
       "  </thead>\n",
       "  <tbody>\n",
       "    <tr>\n",
       "      <th>free</th>\n",
       "      <td>835</td>\n",
       "    </tr>\n",
       "    <tr>\n",
       "      <th>ultra</th>\n",
       "      <td>699</td>\n",
       "    </tr>\n",
       "  </tbody>\n",
       "</table>\n",
       "</div>"
      ],
      "text/plain": [
       "                   user_id\n",
       "subscription_type         \n",
       "free                   835\n",
       "ultra                  699"
      ]
     },
     "execution_count": 20,
     "metadata": {},
     "output_type": "execute_result"
    }
   ],
   "source": [
    "subscription_type_user_count = users.pivot_table(index='subscription_type', values='user_id', aggfunc='count')\n",
    "subscription_type_user_count"
   ]
  },
  {
   "cell_type": "code",
   "execution_count": 21,
   "id": "c8d0ac50",
   "metadata": {
    "scrolled": false
   },
   "outputs": [
    {
     "data": {
      "image/png": "[encoded data removed]",
      "text/plain": [
       "<Figure size 648x864 with 1 Axes>"
      ]
     },
     "metadata": {},
     "output_type": "display_data"
    }
   ],
   "source": [
    "colors = ['tab:grey', 'tab:cyan']\n",
    "subscription_type_user_count.plot(kind='pie', y='user_id', figsize=(9, 12), autopct='%1.0f%%', colors=colors,\n",
    "                                 title='Соотношение пользователей с подпиской и без');"
   ]
  },
  {
   "cell_type": "markdown",
   "id": "521cc3b7",
   "metadata": {},
   "source": [
    "Бесплатная подписка у 54% пользователей, остальные обладают подпиской \"Ультра\""
   ]
  },
  {
   "cell_type": "markdown",
   "id": "a6e0e917",
   "metadata": {},
   "source": [
    "#### Возраст пользователей"
   ]
  },
  {
   "cell_type": "markdown",
   "id": "e8ab7f4f",
   "metadata": {},
   "source": [
    "Оценим распределение возрастов среди пользователей."
   ]
  },
  {
   "cell_type": "code",
   "execution_count": 22,
   "id": "a6873b85",
   "metadata": {
    "scrolled": false
   },
   "outputs": [
    {
     "data": {
      "image/png": "[encoded data removed]",
      "text/plain": [
       "<Figure size 648x864 with 1 Axes>"
      ]
     },
     "metadata": {
      "needs_background": "light"
     },
     "output_type": "display_data"
    }
   ],
   "source": [
    "users['age'].hist(bins=30, figsize=(9, 12));"
   ]
  },
  {
   "cell_type": "markdown",
   "id": "b651f278",
   "metadata": {},
   "source": [
    "По гистограмме видно, что большинству пользователей 25 лет, остальные нормально распределены вокруг этого значения."
   ]
  },
  {
   "cell_type": "markdown",
   "id": "79348b64",
   "metadata": {},
   "source": [
    "Запросим описание столбца."
   ]
  },
  {
   "cell_type": "code",
   "execution_count": 23,
   "id": "7d4efdfd",
   "metadata": {},
   "outputs": [
    {
     "data": {
      "text/plain": [
       "count    1534.000000\n",
       "mean       24.903520\n",
       "std         4.572367\n",
       "min        12.000000\n",
       "25%        22.000000\n",
       "50%        25.000000\n",
       "75%        28.000000\n",
       "max        43.000000\n",
       "Name: age, dtype: float64"
      ]
     },
     "execution_count": 23,
     "metadata": {},
     "output_type": "execute_result"
    }
   ],
   "source": [
    "users['age'].describe()"
   ]
  },
  {
   "cell_type": "markdown",
   "id": "904a6a5e",
   "metadata": {},
   "source": [
    "Максимальный возраст пользователя в выборке — 43, минимальный — 12 лет. Среднее значение — 24,9 лет. Стоит отметить, что среднее и медиана по сути одинаковы. Большая часть пользователей младше 28 лет."
   ]
  },
  {
   "cell_type": "markdown",
   "id": "d94b025f",
   "metadata": {},
   "source": [
    "#### Расстояние за одну поездку"
   ]
  },
  {
   "cell_type": "markdown",
   "id": "e0dbdfcc",
   "metadata": {},
   "source": [
    "Оценим расстояния, которые проезжают пользователи."
   ]
  },
  {
   "cell_type": "code",
   "execution_count": 24,
   "id": "2e2e6c19",
   "metadata": {
    "scrolled": false
   },
   "outputs": [
    {
     "data": {
      "image/png": "[encoded data removed]",
      "text/plain": [
       "<Figure size 648x864 with 1 Axes>"
      ]
     },
     "metadata": {
      "needs_background": "light"
     },
     "output_type": "display_data"
    }
   ],
   "source": [
    "good_rides['distance'].hist(figsize=(9, 12), bins=100);"
   ]
  },
  {
   "cell_type": "markdown",
   "id": "6872a731",
   "metadata": {},
   "source": [
    "Можно заметить два пика: небольшой в поездках до 1 километра, и побольше в районе 3 километров. В основном пользователи ездят до 5 километров."
   ]
  },
  {
   "cell_type": "markdown",
   "id": "e0d49789",
   "metadata": {},
   "source": [
    "Опишем столбец."
   ]
  },
  {
   "cell_type": "code",
   "execution_count": 25,
   "id": "7d3409a6",
   "metadata": {},
   "outputs": [
    {
     "data": {
      "text/plain": [
       "count    17973.000000\n",
       "mean      3059.863833\n",
       "std       1108.814612\n",
       "min          0.855683\n",
       "25%       2538.839628\n",
       "50%       3129.029255\n",
       "75%       3762.636244\n",
       "max       7066.003772\n",
       "Name: distance, dtype: float64"
      ]
     },
     "execution_count": 25,
     "metadata": {},
     "output_type": "execute_result"
    }
   ],
   "source": [
    "good_rides['distance'].describe()"
   ]
  },
  {
   "cell_type": "markdown",
   "id": "fb04a450",
   "metadata": {},
   "source": [
    "Как и в случае с возрастом, медиана и среднее почти совпали, 75 процентов значений лежат до 4 километров."
   ]
  },
  {
   "cell_type": "markdown",
   "id": "8d4e9004",
   "metadata": {},
   "source": [
    "#### Продолжительность поездок"
   ]
  },
  {
   "cell_type": "markdown",
   "id": "ec35c5cd",
   "metadata": {},
   "source": [
    "Оценим распределение продолжительности поездок."
   ]
  },
  {
   "cell_type": "code",
   "execution_count": 26,
   "id": "715fd5ca",
   "metadata": {
    "scrolled": true
   },
   "outputs": [
    {
     "data": {
      "image/png": "[encoded data removed]",
      "text/plain": [
       "<Figure size 648x864 with 1 Axes>"
      ]
     },
     "metadata": {
      "needs_background": "light"
     },
     "output_type": "display_data"
    }
   ],
   "source": [
    "good_rides['duration'].hist(figsize=(9, 12), bins=100);"
   ]
  },
  {
   "cell_type": "markdown",
   "id": "073a2857",
   "metadata": {},
   "source": [
    "Время поездок распределено нормально со средним значением примерно 20 минут, опишем столбец."
   ]
  },
  {
   "cell_type": "code",
   "execution_count": 27,
   "id": "621b7232",
   "metadata": {
    "scrolled": true
   },
   "outputs": [
    {
     "data": {
      "text/plain": [
       "count    17973.000000\n",
       "mean        17.896480\n",
       "std          5.975424\n",
       "min          2.035632\n",
       "25%         13.670439\n",
       "50%         17.714122\n",
       "75%         21.747016\n",
       "max         40.823963\n",
       "Name: duration, dtype: float64"
      ]
     },
     "execution_count": 27,
     "metadata": {},
     "output_type": "execute_result"
    }
   ],
   "source": [
    "good_rides['duration'].describe()"
   ]
  },
  {
   "cell_type": "markdown",
   "id": "a72f09bc",
   "metadata": {},
   "source": [
    "Как и прежде среднее и медиана почти совпали — 18 минут. Самая короткая поездка составила 2 минуты, самая долгая — почти 41 минуту. Большая часть значений лежит в пределах 22 минут."
   ]
  },
  {
   "cell_type": "markdown",
   "id": "4ef51331",
   "metadata": {},
   "source": [
    "### Объединение данных"
   ]
  },
  {
   "cell_type": "markdown",
   "id": "4d51f3e8",
   "metadata": {},
   "source": [
    "Объединим датафреймы с информацией о пользователях и их поездками. Объединять будем внутренне, по `user_id`. Объединим дважды, для хороших данных и оригинальных."
   ]
  },
  {
   "cell_type": "code",
   "execution_count": 28,
   "id": "9cfc8a59",
   "metadata": {
    "scrolled": true
   },
   "outputs": [
    {
     "data": {
      "text/html": [
       "<div>\n",
       "<style scoped>\n",
       "    .dataframe tbody tr th:only-of-type {\n",
       "        vertical-align: middle;\n",
       "    }\n",
       "\n",
       "    .dataframe tbody tr th {\n",
       "        vertical-align: top;\n",
       "    }\n",
       "\n",
       "    .dataframe thead th {\n",
       "        text-align: right;\n",
       "    }\n",
       "</style>\n",
       "<table border=\"1\" class=\"dataframe\">\n",
       "  <thead>\n",
       "    <tr style=\"text-align: right;\">\n",
       "      <th></th>\n",
       "      <th>user_id</th>\n",
       "      <th>name</th>\n",
       "      <th>age</th>\n",
       "      <th>city</th>\n",
       "      <th>subscription_type</th>\n",
       "      <th>distance</th>\n",
       "      <th>duration</th>\n",
       "      <th>date</th>\n",
       "      <th>month</th>\n",
       "      <th>mean_speed</th>\n",
       "    </tr>\n",
       "  </thead>\n",
       "  <tbody>\n",
       "    <tr>\n",
       "      <th>0</th>\n",
       "      <td>1</td>\n",
       "      <td>Кира</td>\n",
       "      <td>22</td>\n",
       "      <td>Тюмень</td>\n",
       "      <td>ultra</td>\n",
       "      <td>4409.919140</td>\n",
       "      <td>25.599769</td>\n",
       "      <td>2021-01-01</td>\n",
       "      <td>1</td>\n",
       "      <td>10.335841</td>\n",
       "    </tr>\n",
       "    <tr>\n",
       "      <th>1</th>\n",
       "      <td>1</td>\n",
       "      <td>Кира</td>\n",
       "      <td>22</td>\n",
       "      <td>Тюмень</td>\n",
       "      <td>ultra</td>\n",
       "      <td>2617.592153</td>\n",
       "      <td>15.816871</td>\n",
       "      <td>2021-01-18</td>\n",
       "      <td>1</td>\n",
       "      <td>9.929620</td>\n",
       "    </tr>\n",
       "    <tr>\n",
       "      <th>2</th>\n",
       "      <td>1</td>\n",
       "      <td>Кира</td>\n",
       "      <td>22</td>\n",
       "      <td>Тюмень</td>\n",
       "      <td>ultra</td>\n",
       "      <td>754.159807</td>\n",
       "      <td>6.232113</td>\n",
       "      <td>2021-04-20</td>\n",
       "      <td>4</td>\n",
       "      <td>7.260713</td>\n",
       "    </tr>\n",
       "    <tr>\n",
       "      <th>3</th>\n",
       "      <td>1</td>\n",
       "      <td>Кира</td>\n",
       "      <td>22</td>\n",
       "      <td>Тюмень</td>\n",
       "      <td>ultra</td>\n",
       "      <td>2694.783254</td>\n",
       "      <td>18.511000</td>\n",
       "      <td>2021-08-11</td>\n",
       "      <td>8</td>\n",
       "      <td>8.734644</td>\n",
       "    </tr>\n",
       "    <tr>\n",
       "      <th>4</th>\n",
       "      <td>1</td>\n",
       "      <td>Кира</td>\n",
       "      <td>22</td>\n",
       "      <td>Тюмень</td>\n",
       "      <td>ultra</td>\n",
       "      <td>4028.687306</td>\n",
       "      <td>26.265803</td>\n",
       "      <td>2021-08-28</td>\n",
       "      <td>8</td>\n",
       "      <td>9.202888</td>\n",
       "    </tr>\n",
       "    <tr>\n",
       "      <th>...</th>\n",
       "      <td>...</td>\n",
       "      <td>...</td>\n",
       "      <td>...</td>\n",
       "      <td>...</td>\n",
       "      <td>...</td>\n",
       "      <td>...</td>\n",
       "      <td>...</td>\n",
       "      <td>...</td>\n",
       "      <td>...</td>\n",
       "      <td>...</td>\n",
       "    </tr>\n",
       "    <tr>\n",
       "      <th>18063</th>\n",
       "      <td>1534</td>\n",
       "      <td>Альберт</td>\n",
       "      <td>25</td>\n",
       "      <td>Краснодар</td>\n",
       "      <td>free</td>\n",
       "      <td>3781.098080</td>\n",
       "      <td>19.822962</td>\n",
       "      <td>2021-11-04</td>\n",
       "      <td>11</td>\n",
       "      <td>11.444601</td>\n",
       "    </tr>\n",
       "    <tr>\n",
       "      <th>18064</th>\n",
       "      <td>1534</td>\n",
       "      <td>Альберт</td>\n",
       "      <td>25</td>\n",
       "      <td>Краснодар</td>\n",
       "      <td>free</td>\n",
       "      <td>2840.423057</td>\n",
       "      <td>21.409799</td>\n",
       "      <td>2021-11-16</td>\n",
       "      <td>11</td>\n",
       "      <td>7.960158</td>\n",
       "    </tr>\n",
       "    <tr>\n",
       "      <th>18065</th>\n",
       "      <td>1534</td>\n",
       "      <td>Альберт</td>\n",
       "      <td>25</td>\n",
       "      <td>Краснодар</td>\n",
       "      <td>free</td>\n",
       "      <td>3826.185507</td>\n",
       "      <td>18.435051</td>\n",
       "      <td>2021-11-18</td>\n",
       "      <td>11</td>\n",
       "      <td>12.452969</td>\n",
       "    </tr>\n",
       "    <tr>\n",
       "      <th>18066</th>\n",
       "      <td>1534</td>\n",
       "      <td>Альберт</td>\n",
       "      <td>25</td>\n",
       "      <td>Краснодар</td>\n",
       "      <td>free</td>\n",
       "      <td>2902.308661</td>\n",
       "      <td>16.674362</td>\n",
       "      <td>2021-11-27</td>\n",
       "      <td>11</td>\n",
       "      <td>10.443489</td>\n",
       "    </tr>\n",
       "    <tr>\n",
       "      <th>18067</th>\n",
       "      <td>1534</td>\n",
       "      <td>Альберт</td>\n",
       "      <td>25</td>\n",
       "      <td>Краснодар</td>\n",
       "      <td>free</td>\n",
       "      <td>2371.711192</td>\n",
       "      <td>15.893917</td>\n",
       "      <td>2021-12-29</td>\n",
       "      <td>12</td>\n",
       "      <td>8.953279</td>\n",
       "    </tr>\n",
       "  </tbody>\n",
       "</table>\n",
       "<p>18068 rows × 10 columns</p>\n",
       "</div>"
      ],
      "text/plain": [
       "       user_id     name  age       city subscription_type     distance  \\\n",
       "0            1     Кира   22     Тюмень             ultra  4409.919140   \n",
       "1            1     Кира   22     Тюмень             ultra  2617.592153   \n",
       "2            1     Кира   22     Тюмень             ultra   754.159807   \n",
       "3            1     Кира   22     Тюмень             ultra  2694.783254   \n",
       "4            1     Кира   22     Тюмень             ultra  4028.687306   \n",
       "...        ...      ...  ...        ...               ...          ...   \n",
       "18063     1534  Альберт   25  Краснодар              free  3781.098080   \n",
       "18064     1534  Альберт   25  Краснодар              free  2840.423057   \n",
       "18065     1534  Альберт   25  Краснодар              free  3826.185507   \n",
       "18066     1534  Альберт   25  Краснодар              free  2902.308661   \n",
       "18067     1534  Альберт   25  Краснодар              free  2371.711192   \n",
       "\n",
       "        duration       date  month  mean_speed  \n",
       "0      25.599769 2021-01-01      1   10.335841  \n",
       "1      15.816871 2021-01-18      1    9.929620  \n",
       "2       6.232113 2021-04-20      4    7.260713  \n",
       "3      18.511000 2021-08-11      8    8.734644  \n",
       "4      26.265803 2021-08-28      8    9.202888  \n",
       "...          ...        ...    ...         ...  \n",
       "18063  19.822962 2021-11-04     11   11.444601  \n",
       "18064  21.409799 2021-11-16     11    7.960158  \n",
       "18065  18.435051 2021-11-18     11   12.452969  \n",
       "18066  16.674362 2021-11-27     11   10.443489  \n",
       "18067  15.893917 2021-12-29     12    8.953279  \n",
       "\n",
       "[18068 rows x 10 columns]"
      ]
     },
     "execution_count": 28,
     "metadata": {},
     "output_type": "execute_result"
    }
   ],
   "source": [
    "users_rides = users.merge(rides, on='user_id')\n",
    "good_users_rides = users.merge(good_rides, on='user_id')\n",
    "users_rides"
   ]
  },
  {
   "cell_type": "markdown",
   "id": "2eae9e33",
   "metadata": {},
   "source": [
    "Проверим итоговую размерность и наличие пропусков."
   ]
  },
  {
   "cell_type": "code",
   "execution_count": 29,
   "id": "6f65bad5",
   "metadata": {},
   "outputs": [
    {
     "name": "stdout",
     "output_type": "stream",
     "text": [
      "<class 'pandas.core.frame.DataFrame'>\n",
      "Int64Index: 18068 entries, 0 to 18067\n",
      "Data columns (total 10 columns):\n",
      " #   Column             Non-Null Count  Dtype         \n",
      "---  ------             --------------  -----         \n",
      " 0   user_id            18068 non-null  int64         \n",
      " 1   name               18068 non-null  object        \n",
      " 2   age                18068 non-null  int64         \n",
      " 3   city               18068 non-null  object        \n",
      " 4   subscription_type  18068 non-null  object        \n",
      " 5   distance           18068 non-null  float64       \n",
      " 6   duration           18068 non-null  float64       \n",
      " 7   date               18068 non-null  datetime64[ns]\n",
      " 8   month              18068 non-null  int64         \n",
      " 9   mean_speed         18068 non-null  float64       \n",
      "dtypes: datetime64[ns](1), float64(3), int64(3), object(3)\n",
      "memory usage: 1.5+ MB\n",
      "\n",
      "<class 'pandas.core.frame.DataFrame'>\n",
      "Int64Index: 17973 entries, 0 to 17972\n",
      "Data columns (total 10 columns):\n",
      " #   Column             Non-Null Count  Dtype         \n",
      "---  ------             --------------  -----         \n",
      " 0   user_id            17973 non-null  int64         \n",
      " 1   name               17973 non-null  object        \n",
      " 2   age                17973 non-null  int64         \n",
      " 3   city               17973 non-null  object        \n",
      " 4   subscription_type  17973 non-null  object        \n",
      " 5   distance           17973 non-null  float64       \n",
      " 6   duration           17973 non-null  float64       \n",
      " 7   date               17973 non-null  datetime64[ns]\n",
      " 8   month              17973 non-null  int64         \n",
      " 9   mean_speed         17973 non-null  float64       \n",
      "dtypes: datetime64[ns](1), float64(3), int64(3), object(3)\n",
      "memory usage: 1.5+ MB\n"
     ]
    }
   ],
   "source": [
    "users_rides.info()\n",
    "print()\n",
    "good_users_rides.info()"
   ]
  },
  {
   "cell_type": "markdown",
   "id": "7274d916",
   "metadata": {},
   "source": [
    "Итоговый оригинальный датафрейм получился длиной в 18068 строк, что соответствует исходному датафрейму `rides`. Пропусков нет ни в одном столбце."
   ]
  },
  {
   "cell_type": "markdown",
   "id": "f6f0878c",
   "metadata": {},
   "source": [
    "Создадим хорошие и аномальные датафреймы. Два с пользователями без подписки, два с подпиской."
   ]
  },
  {
   "cell_type": "code",
   "execution_count": 30,
   "id": "62b90b42",
   "metadata": {
    "scrolled": true
   },
   "outputs": [],
   "source": [
    "free_users = users_rides.query('subscription_type == \"free\"') # датасет с пользователями без подписки\n",
    "ultra_users = users_rides.query('subscription_type == \"ultra\"') # датасет с пользователями, имеющими подписку\n",
    "good_free_users = good_users_rides.query('subscription_type == \"free\"') # хороший датасет с пользователями без подписки \n",
    "good_ultra_users = good_users_rides.query('subscription_type == \"ultra\"') # хороший датасет с пользователями, имеющими подписку"
   ]
  },
  {
   "cell_type": "markdown",
   "id": "dba068e8",
   "metadata": {},
   "source": [
    "Визуализируем данные пользователей с подпиской и без по расстоянию поездок по хорошим данным."
   ]
  },
  {
   "cell_type": "code",
   "execution_count": 31,
   "id": "2335716f",
   "metadata": {
    "scrolled": false
   },
   "outputs": [
    {
     "data": {
      "image/png": "[encoded data removed]",
      "text/plain": [
       "<Figure size 720x960 with 1 Axes>"
      ]
     },
     "metadata": {
      "needs_background": "light"
     },
     "output_type": "display_data"
    }
   ],
   "source": [
    "import matplotlib.pyplot as plt # импортируем библиотеку для графиков\n",
    "from matplotlib.pyplot import figure # импортируем figure, чтобы указать размер гистограммы\n",
    "\n",
    "figure(figsize=(9, 12), dpi=80)\n",
    "plt.hist([good_free_users['distance'], good_ultra_users['distance']], bins=100, label=['Free','Ultra']);\n",
    "plt.legend(loc='upper left')\n",
    "plt.show();"
   ]
  },
  {
   "cell_type": "markdown",
   "id": "3cea802f",
   "metadata": {},
   "source": [
    "В целом распределение оказалось похожим, но есть отличия:\n",
    "- пользователи с подпиской реже совершают короткие поездки (до 1 км);\n",
    "- пользователи с подпиской в основном ездят на расстояние 3 км."
   ]
  },
  {
   "cell_type": "markdown",
   "id": "1025c002",
   "metadata": {},
   "source": [
    "Опишем численно данные о дистанции."
   ]
  },
  {
   "cell_type": "code",
   "execution_count": 32,
   "id": "5014f068",
   "metadata": {
    "scrolled": true
   },
   "outputs": [
    {
     "data": {
      "text/plain": [
       "count    11473.000000\n",
       "mean      3028.374239\n",
       "std       1235.541051\n",
       "min          0.855683\n",
       "25%       2360.878149\n",
       "50%       3102.083025\n",
       "75%       3883.979311\n",
       "max       7066.003772\n",
       "Name: distance, dtype: float64"
      ]
     },
     "execution_count": 32,
     "metadata": {},
     "output_type": "execute_result"
    }
   ],
   "source": [
    "good_free_users['distance'].describe()"
   ]
  },
  {
   "cell_type": "code",
   "execution_count": 33,
   "id": "6e168a23",
   "metadata": {
    "scrolled": true
   },
   "outputs": [
    {
     "data": {
      "text/plain": [
       "count    6500.000000\n",
       "mean     3115.445388\n",
       "std       836.895330\n",
       "min       244.210438\n",
       "25%      2785.444017\n",
       "50%      3148.637229\n",
       "75%      3560.574425\n",
       "max      5699.769662\n",
       "Name: distance, dtype: float64"
      ]
     },
     "execution_count": 33,
     "metadata": {},
     "output_type": "execute_result"
    }
   ],
   "source": [
    "good_ultra_users['distance'].describe()"
   ]
  },
  {
   "cell_type": "markdown",
   "id": "06e5ae9c",
   "metadata": {},
   "source": [
    "Среднее и медиальное значение у пользователей различных категорий почти одинаково."
   ]
  },
  {
   "cell_type": "markdown",
   "id": "3885fc79",
   "metadata": {},
   "source": [
    "Оценим распределение по продолжительности поездки для этих категорий."
   ]
  },
  {
   "cell_type": "code",
   "execution_count": 34,
   "id": "d1f351b7",
   "metadata": {
    "scrolled": false
   },
   "outputs": [
    {
     "data": {
      "image/png": "[encoded data removed]",
      "text/plain": [
       "<Figure size 720x960 with 1 Axes>"
      ]
     },
     "metadata": {
      "needs_background": "light"
     },
     "output_type": "display_data"
    }
   ],
   "source": [
    "figure(figsize=(9, 12), dpi=80)\n",
    "plt.hist([good_free_users['duration'], good_ultra_users['duration']], bins=100, label=['Free','Ultra']);\n",
    "plt.legend(loc='upper left')\n",
    "plt.show();"
   ]
  },
  {
   "cell_type": "markdown",
   "id": "627cec2d",
   "metadata": {},
   "source": [
    "Здесь тоже без радикальных отличий в относительном выражении, у обладатей платной подписки нормализация времени поездок сужается. Оценим численно."
   ]
  },
  {
   "cell_type": "code",
   "execution_count": 35,
   "id": "40e61f0d",
   "metadata": {
    "scrolled": true
   },
   "outputs": [
    {
     "data": {
      "text/plain": [
       "count    11473.000000\n",
       "mean        17.530771\n",
       "std          6.162609\n",
       "min          2.035632\n",
       "25%         13.085688\n",
       "50%         17.383807\n",
       "75%         21.638038\n",
       "max         34.948498\n",
       "Name: duration, dtype: float64"
      ]
     },
     "execution_count": 35,
     "metadata": {},
     "output_type": "execute_result"
    }
   ],
   "source": [
    "good_free_users['duration'].describe()"
   ]
  },
  {
   "cell_type": "code",
   "execution_count": 36,
   "id": "f58657cf",
   "metadata": {
    "scrolled": true
   },
   "outputs": [
    {
     "data": {
      "text/plain": [
       "count    6500.000000\n",
       "mean       18.541985\n",
       "std         5.572048\n",
       "min         3.760353\n",
       "25%        14.524654\n",
       "50%        18.178153\n",
       "75%        21.884129\n",
       "max        40.823963\n",
       "Name: duration, dtype: float64"
      ]
     },
     "execution_count": 36,
     "metadata": {},
     "output_type": "execute_result"
    }
   ],
   "source": [
    "good_ultra_users['duration'].describe()"
   ]
  },
  {
   "cell_type": "markdown",
   "id": "53785389",
   "metadata": {},
   "source": [
    "Также среднее и медиана совпадают."
   ]
  },
  {
   "cell_type": "markdown",
   "id": "402d620f",
   "metadata": {},
   "source": [
    "### Подсчёт выручки"
   ]
  },
  {
   "cell_type": "markdown",
   "id": "e44169be",
   "metadata": {},
   "source": [
    "Найдем суммарное расстояние, количество поездок и суммарное время для каждого пользователя из разных категорий за каждый месяц.\n",
    "Датафрейм `free_users_month_rides` для пользователей без подписки и `ultra_users_month_rides` с подпиской. Для этого нужно округлить минуты поездки в большую сторону до целого числа."
   ]
  },
  {
   "cell_type": "code",
   "execution_count": 37,
   "id": "3099066a",
   "metadata": {
    "scrolled": true
   },
   "outputs": [
    {
     "name": "stderr",
     "output_type": "stream",
     "text": [
      "/tmp/ipykernel_138/3409949322.py:3: SettingWithCopyWarning: \n",
      "A value is trying to be set on a copy of a slice from a DataFrame.\n",
      "Try using .loc[row_indexer,col_indexer] = value instead\n",
      "\n",
      "See the caveats in the documentation: https://pandas.pydata.org/pandas-docs/stable/user_guide/indexing.html#returning-a-view-versus-a-copy\n",
      "  free_users['duration'] = np.ceil(free_users['duration']) # округляем время поездки до целого числа в большую сторону\n"
     ]
    },
    {
     "data": {
      "text/html": [
       "<div>\n",
       "<style scoped>\n",
       "    .dataframe tbody tr th:only-of-type {\n",
       "        vertical-align: middle;\n",
       "    }\n",
       "\n",
       "    .dataframe tbody tr th {\n",
       "        vertical-align: top;\n",
       "    }\n",
       "\n",
       "    .dataframe thead th {\n",
       "        text-align: right;\n",
       "    }\n",
       "</style>\n",
       "<table border=\"1\" class=\"dataframe\">\n",
       "  <thead>\n",
       "    <tr style=\"text-align: right;\">\n",
       "      <th></th>\n",
       "      <th>month</th>\n",
       "      <th>user_id</th>\n",
       "      <th>rides_count</th>\n",
       "      <th>distance_sum</th>\n",
       "      <th>duration_sum</th>\n",
       "    </tr>\n",
       "  </thead>\n",
       "  <tbody>\n",
       "    <tr>\n",
       "      <th>0</th>\n",
       "      <td>1</td>\n",
       "      <td>700</td>\n",
       "      <td>1</td>\n",
       "      <td>2515.690719</td>\n",
       "      <td>15.0</td>\n",
       "    </tr>\n",
       "    <tr>\n",
       "      <th>1</th>\n",
       "      <td>1</td>\n",
       "      <td>701</td>\n",
       "      <td>1</td>\n",
       "      <td>2676.472894</td>\n",
       "      <td>18.0</td>\n",
       "    </tr>\n",
       "    <tr>\n",
       "      <th>2</th>\n",
       "      <td>1</td>\n",
       "      <td>702</td>\n",
       "      <td>1</td>\n",
       "      <td>903.861985</td>\n",
       "      <td>16.0</td>\n",
       "    </tr>\n",
       "    <tr>\n",
       "      <th>3</th>\n",
       "      <td>1</td>\n",
       "      <td>703</td>\n",
       "      <td>1</td>\n",
       "      <td>3406.580225</td>\n",
       "      <td>24.0</td>\n",
       "    </tr>\n",
       "    <tr>\n",
       "      <th>4</th>\n",
       "      <td>1</td>\n",
       "      <td>704</td>\n",
       "      <td>1</td>\n",
       "      <td>3197.139639</td>\n",
       "      <td>18.0</td>\n",
       "    </tr>\n",
       "    <tr>\n",
       "      <th>...</th>\n",
       "      <td>...</td>\n",
       "      <td>...</td>\n",
       "      <td>...</td>\n",
       "      <td>...</td>\n",
       "      <td>...</td>\n",
       "    </tr>\n",
       "    <tr>\n",
       "      <th>6793</th>\n",
       "      <td>12</td>\n",
       "      <td>1525</td>\n",
       "      <td>1</td>\n",
       "      <td>4597.854350</td>\n",
       "      <td>34.0</td>\n",
       "    </tr>\n",
       "    <tr>\n",
       "      <th>6794</th>\n",
       "      <td>12</td>\n",
       "      <td>1526</td>\n",
       "      <td>1</td>\n",
       "      <td>3644.121544</td>\n",
       "      <td>23.0</td>\n",
       "    </tr>\n",
       "    <tr>\n",
       "      <th>6795</th>\n",
       "      <td>12</td>\n",
       "      <td>1528</td>\n",
       "      <td>1</td>\n",
       "      <td>3998.569324</td>\n",
       "      <td>11.0</td>\n",
       "    </tr>\n",
       "    <tr>\n",
       "      <th>6796</th>\n",
       "      <td>12</td>\n",
       "      <td>1532</td>\n",
       "      <td>2</td>\n",
       "      <td>6111.889853</td>\n",
       "      <td>42.0</td>\n",
       "    </tr>\n",
       "    <tr>\n",
       "      <th>6797</th>\n",
       "      <td>12</td>\n",
       "      <td>1534</td>\n",
       "      <td>1</td>\n",
       "      <td>2371.711192</td>\n",
       "      <td>16.0</td>\n",
       "    </tr>\n",
       "  </tbody>\n",
       "</table>\n",
       "<p>6798 rows × 5 columns</p>\n",
       "</div>"
      ],
      "text/plain": [
       "      month  user_id  rides_count  distance_sum  duration_sum\n",
       "0         1      700            1   2515.690719          15.0\n",
       "1         1      701            1   2676.472894          18.0\n",
       "2         1      702            1    903.861985          16.0\n",
       "3         1      703            1   3406.580225          24.0\n",
       "4         1      704            1   3197.139639          18.0\n",
       "...     ...      ...          ...           ...           ...\n",
       "6793     12     1525            1   4597.854350          34.0\n",
       "6794     12     1526            1   3644.121544          23.0\n",
       "6795     12     1528            1   3998.569324          11.0\n",
       "6796     12     1532            2   6111.889853          42.0\n",
       "6797     12     1534            1   2371.711192          16.0\n",
       "\n",
       "[6798 rows x 5 columns]"
      ]
     },
     "execution_count": 37,
     "metadata": {},
     "output_type": "execute_result"
    }
   ],
   "source": [
    "import numpy as np # импортируем библиотеку numpy\n",
    "\n",
    "free_users['duration'] = np.ceil(free_users['duration']) # округляем время поездки до целого числа в большую сторону\n",
    "# создаем сводную таблицу по месяцам и user_id, со значениями дистанции и \n",
    "# времени поездки, по которым рассчитываем сумму и их количество\n",
    "free_users_month_rides = free_users.pivot_table(index=['month', 'user_id'], values=['distance', 'duration'], \\\n",
    "                                     aggfunc={'distance': ['count', 'sum'], 'duration' : 'sum'}).reset_index()\n",
    "\n",
    "columns = ['month', 'user_id', 'rides_count', 'distance_sum', 'duration_sum'] # создаем список с новыми названиями таблицы\n",
    "free_users_month_rides.columns = columns # записываем новые названия столбцов для сводной таблицы\n",
    "free_users_month_rides"
   ]
  },
  {
   "cell_type": "markdown",
   "id": "104057da",
   "metadata": {},
   "source": [
    "То же самое делаем для пользователей с подпиской."
   ]
  },
  {
   "cell_type": "code",
   "execution_count": 38,
   "id": "b8348c34",
   "metadata": {},
   "outputs": [
    {
     "name": "stderr",
     "output_type": "stream",
     "text": [
      "/tmp/ipykernel_138/1086539596.py:1: SettingWithCopyWarning: \n",
      "A value is trying to be set on a copy of a slice from a DataFrame.\n",
      "Try using .loc[row_indexer,col_indexer] = value instead\n",
      "\n",
      "See the caveats in the documentation: https://pandas.pydata.org/pandas-docs/stable/user_guide/indexing.html#returning-a-view-versus-a-copy\n",
      "  ultra_users['duration'] = np.ceil(ultra_users['duration'])\n"
     ]
    },
    {
     "data": {
      "text/html": [
       "<div>\n",
       "<style scoped>\n",
       "    .dataframe tbody tr th:only-of-type {\n",
       "        vertical-align: middle;\n",
       "    }\n",
       "\n",
       "    .dataframe tbody tr th {\n",
       "        vertical-align: top;\n",
       "    }\n",
       "\n",
       "    .dataframe thead th {\n",
       "        text-align: right;\n",
       "    }\n",
       "</style>\n",
       "<table border=\"1\" class=\"dataframe\">\n",
       "  <thead>\n",
       "    <tr style=\"text-align: right;\">\n",
       "      <th></th>\n",
       "      <th>month</th>\n",
       "      <th>user_id</th>\n",
       "      <th>rides_count</th>\n",
       "      <th>distance_sum</th>\n",
       "      <th>duration_sum</th>\n",
       "    </tr>\n",
       "  </thead>\n",
       "  <tbody>\n",
       "    <tr>\n",
       "      <th>0</th>\n",
       "      <td>1</td>\n",
       "      <td>1</td>\n",
       "      <td>2</td>\n",
       "      <td>7027.511294</td>\n",
       "      <td>42.0</td>\n",
       "    </tr>\n",
       "    <tr>\n",
       "      <th>1</th>\n",
       "      <td>1</td>\n",
       "      <td>3</td>\n",
       "      <td>1</td>\n",
       "      <td>3061.777147</td>\n",
       "      <td>13.0</td>\n",
       "    </tr>\n",
       "    <tr>\n",
       "      <th>2</th>\n",
       "      <td>1</td>\n",
       "      <td>5</td>\n",
       "      <td>1</td>\n",
       "      <td>3914.646990</td>\n",
       "      <td>13.0</td>\n",
       "    </tr>\n",
       "    <tr>\n",
       "      <th>3</th>\n",
       "      <td>1</td>\n",
       "      <td>7</td>\n",
       "      <td>2</td>\n",
       "      <td>6478.080979</td>\n",
       "      <td>28.0</td>\n",
       "    </tr>\n",
       "    <tr>\n",
       "      <th>4</th>\n",
       "      <td>1</td>\n",
       "      <td>12</td>\n",
       "      <td>1</td>\n",
       "      <td>3577.151148</td>\n",
       "      <td>33.0</td>\n",
       "    </tr>\n",
       "    <tr>\n",
       "      <th>...</th>\n",
       "      <td>...</td>\n",
       "      <td>...</td>\n",
       "      <td>...</td>\n",
       "      <td>...</td>\n",
       "      <td>...</td>\n",
       "    </tr>\n",
       "    <tr>\n",
       "      <th>4528</th>\n",
       "      <td>12</td>\n",
       "      <td>688</td>\n",
       "      <td>1</td>\n",
       "      <td>4004.404223</td>\n",
       "      <td>24.0</td>\n",
       "    </tr>\n",
       "    <tr>\n",
       "      <th>4529</th>\n",
       "      <td>12</td>\n",
       "      <td>689</td>\n",
       "      <td>1</td>\n",
       "      <td>3387.343067</td>\n",
       "      <td>19.0</td>\n",
       "    </tr>\n",
       "    <tr>\n",
       "      <th>4530</th>\n",
       "      <td>12</td>\n",
       "      <td>692</td>\n",
       "      <td>1</td>\n",
       "      <td>2947.000211</td>\n",
       "      <td>15.0</td>\n",
       "    </tr>\n",
       "    <tr>\n",
       "      <th>4531</th>\n",
       "      <td>12</td>\n",
       "      <td>694</td>\n",
       "      <td>1</td>\n",
       "      <td>3591.099488</td>\n",
       "      <td>18.0</td>\n",
       "    </tr>\n",
       "    <tr>\n",
       "      <th>4532</th>\n",
       "      <td>12</td>\n",
       "      <td>699</td>\n",
       "      <td>1</td>\n",
       "      <td>3202.890770</td>\n",
       "      <td>26.0</td>\n",
       "    </tr>\n",
       "  </tbody>\n",
       "</table>\n",
       "<p>4533 rows × 5 columns</p>\n",
       "</div>"
      ],
      "text/plain": [
       "      month  user_id  rides_count  distance_sum  duration_sum\n",
       "0         1        1            2   7027.511294          42.0\n",
       "1         1        3            1   3061.777147          13.0\n",
       "2         1        5            1   3914.646990          13.0\n",
       "3         1        7            2   6478.080979          28.0\n",
       "4         1       12            1   3577.151148          33.0\n",
       "...     ...      ...          ...           ...           ...\n",
       "4528     12      688            1   4004.404223          24.0\n",
       "4529     12      689            1   3387.343067          19.0\n",
       "4530     12      692            1   2947.000211          15.0\n",
       "4531     12      694            1   3591.099488          18.0\n",
       "4532     12      699            1   3202.890770          26.0\n",
       "\n",
       "[4533 rows x 5 columns]"
      ]
     },
     "execution_count": 38,
     "metadata": {},
     "output_type": "execute_result"
    }
   ],
   "source": [
    "ultra_users['duration'] = np.ceil(ultra_users['duration'])\n",
    "\n",
    "ultra_users_month_rides = ultra_users.pivot_table(index=['month', 'user_id'], values=['distance', 'duration'], \\\n",
    "                                     aggfunc={'distance': ['count', 'sum'], 'duration' : 'sum'}).reset_index()\n",
    "\n",
    "columns = ['month', 'user_id', 'rides_count', 'distance_sum', 'duration_sum']\n",
    "ultra_users_month_rides.columns = columns\n",
    "ultra_users_month_rides"
   ]
  },
  {
   "cell_type": "markdown",
   "id": "6b7bf5b9",
   "metadata": {},
   "source": [
    "Рассчитаем стоимость поездок для пользователей пользуясь датафреймом `subscriptions`."
   ]
  },
  {
   "cell_type": "markdown",
   "id": "08a4a659",
   "metadata": {},
   "source": [
    "Напишем функцию, которая будет считать выручку."
   ]
  },
  {
   "cell_type": "code",
   "execution_count": 39,
   "id": "11997f83",
   "metadata": {},
   "outputs": [],
   "source": [
    "def revenue(data, subscription_type):\n",
    "    if subscription_type == 'free':\n",
    "        gain = subscriptions.loc[0, 'minute_price'] * data['duration_sum'] + \\\n",
    "        subscriptions.loc[0, 'start_ride_price'] * data['rides_count'] + \\\n",
    "        subscriptions.loc[0, 'subscription_fee']\n",
    "        return gain\n",
    "    gain = subscriptions.loc[1, 'minute_price'] * data['duration_sum'] + \\\n",
    "        subscriptions.loc[1, 'start_ride_price'] * data['rides_count'] + \\\n",
    "        subscriptions.loc[1, 'subscription_fee']\n",
    "    return gain"
   ]
  },
  {
   "cell_type": "markdown",
   "id": "407e7004",
   "metadata": {},
   "source": [
    "Посчитаем выручку от пользователей с подпиской и без."
   ]
  },
  {
   "cell_type": "code",
   "execution_count": 40,
   "id": "1f791cf5",
   "metadata": {},
   "outputs": [],
   "source": [
    "free_users_month_rides['revenue'] = free_users_month_rides.apply(lambda x: revenue(x, 'free'), axis=1)\n",
    "ultra_users_month_rides['revenue'] = ultra_users_month_rides.apply(lambda x: revenue(x, 'ultra'), axis=1)"
   ]
  },
  {
   "cell_type": "code",
   "execution_count": 41,
   "id": "80cebc01",
   "metadata": {
    "scrolled": true
   },
   "outputs": [
    {
     "data": {
      "text/html": [
       "<div>\n",
       "<style scoped>\n",
       "    .dataframe tbody tr th:only-of-type {\n",
       "        vertical-align: middle;\n",
       "    }\n",
       "\n",
       "    .dataframe tbody tr th {\n",
       "        vertical-align: top;\n",
       "    }\n",
       "\n",
       "    .dataframe thead th {\n",
       "        text-align: right;\n",
       "    }\n",
       "</style>\n",
       "<table border=\"1\" class=\"dataframe\">\n",
       "  <thead>\n",
       "    <tr style=\"text-align: right;\">\n",
       "      <th></th>\n",
       "      <th>month</th>\n",
       "      <th>user_id</th>\n",
       "      <th>rides_count</th>\n",
       "      <th>distance_sum</th>\n",
       "      <th>duration_sum</th>\n",
       "      <th>revenue</th>\n",
       "    </tr>\n",
       "  </thead>\n",
       "  <tbody>\n",
       "    <tr>\n",
       "      <th>0</th>\n",
       "      <td>1</td>\n",
       "      <td>700</td>\n",
       "      <td>1</td>\n",
       "      <td>2515.690719</td>\n",
       "      <td>15.0</td>\n",
       "      <td>170.0</td>\n",
       "    </tr>\n",
       "    <tr>\n",
       "      <th>1</th>\n",
       "      <td>1</td>\n",
       "      <td>701</td>\n",
       "      <td>1</td>\n",
       "      <td>2676.472894</td>\n",
       "      <td>18.0</td>\n",
       "      <td>194.0</td>\n",
       "    </tr>\n",
       "    <tr>\n",
       "      <th>2</th>\n",
       "      <td>1</td>\n",
       "      <td>702</td>\n",
       "      <td>1</td>\n",
       "      <td>903.861985</td>\n",
       "      <td>16.0</td>\n",
       "      <td>178.0</td>\n",
       "    </tr>\n",
       "    <tr>\n",
       "      <th>3</th>\n",
       "      <td>1</td>\n",
       "      <td>703</td>\n",
       "      <td>1</td>\n",
       "      <td>3406.580225</td>\n",
       "      <td>24.0</td>\n",
       "      <td>242.0</td>\n",
       "    </tr>\n",
       "    <tr>\n",
       "      <th>4</th>\n",
       "      <td>1</td>\n",
       "      <td>704</td>\n",
       "      <td>1</td>\n",
       "      <td>3197.139639</td>\n",
       "      <td>18.0</td>\n",
       "      <td>194.0</td>\n",
       "    </tr>\n",
       "    <tr>\n",
       "      <th>...</th>\n",
       "      <td>...</td>\n",
       "      <td>...</td>\n",
       "      <td>...</td>\n",
       "      <td>...</td>\n",
       "      <td>...</td>\n",
       "      <td>...</td>\n",
       "    </tr>\n",
       "    <tr>\n",
       "      <th>6793</th>\n",
       "      <td>12</td>\n",
       "      <td>1525</td>\n",
       "      <td>1</td>\n",
       "      <td>4597.854350</td>\n",
       "      <td>34.0</td>\n",
       "      <td>322.0</td>\n",
       "    </tr>\n",
       "    <tr>\n",
       "      <th>6794</th>\n",
       "      <td>12</td>\n",
       "      <td>1526</td>\n",
       "      <td>1</td>\n",
       "      <td>3644.121544</td>\n",
       "      <td>23.0</td>\n",
       "      <td>234.0</td>\n",
       "    </tr>\n",
       "    <tr>\n",
       "      <th>6795</th>\n",
       "      <td>12</td>\n",
       "      <td>1528</td>\n",
       "      <td>1</td>\n",
       "      <td>3998.569324</td>\n",
       "      <td>11.0</td>\n",
       "      <td>138.0</td>\n",
       "    </tr>\n",
       "    <tr>\n",
       "      <th>6796</th>\n",
       "      <td>12</td>\n",
       "      <td>1532</td>\n",
       "      <td>2</td>\n",
       "      <td>6111.889853</td>\n",
       "      <td>42.0</td>\n",
       "      <td>436.0</td>\n",
       "    </tr>\n",
       "    <tr>\n",
       "      <th>6797</th>\n",
       "      <td>12</td>\n",
       "      <td>1534</td>\n",
       "      <td>1</td>\n",
       "      <td>2371.711192</td>\n",
       "      <td>16.0</td>\n",
       "      <td>178.0</td>\n",
       "    </tr>\n",
       "  </tbody>\n",
       "</table>\n",
       "<p>6798 rows × 6 columns</p>\n",
       "</div>"
      ],
      "text/plain": [
       "      month  user_id  rides_count  distance_sum  duration_sum  revenue\n",
       "0         1      700            1   2515.690719          15.0    170.0\n",
       "1         1      701            1   2676.472894          18.0    194.0\n",
       "2         1      702            1    903.861985          16.0    178.0\n",
       "3         1      703            1   3406.580225          24.0    242.0\n",
       "4         1      704            1   3197.139639          18.0    194.0\n",
       "...     ...      ...          ...           ...           ...      ...\n",
       "6793     12     1525            1   4597.854350          34.0    322.0\n",
       "6794     12     1526            1   3644.121544          23.0    234.0\n",
       "6795     12     1528            1   3998.569324          11.0    138.0\n",
       "6796     12     1532            2   6111.889853          42.0    436.0\n",
       "6797     12     1534            1   2371.711192          16.0    178.0\n",
       "\n",
       "[6798 rows x 6 columns]"
      ]
     },
     "metadata": {},
     "output_type": "display_data"
    },
    {
     "data": {
      "text/html": [
       "<div>\n",
       "<style scoped>\n",
       "    .dataframe tbody tr th:only-of-type {\n",
       "        vertical-align: middle;\n",
       "    }\n",
       "\n",
       "    .dataframe tbody tr th {\n",
       "        vertical-align: top;\n",
       "    }\n",
       "\n",
       "    .dataframe thead th {\n",
       "        text-align: right;\n",
       "    }\n",
       "</style>\n",
       "<table border=\"1\" class=\"dataframe\">\n",
       "  <thead>\n",
       "    <tr style=\"text-align: right;\">\n",
       "      <th></th>\n",
       "      <th>month</th>\n",
       "      <th>user_id</th>\n",
       "      <th>rides_count</th>\n",
       "      <th>distance_sum</th>\n",
       "      <th>duration_sum</th>\n",
       "      <th>revenue</th>\n",
       "    </tr>\n",
       "  </thead>\n",
       "  <tbody>\n",
       "    <tr>\n",
       "      <th>0</th>\n",
       "      <td>1</td>\n",
       "      <td>1</td>\n",
       "      <td>2</td>\n",
       "      <td>7027.511294</td>\n",
       "      <td>42.0</td>\n",
       "      <td>451.0</td>\n",
       "    </tr>\n",
       "    <tr>\n",
       "      <th>1</th>\n",
       "      <td>1</td>\n",
       "      <td>3</td>\n",
       "      <td>1</td>\n",
       "      <td>3061.777147</td>\n",
       "      <td>13.0</td>\n",
       "      <td>277.0</td>\n",
       "    </tr>\n",
       "    <tr>\n",
       "      <th>2</th>\n",
       "      <td>1</td>\n",
       "      <td>5</td>\n",
       "      <td>1</td>\n",
       "      <td>3914.646990</td>\n",
       "      <td>13.0</td>\n",
       "      <td>277.0</td>\n",
       "    </tr>\n",
       "    <tr>\n",
       "      <th>3</th>\n",
       "      <td>1</td>\n",
       "      <td>7</td>\n",
       "      <td>2</td>\n",
       "      <td>6478.080979</td>\n",
       "      <td>28.0</td>\n",
       "      <td>367.0</td>\n",
       "    </tr>\n",
       "    <tr>\n",
       "      <th>4</th>\n",
       "      <td>1</td>\n",
       "      <td>12</td>\n",
       "      <td>1</td>\n",
       "      <td>3577.151148</td>\n",
       "      <td>33.0</td>\n",
       "      <td>397.0</td>\n",
       "    </tr>\n",
       "    <tr>\n",
       "      <th>...</th>\n",
       "      <td>...</td>\n",
       "      <td>...</td>\n",
       "      <td>...</td>\n",
       "      <td>...</td>\n",
       "      <td>...</td>\n",
       "      <td>...</td>\n",
       "    </tr>\n",
       "    <tr>\n",
       "      <th>4528</th>\n",
       "      <td>12</td>\n",
       "      <td>688</td>\n",
       "      <td>1</td>\n",
       "      <td>4004.404223</td>\n",
       "      <td>24.0</td>\n",
       "      <td>343.0</td>\n",
       "    </tr>\n",
       "    <tr>\n",
       "      <th>4529</th>\n",
       "      <td>12</td>\n",
       "      <td>689</td>\n",
       "      <td>1</td>\n",
       "      <td>3387.343067</td>\n",
       "      <td>19.0</td>\n",
       "      <td>313.0</td>\n",
       "    </tr>\n",
       "    <tr>\n",
       "      <th>4530</th>\n",
       "      <td>12</td>\n",
       "      <td>692</td>\n",
       "      <td>1</td>\n",
       "      <td>2947.000211</td>\n",
       "      <td>15.0</td>\n",
       "      <td>289.0</td>\n",
       "    </tr>\n",
       "    <tr>\n",
       "      <th>4531</th>\n",
       "      <td>12</td>\n",
       "      <td>694</td>\n",
       "      <td>1</td>\n",
       "      <td>3591.099488</td>\n",
       "      <td>18.0</td>\n",
       "      <td>307.0</td>\n",
       "    </tr>\n",
       "    <tr>\n",
       "      <th>4532</th>\n",
       "      <td>12</td>\n",
       "      <td>699</td>\n",
       "      <td>1</td>\n",
       "      <td>3202.890770</td>\n",
       "      <td>26.0</td>\n",
       "      <td>355.0</td>\n",
       "    </tr>\n",
       "  </tbody>\n",
       "</table>\n",
       "<p>4533 rows × 6 columns</p>\n",
       "</div>"
      ],
      "text/plain": [
       "      month  user_id  rides_count  distance_sum  duration_sum  revenue\n",
       "0         1        1            2   7027.511294          42.0    451.0\n",
       "1         1        3            1   3061.777147          13.0    277.0\n",
       "2         1        5            1   3914.646990          13.0    277.0\n",
       "3         1        7            2   6478.080979          28.0    367.0\n",
       "4         1       12            1   3577.151148          33.0    397.0\n",
       "...     ...      ...          ...           ...           ...      ...\n",
       "4528     12      688            1   4004.404223          24.0    343.0\n",
       "4529     12      689            1   3387.343067          19.0    313.0\n",
       "4530     12      692            1   2947.000211          15.0    289.0\n",
       "4531     12      694            1   3591.099488          18.0    307.0\n",
       "4532     12      699            1   3202.890770          26.0    355.0\n",
       "\n",
       "[4533 rows x 6 columns]"
      ]
     },
     "metadata": {},
     "output_type": "display_data"
    }
   ],
   "source": [
    "display(free_users_month_rides, ultra_users_month_rides)"
   ]
  },
  {
   "cell_type": "markdown",
   "id": "7f95e245",
   "metadata": {},
   "source": [
    "Таким образом мы расчитали выручку с каждого пользователя по месяцам."
   ]
  },
  {
   "cell_type": "markdown",
   "id": "41545ac0",
   "metadata": {},
   "source": [
    "### Проверка гипотез"
   ]
  },
  {
   "cell_type": "markdown",
   "id": "9f70221e",
   "metadata": {},
   "source": [
    "#### \"Тратят ли пользователи с подпиской больше времени на поездки?\""
   ]
  },
  {
   "cell_type": "markdown",
   "id": "96d588f8",
   "metadata": {},
   "source": [
    "Приведены два датасета с пользователями: пользователи с подпиской и без подписки. Будем расчитывать статистическое среднее исходя из этих двух выборок и сравнивать их между собой."
   ]
  },
  {
   "cell_type": "markdown",
   "id": "025754d7",
   "metadata": {},
   "source": [
    "- Нулевая гипотеза H0: пользователи из разных категорий тратят в среднем одинаковое количество времени на поездки.\n",
    "- Альтернативная гипотеза H1: пользователи с подпиской тратят больше времени на поездки."
   ]
  },
  {
   "cell_type": "code",
   "execution_count": 43,
   "id": "adc8c0ce",
   "metadata": {},
   "outputs": [
    {
     "name": "stdout",
     "output_type": "stream",
     "text": [
      "p-значение: 2.4959453720736625e-34\n",
      "Отвергаем нулевую гипотезу\n"
     ]
    }
   ],
   "source": [
    "from scipy import stats as st # импортируем библиотеку stats\n",
    "alpha = 0.05 # устанавливаем уровень статистической значимости\n",
    "results = st.ttest_ind(\n",
    "    ultra_users['duration'], \n",
    "    free_users['duration'], \n",
    "    alternative='greater')\n",
    "\n",
    "print('p-значение:', results.pvalue)\n",
    "\n",
    "if results.pvalue < alpha:\n",
    "    print('Отвергаем нулевую гипотезу')\n",
    "else:\n",
    "    print('Не получилось отвергнуть нулевую гипотезу') "
   ]
  },
  {
   "cell_type": "markdown",
   "id": "48dcb647",
   "metadata": {},
   "source": [
    "**`Нулевая гипотеза отвергнута, скорее всего пользователи с подпиской тратят больше времени на поездки.`**"
   ]
  },
  {
   "cell_type": "markdown",
   "id": "2a861cad",
   "metadata": {},
   "source": [
    "#### \"Можно ли сказать, что расстояние, которое проезжают пользователи с подпиской за одну поездку, не превышает 3130 метров?\""
   ]
  },
  {
   "cell_type": "markdown",
   "id": "632a778b",
   "metadata": {},
   "source": [
    "- Нулевая гипотеза H0: пользователи с подпиской проезжают в среднем 3130 метров за одну поездку.\n",
    "- Альтернативная гипотеза H1: пользователи с подпиской проезжают в среднем меньше 3130 метров."
   ]
  },
  {
   "cell_type": "code",
   "execution_count": 44,
   "id": "fd3dbca0",
   "metadata": {},
   "outputs": [
    {
     "name": "stdout",
     "output_type": "stream",
     "text": [
      "p-значение: 0.08046311521502146\n",
      "Не отвергаем нулевую гипотезу\n"
     ]
    }
   ],
   "source": [
    "mean_distance = 3130\n",
    "\n",
    "alpha = 0.05 # уровень статистической значимости\n",
    "\n",
    "results = st.ttest_1samp(\n",
    "    ultra_users['distance'], \n",
    "    mean_distance,\n",
    "    alternative='less')\n",
    "\n",
    "print('p-значение:', results.pvalue)\n",
    "\n",
    "if (results.pvalue < alpha):\n",
    "    print('Отвергаем нулевую гипотезу')\n",
    "else:\n",
    "    print('Не отвергаем нулевую гипотезу') "
   ]
  },
  {
   "cell_type": "markdown",
   "id": "ab36857c",
   "metadata": {},
   "source": [
    "**`Нулевая гипотеза не отвергнута, возможно, пользователи с подпиской проезжают в среднем 3130 метров. Попробуем проверить гипотезу в другую сторону:`**\n",
    "- пользователи с подпиской проезжают в среднем больше 3130 метров."
   ]
  },
  {
   "cell_type": "code",
   "execution_count": 45,
   "id": "be99f654",
   "metadata": {},
   "outputs": [
    {
     "name": "stdout",
     "output_type": "stream",
     "text": [
      "p-значение: 0.9195368847849785\n",
      "Не отвергаем нулевую гипотезу\n"
     ]
    }
   ],
   "source": [
    "results = st.ttest_1samp(\n",
    "    ultra_users['distance'], \n",
    "    mean_distance,\n",
    "    alternative='greater')\n",
    "\n",
    "print('p-значение:', results.pvalue)\n",
    "\n",
    "if (results.pvalue < alpha):\n",
    "    print('Отвергаем нулевую гипотезу')\n",
    "else:\n",
    "    print('Не отвергаем нулевую гипотезу') "
   ]
  },
  {
   "cell_type": "markdown",
   "id": "bede16ab",
   "metadata": {},
   "source": [
    "**`Нулевая гипотеза так и не была отвергнута, значит в среднем пользователи с подпиской проезжают 3130 метров.`**"
   ]
  },
  {
   "cell_type": "markdown",
   "id": "6cb4f209",
   "metadata": {},
   "source": [
    "#### \"Будет ли помесячная выручка от пользователей с подпиской по месяцам выше, чем выручка от пользователей без подписки?\""
   ]
  },
  {
   "cell_type": "markdown",
   "id": "b31a5b80",
   "metadata": {},
   "source": [
    "Проверяем гипотезы:\n",
    "- Нулевая гипотеза H0: выручка от пользователей с подпиской равна выручке от пользователей без подписки.\n",
    "- Альтернативная гипотеза H1: выручка от пользователей с подпиской больше выручки от пользователей без подписки."
   ]
  },
  {
   "cell_type": "code",
   "execution_count": 46,
   "id": "219522a7",
   "metadata": {
    "scrolled": true
   },
   "outputs": [
    {
     "name": "stdout",
     "output_type": "stream",
     "text": [
      "p-значение: 1.8850394384715216e-31\n",
      "Отвергаем нулевую гипотезу\n"
     ]
    }
   ],
   "source": [
    "alpha = 0.05 # устанавливаем уровень статистической значимости\n",
    "results = st.ttest_ind(\n",
    "    ultra_users_month_rides['revenue'], \n",
    "    free_users_month_rides['revenue'], \n",
    "    alternative='greater')\n",
    "\n",
    "print('p-значение:', results.pvalue)\n",
    "\n",
    "if results.pvalue < alpha:\n",
    "    print('Отвергаем нулевую гипотезу')\n",
    "else:\n",
    "    print('Не получилось отвергнуть нулевую гипотезу') "
   ]
  },
  {
   "cell_type": "markdown",
   "id": "7793d85f",
   "metadata": {},
   "source": [
    "**`Нулевая гипотеза отвергнута, пользователи с подпиской приносят в среднем больше выручки, чем пользователи без подписки`**"
   ]
  },
  {
   "cell_type": "markdown",
   "id": "8a203770",
   "metadata": {},
   "source": [
    "#### \"Представьте такую ситуацию: техническая команда сервиса обновила сервера, с которыми взаимодействует мобильное приложение. Она надеется, что из-за этого количество обращений в техподдержку значимо снизилось. Некоторый файл содержит для каждого пользователя данные о количестве обращений до обновления и после него. Какой тест вам понадобился бы для проверки этой гипотезы?\""
   ]
  },
  {
   "cell_type": "markdown",
   "id": "4afc3fa8",
   "metadata": {},
   "source": [
    "В данном случае, лучше всего бы подошла проверка гипотезы о равнестве средних для зависимых выборок. Чтобы проверить такую гипотезу можно применить метод `scipy.stats.ttest_rel()`.\n",
    "Ему достаточно передать два параметра: наборы данных до и после. Оба набора должны быть одинаковыми по размеру: каждое измерение должно быть проведено до и после изменения."
   ]
  },
  {
   "cell_type": "markdown",
   "id": "dcc8a2f0",
   "metadata": {},
   "source": [
    "Краткий ответ: понадобился бы односторонний t-тест."
   ]
  },
  {
   "cell_type": "markdown",
   "id": "61213c5e",
   "metadata": {},
   "source": [
    "### Распределения"
   ]
  },
  {
   "cell_type": "markdown",
   "id": "cdabacd7",
   "metadata": {},
   "source": [
    "#### Задача 1"
   ]
  },
  {
   "cell_type": "markdown",
   "id": "cf249dd7",
   "metadata": {},
   "source": [
    "Отделу маркетинга GoFast поставили задачу: нужно провести акцию с раздачей промокодов на один бесплатный месяц подписки, в рамках которой как минимум 100 существующих клиентов должны продлить эту подписку. То есть по завершении периода действия подписки пользователь может либо отказаться от неё, либо продлить, совершив соотвествующий платёж. \n",
    "Эта акция уже проводилась ранее и по итогу выяснилось, что после бесплатного пробного периода подписку продлевают 10% пользователей. Выясните, какое минимальное количество промокодов нужно разослать, чтобы вероятность не выполнить план была примерно 5%. Подберите параметры распределения, описывающего эту ситуацию, постройте график распределения и сформулируйте ответ на вопрос о количестве промокодов."
   ]
  },
  {
   "cell_type": "markdown",
   "id": "7cd60cda",
   "metadata": {},
   "source": [
    "Задача носит характер биномиального распределения. Для решения необходимо задать его параметры: количество испытаний, вероятность успеха. Мы создадим цикл, в котором будем увеличивать количество испытаний, пока не достигнем необходимой вероятности не выполнить план."
   ]
  },
  {
   "cell_type": "code",
   "execution_count": 52,
   "id": "95cd1d51",
   "metadata": {},
   "outputs": [
    {
     "data": {
      "image/png": "[encoded data removed]",
      "text/plain": [
       "<Figure size 432x288 with 1 Axes>"
      ]
     },
     "metadata": {
      "needs_background": "light"
     },
     "output_type": "display_data"
    },
    {
     "name": "stdout",
     "output_type": "stream",
     "text": [
      "1172\n"
     ]
    }
   ],
   "source": [
    "from scipy.stats import binom # импортируем библиотеку для нормального распределения\n",
    "from math import sqrt # импортируем функцию квадратного корня\n",
    "\n",
    "n = 100 # количество испытаний\n",
    "p = 0.10 # вероятность успешного исхода\n",
    "k = 100 # необходимое количество успехов\n",
    "success = 0.05 # необходимая вероятность не выполнить план\n",
    "while binom.cdf(k, n, p) > success:\n",
    "    n += 1\n",
    "\n",
    "# границы промежутка, в котором будем строить аппроксимацию -\n",
    "# от n*p минус 4 ст.отклонения бином.распределения\n",
    "# до n*p плюс 4 ст.отклонения бином.распределения\n",
    "# (там, где вероятности значений почти не равны нулю)\n",
    "mu = n * p\n",
    "sigma = n * p * (1 - p)\n",
    "left = int(mu - 4 * sqrt(sigma))\n",
    "right = int(mu + 4 * sqrt(sigma))\n",
    " \n",
    "# зададим набор значений биномиальной величины на выбранном промежутке:\n",
    "# все неотрицательные целые числа от left до right\n",
    "x = list(range(max(0, left), right))\n",
    "# рисуем график биномиального распределения\n",
    "ax = plt.subplot()\n",
    "# используем синие о-образные маркеры и размер маркера 1\n",
    "binom = st.binom.pmf(x, n, p)\n",
    "ax.plot(x, binom, ms=1)\n",
    "plt.show()\n",
    "print(n)"
   ]
  },
  {
   "cell_type": "markdown",
   "id": "8b88060c",
   "metadata": {},
   "source": [
    "**`Увеличивая количество испытаний было выявлено, что при вероятности успеха 10%, для достижения 100 успехов с вероятностью не получить их 5%, необходимо 1172 испытаний. То есть, чтобы 100 пользователей продлили подписку по промокоду с вероятностью 95%, необходимо разослать промокод 1172 клиентам.`**"
   ]
  },
  {
   "cell_type": "markdown",
   "id": "d320e5b5",
   "metadata": {},
   "source": [
    "#### Задача 2"
   ]
  },
  {
   "cell_type": "markdown",
   "id": "74fd3ab9",
   "metadata": {},
   "source": [
    "Отдел маркетинга рассылает клиентам push-уведомления в мобильном приложении. Клиенты могут открыть его или не открывать. Известно, что уведомления открывают около 40 % получивших клиентов. Отдел планирует разослать 1 млн уведомлений. С помощью аппроксимации постройте примерный график распределения и оцените вероятность того, что уведомление откроют не более 399,5 тыс. пользователей."
   ]
  },
  {
   "cell_type": "code",
   "execution_count": null,
   "id": "8021c576",
   "metadata": {
    "scrolled": true
   },
   "outputs": [],
   "source": [
    "# задаём параметры биномиального распределения\n",
    "n = 1_000_000\n",
    "p = 0.4\n",
    "\n",
    "# границы промежутка, в котором будем строить аппроксимацию -\n",
    "# от n*p минус 4 ст.отклонения бином.распределения\n",
    "# до n*p плюс 4 ст.отклонения бином.распределения\n",
    "# (там, где вероятности значений почти не равны нулю)\n",
    "mu = n * p\n",
    "sigma = n * p * (1 - p)\n",
    "left = int(mu - 4 * sqrt(sigma))\n",
    "right = int(mu + 4 * sqrt(sigma))\n",
    " \n",
    "# зададим набор значений биномиальной величины на выбранном промежутке:\n",
    "# все неотрицательные целые числа от left до right\n",
    "x = list(range(max(0, left), right))\n",
    "# рисуем график биномиального распределения\n",
    "ax = plt.subplot()\n",
    "# используем синие о-образные маркеры и размер маркера 1\n",
    "binom = st.binom.pmf(x, n, p)\n",
    "ax.plot(x, binom, ms=1)\n",
    "plt.show()\n",
    "distr = st.norm(mu, sqrt(sigma))\n",
    "result = distr.cdf(399_500)\n",
    "result"
   ]
  },
  {
   "cell_type": "markdown",
   "id": "67ccff45",
   "metadata": {},
   "source": [
    "**`Вероятность, что уведомление откроют не более 399,5 тыс. пользователей составляет 15%.`**"
   ]
  },
  {
   "cell_type": "markdown",
   "id": "5da2dc60",
   "metadata": {},
   "source": [
    "### Выводы"
   ]
  },
  {
   "cell_type": "markdown",
   "id": "514453d4",
   "metadata": {},
   "source": [
    "В данной работе был произведен анализ данных популярного сервиса по аренде самокатов GoFast."
   ]
  },
  {
   "cell_type": "markdown",
   "id": "b407c9c1",
   "metadata": {},
   "source": [
    "Датасеты были проверены на наличие пропусков, дубликатов, аномальных значений, были приведены некоторые типы данных."
   ]
  },
  {
   "cell_type": "markdown",
   "id": "4d8cc1c1",
   "metadata": {},
   "source": [
    "Большая часть данных имела нормальное распределение с выраженным средним значением. Выяснилось, что пользователи с подпиской в целом мало чем отличаются от пользователей без подписки в эксплуатации самокатов. Было выдвинуто и проверено несколько гипотез:\n",
    "- в среднем пользователи с подпиской арендуют самокаты на более длительное время;\n",
    "- в среднем пользователи с подпиской проезжают 3130 метров;\n",
    "- в среднем пользователи с подпиской приносят больше выручки сервису, чем пользователи без подписки.\n"
   ]
  },
  {
   "cell_type": "markdown",
   "id": "90e4a880",
   "metadata": {},
   "source": [
    "Были решены несколько маркетинговых задач, связанных с биномиальным распределением:\n",
    "- чтобы с вероятностью 95% сотня людей купила подписку, требуется разослать 1172 промокодов;\n",
    "- если разослать уведомление одному миллиону пользователей, то вероятность, что его откроют не более 399,5 тыс. пользователей составляет 15%."
   ]
  },
  {
   "cell_type": "markdown",
   "id": "b4897e07",
   "metadata": {},
   "source": [
    "Бизнес вывод: пользователи с подпиской являются более выгодными клиентами, т.к. приносят в среднем больше выручки."
   ]
  }
 ],
 "metadata": {
  "ExecuteTimeLog": [
   {
    "duration": 54,
    "start_time": "2023-05-07T15:42:24.548Z"
   },
   {
    "duration": 392,
    "start_time": "2023-05-07T15:42:27.074Z"
   },
   {
    "duration": 57,
    "start_time": "2023-05-07T15:42:28.482Z"
   },
   {
    "duration": 105,
    "start_time": "2023-05-07T15:42:51.290Z"
   },
   {
    "duration": 270,
    "start_time": "2023-05-07T15:44:08.984Z"
   },
   {
    "duration": 73,
    "start_time": "2023-05-07T15:44:23.834Z"
   },
   {
    "duration": 80,
    "start_time": "2023-05-07T15:44:45.267Z"
   },
   {
    "duration": 76,
    "start_time": "2023-05-07T15:45:32.106Z"
   },
   {
    "duration": 9,
    "start_time": "2023-05-07T15:52:10.654Z"
   },
   {
    "duration": 12,
    "start_time": "2023-05-07T15:52:21.266Z"
   },
   {
    "duration": 16,
    "start_time": "2023-05-07T15:52:35.954Z"
   },
   {
    "duration": 7,
    "start_time": "2023-05-07T15:55:04.970Z"
   },
   {
    "duration": 7,
    "start_time": "2023-05-07T15:55:51.794Z"
   },
   {
    "duration": 6,
    "start_time": "2023-05-07T15:55:55.159Z"
   },
   {
    "duration": 7,
    "start_time": "2023-05-07T15:56:29.386Z"
   },
   {
    "duration": 191,
    "start_time": "2023-05-07T15:57:07.730Z"
   },
   {
    "duration": 180,
    "start_time": "2023-05-07T15:57:10.209Z"
   },
   {
    "duration": 227,
    "start_time": "2023-05-07T15:57:25.513Z"
   },
   {
    "duration": 6,
    "start_time": "2023-05-07T15:57:32.129Z"
   },
   {
    "duration": 16,
    "start_time": "2023-05-07T15:57:41.737Z"
   },
   {
    "duration": 14,
    "start_time": "2023-05-07T15:57:57.542Z"
   },
   {
    "duration": 15,
    "start_time": "2023-05-07T15:58:04.289Z"
   },
   {
    "duration": 14,
    "start_time": "2023-05-07T15:58:19.633Z"
   },
   {
    "duration": 7,
    "start_time": "2023-05-07T15:58:41.425Z"
   },
   {
    "duration": 9,
    "start_time": "2023-05-07T15:59:12.273Z"
   },
   {
    "duration": 10,
    "start_time": "2023-05-07T15:59:25.873Z"
   },
   {
    "duration": 6,
    "start_time": "2023-05-07T16:00:18.057Z"
   },
   {
    "duration": 7,
    "start_time": "2023-05-07T16:00:24.152Z"
   },
   {
    "duration": 15,
    "start_time": "2023-05-07T16:00:28.200Z"
   },
   {
    "duration": 9,
    "start_time": "2023-05-07T16:01:11.165Z"
   },
   {
    "duration": 15,
    "start_time": "2023-05-07T16:01:15.624Z"
   },
   {
    "duration": 6,
    "start_time": "2023-05-07T16:01:40.362Z"
   },
   {
    "duration": 6,
    "start_time": "2023-05-07T16:01:53.041Z"
   },
   {
    "duration": 6,
    "start_time": "2023-05-07T16:01:56.217Z"
   },
   {
    "duration": 666,
    "start_time": "2023-05-07T16:03:17.289Z"
   },
   {
    "duration": 234,
    "start_time": "2023-05-07T16:03:19.649Z"
   },
   {
    "duration": 315,
    "start_time": "2023-05-07T16:03:34.265Z"
   },
   {
    "duration": 14,
    "start_time": "2023-05-07T16:15:41.952Z"
   },
   {
    "duration": 19,
    "start_time": "2023-05-07T16:28:47.496Z"
   },
   {
    "duration": 12,
    "start_time": "2023-05-07T16:29:29.520Z"
   },
   {
    "duration": 19,
    "start_time": "2023-05-07T16:29:44.072Z"
   },
   {
    "duration": 18,
    "start_time": "2023-05-07T16:29:49.184Z"
   },
   {
    "duration": 19,
    "start_time": "2023-05-07T16:29:53.160Z"
   },
   {
    "duration": 21,
    "start_time": "2023-05-07T16:29:55.191Z"
   },
   {
    "duration": 20,
    "start_time": "2023-05-07T16:29:59.288Z"
   },
   {
    "duration": 20,
    "start_time": "2023-05-07T16:30:03.048Z"
   },
   {
    "duration": 15,
    "start_time": "2023-05-07T16:30:23.808Z"
   },
   {
    "duration": 15,
    "start_time": "2023-05-07T16:30:26.706Z"
   },
   {
    "duration": 85,
    "start_time": "2023-05-07T16:30:30.961Z"
   },
   {
    "duration": 13,
    "start_time": "2023-05-07T16:30:39.824Z"
   },
   {
    "duration": 17,
    "start_time": "2023-05-07T16:30:50.344Z"
   },
   {
    "duration": 7,
    "start_time": "2023-05-07T16:31:49.736Z"
   },
   {
    "duration": 12,
    "start_time": "2023-05-07T16:31:55.335Z"
   },
   {
    "duration": 7,
    "start_time": "2023-05-07T16:32:03.173Z"
   },
   {
    "duration": 11,
    "start_time": "2023-05-07T16:33:06.233Z"
   },
   {
    "duration": 5,
    "start_time": "2023-05-07T16:33:18.112Z"
   },
   {
    "duration": 9,
    "start_time": "2023-05-07T16:33:30.472Z"
   },
   {
    "duration": 4,
    "start_time": "2023-05-07T16:33:43.248Z"
   },
   {
    "duration": 6,
    "start_time": "2023-05-07T16:33:49.895Z"
   },
   {
    "duration": 10,
    "start_time": "2023-05-07T16:33:53.663Z"
   },
   {
    "duration": 469,
    "start_time": "2023-05-07T16:34:32.000Z"
   },
   {
    "duration": 16,
    "start_time": "2023-05-07T16:41:37.408Z"
   },
   {
    "duration": 18,
    "start_time": "2023-05-07T16:41:56.672Z"
   },
   {
    "duration": 21,
    "start_time": "2023-05-07T16:42:29.996Z"
   },
   {
    "duration": 17,
    "start_time": "2023-05-07T16:43:06.424Z"
   },
   {
    "duration": 851,
    "start_time": "2023-05-07T16:43:14.768Z"
   },
   {
    "duration": 739,
    "start_time": "2023-05-07T16:43:27.824Z"
   },
   {
    "duration": 234,
    "start_time": "2023-05-07T16:44:02.672Z"
   },
   {
    "duration": 226,
    "start_time": "2023-05-07T16:44:06.800Z"
   },
   {
    "duration": 247,
    "start_time": "2023-05-07T16:44:35.175Z"
   },
   {
    "duration": 306,
    "start_time": "2023-05-07T16:44:45.208Z"
   },
   {
    "duration": 310,
    "start_time": "2023-05-07T16:45:18.897Z"
   },
   {
    "duration": 365,
    "start_time": "2023-05-07T16:47:29.392Z"
   },
   {
    "duration": 291,
    "start_time": "2023-05-07T16:47:34.775Z"
   },
   {
    "duration": 301,
    "start_time": "2023-05-07T16:48:15.346Z"
   },
   {
    "duration": 17,
    "start_time": "2023-05-07T16:48:44.391Z"
   },
   {
    "duration": 11,
    "start_time": "2023-05-07T16:49:40.999Z"
   },
   {
    "duration": 16,
    "start_time": "2023-05-07T16:49:44.223Z"
   },
   {
    "duration": 296,
    "start_time": "2023-05-07T16:49:46.556Z"
   },
   {
    "duration": 251,
    "start_time": "2023-05-07T16:49:48.904Z"
   },
   {
    "duration": 16,
    "start_time": "2023-05-07T16:51:20.576Z"
   },
   {
    "duration": 18,
    "start_time": "2023-05-07T16:51:25.216Z"
   },
   {
    "duration": 13,
    "start_time": "2023-05-07T16:51:45.168Z"
   },
   {
    "duration": 283,
    "start_time": "2023-05-07T16:51:48.016Z"
   },
   {
    "duration": 14,
    "start_time": "2023-05-07T16:51:52.272Z"
   },
   {
    "duration": 5,
    "start_time": "2023-05-07T16:51:55.315Z"
   },
   {
    "duration": 270,
    "start_time": "2023-05-07T16:51:58.407Z"
   },
   {
    "duration": 273,
    "start_time": "2023-05-07T16:52:02.023Z"
   },
   {
    "duration": 13,
    "start_time": "2023-05-07T16:52:23.743Z"
   },
   {
    "duration": 156,
    "start_time": "2023-05-07T16:52:35.528Z"
   },
   {
    "duration": 149,
    "start_time": "2023-05-07T16:54:19.871Z"
   },
   {
    "duration": 145,
    "start_time": "2023-05-07T16:54:22.136Z"
   },
   {
    "duration": 269,
    "start_time": "2023-05-07T16:54:52.524Z"
   },
   {
    "duration": 159,
    "start_time": "2023-05-07T16:54:59.255Z"
   },
   {
    "duration": 187,
    "start_time": "2023-05-07T16:55:09.959Z"
   },
   {
    "duration": 192,
    "start_time": "2023-05-07T16:55:17.023Z"
   },
   {
    "duration": 190,
    "start_time": "2023-05-07T16:55:20.831Z"
   },
   {
    "duration": 52,
    "start_time": "2023-05-07T16:55:34.599Z"
   },
   {
    "duration": 184,
    "start_time": "2023-05-07T16:55:37.816Z"
   },
   {
    "duration": 182,
    "start_time": "2023-05-07T16:55:43.607Z"
   },
   {
    "duration": 189,
    "start_time": "2023-05-07T16:56:42.904Z"
   },
   {
    "duration": 188,
    "start_time": "2023-05-07T16:56:50.456Z"
   },
   {
    "duration": 9,
    "start_time": "2023-05-07T16:58:48.594Z"
   },
   {
    "duration": 11,
    "start_time": "2023-05-07T16:59:01.535Z"
   },
   {
    "duration": 10,
    "start_time": "2023-05-07T16:59:28.487Z"
   },
   {
    "duration": 10,
    "start_time": "2023-05-07T17:00:06.729Z"
   },
   {
    "duration": 11,
    "start_time": "2023-05-07T17:00:15.704Z"
   },
   {
    "duration": 197,
    "start_time": "2023-05-07T17:00:19.152Z"
   },
   {
    "duration": 169,
    "start_time": "2023-05-07T17:01:19.720Z"
   },
   {
    "duration": 301,
    "start_time": "2023-05-07T17:01:29.320Z"
   },
   {
    "duration": 16,
    "start_time": "2023-05-07T17:02:23.023Z"
   },
   {
    "duration": 9,
    "start_time": "2023-05-07T17:08:21.119Z"
   },
   {
    "duration": 156,
    "start_time": "2023-05-07T17:10:21.600Z"
   },
   {
    "duration": 141,
    "start_time": "2023-05-07T17:10:33.798Z"
   },
   {
    "duration": 174,
    "start_time": "2023-05-07T17:10:58.680Z"
   },
   {
    "duration": 200,
    "start_time": "2023-05-07T17:11:48.464Z"
   },
   {
    "duration": 205,
    "start_time": "2023-05-07T17:11:51.928Z"
   },
   {
    "duration": 332,
    "start_time": "2023-05-07T17:11:56.839Z"
   },
   {
    "duration": 1536,
    "start_time": "2023-05-07T17:12:02.631Z"
   },
   {
    "duration": 921,
    "start_time": "2023-05-07T17:12:10.047Z"
   },
   {
    "duration": 273,
    "start_time": "2023-05-07T17:12:13.438Z"
   },
   {
    "duration": 422,
    "start_time": "2023-05-07T17:12:16.719Z"
   },
   {
    "duration": 272,
    "start_time": "2023-05-07T17:12:21.302Z"
   },
   {
    "duration": 10,
    "start_time": "2023-05-07T17:22:49.726Z"
   },
   {
    "duration": 343,
    "start_time": "2023-05-07T17:24:42.383Z"
   },
   {
    "duration": 136,
    "start_time": "2023-05-07T17:24:44.798Z"
   },
   {
    "duration": 168,
    "start_time": "2023-05-07T17:24:58.363Z"
   },
   {
    "duration": 338,
    "start_time": "2023-05-07T17:25:06.254Z"
   },
   {
    "duration": 507,
    "start_time": "2023-05-07T17:26:00.719Z"
   },
   {
    "duration": 299,
    "start_time": "2023-05-07T17:26:09.286Z"
   },
   {
    "duration": 13,
    "start_time": "2023-05-07T17:27:52.495Z"
   },
   {
    "duration": 11,
    "start_time": "2023-05-07T17:27:56.890Z"
   },
   {
    "duration": 13,
    "start_time": "2023-05-07T17:28:00.790Z"
   },
   {
    "duration": 11,
    "start_time": "2023-05-07T17:28:03.798Z"
   },
   {
    "duration": 10,
    "start_time": "2023-05-07T17:28:06.566Z"
   },
   {
    "duration": 18,
    "start_time": "2023-05-07T17:28:15.558Z"
   },
   {
    "duration": 24,
    "start_time": "2023-05-07T17:28:22.311Z"
   },
   {
    "duration": 15,
    "start_time": "2023-05-07T17:29:10.215Z"
   },
   {
    "duration": 9,
    "start_time": "2023-05-07T17:33:10.694Z"
   },
   {
    "duration": 18,
    "start_time": "2023-05-07T17:33:17.933Z"
   },
   {
    "duration": 16,
    "start_time": "2023-05-07T17:33:37.342Z"
   },
   {
    "duration": 122,
    "start_time": "2023-05-07T17:34:10.262Z"
   },
   {
    "duration": 265,
    "start_time": "2023-05-07T17:34:23.878Z"
   },
   {
    "duration": 30,
    "start_time": "2023-05-07T17:36:25.094Z"
   },
   {
    "duration": 12,
    "start_time": "2023-05-07T17:36:28.806Z"
   },
   {
    "duration": 9,
    "start_time": "2023-05-07T17:36:35.078Z"
   },
   {
    "duration": 7,
    "start_time": "2023-05-07T17:37:18.813Z"
   },
   {
    "duration": 174,
    "start_time": "2023-05-07T17:37:26.109Z"
   },
   {
    "duration": 15,
    "start_time": "2023-05-07T17:39:13.090Z"
   },
   {
    "duration": 313,
    "start_time": "2023-05-07T17:39:16.580Z"
   },
   {
    "duration": 296,
    "start_time": "2023-05-07T17:39:25.254Z"
   },
   {
    "duration": 11,
    "start_time": "2023-05-07T17:39:54.237Z"
   },
   {
    "duration": 318,
    "start_time": "2023-05-07T17:40:06.565Z"
   },
   {
    "duration": 7,
    "start_time": "2023-05-07T17:41:13.398Z"
   },
   {
    "duration": 11,
    "start_time": "2023-05-07T17:41:16.502Z"
   },
   {
    "duration": 28,
    "start_time": "2023-05-07T17:46:31.045Z"
   },
   {
    "duration": 16,
    "start_time": "2023-05-07T17:46:41.057Z"
   },
   {
    "duration": 26,
    "start_time": "2023-05-07T17:46:45.708Z"
   },
   {
    "duration": 27,
    "start_time": "2023-05-07T17:51:43.829Z"
   },
   {
    "duration": 11,
    "start_time": "2023-05-07T17:51:57.749Z"
   },
   {
    "duration": 10,
    "start_time": "2023-05-07T17:52:31.853Z"
   },
   {
    "duration": 23,
    "start_time": "2023-05-07T17:52:42.428Z"
   },
   {
    "duration": 177,
    "start_time": "2023-05-07T17:57:21.572Z"
   },
   {
    "duration": 180,
    "start_time": "2023-05-07T17:57:24.236Z"
   },
   {
    "duration": 169,
    "start_time": "2023-05-07T17:57:38.381Z"
   },
   {
    "duration": 175,
    "start_time": "2023-05-07T17:58:00.916Z"
   },
   {
    "duration": 265,
    "start_time": "2023-05-07T17:58:31.476Z"
   },
   {
    "duration": 206,
    "start_time": "2023-05-07T17:58:34.332Z"
   },
   {
    "duration": 190,
    "start_time": "2023-05-07T17:58:42.404Z"
   },
   {
    "duration": 348,
    "start_time": "2023-05-07T17:59:29.804Z"
   },
   {
    "duration": 495,
    "start_time": "2023-05-07T17:59:37.068Z"
   },
   {
    "duration": 455,
    "start_time": "2023-05-07T18:01:11.653Z"
   },
   {
    "duration": 268,
    "start_time": "2023-05-07T18:01:15.060Z"
   },
   {
    "duration": 305,
    "start_time": "2023-05-07T18:05:00.057Z"
   },
   {
    "duration": 620,
    "start_time": "2023-05-07T18:05:07.004Z"
   },
   {
    "duration": 544,
    "start_time": "2023-05-07T18:05:19.684Z"
   },
   {
    "duration": 736,
    "start_time": "2023-05-07T18:05:25.885Z"
   },
   {
    "duration": 653,
    "start_time": "2023-05-07T18:05:33.316Z"
   },
   {
    "duration": 956,
    "start_time": "2023-05-07T18:05:41.158Z"
   },
   {
    "duration": 697,
    "start_time": "2023-05-07T18:05:50.012Z"
   },
   {
    "duration": 598,
    "start_time": "2023-05-07T18:06:11.285Z"
   },
   {
    "duration": 784,
    "start_time": "2023-05-07T18:06:17.469Z"
   },
   {
    "duration": 9,
    "start_time": "2023-05-07T18:10:24.332Z"
   },
   {
    "duration": 11,
    "start_time": "2023-05-07T18:10:42.158Z"
   },
   {
    "duration": 541,
    "start_time": "2023-05-07T18:15:47.388Z"
   },
   {
    "duration": 10,
    "start_time": "2023-05-07T18:17:09.307Z"
   },
   {
    "duration": 12,
    "start_time": "2023-05-07T18:17:18.732Z"
   },
   {
    "duration": 23,
    "start_time": "2023-05-07T18:20:34.332Z"
   },
   {
    "duration": 27,
    "start_time": "2023-05-07T18:23:18.657Z"
   },
   {
    "duration": 38,
    "start_time": "2023-05-07T18:23:31.987Z"
   },
   {
    "duration": 73,
    "start_time": "2023-05-07T18:24:07.100Z"
   },
   {
    "duration": 50,
    "start_time": "2023-05-07T18:24:46.005Z"
   },
   {
    "duration": 39,
    "start_time": "2023-05-07T18:25:05.755Z"
   },
   {
    "duration": 38,
    "start_time": "2023-05-07T18:25:14.747Z"
   },
   {
    "duration": 771,
    "start_time": "2023-05-07T18:25:49.628Z"
   },
   {
    "duration": 40,
    "start_time": "2023-05-07T18:26:01.044Z"
   },
   {
    "duration": 38,
    "start_time": "2023-05-07T18:26:08.508Z"
   },
   {
    "duration": 38,
    "start_time": "2023-05-07T18:26:56.484Z"
   },
   {
    "duration": 35,
    "start_time": "2023-05-07T18:27:02.492Z"
   },
   {
    "duration": 28,
    "start_time": "2023-05-07T18:27:53.405Z"
   },
   {
    "duration": 33,
    "start_time": "2023-05-07T18:27:57.084Z"
   },
   {
    "duration": 44,
    "start_time": "2023-05-07T18:28:27.684Z"
   },
   {
    "duration": 33,
    "start_time": "2023-05-07T18:29:44.347Z"
   },
   {
    "duration": 35,
    "start_time": "2023-05-07T18:30:02.579Z"
   },
   {
    "duration": 37,
    "start_time": "2023-05-07T18:30:11.043Z"
   },
   {
    "duration": 10,
    "start_time": "2023-05-07T18:36:05.587Z"
   },
   {
    "duration": 10,
    "start_time": "2023-05-07T18:36:18.219Z"
   },
   {
    "duration": 4,
    "start_time": "2023-05-07T18:36:28.595Z"
   },
   {
    "duration": 15,
    "start_time": "2023-05-07T18:36:33.562Z"
   },
   {
    "duration": 5,
    "start_time": "2023-05-07T18:36:52.932Z"
   },
   {
    "duration": 10,
    "start_time": "2023-05-07T18:37:07.442Z"
   },
   {
    "duration": 32,
    "start_time": "2023-05-07T18:40:32.873Z"
   },
   {
    "duration": 33,
    "start_time": "2023-05-07T18:42:45.747Z"
   },
   {
    "duration": 6,
    "start_time": "2023-05-07T18:43:22.595Z"
   },
   {
    "duration": 8,
    "start_time": "2023-05-07T18:43:24.562Z"
   },
   {
    "duration": 7,
    "start_time": "2023-05-07T18:53:43.610Z"
   },
   {
    "duration": 4,
    "start_time": "2023-05-07T18:53:45.153Z"
   },
   {
    "duration": 12,
    "start_time": "2023-05-07T18:53:47.473Z"
   },
   {
    "duration": 353,
    "start_time": "2023-05-07T18:56:33.914Z"
   },
   {
    "duration": 15,
    "start_time": "2023-05-07T18:56:53.817Z"
   },
   {
    "duration": 363,
    "start_time": "2023-05-07T18:56:56.457Z"
   },
   {
    "duration": 374,
    "start_time": "2023-05-07T18:57:00.609Z"
   },
   {
    "duration": 3,
    "start_time": "2023-05-07T18:58:15.199Z"
   },
   {
    "duration": 91,
    "start_time": "2023-05-07T18:58:15.204Z"
   },
   {
    "duration": 11,
    "start_time": "2023-05-07T18:58:15.297Z"
   },
   {
    "duration": 32,
    "start_time": "2023-05-07T18:58:15.310Z"
   },
   {
    "duration": 16,
    "start_time": "2023-05-07T18:58:15.344Z"
   },
   {
    "duration": 20,
    "start_time": "2023-05-07T18:58:15.362Z"
   },
   {
    "duration": 5,
    "start_time": "2023-05-07T18:58:15.385Z"
   },
   {
    "duration": 263,
    "start_time": "2023-05-07T18:58:15.392Z"
   },
   {
    "duration": 12,
    "start_time": "2023-05-07T18:58:15.657Z"
   },
   {
    "duration": 12,
    "start_time": "2023-05-07T18:58:15.672Z"
   },
   {
    "duration": 16,
    "start_time": "2023-05-07T18:58:15.687Z"
   },
   {
    "duration": 23,
    "start_time": "2023-05-07T18:58:15.705Z"
   },
   {
    "duration": 438,
    "start_time": "2023-05-07T18:58:15.729Z"
   },
   {
    "duration": 159,
    "start_time": "2023-05-07T18:58:16.169Z"
   },
   {
    "duration": 16,
    "start_time": "2023-05-07T18:58:16.330Z"
   },
   {
    "duration": 11,
    "start_time": "2023-05-07T18:58:16.348Z"
   },
   {
    "duration": 32,
    "start_time": "2023-05-07T18:58:16.361Z"
   },
   {
    "duration": 405,
    "start_time": "2023-05-07T18:58:16.396Z"
   },
   {
    "duration": 14,
    "start_time": "2023-05-07T18:58:16.803Z"
   },
   {
    "duration": 169,
    "start_time": "2023-05-07T18:58:16.819Z"
   },
   {
    "duration": 366,
    "start_time": "2023-05-07T18:58:16.990Z"
   },
   {
    "duration": 10,
    "start_time": "2023-05-07T18:58:17.358Z"
   },
   {
    "duration": 306,
    "start_time": "2023-05-07T18:58:17.369Z"
   },
   {
    "duration": 9,
    "start_time": "2023-05-07T18:58:17.678Z"
   },
   {
    "duration": 292,
    "start_time": "2023-05-07T18:58:17.688Z"
   },
   {
    "duration": 10,
    "start_time": "2023-05-07T18:58:17.982Z"
   },
   {
    "duration": 46,
    "start_time": "2023-05-07T18:58:17.994Z"
   },
   {
    "duration": 12,
    "start_time": "2023-05-07T18:58:18.042Z"
   },
   {
    "duration": 544,
    "start_time": "2023-05-07T18:58:18.058Z"
   },
   {
    "duration": 9,
    "start_time": "2023-05-07T18:58:18.604Z"
   },
   {
    "duration": 9,
    "start_time": "2023-05-07T18:58:18.615Z"
   },
   {
    "duration": 554,
    "start_time": "2023-05-07T18:58:18.626Z"
   },
   {
    "duration": 22,
    "start_time": "2023-05-07T18:58:19.182Z"
   },
   {
    "duration": 17,
    "start_time": "2023-05-07T18:58:19.206Z"
   },
   {
    "duration": 45,
    "start_time": "2023-05-07T18:58:19.225Z"
   },
   {
    "duration": 180,
    "start_time": "2023-05-07T18:58:19.273Z"
   },
   {
    "duration": 5,
    "start_time": "2023-05-07T18:58:19.455Z"
   },
   {
    "duration": 7,
    "start_time": "2023-05-07T18:58:19.462Z"
   },
   {
    "duration": 351,
    "start_time": "2023-05-07T18:58:19.471Z"
   },
   {
    "duration": 22,
    "start_time": "2023-05-07T18:58:19.823Z"
   },
   {
    "duration": 6,
    "start_time": "2023-05-07T19:00:20.138Z"
   },
   {
    "duration": 421,
    "start_time": "2023-05-07T19:00:21.962Z"
   },
   {
    "duration": 14,
    "start_time": "2023-05-07T19:00:45.136Z"
   },
   {
    "duration": 8,
    "start_time": "2023-05-07T19:14:32.129Z"
   },
   {
    "duration": 9,
    "start_time": "2023-05-07T19:17:34.647Z"
   },
   {
    "duration": 5,
    "start_time": "2023-05-07T19:17:38.674Z"
   },
   {
    "duration": 147,
    "start_time": "2023-05-07T19:20:33.283Z"
   },
   {
    "duration": 144,
    "start_time": "2023-05-07T19:20:42.186Z"
   },
   {
    "duration": 147,
    "start_time": "2023-05-07T19:20:57.315Z"
   },
   {
    "duration": 451,
    "start_time": "2023-05-08T13:13:38.389Z"
   },
   {
    "duration": 205,
    "start_time": "2023-05-08T13:13:38.842Z"
   },
   {
    "duration": 17,
    "start_time": "2023-05-08T13:13:39.050Z"
   },
   {
    "duration": 18,
    "start_time": "2023-05-08T13:13:39.069Z"
   },
   {
    "duration": 17,
    "start_time": "2023-05-08T13:13:39.090Z"
   },
   {
    "duration": 11,
    "start_time": "2023-05-08T13:13:39.109Z"
   },
   {
    "duration": 12,
    "start_time": "2023-05-08T13:13:39.122Z"
   },
   {
    "duration": 665,
    "start_time": "2023-05-08T13:13:39.136Z"
   },
   {
    "duration": 14,
    "start_time": "2023-05-08T13:13:39.803Z"
   },
   {
    "duration": 7,
    "start_time": "2023-05-08T13:13:39.819Z"
   },
   {
    "duration": 30,
    "start_time": "2023-05-08T13:13:39.828Z"
   },
   {
    "duration": 8,
    "start_time": "2023-05-08T13:13:39.860Z"
   },
   {
    "duration": 569,
    "start_time": "2023-05-08T13:13:39.870Z"
   },
   {
    "duration": 136,
    "start_time": "2023-05-08T13:13:40.442Z"
   },
   {
    "duration": 7,
    "start_time": "2023-05-08T13:13:40.581Z"
   },
   {
    "duration": 7,
    "start_time": "2023-05-08T13:13:40.589Z"
   },
   {
    "duration": 17,
    "start_time": "2023-05-08T13:13:40.597Z"
   },
   {
    "duration": 281,
    "start_time": "2023-05-08T13:13:40.615Z"
   },
   {
    "duration": 12,
    "start_time": "2023-05-08T13:13:40.898Z"
   },
   {
    "duration": 149,
    "start_time": "2023-05-08T13:13:40.911Z"
   },
   {
    "duration": 184,
    "start_time": "2023-05-08T13:13:41.062Z"
   },
   {
    "duration": 17,
    "start_time": "2023-05-08T13:13:41.248Z"
   },
   {
    "duration": 331,
    "start_time": "2023-05-08T13:13:41.267Z"
   },
   {
    "duration": 10,
    "start_time": "2023-05-08T13:13:41.600Z"
   },
   {
    "duration": 313,
    "start_time": "2023-05-08T13:13:41.612Z"
   },
   {
    "duration": 10,
    "start_time": "2023-05-08T13:13:41.927Z"
   },
   {
    "duration": 35,
    "start_time": "2023-05-08T13:13:41.939Z"
   },
   {
    "duration": 11,
    "start_time": "2023-05-08T13:13:41.976Z"
   },
   {
    "duration": 649,
    "start_time": "2023-05-08T13:13:41.989Z"
   },
   {
    "duration": 17,
    "start_time": "2023-05-08T13:13:42.640Z"
   },
   {
    "duration": 8,
    "start_time": "2023-05-08T13:13:42.659Z"
   },
   {
    "duration": 501,
    "start_time": "2023-05-08T13:13:42.670Z"
   },
   {
    "duration": 9,
    "start_time": "2023-05-08T13:13:43.173Z"
   },
   {
    "duration": 9,
    "start_time": "2023-05-08T13:13:43.184Z"
   },
   {
    "duration": 35,
    "start_time": "2023-05-08T13:13:43.194Z"
   },
   {
    "duration": 29,
    "start_time": "2023-05-08T13:13:43.257Z"
   },
   {
    "duration": 90,
    "start_time": "2023-05-08T13:13:43.287Z"
   },
   {
    "duration": 0,
    "start_time": "2023-05-08T13:13:43.379Z"
   },
   {
    "duration": 0,
    "start_time": "2023-05-08T13:13:43.380Z"
   },
   {
    "duration": 0,
    "start_time": "2023-05-08T13:13:43.382Z"
   },
   {
    "duration": 6,
    "start_time": "2023-05-08T13:14:21.836Z"
   },
   {
    "duration": 4,
    "start_time": "2023-05-08T13:14:25.611Z"
   },
   {
    "duration": 423,
    "start_time": "2023-05-08T13:14:27.624Z"
   },
   {
    "duration": 5,
    "start_time": "2023-05-08T13:14:31.142Z"
   },
   {
    "duration": 376,
    "start_time": "2023-05-08T13:14:42.392Z"
   },
   {
    "duration": 8,
    "start_time": "2023-05-08T13:15:40.262Z"
   },
   {
    "duration": 7,
    "start_time": "2023-05-08T13:15:43.831Z"
   },
   {
    "duration": 27,
    "start_time": "2023-05-08T13:15:50.717Z"
   },
   {
    "duration": 5,
    "start_time": "2023-05-08T13:15:54.672Z"
   },
   {
    "duration": 5,
    "start_time": "2023-05-08T13:16:00.095Z"
   },
   {
    "duration": 7,
    "start_time": "2023-05-08T13:16:23.071Z"
   },
   {
    "duration": 7,
    "start_time": "2023-05-08T13:16:26.925Z"
   },
   {
    "duration": 5,
    "start_time": "2023-05-08T13:16:36.446Z"
   },
   {
    "duration": 6,
    "start_time": "2023-05-08T13:18:04.775Z"
   },
   {
    "duration": 7,
    "start_time": "2023-05-08T13:18:06.750Z"
   },
   {
    "duration": 7,
    "start_time": "2023-05-08T13:18:17.143Z"
   },
   {
    "duration": 5,
    "start_time": "2023-05-08T13:18:46.583Z"
   },
   {
    "duration": 6,
    "start_time": "2023-05-08T13:18:50.077Z"
   },
   {
    "duration": 7,
    "start_time": "2023-05-08T13:23:43.967Z"
   },
   {
    "duration": 7,
    "start_time": "2023-05-08T13:24:15.670Z"
   },
   {
    "duration": 7,
    "start_time": "2023-05-08T13:24:23.678Z"
   },
   {
    "duration": 6,
    "start_time": "2023-05-08T13:28:40.551Z"
   },
   {
    "duration": 56,
    "start_time": "2023-05-08T13:29:07.911Z"
   },
   {
    "duration": 6,
    "start_time": "2023-05-08T13:29:27.942Z"
   },
   {
    "duration": 5,
    "start_time": "2023-05-08T13:29:40.606Z"
   },
   {
    "duration": 8,
    "start_time": "2023-05-08T13:30:35.646Z"
   },
   {
    "duration": 6,
    "start_time": "2023-05-08T13:30:48.134Z"
   },
   {
    "duration": 9,
    "start_time": "2023-05-08T13:31:02.486Z"
   },
   {
    "duration": 5,
    "start_time": "2023-05-08T13:32:40.949Z"
   },
   {
    "duration": 7,
    "start_time": "2023-05-08T13:33:02.309Z"
   },
   {
    "duration": 5,
    "start_time": "2023-05-08T13:33:14.647Z"
   },
   {
    "duration": 6,
    "start_time": "2023-05-08T13:33:16.989Z"
   },
   {
    "duration": 8,
    "start_time": "2023-05-08T13:33:22.606Z"
   },
   {
    "duration": 9,
    "start_time": "2023-05-08T13:34:23.606Z"
   },
   {
    "duration": 6,
    "start_time": "2023-05-08T13:34:39.358Z"
   },
   {
    "duration": 5,
    "start_time": "2023-05-08T13:34:42.077Z"
   },
   {
    "duration": 8,
    "start_time": "2023-05-08T13:36:51.142Z"
   },
   {
    "duration": 5,
    "start_time": "2023-05-08T13:40:19.175Z"
   },
   {
    "duration": 5,
    "start_time": "2023-05-08T13:40:21.277Z"
   },
   {
    "duration": 5,
    "start_time": "2023-05-08T13:40:38.933Z"
   },
   {
    "duration": 20,
    "start_time": "2023-05-08T13:46:48.358Z"
   },
   {
    "duration": 18,
    "start_time": "2023-05-08T13:47:10.337Z"
   },
   {
    "duration": 16,
    "start_time": "2023-05-08T13:48:06.909Z"
   },
   {
    "duration": 21,
    "start_time": "2023-05-08T13:48:18.437Z"
   },
   {
    "duration": 8,
    "start_time": "2023-05-08T13:48:23.604Z"
   },
   {
    "duration": 23,
    "start_time": "2023-05-08T13:49:21.823Z"
   },
   {
    "duration": 7,
    "start_time": "2023-05-08T13:49:28.535Z"
   },
   {
    "duration": 6,
    "start_time": "2023-05-08T13:51:51.517Z"
   },
   {
    "duration": 4,
    "start_time": "2023-05-08T13:52:23.542Z"
   },
   {
    "duration": 9,
    "start_time": "2023-05-08T14:28:00.075Z"
   },
   {
    "duration": 138,
    "start_time": "2023-05-08T14:28:20.301Z"
   },
   {
    "duration": 201,
    "start_time": "2023-05-08T14:29:45.387Z"
   },
   {
    "duration": 129,
    "start_time": "2023-05-08T14:30:21.587Z"
   },
   {
    "duration": 139,
    "start_time": "2023-05-08T14:31:02.514Z"
   },
   {
    "duration": 158,
    "start_time": "2023-05-08T14:31:41.715Z"
   },
   {
    "duration": 133,
    "start_time": "2023-05-08T14:33:14.004Z"
   },
   {
    "duration": 128,
    "start_time": "2023-05-08T14:33:25.490Z"
   },
   {
    "duration": 191,
    "start_time": "2023-05-08T14:33:34.088Z"
   },
   {
    "duration": 134,
    "start_time": "2023-05-08T14:33:38.731Z"
   },
   {
    "duration": 110,
    "start_time": "2023-05-08T14:35:40.666Z"
   },
   {
    "duration": 9,
    "start_time": "2023-05-08T14:38:56.219Z"
   },
   {
    "duration": 7,
    "start_time": "2023-05-08T14:39:08.171Z"
   },
   {
    "duration": 9,
    "start_time": "2023-05-08T14:39:11.422Z"
   },
   {
    "duration": 7,
    "start_time": "2023-05-08T14:39:19.175Z"
   },
   {
    "duration": 8,
    "start_time": "2023-05-08T14:39:25.940Z"
   },
   {
    "duration": 8,
    "start_time": "2023-05-08T14:39:44.570Z"
   },
   {
    "duration": 7,
    "start_time": "2023-05-08T14:39:48.290Z"
   },
   {
    "duration": 12,
    "start_time": "2023-05-08T14:40:05.202Z"
   },
   {
    "duration": 7,
    "start_time": "2023-05-08T14:40:08.442Z"
   },
   {
    "duration": 9,
    "start_time": "2023-05-08T14:40:54.962Z"
   },
   {
    "duration": 10,
    "start_time": "2023-05-08T14:42:21.579Z"
   },
   {
    "duration": 9,
    "start_time": "2023-05-08T14:42:39.530Z"
   },
   {
    "duration": 7,
    "start_time": "2023-05-08T14:43:04.482Z"
   },
   {
    "duration": 7,
    "start_time": "2023-05-08T14:43:08.138Z"
   },
   {
    "duration": 7,
    "start_time": "2023-05-08T14:43:11.523Z"
   },
   {
    "duration": 7,
    "start_time": "2023-05-08T14:43:14.962Z"
   },
   {
    "duration": 7,
    "start_time": "2023-05-08T14:43:18.265Z"
   },
   {
    "duration": 8,
    "start_time": "2023-05-08T14:43:24.221Z"
   },
   {
    "duration": 7,
    "start_time": "2023-05-08T14:43:26.787Z"
   },
   {
    "duration": 8,
    "start_time": "2023-05-08T14:43:28.882Z"
   },
   {
    "duration": 6,
    "start_time": "2023-05-08T14:44:31.994Z"
   },
   {
    "duration": 9,
    "start_time": "2023-05-08T14:45:44.118Z"
   },
   {
    "duration": 10,
    "start_time": "2023-05-08T14:47:17.603Z"
   },
   {
    "duration": 10,
    "start_time": "2023-05-08T14:47:56.923Z"
   },
   {
    "duration": 10,
    "start_time": "2023-05-08T14:48:02.501Z"
   },
   {
    "duration": 9,
    "start_time": "2023-05-08T14:48:07.778Z"
   },
   {
    "duration": 177,
    "start_time": "2023-05-08T14:51:44.762Z"
   },
   {
    "duration": 0,
    "start_time": "2023-05-08T14:56:12.663Z"
   },
   {
    "duration": 0,
    "start_time": "2023-05-08T14:56:12.664Z"
   },
   {
    "duration": 0,
    "start_time": "2023-05-08T14:56:12.666Z"
   },
   {
    "duration": 0,
    "start_time": "2023-05-08T14:56:12.667Z"
   },
   {
    "duration": 0,
    "start_time": "2023-05-08T14:56:12.669Z"
   },
   {
    "duration": 0,
    "start_time": "2023-05-08T14:56:12.670Z"
   },
   {
    "duration": 0,
    "start_time": "2023-05-08T14:56:12.671Z"
   },
   {
    "duration": 0,
    "start_time": "2023-05-08T14:56:12.672Z"
   },
   {
    "duration": 0,
    "start_time": "2023-05-08T14:56:12.674Z"
   },
   {
    "duration": 0,
    "start_time": "2023-05-08T14:56:12.675Z"
   },
   {
    "duration": 0,
    "start_time": "2023-05-08T14:56:12.677Z"
   },
   {
    "duration": 0,
    "start_time": "2023-05-08T14:56:12.678Z"
   },
   {
    "duration": 0,
    "start_time": "2023-05-08T14:56:12.679Z"
   },
   {
    "duration": 0,
    "start_time": "2023-05-08T14:56:12.681Z"
   },
   {
    "duration": 0,
    "start_time": "2023-05-08T14:56:12.684Z"
   },
   {
    "duration": 0,
    "start_time": "2023-05-08T14:56:12.685Z"
   },
   {
    "duration": 1,
    "start_time": "2023-05-08T14:56:12.687Z"
   },
   {
    "duration": 0,
    "start_time": "2023-05-08T14:56:12.689Z"
   },
   {
    "duration": 1,
    "start_time": "2023-05-08T14:56:12.690Z"
   },
   {
    "duration": 0,
    "start_time": "2023-05-08T14:56:12.694Z"
   },
   {
    "duration": 0,
    "start_time": "2023-05-08T14:56:12.698Z"
   },
   {
    "duration": 0,
    "start_time": "2023-05-08T14:56:12.755Z"
   },
   {
    "duration": 0,
    "start_time": "2023-05-08T14:56:12.757Z"
   },
   {
    "duration": 0,
    "start_time": "2023-05-08T14:56:12.758Z"
   },
   {
    "duration": 0,
    "start_time": "2023-05-08T14:56:12.759Z"
   },
   {
    "duration": 0,
    "start_time": "2023-05-08T14:56:12.760Z"
   },
   {
    "duration": 0,
    "start_time": "2023-05-08T14:56:12.761Z"
   },
   {
    "duration": 0,
    "start_time": "2023-05-08T14:56:12.762Z"
   },
   {
    "duration": 0,
    "start_time": "2023-05-08T14:56:12.764Z"
   },
   {
    "duration": 0,
    "start_time": "2023-05-08T14:56:12.765Z"
   },
   {
    "duration": 0,
    "start_time": "2023-05-08T14:56:12.766Z"
   },
   {
    "duration": 0,
    "start_time": "2023-05-08T14:56:12.767Z"
   },
   {
    "duration": 0,
    "start_time": "2023-05-08T14:56:12.768Z"
   },
   {
    "duration": 0,
    "start_time": "2023-05-08T14:56:12.770Z"
   },
   {
    "duration": 0,
    "start_time": "2023-05-08T14:56:12.771Z"
   },
   {
    "duration": 0,
    "start_time": "2023-05-08T14:56:12.772Z"
   },
   {
    "duration": 0,
    "start_time": "2023-05-08T14:56:12.773Z"
   },
   {
    "duration": 0,
    "start_time": "2023-05-08T14:56:12.774Z"
   },
   {
    "duration": 1,
    "start_time": "2023-05-08T14:56:12.775Z"
   },
   {
    "duration": 0,
    "start_time": "2023-05-08T14:56:12.777Z"
   },
   {
    "duration": 0,
    "start_time": "2023-05-08T14:56:12.778Z"
   },
   {
    "duration": 0,
    "start_time": "2023-05-08T14:56:12.780Z"
   },
   {
    "duration": 0,
    "start_time": "2023-05-08T14:56:12.781Z"
   },
   {
    "duration": 0,
    "start_time": "2023-05-08T14:56:12.782Z"
   },
   {
    "duration": 0,
    "start_time": "2023-05-08T14:56:12.783Z"
   },
   {
    "duration": 0,
    "start_time": "2023-05-08T14:56:12.786Z"
   },
   {
    "duration": 0,
    "start_time": "2023-05-08T14:56:12.787Z"
   },
   {
    "duration": 0,
    "start_time": "2023-05-08T14:56:12.788Z"
   },
   {
    "duration": 0,
    "start_time": "2023-05-08T14:56:12.789Z"
   },
   {
    "duration": 0,
    "start_time": "2023-05-08T14:56:12.791Z"
   },
   {
    "duration": 0,
    "start_time": "2023-05-08T14:56:12.791Z"
   },
   {
    "duration": 3,
    "start_time": "2023-05-08T14:56:16.675Z"
   },
   {
    "duration": 82,
    "start_time": "2023-05-08T14:56:16.681Z"
   },
   {
    "duration": 10,
    "start_time": "2023-05-08T14:56:16.765Z"
   },
   {
    "duration": 9,
    "start_time": "2023-05-08T14:56:16.778Z"
   },
   {
    "duration": 26,
    "start_time": "2023-05-08T14:56:16.789Z"
   },
   {
    "duration": 10,
    "start_time": "2023-05-08T14:56:16.817Z"
   },
   {
    "duration": 22,
    "start_time": "2023-05-08T14:56:16.829Z"
   },
   {
    "duration": 260,
    "start_time": "2023-05-08T14:56:16.853Z"
   },
   {
    "duration": 15,
    "start_time": "2023-05-08T14:56:17.117Z"
   },
   {
    "duration": 7,
    "start_time": "2023-05-08T14:56:17.134Z"
   },
   {
    "duration": 7,
    "start_time": "2023-05-08T14:56:17.157Z"
   },
   {
    "duration": 9,
    "start_time": "2023-05-08T14:56:17.166Z"
   },
   {
    "duration": 421,
    "start_time": "2023-05-08T14:56:17.176Z"
   },
   {
    "duration": 129,
    "start_time": "2023-05-08T14:56:17.598Z"
   },
   {
    "duration": 9,
    "start_time": "2023-05-08T14:56:17.729Z"
   },
   {
    "duration": 20,
    "start_time": "2023-05-08T14:56:17.739Z"
   },
   {
    "duration": 14,
    "start_time": "2023-05-08T14:56:17.761Z"
   },
   {
    "duration": 316,
    "start_time": "2023-05-08T14:56:17.777Z"
   },
   {
    "duration": 13,
    "start_time": "2023-05-08T14:56:18.095Z"
   },
   {
    "duration": 167,
    "start_time": "2023-05-08T14:56:18.110Z"
   },
   {
    "duration": 186,
    "start_time": "2023-05-08T14:56:18.279Z"
   },
   {
    "duration": 9,
    "start_time": "2023-05-08T14:56:18.467Z"
   },
   {
    "duration": 293,
    "start_time": "2023-05-08T14:56:18.478Z"
   },
   {
    "duration": 12,
    "start_time": "2023-05-08T14:56:18.776Z"
   },
   {
    "duration": 300,
    "start_time": "2023-05-08T14:56:18.790Z"
   },
   {
    "duration": 9,
    "start_time": "2023-05-08T14:56:19.092Z"
   },
   {
    "duration": 53,
    "start_time": "2023-05-08T14:56:19.102Z"
   },
   {
    "duration": 16,
    "start_time": "2023-05-08T14:56:19.158Z"
   },
   {
    "duration": 537,
    "start_time": "2023-05-08T14:56:19.177Z"
   },
   {
    "duration": 9,
    "start_time": "2023-05-08T14:56:19.716Z"
   },
   {
    "duration": 10,
    "start_time": "2023-05-08T14:56:19.727Z"
   },
   {
    "duration": 634,
    "start_time": "2023-05-08T14:56:19.756Z"
   },
   {
    "duration": 11,
    "start_time": "2023-05-08T14:56:20.393Z"
   },
   {
    "duration": 11,
    "start_time": "2023-05-08T14:56:20.406Z"
   },
   {
    "duration": 60,
    "start_time": "2023-05-08T14:56:20.419Z"
   },
   {
    "duration": 35,
    "start_time": "2023-05-08T14:56:20.481Z"
   },
   {
    "duration": 5,
    "start_time": "2023-05-08T14:56:20.518Z"
   },
   {
    "duration": 33,
    "start_time": "2023-05-08T14:56:20.525Z"
   },
   {
    "duration": 494,
    "start_time": "2023-05-08T14:56:20.560Z"
   },
   {
    "duration": 6,
    "start_time": "2023-05-08T14:56:21.056Z"
   },
   {
    "duration": 15,
    "start_time": "2023-05-08T14:56:21.064Z"
   },
   {
    "duration": 7,
    "start_time": "2023-05-08T14:56:21.081Z"
   },
   {
    "duration": 6,
    "start_time": "2023-05-08T14:56:21.090Z"
   },
   {
    "duration": 11,
    "start_time": "2023-05-08T14:56:21.098Z"
   },
   {
    "duration": 16,
    "start_time": "2023-05-08T14:56:21.111Z"
   },
   {
    "duration": 41,
    "start_time": "2023-05-08T14:56:21.129Z"
   },
   {
    "duration": 4,
    "start_time": "2023-05-08T14:56:21.172Z"
   },
   {
    "duration": 13,
    "start_time": "2023-05-08T14:56:21.178Z"
   },
   {
    "duration": 17,
    "start_time": "2023-05-08T14:56:21.193Z"
   },
   {
    "duration": 11,
    "start_time": "2023-05-08T14:56:21.212Z"
   },
   {
    "duration": 203,
    "start_time": "2023-05-08T14:56:26.529Z"
   },
   {
    "duration": 151,
    "start_time": "2023-05-08T14:57:17.194Z"
   },
   {
    "duration": 146,
    "start_time": "2023-05-08T14:58:57.873Z"
   },
   {
    "duration": 111,
    "start_time": "2023-05-08T14:59:04.105Z"
   },
   {
    "duration": 182,
    "start_time": "2023-05-08T14:59:13.842Z"
   },
   {
    "duration": 162,
    "start_time": "2023-05-08T14:59:49.713Z"
   },
   {
    "duration": 157,
    "start_time": "2023-05-08T14:59:59.233Z"
   },
   {
    "duration": 151,
    "start_time": "2023-05-08T15:00:06.809Z"
   },
   {
    "duration": 162,
    "start_time": "2023-05-08T15:00:23.730Z"
   },
   {
    "duration": 147,
    "start_time": "2023-05-08T15:00:28.841Z"
   },
   {
    "duration": 155,
    "start_time": "2023-05-08T15:00:58.947Z"
   },
   {
    "duration": 139,
    "start_time": "2023-05-08T15:01:31.826Z"
   },
   {
    "duration": 149,
    "start_time": "2023-05-08T15:01:38.500Z"
   },
   {
    "duration": 172,
    "start_time": "2023-05-08T15:02:12.610Z"
   },
   {
    "duration": 130,
    "start_time": "2023-05-08T15:03:14.155Z"
   },
   {
    "duration": 172,
    "start_time": "2023-05-08T15:03:20.987Z"
   },
   {
    "duration": 153,
    "start_time": "2023-05-08T15:04:08.962Z"
   },
   {
    "duration": 147,
    "start_time": "2023-05-08T15:04:29.354Z"
   },
   {
    "duration": 141,
    "start_time": "2023-05-08T15:05:16.579Z"
   },
   {
    "duration": 138,
    "start_time": "2023-05-08T15:06:29.114Z"
   },
   {
    "duration": 136,
    "start_time": "2023-05-08T15:06:40.001Z"
   },
   {
    "duration": 153,
    "start_time": "2023-05-08T15:06:56.282Z"
   },
   {
    "duration": 3,
    "start_time": "2023-05-08T15:31:41.973Z"
   },
   {
    "duration": 66,
    "start_time": "2023-05-08T15:31:41.978Z"
   },
   {
    "duration": 11,
    "start_time": "2023-05-08T15:31:42.046Z"
   },
   {
    "duration": 23,
    "start_time": "2023-05-08T15:31:42.059Z"
   },
   {
    "duration": 18,
    "start_time": "2023-05-08T15:31:42.085Z"
   },
   {
    "duration": 7,
    "start_time": "2023-05-08T15:31:42.104Z"
   },
   {
    "duration": 20,
    "start_time": "2023-05-08T15:31:42.113Z"
   },
   {
    "duration": 265,
    "start_time": "2023-05-08T15:31:42.136Z"
   },
   {
    "duration": 12,
    "start_time": "2023-05-08T15:31:42.403Z"
   },
   {
    "duration": 8,
    "start_time": "2023-05-08T15:31:42.417Z"
   },
   {
    "duration": 11,
    "start_time": "2023-05-08T15:31:42.427Z"
   },
   {
    "duration": 22,
    "start_time": "2023-05-08T15:31:42.439Z"
   },
   {
    "duration": 398,
    "start_time": "2023-05-08T15:31:42.462Z"
   },
   {
    "duration": 157,
    "start_time": "2023-05-08T15:31:42.862Z"
   },
   {
    "duration": 7,
    "start_time": "2023-05-08T15:31:43.021Z"
   },
   {
    "duration": 20,
    "start_time": "2023-05-08T15:31:43.030Z"
   },
   {
    "duration": 19,
    "start_time": "2023-05-08T15:31:43.053Z"
   },
   {
    "duration": 297,
    "start_time": "2023-05-08T15:31:43.074Z"
   },
   {
    "duration": 13,
    "start_time": "2023-05-08T15:31:43.373Z"
   },
   {
    "duration": 177,
    "start_time": "2023-05-08T15:31:43.388Z"
   },
   {
    "duration": 194,
    "start_time": "2023-05-08T15:31:43.567Z"
   },
   {
    "duration": 9,
    "start_time": "2023-05-08T15:31:43.763Z"
   },
   {
    "duration": 372,
    "start_time": "2023-05-08T15:31:43.773Z"
   },
   {
    "duration": 16,
    "start_time": "2023-05-08T15:31:44.147Z"
   },
   {
    "duration": 310,
    "start_time": "2023-05-08T15:31:44.166Z"
   },
   {
    "duration": 10,
    "start_time": "2023-05-08T15:31:44.478Z"
   },
   {
    "duration": 29,
    "start_time": "2023-05-08T15:31:44.489Z"
   },
   {
    "duration": 11,
    "start_time": "2023-05-08T15:31:44.520Z"
   },
   {
    "duration": 520,
    "start_time": "2023-05-08T15:31:44.555Z"
   },
   {
    "duration": 9,
    "start_time": "2023-05-08T15:31:45.077Z"
   },
   {
    "duration": 9,
    "start_time": "2023-05-08T15:31:45.088Z"
   },
   {
    "duration": 506,
    "start_time": "2023-05-08T15:31:45.098Z"
   },
   {
    "duration": 8,
    "start_time": "2023-05-08T15:31:45.605Z"
   },
   {
    "duration": 7,
    "start_time": "2023-05-08T15:31:45.615Z"
   },
   {
    "duration": 49,
    "start_time": "2023-05-08T15:31:45.624Z"
   },
   {
    "duration": 30,
    "start_time": "2023-05-08T15:31:45.675Z"
   },
   {
    "duration": 5,
    "start_time": "2023-05-08T15:31:45.707Z"
   },
   {
    "duration": 6,
    "start_time": "2023-05-08T15:31:45.714Z"
   },
   {
    "duration": 439,
    "start_time": "2023-05-08T15:31:45.722Z"
   },
   {
    "duration": 4,
    "start_time": "2023-05-08T15:31:46.163Z"
   },
   {
    "duration": 5,
    "start_time": "2023-05-08T15:31:46.169Z"
   },
   {
    "duration": 8,
    "start_time": "2023-05-08T15:31:46.176Z"
   },
   {
    "duration": 7,
    "start_time": "2023-05-08T15:31:46.185Z"
   },
   {
    "duration": 6,
    "start_time": "2023-05-08T15:31:46.194Z"
   },
   {
    "duration": 5,
    "start_time": "2023-05-08T15:31:46.201Z"
   },
   {
    "duration": 48,
    "start_time": "2023-05-08T15:31:46.208Z"
   },
   {
    "duration": 4,
    "start_time": "2023-05-08T15:31:46.257Z"
   },
   {
    "duration": 5,
    "start_time": "2023-05-08T15:31:46.263Z"
   },
   {
    "duration": 8,
    "start_time": "2023-05-08T15:31:46.270Z"
   },
   {
    "duration": 15,
    "start_time": "2023-05-08T15:31:46.279Z"
   },
   {
    "duration": 146,
    "start_time": "2023-05-08T15:31:48.439Z"
   },
   {
    "duration": 3,
    "start_time": "2023-05-08T15:32:55.649Z"
   },
   {
    "duration": 77,
    "start_time": "2023-05-08T15:32:55.654Z"
   },
   {
    "duration": 16,
    "start_time": "2023-05-08T15:32:55.733Z"
   },
   {
    "duration": 9,
    "start_time": "2023-05-08T15:32:55.752Z"
   },
   {
    "duration": 21,
    "start_time": "2023-05-08T15:32:55.762Z"
   },
   {
    "duration": 18,
    "start_time": "2023-05-08T15:32:55.785Z"
   },
   {
    "duration": 11,
    "start_time": "2023-05-08T15:32:55.805Z"
   },
   {
    "duration": 268,
    "start_time": "2023-05-08T15:32:55.818Z"
   },
   {
    "duration": 13,
    "start_time": "2023-05-08T15:32:56.088Z"
   },
   {
    "duration": 11,
    "start_time": "2023-05-08T15:32:56.103Z"
   },
   {
    "duration": 9,
    "start_time": "2023-05-08T15:32:56.116Z"
   },
   {
    "duration": 41,
    "start_time": "2023-05-08T15:32:56.127Z"
   },
   {
    "duration": 430,
    "start_time": "2023-05-08T15:32:56.170Z"
   },
   {
    "duration": 127,
    "start_time": "2023-05-08T15:32:56.602Z"
   },
   {
    "duration": 7,
    "start_time": "2023-05-08T15:32:56.730Z"
   },
   {
    "duration": 19,
    "start_time": "2023-05-08T15:32:56.739Z"
   },
   {
    "duration": 15,
    "start_time": "2023-05-08T15:32:56.760Z"
   },
   {
    "duration": 273,
    "start_time": "2023-05-08T15:32:56.777Z"
   },
   {
    "duration": 11,
    "start_time": "2023-05-08T15:32:57.052Z"
   },
   {
    "duration": 154,
    "start_time": "2023-05-08T15:32:57.064Z"
   },
   {
    "duration": 183,
    "start_time": "2023-05-08T15:32:57.219Z"
   },
   {
    "duration": 11,
    "start_time": "2023-05-08T15:32:57.404Z"
   },
   {
    "duration": 293,
    "start_time": "2023-05-08T15:32:57.417Z"
   },
   {
    "duration": 9,
    "start_time": "2023-05-08T15:32:57.714Z"
   },
   {
    "duration": 327,
    "start_time": "2023-05-08T15:32:57.725Z"
   },
   {
    "duration": 12,
    "start_time": "2023-05-08T15:32:58.056Z"
   },
   {
    "duration": 34,
    "start_time": "2023-05-08T15:32:58.071Z"
   },
   {
    "duration": 13,
    "start_time": "2023-05-08T15:32:58.108Z"
   },
   {
    "duration": 522,
    "start_time": "2023-05-08T15:32:58.123Z"
   },
   {
    "duration": 14,
    "start_time": "2023-05-08T15:32:58.647Z"
   },
   {
    "duration": 13,
    "start_time": "2023-05-08T15:32:58.663Z"
   },
   {
    "duration": 517,
    "start_time": "2023-05-08T15:32:58.677Z"
   },
   {
    "duration": 9,
    "start_time": "2023-05-08T15:32:59.195Z"
   },
   {
    "duration": 8,
    "start_time": "2023-05-08T15:32:59.206Z"
   },
   {
    "duration": 59,
    "start_time": "2023-05-08T15:32:59.215Z"
   },
   {
    "duration": 29,
    "start_time": "2023-05-08T15:32:59.276Z"
   },
   {
    "duration": 5,
    "start_time": "2023-05-08T15:32:59.307Z"
   },
   {
    "duration": 32,
    "start_time": "2023-05-08T15:32:59.314Z"
   },
   {
    "duration": 428,
    "start_time": "2023-05-08T15:32:59.347Z"
   },
   {
    "duration": 6,
    "start_time": "2023-05-08T15:32:59.777Z"
   },
   {
    "duration": 14,
    "start_time": "2023-05-08T15:32:59.785Z"
   },
   {
    "duration": 20,
    "start_time": "2023-05-08T15:32:59.800Z"
   },
   {
    "duration": 4,
    "start_time": "2023-05-08T15:32:59.822Z"
   },
   {
    "duration": 5,
    "start_time": "2023-05-08T15:32:59.828Z"
   },
   {
    "duration": 9,
    "start_time": "2023-05-08T15:32:59.857Z"
   },
   {
    "duration": 8,
    "start_time": "2023-05-08T15:32:59.867Z"
   },
   {
    "duration": 144,
    "start_time": "2023-05-08T15:33:05.912Z"
   },
   {
    "duration": 468,
    "start_time": "2023-05-10T07:02:19.649Z"
   },
   {
    "duration": 102,
    "start_time": "2023-05-10T07:02:20.119Z"
   },
   {
    "duration": 15,
    "start_time": "2023-05-10T07:02:20.223Z"
   },
   {
    "duration": 50,
    "start_time": "2023-05-10T07:02:20.247Z"
   },
   {
    "duration": 39,
    "start_time": "2023-05-10T07:02:20.299Z"
   },
   {
    "duration": 54,
    "start_time": "2023-05-10T07:02:20.340Z"
   },
   {
    "duration": 37,
    "start_time": "2023-05-10T07:02:20.396Z"
   },
   {
    "duration": 639,
    "start_time": "2023-05-10T07:02:20.435Z"
   },
   {
    "duration": 21,
    "start_time": "2023-05-10T07:02:21.078Z"
   },
   {
    "duration": 50,
    "start_time": "2023-05-10T07:02:21.104Z"
   },
   {
    "duration": 47,
    "start_time": "2023-05-10T07:02:21.159Z"
   },
   {
    "duration": 38,
    "start_time": "2023-05-10T07:02:21.209Z"
   },
   {
    "duration": 597,
    "start_time": "2023-05-10T07:02:21.250Z"
   },
   {
    "duration": 239,
    "start_time": "2023-05-10T07:02:21.849Z"
   },
   {
    "duration": 11,
    "start_time": "2023-05-10T07:02:22.090Z"
   },
   {
    "duration": 15,
    "start_time": "2023-05-10T07:02:22.104Z"
   },
   {
    "duration": 41,
    "start_time": "2023-05-10T07:02:22.121Z"
   },
   {
    "duration": 319,
    "start_time": "2023-05-10T07:02:22.164Z"
   },
   {
    "duration": 13,
    "start_time": "2023-05-10T07:02:22.486Z"
   },
   {
    "duration": 188,
    "start_time": "2023-05-10T07:02:22.501Z"
   },
   {
    "duration": 211,
    "start_time": "2023-05-10T07:02:22.691Z"
   },
   {
    "duration": 10,
    "start_time": "2023-05-10T07:02:22.903Z"
   },
   {
    "duration": 357,
    "start_time": "2023-05-10T07:02:22.915Z"
   },
   {
    "duration": 10,
    "start_time": "2023-05-10T07:02:23.274Z"
   },
   {
    "duration": 391,
    "start_time": "2023-05-10T07:02:23.287Z"
   },
   {
    "duration": 11,
    "start_time": "2023-05-10T07:02:23.681Z"
   },
   {
    "duration": 59,
    "start_time": "2023-05-10T07:02:23.694Z"
   },
   {
    "duration": 15,
    "start_time": "2023-05-10T07:02:23.759Z"
   },
   {
    "duration": 648,
    "start_time": "2023-05-10T07:02:23.776Z"
   },
   {
    "duration": 16,
    "start_time": "2023-05-10T07:02:24.427Z"
   },
   {
    "duration": 48,
    "start_time": "2023-05-10T07:02:24.445Z"
   },
   {
    "duration": 694,
    "start_time": "2023-05-10T07:02:24.495Z"
   },
   {
    "duration": 9,
    "start_time": "2023-05-10T07:02:25.191Z"
   },
   {
    "duration": 13,
    "start_time": "2023-05-10T07:02:25.202Z"
   },
   {
    "duration": 57,
    "start_time": "2023-05-10T07:02:25.234Z"
   },
   {
    "duration": 55,
    "start_time": "2023-05-10T07:02:25.294Z"
   },
   {
    "duration": 6,
    "start_time": "2023-05-10T07:02:25.351Z"
   },
   {
    "duration": 16,
    "start_time": "2023-05-10T07:02:25.359Z"
   },
   {
    "duration": 465,
    "start_time": "2023-05-10T07:02:25.377Z"
   },
   {
    "duration": 433,
    "start_time": "2023-05-10T07:02:25.843Z"
   },
   {
    "duration": 7,
    "start_time": "2023-05-10T07:02:26.278Z"
   },
   {
    "duration": 32,
    "start_time": "2023-05-10T07:02:26.287Z"
   },
   {
    "duration": 13,
    "start_time": "2023-05-10T07:02:26.322Z"
   },
   {
    "duration": 30,
    "start_time": "2023-05-10T07:02:26.337Z"
   },
   {
    "duration": 23,
    "start_time": "2023-05-10T07:02:26.369Z"
   },
   {
    "duration": 15,
    "start_time": "2023-05-10T07:02:26.395Z"
   },
   {
    "duration": 183,
    "start_time": "2023-05-10T07:02:26.414Z"
   },
   {
    "duration": 10,
    "start_time": "2023-05-10T07:16:48.858Z"
   },
   {
    "duration": 6,
    "start_time": "2023-05-10T07:19:23.386Z"
   },
   {
    "duration": 67,
    "start_time": "2023-05-10T15:22:21.960Z"
   },
   {
    "duration": 489,
    "start_time": "2023-05-10T15:22:26.488Z"
   },
   {
    "duration": 303,
    "start_time": "2023-05-10T15:22:28.937Z"
   },
   {
    "duration": 14,
    "start_time": "2023-05-10T15:24:23.073Z"
   },
   {
    "duration": 22,
    "start_time": "2023-05-10T15:24:33.559Z"
   },
   {
    "duration": 41,
    "start_time": "2023-05-10T15:24:42.072Z"
   },
   {
    "duration": 4,
    "start_time": "2023-05-10T15:28:09.230Z"
   },
   {
    "duration": 106,
    "start_time": "2023-05-10T15:28:09.237Z"
   },
   {
    "duration": 27,
    "start_time": "2023-05-10T15:28:09.346Z"
   },
   {
    "duration": 17,
    "start_time": "2023-05-10T15:28:09.376Z"
   },
   {
    "duration": 17,
    "start_time": "2023-05-10T15:28:09.397Z"
   },
   {
    "duration": 7,
    "start_time": "2023-05-10T15:28:09.416Z"
   },
   {
    "duration": 19,
    "start_time": "2023-05-10T15:28:09.425Z"
   },
   {
    "duration": 1064,
    "start_time": "2023-05-10T15:28:09.446Z"
   },
   {
    "duration": 18,
    "start_time": "2023-05-10T15:28:10.514Z"
   },
   {
    "duration": 23,
    "start_time": "2023-05-10T15:28:12.314Z"
   },
   {
    "duration": 5,
    "start_time": "2023-05-10T15:28:19.220Z"
   },
   {
    "duration": 7,
    "start_time": "2023-05-10T15:29:15.051Z"
   },
   {
    "duration": 6,
    "start_time": "2023-05-10T15:29:35.220Z"
   },
   {
    "duration": 78,
    "start_time": "2023-05-10T15:33:07.953Z"
   },
   {
    "duration": 4,
    "start_time": "2023-05-10T15:35:16.538Z"
   },
   {
    "duration": 96,
    "start_time": "2023-05-10T15:35:16.544Z"
   },
   {
    "duration": 30,
    "start_time": "2023-05-10T15:35:16.642Z"
   },
   {
    "duration": 23,
    "start_time": "2023-05-10T15:35:16.674Z"
   },
   {
    "duration": 16,
    "start_time": "2023-05-10T15:35:16.699Z"
   },
   {
    "duration": 16,
    "start_time": "2023-05-10T15:35:16.717Z"
   },
   {
    "duration": 19,
    "start_time": "2023-05-10T15:35:16.735Z"
   },
   {
    "duration": 282,
    "start_time": "2023-05-10T15:35:16.756Z"
   },
   {
    "duration": 10,
    "start_time": "2023-05-10T15:35:17.041Z"
   },
   {
    "duration": 9,
    "start_time": "2023-05-10T15:35:17.053Z"
   },
   {
    "duration": 27,
    "start_time": "2023-05-10T15:35:17.064Z"
   },
   {
    "duration": 12,
    "start_time": "2023-05-10T15:35:17.093Z"
   },
   {
    "duration": 9,
    "start_time": "2023-05-10T15:35:17.107Z"
   },
   {
    "duration": 693,
    "start_time": "2023-05-10T15:35:17.118Z"
   },
   {
    "duration": 205,
    "start_time": "2023-05-10T15:35:17.813Z"
   },
   {
    "duration": 11,
    "start_time": "2023-05-10T15:35:18.021Z"
   },
   {
    "duration": 9,
    "start_time": "2023-05-10T15:35:21.222Z"
   },
   {
    "duration": 12,
    "start_time": "2023-05-10T15:35:30.774Z"
   },
   {
    "duration": 522,
    "start_time": "2023-05-10T15:36:53.671Z"
   },
   {
    "duration": 168,
    "start_time": "2023-05-10T15:37:01.294Z"
   },
   {
    "duration": 702,
    "start_time": "2023-05-10T15:37:12.078Z"
   },
   {
    "duration": 1074,
    "start_time": "2023-05-10T15:37:25.246Z"
   },
   {
    "duration": 3,
    "start_time": "2023-05-10T15:37:42.650Z"
   },
   {
    "duration": 116,
    "start_time": "2023-05-10T15:37:42.657Z"
   },
   {
    "duration": 38,
    "start_time": "2023-05-10T15:37:42.775Z"
   },
   {
    "duration": 8,
    "start_time": "2023-05-10T15:37:42.819Z"
   },
   {
    "duration": 9,
    "start_time": "2023-05-10T15:37:42.829Z"
   },
   {
    "duration": 30,
    "start_time": "2023-05-10T15:37:42.841Z"
   },
   {
    "duration": 11,
    "start_time": "2023-05-10T15:37:42.874Z"
   },
   {
    "duration": 325,
    "start_time": "2023-05-10T15:37:42.887Z"
   },
   {
    "duration": 12,
    "start_time": "2023-05-10T15:37:43.216Z"
   },
   {
    "duration": 13,
    "start_time": "2023-05-10T15:37:43.230Z"
   },
   {
    "duration": 19,
    "start_time": "2023-05-10T15:37:43.245Z"
   },
   {
    "duration": 7,
    "start_time": "2023-05-10T15:37:43.266Z"
   },
   {
    "duration": 25,
    "start_time": "2023-05-10T15:37:43.275Z"
   },
   {
    "duration": 819,
    "start_time": "2023-05-10T15:37:43.303Z"
   },
   {
    "duration": 163,
    "start_time": "2023-05-10T15:37:44.124Z"
   },
   {
    "duration": 18,
    "start_time": "2023-05-10T15:37:44.298Z"
   },
   {
    "duration": 793,
    "start_time": "2023-05-10T15:38:13.327Z"
   },
   {
    "duration": 13,
    "start_time": "2023-05-10T15:40:06.305Z"
   },
   {
    "duration": 11,
    "start_time": "2023-05-10T15:40:36.240Z"
   },
   {
    "duration": 3,
    "start_time": "2023-05-10T15:40:40.919Z"
   },
   {
    "duration": 109,
    "start_time": "2023-05-10T15:40:40.925Z"
   },
   {
    "duration": 33,
    "start_time": "2023-05-10T15:40:41.037Z"
   },
   {
    "duration": 20,
    "start_time": "2023-05-10T15:40:41.073Z"
   },
   {
    "duration": 15,
    "start_time": "2023-05-10T15:40:41.096Z"
   },
   {
    "duration": 8,
    "start_time": "2023-05-10T15:40:41.113Z"
   },
   {
    "duration": 10,
    "start_time": "2023-05-10T15:40:41.124Z"
   },
   {
    "duration": 309,
    "start_time": "2023-05-10T15:40:41.136Z"
   },
   {
    "duration": 7,
    "start_time": "2023-05-10T15:40:41.448Z"
   },
   {
    "duration": 10,
    "start_time": "2023-05-10T15:40:41.457Z"
   },
   {
    "duration": 22,
    "start_time": "2023-05-10T15:40:41.469Z"
   },
   {
    "duration": 10,
    "start_time": "2023-05-10T15:40:41.496Z"
   },
   {
    "duration": 10,
    "start_time": "2023-05-10T15:40:41.509Z"
   },
   {
    "duration": 664,
    "start_time": "2023-05-10T15:40:41.521Z"
   },
   {
    "duration": 168,
    "start_time": "2023-05-10T15:40:42.190Z"
   },
   {
    "duration": 9,
    "start_time": "2023-05-10T15:40:42.360Z"
   },
   {
    "duration": 25,
    "start_time": "2023-05-10T15:40:42.370Z"
   },
   {
    "duration": 17,
    "start_time": "2023-05-10T15:40:42.398Z"
   },
   {
    "duration": 220,
    "start_time": "2023-05-10T15:40:45.695Z"
   },
   {
    "duration": 202,
    "start_time": "2023-05-10T15:41:02.041Z"
   },
   {
    "duration": 186,
    "start_time": "2023-05-10T15:41:16.544Z"
   },
   {
    "duration": 178,
    "start_time": "2023-05-10T15:41:28.904Z"
   },
   {
    "duration": 12,
    "start_time": "2023-05-10T15:42:12.568Z"
   },
   {
    "duration": 304,
    "start_time": "2023-05-10T15:42:58.272Z"
   },
   {
    "duration": 220,
    "start_time": "2023-05-10T15:43:04.736Z"
   },
   {
    "duration": 278,
    "start_time": "2023-05-10T15:43:51.649Z"
   },
   {
    "duration": 258,
    "start_time": "2023-05-10T15:44:01.624Z"
   },
   {
    "duration": 225,
    "start_time": "2023-05-10T15:44:12.680Z"
   },
   {
    "duration": 200,
    "start_time": "2023-05-10T15:44:23.696Z"
   },
   {
    "duration": 182,
    "start_time": "2023-05-10T15:44:37.559Z"
   },
   {
    "duration": 17,
    "start_time": "2023-05-10T15:45:50.354Z"
   },
   {
    "duration": 4,
    "start_time": "2023-05-10T15:45:55.916Z"
   },
   {
    "duration": 141,
    "start_time": "2023-05-10T15:45:55.923Z"
   },
   {
    "duration": 31,
    "start_time": "2023-05-10T15:45:56.067Z"
   },
   {
    "duration": 37,
    "start_time": "2023-05-10T15:45:56.101Z"
   },
   {
    "duration": 34,
    "start_time": "2023-05-10T15:45:56.140Z"
   },
   {
    "duration": 18,
    "start_time": "2023-05-10T15:45:56.176Z"
   },
   {
    "duration": 33,
    "start_time": "2023-05-10T15:45:56.196Z"
   },
   {
    "duration": 300,
    "start_time": "2023-05-10T15:45:56.231Z"
   },
   {
    "duration": 9,
    "start_time": "2023-05-10T15:45:56.534Z"
   },
   {
    "duration": 52,
    "start_time": "2023-05-10T15:45:56.545Z"
   },
   {
    "duration": 51,
    "start_time": "2023-05-10T15:45:56.599Z"
   },
   {
    "duration": 39,
    "start_time": "2023-05-10T15:45:56.652Z"
   },
   {
    "duration": 17,
    "start_time": "2023-05-10T15:45:56.693Z"
   },
   {
    "duration": 599,
    "start_time": "2023-05-10T15:45:56.714Z"
   },
   {
    "duration": 163,
    "start_time": "2023-05-10T15:45:57.315Z"
   },
   {
    "duration": 15,
    "start_time": "2023-05-10T15:45:57.480Z"
   },
   {
    "duration": 33,
    "start_time": "2023-05-10T15:45:57.497Z"
   },
   {
    "duration": 62,
    "start_time": "2023-05-10T15:45:57.532Z"
   },
   {
    "duration": 187,
    "start_time": "2023-05-10T15:45:57.597Z"
   },
   {
    "duration": 14,
    "start_time": "2023-05-10T15:45:57.789Z"
   },
   {
    "duration": 215,
    "start_time": "2023-05-10T15:46:00.265Z"
   },
   {
    "duration": 2,
    "start_time": "2023-05-10T15:49:27.183Z"
   },
   {
    "duration": 105,
    "start_time": "2023-05-10T15:49:27.187Z"
   },
   {
    "duration": 29,
    "start_time": "2023-05-10T15:49:27.294Z"
   },
   {
    "duration": 8,
    "start_time": "2023-05-10T15:49:27.325Z"
   },
   {
    "duration": 23,
    "start_time": "2023-05-10T15:49:27.335Z"
   },
   {
    "duration": 29,
    "start_time": "2023-05-10T15:49:27.360Z"
   },
   {
    "duration": 8,
    "start_time": "2023-05-10T15:49:27.391Z"
   },
   {
    "duration": 279,
    "start_time": "2023-05-10T15:49:27.401Z"
   },
   {
    "duration": 10,
    "start_time": "2023-05-10T15:49:27.689Z"
   },
   {
    "duration": 23,
    "start_time": "2023-05-10T15:49:27.701Z"
   },
   {
    "duration": 6,
    "start_time": "2023-05-10T15:49:27.726Z"
   },
   {
    "duration": 11,
    "start_time": "2023-05-10T15:49:27.735Z"
   },
   {
    "duration": 21,
    "start_time": "2023-05-10T15:49:27.748Z"
   },
   {
    "duration": 541,
    "start_time": "2023-05-10T15:49:27.771Z"
   },
   {
    "duration": 153,
    "start_time": "2023-05-10T15:49:28.314Z"
   },
   {
    "duration": 20,
    "start_time": "2023-05-10T15:49:28.469Z"
   },
   {
    "duration": 21,
    "start_time": "2023-05-10T15:49:28.492Z"
   },
   {
    "duration": 28,
    "start_time": "2023-05-10T15:49:28.515Z"
   },
   {
    "duration": 192,
    "start_time": "2023-05-10T15:49:28.546Z"
   },
   {
    "duration": 14,
    "start_time": "2023-05-10T15:49:28.740Z"
   },
   {
    "duration": 273,
    "start_time": "2023-05-10T15:49:28.755Z"
   },
   {
    "duration": 213,
    "start_time": "2023-05-10T15:49:29.030Z"
   },
   {
    "duration": 11,
    "start_time": "2023-05-10T15:49:29.244Z"
   },
   {
    "duration": 320,
    "start_time": "2023-05-10T15:49:29.258Z"
   },
   {
    "duration": 10,
    "start_time": "2023-05-10T15:49:29.588Z"
   },
   {
    "duration": 317,
    "start_time": "2023-05-10T15:49:29.600Z"
   },
   {
    "duration": 16,
    "start_time": "2023-05-10T15:49:29.919Z"
   },
   {
    "duration": 42,
    "start_time": "2023-05-10T15:49:34.155Z"
   },
   {
    "duration": 13,
    "start_time": "2023-05-10T15:49:47.079Z"
   },
   {
    "duration": 18,
    "start_time": "2023-05-10T15:51:52.434Z"
   },
   {
    "duration": 13,
    "start_time": "2023-05-10T15:54:48.315Z"
   },
   {
    "duration": 582,
    "start_time": "2023-05-10T15:58:14.251Z"
   },
   {
    "duration": 73,
    "start_time": "2023-05-10T15:59:22.885Z"
   },
   {
    "duration": 105,
    "start_time": "2023-05-10T15:59:29.441Z"
   },
   {
    "duration": 91,
    "start_time": "2023-05-10T15:59:47.637Z"
   },
   {
    "duration": 102,
    "start_time": "2023-05-10T15:59:55.948Z"
   },
   {
    "duration": 101,
    "start_time": "2023-05-10T16:00:03.754Z"
   },
   {
    "duration": 658,
    "start_time": "2023-05-10T16:00:10.443Z"
   },
   {
    "duration": 75,
    "start_time": "2023-05-10T16:00:15.197Z"
   },
   {
    "duration": 674,
    "start_time": "2023-05-10T16:00:19.661Z"
   },
   {
    "duration": 610,
    "start_time": "2023-05-10T16:01:39.053Z"
   },
   {
    "duration": 418,
    "start_time": "2023-05-10T16:01:59.893Z"
   },
   {
    "duration": 10,
    "start_time": "2023-05-10T16:02:13.797Z"
   },
   {
    "duration": 404,
    "start_time": "2023-05-10T16:02:18.164Z"
   },
   {
    "duration": 94,
    "start_time": "2023-05-10T16:03:10.582Z"
   },
   {
    "duration": 545,
    "start_time": "2023-05-10T16:03:15.006Z"
   },
   {
    "duration": 417,
    "start_time": "2023-05-10T16:03:25.622Z"
   },
   {
    "duration": 458,
    "start_time": "2023-05-10T16:03:31.669Z"
   },
   {
    "duration": 442,
    "start_time": "2023-05-10T16:04:18.462Z"
   },
   {
    "duration": 563,
    "start_time": "2023-05-10T16:04:29.853Z"
   },
   {
    "duration": 391,
    "start_time": "2023-05-10T16:04:33.613Z"
   },
   {
    "duration": 455,
    "start_time": "2023-05-10T16:05:47.934Z"
   },
   {
    "duration": 570,
    "start_time": "2023-05-10T16:06:32.110Z"
   },
   {
    "duration": 473,
    "start_time": "2023-05-10T16:06:47.286Z"
   },
   {
    "duration": 477,
    "start_time": "2023-05-10T16:06:52.249Z"
   },
   {
    "duration": 458,
    "start_time": "2023-05-10T16:06:55.158Z"
   },
   {
    "duration": 615,
    "start_time": "2023-05-10T16:09:11.598Z"
   },
   {
    "duration": 582,
    "start_time": "2023-05-10T16:09:25.015Z"
   },
   {
    "duration": 510,
    "start_time": "2023-05-10T16:09:53.023Z"
   },
   {
    "duration": 18,
    "start_time": "2023-05-10T16:12:32.932Z"
   },
   {
    "duration": 24,
    "start_time": "2023-05-10T16:12:37.802Z"
   },
   {
    "duration": 37,
    "start_time": "2023-05-10T16:12:40.042Z"
   },
   {
    "duration": 22,
    "start_time": "2023-05-10T16:14:05.799Z"
   },
   {
    "duration": 24,
    "start_time": "2023-05-10T16:14:20.327Z"
   },
   {
    "duration": 34,
    "start_time": "2023-05-10T16:14:47.808Z"
   },
   {
    "duration": 613,
    "start_time": "2023-05-10T16:15:32.952Z"
   },
   {
    "duration": 692,
    "start_time": "2023-05-10T16:15:59.777Z"
   },
   {
    "duration": 50,
    "start_time": "2023-05-10T16:17:01.929Z"
   },
   {
    "duration": 38,
    "start_time": "2023-05-10T16:30:16.335Z"
   },
   {
    "duration": 49,
    "start_time": "2023-05-10T16:31:00.351Z"
   },
   {
    "duration": 31,
    "start_time": "2023-05-10T16:32:11.879Z"
   },
   {
    "duration": 48,
    "start_time": "2023-05-10T16:34:27.209Z"
   },
   {
    "duration": 39,
    "start_time": "2023-05-10T16:34:40.708Z"
   },
   {
    "duration": 10,
    "start_time": "2023-05-10T16:37:58.738Z"
   },
   {
    "duration": 11,
    "start_time": "2023-05-10T16:38:02.300Z"
   },
   {
    "duration": 0,
    "start_time": "2023-05-10T16:38:02.313Z"
   },
   {
    "duration": 0,
    "start_time": "2023-05-10T16:38:02.314Z"
   },
   {
    "duration": 0,
    "start_time": "2023-05-10T16:38:02.315Z"
   },
   {
    "duration": 0,
    "start_time": "2023-05-10T16:38:02.316Z"
   },
   {
    "duration": 0,
    "start_time": "2023-05-10T16:38:02.318Z"
   },
   {
    "duration": 0,
    "start_time": "2023-05-10T16:38:02.319Z"
   },
   {
    "duration": 3,
    "start_time": "2023-05-10T16:38:22.398Z"
   },
   {
    "duration": 89,
    "start_time": "2023-05-10T16:38:22.403Z"
   },
   {
    "duration": 40,
    "start_time": "2023-05-10T16:38:22.494Z"
   },
   {
    "duration": 8,
    "start_time": "2023-05-10T16:38:22.537Z"
   },
   {
    "duration": 8,
    "start_time": "2023-05-10T16:38:22.548Z"
   },
   {
    "duration": 34,
    "start_time": "2023-05-10T16:38:22.559Z"
   },
   {
    "duration": 10,
    "start_time": "2023-05-10T16:38:22.595Z"
   },
   {
    "duration": 282,
    "start_time": "2023-05-10T16:38:22.608Z"
   },
   {
    "duration": 8,
    "start_time": "2023-05-10T16:38:22.892Z"
   },
   {
    "duration": 36,
    "start_time": "2023-05-10T16:38:22.901Z"
   },
   {
    "duration": 16,
    "start_time": "2023-05-10T16:38:22.939Z"
   },
   {
    "duration": 8,
    "start_time": "2023-05-10T16:38:22.957Z"
   },
   {
    "duration": 10,
    "start_time": "2023-05-10T16:38:22.968Z"
   },
   {
    "duration": 521,
    "start_time": "2023-05-10T16:38:22.981Z"
   },
   {
    "duration": 160,
    "start_time": "2023-05-10T16:38:23.503Z"
   },
   {
    "duration": 9,
    "start_time": "2023-05-10T16:38:23.666Z"
   },
   {
    "duration": 17,
    "start_time": "2023-05-10T16:38:23.677Z"
   },
   {
    "duration": 26,
    "start_time": "2023-05-10T16:38:23.696Z"
   },
   {
    "duration": 193,
    "start_time": "2023-05-10T16:38:23.724Z"
   },
   {
    "duration": 17,
    "start_time": "2023-05-10T16:38:23.920Z"
   },
   {
    "duration": 209,
    "start_time": "2023-05-10T16:38:23.939Z"
   },
   {
    "duration": 365,
    "start_time": "2023-05-10T16:38:24.150Z"
   },
   {
    "duration": 10,
    "start_time": "2023-05-10T16:38:24.516Z"
   },
   {
    "duration": 321,
    "start_time": "2023-05-10T16:38:24.528Z"
   },
   {
    "duration": 10,
    "start_time": "2023-05-10T16:38:24.851Z"
   },
   {
    "duration": 338,
    "start_time": "2023-05-10T16:38:24.864Z"
   },
   {
    "duration": 9,
    "start_time": "2023-05-10T16:38:25.204Z"
   },
   {
    "duration": 35,
    "start_time": "2023-05-10T16:38:25.215Z"
   },
   {
    "duration": 54,
    "start_time": "2023-05-10T16:38:25.251Z"
   },
   {
    "duration": 20,
    "start_time": "2023-05-10T16:38:25.307Z"
   },
   {
    "duration": 484,
    "start_time": "2023-05-10T16:38:25.329Z"
   },
   {
    "duration": 11,
    "start_time": "2023-05-10T16:38:25.815Z"
   },
   {
    "duration": 11,
    "start_time": "2023-05-10T16:38:25.828Z"
   },
   {
    "duration": 479,
    "start_time": "2023-05-10T16:38:25.841Z"
   },
   {
    "duration": 11,
    "start_time": "2023-05-10T16:38:26.322Z"
   },
   {
    "duration": 30,
    "start_time": "2023-05-10T16:38:26.335Z"
   },
   {
    "duration": 57,
    "start_time": "2023-05-10T16:38:26.368Z"
   },
   {
    "duration": 194,
    "start_time": "2023-05-10T16:38:26.428Z"
   },
   {
    "duration": 6,
    "start_time": "2023-05-10T16:38:26.624Z"
   },
   {
    "duration": 545,
    "start_time": "2023-05-10T16:38:26.633Z"
   },
   {
    "duration": 29,
    "start_time": "2023-05-10T16:38:27.183Z"
   },
   {
    "duration": 521,
    "start_time": "2023-05-10T16:38:27.214Z"
   },
   {
    "duration": 6,
    "start_time": "2023-05-10T16:38:46.083Z"
   },
   {
    "duration": 7,
    "start_time": "2023-05-10T16:38:49.585Z"
   },
   {
    "duration": 17,
    "start_time": "2023-05-10T16:40:34.505Z"
   },
   {
    "duration": 5,
    "start_time": "2023-05-10T16:40:38.466Z"
   },
   {
    "duration": 7,
    "start_time": "2023-05-10T16:41:44.770Z"
   },
   {
    "duration": 7,
    "start_time": "2023-05-10T16:54:14.150Z"
   },
   {
    "duration": 193811,
    "start_time": "2023-05-10T16:55:05.254Z"
   },
   {
    "duration": 7,
    "start_time": "2023-05-10T17:10:25.055Z"
   },
   {
    "duration": 108,
    "start_time": "2023-05-10T17:10:39.305Z"
   },
   {
    "duration": 122,
    "start_time": "2023-05-10T17:11:50.657Z"
   },
   {
    "duration": 106,
    "start_time": "2023-05-10T17:12:21.304Z"
   },
   {
    "duration": 100,
    "start_time": "2023-05-10T17:12:23.175Z"
   },
   {
    "duration": 137,
    "start_time": "2023-05-10T17:12:24.887Z"
   },
   {
    "duration": 117,
    "start_time": "2023-05-10T17:12:26.655Z"
   },
   {
    "duration": 146,
    "start_time": "2023-05-10T17:15:00.345Z"
   },
   {
    "duration": 119,
    "start_time": "2023-05-10T17:19:20.919Z"
   },
   {
    "duration": 97,
    "start_time": "2023-05-10T17:20:57.182Z"
   },
   {
    "duration": 97,
    "start_time": "2023-05-10T17:21:01.151Z"
   },
   {
    "duration": 92,
    "start_time": "2023-05-10T17:21:05.718Z"
   },
   {
    "duration": 106,
    "start_time": "2023-05-10T17:21:12.518Z"
   },
   {
    "duration": 216,
    "start_time": "2023-05-10T17:21:32.764Z"
   },
   {
    "duration": 117,
    "start_time": "2023-05-10T17:21:36.767Z"
   },
   {
    "duration": 142,
    "start_time": "2023-05-10T17:21:49.950Z"
   },
   {
    "duration": 5,
    "start_time": "2023-05-10T17:22:06.014Z"
   },
   {
    "duration": 118,
    "start_time": "2023-05-10T17:22:09.791Z"
   },
   {
    "duration": 10,
    "start_time": "2023-05-10T17:23:42.120Z"
   },
   {
    "duration": 6,
    "start_time": "2023-05-10T17:24:10.631Z"
   },
   {
    "duration": 7,
    "start_time": "2023-05-10T17:24:21.205Z"
   },
   {
    "duration": 13,
    "start_time": "2023-05-10T17:24:27.766Z"
   },
   {
    "duration": 225,
    "start_time": "2023-05-10T17:24:39.989Z"
   },
   {
    "duration": 145,
    "start_time": "2023-05-10T17:25:18.709Z"
   },
   {
    "duration": 192,
    "start_time": "2023-05-10T17:27:41.622Z"
   },
   {
    "duration": 153,
    "start_time": "2023-05-10T17:32:15.359Z"
   },
   {
    "duration": 273,
    "start_time": "2023-05-10T17:33:50.600Z"
   },
   {
    "duration": 288,
    "start_time": "2023-05-10T17:34:51.079Z"
   },
   {
    "duration": 293,
    "start_time": "2023-05-10T17:36:06.032Z"
   },
   {
    "duration": 259,
    "start_time": "2023-05-10T17:36:19.567Z"
   },
   {
    "duration": 369,
    "start_time": "2023-05-10T17:36:40.495Z"
   },
   {
    "duration": 316,
    "start_time": "2023-05-10T17:36:53.672Z"
   },
   {
    "duration": 364,
    "start_time": "2023-05-10T17:39:13.889Z"
   },
   {
    "duration": 318,
    "start_time": "2023-05-10T17:43:31.511Z"
   },
   {
    "duration": 340,
    "start_time": "2023-05-10T17:43:40.320Z"
   },
   {
    "duration": 268,
    "start_time": "2023-05-10T17:44:14.746Z"
   },
   {
    "duration": 255,
    "start_time": "2023-05-10T17:44:20.863Z"
   },
   {
    "duration": 427,
    "start_time": "2023-05-10T17:45:33.215Z"
   },
   {
    "duration": 278,
    "start_time": "2023-05-10T17:45:39.399Z"
   },
   {
    "duration": 284,
    "start_time": "2023-05-10T17:46:36.383Z"
   },
   {
    "duration": 3,
    "start_time": "2023-05-10T17:51:42.649Z"
   },
   {
    "duration": 99,
    "start_time": "2023-05-10T17:51:42.658Z"
   },
   {
    "duration": 37,
    "start_time": "2023-05-10T17:51:42.759Z"
   },
   {
    "duration": 9,
    "start_time": "2023-05-10T17:51:42.798Z"
   },
   {
    "duration": 18,
    "start_time": "2023-05-10T17:51:42.809Z"
   },
   {
    "duration": 6,
    "start_time": "2023-05-10T17:51:42.829Z"
   },
   {
    "duration": 10,
    "start_time": "2023-05-10T17:51:42.837Z"
   },
   {
    "duration": 318,
    "start_time": "2023-05-10T17:51:42.849Z"
   },
   {
    "duration": 8,
    "start_time": "2023-05-10T17:51:43.168Z"
   },
   {
    "duration": 15,
    "start_time": "2023-05-10T17:51:43.178Z"
   },
   {
    "duration": 5,
    "start_time": "2023-05-10T17:51:43.197Z"
   },
   {
    "duration": 7,
    "start_time": "2023-05-10T17:51:43.204Z"
   },
   {
    "duration": 23,
    "start_time": "2023-05-10T17:51:43.213Z"
   },
   {
    "duration": 637,
    "start_time": "2023-05-10T17:51:43.238Z"
   },
   {
    "duration": 162,
    "start_time": "2023-05-10T17:51:43.878Z"
   },
   {
    "duration": 8,
    "start_time": "2023-05-10T17:51:44.043Z"
   },
   {
    "duration": 6,
    "start_time": "2023-05-10T17:51:44.054Z"
   },
   {
    "duration": 36,
    "start_time": "2023-05-10T17:51:44.062Z"
   },
   {
    "duration": 193,
    "start_time": "2023-05-10T17:51:44.101Z"
   },
   {
    "duration": 15,
    "start_time": "2023-05-10T17:51:44.296Z"
   },
   {
    "duration": 188,
    "start_time": "2023-05-10T17:51:44.313Z"
   },
   {
    "duration": 205,
    "start_time": "2023-05-10T17:51:44.504Z"
   },
   {
    "duration": 10,
    "start_time": "2023-05-10T17:51:44.711Z"
   },
   {
    "duration": 319,
    "start_time": "2023-05-10T17:51:44.724Z"
   },
   {
    "duration": 10,
    "start_time": "2023-05-10T17:51:45.045Z"
   },
   {
    "duration": 306,
    "start_time": "2023-05-10T17:51:45.057Z"
   },
   {
    "duration": 10,
    "start_time": "2023-05-10T17:51:45.364Z"
   },
   {
    "duration": 42,
    "start_time": "2023-05-10T17:51:45.376Z"
   },
   {
    "duration": 24,
    "start_time": "2023-05-10T17:51:45.422Z"
   },
   {
    "duration": 41,
    "start_time": "2023-05-10T17:51:45.448Z"
   },
   {
    "duration": 566,
    "start_time": "2023-05-10T17:51:45.491Z"
   },
   {
    "duration": 9,
    "start_time": "2023-05-10T17:51:46.058Z"
   },
   {
    "duration": 21,
    "start_time": "2023-05-10T17:51:46.069Z"
   },
   {
    "duration": 436,
    "start_time": "2023-05-10T17:51:46.092Z"
   },
   {
    "duration": 9,
    "start_time": "2023-05-10T17:51:46.530Z"
   },
   {
    "duration": 9,
    "start_time": "2023-05-10T17:51:46.541Z"
   },
   {
    "duration": 60,
    "start_time": "2023-05-10T17:51:46.552Z"
   },
   {
    "duration": 34,
    "start_time": "2023-05-10T17:51:46.614Z"
   },
   {
    "duration": 4,
    "start_time": "2023-05-10T17:51:46.650Z"
   },
   {
    "duration": 487,
    "start_time": "2023-05-10T17:51:46.656Z"
   },
   {
    "duration": 25,
    "start_time": "2023-05-10T17:51:47.145Z"
   },
   {
    "duration": 18,
    "start_time": "2023-05-10T17:51:47.171Z"
   },
   {
    "duration": 5,
    "start_time": "2023-05-10T17:51:47.191Z"
   },
   {
    "duration": 6,
    "start_time": "2023-05-10T17:51:47.198Z"
   },
   {
    "duration": 16,
    "start_time": "2023-05-10T17:51:47.206Z"
   },
   {
    "duration": 7,
    "start_time": "2023-05-10T17:51:47.224Z"
   },
   {
    "duration": 9,
    "start_time": "2023-05-10T17:51:47.233Z"
   },
   {
    "duration": 326,
    "start_time": "2023-05-10T17:51:47.243Z"
   },
   {
    "duration": 196,
    "start_time": "2023-05-10T17:51:50.182Z"
   },
   {
    "duration": 440,
    "start_time": "2023-05-11T06:41:21.924Z"
   },
   {
    "duration": 113,
    "start_time": "2023-05-11T06:41:22.366Z"
   },
   {
    "duration": 33,
    "start_time": "2023-05-11T06:41:22.482Z"
   },
   {
    "duration": 10,
    "start_time": "2023-05-11T06:41:22.518Z"
   },
   {
    "duration": 47,
    "start_time": "2023-05-11T06:41:22.530Z"
   },
   {
    "duration": 58,
    "start_time": "2023-05-11T06:41:22.579Z"
   },
   {
    "duration": 32,
    "start_time": "2023-05-11T06:41:22.640Z"
   },
   {
    "duration": 580,
    "start_time": "2023-05-11T06:41:22.674Z"
   },
   {
    "duration": 16,
    "start_time": "2023-05-11T06:41:23.256Z"
   },
   {
    "duration": 30,
    "start_time": "2023-05-11T06:41:23.275Z"
   },
   {
    "duration": 20,
    "start_time": "2023-05-11T06:41:23.307Z"
   },
   {
    "duration": 34,
    "start_time": "2023-05-11T06:41:23.329Z"
   },
   {
    "duration": 27,
    "start_time": "2023-05-11T06:41:23.365Z"
   },
   {
    "duration": 699,
    "start_time": "2023-05-11T06:41:23.394Z"
   },
   {
    "duration": 145,
    "start_time": "2023-05-11T06:41:24.096Z"
   },
   {
    "duration": 8,
    "start_time": "2023-05-11T06:41:24.243Z"
   },
   {
    "duration": 20,
    "start_time": "2023-05-11T06:41:24.253Z"
   },
   {
    "duration": 40,
    "start_time": "2023-05-11T06:41:24.275Z"
   },
   {
    "duration": 206,
    "start_time": "2023-05-11T06:41:24.317Z"
   },
   {
    "duration": 13,
    "start_time": "2023-05-11T06:41:24.524Z"
   },
   {
    "duration": 191,
    "start_time": "2023-05-11T06:41:24.539Z"
   },
   {
    "duration": 206,
    "start_time": "2023-05-11T06:41:24.733Z"
   },
   {
    "duration": 9,
    "start_time": "2023-05-11T06:41:24.941Z"
   },
   {
    "duration": 309,
    "start_time": "2023-05-11T06:41:24.951Z"
   },
   {
    "duration": 15,
    "start_time": "2023-05-11T06:41:25.262Z"
   },
   {
    "duration": 316,
    "start_time": "2023-05-11T06:41:25.279Z"
   },
   {
    "duration": 11,
    "start_time": "2023-05-11T06:41:25.598Z"
   },
   {
    "duration": 50,
    "start_time": "2023-05-11T06:41:25.614Z"
   },
   {
    "duration": 27,
    "start_time": "2023-05-11T06:41:25.665Z"
   },
   {
    "duration": 22,
    "start_time": "2023-05-11T06:41:25.694Z"
   },
   {
    "duration": 630,
    "start_time": "2023-05-11T06:41:25.718Z"
   },
   {
    "duration": 21,
    "start_time": "2023-05-11T06:41:26.350Z"
   },
   {
    "duration": 12,
    "start_time": "2023-05-11T06:41:26.373Z"
   },
   {
    "duration": 473,
    "start_time": "2023-05-11T06:41:26.387Z"
   },
   {
    "duration": 16,
    "start_time": "2023-05-11T06:41:26.862Z"
   },
   {
    "duration": 26,
    "start_time": "2023-05-11T06:41:26.880Z"
   },
   {
    "duration": 37,
    "start_time": "2023-05-11T06:41:26.908Z"
   },
   {
    "duration": 47,
    "start_time": "2023-05-11T06:41:26.947Z"
   },
   {
    "duration": 6,
    "start_time": "2023-05-11T06:41:26.996Z"
   },
   {
    "duration": 445,
    "start_time": "2023-05-11T06:41:27.004Z"
   },
   {
    "duration": 33,
    "start_time": "2023-05-11T06:41:27.451Z"
   },
   {
    "duration": 479,
    "start_time": "2023-05-11T06:41:27.486Z"
   },
   {
    "duration": 7,
    "start_time": "2023-05-11T06:41:27.966Z"
   },
   {
    "duration": 18,
    "start_time": "2023-05-11T06:41:27.975Z"
   },
   {
    "duration": 26,
    "start_time": "2023-05-11T06:41:27.995Z"
   },
   {
    "duration": 6,
    "start_time": "2023-05-11T06:41:28.023Z"
   },
   {
    "duration": 15,
    "start_time": "2023-05-11T06:41:28.031Z"
   },
   {
    "duration": 255,
    "start_time": "2023-05-11T06:41:28.048Z"
   },
   {
    "duration": 0,
    "start_time": "2023-05-11T06:41:28.305Z"
   },
   {
    "duration": 521,
    "start_time": "2023-05-11T06:43:25.367Z"
   },
   {
    "duration": 8,
    "start_time": "2023-05-11T06:47:49.538Z"
   },
   {
    "duration": 227,
    "start_time": "2023-05-11T06:49:03.731Z"
   },
   {
    "duration": 9,
    "start_time": "2023-05-11T06:50:31.848Z"
   },
   {
    "duration": 531,
    "start_time": "2023-05-11T10:14:39.857Z"
   },
   {
    "duration": 544,
    "start_time": "2023-05-11T10:14:40.395Z"
   },
   {
    "duration": 49,
    "start_time": "2023-05-11T10:14:40.941Z"
   },
   {
    "duration": 22,
    "start_time": "2023-05-11T10:14:40.992Z"
   },
   {
    "duration": 13,
    "start_time": "2023-05-11T10:14:41.016Z"
   },
   {
    "duration": 6,
    "start_time": "2023-05-11T10:14:41.031Z"
   },
   {
    "duration": 65,
    "start_time": "2023-05-11T10:14:41.038Z"
   },
   {
    "duration": 1025,
    "start_time": "2023-05-11T10:14:41.105Z"
   },
   {
    "duration": 21,
    "start_time": "2023-05-11T10:14:42.133Z"
   },
   {
    "duration": 60,
    "start_time": "2023-05-11T10:14:42.157Z"
   },
   {
    "duration": 6,
    "start_time": "2023-05-11T10:14:42.218Z"
   },
   {
    "duration": 8,
    "start_time": "2023-05-11T10:14:42.226Z"
   },
   {
    "duration": 10,
    "start_time": "2023-05-11T10:14:42.235Z"
   },
   {
    "duration": 955,
    "start_time": "2023-05-11T10:14:42.247Z"
   },
   {
    "duration": 219,
    "start_time": "2023-05-11T10:14:43.204Z"
   },
   {
    "duration": 25,
    "start_time": "2023-05-11T10:14:43.426Z"
   },
   {
    "duration": 11,
    "start_time": "2023-05-11T10:14:43.456Z"
   },
   {
    "duration": 64,
    "start_time": "2023-05-11T10:14:43.469Z"
   },
   {
    "duration": 302,
    "start_time": "2023-05-11T10:14:43.535Z"
   },
   {
    "duration": 41,
    "start_time": "2023-05-11T10:14:43.840Z"
   },
   {
    "duration": 250,
    "start_time": "2023-05-11T10:14:43.883Z"
   },
   {
    "duration": 277,
    "start_time": "2023-05-11T10:14:44.135Z"
   },
   {
    "duration": 16,
    "start_time": "2023-05-11T10:14:44.417Z"
   },
   {
    "duration": 522,
    "start_time": "2023-05-11T10:14:44.436Z"
   },
   {
    "duration": 11,
    "start_time": "2023-05-11T10:14:44.960Z"
   },
   {
    "duration": 444,
    "start_time": "2023-05-11T10:14:44.973Z"
   },
   {
    "duration": 10,
    "start_time": "2023-05-11T10:14:45.419Z"
   },
   {
    "duration": 89,
    "start_time": "2023-05-11T10:14:45.434Z"
   },
   {
    "duration": 33,
    "start_time": "2023-05-11T10:14:45.524Z"
   },
   {
    "duration": 32,
    "start_time": "2023-05-11T10:14:45.560Z"
   },
   {
    "duration": 713,
    "start_time": "2023-05-11T10:14:45.595Z"
   },
   {
    "duration": 11,
    "start_time": "2023-05-11T10:14:46.311Z"
   },
   {
    "duration": 32,
    "start_time": "2023-05-11T10:14:46.324Z"
   },
   {
    "duration": 630,
    "start_time": "2023-05-11T10:14:46.360Z"
   },
   {
    "duration": 22,
    "start_time": "2023-05-11T10:14:46.996Z"
   },
   {
    "duration": 11,
    "start_time": "2023-05-11T10:14:47.019Z"
   },
   {
    "duration": 56,
    "start_time": "2023-05-11T10:14:47.033Z"
   },
   {
    "duration": 73,
    "start_time": "2023-05-11T10:14:47.092Z"
   },
   {
    "duration": 5,
    "start_time": "2023-05-11T10:14:47.172Z"
   },
   {
    "duration": 760,
    "start_time": "2023-05-11T10:14:47.183Z"
   },
   {
    "duration": 38,
    "start_time": "2023-05-11T10:14:47.948Z"
   },
   {
    "duration": 51,
    "start_time": "2023-05-11T10:14:47.988Z"
   },
   {
    "duration": 623,
    "start_time": "2023-05-11T10:14:48.042Z"
   },
   {
    "duration": 10,
    "start_time": "2023-05-11T10:14:48.672Z"
   },
   {
    "duration": 52,
    "start_time": "2023-05-11T10:14:48.684Z"
   },
   {
    "duration": 76,
    "start_time": "2023-05-11T10:14:48.738Z"
   },
   {
    "duration": 20,
    "start_time": "2023-05-11T10:14:48.817Z"
   },
   {
    "duration": 83,
    "start_time": "2023-05-11T10:14:48.840Z"
   },
   {
    "duration": 17,
    "start_time": "2023-05-11T10:14:48.925Z"
   },
   {
    "duration": 385,
    "start_time": "2023-05-11T10:14:52.965Z"
   },
   {
    "duration": 576,
    "start_time": "2023-05-11T10:15:11.365Z"
   },
   {
    "duration": 12,
    "start_time": "2023-05-11T10:18:54.938Z"
   },
   {
    "duration": 8,
    "start_time": "2023-05-11T10:19:18.788Z"
   },
   {
    "duration": 12,
    "start_time": "2023-05-11T10:19:32.175Z"
   },
   {
    "duration": 4,
    "start_time": "2023-05-11T10:23:11.965Z"
   },
   {
    "duration": 206,
    "start_time": "2023-05-11T10:23:11.971Z"
   },
   {
    "duration": 40,
    "start_time": "2023-05-11T10:23:12.186Z"
   },
   {
    "duration": 7,
    "start_time": "2023-05-11T10:23:12.229Z"
   },
   {
    "duration": 91,
    "start_time": "2023-05-11T10:23:12.238Z"
   },
   {
    "duration": 7,
    "start_time": "2023-05-11T10:23:12.331Z"
   },
   {
    "duration": 97,
    "start_time": "2023-05-11T10:23:12.340Z"
   },
   {
    "duration": 511,
    "start_time": "2023-05-11T10:23:12.439Z"
   },
   {
    "duration": 12,
    "start_time": "2023-05-11T10:23:12.955Z"
   },
   {
    "duration": 74,
    "start_time": "2023-05-11T10:23:12.969Z"
   },
   {
    "duration": 172,
    "start_time": "2023-05-11T10:23:13.045Z"
   },
   {
    "duration": 27,
    "start_time": "2023-05-11T10:23:13.222Z"
   },
   {
    "duration": 93,
    "start_time": "2023-05-11T10:23:13.251Z"
   },
   {
    "duration": 793,
    "start_time": "2023-05-11T10:23:13.351Z"
   },
   {
    "duration": 270,
    "start_time": "2023-05-11T10:23:14.156Z"
   },
   {
    "duration": 16,
    "start_time": "2023-05-11T10:23:14.433Z"
   },
   {
    "duration": 87,
    "start_time": "2023-05-11T10:23:14.455Z"
   },
   {
    "duration": 117,
    "start_time": "2023-05-11T10:23:14.548Z"
   },
   {
    "duration": 378,
    "start_time": "2023-05-11T10:23:14.674Z"
   },
   {
    "duration": 20,
    "start_time": "2023-05-11T10:23:15.058Z"
   },
   {
    "duration": 420,
    "start_time": "2023-05-11T10:23:15.085Z"
   },
   {
    "duration": 296,
    "start_time": "2023-05-11T10:23:15.511Z"
   },
   {
    "duration": 12,
    "start_time": "2023-05-11T10:23:15.813Z"
   },
   {
    "duration": 595,
    "start_time": "2023-05-11T10:23:15.831Z"
   },
   {
    "duration": 14,
    "start_time": "2023-05-11T10:23:16.432Z"
   },
   {
    "duration": 528,
    "start_time": "2023-05-11T10:23:16.451Z"
   },
   {
    "duration": 17,
    "start_time": "2023-05-11T10:23:16.985Z"
   },
   {
    "duration": 133,
    "start_time": "2023-05-11T10:23:17.008Z"
   },
   {
    "duration": 180,
    "start_time": "2023-05-11T10:23:17.144Z"
   },
   {
    "duration": 57,
    "start_time": "2023-05-11T10:23:17.332Z"
   },
   {
    "duration": 810,
    "start_time": "2023-05-11T10:23:17.391Z"
   },
   {
    "duration": 10,
    "start_time": "2023-05-11T10:23:18.203Z"
   },
   {
    "duration": 61,
    "start_time": "2023-05-11T10:23:18.215Z"
   },
   {
    "duration": 760,
    "start_time": "2023-05-11T10:23:18.278Z"
   },
   {
    "duration": 45,
    "start_time": "2023-05-11T10:23:19.042Z"
   },
   {
    "duration": 61,
    "start_time": "2023-05-11T10:23:19.092Z"
   },
   {
    "duration": 163,
    "start_time": "2023-05-11T10:23:19.158Z"
   },
   {
    "duration": 69,
    "start_time": "2023-05-11T10:23:19.323Z"
   },
   {
    "duration": 12,
    "start_time": "2023-05-11T10:23:19.395Z"
   },
   {
    "duration": 859,
    "start_time": "2023-05-11T10:23:19.409Z"
   },
   {
    "duration": 39,
    "start_time": "2023-05-11T10:23:20.274Z"
   },
   {
    "duration": 119,
    "start_time": "2023-05-11T10:23:20.318Z"
   },
   {
    "duration": 10,
    "start_time": "2023-05-11T10:23:20.439Z"
   },
   {
    "duration": 6,
    "start_time": "2023-05-11T10:23:20.455Z"
   },
   {
    "duration": 75,
    "start_time": "2023-05-11T10:23:20.463Z"
   },
   {
    "duration": 45,
    "start_time": "2023-05-11T10:23:20.540Z"
   },
   {
    "duration": 50,
    "start_time": "2023-05-11T10:23:20.590Z"
   },
   {
    "duration": 514,
    "start_time": "2023-05-11T10:23:20.642Z"
   },
   {
    "duration": 231,
    "start_time": "2023-05-11T10:23:24.505Z"
   },
   {
    "duration": 23,
    "start_time": "2023-05-11T10:24:25.427Z"
   },
   {
    "duration": 25,
    "start_time": "2023-05-11T10:24:40.672Z"
   },
   {
    "duration": 404,
    "start_time": "2023-05-11T10:24:46.207Z"
   },
   {
    "duration": 289,
    "start_time": "2023-05-11T10:26:22.598Z"
   },
   {
    "duration": 25,
    "start_time": "2023-05-11T10:26:37.272Z"
   },
   {
    "duration": 253,
    "start_time": "2023-05-11T10:26:39.989Z"
   },
   {
    "duration": 24,
    "start_time": "2023-05-11T10:26:54.947Z"
   },
   {
    "duration": 263,
    "start_time": "2023-05-11T10:26:56.947Z"
   },
   {
    "duration": 3,
    "start_time": "2023-05-11T10:27:33.873Z"
   },
   {
    "duration": 161,
    "start_time": "2023-05-11T10:27:33.878Z"
   },
   {
    "duration": 46,
    "start_time": "2023-05-11T10:27:34.041Z"
   },
   {
    "duration": 25,
    "start_time": "2023-05-11T10:27:34.089Z"
   },
   {
    "duration": 11,
    "start_time": "2023-05-11T10:27:34.116Z"
   },
   {
    "duration": 11,
    "start_time": "2023-05-11T10:27:34.129Z"
   },
   {
    "duration": 31,
    "start_time": "2023-05-11T10:27:34.142Z"
   },
   {
    "duration": 370,
    "start_time": "2023-05-11T10:27:34.175Z"
   },
   {
    "duration": 13,
    "start_time": "2023-05-11T10:27:34.551Z"
   },
   {
    "duration": 46,
    "start_time": "2023-05-11T10:27:34.569Z"
   },
   {
    "duration": 5,
    "start_time": "2023-05-11T10:27:34.618Z"
   },
   {
    "duration": 15,
    "start_time": "2023-05-11T10:27:34.626Z"
   },
   {
    "duration": 28,
    "start_time": "2023-05-11T10:27:34.642Z"
   },
   {
    "duration": 668,
    "start_time": "2023-05-11T10:27:34.672Z"
   },
   {
    "duration": 190,
    "start_time": "2023-05-11T10:27:35.342Z"
   },
   {
    "duration": 31,
    "start_time": "2023-05-11T10:27:35.535Z"
   },
   {
    "duration": 67,
    "start_time": "2023-05-11T10:27:35.574Z"
   },
   {
    "duration": 74,
    "start_time": "2023-05-11T10:27:35.643Z"
   },
   {
    "duration": 290,
    "start_time": "2023-05-11T10:27:35.721Z"
   },
   {
    "duration": 17,
    "start_time": "2023-05-11T10:27:36.016Z"
   },
   {
    "duration": 346,
    "start_time": "2023-05-11T10:27:36.035Z"
   },
   {
    "duration": 250,
    "start_time": "2023-05-11T10:27:36.384Z"
   },
   {
    "duration": 26,
    "start_time": "2023-05-11T10:27:36.637Z"
   },
   {
    "duration": 466,
    "start_time": "2023-05-11T10:27:36.667Z"
   },
   {
    "duration": 21,
    "start_time": "2023-05-11T10:27:37.135Z"
   },
   {
    "duration": 379,
    "start_time": "2023-05-11T10:27:37.158Z"
   },
   {
    "duration": 20,
    "start_time": "2023-05-11T10:27:37.546Z"
   },
   {
    "duration": 81,
    "start_time": "2023-05-11T10:27:37.568Z"
   },
   {
    "duration": 47,
    "start_time": "2023-05-11T10:27:37.652Z"
   },
   {
    "duration": 44,
    "start_time": "2023-05-11T10:27:37.701Z"
   },
   {
    "duration": 725,
    "start_time": "2023-05-11T10:27:37.749Z"
   },
   {
    "duration": 19,
    "start_time": "2023-05-11T10:27:38.476Z"
   },
   {
    "duration": 15,
    "start_time": "2023-05-11T10:27:38.506Z"
   },
   {
    "duration": 751,
    "start_time": "2023-05-11T10:27:38.524Z"
   },
   {
    "duration": 12,
    "start_time": "2023-05-11T10:27:39.277Z"
   },
   {
    "duration": 35,
    "start_time": "2023-05-11T10:27:39.303Z"
   },
   {
    "duration": 119,
    "start_time": "2023-05-11T10:27:39.340Z"
   },
   {
    "duration": 62,
    "start_time": "2023-05-11T10:27:39.461Z"
   },
   {
    "duration": 11,
    "start_time": "2023-05-11T10:27:39.525Z"
   },
   {
    "duration": 784,
    "start_time": "2023-05-11T10:27:39.538Z"
   },
   {
    "duration": 58,
    "start_time": "2023-05-11T10:27:40.324Z"
   },
   {
    "duration": 13,
    "start_time": "2023-05-11T10:27:40.384Z"
   },
   {
    "duration": 37,
    "start_time": "2023-05-11T10:27:40.399Z"
   },
   {
    "duration": 66,
    "start_time": "2023-05-11T10:27:40.442Z"
   },
   {
    "duration": 17,
    "start_time": "2023-05-11T10:27:40.512Z"
   },
   {
    "duration": 46,
    "start_time": "2023-05-11T10:27:40.531Z"
   },
   {
    "duration": 61,
    "start_time": "2023-05-11T10:27:40.578Z"
   },
   {
    "duration": 471,
    "start_time": "2023-05-11T10:27:40.641Z"
   },
   {
    "duration": 203,
    "start_time": "2023-05-11T10:27:41.116Z"
   },
   {
    "duration": 474,
    "start_time": "2023-05-11T18:29:38.439Z"
   },
   {
    "duration": 139,
    "start_time": "2023-05-11T18:29:38.916Z"
   },
   {
    "duration": 42,
    "start_time": "2023-05-11T18:29:39.057Z"
   },
   {
    "duration": 22,
    "start_time": "2023-05-11T18:29:39.104Z"
   },
   {
    "duration": 25,
    "start_time": "2023-05-11T18:29:39.128Z"
   },
   {
    "duration": 13,
    "start_time": "2023-05-11T18:29:39.156Z"
   },
   {
    "duration": 49,
    "start_time": "2023-05-11T18:29:39.171Z"
   },
   {
    "duration": 613,
    "start_time": "2023-05-11T18:29:39.222Z"
   },
   {
    "duration": 8,
    "start_time": "2023-05-11T18:29:39.837Z"
   },
   {
    "duration": 31,
    "start_time": "2023-05-11T18:29:39.849Z"
   },
   {
    "duration": 32,
    "start_time": "2023-05-11T18:29:39.882Z"
   },
   {
    "duration": 8,
    "start_time": "2023-05-11T18:29:39.916Z"
   },
   {
    "duration": 12,
    "start_time": "2023-05-11T18:29:39.925Z"
   },
   {
    "duration": 772,
    "start_time": "2023-05-11T18:29:39.938Z"
   },
   {
    "duration": 180,
    "start_time": "2023-05-11T18:29:40.715Z"
   },
   {
    "duration": 18,
    "start_time": "2023-05-11T18:29:40.901Z"
   },
   {
    "duration": 24,
    "start_time": "2023-05-11T18:29:40.921Z"
   },
   {
    "duration": 39,
    "start_time": "2023-05-11T18:29:40.948Z"
   },
   {
    "duration": 244,
    "start_time": "2023-05-11T18:29:40.989Z"
   },
   {
    "duration": 21,
    "start_time": "2023-05-11T18:29:41.236Z"
   },
   {
    "duration": 215,
    "start_time": "2023-05-11T18:29:41.272Z"
   },
   {
    "duration": 224,
    "start_time": "2023-05-11T18:29:41.489Z"
   },
   {
    "duration": 11,
    "start_time": "2023-05-11T18:29:41.715Z"
   },
   {
    "duration": 372,
    "start_time": "2023-05-11T18:29:41.728Z"
   },
   {
    "duration": 20,
    "start_time": "2023-05-11T18:29:42.106Z"
   },
   {
    "duration": 420,
    "start_time": "2023-05-11T18:29:42.128Z"
   },
   {
    "duration": 10,
    "start_time": "2023-05-11T18:29:42.550Z"
   },
   {
    "duration": 48,
    "start_time": "2023-05-11T18:29:42.575Z"
   },
   {
    "duration": 26,
    "start_time": "2023-05-11T18:29:42.625Z"
   },
   {
    "duration": 43,
    "start_time": "2023-05-11T18:29:42.678Z"
   },
   {
    "duration": 664,
    "start_time": "2023-05-11T18:29:42.723Z"
   },
   {
    "duration": 22,
    "start_time": "2023-05-11T18:29:43.397Z"
   },
   {
    "duration": 9,
    "start_time": "2023-05-11T18:29:43.421Z"
   },
   {
    "duration": 526,
    "start_time": "2023-05-11T18:29:43.432Z"
   },
   {
    "duration": 22,
    "start_time": "2023-05-11T18:29:43.959Z"
   },
   {
    "duration": 19,
    "start_time": "2023-05-11T18:29:43.997Z"
   },
   {
    "duration": 40,
    "start_time": "2023-05-11T18:29:44.018Z"
   },
   {
    "duration": 52,
    "start_time": "2023-05-11T18:29:44.061Z"
   },
   {
    "duration": 10,
    "start_time": "2023-05-11T18:29:44.116Z"
   },
   {
    "duration": 552,
    "start_time": "2023-05-11T18:29:44.129Z"
   },
   {
    "duration": 48,
    "start_time": "2023-05-11T18:29:44.683Z"
   },
   {
    "duration": 21,
    "start_time": "2023-05-11T18:29:44.734Z"
   },
   {
    "duration": 476,
    "start_time": "2023-05-11T18:29:44.758Z"
   },
   {
    "duration": 6,
    "start_time": "2023-05-11T18:29:45.236Z"
   },
   {
    "duration": 10,
    "start_time": "2023-05-11T18:29:45.244Z"
   },
   {
    "duration": 15,
    "start_time": "2023-05-11T18:29:45.285Z"
   },
   {
    "duration": 149,
    "start_time": "2023-05-11T18:29:45.303Z"
   },
   {
    "duration": 0,
    "start_time": "2023-05-11T18:29:45.453Z"
   },
   {
    "duration": 0,
    "start_time": "2023-05-11T18:29:45.454Z"
   },
   {
    "duration": 112,
    "start_time": "2023-05-11T18:31:50.069Z"
   },
   {
    "duration": 205,
    "start_time": "2023-05-11T18:31:55.012Z"
   },
   {
    "duration": 303,
    "start_time": "2023-05-11T18:32:02.399Z"
   },
   {
    "duration": 3,
    "start_time": "2023-05-11T18:33:53.520Z"
   },
   {
    "duration": 305,
    "start_time": "2023-05-11T18:35:03.518Z"
   },
   {
    "duration": 114,
    "start_time": "2023-05-11T18:35:36.826Z"
   },
   {
    "duration": 84,
    "start_time": "2023-05-11T18:36:31.287Z"
   },
   {
    "duration": 9,
    "start_time": "2023-05-11T20:15:50.253Z"
   },
   {
    "duration": 3,
    "start_time": "2023-05-11T20:15:56.034Z"
   }
  ],
  "kernelspec": {
   "display_name": "Python 3 (ipykernel)",
   "language": "python",
   "name": "python3"
  },
  "language_info": {
   "codemirror_mode": {
    "name": "ipython",
    "version": 3
   },
   "file_extension": ".py",
   "mimetype": "text/x-python",
   "name": "python",
   "nbconvert_exporter": "python",
   "pygments_lexer": "ipython3",
   "version": "3.10.9"
  },
  "toc": {
   "base_numbering": 1,
   "nav_menu": {},
   "number_sections": true,
   "sideBar": true,
   "skip_h1_title": true,
   "title_cell": "Table of Contents",
   "title_sidebar": "Contents",
   "toc_cell": false,
   "toc_position": {},
   "toc_section_display": true,
   "toc_window_display": false
  }
 },
 "nbformat": 4,
 "nbformat_minor": 5
}
