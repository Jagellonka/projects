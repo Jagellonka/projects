{
 "cells": [
  {
   "cell_type": "markdown",
   "metadata": {},
   "source": [
    "# Выбор локации для скважины"
   ]
  },
  {
   "cell_type": "markdown",
   "metadata": {},
   "source": [
    "Допустим, вы работаете в добывающей компании «ГлавРосГосНефть». Нужно решить, где бурить новую скважину.\n",
    "\n",
    "Вам предоставлены пробы нефти в трёх регионах: в каждом 10 000 месторождений, где измерили качество нефти и объём её запасов. Постройте модель машинного обучения, которая поможет определить регион, где добыча принесёт наибольшую прибыль. Проанализируйте возможную прибыль и риски техникой *Bootstrap.*\n",
    "\n",
    "Шаги для выбора локации:\n",
    "\n",
    "- В избранном регионе ищут месторождения, для каждого определяют значения признаков;\n",
    "- Строят модель и оценивают объём запасов;\n",
    "- Выбирают месторождения с самым высокими оценками значений. Количество месторождений зависит от бюджета компании и стоимости разработки одной скважины;\n",
    "- Прибыль равна суммарной прибыли отобранных месторождений."
   ]
  },
  {
   "cell_type": "markdown",
   "metadata": {},
   "source": [
    "## Загрузка и подготовка данных"
   ]
  },
  {
   "cell_type": "code",
   "execution_count": 1,
   "metadata": {},
   "outputs": [
    {
     "name": "stdout",
     "output_type": "stream",
     "text": [
      "Requirement already satisfied: pandas_profiling in /opt/conda/lib/python3.9/site-packages (3.6.6)\n",
      "Requirement already satisfied: ydata-profiling in /opt/conda/lib/python3.9/site-packages (from pandas_profiling) (4.3.1)\n",
      "Requirement already satisfied: multimethod<2,>=1.4 in /opt/conda/lib/python3.9/site-packages (from ydata-profiling->pandas_profiling) (1.9.1)\n",
      "Requirement already satisfied: jinja2<3.2,>=2.11.1 in /opt/conda/lib/python3.9/site-packages (from ydata-profiling->pandas_profiling) (3.0.1)\n",
      "Requirement already satisfied: phik<0.13,>=0.11.1 in /opt/conda/lib/python3.9/site-packages (from ydata-profiling->pandas_profiling) (0.12.3)\n",
      "Requirement already satisfied: visions[type_image_path]==0.7.5 in /opt/conda/lib/python3.9/site-packages (from ydata-profiling->pandas_profiling) (0.7.5)\n",
      "Requirement already satisfied: typeguard<3,>=2.13.2 in /opt/conda/lib/python3.9/site-packages (from ydata-profiling->pandas_profiling) (2.13.3)\n",
      "Requirement already satisfied: dacite>=1.8 in /opt/conda/lib/python3.9/site-packages (from ydata-profiling->pandas_profiling) (1.8.1)\n",
      "Requirement already satisfied: htmlmin==0.1.12 in /opt/conda/lib/python3.9/site-packages (from ydata-profiling->pandas_profiling) (0.1.12)\n",
      "Requirement already satisfied: pandas!=1.4.0,<2.1,>1.1 in /opt/conda/lib/python3.9/site-packages (from ydata-profiling->pandas_profiling) (1.2.4)\n",
      "Requirement already satisfied: wordcloud>=1.9.1 in /opt/conda/lib/python3.9/site-packages (from ydata-profiling->pandas_profiling) (1.9.2)\n",
      "Requirement already satisfied: numpy<1.24,>=1.16.0 in /opt/conda/lib/python3.9/site-packages (from ydata-profiling->pandas_profiling) (1.21.1)\n",
      "Requirement already satisfied: statsmodels<1,>=0.13.2 in /opt/conda/lib/python3.9/site-packages (from ydata-profiling->pandas_profiling) (0.13.2)\n",
      "Requirement already satisfied: scipy<1.11,>=1.4.1 in /opt/conda/lib/python3.9/site-packages (from ydata-profiling->pandas_profiling) (1.9.1)\n",
      "Requirement already satisfied: pydantic<2,>=1.8.1 in /opt/conda/lib/python3.9/site-packages (from ydata-profiling->pandas_profiling) (1.8.2)\n",
      "Requirement already satisfied: tqdm<5,>=4.48.2 in /opt/conda/lib/python3.9/site-packages (from ydata-profiling->pandas_profiling) (4.61.2)\n",
      "Requirement already satisfied: requests<3,>=2.24.0 in /opt/conda/lib/python3.9/site-packages (from ydata-profiling->pandas_profiling) (2.25.1)\n",
      "Requirement already satisfied: seaborn<0.13,>=0.10.1 in /opt/conda/lib/python3.9/site-packages (from ydata-profiling->pandas_profiling) (0.11.1)\n",
      "Requirement already satisfied: PyYAML<6.1,>=5.0.0 in /opt/conda/lib/python3.9/site-packages (from ydata-profiling->pandas_profiling) (6.0)\n",
      "Requirement already satisfied: matplotlib<4,>=3.2 in /opt/conda/lib/python3.9/site-packages (from ydata-profiling->pandas_profiling) (3.3.4)\n",
      "Requirement already satisfied: imagehash==4.3.1 in /opt/conda/lib/python3.9/site-packages (from ydata-profiling->pandas_profiling) (4.3.1)\n",
      "Requirement already satisfied: PyWavelets in /opt/conda/lib/python3.9/site-packages (from imagehash==4.3.1->ydata-profiling->pandas_profiling) (1.4.1)\n",
      "Requirement already satisfied: pillow in /opt/conda/lib/python3.9/site-packages (from imagehash==4.3.1->ydata-profiling->pandas_profiling) (8.4.0)\n",
      "Requirement already satisfied: tangled-up-in-unicode>=0.0.4 in /opt/conda/lib/python3.9/site-packages (from visions[type_image_path]==0.7.5->ydata-profiling->pandas_profiling) (0.2.0)\n",
      "Requirement already satisfied: networkx>=2.4 in /opt/conda/lib/python3.9/site-packages (from visions[type_image_path]==0.7.5->ydata-profiling->pandas_profiling) (3.1)\n",
      "Requirement already satisfied: attrs>=19.3.0 in /opt/conda/lib/python3.9/site-packages (from visions[type_image_path]==0.7.5->ydata-profiling->pandas_profiling) (21.2.0)\n",
      "Requirement already satisfied: MarkupSafe>=2.0 in /opt/conda/lib/python3.9/site-packages (from jinja2<3.2,>=2.11.1->ydata-profiling->pandas_profiling) (2.1.1)\n",
      "Requirement already satisfied: cycler>=0.10 in /opt/conda/lib/python3.9/site-packages (from matplotlib<4,>=3.2->ydata-profiling->pandas_profiling) (0.11.0)\n",
      "Requirement already satisfied: python-dateutil>=2.1 in /opt/conda/lib/python3.9/site-packages (from matplotlib<4,>=3.2->ydata-profiling->pandas_profiling) (2.8.1)\n",
      "Requirement already satisfied: kiwisolver>=1.0.1 in /opt/conda/lib/python3.9/site-packages (from matplotlib<4,>=3.2->ydata-profiling->pandas_profiling) (1.4.4)\n",
      "Requirement already satisfied: pyparsing!=2.0.4,!=2.1.2,!=2.1.6,>=2.0.3 in /opt/conda/lib/python3.9/site-packages (from matplotlib<4,>=3.2->ydata-profiling->pandas_profiling) (2.4.7)\n",
      "Requirement already satisfied: pytz>=2017.3 in /opt/conda/lib/python3.9/site-packages (from pandas!=1.4.0,<2.1,>1.1->ydata-profiling->pandas_profiling) (2021.1)\n",
      "Requirement already satisfied: joblib>=0.14.1 in /opt/conda/lib/python3.9/site-packages (from phik<0.13,>=0.11.1->ydata-profiling->pandas_profiling) (1.1.0)\n",
      "Requirement already satisfied: typing-extensions>=3.7.4.3 in /opt/conda/lib/python3.9/site-packages (from pydantic<2,>=1.8.1->ydata-profiling->pandas_profiling) (4.3.0)\n",
      "Requirement already satisfied: six>=1.5 in /opt/conda/lib/python3.9/site-packages (from python-dateutil>=2.1->matplotlib<4,>=3.2->ydata-profiling->pandas_profiling) (1.16.0)\n",
      "Requirement already satisfied: certifi>=2017.4.17 in /opt/conda/lib/python3.9/site-packages (from requests<3,>=2.24.0->ydata-profiling->pandas_profiling) (2022.6.15)\n",
      "Requirement already satisfied: idna<3,>=2.5 in /opt/conda/lib/python3.9/site-packages (from requests<3,>=2.24.0->ydata-profiling->pandas_profiling) (2.10)\n",
      "Requirement already satisfied: chardet<5,>=3.0.2 in /opt/conda/lib/python3.9/site-packages (from requests<3,>=2.24.0->ydata-profiling->pandas_profiling) (4.0.0)\n",
      "Requirement already satisfied: urllib3<1.27,>=1.21.1 in /opt/conda/lib/python3.9/site-packages (from requests<3,>=2.24.0->ydata-profiling->pandas_profiling) (1.26.6)\n",
      "Requirement already satisfied: packaging>=21.3 in /opt/conda/lib/python3.9/site-packages (from statsmodels<1,>=0.13.2->ydata-profiling->pandas_profiling) (21.3)\n",
      "Requirement already satisfied: patsy>=0.5.2 in /opt/conda/lib/python3.9/site-packages (from statsmodels<1,>=0.13.2->ydata-profiling->pandas_profiling) (0.5.2)\n"
     ]
    },
    {
     "name": "stderr",
     "output_type": "stream",
     "text": [
      "/tmp/ipykernel_461/487621852.py:3: DeprecationWarning: `import pandas_profiling` is going to be deprecated by April 1st. Please use `import ydata_profiling` instead.\n",
      "  import pandas_profiling # библиотека Pandas_Profiling\n"
     ]
    }
   ],
   "source": [
    "!pip install pandas_profiling\n",
    "import pandas as pd # библиотека Pandas\n",
    "import pandas_profiling # библиотека Pandas_Profiling\n",
    "from sklearn.linear_model import LinearRegression # модель линейной регрессии\n",
    "from sklearn.preprocessing import StandardScaler # модуль для стандартизации признаков\n",
    "from sklearn.model_selection import train_test_split # модуль для разбиения на обучающую и валидационную выборки\n",
    "from sklearn.metrics import mean_squared_error # среднеквадратичное отклонение\n",
    "from sklearn.preprocessing import PolynomialFeatures # полином для признаков\n",
    "import numpy as np # библиотека NumPy"
   ]
  },
  {
   "cell_type": "code",
   "execution_count": 2,
   "metadata": {},
   "outputs": [
    {
     "data": {
      "text/html": [
       "<style>.container { width:90% !important; }</style>"
      ],
      "text/plain": [
       "<IPython.core.display.HTML object>"
      ]
     },
     "metadata": {},
     "output_type": "display_data"
    }
   ],
   "source": [
    "from IPython.core.display import display, HTML\n",
    "display(HTML(\"<style>.container { width:90% !important; }</style>\"))"
   ]
  },
  {
   "cell_type": "code",
   "execution_count": 3,
   "metadata": {},
   "outputs": [],
   "source": [
    "data_0 = pd.read_csv('/datasets/geo_data_0.csv')\n",
    "data_1 = pd.read_csv('/datasets/geo_data_1.csv')\n",
    "data_2 = pd.read_csv('/datasets/geo_data_2.csv')"
   ]
  },
  {
   "cell_type": "markdown",
   "metadata": {},
   "source": [
    "Данные содержат следующую информацию:\n",
    "- `id` — уникальный идентификатор скважины;\n",
    "- `f0`, `f1`, `f2` — три признака точек;\n",
    "- `product` — объём запасов в скважине (тыс. баррелей)."
   ]
  },
  {
   "cell_type": "markdown",
   "metadata": {},
   "source": [
    "Проверим, датафрейм регоина №0."
   ]
  },
  {
   "cell_type": "code",
   "execution_count": 4,
   "metadata": {},
   "outputs": [],
   "source": [
    "pandas_profiling.ProfileReport(data_0)"
   ]
  },
  {
   "cell_type": "markdown",
   "metadata": {},
   "source": [
    "Из важного можно заметить, что 10 полей `id` не являются уникальными, дубликаты нужно удалить."
   ]
  },
  {
   "cell_type": "code",
   "execution_count": 5,
   "metadata": {
    "scrolled": true
   },
   "outputs": [],
   "source": [
    "data_0.drop_duplicates(subset='id', inplace=True)\n",
    "data_0.reset_index(inplace=True)"
   ]
  },
  {
   "cell_type": "markdown",
   "metadata": {},
   "source": [
    "Проверим регион №1."
   ]
  },
  {
   "cell_type": "code",
   "execution_count": 6,
   "metadata": {
    "scrolled": false
   },
   "outputs": [],
   "source": [
    "pandas_profiling.ProfileReport(data_1)"
   ]
  },
  {
   "cell_type": "markdown",
   "metadata": {},
   "source": [
    "В данном датасете также можно увидеть неуникальные значения `id`, кроме того, 8.3% данных содержат нули в значении `product`. Возможно это ошибка, во всяком случае заполнить их правильно не получится, придется нулевые значения удалить."
   ]
  },
  {
   "cell_type": "code",
   "execution_count": 7,
   "metadata": {},
   "outputs": [],
   "source": [
    "data_1.drop_duplicates(subset='id', inplace=True)\n",
    "data_1 = data_1.query('product != 0').reset_index()"
   ]
  },
  {
   "cell_type": "markdown",
   "metadata": {},
   "source": [
    "Проверим регион №2."
   ]
  },
  {
   "cell_type": "code",
   "execution_count": 8,
   "metadata": {
    "scrolled": true
   },
   "outputs": [],
   "source": [
    "pandas_profiling.ProfileReport(data_2)"
   ]
  },
  {
   "cell_type": "markdown",
   "metadata": {},
   "source": [
    "Здесь тоже есть неуникальные значения `id`, удалим их."
   ]
  },
  {
   "cell_type": "code",
   "execution_count": 9,
   "metadata": {},
   "outputs": [],
   "source": [
    "data_2.drop_duplicates(subset='id', inplace=True)\n",
    "data_2.reset_index(inplace=True)"
   ]
  },
  {
   "cell_type": "markdown",
   "metadata": {},
   "source": [
    "## Обучение и проверка модели"
   ]
  },
  {
   "cell_type": "markdown",
   "metadata": {},
   "source": [
    "Для каждого региона следует обучить отдельные модели, т.к. признаки, влияющие на запас сырья могут отличаться своим вкладом в целевой признак. Начнем с нулевого региона."
   ]
  },
  {
   "cell_type": "markdown",
   "metadata": {},
   "source": [
    "### Регион `№0`"
   ]
  },
  {
   "cell_type": "markdown",
   "metadata": {},
   "source": [
    "Проверим корреляцию признаков."
   ]
  },
  {
   "cell_type": "code",
   "execution_count": 10,
   "metadata": {
    "scrolled": true
   },
   "outputs": [
    {
     "data": {
      "text/html": [
       "<div>\n",
       "<style scoped>\n",
       "    .dataframe tbody tr th:only-of-type {\n",
       "        vertical-align: middle;\n",
       "    }\n",
       "\n",
       "    .dataframe tbody tr th {\n",
       "        vertical-align: top;\n",
       "    }\n",
       "\n",
       "    .dataframe thead th {\n",
       "        text-align: right;\n",
       "    }\n",
       "</style>\n",
       "<table border=\"1\" class=\"dataframe\">\n",
       "  <thead>\n",
       "    <tr style=\"text-align: right;\">\n",
       "      <th></th>\n",
       "      <th>index</th>\n",
       "      <th>f0</th>\n",
       "      <th>f1</th>\n",
       "      <th>f2</th>\n",
       "      <th>product</th>\n",
       "    </tr>\n",
       "  </thead>\n",
       "  <tbody>\n",
       "    <tr>\n",
       "      <th>index</th>\n",
       "      <td>1.000000</td>\n",
       "      <td>0.003416</td>\n",
       "      <td>0.006862</td>\n",
       "      <td>0.000071</td>\n",
       "      <td>-0.000604</td>\n",
       "    </tr>\n",
       "    <tr>\n",
       "      <th>f0</th>\n",
       "      <td>0.003416</td>\n",
       "      <td>1.000000</td>\n",
       "      <td>-0.440717</td>\n",
       "      <td>-0.003211</td>\n",
       "      <td>0.143504</td>\n",
       "    </tr>\n",
       "    <tr>\n",
       "      <th>f1</th>\n",
       "      <td>0.006862</td>\n",
       "      <td>-0.440717</td>\n",
       "      <td>1.000000</td>\n",
       "      <td>0.001764</td>\n",
       "      <td>-0.192351</td>\n",
       "    </tr>\n",
       "    <tr>\n",
       "      <th>f2</th>\n",
       "      <td>0.000071</td>\n",
       "      <td>-0.003211</td>\n",
       "      <td>0.001764</td>\n",
       "      <td>1.000000</td>\n",
       "      <td>0.483631</td>\n",
       "    </tr>\n",
       "    <tr>\n",
       "      <th>product</th>\n",
       "      <td>-0.000604</td>\n",
       "      <td>0.143504</td>\n",
       "      <td>-0.192351</td>\n",
       "      <td>0.483631</td>\n",
       "      <td>1.000000</td>\n",
       "    </tr>\n",
       "  </tbody>\n",
       "</table>\n",
       "</div>"
      ],
      "text/plain": [
       "            index        f0        f1        f2   product\n",
       "index    1.000000  0.003416  0.006862  0.000071 -0.000604\n",
       "f0       0.003416  1.000000 -0.440717 -0.003211  0.143504\n",
       "f1       0.006862 -0.440717  1.000000  0.001764 -0.192351\n",
       "f2       0.000071 -0.003211  0.001764  1.000000  0.483631\n",
       "product -0.000604  0.143504 -0.192351  0.483631  1.000000"
      ]
     },
     "execution_count": 10,
     "metadata": {},
     "output_type": "execute_result"
    }
   ],
   "source": [
    "data_0.corr()"
   ]
  },
  {
   "cell_type": "markdown",
   "metadata": {},
   "source": [
    "Наибольший вклад вносит признак `f2`, но остальные тоже оказывают сильное влияние, обучим модель на основе всех признаков (кроме `id`)."
   ]
  },
  {
   "cell_type": "code",
   "execution_count": 11,
   "metadata": {},
   "outputs": [],
   "source": [
    "features_0 = data_0.drop(columns=['product', 'id'])\n",
    "target_0 = data_0['product']\n",
    "X_train_0, X_test_0, y_train_0, y_test_0 = train_test_split(features_0, target_0, test_size=0.25, random_state=75)"
   ]
  },
  {
   "cell_type": "markdown",
   "metadata": {},
   "source": [
    "Стандартизируем данные."
   ]
  },
  {
   "cell_type": "code",
   "execution_count": 12,
   "metadata": {},
   "outputs": [],
   "source": [
    "scaler_0 = StandardScaler()\n",
    "scaler_0.fit(features_0)\n",
    "X_train_0 = scaler_0.transform(X_train_0)\n",
    "X_test_0 = scaler_0.transform(X_test_0)"
   ]
  },
  {
   "cell_type": "code",
   "execution_count": 13,
   "metadata": {},
   "outputs": [
    {
     "name": "stdout",
     "output_type": "stream",
     "text": [
      "Метрика RMSE: 37.85469032271623\n"
     ]
    }
   ],
   "source": [
    "model_0 = LinearRegression()\n",
    "model_0.fit(X_train_0, y_train_0)\n",
    "pred_0 = model_0.predict(X_test_0)\n",
    "print('Метрика RMSE:', mean_squared_error(y_test_0, pred_0)**0.5)"
   ]
  },
  {
   "cell_type": "markdown",
   "metadata": {},
   "source": [
    "Получилось довольно большое отклонение, сравним модель с константной."
   ]
  },
  {
   "cell_type": "code",
   "execution_count": 14,
   "metadata": {
    "scrolled": true
   },
   "outputs": [
    {
     "name": "stdout",
     "output_type": "stream",
     "text": [
      "Метрика RMSE для константной модели: 44.57213557109568\n"
     ]
    }
   ],
   "source": [
    "mean_0 = pd.Series(y_test_0.mean(), index=y_test_0.index)\n",
    "print('Метрика RMSE для константной модели:', mean_squared_error(y_test_0, mean_0)**0.5)"
   ]
  },
  {
   "cell_type": "markdown",
   "metadata": {},
   "source": [
    "Константная модель показывает результат хуже на 10 пунктов. Попробуем преобразовать признаки в полином, чтобы улучшить метрику."
   ]
  },
  {
   "cell_type": "code",
   "execution_count": 15,
   "metadata": {
    "scrolled": true
   },
   "outputs": [
    {
     "name": "stdout",
     "output_type": "stream",
     "text": [
      "Метрика RMSE: 37.449410252937795\n"
     ]
    }
   ],
   "source": [
    "poly_0 = PolynomialFeatures(4)\n",
    "poly_X_train_0 = poly_0.fit_transform(X_train_0)\n",
    "poly_X_test_0 = poly_0.fit_transform(X_test_0)\n",
    "model_0.fit(poly_X_train_0, y_train_0)\n",
    "poly_pred_0 = model_0.predict(poly_X_test_0)\n",
    "print('Метрика RMSE:', mean_squared_error(y_test_0, poly_pred_0)**0.5)"
   ]
  },
  {
   "cell_type": "markdown",
   "metadata": {},
   "source": [
    "Особой разницы нет, стало лучше на 0.4 пункта."
   ]
  },
  {
   "cell_type": "markdown",
   "metadata": {},
   "source": [
    "Оценим средний запас сырья по предсказаниям модели."
   ]
  },
  {
   "cell_type": "code",
   "execution_count": 16,
   "metadata": {},
   "outputs": [
    {
     "data": {
      "text/plain": [
       "92.2163652804685"
      ]
     },
     "execution_count": 16,
     "metadata": {},
     "output_type": "execute_result"
    }
   ],
   "source": [
    "poly_pred_0.mean()"
   ]
  },
  {
   "cell_type": "markdown",
   "metadata": {},
   "source": [
    "**Средний запас сырья в скважинах региона `№0` составил 92 тысячи баррелей. Среднеквадратичное отклонение — 37.33.**"
   ]
  },
  {
   "cell_type": "markdown",
   "metadata": {},
   "source": [
    "### Регион `№1`"
   ]
  },
  {
   "cell_type": "markdown",
   "metadata": {},
   "source": [
    "Проверим корреляцию признаков для региона №1."
   ]
  },
  {
   "cell_type": "code",
   "execution_count": 17,
   "metadata": {
    "scrolled": true
   },
   "outputs": [
    {
     "data": {
      "text/html": [
       "<div>\n",
       "<style scoped>\n",
       "    .dataframe tbody tr th:only-of-type {\n",
       "        vertical-align: middle;\n",
       "    }\n",
       "\n",
       "    .dataframe tbody tr th {\n",
       "        vertical-align: top;\n",
       "    }\n",
       "\n",
       "    .dataframe thead th {\n",
       "        text-align: right;\n",
       "    }\n",
       "</style>\n",
       "<table border=\"1\" class=\"dataframe\">\n",
       "  <thead>\n",
       "    <tr style=\"text-align: right;\">\n",
       "      <th></th>\n",
       "      <th>index</th>\n",
       "      <th>f0</th>\n",
       "      <th>f1</th>\n",
       "      <th>f2</th>\n",
       "      <th>product</th>\n",
       "    </tr>\n",
       "  </thead>\n",
       "  <tbody>\n",
       "    <tr>\n",
       "      <th>index</th>\n",
       "      <td>1.000000</td>\n",
       "      <td>-0.000657</td>\n",
       "      <td>0.002647</td>\n",
       "      <td>0.001552</td>\n",
       "      <td>0.001398</td>\n",
       "    </tr>\n",
       "    <tr>\n",
       "      <th>f0</th>\n",
       "      <td>-0.000657</td>\n",
       "      <td>1.000000</td>\n",
       "      <td>0.181424</td>\n",
       "      <td>0.126414</td>\n",
       "      <td>0.096441</td>\n",
       "    </tr>\n",
       "    <tr>\n",
       "      <th>f1</th>\n",
       "      <td>0.002647</td>\n",
       "      <td>0.181424</td>\n",
       "      <td>1.000000</td>\n",
       "      <td>0.031023</td>\n",
       "      <td>0.023144</td>\n",
       "    </tr>\n",
       "    <tr>\n",
       "      <th>f2</th>\n",
       "      <td>0.001552</td>\n",
       "      <td>0.126414</td>\n",
       "      <td>0.031023</td>\n",
       "      <td>1.000000</td>\n",
       "      <td>0.999329</td>\n",
       "    </tr>\n",
       "    <tr>\n",
       "      <th>product</th>\n",
       "      <td>0.001398</td>\n",
       "      <td>0.096441</td>\n",
       "      <td>0.023144</td>\n",
       "      <td>0.999329</td>\n",
       "      <td>1.000000</td>\n",
       "    </tr>\n",
       "  </tbody>\n",
       "</table>\n",
       "</div>"
      ],
      "text/plain": [
       "            index        f0        f1        f2   product\n",
       "index    1.000000 -0.000657  0.002647  0.001552  0.001398\n",
       "f0      -0.000657  1.000000  0.181424  0.126414  0.096441\n",
       "f1       0.002647  0.181424  1.000000  0.031023  0.023144\n",
       "f2       0.001552  0.126414  0.031023  1.000000  0.999329\n",
       "product  0.001398  0.096441  0.023144  0.999329  1.000000"
      ]
     },
     "execution_count": 17,
     "metadata": {},
     "output_type": "execute_result"
    }
   ],
   "source": [
    "data_1.corr()"
   ]
  },
  {
   "cell_type": "markdown",
   "metadata": {},
   "source": [
    "Больше всех вклад вносит признак `f2`. Попробуем обучить две модели: одна учитывает все признаки, вторая только `f2`."
   ]
  },
  {
   "cell_type": "code",
   "execution_count": 18,
   "metadata": {},
   "outputs": [
    {
     "name": "stdout",
     "output_type": "stream",
     "text": [
      "Метрика RMSE: 0.8866615961747084\n"
     ]
    }
   ],
   "source": [
    "features_1 = data_1.drop(columns=['product', 'id'])\n",
    "target_1 = data_1['product']\n",
    "X_train_1, X_test_1, y_train_1, y_test_1 = train_test_split(features_1, target_1, test_size=0.25, random_state=75)\n",
    "scaler_1 = StandardScaler()\n",
    "scaler_1.fit(features_1)\n",
    "X_train_1 = scaler_1.transform(X_train_1)\n",
    "X_test_1 = scaler_1.transform(X_test_1)\n",
    "model_1 = LinearRegression()\n",
    "model_1.fit(X_train_1, y_train_1)\n",
    "pred_1 = model_1.predict(X_test_1)\n",
    "print('Метрика RMSE:', mean_squared_error(y_test_1, pred_1)**0.5)"
   ]
  },
  {
   "cell_type": "markdown",
   "metadata": {},
   "source": [
    "Среднеквадратичное отклонение получилось значительно меньше, чем в `нулевом` регионе, попробуем обучить лишь на признаке `f2`."
   ]
  },
  {
   "cell_type": "code",
   "execution_count": 19,
   "metadata": {},
   "outputs": [
    {
     "name": "stdout",
     "output_type": "stream",
     "text": [
      "Метрика RMSE: 1.5660815297026807\n"
     ]
    }
   ],
   "source": [
    "features_1_f2 = data_1.drop(columns=['product', 'id', 'f0', 'f1'])\n",
    "target_1_f2 = data_1['product']\n",
    "X_train_1_f2, X_test_1_f2, y_train_1_f2, y_test_1_f2 = train_test_split(\n",
    "    features_1_f2, target_1_f2, test_size=0.25, random_state=75)\n",
    "model_1_f2 = LinearRegression()\n",
    "model_1_f2.fit(X_train_1_f2, y_train_1_f2)\n",
    "pred_1_f2 = model_1_f2.predict(X_test_1_f2)\n",
    "print('Метрика RMSE:', mean_squared_error(y_test_1_f2, pred_1_f2)**0.5)"
   ]
  },
  {
   "cell_type": "markdown",
   "metadata": {},
   "source": [
    "Метрика стала хуже, оставим модель, в которой обучение происходило на всех признаках. Проверим константную модель."
   ]
  },
  {
   "cell_type": "code",
   "execution_count": 20,
   "metadata": {
    "scrolled": true
   },
   "outputs": [
    {
     "name": "stdout",
     "output_type": "stream",
     "text": [
      "Метрика RMSE для константной модели: 43.08416457302911\n"
     ]
    }
   ],
   "source": [
    "mean_1 = pd.Series(y_test_1.mean(), index=y_test_1.index)\n",
    "print('Метрика RMSE для константной модели:', mean_squared_error(y_test_1, mean_1)**0.5)"
   ]
  },
  {
   "cell_type": "markdown",
   "metadata": {},
   "source": [
    "Константная модель показала себя значительно хуже, чем обученная."
   ]
  },
  {
   "cell_type": "markdown",
   "metadata": {},
   "source": [
    "Оценим средний запас сырья по прогнозам модели."
   ]
  },
  {
   "cell_type": "code",
   "execution_count": 21,
   "metadata": {},
   "outputs": [
    {
     "data": {
      "text/plain": [
       "75.00415456765336"
      ]
     },
     "execution_count": 21,
     "metadata": {},
     "output_type": "execute_result"
    }
   ],
   "source": [
    "pred_1.mean()"
   ]
  },
  {
   "cell_type": "markdown",
   "metadata": {},
   "source": [
    "**Средний запас сырья в скважинах региона `№1` — 75 тысяч баррелей. Среднеквадратичное отклонение составило — 0.88.**"
   ]
  },
  {
   "cell_type": "markdown",
   "metadata": {},
   "source": [
    "### Регион `№2`"
   ]
  },
  {
   "cell_type": "markdown",
   "metadata": {},
   "source": [
    "Проверим корреляцию признаков для региона №2."
   ]
  },
  {
   "cell_type": "code",
   "execution_count": 22,
   "metadata": {
    "scrolled": true
   },
   "outputs": [
    {
     "data": {
      "text/html": [
       "<div>\n",
       "<style scoped>\n",
       "    .dataframe tbody tr th:only-of-type {\n",
       "        vertical-align: middle;\n",
       "    }\n",
       "\n",
       "    .dataframe tbody tr th {\n",
       "        vertical-align: top;\n",
       "    }\n",
       "\n",
       "    .dataframe thead th {\n",
       "        text-align: right;\n",
       "    }\n",
       "</style>\n",
       "<table border=\"1\" class=\"dataframe\">\n",
       "  <thead>\n",
       "    <tr style=\"text-align: right;\">\n",
       "      <th></th>\n",
       "      <th>index</th>\n",
       "      <th>f0</th>\n",
       "      <th>f1</th>\n",
       "      <th>f2</th>\n",
       "      <th>product</th>\n",
       "    </tr>\n",
       "  </thead>\n",
       "  <tbody>\n",
       "    <tr>\n",
       "      <th>index</th>\n",
       "      <td>1.000000</td>\n",
       "      <td>-0.000887</td>\n",
       "      <td>0.001683</td>\n",
       "      <td>0.005369</td>\n",
       "      <td>0.000659</td>\n",
       "    </tr>\n",
       "    <tr>\n",
       "      <th>f0</th>\n",
       "      <td>-0.000887</td>\n",
       "      <td>1.000000</td>\n",
       "      <td>0.000506</td>\n",
       "      <td>-0.000452</td>\n",
       "      <td>-0.001978</td>\n",
       "    </tr>\n",
       "    <tr>\n",
       "      <th>f1</th>\n",
       "      <td>0.001683</td>\n",
       "      <td>0.000506</td>\n",
       "      <td>1.000000</td>\n",
       "      <td>0.000753</td>\n",
       "      <td>-0.001055</td>\n",
       "    </tr>\n",
       "    <tr>\n",
       "      <th>f2</th>\n",
       "      <td>0.005369</td>\n",
       "      <td>-0.000452</td>\n",
       "      <td>0.000753</td>\n",
       "      <td>1.000000</td>\n",
       "      <td>0.445867</td>\n",
       "    </tr>\n",
       "    <tr>\n",
       "      <th>product</th>\n",
       "      <td>0.000659</td>\n",
       "      <td>-0.001978</td>\n",
       "      <td>-0.001055</td>\n",
       "      <td>0.445867</td>\n",
       "      <td>1.000000</td>\n",
       "    </tr>\n",
       "  </tbody>\n",
       "</table>\n",
       "</div>"
      ],
      "text/plain": [
       "            index        f0        f1        f2   product\n",
       "index    1.000000 -0.000887  0.001683  0.005369  0.000659\n",
       "f0      -0.000887  1.000000  0.000506 -0.000452 -0.001978\n",
       "f1       0.001683  0.000506  1.000000  0.000753 -0.001055\n",
       "f2       0.005369 -0.000452  0.000753  1.000000  0.445867\n",
       "product  0.000659 -0.001978 -0.001055  0.445867  1.000000"
      ]
     },
     "execution_count": 22,
     "metadata": {},
     "output_type": "execute_result"
    }
   ],
   "source": [
    "data_2.corr()"
   ]
  },
  {
   "cell_type": "markdown",
   "metadata": {},
   "source": [
    "Первые два признака почти не влияют на количество запасов в скважине, попробуем обучить модели так же, как в регионе №1."
   ]
  },
  {
   "cell_type": "code",
   "execution_count": 23,
   "metadata": {},
   "outputs": [
    {
     "name": "stdout",
     "output_type": "stream",
     "text": [
      "Метрика RMSE: 40.08631854496551\n"
     ]
    }
   ],
   "source": [
    "features_2 = data_2.drop(columns=['product', 'id'])\n",
    "target_2 = data_2['product']\n",
    "X_train_2, X_test_2, y_train_2, y_test_2 = train_test_split(features_2, target_2, test_size=0.25, random_state=75)\n",
    "scaler_2 = StandardScaler()\n",
    "scaler_2.fit(features_2)\n",
    "X_train_2 = scaler_2.transform(X_train_2)\n",
    "X_test_2 = scaler_2.transform(X_test_2)\n",
    "model_2 = LinearRegression()\n",
    "model_2.fit(X_train_2, y_train_2)\n",
    "pred_2 = model_2.predict(X_test_2)\n",
    "print('Метрика RMSE:', mean_squared_error(y_test_2, pred_2)**0.5)"
   ]
  },
  {
   "cell_type": "markdown",
   "metadata": {},
   "source": [
    "Метрика получилась не самая лучшая, проверим модель на признаке `f2`."
   ]
  },
  {
   "cell_type": "code",
   "execution_count": 24,
   "metadata": {},
   "outputs": [
    {
     "name": "stdout",
     "output_type": "stream",
     "text": [
      "Метрика RMSE: 40.08579601342574\n"
     ]
    }
   ],
   "source": [
    "features_2_f2 = data_2.drop(columns=['product', 'id', 'f0', 'f1'])\n",
    "target_2_f2 = data_2['product']\n",
    "X_train_2_f2, X_test_2_f2, y_train_2_f2, y_test_2_f2 = train_test_split(\n",
    "    features_2_f2, target_2_f2, test_size=0.25, random_state=75)\n",
    "model_2_f2 = LinearRegression()\n",
    "model_2_f2.fit(X_train_2_f2, y_train_2_f2)\n",
    "pred_2_f2 = model_2_f2.predict(X_test_2_f2)\n",
    "print('Метрика RMSE:', mean_squared_error(y_test_2_f2, pred_2_f2)**0.5)"
   ]
  },
  {
   "cell_type": "markdown",
   "metadata": {},
   "source": [
    "Едва заметно, но метрика улучшилась, попробуем добавить полином к признакам."
   ]
  },
  {
   "cell_type": "code",
   "execution_count": 25,
   "metadata": {
    "scrolled": true
   },
   "outputs": [
    {
     "name": "stdout",
     "output_type": "stream",
     "text": [
      "Метрика RMSE: 38.13197690407122\n"
     ]
    }
   ],
   "source": [
    "poly_2 = PolynomialFeatures(4)\n",
    "poly_X_train_2 = poly_2.fit_transform(X_train_2)\n",
    "poly_X_test_2 = poly_2.fit_transform(X_test_2)\n",
    "model_2.fit(poly_X_train_2, y_train_2)\n",
    "poly_pred_2 = model_2.predict(poly_X_test_2)\n",
    "print('Метрика RMSE:', mean_squared_error(y_test_2, poly_pred_2)**0.5)"
   ]
  },
  {
   "cell_type": "markdown",
   "metadata": {},
   "source": [
    "Метрику удалось улучшить на два пункта. Оценим средний запас в скважинах региона №2."
   ]
  },
  {
   "cell_type": "code",
   "execution_count": 26,
   "metadata": {},
   "outputs": [
    {
     "data": {
      "text/plain": [
       "95.14940211755037"
      ]
     },
     "execution_count": 26,
     "metadata": {},
     "output_type": "execute_result"
    }
   ],
   "source": [
    "poly_pred_2.mean()"
   ]
  },
  {
   "cell_type": "markdown",
   "metadata": {},
   "source": [
    "**Средний запас в скважинах региона `№2` — 95 тысяч баррелей. Среднеквадратичное отклонение — 38.12.**"
   ]
  },
  {
   "cell_type": "markdown",
   "metadata": {},
   "source": [
    "### Вывод по обучению и проверки моделей."
   ]
  },
  {
   "cell_type": "markdown",
   "metadata": {},
   "source": [
    "Модель обучилась и спрогнозировала следующие данные:\n",
    " - регион №0: средний запас сырья в скважинах — 92 тысячи баррелей, среднеквадратичное отклонение модели — 37.33;\n",
    " - регион №1: средний запас сырья в скважинах — 75 тысяч баррелей, среднеквадратичное отклонение модели — 0.88;\n",
    " - регион №2: средний запас сырья в скважинах — 95 тысяч баррелей, среднеквадратичное отклонение модели — 38.12."
   ]
  },
  {
   "cell_type": "markdown",
   "metadata": {},
   "source": [
    "Модель в регионе №1 оказалась самой точной, при этом среднее количество запасов сырья в нем значительно меньше, чем в двух других."
   ]
  },
  {
   "cell_type": "markdown",
   "metadata": {},
   "source": [
    "Модель в регионе №2 показала, что в нем находятся самые богатые скважины."
   ]
  },
  {
   "cell_type": "markdown",
   "metadata": {},
   "source": [
    "## Подготовка к расчёту прибыли"
   ]
  },
  {
   "cell_type": "markdown",
   "metadata": {},
   "source": [
    "Известно, что будут разрабатываться 200 месторождений, бюджет на разработку — 10 млрд рублей. Доход с 1 тысячи баррелей — 450 тысяч рублей. Формула для расчёта безубыточного запаса сырья:"
   ]
  },
  {
   "cell_type": "markdown",
   "metadata": {},
   "source": [
    "$$V = \\frac{10 млрд}{450 тысяч * 200 месторождений}$$"
   ]
  },
  {
   "cell_type": "code",
   "execution_count": 27,
   "metadata": {},
   "outputs": [
    {
     "name": "stdout",
     "output_type": "stream",
     "text": [
      "111.11111111111111\n"
     ]
    }
   ],
   "source": [
    "N = 200\n",
    "S = 10_000_000_000\n",
    "Y = 450_000\n",
    "V = S/(N*Y)\n",
    "print(V)"
   ]
  },
  {
   "cell_type": "markdown",
   "metadata": {},
   "source": [
    "Средний запас сырья в разрабатываемых скважинах должен составлять не менее 111.1 тысяч баррелей. А всего необходимое количество баррелей для добычи должно быть равно:"
   ]
  },
  {
   "cell_type": "code",
   "execution_count": 28,
   "metadata": {
    "scrolled": true
   },
   "outputs": [
    {
     "name": "stdout",
     "output_type": "stream",
     "text": [
      "22222.222222222223\n"
     ]
    }
   ],
   "source": [
    "print(V*N)"
   ]
  },
  {
   "cell_type": "markdown",
   "metadata": {},
   "source": [
    "Чтобы избежать убытка, необходимо добыть 22222 тысяч баррелей сырья."
   ]
  },
  {
   "cell_type": "markdown",
   "metadata": {},
   "source": [
    "По всем регионам нет таких средних показателей, поэтому понадобится искать самые богатые скважины."
   ]
  },
  {
   "cell_type": "markdown",
   "metadata": {},
   "source": [
    "## Расчёт прибыли и рисков "
   ]
  },
  {
   "cell_type": "markdown",
   "metadata": {},
   "source": [
    "### Функция для расчета прибыли"
   ]
  },
  {
   "cell_type": "markdown",
   "metadata": {},
   "source": [
    "Напишем функцию, которая расчитывает прибыль с месторождений региона."
   ]
  },
  {
   "cell_type": "code",
   "execution_count": 29,
   "metadata": {},
   "outputs": [],
   "source": [
    "def revenue(data):\n",
    "    return int(data['product'].sum() * Y - S)"
   ]
  },
  {
   "cell_type": "markdown",
   "metadata": {},
   "source": [
    "Итак, возьмем предсказания моделей на валидационной выборке для лучших скважин и найдем прибыль по реальным показателям."
   ]
  },
  {
   "cell_type": "markdown",
   "metadata": {},
   "source": [
    "### Регион `№0`"
   ]
  },
  {
   "cell_type": "markdown",
   "metadata": {},
   "source": [
    "Создадим датасет на основе валидационного вместе с предсказаниями."
   ]
  },
  {
   "cell_type": "code",
   "execution_count": 30,
   "metadata": {},
   "outputs": [],
   "source": [
    "pd.options.mode.chained_assignment = None # убираем предупреждения"
   ]
  },
  {
   "cell_type": "code",
   "execution_count": 52,
   "metadata": {
    "scrolled": true
   },
   "outputs": [],
   "source": [
    "region_0 = data_0.iloc[y_test_0.index]\n",
    "region_0['pred'] = poly_pred_0"
   ]
  },
  {
   "cell_type": "markdown",
   "metadata": {},
   "source": [
    "Найдем 200 лучших скважин по мнению модели и найдем с них прибыль."
   ]
  },
  {
   "cell_type": "code",
   "execution_count": 48,
   "metadata": {},
   "outputs": [
    {
     "name": "stdout",
     "output_type": "stream",
     "text": [
      "Прибыль с региона составит: 3,313,528,197 рублей.\n"
     ]
    }
   ],
   "source": [
    "best_region_0 = region_0.sort_values(by='pred', ascending=False).head(200)\n",
    "print(f\"Прибыль с региона составит: {revenue(best_region_0):,} рублей.\")"
   ]
  },
  {
   "cell_type": "markdown",
   "metadata": {},
   "source": [
    "По мнению модели, регион №0 принесет почти 3.282 млрд прибыли с лучших скважин."
   ]
  },
  {
   "cell_type": "markdown",
   "metadata": {},
   "source": [
    "### Регион `№1`"
   ]
  },
  {
   "cell_type": "markdown",
   "metadata": {},
   "source": [
    "Повторяем то же, что и в предыдущем регионе."
   ]
  },
  {
   "cell_type": "code",
   "execution_count": 33,
   "metadata": {
    "scrolled": true
   },
   "outputs": [
    {
     "name": "stdout",
     "output_type": "stream",
     "text": [
      "Прибыль с региона составит: 2,415,086,696 рублей.\n"
     ]
    }
   ],
   "source": [
    "region_1 = data_1.iloc[y_test_1.index]\n",
    "region_1['pred'] = pred_1\n",
    "best_region_1 = region_1.sort_values(by='pred', ascending=False).head(200)\n",
    "print(f\"Прибыль с региона составит: {revenue(best_region_1):,} рублей.\")"
   ]
  },
  {
   "cell_type": "markdown",
   "metadata": {},
   "source": [
    "С региона №1 прибыль составила почти на 1 млрд меньше, чем в регионе №0 — 2.415 млрд."
   ]
  },
  {
   "cell_type": "markdown",
   "metadata": {},
   "source": [
    "### Регион `№2`"
   ]
  },
  {
   "cell_type": "code",
   "execution_count": 34,
   "metadata": {
    "scrolled": true
   },
   "outputs": [
    {
     "name": "stdout",
     "output_type": "stream",
     "text": [
      "Прибыль с региона составит: 3,489,822,476 рублей.\n"
     ]
    }
   ],
   "source": [
    "region_2 = data_2.iloc[y_test_2.index]\n",
    "region_2['pred'] = poly_pred_2\n",
    "best_region_2 = region_2.sort_values(by='pred', ascending=False).head(200)\n",
    "print(f\"Прибыль с региона составит: {revenue(best_region_2):,} рублей.\")"
   ]
  },
  {
   "cell_type": "markdown",
   "metadata": {},
   "source": [
    "Регион №2 показал результат 3.489 млрд рублей прибыли."
   ]
  },
  {
   "cell_type": "markdown",
   "metadata": {},
   "source": [
    "### Вывод по расчету прибыли с лучших скважин"
   ]
  },
  {
   "cell_type": "markdown",
   "metadata": {},
   "source": [
    "Прибыль по регионам получилась следующая:"
   ]
  },
  {
   "cell_type": "markdown",
   "metadata": {},
   "source": [
    " - регион №0: 3.282 млрд рублей;\n",
    " - регион №1: 2.415 млрд рублей;\n",
    " - регион №2: 3.489 млрд рублей."
   ]
  },
  {
   "cell_type": "markdown",
   "metadata": {},
   "source": [
    "Наибольшую возможную прибыль модель прогнозирует в регионе №2, при выборе лучших скважин из всех имеющихся."
   ]
  },
  {
   "cell_type": "markdown",
   "metadata": {},
   "source": [
    "## Оценка рисков методом Bootstrap"
   ]
  },
  {
   "cell_type": "markdown",
   "metadata": {},
   "source": [
    "Известно, что будет исследовано 500 скважин, из которых 200 самых лучших будут разрабатываться. Мы применим технику Bootstrap, чтобы найти наименее рискованный регион с точки зрения статистики. Количество выборок для Bootstrap будет равно 1000."
   ]
  },
  {
   "cell_type": "markdown",
   "metadata": {},
   "source": [
    "Напишем функцию для оценки рисков."
   ]
  },
  {
   "cell_type": "code",
   "execution_count": 49,
   "metadata": {},
   "outputs": [],
   "source": [
    "def bootstrap(data):\n",
    "    state = np.random.RandomState(75)\n",
    "    values = [] # список для прибыли с каждой выборки\n",
    "    quantile_values = [] # список для поиска доверительного интервала\n",
    "    for i in range(1000):\n",
    "        data_subsample = data.sample(random_state=state, n=500, replace=True) # создаем случайную выборку из 500 скважин\n",
    "        data_subsample = data_subsample.sort_values(by='pred', ascending=False).head(200) # оставляем из них 200 лучших\n",
    "        values.append(revenue(data_subsample)) # считаем прибыль с 200 лучших скважин и добавляем в список\n",
    "    values = pd.Series(values)\n",
    "    lower = values.quantile(0.025) # ищем 0.025 квантиль\n",
    "    upper = values.quantile(0.975) # ищем 0.975 квантиль\n",
    "    return int(lower), int(upper), int(values.mean()), values[values < 0].count() / 1000 * 100"
   ]
  },
  {
   "cell_type": "markdown",
   "metadata": {},
   "source": [
    "### Проверка рисков"
   ]
  },
  {
   "cell_type": "markdown",
   "metadata": {},
   "source": [
    "Проверим риски для всех регионов."
   ]
  },
  {
   "cell_type": "code",
   "execution_count": 53,
   "metadata": {
    "scrolled": true
   },
   "outputs": [
    {
     "name": "stdout",
     "output_type": "stream",
     "text": [
      "Доверительный интервал 95% лежит между: 7,137,331 и 1,017,768,564 рублей, а средняя прибыль составит 500,225,424 рублей\n",
      "Доверительный интервал 95% лежит между: 347,750,841 и 1,126,261,057 рублей, а средняя прибыль составит 740,589,064 рублей\n",
      "Доверительный интервал 95% лежит между: 67,201,301 и 1,108,986,438 рублей, а средняя прибыль составит 573,492,142 рублей\n"
     ]
    }
   ],
   "source": [
    "region_0_lower_quantile, region_0_upper_quantile,  region_0_mean_revenue, region_0_risk = bootstrap(region_0)\n",
    "region_1_lower_quantile, region_1_upper_quantile, region_1_mean_revenue, region_1_risk = bootstrap(region_1)\n",
    "region_2_lower_quantile, region_2_upper_quantile, region_2_mean_revenue, region_2_risk = bootstrap(region_2)\n",
    "\n",
    "print(f'Доверительный интервал 95% лежит между: {region_0_lower_quantile:,} и {region_0_upper_quantile:,} рублей, а средняя прибыль составит {region_0_mean_revenue:,} рублей')\n",
    "print(f'Доверительный интервал 95% лежит между: {region_1_lower_quantile:,} и {region_1_upper_quantile:,} рублей, а средняя прибыль составит {region_1_mean_revenue:,} рублей')\n",
    "print(f'Доверительный интервал 95% лежит между: {region_2_lower_quantile:,} и {region_2_upper_quantile:,} рублей, а средняя прибыль составит {region_2_mean_revenue:,} рублей')"
   ]
  },
  {
   "cell_type": "markdown",
   "metadata": {},
   "source": [
    "Проверим риски:"
   ]
  },
  {
   "cell_type": "code",
   "execution_count": 51,
   "metadata": {},
   "outputs": [
    {
     "name": "stdout",
     "output_type": "stream",
     "text": [
      "Риск убытков в регионе №0: 4.6 %\n",
      "Риск убытков в регионе №1: 0.0 %\n",
      "Риск убытков в регионе №2: 1.5 %\n"
     ]
    }
   ],
   "source": [
    "print('Риск убытков в регионе №0:', region_0_risk, '%')\n",
    "print('Риск убытков в регионе №1:', region_1_risk, '%')\n",
    "print('Риск убытков в регионе №2:', region_2_risk, '%')"
   ]
  },
  {
   "cell_type": "markdown",
   "metadata": {},
   "source": [
    "Итак, лучший результат по прибыльности показал регион №1, где с вероятностью 95% прибыль составит от 347 млн до 1.1 млрд рублей, а средняя прибыль 740.589 миллионов рублей, а вероятность убытков 0%. То есть безпроигрышный вариант, в отличие от региона №0 с вероятностью убытков 2.4%, и региона №2 с вероятностью 1.5%."
   ]
  },
  {
   "cell_type": "markdown",
   "metadata": {},
   "source": [
    "## Вывод"
   ]
  },
  {
   "cell_type": "markdown",
   "metadata": {},
   "source": [
    "В данной работе предлагалось три набора данных о нефтяных скважинах в трех разных регионах. Данные содержали уникальный идентификатор для каждой скважины, три признака, от которых зависил объем сырья, а также истинное количество сырья."
   ]
  },
  {
   "cell_type": "markdown",
   "metadata": {},
   "source": [
    "В работе требовалось обучить модель линейной регрессии для каждого региона для определения запасов сырья в скважине. Признаки были проверены на корреляцию, в некоторых моделях признаки приводились к виду полинома. Основная метрика для оценки точности модели была выбрана RMSE, также модель сравнивалась с константной."
   ]
  },
  {
   "cell_type": "markdown",
   "metadata": {},
   "source": [
    "После обучения моделей, требовалось найти наиболее богатые скважины, оценить прибыльность добычи сырья с учетом бюджета на разработку и стоимости 1 барреля нефти. Регион №2 оказался самых перспективным для добычи, где лучшие скважины по оценкам модели способны принести доход в размере 3.5 млрд рублей."
   ]
  },
  {
   "cell_type": "markdown",
   "metadata": {},
   "source": [
    "Также были оценены риски при помощи метода `Bootstrap`, при условии, что оцениваются лишь 500 скважин и выбирают 200 лучших из них. Здесь лидером оказался регион №1, где разработка скважин с вероятностью 95% принесет прибыль от 347 млн до 1.1 млрд рублей, а средняя прибыль составит 740 млн рублей, без риска получить убыток."
   ]
  }
 ],
 "metadata": {
  "ExecuteTimeLog": [
   {
    "duration": 57,
    "start_time": "2023-06-29T15:59:51.441Z"
   },
   {
    "duration": 462,
    "start_time": "2023-06-29T15:59:53.975Z"
   },
   {
    "duration": 528,
    "start_time": "2023-06-29T15:59:56.198Z"
   },
   {
    "duration": 680,
    "start_time": "2023-06-29T16:01:04.111Z"
   },
   {
    "duration": 28,
    "start_time": "2023-06-29T16:01:12.807Z"
   },
   {
    "duration": 17,
    "start_time": "2023-06-29T16:04:23.232Z"
   },
   {
    "duration": 10,
    "start_time": "2023-06-29T16:08:55.271Z"
   },
   {
    "duration": 10,
    "start_time": "2023-06-29T16:09:12.207Z"
   },
   {
    "duration": 10,
    "start_time": "2023-06-29T16:09:14.887Z"
   },
   {
    "duration": 25,
    "start_time": "2023-06-29T16:10:04.495Z"
   },
   {
    "duration": 34,
    "start_time": "2023-06-29T16:10:23.891Z"
   },
   {
    "duration": 20,
    "start_time": "2023-06-29T16:10:30.527Z"
   },
   {
    "duration": 22,
    "start_time": "2023-06-29T16:10:55.256Z"
   },
   {
    "duration": 28,
    "start_time": "2023-06-29T16:11:08.752Z"
   },
   {
    "duration": 27,
    "start_time": "2023-06-29T16:11:12.679Z"
   },
   {
    "duration": 76,
    "start_time": "2023-06-29T16:11:19.656Z"
   },
   {
    "duration": 943,
    "start_time": "2023-06-29T16:15:10.263Z"
   },
   {
    "duration": 720,
    "start_time": "2023-06-29T16:15:26.919Z"
   },
   {
    "duration": 558,
    "start_time": "2023-06-29T16:15:28.839Z"
   },
   {
    "duration": 1285,
    "start_time": "2023-06-29T16:15:46.799Z"
   },
   {
    "duration": 442,
    "start_time": "2023-06-29T16:16:21.247Z"
   },
   {
    "duration": 428,
    "start_time": "2023-06-29T16:16:22.718Z"
   },
   {
    "duration": 460,
    "start_time": "2023-06-29T16:16:25.199Z"
   },
   {
    "duration": 60,
    "start_time": "2023-06-29T16:17:03.479Z"
   },
   {
    "duration": 55,
    "start_time": "2023-06-29T16:17:05.944Z"
   },
   {
    "duration": 52,
    "start_time": "2023-06-29T16:17:08.999Z"
   },
   {
    "duration": 55,
    "start_time": "2023-06-29T16:17:11.511Z"
   },
   {
    "duration": 61,
    "start_time": "2023-06-29T16:17:13.647Z"
   },
   {
    "duration": 150,
    "start_time": "2023-06-29T16:17:51.791Z"
   },
   {
    "duration": 28,
    "start_time": "2023-06-29T16:20:51.360Z"
   },
   {
    "duration": 1047,
    "start_time": "2023-06-29T16:22:02.231Z"
   },
   {
    "duration": 6,
    "start_time": "2023-06-29T16:23:00.231Z"
   },
   {
    "duration": 20,
    "start_time": "2023-06-29T16:23:04.408Z"
   },
   {
    "duration": 17,
    "start_time": "2023-06-29T16:23:59.800Z"
   },
   {
    "duration": 13,
    "start_time": "2023-06-29T16:24:18.908Z"
   },
   {
    "duration": 3,
    "start_time": "2023-06-29T16:24:57.940Z"
   },
   {
    "duration": 4,
    "start_time": "2023-06-29T16:25:01.720Z"
   },
   {
    "duration": 4,
    "start_time": "2023-06-29T16:26:43.367Z"
   },
   {
    "duration": 24,
    "start_time": "2023-06-29T16:29:11.926Z"
   },
   {
    "duration": 16,
    "start_time": "2023-06-29T16:31:06.672Z"
   },
   {
    "duration": 41,
    "start_time": "2023-06-29T16:36:23.618Z"
   },
   {
    "duration": 30,
    "start_time": "2023-06-29T16:36:32.744Z"
   },
   {
    "duration": 17,
    "start_time": "2023-06-29T16:37:06.281Z"
   },
   {
    "duration": 18,
    "start_time": "2023-06-29T16:37:10.660Z"
   },
   {
    "duration": 81,
    "start_time": "2023-06-29T16:41:25.993Z"
   },
   {
    "duration": 4,
    "start_time": "2023-06-29T16:41:30.424Z"
   },
   {
    "duration": 70,
    "start_time": "2023-06-29T16:41:33.814Z"
   },
   {
    "duration": 17,
    "start_time": "2023-06-29T16:41:58.984Z"
   },
   {
    "duration": 79,
    "start_time": "2023-06-29T16:42:05.525Z"
   },
   {
    "duration": 30,
    "start_time": "2023-06-29T16:44:45.968Z"
   },
   {
    "duration": 15,
    "start_time": "2023-06-29T16:45:19.442Z"
   },
   {
    "duration": 195,
    "start_time": "2023-06-29T16:48:54.810Z"
   },
   {
    "duration": 5,
    "start_time": "2023-06-29T16:49:06.760Z"
   },
   {
    "duration": 68,
    "start_time": "2023-06-29T16:49:10.724Z"
   },
   {
    "duration": 90,
    "start_time": "2023-06-29T16:49:13.713Z"
   },
   {
    "duration": 11,
    "start_time": "2023-06-29T16:49:26.433Z"
   },
   {
    "duration": 10,
    "start_time": "2023-06-29T16:53:58.569Z"
   },
   {
    "duration": 14,
    "start_time": "2023-06-29T16:54:02.737Z"
   },
   {
    "duration": 7,
    "start_time": "2023-06-29T16:54:06.344Z"
   },
   {
    "duration": 4,
    "start_time": "2023-06-29T16:56:55.561Z"
   },
   {
    "duration": 5,
    "start_time": "2023-06-29T16:57:20.465Z"
   },
   {
    "duration": 5,
    "start_time": "2023-06-29T16:57:25.152Z"
   },
   {
    "duration": 11,
    "start_time": "2023-06-29T17:05:31.641Z"
   },
   {
    "duration": 12,
    "start_time": "2023-06-29T17:05:35.184Z"
   },
   {
    "duration": 17,
    "start_time": "2023-06-29T17:05:39.626Z"
   },
   {
    "duration": 17,
    "start_time": "2023-06-29T17:05:45.455Z"
   },
   {
    "duration": 265,
    "start_time": "2023-06-29T17:06:45.393Z"
   },
   {
    "duration": 10,
    "start_time": "2023-06-29T17:08:26.323Z"
   },
   {
    "duration": 95,
    "start_time": "2023-06-29T17:11:46.186Z"
   },
   {
    "duration": 282,
    "start_time": "2023-06-29T17:11:53.698Z"
   },
   {
    "duration": 886,
    "start_time": "2023-06-29T17:11:56.455Z"
   },
   {
    "duration": 77,
    "start_time": "2023-06-29T17:11:59.558Z"
   },
   {
    "duration": 6,
    "start_time": "2023-06-29T17:12:42.296Z"
   },
   {
    "duration": 16,
    "start_time": "2023-06-29T17:13:35.657Z"
   },
   {
    "duration": 65,
    "start_time": "2023-06-29T17:13:38.852Z"
   },
   {
    "duration": 156,
    "start_time": "2023-06-29T17:13:41.384Z"
   },
   {
    "duration": 657,
    "start_time": "2023-06-29T17:13:45.186Z"
   },
   {
    "duration": 2342,
    "start_time": "2023-06-29T17:13:48.089Z"
   },
   {
    "duration": 3690,
    "start_time": "2023-06-29T17:13:52.452Z"
   },
   {
    "duration": 5672,
    "start_time": "2023-06-29T17:13:59.353Z"
   },
   {
    "duration": 29782,
    "start_time": "2023-06-29T17:14:09.230Z"
   },
   {
    "duration": 4,
    "start_time": "2023-06-29T17:16:46.553Z"
   },
   {
    "duration": 1001,
    "start_time": "2023-06-29T17:16:46.560Z"
   },
   {
    "duration": 20,
    "start_time": "2023-06-29T17:16:47.563Z"
   },
   {
    "duration": 141,
    "start_time": "2023-06-29T17:16:47.585Z"
   },
   {
    "duration": 523,
    "start_time": "2023-06-29T17:16:47.732Z"
   },
   {
    "duration": 531,
    "start_time": "2023-06-29T17:16:48.257Z"
   },
   {
    "duration": 555,
    "start_time": "2023-06-29T17:16:48.790Z"
   },
   {
    "duration": 22,
    "start_time": "2023-06-29T17:16:49.348Z"
   },
   {
    "duration": 19,
    "start_time": "2023-06-29T17:16:49.372Z"
   },
   {
    "duration": 24,
    "start_time": "2023-06-29T17:16:49.394Z"
   },
   {
    "duration": 98,
    "start_time": "2023-06-29T17:16:49.422Z"
   },
   {
    "duration": 30003,
    "start_time": "2023-06-29T17:17:04.425Z"
   },
   {
    "duration": 411,
    "start_time": "2023-06-29T17:17:37.802Z"
   },
   {
    "duration": 631,
    "start_time": "2023-06-29T17:17:40.482Z"
   },
   {
    "duration": 1736,
    "start_time": "2023-06-29T17:17:43.706Z"
   },
   {
    "duration": 733,
    "start_time": "2023-06-29T17:17:48.480Z"
   },
   {
    "duration": 57,
    "start_time": "2023-06-30T08:43:33.503Z"
   },
   {
    "duration": 1166,
    "start_time": "2023-06-30T08:47:35.316Z"
   },
   {
    "duration": 771,
    "start_time": "2023-06-30T08:47:36.484Z"
   },
   {
    "duration": 23,
    "start_time": "2023-06-30T08:47:37.257Z"
   },
   {
    "duration": 147,
    "start_time": "2023-06-30T08:47:37.281Z"
   },
   {
    "duration": 912,
    "start_time": "2023-06-30T08:47:37.431Z"
   },
   {
    "duration": 459,
    "start_time": "2023-06-30T08:47:38.345Z"
   },
   {
    "duration": 453,
    "start_time": "2023-06-30T08:47:38.806Z"
   },
   {
    "duration": 18,
    "start_time": "2023-06-30T08:47:39.260Z"
   },
   {
    "duration": 12,
    "start_time": "2023-06-30T08:47:39.280Z"
   },
   {
    "duration": 13,
    "start_time": "2023-06-30T08:47:39.294Z"
   },
   {
    "duration": 56,
    "start_time": "2023-06-30T08:47:39.309Z"
   },
   {
    "duration": 8,
    "start_time": "2023-06-30T08:47:39.456Z"
   },
   {
    "duration": 402,
    "start_time": "2023-06-30T08:47:39.553Z"
   },
   {
    "duration": 95,
    "start_time": "2023-06-30T08:47:39.959Z"
   },
   {
    "duration": 12,
    "start_time": "2023-06-30T08:49:28.902Z"
   },
   {
    "duration": 4,
    "start_time": "2023-06-30T08:51:12.914Z"
   },
   {
    "duration": 15,
    "start_time": "2023-06-30T08:56:53.538Z"
   },
   {
    "duration": 37,
    "start_time": "2023-06-30T09:00:56.503Z"
   },
   {
    "duration": 37,
    "start_time": "2023-06-30T09:03:23.754Z"
   },
   {
    "duration": 21,
    "start_time": "2023-06-30T09:05:32.207Z"
   },
   {
    "duration": 139,
    "start_time": "2023-06-30T09:07:03.312Z"
   },
   {
    "duration": 19,
    "start_time": "2023-06-30T09:07:30.171Z"
   },
   {
    "duration": 6,
    "start_time": "2023-06-30T09:09:10.010Z"
   },
   {
    "duration": 4,
    "start_time": "2023-06-30T09:10:45.995Z"
   },
   {
    "duration": 19,
    "start_time": "2023-06-30T09:12:22.691Z"
   },
   {
    "duration": 169,
    "start_time": "2023-06-30T09:15:00.689Z"
   },
   {
    "duration": 34,
    "start_time": "2023-06-30T09:15:06.743Z"
   },
   {
    "duration": 43,
    "start_time": "2023-06-30T09:15:22.916Z"
   },
   {
    "duration": 21,
    "start_time": "2023-06-30T09:16:32.269Z"
   },
   {
    "duration": 402,
    "start_time": "2023-06-30T09:19:09.768Z"
   },
   {
    "duration": 20,
    "start_time": "2023-06-30T09:19:56.107Z"
   },
   {
    "duration": 26,
    "start_time": "2023-06-30T09:20:34.204Z"
   },
   {
    "duration": 25,
    "start_time": "2023-06-30T09:20:47.191Z"
   },
   {
    "duration": 24,
    "start_time": "2023-06-30T09:20:49.389Z"
   },
   {
    "duration": 36,
    "start_time": "2023-06-30T09:20:52.564Z"
   },
   {
    "duration": 808,
    "start_time": "2023-06-30T09:22:14.065Z"
   },
   {
    "duration": 61,
    "start_time": "2023-06-30T09:22:18.898Z"
   },
   {
    "duration": 115,
    "start_time": "2023-06-30T09:22:21.139Z"
   },
   {
    "duration": 240,
    "start_time": "2023-06-30T09:22:24.715Z"
   },
   {
    "duration": 726,
    "start_time": "2023-06-30T09:22:27.731Z"
   },
   {
    "duration": 1900,
    "start_time": "2023-06-30T09:22:31.266Z"
   },
   {
    "duration": 463,
    "start_time": "2023-06-30T09:22:36.507Z"
   },
   {
    "duration": 5,
    "start_time": "2023-06-30T09:23:37.435Z"
   },
   {
    "duration": 3,
    "start_time": "2023-06-30T09:37:14.924Z"
   },
   {
    "duration": 3,
    "start_time": "2023-06-30T09:44:29.011Z"
   },
   {
    "duration": 4,
    "start_time": "2023-06-30T09:46:52.969Z"
   },
   {
    "duration": 75,
    "start_time": "2023-06-30T09:47:38.236Z"
   },
   {
    "duration": 5,
    "start_time": "2023-06-30T09:48:14.188Z"
   },
   {
    "duration": 3,
    "start_time": "2023-06-30T09:48:22.332Z"
   },
   {
    "duration": 3,
    "start_time": "2023-06-30T09:48:41.691Z"
   },
   {
    "duration": 6,
    "start_time": "2023-06-30T09:56:57.100Z"
   },
   {
    "duration": 3,
    "start_time": "2023-06-30T09:59:18.828Z"
   },
   {
    "duration": 4,
    "start_time": "2023-06-30T09:59:23.708Z"
   },
   {
    "duration": 6,
    "start_time": "2023-06-30T09:59:41.686Z"
   },
   {
    "duration": 9,
    "start_time": "2023-06-30T10:04:53.320Z"
   },
   {
    "duration": 5,
    "start_time": "2023-06-30T10:05:02.613Z"
   },
   {
    "duration": 6,
    "start_time": "2023-06-30T10:05:25.020Z"
   },
   {
    "duration": 11,
    "start_time": "2023-06-30T10:06:01.396Z"
   },
   {
    "duration": 8,
    "start_time": "2023-06-30T10:06:06.393Z"
   },
   {
    "duration": 6,
    "start_time": "2023-06-30T10:06:32.915Z"
   },
   {
    "duration": 5,
    "start_time": "2023-06-30T10:06:37.619Z"
   },
   {
    "duration": 449,
    "start_time": "2023-06-30T10:06:37.625Z"
   },
   {
    "duration": 21,
    "start_time": "2023-06-30T10:06:38.076Z"
   },
   {
    "duration": 147,
    "start_time": "2023-06-30T10:06:38.098Z"
   },
   {
    "duration": 466,
    "start_time": "2023-06-30T10:06:38.247Z"
   },
   {
    "duration": 577,
    "start_time": "2023-06-30T10:06:38.714Z"
   },
   {
    "duration": 506,
    "start_time": "2023-06-30T10:06:39.292Z"
   },
   {
    "duration": 15,
    "start_time": "2023-06-30T10:06:39.800Z"
   },
   {
    "duration": 11,
    "start_time": "2023-06-30T10:06:39.817Z"
   },
   {
    "duration": 37,
    "start_time": "2023-06-30T10:06:39.830Z"
   },
   {
    "duration": 19,
    "start_time": "2023-06-30T10:06:39.868Z"
   },
   {
    "duration": 73,
    "start_time": "2023-06-30T10:06:39.889Z"
   },
   {
    "duration": 697,
    "start_time": "2023-06-30T10:06:39.964Z"
   },
   {
    "duration": 8,
    "start_time": "2023-06-30T10:06:40.668Z"
   },
   {
    "duration": 109,
    "start_time": "2023-06-30T10:06:40.679Z"
   },
   {
    "duration": 76,
    "start_time": "2023-06-30T10:06:40.789Z"
   },
   {
    "duration": 113,
    "start_time": "2023-06-30T10:06:40.867Z"
   },
   {
    "duration": 6,
    "start_time": "2023-06-30T10:06:40.982Z"
   },
   {
    "duration": 12,
    "start_time": "2023-06-30T10:06:40.990Z"
   },
   {
    "duration": 55,
    "start_time": "2023-06-30T10:06:41.003Z"
   },
   {
    "duration": 30,
    "start_time": "2023-06-30T10:06:41.062Z"
   },
   {
    "duration": 165,
    "start_time": "2023-06-30T10:06:41.094Z"
   },
   {
    "duration": 504,
    "start_time": "2023-06-30T10:06:41.264Z"
   },
   {
    "duration": 86,
    "start_time": "2023-06-30T10:06:41.771Z"
   },
   {
    "duration": 4,
    "start_time": "2023-06-30T10:06:41.859Z"
   },
   {
    "duration": 35,
    "start_time": "2023-06-30T10:06:41.865Z"
   },
   {
    "duration": 6,
    "start_time": "2023-06-30T10:06:44.597Z"
   },
   {
    "duration": 6,
    "start_time": "2023-06-30T10:07:34.570Z"
   },
   {
    "duration": 34,
    "start_time": "2023-06-30T10:08:02.740Z"
   },
   {
    "duration": 8,
    "start_time": "2023-06-30T10:09:41.386Z"
   },
   {
    "duration": 14,
    "start_time": "2023-06-30T10:09:47.668Z"
   },
   {
    "duration": 40,
    "start_time": "2023-06-30T10:10:08.437Z"
   },
   {
    "duration": 3,
    "start_time": "2023-06-30T10:14:44.365Z"
   },
   {
    "duration": 25,
    "start_time": "2023-06-30T10:15:25.698Z"
   },
   {
    "duration": 3,
    "start_time": "2023-06-30T10:15:41.116Z"
   },
   {
    "duration": 9,
    "start_time": "2023-06-30T10:15:42.972Z"
   },
   {
    "duration": 14,
    "start_time": "2023-06-30T10:16:04.106Z"
   },
   {
    "duration": 10,
    "start_time": "2023-06-30T10:16:51.894Z"
   },
   {
    "duration": 3,
    "start_time": "2023-06-30T10:17:14.347Z"
   },
   {
    "duration": 11,
    "start_time": "2023-06-30T10:17:22.569Z"
   },
   {
    "duration": 3,
    "start_time": "2023-06-30T10:19:46.399Z"
   },
   {
    "duration": 10,
    "start_time": "2023-06-30T10:19:48.602Z"
   },
   {
    "duration": 4,
    "start_time": "2023-06-30T10:20:13.221Z"
   },
   {
    "duration": 9,
    "start_time": "2023-06-30T10:20:17.002Z"
   },
   {
    "duration": 3,
    "start_time": "2023-06-30T10:20:26.498Z"
   },
   {
    "duration": 9,
    "start_time": "2023-06-30T10:20:28.829Z"
   },
   {
    "duration": 9,
    "start_time": "2023-06-30T10:22:24.843Z"
   },
   {
    "duration": 15,
    "start_time": "2023-06-30T10:23:46.462Z"
   },
   {
    "duration": 14,
    "start_time": "2023-06-30T10:25:12.741Z"
   },
   {
    "duration": 4,
    "start_time": "2023-06-30T10:36:47.075Z"
   },
   {
    "duration": 3,
    "start_time": "2023-06-30T10:39:46.614Z"
   },
   {
    "duration": 10,
    "start_time": "2023-06-30T10:39:49.342Z"
   },
   {
    "duration": 4,
    "start_time": "2023-06-30T10:40:03.150Z"
   },
   {
    "duration": 10,
    "start_time": "2023-06-30T10:40:05.167Z"
   },
   {
    "duration": 3,
    "start_time": "2023-06-30T10:41:23.319Z"
   },
   {
    "duration": 16,
    "start_time": "2023-06-30T10:41:27.899Z"
   },
   {
    "duration": 5,
    "start_time": "2023-06-30T10:42:08.290Z"
   },
   {
    "duration": 5,
    "start_time": "2023-06-30T10:45:01.202Z"
   },
   {
    "duration": 1457,
    "start_time": "2023-06-30T10:46:23.614Z"
   },
   {
    "duration": 9,
    "start_time": "2023-06-30T10:47:28.589Z"
   },
   {
    "duration": 3,
    "start_time": "2023-06-30T10:47:32.359Z"
   },
   {
    "duration": 10,
    "start_time": "2023-06-30T10:47:34.206Z"
   },
   {
    "duration": 15,
    "start_time": "2023-06-30T10:47:44.834Z"
   },
   {
    "duration": 15,
    "start_time": "2023-06-30T10:47:52.670Z"
   },
   {
    "duration": 952,
    "start_time": "2023-06-30T10:48:00.456Z"
   },
   {
    "duration": 2842,
    "start_time": "2023-06-30T10:48:39.806Z"
   },
   {
    "duration": 65,
    "start_time": "2023-06-30T10:49:47.738Z"
   },
   {
    "duration": 2787,
    "start_time": "2023-06-30T10:50:06.682Z"
   },
   {
    "duration": 2809,
    "start_time": "2023-06-30T10:50:25.247Z"
   },
   {
    "duration": 2843,
    "start_time": "2023-06-30T10:50:49.550Z"
   },
   {
    "duration": 4,
    "start_time": "2023-06-30T10:51:09.387Z"
   },
   {
    "duration": 2849,
    "start_time": "2023-06-30T10:51:11.382Z"
   },
   {
    "duration": 2781,
    "start_time": "2023-06-30T10:51:15.910Z"
   },
   {
    "duration": 2880,
    "start_time": "2023-06-30T10:51:20.070Z"
   },
   {
    "duration": 5,
    "start_time": "2023-06-30T10:51:35.006Z"
   },
   {
    "duration": 2989,
    "start_time": "2023-06-30T10:51:37.630Z"
   },
   {
    "duration": 27,
    "start_time": "2023-06-30T10:53:02.467Z"
   },
   {
    "duration": 4,
    "start_time": "2023-06-30T10:55:22.980Z"
   },
   {
    "duration": 5,
    "start_time": "2023-06-30T10:56:46.470Z"
   },
   {
    "duration": 2919,
    "start_time": "2023-06-30T10:56:47.994Z"
   },
   {
    "duration": 10,
    "start_time": "2023-06-30T10:57:11.437Z"
   },
   {
    "duration": 16,
    "start_time": "2023-06-30T10:57:26.210Z"
   },
   {
    "duration": 14,
    "start_time": "2023-06-30T10:57:29.994Z"
   },
   {
    "duration": 2879,
    "start_time": "2023-06-30T10:57:41.170Z"
   },
   {
    "duration": 4,
    "start_time": "2023-06-30T11:00:34.223Z"
   },
   {
    "duration": 4307,
    "start_time": "2023-06-30T11:00:35.669Z"
   },
   {
    "duration": 1125,
    "start_time": "2023-06-30T11:29:31.066Z"
   },
   {
    "duration": 434,
    "start_time": "2023-06-30T11:29:32.193Z"
   },
   {
    "duration": 31,
    "start_time": "2023-06-30T11:29:32.629Z"
   },
   {
    "duration": 138,
    "start_time": "2023-06-30T11:29:32.662Z"
   },
   {
    "duration": 776,
    "start_time": "2023-06-30T11:29:32.802Z"
   },
   {
    "duration": 464,
    "start_time": "2023-06-30T11:29:33.580Z"
   },
   {
    "duration": 507,
    "start_time": "2023-06-30T11:29:34.046Z"
   },
   {
    "duration": 19,
    "start_time": "2023-06-30T11:29:34.555Z"
   },
   {
    "duration": 29,
    "start_time": "2023-06-30T11:29:34.576Z"
   },
   {
    "duration": 62,
    "start_time": "2023-06-30T11:29:34.607Z"
   },
   {
    "duration": 31,
    "start_time": "2023-06-30T11:29:34.671Z"
   },
   {
    "duration": 149,
    "start_time": "2023-06-30T11:29:34.706Z"
   },
   {
    "duration": 504,
    "start_time": "2023-06-30T11:29:34.857Z"
   },
   {
    "duration": 4,
    "start_time": "2023-06-30T11:29:35.453Z"
   },
   {
    "duration": 57,
    "start_time": "2023-06-30T11:29:35.459Z"
   },
   {
    "duration": 36,
    "start_time": "2023-06-30T11:29:35.554Z"
   },
   {
    "duration": 118,
    "start_time": "2023-06-30T11:29:35.653Z"
   },
   {
    "duration": 30,
    "start_time": "2023-06-30T11:29:35.773Z"
   },
   {
    "duration": 26,
    "start_time": "2023-06-30T11:29:35.805Z"
   },
   {
    "duration": 58,
    "start_time": "2023-06-30T11:29:35.833Z"
   },
   {
    "duration": 38,
    "start_time": "2023-06-30T11:29:35.892Z"
   },
   {
    "duration": 110,
    "start_time": "2023-06-30T11:29:35.959Z"
   },
   {
    "duration": 387,
    "start_time": "2023-06-30T11:29:36.070Z"
   },
   {
    "duration": 95,
    "start_time": "2023-06-30T11:29:36.460Z"
   },
   {
    "duration": 25,
    "start_time": "2023-06-30T11:29:36.557Z"
   },
   {
    "duration": 15,
    "start_time": "2023-06-30T11:29:36.584Z"
   },
   {
    "duration": 15,
    "start_time": "2023-06-30T11:29:36.601Z"
   },
   {
    "duration": 18,
    "start_time": "2023-06-30T11:29:36.618Z"
   },
   {
    "duration": 25,
    "start_time": "2023-06-30T11:29:36.638Z"
   },
   {
    "duration": 19,
    "start_time": "2023-06-30T11:29:36.665Z"
   },
   {
    "duration": 27,
    "start_time": "2023-06-30T11:29:36.686Z"
   },
   {
    "duration": 7,
    "start_time": "2023-06-30T11:29:36.715Z"
   },
   {
    "duration": 4231,
    "start_time": "2023-06-30T11:29:36.723Z"
   },
   {
    "duration": 1168,
    "start_time": "2023-06-30T11:30:48.730Z"
   },
   {
    "duration": 404,
    "start_time": "2023-06-30T11:30:49.900Z"
   },
   {
    "duration": 23,
    "start_time": "2023-06-30T11:30:50.306Z"
   },
   {
    "duration": 156,
    "start_time": "2023-06-30T11:30:50.331Z"
   },
   {
    "duration": 734,
    "start_time": "2023-06-30T11:30:50.489Z"
   },
   {
    "duration": 469,
    "start_time": "2023-06-30T11:30:51.225Z"
   },
   {
    "duration": 482,
    "start_time": "2023-06-30T11:30:51.696Z"
   },
   {
    "duration": 18,
    "start_time": "2023-06-30T11:30:52.180Z"
   },
   {
    "duration": 13,
    "start_time": "2023-06-30T11:30:52.200Z"
   },
   {
    "duration": 14,
    "start_time": "2023-06-30T11:30:52.215Z"
   },
   {
    "duration": 15,
    "start_time": "2023-06-30T11:30:52.254Z"
   },
   {
    "duration": 114,
    "start_time": "2023-06-30T11:30:52.353Z"
   },
   {
    "duration": 485,
    "start_time": "2023-06-30T11:30:52.469Z"
   },
   {
    "duration": 94,
    "start_time": "2023-06-30T11:30:52.961Z"
   },
   {
    "duration": 33,
    "start_time": "2023-06-30T11:30:53.057Z"
   },
   {
    "duration": 67,
    "start_time": "2023-06-30T11:30:53.092Z"
   },
   {
    "duration": 24,
    "start_time": "2023-06-30T11:30:53.253Z"
   },
   {
    "duration": 6,
    "start_time": "2023-06-30T11:30:53.280Z"
   },
   {
    "duration": 9,
    "start_time": "2023-06-30T11:30:53.288Z"
   },
   {
    "duration": 67,
    "start_time": "2023-06-30T11:30:53.298Z"
   },
   {
    "duration": 90,
    "start_time": "2023-06-30T11:30:53.367Z"
   },
   {
    "duration": 115,
    "start_time": "2023-06-30T11:30:53.458Z"
   },
   {
    "duration": 387,
    "start_time": "2023-06-30T11:30:53.575Z"
   },
   {
    "duration": 94,
    "start_time": "2023-06-30T11:30:53.964Z"
   },
   {
    "duration": 96,
    "start_time": "2023-06-30T11:30:54.060Z"
   },
   {
    "duration": 25,
    "start_time": "2023-06-30T11:30:54.158Z"
   },
   {
    "duration": 10,
    "start_time": "2023-06-30T11:30:54.186Z"
   },
   {
    "duration": 31,
    "start_time": "2023-06-30T11:30:54.197Z"
   },
   {
    "duration": 14,
    "start_time": "2023-06-30T11:30:54.230Z"
   },
   {
    "duration": 24,
    "start_time": "2023-06-30T11:30:54.246Z"
   },
   {
    "duration": 36,
    "start_time": "2023-06-30T11:30:54.278Z"
   },
   {
    "duration": 5,
    "start_time": "2023-06-30T11:30:54.316Z"
   },
   {
    "duration": 4286,
    "start_time": "2023-06-30T11:30:54.323Z"
   },
   {
    "duration": 1070,
    "start_time": "2023-06-30T11:38:24.500Z"
   },
   {
    "duration": 386,
    "start_time": "2023-06-30T11:38:25.572Z"
   },
   {
    "duration": 22,
    "start_time": "2023-06-30T11:38:25.960Z"
   },
   {
    "duration": 138,
    "start_time": "2023-06-30T11:38:25.984Z"
   },
   {
    "duration": 732,
    "start_time": "2023-06-30T11:38:26.125Z"
   },
   {
    "duration": 463,
    "start_time": "2023-06-30T11:38:26.859Z"
   },
   {
    "duration": 497,
    "start_time": "2023-06-30T11:38:27.324Z"
   },
   {
    "duration": 16,
    "start_time": "2023-06-30T11:38:27.823Z"
   },
   {
    "duration": 28,
    "start_time": "2023-06-30T11:38:27.841Z"
   },
   {
    "duration": 38,
    "start_time": "2023-06-30T11:38:27.871Z"
   },
   {
    "duration": 48,
    "start_time": "2023-06-30T11:38:27.911Z"
   },
   {
    "duration": 97,
    "start_time": "2023-06-30T11:38:27.964Z"
   },
   {
    "duration": 392,
    "start_time": "2023-06-30T11:38:28.063Z"
   },
   {
    "duration": 6,
    "start_time": "2023-06-30T11:38:28.460Z"
   },
   {
    "duration": 102,
    "start_time": "2023-06-30T11:38:28.469Z"
   },
   {
    "duration": 33,
    "start_time": "2023-06-30T11:38:28.572Z"
   },
   {
    "duration": 148,
    "start_time": "2023-06-30T11:38:28.607Z"
   },
   {
    "duration": 19,
    "start_time": "2023-06-30T11:38:28.757Z"
   },
   {
    "duration": 9,
    "start_time": "2023-06-30T11:38:28.778Z"
   },
   {
    "duration": 29,
    "start_time": "2023-06-30T11:38:28.789Z"
   },
   {
    "duration": 52,
    "start_time": "2023-06-30T11:38:28.820Z"
   },
   {
    "duration": 181,
    "start_time": "2023-06-30T11:38:28.875Z"
   },
   {
    "duration": 403,
    "start_time": "2023-06-30T11:38:29.058Z"
   },
   {
    "duration": 5,
    "start_time": "2023-06-30T11:38:29.468Z"
   },
   {
    "duration": 17,
    "start_time": "2023-06-30T11:38:29.475Z"
   },
   {
    "duration": 44,
    "start_time": "2023-06-30T11:38:29.494Z"
   },
   {
    "duration": 23,
    "start_time": "2023-06-30T11:38:29.555Z"
   },
   {
    "duration": 22,
    "start_time": "2023-06-30T11:38:29.580Z"
   },
   {
    "duration": 13,
    "start_time": "2023-06-30T11:38:29.604Z"
   },
   {
    "duration": 20,
    "start_time": "2023-06-30T11:38:29.619Z"
   },
   {
    "duration": 17,
    "start_time": "2023-06-30T11:38:29.640Z"
   },
   {
    "duration": 17,
    "start_time": "2023-06-30T11:38:29.659Z"
   },
   {
    "duration": 4223,
    "start_time": "2023-06-30T11:38:29.678Z"
   },
   {
    "duration": 1706,
    "start_time": "2023-06-30T21:25:39.495Z"
   },
   {
    "duration": 717,
    "start_time": "2023-06-30T21:25:41.203Z"
   },
   {
    "duration": 20,
    "start_time": "2023-06-30T21:25:41.921Z"
   },
   {
    "duration": 123,
    "start_time": "2023-06-30T21:25:41.943Z"
   },
   {
    "duration": 807,
    "start_time": "2023-06-30T21:25:42.068Z"
   },
   {
    "duration": 411,
    "start_time": "2023-06-30T21:25:42.876Z"
   },
   {
    "duration": 448,
    "start_time": "2023-06-30T21:25:43.289Z"
   },
   {
    "duration": 15,
    "start_time": "2023-06-30T21:25:43.738Z"
   },
   {
    "duration": 11,
    "start_time": "2023-06-30T21:25:43.755Z"
   },
   {
    "duration": 13,
    "start_time": "2023-06-30T21:25:43.768Z"
   },
   {
    "duration": 149,
    "start_time": "2023-06-30T21:25:43.783Z"
   },
   {
    "duration": 7,
    "start_time": "2023-06-30T21:25:43.935Z"
   },
   {
    "duration": 490,
    "start_time": "2023-06-30T21:25:43.944Z"
   },
   {
    "duration": 6,
    "start_time": "2023-06-30T21:25:44.436Z"
   },
   {
    "duration": 15,
    "start_time": "2023-06-30T21:25:44.532Z"
   },
   {
    "duration": 84,
    "start_time": "2023-06-30T21:25:44.549Z"
   },
   {
    "duration": 115,
    "start_time": "2023-06-30T21:25:44.636Z"
   },
   {
    "duration": 5,
    "start_time": "2023-06-30T21:25:44.753Z"
   },
   {
    "duration": 7,
    "start_time": "2023-06-30T21:25:44.759Z"
   },
   {
    "duration": 27,
    "start_time": "2023-06-30T21:25:44.768Z"
   },
   {
    "duration": 134,
    "start_time": "2023-06-30T21:25:44.797Z"
   },
   {
    "duration": 111,
    "start_time": "2023-06-30T21:25:44.934Z"
   },
   {
    "duration": 295,
    "start_time": "2023-06-30T21:25:45.047Z"
   },
   {
    "duration": 5,
    "start_time": "2023-06-30T21:25:45.433Z"
   },
   {
    "duration": 93,
    "start_time": "2023-06-30T21:25:45.440Z"
   },
   {
    "duration": 8,
    "start_time": "2023-06-30T21:25:45.535Z"
   },
   {
    "duration": 7,
    "start_time": "2023-06-30T21:25:45.544Z"
   },
   {
    "duration": 15,
    "start_time": "2023-06-30T21:25:45.554Z"
   },
   {
    "duration": 10,
    "start_time": "2023-06-30T21:25:45.570Z"
   },
   {
    "duration": 17,
    "start_time": "2023-06-30T21:25:45.581Z"
   },
   {
    "duration": 33,
    "start_time": "2023-06-30T21:25:45.599Z"
   },
   {
    "duration": 4,
    "start_time": "2023-06-30T21:25:45.634Z"
   },
   {
    "duration": 3769,
    "start_time": "2023-06-30T21:25:45.639Z"
   },
   {
    "duration": 12,
    "start_time": "2023-06-30T21:45:25.180Z"
   },
   {
    "duration": 1214,
    "start_time": "2023-07-01T11:36:01.615Z"
   },
   {
    "duration": 1602,
    "start_time": "2023-07-01T11:36:02.831Z"
   },
   {
    "duration": 20,
    "start_time": "2023-07-01T11:36:04.435Z"
   },
   {
    "duration": 91,
    "start_time": "2023-07-01T11:36:04.457Z"
   },
   {
    "duration": 9,
    "start_time": "2023-07-01T11:36:35.305Z"
   },
   {
    "duration": 16426,
    "start_time": "2023-07-01T11:36:47.644Z"
   },
   {
    "duration": 9013,
    "start_time": "2023-07-01T11:37:04.072Z"
   },
   {
    "duration": 78,
    "start_time": "2023-07-01T11:37:25.730Z"
   },
   {
    "duration": 7891,
    "start_time": "2023-07-01T11:37:30.020Z"
   },
   {
    "duration": 13,
    "start_time": "2023-07-01T11:38:21.140Z"
   },
   {
    "duration": 12,
    "start_time": "2023-07-01T11:38:24.187Z"
   },
   {
    "duration": 13,
    "start_time": "2023-07-01T11:38:27.474Z"
   },
   {
    "duration": 12,
    "start_time": "2023-07-01T11:38:30.076Z"
   },
   {
    "duration": 7,
    "start_time": "2023-07-01T11:38:38.789Z"
   },
   {
    "duration": 15,
    "start_time": "2023-07-01T11:38:56.340Z"
   },
   {
    "duration": 14,
    "start_time": "2023-07-01T11:38:59.236Z"
   },
   {
    "duration": 7,
    "start_time": "2023-07-01T11:41:09.202Z"
   },
   {
    "duration": 6,
    "start_time": "2023-07-01T11:41:19.036Z"
   },
   {
    "duration": 15,
    "start_time": "2023-07-01T11:41:31.956Z"
   },
   {
    "duration": 5,
    "start_time": "2023-07-01T11:41:48.044Z"
   },
   {
    "duration": 6,
    "start_time": "2023-07-01T11:41:53.776Z"
   },
   {
    "duration": 8213,
    "start_time": "2023-07-01T11:42:20.820Z"
   },
   {
    "duration": 8536,
    "start_time": "2023-07-01T11:44:00.488Z"
   },
   {
    "duration": 15,
    "start_time": "2023-07-01T11:45:40.044Z"
   },
   {
    "duration": 18,
    "start_time": "2023-07-01T11:45:55.740Z"
   },
   {
    "duration": 14,
    "start_time": "2023-07-01T11:46:09.836Z"
   },
   {
    "duration": 14,
    "start_time": "2023-07-01T11:46:15.076Z"
   },
   {
    "duration": 25,
    "start_time": "2023-07-01T11:46:21.643Z"
   },
   {
    "duration": 24,
    "start_time": "2023-07-01T11:46:34.649Z"
   },
   {
    "duration": 2493,
    "start_time": "2023-07-01T11:47:04.698Z"
   },
   {
    "duration": 390,
    "start_time": "2023-07-01T11:47:07.194Z"
   },
   {
    "duration": 8462,
    "start_time": "2023-07-01T11:47:07.586Z"
   },
   {
    "duration": 23,
    "start_time": "2023-07-01T11:47:25.428Z"
   },
   {
    "duration": 31,
    "start_time": "2023-07-01T11:47:54.796Z"
   },
   {
    "duration": 8114,
    "start_time": "2023-07-01T11:48:20.983Z"
   },
   {
    "duration": 26,
    "start_time": "2023-07-01T11:51:32.053Z"
   },
   {
    "duration": 35,
    "start_time": "2023-07-01T11:51:37.268Z"
   },
   {
    "duration": 8732,
    "start_time": "2023-07-01T11:53:01.469Z"
   },
   {
    "duration": 25,
    "start_time": "2023-07-01T11:57:33.981Z"
   },
   {
    "duration": 49,
    "start_time": "2023-07-01T12:00:00.549Z"
   },
   {
    "duration": 4163,
    "start_time": "2023-07-01T12:00:47.873Z"
   },
   {
    "duration": 59,
    "start_time": "2023-07-01T12:00:52.038Z"
   },
   {
    "duration": 365,
    "start_time": "2023-07-01T12:00:52.098Z"
   },
   {
    "duration": 8640,
    "start_time": "2023-07-01T12:00:52.465Z"
   },
   {
    "duration": 21,
    "start_time": "2023-07-01T12:01:01.107Z"
   },
   {
    "duration": 7800,
    "start_time": "2023-07-01T12:01:01.130Z"
   },
   {
    "duration": 66,
    "start_time": "2023-07-01T12:01:08.931Z"
   },
   {
    "duration": 8490,
    "start_time": "2023-07-01T12:01:08.998Z"
   },
   {
    "duration": 22,
    "start_time": "2023-07-01T12:01:17.490Z"
   },
   {
    "duration": 14,
    "start_time": "2023-07-01T12:01:17.513Z"
   },
   {
    "duration": 49,
    "start_time": "2023-07-01T12:01:17.528Z"
   },
   {
    "duration": 11,
    "start_time": "2023-07-01T12:01:17.579Z"
   },
   {
    "duration": 78,
    "start_time": "2023-07-01T12:01:17.592Z"
   },
   {
    "duration": 96,
    "start_time": "2023-07-01T12:01:17.674Z"
   },
   {
    "duration": 400,
    "start_time": "2023-07-01T12:01:17.772Z"
   },
   {
    "duration": 96,
    "start_time": "2023-07-01T12:01:18.174Z"
   },
   {
    "duration": 97,
    "start_time": "2023-07-01T12:01:18.272Z"
   },
   {
    "duration": 29,
    "start_time": "2023-07-01T12:01:18.371Z"
   },
   {
    "duration": 109,
    "start_time": "2023-07-01T12:01:18.470Z"
   },
   {
    "duration": 5,
    "start_time": "2023-07-01T12:01:18.581Z"
   },
   {
    "duration": 5,
    "start_time": "2023-07-01T12:01:18.588Z"
   },
   {
    "duration": 18,
    "start_time": "2023-07-01T12:01:18.595Z"
   },
   {
    "duration": 56,
    "start_time": "2023-07-01T12:01:18.615Z"
   },
   {
    "duration": 106,
    "start_time": "2023-07-01T12:01:18.674Z"
   },
   {
    "duration": 390,
    "start_time": "2023-07-01T12:01:18.781Z"
   },
   {
    "duration": 5,
    "start_time": "2023-07-01T12:01:19.174Z"
   },
   {
    "duration": 3,
    "start_time": "2023-07-01T12:01:19.269Z"
   },
   {
    "duration": 5,
    "start_time": "2023-07-01T12:01:19.274Z"
   },
   {
    "duration": 4,
    "start_time": "2023-07-01T12:01:19.280Z"
   },
   {
    "duration": 181,
    "start_time": "2023-07-01T12:01:19.285Z"
   },
   {
    "duration": 0,
    "start_time": "2023-07-01T12:01:19.468Z"
   },
   {
    "duration": 0,
    "start_time": "2023-07-01T12:01:19.469Z"
   },
   {
    "duration": 0,
    "start_time": "2023-07-01T12:01:19.470Z"
   },
   {
    "duration": 0,
    "start_time": "2023-07-01T12:01:19.472Z"
   },
   {
    "duration": 0,
    "start_time": "2023-07-01T12:01:19.473Z"
   },
   {
    "duration": 11,
    "start_time": "2023-07-01T12:03:21.453Z"
   },
   {
    "duration": 12,
    "start_time": "2023-07-01T12:03:24.716Z"
   },
   {
    "duration": 11,
    "start_time": "2023-07-01T12:03:26.741Z"
   },
   {
    "duration": 3,
    "start_time": "2023-07-01T12:06:36.717Z"
   },
   {
    "duration": 15,
    "start_time": "2023-07-01T12:07:40.293Z"
   },
   {
    "duration": 16,
    "start_time": "2023-07-01T12:08:54.980Z"
   },
   {
    "duration": 17,
    "start_time": "2023-07-01T12:09:05.141Z"
   },
   {
    "duration": 6,
    "start_time": "2023-07-01T12:15:35.693Z"
   },
   {
    "duration": 76,
    "start_time": "2023-07-01T12:16:18.021Z"
   },
   {
    "duration": 36,
    "start_time": "2023-07-01T12:16:21.885Z"
   },
   {
    "duration": 31,
    "start_time": "2023-07-01T12:16:33.637Z"
   },
   {
    "duration": 37,
    "start_time": "2023-07-01T12:17:18.149Z"
   },
   {
    "duration": 27,
    "start_time": "2023-07-01T12:17:33.086Z"
   },
   {
    "duration": 24,
    "start_time": "2023-07-01T12:18:00.309Z"
   },
   {
    "duration": 4818,
    "start_time": "2023-07-01T12:18:08.809Z"
   },
   {
    "duration": 64,
    "start_time": "2023-07-01T12:18:13.629Z"
   },
   {
    "duration": 421,
    "start_time": "2023-07-01T12:18:13.695Z"
   },
   {
    "duration": 9267,
    "start_time": "2023-07-01T12:18:14.118Z"
   },
   {
    "duration": 22,
    "start_time": "2023-07-01T12:18:23.387Z"
   },
   {
    "duration": 8508,
    "start_time": "2023-07-01T12:18:23.411Z"
   },
   {
    "duration": 72,
    "start_time": "2023-07-01T12:18:31.920Z"
   },
   {
    "duration": 9093,
    "start_time": "2023-07-01T12:18:31.994Z"
   },
   {
    "duration": 24,
    "start_time": "2023-07-01T12:18:41.089Z"
   },
   {
    "duration": 18,
    "start_time": "2023-07-01T12:18:41.115Z"
   },
   {
    "duration": 55,
    "start_time": "2023-07-01T12:18:41.135Z"
   },
   {
    "duration": 18,
    "start_time": "2023-07-01T12:18:41.192Z"
   },
   {
    "duration": 68,
    "start_time": "2023-07-01T12:18:41.212Z"
   },
   {
    "duration": 87,
    "start_time": "2023-07-01T12:18:41.292Z"
   },
   {
    "duration": 1793,
    "start_time": "2023-07-01T12:18:41.382Z"
   },
   {
    "duration": 9,
    "start_time": "2023-07-01T12:18:43.178Z"
   },
   {
    "duration": 104,
    "start_time": "2023-07-01T12:18:43.189Z"
   },
   {
    "duration": 76,
    "start_time": "2023-07-01T12:18:43.295Z"
   },
   {
    "duration": 118,
    "start_time": "2023-07-01T12:18:43.376Z"
   },
   {
    "duration": 20,
    "start_time": "2023-07-01T12:18:43.568Z"
   },
   {
    "duration": 90,
    "start_time": "2023-07-01T12:18:43.591Z"
   },
   {
    "duration": 18,
    "start_time": "2023-07-01T12:18:43.684Z"
   },
   {
    "duration": 68,
    "start_time": "2023-07-01T12:18:43.704Z"
   },
   {
    "duration": 125,
    "start_time": "2023-07-01T12:18:43.774Z"
   },
   {
    "duration": 1510,
    "start_time": "2023-07-01T12:18:43.974Z"
   },
   {
    "duration": 87,
    "start_time": "2023-07-01T12:18:45.488Z"
   },
   {
    "duration": 12,
    "start_time": "2023-07-01T12:18:45.579Z"
   },
   {
    "duration": 4,
    "start_time": "2023-07-01T12:18:45.679Z"
   },
   {
    "duration": 5,
    "start_time": "2023-07-01T12:18:45.685Z"
   },
   {
    "duration": 11,
    "start_time": "2023-07-01T12:18:45.692Z"
   },
   {
    "duration": 8,
    "start_time": "2023-07-01T12:18:45.705Z"
   },
   {
    "duration": 229,
    "start_time": "2023-07-01T12:18:45.715Z"
   },
   {
    "duration": 0,
    "start_time": "2023-07-01T12:18:45.946Z"
   },
   {
    "duration": 0,
    "start_time": "2023-07-01T12:18:45.947Z"
   },
   {
    "duration": 0,
    "start_time": "2023-07-01T12:18:45.948Z"
   },
   {
    "duration": 0,
    "start_time": "2023-07-01T12:18:45.949Z"
   },
   {
    "duration": 2,
    "start_time": "2023-07-01T12:19:05.885Z"
   },
   {
    "duration": 9,
    "start_time": "2023-07-01T12:19:12.910Z"
   },
   {
    "duration": 14,
    "start_time": "2023-07-01T12:19:27.822Z"
   },
   {
    "duration": 16,
    "start_time": "2023-07-01T12:19:44.644Z"
   },
   {
    "duration": 4,
    "start_time": "2023-07-01T12:20:28.181Z"
   },
   {
    "duration": 2,
    "start_time": "2023-07-01T12:21:34.565Z"
   },
   {
    "duration": 8,
    "start_time": "2023-07-01T12:21:36.244Z"
   },
   {
    "duration": 15,
    "start_time": "2023-07-01T12:21:39.957Z"
   },
   {
    "duration": 15,
    "start_time": "2023-07-01T12:21:42.692Z"
   },
   {
    "duration": 3,
    "start_time": "2023-07-01T12:23:25.669Z"
   },
   {
    "duration": 2865,
    "start_time": "2023-07-01T12:23:28.254Z"
   },
   {
    "duration": 1048,
    "start_time": "2023-07-01T12:29:40.838Z"
   },
   {
    "duration": 6,
    "start_time": "2023-07-01T12:29:53.972Z"
   },
   {
    "duration": 2871,
    "start_time": "2023-07-01T12:29:55.661Z"
   },
   {
    "duration": 3028,
    "start_time": "2023-07-01T12:30:07.629Z"
   },
   {
    "duration": 2798,
    "start_time": "2023-07-01T12:30:20.294Z"
   },
   {
    "duration": 4,
    "start_time": "2023-07-01T12:31:03.637Z"
   },
   {
    "duration": 2895,
    "start_time": "2023-07-01T12:31:09.533Z"
   },
   {
    "duration": 4,
    "start_time": "2023-07-01T13:01:05.542Z"
   },
   {
    "duration": 4,
    "start_time": "2023-07-01T13:05:27.138Z"
   },
   {
    "duration": 4,
    "start_time": "2023-07-01T13:06:53.906Z"
   },
   {
    "duration": 3153,
    "start_time": "2023-07-01T13:08:45.128Z"
   },
   {
    "duration": 3224,
    "start_time": "2023-07-01T13:09:30.391Z"
   },
   {
    "duration": 2945,
    "start_time": "2023-07-01T13:09:37.024Z"
   },
   {
    "duration": 15,
    "start_time": "2023-07-01T13:11:15.343Z"
   },
   {
    "duration": 13,
    "start_time": "2023-07-01T13:11:17.432Z"
   },
   {
    "duration": 8,
    "start_time": "2023-07-01T13:11:19.847Z"
   },
   {
    "duration": 4732,
    "start_time": "2023-07-01T13:14:02.602Z"
   },
   {
    "duration": 48,
    "start_time": "2023-07-01T13:14:07.337Z"
   },
   {
    "duration": 445,
    "start_time": "2023-07-01T13:14:07.388Z"
   },
   {
    "duration": 10087,
    "start_time": "2023-07-01T13:14:07.838Z"
   },
   {
    "duration": 23,
    "start_time": "2023-07-01T13:14:17.927Z"
   },
   {
    "duration": 8586,
    "start_time": "2023-07-01T13:14:17.952Z"
   },
   {
    "duration": 49,
    "start_time": "2023-07-01T13:14:26.540Z"
   },
   {
    "duration": 9230,
    "start_time": "2023-07-01T13:14:26.591Z"
   },
   {
    "duration": 66,
    "start_time": "2023-07-01T13:14:35.831Z"
   },
   {
    "duration": 23,
    "start_time": "2023-07-01T13:14:35.901Z"
   },
   {
    "duration": 48,
    "start_time": "2023-07-01T13:14:35.926Z"
   },
   {
    "duration": 27,
    "start_time": "2023-07-01T13:14:35.976Z"
   },
   {
    "duration": 15,
    "start_time": "2023-07-01T13:14:36.005Z"
   },
   {
    "duration": 10,
    "start_time": "2023-07-01T13:14:36.068Z"
   },
   {
    "duration": 2211,
    "start_time": "2023-07-01T13:14:36.080Z"
   },
   {
    "duration": 6,
    "start_time": "2023-07-01T13:14:38.371Z"
   },
   {
    "duration": 20,
    "start_time": "2023-07-01T13:14:38.382Z"
   },
   {
    "duration": 99,
    "start_time": "2023-07-01T13:14:38.403Z"
   },
   {
    "duration": 167,
    "start_time": "2023-07-01T13:14:38.504Z"
   },
   {
    "duration": 20,
    "start_time": "2023-07-01T13:14:38.678Z"
   },
   {
    "duration": 17,
    "start_time": "2023-07-01T13:14:38.770Z"
   },
   {
    "duration": 20,
    "start_time": "2023-07-01T13:14:38.789Z"
   },
   {
    "duration": 170,
    "start_time": "2023-07-01T13:14:38.810Z"
   },
   {
    "duration": 108,
    "start_time": "2023-07-01T13:14:38.987Z"
   },
   {
    "duration": 2077,
    "start_time": "2023-07-01T13:14:39.101Z"
   },
   {
    "duration": 80,
    "start_time": "2023-07-01T13:14:41.194Z"
   },
   {
    "duration": 4,
    "start_time": "2023-07-01T13:14:41.284Z"
   },
   {
    "duration": 30,
    "start_time": "2023-07-01T13:14:41.291Z"
   },
   {
    "duration": 8,
    "start_time": "2023-07-01T13:14:41.322Z"
   },
   {
    "duration": 13,
    "start_time": "2023-07-01T13:14:41.331Z"
   },
   {
    "duration": 3,
    "start_time": "2023-07-01T13:14:41.346Z"
   },
   {
    "duration": 9,
    "start_time": "2023-07-01T13:14:41.351Z"
   },
   {
    "duration": 19,
    "start_time": "2023-07-01T13:14:41.362Z"
   },
   {
    "duration": 18,
    "start_time": "2023-07-01T13:14:41.383Z"
   },
   {
    "duration": 17,
    "start_time": "2023-07-01T13:14:41.402Z"
   },
   {
    "duration": 6,
    "start_time": "2023-07-01T13:14:41.421Z"
   },
   {
    "duration": 3620,
    "start_time": "2023-07-01T13:14:41.430Z"
   },
   {
    "duration": 6,
    "start_time": "2023-07-01T13:15:14.868Z"
   },
   {
    "duration": 19511,
    "start_time": "2023-07-02T09:49:09.119Z"
   },
   {
    "duration": 51,
    "start_time": "2023-07-02T09:49:28.633Z"
   },
   {
    "duration": 1016,
    "start_time": "2023-07-02T09:49:28.688Z"
   },
   {
    "duration": 10359,
    "start_time": "2023-07-02T09:49:29.706Z"
   },
   {
    "duration": 31,
    "start_time": "2023-07-02T09:49:40.068Z"
   },
   {
    "duration": 9581,
    "start_time": "2023-07-02T09:49:40.101Z"
   },
   {
    "duration": 77,
    "start_time": "2023-07-02T09:49:49.687Z"
   },
   {
    "duration": 9719,
    "start_time": "2023-07-02T09:49:49.771Z"
   },
   {
    "duration": 78,
    "start_time": "2023-07-02T09:49:59.492Z"
   },
   {
    "duration": 31,
    "start_time": "2023-07-02T09:49:59.577Z"
   },
   {
    "duration": 19,
    "start_time": "2023-07-02T09:49:59.610Z"
   },
   {
    "duration": 35,
    "start_time": "2023-07-02T09:49:59.631Z"
   },
   {
    "duration": 113,
    "start_time": "2023-07-02T09:49:59.668Z"
   },
   {
    "duration": 22,
    "start_time": "2023-07-02T09:49:59.853Z"
   },
   {
    "duration": 2669,
    "start_time": "2023-07-02T09:49:59.883Z"
   },
   {
    "duration": 14,
    "start_time": "2023-07-02T09:50:02.554Z"
   },
   {
    "duration": 91,
    "start_time": "2023-07-02T09:50:02.570Z"
   },
   {
    "duration": 191,
    "start_time": "2023-07-02T09:50:02.665Z"
   },
   {
    "duration": 98,
    "start_time": "2023-07-02T09:50:02.858Z"
   },
   {
    "duration": 133,
    "start_time": "2023-07-02T09:50:02.958Z"
   },
   {
    "duration": 5,
    "start_time": "2023-07-02T09:50:03.093Z"
   },
   {
    "duration": 33,
    "start_time": "2023-07-02T09:50:03.100Z"
   },
   {
    "duration": 131,
    "start_time": "2023-07-02T09:50:03.135Z"
   },
   {
    "duration": 112,
    "start_time": "2023-07-02T09:50:03.271Z"
   },
   {
    "duration": 4930,
    "start_time": "2023-07-02T09:50:03.388Z"
   },
   {
    "duration": 6,
    "start_time": "2023-07-02T09:50:08.320Z"
   },
   {
    "duration": 95,
    "start_time": "2023-07-02T09:50:08.363Z"
   },
   {
    "duration": 45,
    "start_time": "2023-07-02T09:50:08.459Z"
   },
   {
    "duration": 11,
    "start_time": "2023-07-02T09:50:08.507Z"
   },
   {
    "duration": 9,
    "start_time": "2023-07-02T09:50:08.520Z"
   },
   {
    "duration": 17,
    "start_time": "2023-07-02T09:50:08.531Z"
   },
   {
    "duration": 59,
    "start_time": "2023-07-02T09:50:08.550Z"
   },
   {
    "duration": 28,
    "start_time": "2023-07-02T09:50:08.611Z"
   },
   {
    "duration": 28,
    "start_time": "2023-07-02T09:50:08.641Z"
   },
   {
    "duration": 43,
    "start_time": "2023-07-02T09:50:08.671Z"
   },
   {
    "duration": 3634,
    "start_time": "2023-07-02T09:50:08.717Z"
   },
   {
    "duration": 6,
    "start_time": "2023-07-02T09:50:12.361Z"
   },
   {
    "duration": 6,
    "start_time": "2023-07-02T10:02:46.617Z"
   },
   {
    "duration": 4651,
    "start_time": "2023-07-03T00:56:22.633Z"
   },
   {
    "duration": 71,
    "start_time": "2023-07-03T00:56:27.286Z"
   },
   {
    "duration": 341,
    "start_time": "2023-07-03T00:56:27.358Z"
   },
   {
    "duration": 3476,
    "start_time": "2023-07-03T00:56:27.701Z"
   },
   {
    "duration": 0,
    "start_time": "2023-07-03T00:56:31.180Z"
   },
   {
    "duration": 0,
    "start_time": "2023-07-03T00:56:31.181Z"
   },
   {
    "duration": 0,
    "start_time": "2023-07-03T00:56:31.182Z"
   },
   {
    "duration": 0,
    "start_time": "2023-07-03T00:56:31.182Z"
   },
   {
    "duration": 0,
    "start_time": "2023-07-03T00:56:31.183Z"
   },
   {
    "duration": 0,
    "start_time": "2023-07-03T00:56:31.184Z"
   },
   {
    "duration": 0,
    "start_time": "2023-07-03T00:56:31.185Z"
   },
   {
    "duration": 0,
    "start_time": "2023-07-03T00:56:31.185Z"
   },
   {
    "duration": 0,
    "start_time": "2023-07-03T00:56:31.186Z"
   },
   {
    "duration": 0,
    "start_time": "2023-07-03T00:56:31.187Z"
   },
   {
    "duration": 0,
    "start_time": "2023-07-03T00:56:31.188Z"
   },
   {
    "duration": 0,
    "start_time": "2023-07-03T00:56:31.189Z"
   },
   {
    "duration": 0,
    "start_time": "2023-07-03T00:56:31.190Z"
   },
   {
    "duration": 0,
    "start_time": "2023-07-03T00:56:31.191Z"
   },
   {
    "duration": 0,
    "start_time": "2023-07-03T00:56:31.192Z"
   },
   {
    "duration": 0,
    "start_time": "2023-07-03T00:56:31.193Z"
   },
   {
    "duration": 0,
    "start_time": "2023-07-03T00:56:31.193Z"
   },
   {
    "duration": 0,
    "start_time": "2023-07-03T00:56:31.194Z"
   },
   {
    "duration": 0,
    "start_time": "2023-07-03T00:56:31.195Z"
   },
   {
    "duration": 0,
    "start_time": "2023-07-03T00:56:31.196Z"
   },
   {
    "duration": 0,
    "start_time": "2023-07-03T00:56:31.197Z"
   },
   {
    "duration": 0,
    "start_time": "2023-07-03T00:56:31.198Z"
   },
   {
    "duration": 0,
    "start_time": "2023-07-03T00:56:31.199Z"
   },
   {
    "duration": 0,
    "start_time": "2023-07-03T00:56:31.231Z"
   },
   {
    "duration": 1,
    "start_time": "2023-07-03T00:56:31.232Z"
   },
   {
    "duration": 0,
    "start_time": "2023-07-03T00:56:31.233Z"
   },
   {
    "duration": 0,
    "start_time": "2023-07-03T00:56:31.234Z"
   },
   {
    "duration": 0,
    "start_time": "2023-07-03T00:56:31.235Z"
   },
   {
    "duration": 0,
    "start_time": "2023-07-03T00:56:31.236Z"
   },
   {
    "duration": 0,
    "start_time": "2023-07-03T00:56:31.237Z"
   },
   {
    "duration": 0,
    "start_time": "2023-07-03T00:56:31.238Z"
   },
   {
    "duration": 0,
    "start_time": "2023-07-03T00:56:31.239Z"
   },
   {
    "duration": 0,
    "start_time": "2023-07-03T00:56:31.240Z"
   },
   {
    "duration": 4712,
    "start_time": "2023-07-03T00:56:45.278Z"
   },
   {
    "duration": 48,
    "start_time": "2023-07-03T00:56:49.992Z"
   },
   {
    "duration": 346,
    "start_time": "2023-07-03T00:56:50.042Z"
   },
   {
    "duration": 3,
    "start_time": "2023-07-03T00:56:50.390Z"
   },
   {
    "duration": 26,
    "start_time": "2023-07-03T00:56:50.394Z"
   },
   {
    "duration": 11,
    "start_time": "2023-07-03T00:56:50.421Z"
   },
   {
    "duration": 39,
    "start_time": "2023-07-03T00:56:50.433Z"
   },
   {
    "duration": 3,
    "start_time": "2023-07-03T00:56:50.474Z"
   },
   {
    "duration": 28,
    "start_time": "2023-07-03T00:56:50.479Z"
   },
   {
    "duration": 33,
    "start_time": "2023-07-03T00:56:50.509Z"
   },
   {
    "duration": 15,
    "start_time": "2023-07-03T00:56:50.544Z"
   },
   {
    "duration": 28,
    "start_time": "2023-07-03T00:56:50.561Z"
   },
   {
    "duration": 42,
    "start_time": "2023-07-03T00:56:50.591Z"
   },
   {
    "duration": 6,
    "start_time": "2023-07-03T00:56:50.635Z"
   },
   {
    "duration": 1006,
    "start_time": "2023-07-03T00:56:50.732Z"
   },
   {
    "duration": 94,
    "start_time": "2023-07-03T00:56:51.740Z"
   },
   {
    "duration": 112,
    "start_time": "2023-07-03T00:56:51.836Z"
   },
   {
    "duration": 83,
    "start_time": "2023-07-03T00:56:51.950Z"
   },
   {
    "duration": 114,
    "start_time": "2023-07-03T00:56:52.035Z"
   },
   {
    "duration": 86,
    "start_time": "2023-07-03T00:56:52.152Z"
   },
   {
    "duration": 113,
    "start_time": "2023-07-03T00:56:52.242Z"
   },
   {
    "duration": 31,
    "start_time": "2023-07-03T00:56:52.357Z"
   },
   {
    "duration": 45,
    "start_time": "2023-07-03T00:56:52.390Z"
   },
   {
    "duration": 209,
    "start_time": "2023-07-03T00:56:52.437Z"
   },
   {
    "duration": 1191,
    "start_time": "2023-07-03T00:56:52.649Z"
   },
   {
    "duration": 7,
    "start_time": "2023-07-03T00:56:53.933Z"
   },
   {
    "duration": 21,
    "start_time": "2023-07-03T00:56:54.031Z"
   },
   {
    "duration": 19,
    "start_time": "2023-07-03T00:56:54.055Z"
   },
   {
    "duration": 7,
    "start_time": "2023-07-03T00:56:54.076Z"
   },
   {
    "duration": 9,
    "start_time": "2023-07-03T00:56:54.085Z"
   },
   {
    "duration": 18,
    "start_time": "2023-07-03T00:56:54.095Z"
   },
   {
    "duration": 9,
    "start_time": "2023-07-03T00:56:54.114Z"
   },
   {
    "duration": 13,
    "start_time": "2023-07-03T00:56:54.124Z"
   },
   {
    "duration": 16,
    "start_time": "2023-07-03T00:56:54.138Z"
   },
   {
    "duration": 5,
    "start_time": "2023-07-03T00:56:54.156Z"
   },
   {
    "duration": 2862,
    "start_time": "2023-07-03T00:56:54.163Z"
   },
   {
    "duration": 6,
    "start_time": "2023-07-03T00:56:57.027Z"
   },
   {
    "duration": 4,
    "start_time": "2023-07-03T00:57:34.329Z"
   },
   {
    "duration": 4,
    "start_time": "2023-07-03T01:00:39.453Z"
   },
   {
    "duration": 2710,
    "start_time": "2023-07-03T01:00:42.668Z"
   },
   {
    "duration": 4,
    "start_time": "2023-07-03T01:02:01.636Z"
   },
   {
    "duration": 2582,
    "start_time": "2023-07-03T01:02:04.328Z"
   },
   {
    "duration": 4,
    "start_time": "2023-07-03T01:02:06.912Z"
   },
   {
    "duration": 13,
    "start_time": "2023-07-03T01:02:22.529Z"
   },
   {
    "duration": 11,
    "start_time": "2023-07-03T01:02:27.863Z"
   },
   {
    "duration": 7,
    "start_time": "2023-07-03T01:03:35.587Z"
   },
   {
    "duration": 12,
    "start_time": "2023-07-03T01:03:37.862Z"
   },
   {
    "duration": 4,
    "start_time": "2023-07-03T01:03:46.763Z"
   },
   {
    "duration": 2690,
    "start_time": "2023-07-03T01:03:48.287Z"
   },
   {
    "duration": 5,
    "start_time": "2023-07-03T01:03:55.114Z"
   },
   {
    "duration": 7,
    "start_time": "2023-07-03T01:04:07.300Z"
   },
   {
    "duration": 2650,
    "start_time": "2023-07-03T01:04:16.788Z"
   },
   {
    "duration": 30582,
    "start_time": "2023-07-03T01:09:34.529Z"
   }
  ],
  "kernelspec": {
   "display_name": "Python 3 (ipykernel)",
   "language": "python",
   "name": "python3"
  },
  "language_info": {
   "codemirror_mode": {
    "name": "ipython",
    "version": 3
   },
   "file_extension": ".py",
   "mimetype": "text/x-python",
   "name": "python",
   "nbconvert_exporter": "python",
   "pygments_lexer": "ipython3",
   "version": "3.10.9"
  },
  "toc": {
   "base_numbering": 1,
   "nav_menu": {},
   "number_sections": true,
   "sideBar": true,
   "skip_h1_title": true,
   "title_cell": "Table of Contents",
   "title_sidebar": "Contents",
   "toc_cell": false,
   "toc_position": {},
   "toc_section_display": true,
   "toc_window_display": false
  }
 },
 "nbformat": 4,
 "nbformat_minor": 2
}
