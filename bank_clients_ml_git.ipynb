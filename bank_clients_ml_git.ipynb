{
 "cells": [
  {
   "cell_type": "markdown",
   "metadata": {
    "toc": true
   },
   "source": [
    "<h1>Содержание<span class=\"tocSkip\"></span></h1>\n",
    "<div class=\"toc\"><ul class=\"toc-item\"><li><span><a href=\"#Подготовка-данных\" data-toc-modified-id=\"Подготовка-данных-1\"><span class=\"toc-item-num\">1&nbsp;&nbsp;</span>Подготовка данных</a></span></li><li><span><a href=\"#Исследование-задачи\" data-toc-modified-id=\"Исследование-задачи-2\"><span class=\"toc-item-num\">2&nbsp;&nbsp;</span>Исследование задачи</a></span><ul class=\"toc-item\"><li><span><a href=\"#Логистическая-регрессия\" data-toc-modified-id=\"Логистическая-регрессия-2.1\"><span class=\"toc-item-num\">2.1&nbsp;&nbsp;</span>Логистическая регрессия</a></span></li><li><span><a href=\"#Наивный-байесовский-классификатор\" data-toc-modified-id=\"Наивный-байесовский-классификатор-2.2\"><span class=\"toc-item-num\">2.2&nbsp;&nbsp;</span>Наивный байесовский классификатор</a></span></li><li><span><a href=\"#Дерево-решений\" data-toc-modified-id=\"Дерево-решений-2.3\"><span class=\"toc-item-num\">2.3&nbsp;&nbsp;</span>Дерево решений</a></span></li><li><span><a href=\"#Случайный-лес\" data-toc-modified-id=\"Случайный-лес-2.4\"><span class=\"toc-item-num\">2.4&nbsp;&nbsp;</span>Случайный лес</a></span></li></ul></li><li><span><a href=\"#Борьба-с-дисбалансом\" data-toc-modified-id=\"Борьба-с-дисбалансом-3\"><span class=\"toc-item-num\">3&nbsp;&nbsp;</span>Борьба с дисбалансом</a></span><ul class=\"toc-item\"><li><span><a href=\"#Upsampling\" data-toc-modified-id=\"Upsampling-3.1\"><span class=\"toc-item-num\">3.1&nbsp;&nbsp;</span>Upsampling</a></span><ul class=\"toc-item\"><li><span><a href=\"#Логистическая-регрессия\" data-toc-modified-id=\"Логистическая-регрессия-3.1.1\"><span class=\"toc-item-num\">3.1.1&nbsp;&nbsp;</span>Логистическая регрессия</a></span></li><li><span><a href=\"#Наивный-байесовский-классификатор\" data-toc-modified-id=\"Наивный-байесовский-классификатор-3.1.2\"><span class=\"toc-item-num\">3.1.2&nbsp;&nbsp;</span>Наивный байесовский классификатор</a></span></li><li><span><a href=\"#Дерево-решений\" data-toc-modified-id=\"Дерево-решений-3.1.3\"><span class=\"toc-item-num\">3.1.3&nbsp;&nbsp;</span>Дерево решений</a></span></li><li><span><a href=\"#Случайный-лес\" data-toc-modified-id=\"Случайный-лес-3.1.4\"><span class=\"toc-item-num\">3.1.4&nbsp;&nbsp;</span>Случайный лес</a></span></li></ul></li><li><span><a href=\"#Downsampling\" data-toc-modified-id=\"Downsampling-3.2\"><span class=\"toc-item-num\">3.2&nbsp;&nbsp;</span>Downsampling</a></span><ul class=\"toc-item\"><li><span><a href=\"#Логистическая-регрессия\" data-toc-modified-id=\"Логистическая-регрессия-3.2.1\"><span class=\"toc-item-num\">3.2.1&nbsp;&nbsp;</span>Логистическая регрессия</a></span></li><li><span><a href=\"#Наивный-байесовский-классификатор.\" data-toc-modified-id=\"Наивный-байесовский-классификатор.-3.2.2\"><span class=\"toc-item-num\">3.2.2&nbsp;&nbsp;</span>Наивный байесовский классификатор.</a></span></li><li><span><a href=\"#Дерево-решений\" data-toc-modified-id=\"Дерево-решений-3.2.3\"><span class=\"toc-item-num\">3.2.3&nbsp;&nbsp;</span>Дерево решений</a></span></li><li><span><a href=\"#Случайный-лес\" data-toc-modified-id=\"Случайный-лес-3.2.4\"><span class=\"toc-item-num\">3.2.4&nbsp;&nbsp;</span>Случайный лес</a></span></li></ul></li><li><span><a href=\"#Параметр-balanced\" data-toc-modified-id=\"Параметр-balanced-3.3\"><span class=\"toc-item-num\">3.3&nbsp;&nbsp;</span>Параметр <code>balanced</code></a></span><ul class=\"toc-item\"><li><span><a href=\"#Логистическая-регрессия\" data-toc-modified-id=\"Логистическая-регрессия-3.3.1\"><span class=\"toc-item-num\">3.3.1&nbsp;&nbsp;</span>Логистическая регрессия</a></span></li><li><span><a href=\"#Дерево-решений\" data-toc-modified-id=\"Дерево-решений-3.3.2\"><span class=\"toc-item-num\">3.3.2&nbsp;&nbsp;</span>Дерево решений</a></span></li><li><span><a href=\"#Случайный-лес\" data-toc-modified-id=\"Случайный-лес-3.3.3\"><span class=\"toc-item-num\">3.3.3&nbsp;&nbsp;</span>Случайный лес</a></span></li></ul></li></ul></li><li><span><a href=\"#Тестирование-модели\" data-toc-modified-id=\"Тестирование-модели-4\"><span class=\"toc-item-num\">4&nbsp;&nbsp;</span>Тестирование модели</a></span></li><li><span><a href=\"#Вывод\" data-toc-modified-id=\"Вывод-5\"><span class=\"toc-item-num\">5&nbsp;&nbsp;</span>Вывод</a></span></li><li><span><a href=\"#Чек-лист-готовности-проекта\" data-toc-modified-id=\"Чек-лист-готовности-проекта-6\"><span class=\"toc-item-num\">6&nbsp;&nbsp;</span>Чек-лист готовности проекта</a></span></li></ul></div>"
   ]
  },
  {
   "cell_type": "markdown",
   "metadata": {},
   "source": [
    "# Отток клиентов"
   ]
  },
  {
   "cell_type": "markdown",
   "metadata": {},
   "source": [
    "Из «Бета-Банка» стали уходить клиенты. Каждый месяц. Немного, но заметно. Банковские маркетологи посчитали: сохранять текущих клиентов дешевле, чем привлекать новых.\n",
    "\n",
    "Нужно спрогнозировать, уйдёт клиент из банка в ближайшее время или нет. Вам предоставлены исторические данные о поведении клиентов и расторжении договоров с банком. \n",
    "\n",
    "Постройте модель с предельно большим значением *F1*-меры. Чтобы сдать проект успешно, нужно довести метрику до 0.59. Проверьте *F1*-меру на тестовой выборке самостоятельно.\n",
    "\n",
    "Дополнительно измеряйте *AUC-ROC*, сравнивайте её значение с *F1*-мерой.\n",
    "\n",
    "Источник данных: [https://www.kaggle.com/barelydedicated/bank-customer-churn-modeling](https://www.kaggle.com/barelydedicated/bank-customer-churn-modeling)"
   ]
  },
  {
   "cell_type": "markdown",
   "metadata": {},
   "source": [
    "## Подготовка данных"
   ]
  },
  {
   "cell_type": "markdown",
   "metadata": {},
   "source": [
    "Импортируем библиотеки для работы."
   ]
  },
  {
   "cell_type": "code",
   "execution_count": 1,
   "metadata": {},
   "outputs": [
    {
     "name": "stdout",
     "output_type": "stream",
     "text": [
      "Requirement already satisfied: fast_ml in /opt/conda/lib/python3.9/site-packages (3.68)\r\n"
     ]
    }
   ],
   "source": [
    "!pip install fast_ml # установка библиотеки fast_ml"
   ]
  },
  {
   "cell_type": "code",
   "execution_count": 2,
   "metadata": {},
   "outputs": [],
   "source": [
    "import pandas as pd # библиотека Pandas\n",
    "import numpy as np # библиотека Numpy\n",
    "from fast_ml.model_development import train_valid_test_split # библиотека для разделения выборки на обучающую, \n",
    "                                                             # тестовую, валидационную\n",
    "from sklearn.linear_model import LogisticRegression # модель Логистической регрессии\n",
    "from sklearn.naive_bayes import GaussianNB # модель Байесовского классификатора\n",
    "from sklearn.tree import DecisionTreeClassifier # модель Дерева решений\n",
    "from sklearn.ensemble import RandomForestClassifier # модель Случайный лес\n",
    "from sklearn.preprocessing import StandardScaler # библиотека для стандартизации значений признаков\n",
    "from sklearn.metrics import (\n",
    "    confusion_matrix, # матрица ошибок\n",
    "    f1_score, # метрика F1\n",
    "    precision_score, # метрика точность\n",
    "    recall_score, # метрика полнота\n",
    "    roc_auc_score, # площадь для roc кривой\n",
    "    roc_curve # roc кривая\n",
    ")\n",
    "from sklearn.utils import shuffle # перемешка\n",
    "import matplotlib.pyplot as plt # отрисовка\n",
    "from sklearn.dummy import DummyClassifier # библиотека для сравнения со случайной моделью"
   ]
  },
  {
   "cell_type": "markdown",
   "metadata": {},
   "source": [
    "Считываем файл, смотрим основную информацию."
   ]
  },
  {
   "cell_type": "code",
   "execution_count": 3,
   "metadata": {
    "scrolled": true
   },
   "outputs": [
    {
     "name": "stdout",
     "output_type": "stream",
     "text": [
      "<class 'pandas.core.frame.DataFrame'>\n",
      "RangeIndex: 10000 entries, 0 to 9999\n",
      "Data columns (total 14 columns):\n",
      " #   Column           Non-Null Count  Dtype  \n",
      "---  ------           --------------  -----  \n",
      " 0   RowNumber        10000 non-null  int64  \n",
      " 1   CustomerId       10000 non-null  int64  \n",
      " 2   Surname          10000 non-null  object \n",
      " 3   CreditScore      10000 non-null  int64  \n",
      " 4   Geography        10000 non-null  object \n",
      " 5   Gender           10000 non-null  object \n",
      " 6   Age              10000 non-null  int64  \n",
      " 7   Tenure           9091 non-null   float64\n",
      " 8   Balance          10000 non-null  float64\n",
      " 9   NumOfProducts    10000 non-null  int64  \n",
      " 10  HasCrCard        10000 non-null  int64  \n",
      " 11  IsActiveMember   10000 non-null  int64  \n",
      " 12  EstimatedSalary  10000 non-null  float64\n",
      " 13  Exited           10000 non-null  int64  \n",
      "dtypes: float64(3), int64(8), object(3)\n",
      "memory usage: 1.1+ MB\n"
     ]
    }
   ],
   "source": [
    "data = pd.read_csv('/datasets/Churn.csv')\n",
    "data.info()"
   ]
  },
  {
   "cell_type": "markdown",
   "metadata": {},
   "source": [
    "В данных присутствуют 10 тысяч строк и 14 столбцов. Значения столбцов:\n",
    " - `RowNumber` — индекс строки в данных;\n",
    " - `CustomerId` — уникальный идентификатор клиента;\n",
    " - `Surname` — фамилия;\n",
    " - `CreditScore` — кредитный рейтинг;\n",
    " - `Geography` — страна проживания;\n",
    " - `Gender` — пол;\n",
    " - `Age` — возраст;\n",
    " - `Tenure` — сколько лет человек является клиентом банка;\n",
    " - `Balance` — баланс на счёте;\n",
    " - `NumOfProducts` — количество продуктов банка, используемых клиентом;\n",
    " - `HasCrCard` — наличие кредитной карты;\n",
    " - `IsActiveMember` — активность клиента;\n",
    " - `EstimatedSalary` — предполагаемая зарплата."
   ]
  },
  {
   "cell_type": "markdown",
   "metadata": {},
   "source": [
    "Приведем названия столбцов по PEP 8."
   ]
  },
  {
   "cell_type": "code",
   "execution_count": 4,
   "metadata": {
    "scrolled": true
   },
   "outputs": [
    {
     "data": {
      "text/html": [
       "<div>\n",
       "<style scoped>\n",
       "    .dataframe tbody tr th:only-of-type {\n",
       "        vertical-align: middle;\n",
       "    }\n",
       "\n",
       "    .dataframe tbody tr th {\n",
       "        vertical-align: top;\n",
       "    }\n",
       "\n",
       "    .dataframe thead th {\n",
       "        text-align: right;\n",
       "    }\n",
       "</style>\n",
       "<table border=\"1\" class=\"dataframe\">\n",
       "  <thead>\n",
       "    <tr style=\"text-align: right;\">\n",
       "      <th></th>\n",
       "      <th>rownumber</th>\n",
       "      <th>id</th>\n",
       "      <th>surname</th>\n",
       "      <th>credit_score</th>\n",
       "      <th>geography</th>\n",
       "      <th>gender</th>\n",
       "      <th>age</th>\n",
       "      <th>tenure</th>\n",
       "      <th>balance</th>\n",
       "      <th>num_of_products</th>\n",
       "      <th>has_credit_card</th>\n",
       "      <th>is_active_member</th>\n",
       "      <th>estimated_salary</th>\n",
       "      <th>exited</th>\n",
       "    </tr>\n",
       "  </thead>\n",
       "  <tbody>\n",
       "    <tr>\n",
       "      <th>0</th>\n",
       "      <td>1</td>\n",
       "      <td>15634602</td>\n",
       "      <td>Hargrave</td>\n",
       "      <td>619</td>\n",
       "      <td>France</td>\n",
       "      <td>Female</td>\n",
       "      <td>42</td>\n",
       "      <td>2.0</td>\n",
       "      <td>0.00</td>\n",
       "      <td>1</td>\n",
       "      <td>1</td>\n",
       "      <td>1</td>\n",
       "      <td>101348.88</td>\n",
       "      <td>1</td>\n",
       "    </tr>\n",
       "    <tr>\n",
       "      <th>1</th>\n",
       "      <td>2</td>\n",
       "      <td>15647311</td>\n",
       "      <td>Hill</td>\n",
       "      <td>608</td>\n",
       "      <td>Spain</td>\n",
       "      <td>Female</td>\n",
       "      <td>41</td>\n",
       "      <td>1.0</td>\n",
       "      <td>83807.86</td>\n",
       "      <td>1</td>\n",
       "      <td>0</td>\n",
       "      <td>1</td>\n",
       "      <td>112542.58</td>\n",
       "      <td>0</td>\n",
       "    </tr>\n",
       "    <tr>\n",
       "      <th>2</th>\n",
       "      <td>3</td>\n",
       "      <td>15619304</td>\n",
       "      <td>Onio</td>\n",
       "      <td>502</td>\n",
       "      <td>France</td>\n",
       "      <td>Female</td>\n",
       "      <td>42</td>\n",
       "      <td>8.0</td>\n",
       "      <td>159660.80</td>\n",
       "      <td>3</td>\n",
       "      <td>1</td>\n",
       "      <td>0</td>\n",
       "      <td>113931.57</td>\n",
       "      <td>1</td>\n",
       "    </tr>\n",
       "    <tr>\n",
       "      <th>3</th>\n",
       "      <td>4</td>\n",
       "      <td>15701354</td>\n",
       "      <td>Boni</td>\n",
       "      <td>699</td>\n",
       "      <td>France</td>\n",
       "      <td>Female</td>\n",
       "      <td>39</td>\n",
       "      <td>1.0</td>\n",
       "      <td>0.00</td>\n",
       "      <td>2</td>\n",
       "      <td>0</td>\n",
       "      <td>0</td>\n",
       "      <td>93826.63</td>\n",
       "      <td>0</td>\n",
       "    </tr>\n",
       "    <tr>\n",
       "      <th>4</th>\n",
       "      <td>5</td>\n",
       "      <td>15737888</td>\n",
       "      <td>Mitchell</td>\n",
       "      <td>850</td>\n",
       "      <td>Spain</td>\n",
       "      <td>Female</td>\n",
       "      <td>43</td>\n",
       "      <td>2.0</td>\n",
       "      <td>125510.82</td>\n",
       "      <td>1</td>\n",
       "      <td>1</td>\n",
       "      <td>1</td>\n",
       "      <td>79084.10</td>\n",
       "      <td>0</td>\n",
       "    </tr>\n",
       "    <tr>\n",
       "      <th>...</th>\n",
       "      <td>...</td>\n",
       "      <td>...</td>\n",
       "      <td>...</td>\n",
       "      <td>...</td>\n",
       "      <td>...</td>\n",
       "      <td>...</td>\n",
       "      <td>...</td>\n",
       "      <td>...</td>\n",
       "      <td>...</td>\n",
       "      <td>...</td>\n",
       "      <td>...</td>\n",
       "      <td>...</td>\n",
       "      <td>...</td>\n",
       "      <td>...</td>\n",
       "    </tr>\n",
       "    <tr>\n",
       "      <th>9995</th>\n",
       "      <td>9996</td>\n",
       "      <td>15606229</td>\n",
       "      <td>Obijiaku</td>\n",
       "      <td>771</td>\n",
       "      <td>France</td>\n",
       "      <td>Male</td>\n",
       "      <td>39</td>\n",
       "      <td>5.0</td>\n",
       "      <td>0.00</td>\n",
       "      <td>2</td>\n",
       "      <td>1</td>\n",
       "      <td>0</td>\n",
       "      <td>96270.64</td>\n",
       "      <td>0</td>\n",
       "    </tr>\n",
       "    <tr>\n",
       "      <th>9996</th>\n",
       "      <td>9997</td>\n",
       "      <td>15569892</td>\n",
       "      <td>Johnstone</td>\n",
       "      <td>516</td>\n",
       "      <td>France</td>\n",
       "      <td>Male</td>\n",
       "      <td>35</td>\n",
       "      <td>10.0</td>\n",
       "      <td>57369.61</td>\n",
       "      <td>1</td>\n",
       "      <td>1</td>\n",
       "      <td>1</td>\n",
       "      <td>101699.77</td>\n",
       "      <td>0</td>\n",
       "    </tr>\n",
       "    <tr>\n",
       "      <th>9997</th>\n",
       "      <td>9998</td>\n",
       "      <td>15584532</td>\n",
       "      <td>Liu</td>\n",
       "      <td>709</td>\n",
       "      <td>France</td>\n",
       "      <td>Female</td>\n",
       "      <td>36</td>\n",
       "      <td>7.0</td>\n",
       "      <td>0.00</td>\n",
       "      <td>1</td>\n",
       "      <td>0</td>\n",
       "      <td>1</td>\n",
       "      <td>42085.58</td>\n",
       "      <td>1</td>\n",
       "    </tr>\n",
       "    <tr>\n",
       "      <th>9998</th>\n",
       "      <td>9999</td>\n",
       "      <td>15682355</td>\n",
       "      <td>Sabbatini</td>\n",
       "      <td>772</td>\n",
       "      <td>Germany</td>\n",
       "      <td>Male</td>\n",
       "      <td>42</td>\n",
       "      <td>3.0</td>\n",
       "      <td>75075.31</td>\n",
       "      <td>2</td>\n",
       "      <td>1</td>\n",
       "      <td>0</td>\n",
       "      <td>92888.52</td>\n",
       "      <td>1</td>\n",
       "    </tr>\n",
       "    <tr>\n",
       "      <th>9999</th>\n",
       "      <td>10000</td>\n",
       "      <td>15628319</td>\n",
       "      <td>Walker</td>\n",
       "      <td>792</td>\n",
       "      <td>France</td>\n",
       "      <td>Female</td>\n",
       "      <td>28</td>\n",
       "      <td>NaN</td>\n",
       "      <td>130142.79</td>\n",
       "      <td>1</td>\n",
       "      <td>1</td>\n",
       "      <td>0</td>\n",
       "      <td>38190.78</td>\n",
       "      <td>0</td>\n",
       "    </tr>\n",
       "  </tbody>\n",
       "</table>\n",
       "<p>10000 rows × 14 columns</p>\n",
       "</div>"
      ],
      "text/plain": [
       "      rownumber        id    surname  credit_score geography  gender  age  \\\n",
       "0             1  15634602   Hargrave           619    France  Female   42   \n",
       "1             2  15647311       Hill           608     Spain  Female   41   \n",
       "2             3  15619304       Onio           502    France  Female   42   \n",
       "3             4  15701354       Boni           699    France  Female   39   \n",
       "4             5  15737888   Mitchell           850     Spain  Female   43   \n",
       "...         ...       ...        ...           ...       ...     ...  ...   \n",
       "9995       9996  15606229   Obijiaku           771    France    Male   39   \n",
       "9996       9997  15569892  Johnstone           516    France    Male   35   \n",
       "9997       9998  15584532        Liu           709    France  Female   36   \n",
       "9998       9999  15682355  Sabbatini           772   Germany    Male   42   \n",
       "9999      10000  15628319     Walker           792    France  Female   28   \n",
       "\n",
       "      tenure    balance  num_of_products  has_credit_card  is_active_member  \\\n",
       "0        2.0       0.00                1                1                 1   \n",
       "1        1.0   83807.86                1                0                 1   \n",
       "2        8.0  159660.80                3                1                 0   \n",
       "3        1.0       0.00                2                0                 0   \n",
       "4        2.0  125510.82                1                1                 1   \n",
       "...      ...        ...              ...              ...               ...   \n",
       "9995     5.0       0.00                2                1                 0   \n",
       "9996    10.0   57369.61                1                1                 1   \n",
       "9997     7.0       0.00                1                0                 1   \n",
       "9998     3.0   75075.31                2                1                 0   \n",
       "9999     NaN  130142.79                1                1                 0   \n",
       "\n",
       "      estimated_salary  exited  \n",
       "0            101348.88       1  \n",
       "1            112542.58       0  \n",
       "2            113931.57       1  \n",
       "3             93826.63       0  \n",
       "4             79084.10       0  \n",
       "...                ...     ...  \n",
       "9995          96270.64       0  \n",
       "9996         101699.77       0  \n",
       "9997          42085.58       1  \n",
       "9998          92888.52       1  \n",
       "9999          38190.78       0  \n",
       "\n",
       "[10000 rows x 14 columns]"
      ]
     },
     "execution_count": 4,
     "metadata": {},
     "output_type": "execute_result"
    }
   ],
   "source": [
    "data.columns = data.columns.str.lower()\n",
    "data.rename(\n",
    "    columns={\n",
    "        'customerid' : 'id', 'creditscore' : 'credit_score', 'numofproducts' : 'num_of_products', \n",
    "        'hascrcard' : 'has_credit_card', 'isactivemember' : 'is_active_member', 'estimatedsalary' : 'estimated_salary'},\n",
    "    inplace=True)\n",
    "data"
   ]
  },
  {
   "cell_type": "markdown",
   "metadata": {},
   "source": [
    "Столбцы `rownumber`, `surname`, `id` удалим, они не понадобятся."
   ]
  },
  {
   "cell_type": "code",
   "execution_count": 5,
   "metadata": {},
   "outputs": [],
   "source": [
    "data.drop(columns=['rownumber', 'surname', 'id'], inplace=True)"
   ]
  },
  {
   "cell_type": "markdown",
   "metadata": {},
   "source": [
    "В данных есть пропуски в столбце `Tenure`, в котором указано, сколько лет пользователь является клиентом банка. Проверим уникальные значения."
   ]
  },
  {
   "cell_type": "code",
   "execution_count": 6,
   "metadata": {},
   "outputs": [
    {
     "data": {
      "text/plain": [
       "1.0     952\n",
       "2.0     950\n",
       "8.0     933\n",
       "3.0     928\n",
       "5.0     927\n",
       "7.0     925\n",
       "4.0     885\n",
       "9.0     882\n",
       "6.0     881\n",
       "10.0    446\n",
       "0.0     382\n",
       "Name: tenure, dtype: int64"
      ]
     },
     "execution_count": 6,
     "metadata": {},
     "output_type": "execute_result"
    }
   ],
   "source": [
    "data['tenure'].value_counts()"
   ]
  },
  {
   "cell_type": "markdown",
   "metadata": {},
   "source": [
    "В данных указаны пользователи, пользующиеся услугами банка до 10 лет включительно. Проверим, что общего у пользователей с пропусками и без пропусков."
   ]
  },
  {
   "cell_type": "code",
   "execution_count": 7,
   "metadata": {
    "scrolled": false
   },
   "outputs": [
    {
     "data": {
      "image/png": "[encoded data removed]",
      "text/plain": [
       "<Figure size 1296x864 with 9 Axes>"
      ]
     },
     "metadata": {
      "needs_background": "light"
     },
     "output_type": "display_data"
    },
    {
     "data": {
      "image/png": "[encoded data removed]",
      "text/plain": [
       "<Figure size 1296x864 with 9 Axes>"
      ]
     },
     "metadata": {
      "needs_background": "light"
     },
     "output_type": "display_data"
    }
   ],
   "source": [
    "data[data['tenure'].isna()].hist(figsize=(18, 12)); # гистограммы для строчек с пропусками\n",
    "data[~data['tenure'].isna()].hist(figsize=(18, 12)); # гистограммы для строчек без пропусков"
   ]
  },
  {
   "cell_type": "markdown",
   "metadata": {},
   "source": [
    "Существенных различий не выявлено, правильно заполнить пропуски не получится, лучше эти строки удалить. К слову можно оценить данные так: большинству клиентов от 30 до 40 лет, банк стал меньше привлекать клиентов, т.к. клиентов со \"стажем\" 0 лет — меньше всего, у большинства клиентов нет денег на счетах, а у тех, что деньги имеются, в среднем от 100 до 150 тысяч."
   ]
  },
  {
   "cell_type": "code",
   "execution_count": 8,
   "metadata": {
    "scrolled": true
   },
   "outputs": [
    {
     "data": {
      "text/html": [
       "<div>\n",
       "<style scoped>\n",
       "    .dataframe tbody tr th:only-of-type {\n",
       "        vertical-align: middle;\n",
       "    }\n",
       "\n",
       "    .dataframe tbody tr th {\n",
       "        vertical-align: top;\n",
       "    }\n",
       "\n",
       "    .dataframe thead th {\n",
       "        text-align: right;\n",
       "    }\n",
       "</style>\n",
       "<table border=\"1\" class=\"dataframe\">\n",
       "  <thead>\n",
       "    <tr style=\"text-align: right;\">\n",
       "      <th></th>\n",
       "      <th>credit_score</th>\n",
       "      <th>geography</th>\n",
       "      <th>gender</th>\n",
       "      <th>age</th>\n",
       "      <th>tenure</th>\n",
       "      <th>balance</th>\n",
       "      <th>num_of_products</th>\n",
       "      <th>has_credit_card</th>\n",
       "      <th>is_active_member</th>\n",
       "      <th>estimated_salary</th>\n",
       "      <th>exited</th>\n",
       "    </tr>\n",
       "  </thead>\n",
       "  <tbody>\n",
       "    <tr>\n",
       "      <th>0</th>\n",
       "      <td>619</td>\n",
       "      <td>France</td>\n",
       "      <td>Female</td>\n",
       "      <td>42</td>\n",
       "      <td>2.0</td>\n",
       "      <td>0.00</td>\n",
       "      <td>1</td>\n",
       "      <td>1</td>\n",
       "      <td>1</td>\n",
       "      <td>101348.88</td>\n",
       "      <td>1</td>\n",
       "    </tr>\n",
       "    <tr>\n",
       "      <th>1</th>\n",
       "      <td>608</td>\n",
       "      <td>Spain</td>\n",
       "      <td>Female</td>\n",
       "      <td>41</td>\n",
       "      <td>1.0</td>\n",
       "      <td>83807.86</td>\n",
       "      <td>1</td>\n",
       "      <td>0</td>\n",
       "      <td>1</td>\n",
       "      <td>112542.58</td>\n",
       "      <td>0</td>\n",
       "    </tr>\n",
       "    <tr>\n",
       "      <th>2</th>\n",
       "      <td>502</td>\n",
       "      <td>France</td>\n",
       "      <td>Female</td>\n",
       "      <td>42</td>\n",
       "      <td>8.0</td>\n",
       "      <td>159660.80</td>\n",
       "      <td>3</td>\n",
       "      <td>1</td>\n",
       "      <td>0</td>\n",
       "      <td>113931.57</td>\n",
       "      <td>1</td>\n",
       "    </tr>\n",
       "    <tr>\n",
       "      <th>3</th>\n",
       "      <td>699</td>\n",
       "      <td>France</td>\n",
       "      <td>Female</td>\n",
       "      <td>39</td>\n",
       "      <td>1.0</td>\n",
       "      <td>0.00</td>\n",
       "      <td>2</td>\n",
       "      <td>0</td>\n",
       "      <td>0</td>\n",
       "      <td>93826.63</td>\n",
       "      <td>0</td>\n",
       "    </tr>\n",
       "    <tr>\n",
       "      <th>4</th>\n",
       "      <td>850</td>\n",
       "      <td>Spain</td>\n",
       "      <td>Female</td>\n",
       "      <td>43</td>\n",
       "      <td>2.0</td>\n",
       "      <td>125510.82</td>\n",
       "      <td>1</td>\n",
       "      <td>1</td>\n",
       "      <td>1</td>\n",
       "      <td>79084.10</td>\n",
       "      <td>0</td>\n",
       "    </tr>\n",
       "    <tr>\n",
       "      <th>...</th>\n",
       "      <td>...</td>\n",
       "      <td>...</td>\n",
       "      <td>...</td>\n",
       "      <td>...</td>\n",
       "      <td>...</td>\n",
       "      <td>...</td>\n",
       "      <td>...</td>\n",
       "      <td>...</td>\n",
       "      <td>...</td>\n",
       "      <td>...</td>\n",
       "      <td>...</td>\n",
       "    </tr>\n",
       "    <tr>\n",
       "      <th>9994</th>\n",
       "      <td>800</td>\n",
       "      <td>France</td>\n",
       "      <td>Female</td>\n",
       "      <td>29</td>\n",
       "      <td>2.0</td>\n",
       "      <td>0.00</td>\n",
       "      <td>2</td>\n",
       "      <td>0</td>\n",
       "      <td>0</td>\n",
       "      <td>167773.55</td>\n",
       "      <td>0</td>\n",
       "    </tr>\n",
       "    <tr>\n",
       "      <th>9995</th>\n",
       "      <td>771</td>\n",
       "      <td>France</td>\n",
       "      <td>Male</td>\n",
       "      <td>39</td>\n",
       "      <td>5.0</td>\n",
       "      <td>0.00</td>\n",
       "      <td>2</td>\n",
       "      <td>1</td>\n",
       "      <td>0</td>\n",
       "      <td>96270.64</td>\n",
       "      <td>0</td>\n",
       "    </tr>\n",
       "    <tr>\n",
       "      <th>9996</th>\n",
       "      <td>516</td>\n",
       "      <td>France</td>\n",
       "      <td>Male</td>\n",
       "      <td>35</td>\n",
       "      <td>10.0</td>\n",
       "      <td>57369.61</td>\n",
       "      <td>1</td>\n",
       "      <td>1</td>\n",
       "      <td>1</td>\n",
       "      <td>101699.77</td>\n",
       "      <td>0</td>\n",
       "    </tr>\n",
       "    <tr>\n",
       "      <th>9997</th>\n",
       "      <td>709</td>\n",
       "      <td>France</td>\n",
       "      <td>Female</td>\n",
       "      <td>36</td>\n",
       "      <td>7.0</td>\n",
       "      <td>0.00</td>\n",
       "      <td>1</td>\n",
       "      <td>0</td>\n",
       "      <td>1</td>\n",
       "      <td>42085.58</td>\n",
       "      <td>1</td>\n",
       "    </tr>\n",
       "    <tr>\n",
       "      <th>9998</th>\n",
       "      <td>772</td>\n",
       "      <td>Germany</td>\n",
       "      <td>Male</td>\n",
       "      <td>42</td>\n",
       "      <td>3.0</td>\n",
       "      <td>75075.31</td>\n",
       "      <td>2</td>\n",
       "      <td>1</td>\n",
       "      <td>0</td>\n",
       "      <td>92888.52</td>\n",
       "      <td>1</td>\n",
       "    </tr>\n",
       "  </tbody>\n",
       "</table>\n",
       "<p>9091 rows × 11 columns</p>\n",
       "</div>"
      ],
      "text/plain": [
       "      credit_score geography  gender  age  tenure    balance  num_of_products  \\\n",
       "0              619    France  Female   42     2.0       0.00                1   \n",
       "1              608     Spain  Female   41     1.0   83807.86                1   \n",
       "2              502    France  Female   42     8.0  159660.80                3   \n",
       "3              699    France  Female   39     1.0       0.00                2   \n",
       "4              850     Spain  Female   43     2.0  125510.82                1   \n",
       "...            ...       ...     ...  ...     ...        ...              ...   \n",
       "9994           800    France  Female   29     2.0       0.00                2   \n",
       "9995           771    France    Male   39     5.0       0.00                2   \n",
       "9996           516    France    Male   35    10.0   57369.61                1   \n",
       "9997           709    France  Female   36     7.0       0.00                1   \n",
       "9998           772   Germany    Male   42     3.0   75075.31                2   \n",
       "\n",
       "      has_credit_card  is_active_member  estimated_salary  exited  \n",
       "0                   1                 1         101348.88       1  \n",
       "1                   0                 1         112542.58       0  \n",
       "2                   1                 0         113931.57       1  \n",
       "3                   0                 0          93826.63       0  \n",
       "4                   1                 1          79084.10       0  \n",
       "...               ...               ...               ...     ...  \n",
       "9994                0                 0         167773.55       0  \n",
       "9995                1                 0          96270.64       0  \n",
       "9996                1                 1         101699.77       0  \n",
       "9997                0                 1          42085.58       1  \n",
       "9998                1                 0          92888.52       1  \n",
       "\n",
       "[9091 rows x 11 columns]"
      ]
     },
     "execution_count": 8,
     "metadata": {},
     "output_type": "execute_result"
    }
   ],
   "source": [
    "data = data.dropna()\n",
    "data"
   ]
  },
  {
   "cell_type": "markdown",
   "metadata": {},
   "source": [
    "Осталось 9091 строчка в таблице. Проверим дубликаты."
   ]
  },
  {
   "cell_type": "code",
   "execution_count": 9,
   "metadata": {
    "scrolled": true
   },
   "outputs": [
    {
     "data": {
      "text/plain": [
       "0"
      ]
     },
     "execution_count": 9,
     "metadata": {},
     "output_type": "execute_result"
    }
   ],
   "source": [
    "data.duplicated().sum()"
   ]
  },
  {
   "cell_type": "markdown",
   "metadata": {},
   "source": [
    "Явных дубликатов нет."
   ]
  },
  {
   "cell_type": "markdown",
   "metadata": {},
   "source": [
    "**Данные готовы к обучению модели.**"
   ]
  },
  {
   "cell_type": "markdown",
   "metadata": {},
   "source": [
    "## Исследование задачи"
   ]
  },
  {
   "cell_type": "markdown",
   "metadata": {},
   "source": [
    "Перед нами стоит задача бинарной классификации. Необходимо понять, уйдет или останется клиент банка. Для решения этой задачи подойдет несколько моделей, например: логистическая регрессия (если модель обладает признаками линейности), наивный байесовский классификатор, дерево решений, случайный лес."
   ]
  },
  {
   "cell_type": "markdown",
   "metadata": {},
   "source": [
    "Для обучения модели мы разделим исходные данные на три части: обучающую, валидационную, тестовую."
   ]
  },
  {
   "cell_type": "markdown",
   "metadata": {},
   "source": [
    "Для улучшения модели стоит перебрать различные гиперпараметры, проверить баланс классов, сделать стандартизацию, мы обучим и протестируем модели с учетом и без учета дисбаланса классов и стандартизации."
   ]
  },
  {
   "cell_type": "markdown",
   "metadata": {},
   "source": [
    "Присвоим категориальным переменным бинарные значения."
   ]
  },
  {
   "cell_type": "code",
   "execution_count": 10,
   "metadata": {
    "scrolled": true
   },
   "outputs": [
    {
     "data": {
      "text/html": [
       "<div>\n",
       "<style scoped>\n",
       "    .dataframe tbody tr th:only-of-type {\n",
       "        vertical-align: middle;\n",
       "    }\n",
       "\n",
       "    .dataframe tbody tr th {\n",
       "        vertical-align: top;\n",
       "    }\n",
       "\n",
       "    .dataframe thead th {\n",
       "        text-align: right;\n",
       "    }\n",
       "</style>\n",
       "<table border=\"1\" class=\"dataframe\">\n",
       "  <thead>\n",
       "    <tr style=\"text-align: right;\">\n",
       "      <th></th>\n",
       "      <th>credit_score</th>\n",
       "      <th>age</th>\n",
       "      <th>tenure</th>\n",
       "      <th>balance</th>\n",
       "      <th>num_of_products</th>\n",
       "      <th>has_credit_card</th>\n",
       "      <th>is_active_member</th>\n",
       "      <th>estimated_salary</th>\n",
       "      <th>exited</th>\n",
       "      <th>geography_Germany</th>\n",
       "      <th>geography_Spain</th>\n",
       "      <th>gender_Male</th>\n",
       "    </tr>\n",
       "  </thead>\n",
       "  <tbody>\n",
       "    <tr>\n",
       "      <th>0</th>\n",
       "      <td>619</td>\n",
       "      <td>42</td>\n",
       "      <td>2.0</td>\n",
       "      <td>0.00</td>\n",
       "      <td>1</td>\n",
       "      <td>1</td>\n",
       "      <td>1</td>\n",
       "      <td>101348.88</td>\n",
       "      <td>1</td>\n",
       "      <td>0</td>\n",
       "      <td>0</td>\n",
       "      <td>0</td>\n",
       "    </tr>\n",
       "    <tr>\n",
       "      <th>1</th>\n",
       "      <td>608</td>\n",
       "      <td>41</td>\n",
       "      <td>1.0</td>\n",
       "      <td>83807.86</td>\n",
       "      <td>1</td>\n",
       "      <td>0</td>\n",
       "      <td>1</td>\n",
       "      <td>112542.58</td>\n",
       "      <td>0</td>\n",
       "      <td>0</td>\n",
       "      <td>1</td>\n",
       "      <td>0</td>\n",
       "    </tr>\n",
       "    <tr>\n",
       "      <th>2</th>\n",
       "      <td>502</td>\n",
       "      <td>42</td>\n",
       "      <td>8.0</td>\n",
       "      <td>159660.80</td>\n",
       "      <td>3</td>\n",
       "      <td>1</td>\n",
       "      <td>0</td>\n",
       "      <td>113931.57</td>\n",
       "      <td>1</td>\n",
       "      <td>0</td>\n",
       "      <td>0</td>\n",
       "      <td>0</td>\n",
       "    </tr>\n",
       "    <tr>\n",
       "      <th>3</th>\n",
       "      <td>699</td>\n",
       "      <td>39</td>\n",
       "      <td>1.0</td>\n",
       "      <td>0.00</td>\n",
       "      <td>2</td>\n",
       "      <td>0</td>\n",
       "      <td>0</td>\n",
       "      <td>93826.63</td>\n",
       "      <td>0</td>\n",
       "      <td>0</td>\n",
       "      <td>0</td>\n",
       "      <td>0</td>\n",
       "    </tr>\n",
       "    <tr>\n",
       "      <th>4</th>\n",
       "      <td>850</td>\n",
       "      <td>43</td>\n",
       "      <td>2.0</td>\n",
       "      <td>125510.82</td>\n",
       "      <td>1</td>\n",
       "      <td>1</td>\n",
       "      <td>1</td>\n",
       "      <td>79084.10</td>\n",
       "      <td>0</td>\n",
       "      <td>0</td>\n",
       "      <td>1</td>\n",
       "      <td>0</td>\n",
       "    </tr>\n",
       "    <tr>\n",
       "      <th>...</th>\n",
       "      <td>...</td>\n",
       "      <td>...</td>\n",
       "      <td>...</td>\n",
       "      <td>...</td>\n",
       "      <td>...</td>\n",
       "      <td>...</td>\n",
       "      <td>...</td>\n",
       "      <td>...</td>\n",
       "      <td>...</td>\n",
       "      <td>...</td>\n",
       "      <td>...</td>\n",
       "      <td>...</td>\n",
       "    </tr>\n",
       "    <tr>\n",
       "      <th>9994</th>\n",
       "      <td>800</td>\n",
       "      <td>29</td>\n",
       "      <td>2.0</td>\n",
       "      <td>0.00</td>\n",
       "      <td>2</td>\n",
       "      <td>0</td>\n",
       "      <td>0</td>\n",
       "      <td>167773.55</td>\n",
       "      <td>0</td>\n",
       "      <td>0</td>\n",
       "      <td>0</td>\n",
       "      <td>0</td>\n",
       "    </tr>\n",
       "    <tr>\n",
       "      <th>9995</th>\n",
       "      <td>771</td>\n",
       "      <td>39</td>\n",
       "      <td>5.0</td>\n",
       "      <td>0.00</td>\n",
       "      <td>2</td>\n",
       "      <td>1</td>\n",
       "      <td>0</td>\n",
       "      <td>96270.64</td>\n",
       "      <td>0</td>\n",
       "      <td>0</td>\n",
       "      <td>0</td>\n",
       "      <td>1</td>\n",
       "    </tr>\n",
       "    <tr>\n",
       "      <th>9996</th>\n",
       "      <td>516</td>\n",
       "      <td>35</td>\n",
       "      <td>10.0</td>\n",
       "      <td>57369.61</td>\n",
       "      <td>1</td>\n",
       "      <td>1</td>\n",
       "      <td>1</td>\n",
       "      <td>101699.77</td>\n",
       "      <td>0</td>\n",
       "      <td>0</td>\n",
       "      <td>0</td>\n",
       "      <td>1</td>\n",
       "    </tr>\n",
       "    <tr>\n",
       "      <th>9997</th>\n",
       "      <td>709</td>\n",
       "      <td>36</td>\n",
       "      <td>7.0</td>\n",
       "      <td>0.00</td>\n",
       "      <td>1</td>\n",
       "      <td>0</td>\n",
       "      <td>1</td>\n",
       "      <td>42085.58</td>\n",
       "      <td>1</td>\n",
       "      <td>0</td>\n",
       "      <td>0</td>\n",
       "      <td>0</td>\n",
       "    </tr>\n",
       "    <tr>\n",
       "      <th>9998</th>\n",
       "      <td>772</td>\n",
       "      <td>42</td>\n",
       "      <td>3.0</td>\n",
       "      <td>75075.31</td>\n",
       "      <td>2</td>\n",
       "      <td>1</td>\n",
       "      <td>0</td>\n",
       "      <td>92888.52</td>\n",
       "      <td>1</td>\n",
       "      <td>1</td>\n",
       "      <td>0</td>\n",
       "      <td>1</td>\n",
       "    </tr>\n",
       "  </tbody>\n",
       "</table>\n",
       "<p>9091 rows × 12 columns</p>\n",
       "</div>"
      ],
      "text/plain": [
       "      credit_score  age  tenure    balance  num_of_products  has_credit_card  \\\n",
       "0              619   42     2.0       0.00                1                1   \n",
       "1              608   41     1.0   83807.86                1                0   \n",
       "2              502   42     8.0  159660.80                3                1   \n",
       "3              699   39     1.0       0.00                2                0   \n",
       "4              850   43     2.0  125510.82                1                1   \n",
       "...            ...  ...     ...        ...              ...              ...   \n",
       "9994           800   29     2.0       0.00                2                0   \n",
       "9995           771   39     5.0       0.00                2                1   \n",
       "9996           516   35    10.0   57369.61                1                1   \n",
       "9997           709   36     7.0       0.00                1                0   \n",
       "9998           772   42     3.0   75075.31                2                1   \n",
       "\n",
       "      is_active_member  estimated_salary  exited  geography_Germany  \\\n",
       "0                    1         101348.88       1                  0   \n",
       "1                    1         112542.58       0                  0   \n",
       "2                    0         113931.57       1                  0   \n",
       "3                    0          93826.63       0                  0   \n",
       "4                    1          79084.10       0                  0   \n",
       "...                ...               ...     ...                ...   \n",
       "9994                 0         167773.55       0                  0   \n",
       "9995                 0          96270.64       0                  0   \n",
       "9996                 1         101699.77       0                  0   \n",
       "9997                 1          42085.58       1                  0   \n",
       "9998                 0          92888.52       1                  1   \n",
       "\n",
       "      geography_Spain  gender_Male  \n",
       "0                   0            0  \n",
       "1                   1            0  \n",
       "2                   0            0  \n",
       "3                   0            0  \n",
       "4                   1            0  \n",
       "...               ...          ...  \n",
       "9994                0            0  \n",
       "9995                0            1  \n",
       "9996                0            1  \n",
       "9997                0            0  \n",
       "9998                0            1  \n",
       "\n",
       "[9091 rows x 12 columns]"
      ]
     },
     "execution_count": 10,
     "metadata": {},
     "output_type": "execute_result"
    }
   ],
   "source": [
    "data = pd.get_dummies(data, drop_first=True)\n",
    "data"
   ]
  },
  {
   "cell_type": "markdown",
   "metadata": {},
   "source": [
    "Разделим данные на выборки."
   ]
  },
  {
   "cell_type": "code",
   "execution_count": 11,
   "metadata": {},
   "outputs": [],
   "source": [
    "X_train, y_train, X_valid, y_valid, X_test, y_test = train_valid_test_split(data, target = 'exited', \n",
    "                                                                            train_size=0.6, valid_size=0.2, test_size=0.2, \n",
    "                                                                            random_state=75, method='random')"
   ]
  },
  {
   "cell_type": "code",
   "execution_count": 12,
   "metadata": {},
   "outputs": [],
   "source": [
    "numeric = ['credit_score', 'age', 'tenure', 'balance', 'num_of_products', 'estimated_salary']\n",
    "\n",
    "scaler = StandardScaler()\n",
    "scaler.fit(X_train[numeric])\n",
    "\n",
    "X_train[numeric] = scaler.transform(X_train[numeric])\n",
    "X_valid[numeric] = scaler.transform(X_valid[numeric])\n",
    "X_test[numeric] = scaler.transform(X_test[numeric])"
   ]
  },
  {
   "cell_type": "code",
   "execution_count": 13,
   "metadata": {},
   "outputs": [
    {
     "data": {
      "text/html": [
       "<div>\n",
       "<style scoped>\n",
       "    .dataframe tbody tr th:only-of-type {\n",
       "        vertical-align: middle;\n",
       "    }\n",
       "\n",
       "    .dataframe tbody tr th {\n",
       "        vertical-align: top;\n",
       "    }\n",
       "\n",
       "    .dataframe thead th {\n",
       "        text-align: right;\n",
       "    }\n",
       "</style>\n",
       "<table border=\"1\" class=\"dataframe\">\n",
       "  <thead>\n",
       "    <tr style=\"text-align: right;\">\n",
       "      <th></th>\n",
       "      <th>credit_score</th>\n",
       "      <th>age</th>\n",
       "      <th>tenure</th>\n",
       "      <th>balance</th>\n",
       "      <th>num_of_products</th>\n",
       "      <th>has_credit_card</th>\n",
       "      <th>is_active_member</th>\n",
       "      <th>estimated_salary</th>\n",
       "      <th>geography_Germany</th>\n",
       "      <th>geography_Spain</th>\n",
       "      <th>gender_Male</th>\n",
       "    </tr>\n",
       "  </thead>\n",
       "  <tbody>\n",
       "    <tr>\n",
       "      <th>3348</th>\n",
       "      <td>1.794326</td>\n",
       "      <td>0.106402</td>\n",
       "      <td>0.350443</td>\n",
       "      <td>0.902055</td>\n",
       "      <td>-0.913970</td>\n",
       "      <td>0</td>\n",
       "      <td>0</td>\n",
       "      <td>0.301750</td>\n",
       "      <td>0</td>\n",
       "      <td>0</td>\n",
       "      <td>1</td>\n",
       "    </tr>\n",
       "    <tr>\n",
       "      <th>4972</th>\n",
       "      <td>-0.078375</td>\n",
       "      <td>0.201911</td>\n",
       "      <td>-1.026586</td>\n",
       "      <td>0.830341</td>\n",
       "      <td>-0.913970</td>\n",
       "      <td>1</td>\n",
       "      <td>0</td>\n",
       "      <td>1.258954</td>\n",
       "      <td>1</td>\n",
       "      <td>0</td>\n",
       "      <td>1</td>\n",
       "    </tr>\n",
       "    <tr>\n",
       "      <th>4144</th>\n",
       "      <td>0.045099</td>\n",
       "      <td>0.488439</td>\n",
       "      <td>1.038958</td>\n",
       "      <td>0.182189</td>\n",
       "      <td>-0.913970</td>\n",
       "      <td>0</td>\n",
       "      <td>1</td>\n",
       "      <td>1.540194</td>\n",
       "      <td>0</td>\n",
       "      <td>0</td>\n",
       "      <td>1</td>\n",
       "    </tr>\n",
       "    <tr>\n",
       "      <th>5637</th>\n",
       "      <td>-1.045595</td>\n",
       "      <td>-0.944201</td>\n",
       "      <td>1.038958</td>\n",
       "      <td>-1.222197</td>\n",
       "      <td>0.815659</td>\n",
       "      <td>1</td>\n",
       "      <td>1</td>\n",
       "      <td>1.556906</td>\n",
       "      <td>0</td>\n",
       "      <td>0</td>\n",
       "      <td>0</td>\n",
       "    </tr>\n",
       "    <tr>\n",
       "      <th>5444</th>\n",
       "      <td>0.487551</td>\n",
       "      <td>-0.562164</td>\n",
       "      <td>0.006186</td>\n",
       "      <td>0.955849</td>\n",
       "      <td>0.815659</td>\n",
       "      <td>0</td>\n",
       "      <td>1</td>\n",
       "      <td>-1.038859</td>\n",
       "      <td>0</td>\n",
       "      <td>0</td>\n",
       "      <td>1</td>\n",
       "    </tr>\n",
       "    <tr>\n",
       "      <th>...</th>\n",
       "      <td>...</td>\n",
       "      <td>...</td>\n",
       "      <td>...</td>\n",
       "      <td>...</td>\n",
       "      <td>...</td>\n",
       "      <td>...</td>\n",
       "      <td>...</td>\n",
       "      <td>...</td>\n",
       "      <td>...</td>\n",
       "      <td>...</td>\n",
       "      <td>...</td>\n",
       "    </tr>\n",
       "    <tr>\n",
       "      <th>8948</th>\n",
       "      <td>-0.695750</td>\n",
       "      <td>0.870476</td>\n",
       "      <td>-0.682329</td>\n",
       "      <td>0.242796</td>\n",
       "      <td>-0.913970</td>\n",
       "      <td>1</td>\n",
       "      <td>0</td>\n",
       "      <td>-0.687755</td>\n",
       "      <td>0</td>\n",
       "      <td>0</td>\n",
       "      <td>1</td>\n",
       "    </tr>\n",
       "    <tr>\n",
       "      <th>6149</th>\n",
       "      <td>-0.078375</td>\n",
       "      <td>-0.466654</td>\n",
       "      <td>0.350443</td>\n",
       "      <td>-1.222197</td>\n",
       "      <td>0.815659</td>\n",
       "      <td>1</td>\n",
       "      <td>1</td>\n",
       "      <td>0.283100</td>\n",
       "      <td>0</td>\n",
       "      <td>1</td>\n",
       "      <td>1</td>\n",
       "    </tr>\n",
       "    <tr>\n",
       "      <th>2292</th>\n",
       "      <td>0.271470</td>\n",
       "      <td>-1.135220</td>\n",
       "      <td>-1.026586</td>\n",
       "      <td>-1.222197</td>\n",
       "      <td>0.815659</td>\n",
       "      <td>1</td>\n",
       "      <td>1</td>\n",
       "      <td>-1.379560</td>\n",
       "      <td>0</td>\n",
       "      <td>0</td>\n",
       "      <td>1</td>\n",
       "    </tr>\n",
       "    <tr>\n",
       "      <th>9425</th>\n",
       "      <td>0.374366</td>\n",
       "      <td>3.162700</td>\n",
       "      <td>-0.338072</td>\n",
       "      <td>-1.222197</td>\n",
       "      <td>0.815659</td>\n",
       "      <td>1</td>\n",
       "      <td>1</td>\n",
       "      <td>-0.856697</td>\n",
       "      <td>0</td>\n",
       "      <td>1</td>\n",
       "      <td>0</td>\n",
       "    </tr>\n",
       "    <tr>\n",
       "      <th>4793</th>\n",
       "      <td>1.413612</td>\n",
       "      <td>0.201911</td>\n",
       "      <td>0.350443</td>\n",
       "      <td>-1.222197</td>\n",
       "      <td>-0.913970</td>\n",
       "      <td>1</td>\n",
       "      <td>1</td>\n",
       "      <td>-1.284630</td>\n",
       "      <td>0</td>\n",
       "      <td>0</td>\n",
       "      <td>0</td>\n",
       "    </tr>\n",
       "  </tbody>\n",
       "</table>\n",
       "<p>5454 rows × 11 columns</p>\n",
       "</div>"
      ],
      "text/plain": [
       "      credit_score       age    tenure   balance  num_of_products  \\\n",
       "3348      1.794326  0.106402  0.350443  0.902055        -0.913970   \n",
       "4972     -0.078375  0.201911 -1.026586  0.830341        -0.913970   \n",
       "4144      0.045099  0.488439  1.038958  0.182189        -0.913970   \n",
       "5637     -1.045595 -0.944201  1.038958 -1.222197         0.815659   \n",
       "5444      0.487551 -0.562164  0.006186  0.955849         0.815659   \n",
       "...            ...       ...       ...       ...              ...   \n",
       "8948     -0.695750  0.870476 -0.682329  0.242796        -0.913970   \n",
       "6149     -0.078375 -0.466654  0.350443 -1.222197         0.815659   \n",
       "2292      0.271470 -1.135220 -1.026586 -1.222197         0.815659   \n",
       "9425      0.374366  3.162700 -0.338072 -1.222197         0.815659   \n",
       "4793      1.413612  0.201911  0.350443 -1.222197        -0.913970   \n",
       "\n",
       "      has_credit_card  is_active_member  estimated_salary  geography_Germany  \\\n",
       "3348                0                 0          0.301750                  0   \n",
       "4972                1                 0          1.258954                  1   \n",
       "4144                0                 1          1.540194                  0   \n",
       "5637                1                 1          1.556906                  0   \n",
       "5444                0                 1         -1.038859                  0   \n",
       "...               ...               ...               ...                ...   \n",
       "8948                1                 0         -0.687755                  0   \n",
       "6149                1                 1          0.283100                  0   \n",
       "2292                1                 1         -1.379560                  0   \n",
       "9425                1                 1         -0.856697                  0   \n",
       "4793                1                 1         -1.284630                  0   \n",
       "\n",
       "      geography_Spain  gender_Male  \n",
       "3348                0            1  \n",
       "4972                0            1  \n",
       "4144                0            1  \n",
       "5637                0            0  \n",
       "5444                0            1  \n",
       "...               ...          ...  \n",
       "8948                0            1  \n",
       "6149                1            1  \n",
       "2292                0            1  \n",
       "9425                1            0  \n",
       "4793                0            0  \n",
       "\n",
       "[5454 rows x 11 columns]"
      ]
     },
     "execution_count": 13,
     "metadata": {},
     "output_type": "execute_result"
    }
   ],
   "source": [
    "X_train"
   ]
  },
  {
   "cell_type": "markdown",
   "metadata": {},
   "source": [
    "Численные признаки теперь отмасштабированы вокруг нуля с отклонением 1, а категориальным присвоены числовые значения. Теперь модели машинного обучения могут корректно с ними работать"
   ]
  },
  {
   "cell_type": "markdown",
   "metadata": {},
   "source": [
    "### Логистическая регрессия"
   ]
  },
  {
   "cell_type": "markdown",
   "metadata": {},
   "source": [
    "Обучим модель логистической регрессии и проверим на матрице ответы."
   ]
  },
  {
   "cell_type": "code",
   "execution_count": 14,
   "metadata": {},
   "outputs": [
    {
     "data": {
      "text/plain": [
       "array([[1387,   58],\n",
       "       [ 307,   66]])"
      ]
     },
     "execution_count": 14,
     "metadata": {},
     "output_type": "execute_result"
    }
   ],
   "source": [
    "logistic_model = LogisticRegression(random_state=75, solver='lbfgs')\n",
    "logistic_model.fit(X_train, y_train)\n",
    "confusion_matrix(y_valid, logistic_model.predict(X_valid))"
   ]
  },
  {
   "cell_type": "markdown",
   "metadata": {},
   "source": [
    "Модель часто дает ложноположительные ответы. Проверим на метрике F1."
   ]
  },
  {
   "cell_type": "code",
   "execution_count": 15,
   "metadata": {
    "scrolled": false
   },
   "outputs": [
    {
     "data": {
      "text/plain": [
       "0.2655935613682093"
      ]
     },
     "execution_count": 15,
     "metadata": {},
     "output_type": "execute_result"
    }
   ],
   "source": [
    "f1_score(y_valid, logistic_model.predict(X_valid))"
   ]
  },
  {
   "cell_type": "markdown",
   "metadata": {},
   "source": [
    "Метрика оказалось сильно далека от идеальной — 26%, возможно логистическая регрессия плохо подходит для решения этой задачи, т.к. зависимость нелинейная."
   ]
  },
  {
   "cell_type": "markdown",
   "metadata": {},
   "source": [
    "### Наивный байесовский классификатор"
   ]
  },
  {
   "cell_type": "code",
   "execution_count": 16,
   "metadata": {},
   "outputs": [
    {
     "data": {
      "text/plain": [
       "array([[1361,   84],\n",
       "       [ 241,  132]])"
      ]
     },
     "execution_count": 16,
     "metadata": {},
     "output_type": "execute_result"
    }
   ],
   "source": [
    "gnb_model = GaussianNB()\n",
    "gnb_model.fit(X_train, y_train)\n",
    "confusion_matrix(y_valid, gnb_model.predict(X_valid))"
   ]
  },
  {
   "cell_type": "code",
   "execution_count": 17,
   "metadata": {},
   "outputs": [
    {
     "data": {
      "text/plain": [
       "0.44821731748726656"
      ]
     },
     "execution_count": 17,
     "metadata": {},
     "output_type": "execute_result"
    }
   ],
   "source": [
    "f1_score(y_valid, gnb_model.predict(X_valid))"
   ]
  },
  {
   "cell_type": "markdown",
   "metadata": {},
   "source": [
    "Байесовский классификатор справился лучше, он правильнее определяет людей, которые уйдут, но все равно метрика F1 показала плохой результат — 44%."
   ]
  },
  {
   "cell_type": "markdown",
   "metadata": {},
   "source": [
    "### Дерево решений"
   ]
  },
  {
   "cell_type": "markdown",
   "metadata": {},
   "source": [
    "Обучать модель дерева решений будем при перебора гиперпараметра глубины в цикле. "
   ]
  },
  {
   "cell_type": "code",
   "execution_count": 18,
   "metadata": {
    "scrolled": true
   },
   "outputs": [
    {
     "name": "stdout",
     "output_type": "stream",
     "text": [
      "Лучшая глубина дерева: 7 / Лучшая метрика F1: 0.5535420098846788\n"
     ]
    }
   ],
   "source": [
    "best_depth = 0\n",
    "best_score = 0\n",
    "for depth in range(1, 10):\n",
    "    tree_model = DecisionTreeClassifier(random_state=75,\n",
    "                                        max_depth=depth,\n",
    "                                        criterion='gini')\n",
    "    tree_model.fit(X_train, y_train)\n",
    "    if f1_score(y_valid, tree_model.predict(X_valid)) > best_score:\n",
    "        best_score = f1_score(y_valid, tree_model.predict(X_valid))\n",
    "        best_depth = depth\n",
    "print('Лучшая глубина дерева:', best_depth, '/ Лучшая метрика F1:', best_score)"
   ]
  },
  {
   "cell_type": "markdown",
   "metadata": {},
   "source": [
    "Лучшая глубина для данной модели оказалась равна 7, метрика F1 — 55%. Пока что, лучший результат. Проверим остальные метрики."
   ]
  },
  {
   "cell_type": "code",
   "execution_count": 19,
   "metadata": {},
   "outputs": [
    {
     "name": "stdout",
     "output_type": "stream",
     "text": [
      "[[1379   66]\n",
      " [ 205  168]]\n",
      "Точность: 0.717948717948718\n",
      "Полнота: 0.450402144772118\n"
     ]
    }
   ],
   "source": [
    "tree_model = DecisionTreeClassifier(max_depth=7,\n",
    "                                    criterion='gini',\n",
    "                                    random_state=75)\n",
    "tree_model.fit(X_train, y_train)\n",
    "print(confusion_matrix(y_valid, tree_model.predict(X_valid)))\n",
    "print('Точность:', precision_score(y_valid, tree_model.predict(X_valid)))\n",
    "print('Полнота:', recall_score(y_valid, tree_model.predict(X_valid)))"
   ]
  },
  {
   "cell_type": "markdown",
   "metadata": {},
   "source": [
    "Итак, точность оказалось 71%, полнота 45%."
   ]
  },
  {
   "cell_type": "markdown",
   "metadata": {},
   "source": [
    "### Случайный лес"
   ]
  },
  {
   "cell_type": "markdown",
   "metadata": {},
   "source": [
    "Обучим модель для случайного леса. Будем перебирать глубину и количество оценщиков (с шагом 10)."
   ]
  },
  {
   "cell_type": "code",
   "execution_count": 20,
   "metadata": {},
   "outputs": [
    {
     "name": "stdout",
     "output_type": "stream",
     "text": [
      "{'est': 41, 'depth': 9}\n"
     ]
    }
   ],
   "source": [
    "best_params = {'est' : 0, 'depth' : 0}\n",
    "best_score = 0\n",
    "for est in range(1, 51, 10):\n",
    "    for depth in range(1, 10):\n",
    "        forest_model = RandomForestClassifier(random_state=75,\n",
    "                                              criterion='gini',\n",
    "                                              n_estimators=est,\n",
    "                                              max_depth=depth)\n",
    "        forest_model.fit(X_train, y_train)\n",
    "        if f1_score(y_valid, forest_model.predict(X_valid)) > best_score:\n",
    "            best_params['est'] = est\n",
    "            best_params['depth'] = depth\n",
    "            best_score = f1_score(y_valid, forest_model.predict(X_valid))\n",
    "print(best_params)"
   ]
  },
  {
   "cell_type": "markdown",
   "metadata": {},
   "source": [
    "Лучший результат модель показала при количестве оценщиков 41, а глубина — 9. Проверим метрики."
   ]
  },
  {
   "cell_type": "code",
   "execution_count": 21,
   "metadata": {},
   "outputs": [
    {
     "name": "stdout",
     "output_type": "stream",
     "text": [
      "[[1392   53]\n",
      " [ 213  160]]\n"
     ]
    },
    {
     "data": {
      "text/plain": [
       "0.5460750853242321"
      ]
     },
     "execution_count": 21,
     "metadata": {},
     "output_type": "execute_result"
    }
   ],
   "source": [
    "forest_model = RandomForestClassifier(n_estimators=41,\n",
    "                                      max_depth=9,\n",
    "                                      criterion='gini',\n",
    "                                      random_state=75)\n",
    "forest_model.fit(X_train, y_train)\n",
    "print(confusion_matrix(y_valid, forest_model.predict(X_valid)))\n",
    "f1_score(y_valid, forest_model.predict(X_valid))"
   ]
  },
  {
   "cell_type": "markdown",
   "metadata": {},
   "source": [
    "Результат оказался чуть хуже дерева решений. Метрика F1 — 54%. Проверим остальные метрики."
   ]
  },
  {
   "cell_type": "code",
   "execution_count": 22,
   "metadata": {},
   "outputs": [
    {
     "name": "stdout",
     "output_type": "stream",
     "text": [
      "Точность: 0.7511737089201878\n",
      "Полнота: 0.4289544235924933\n"
     ]
    }
   ],
   "source": [
    "print('Точность:', precision_score(y_valid, forest_model.predict(X_valid)))\n",
    "print('Полнота:', recall_score(y_valid, forest_model.predict(X_valid)))"
   ]
  },
  {
   "cell_type": "markdown",
   "metadata": {},
   "source": [
    "Данная модель более избирательна, точность составила 75%, при этом пострадала полнота — 42%."
   ]
  },
  {
   "cell_type": "markdown",
   "metadata": {},
   "source": [
    "Итак, лучший результат показали модели дерево и случайный лес со значением метрики F1 больше 50%."
   ]
  },
  {
   "cell_type": "markdown",
   "metadata": {},
   "source": [
    "Далее попробуем сбалансировать данные и обучать модели на них."
   ]
  },
  {
   "cell_type": "markdown",
   "metadata": {},
   "source": [
    "## Борьба с дисбалансом"
   ]
  },
  {
   "cell_type": "markdown",
   "metadata": {},
   "source": [
    "Проверим разницу в классах."
   ]
  },
  {
   "cell_type": "code",
   "execution_count": 23,
   "metadata": {},
   "outputs": [
    {
     "name": "stdout",
     "output_type": "stream",
     "text": [
      "Единиц: 1103 / Нулей: 4351\n"
     ]
    }
   ],
   "source": [
    "print('Единиц:', len(X_train[y_train == 1]), '/ Нулей:', len(X_train[y_train == 0]))"
   ]
  },
  {
   "cell_type": "markdown",
   "metadata": {},
   "source": [
    "Разница составила в 4 раза. Испытаем три способа борьбы с дисбалансом: `upsampling`, `downsampling`, указать в параметрах модели `balanced`."
   ]
  },
  {
   "cell_type": "markdown",
   "metadata": {},
   "source": [
    "### Upsampling"
   ]
  },
  {
   "cell_type": "markdown",
   "metadata": {},
   "source": [
    "Напишем функцию, которая увеличивает размер несбалансированного класса."
   ]
  },
  {
   "cell_type": "code",
   "execution_count": 24,
   "metadata": {},
   "outputs": [
    {
     "name": "stdout",
     "output_type": "stream",
     "text": [
      "(8763, 11) (8763,)\n"
     ]
    }
   ],
   "source": [
    "def upsample(features, target, repeat):\n",
    "    features_zeros = features[target == 0]\n",
    "    features_ones = features[target == 1]\n",
    "    target_zeros = target[target == 0]\n",
    "    target_ones = target[target == 1]\n",
    "\n",
    "    features_upsampled = pd.concat([features_zeros] + [features_ones] * repeat)\n",
    "    target_upsampled = pd.concat([target_zeros] + [target_ones] * repeat)\n",
    "    \n",
    "    features_upsampled, target_upsampled = shuffle(\n",
    "        features_upsampled, target_upsampled, random_state=75)\n",
    "    \n",
    "    return features_upsampled, target_upsampled\n",
    "\n",
    "X_upsampled, y_upsampled = upsample(X_train, y_train, 4)\n",
    "print(X_upsampled.shape, y_upsampled.shape)"
   ]
  },
  {
   "cell_type": "markdown",
   "metadata": {},
   "source": [
    "Размерности совпали, классы теперь сбалансированы, обучим модели."
   ]
  },
  {
   "cell_type": "markdown",
   "metadata": {},
   "source": [
    "#### Логистическая регрессия"
   ]
  },
  {
   "cell_type": "code",
   "execution_count": 25,
   "metadata": {},
   "outputs": [
    {
     "name": "stdout",
     "output_type": "stream",
     "text": [
      "[[1013  432]\n",
      " [ 111  262]]\n"
     ]
    },
    {
     "data": {
      "text/plain": [
       "0.4910965323336458"
      ]
     },
     "execution_count": 25,
     "metadata": {},
     "output_type": "execute_result"
    }
   ],
   "source": [
    "logistic_model = LogisticRegression(random_state=75, solver='lbfgs')\n",
    "logistic_model.fit(X_upsampled, y_upsampled)\n",
    "print(confusion_matrix(y_valid, logistic_model.predict(X_valid)))\n",
    "f1_score(y_valid, logistic_model.predict(X_valid))"
   ]
  },
  {
   "cell_type": "markdown",
   "metadata": {},
   "source": [
    "Метрика улучшилась почти в разы, но недостаточно хорошо. F1 — 49%."
   ]
  },
  {
   "cell_type": "markdown",
   "metadata": {},
   "source": [
    "#### Наивный байесовский классификатор"
   ]
  },
  {
   "cell_type": "code",
   "execution_count": 26,
   "metadata": {
    "scrolled": true
   },
   "outputs": [
    {
     "name": "stdout",
     "output_type": "stream",
     "text": [
      "[[1059  386]\n",
      " [ 115  258]]\n"
     ]
    },
    {
     "data": {
      "text/plain": [
       "0.5073746312684365"
      ]
     },
     "execution_count": 26,
     "metadata": {},
     "output_type": "execute_result"
    }
   ],
   "source": [
    "gnb_model = GaussianNB()\n",
    "gnb_model.fit(X_upsampled, y_upsampled)\n",
    "print(confusion_matrix(y_valid, gnb_model.predict(X_valid)))\n",
    "f1_score(y_valid, gnb_model.predict(X_valid))"
   ]
  },
  {
   "cell_type": "markdown",
   "metadata": {},
   "source": [
    "У байесовского классификатора метрика тоже выросла, но не так значительно. F1 — 50%."
   ]
  },
  {
   "cell_type": "markdown",
   "metadata": {},
   "source": [
    "#### Дерево решений"
   ]
  },
  {
   "cell_type": "code",
   "execution_count": 27,
   "metadata": {
    "scrolled": false
   },
   "outputs": [
    {
     "name": "stdout",
     "output_type": "stream",
     "text": [
      "Лучшая глубина дерева: 7 / Лучшая метрика F1: 0.55741127348643\n"
     ]
    }
   ],
   "source": [
    "best_depth = 0\n",
    "best_score = 0\n",
    "for depth in range(1, 10):\n",
    "    tree_model = DecisionTreeClassifier(random_state=75,\n",
    "                                        max_depth=depth,\n",
    "                                        criterion='gini')\n",
    "    tree_model.fit(X_upsampled, y_upsampled)\n",
    "    if f1_score(y_valid, tree_model.predict(X_valid)) > best_score:\n",
    "        best_score = f1_score(y_valid, tree_model.predict(X_valid))\n",
    "        best_depth = depth\n",
    "print('Лучшая глубина дерева:', best_depth, '/ Лучшая метрика F1:', best_score)"
   ]
  },
  {
   "cell_type": "markdown",
   "metadata": {},
   "source": [
    "Метрика дерева решений почти не изменилась, те же 55% F1. Рекомендованная глубина осталась та же — 7."
   ]
  },
  {
   "cell_type": "markdown",
   "metadata": {},
   "source": [
    "#### Случайный лес"
   ]
  },
  {
   "cell_type": "code",
   "execution_count": 28,
   "metadata": {},
   "outputs": [
    {
     "name": "stdout",
     "output_type": "stream",
     "text": [
      "Лучшие параметры: {'est': 21, 'depth': 9} / F1: 0.6168674698795181\n"
     ]
    }
   ],
   "source": [
    "best_params = {'est' : 0, 'depth' : 0}\n",
    "best_score = 0\n",
    "for est in range(1, 51, 10):\n",
    "    for depth in range(1, 10):\n",
    "        forest_model = RandomForestClassifier(random_state=75,\n",
    "                                              criterion='gini',\n",
    "                                              n_estimators=est,\n",
    "                                              max_depth=depth)\n",
    "        forest_model.fit(X_upsampled, y_upsampled)\n",
    "        if f1_score(y_valid, forest_model.predict(X_valid)) > best_score:\n",
    "            best_params['est'] = est\n",
    "            best_params['depth'] = depth\n",
    "            best_score = f1_score(y_valid, forest_model.predict(X_valid))\n",
    "print('Лучшие параметры:', best_params,'/ F1:', best_score)"
   ]
  },
  {
   "cell_type": "markdown",
   "metadata": {},
   "source": [
    "Метрика F1 сильно улучшилась, к тому же изменились лучшие гиперпараметры, проверим остальные метрики. "
   ]
  },
  {
   "cell_type": "code",
   "execution_count": 29,
   "metadata": {},
   "outputs": [
    {
     "name": "stdout",
     "output_type": "stream",
     "text": [
      "[[1244  201]\n",
      " [ 117  256]]\n",
      "Точность: 0.5601750547045952\n",
      "Полнота: 0.6863270777479893\n"
     ]
    }
   ],
   "source": [
    "forest_model = RandomForestClassifier(random_state=75,\n",
    "                                              criterion='gini',\n",
    "                                              n_estimators=21,\n",
    "                                              max_depth=9)\n",
    "forest_model.fit(X_upsampled, y_upsampled)\n",
    "print(confusion_matrix(y_valid, forest_model.predict(X_valid)))\n",
    "print('Точность:', precision_score(y_valid, forest_model.predict(X_valid)))\n",
    "print('Полнота:', recall_score(y_valid, forest_model.predict(X_valid)))"
   ]
  },
  {
   "cell_type": "markdown",
   "metadata": {},
   "source": [
    "Точность сильно снизилась, зато компенсировалась полнота."
   ]
  },
  {
   "cell_type": "markdown",
   "metadata": {},
   "source": [
    "### Downsampling"
   ]
  },
  {
   "cell_type": "markdown",
   "metadata": {},
   "source": [
    "Попробуем уменьшить выборку, напишем фунцию для этого."
   ]
  },
  {
   "cell_type": "code",
   "execution_count": 30,
   "metadata": {},
   "outputs": [
    {
     "name": "stdout",
     "output_type": "stream",
     "text": [
      "(2191, 11) (2191,)\n"
     ]
    }
   ],
   "source": [
    "def downsample(features, target, fraction):\n",
    "    features_zeros = features[target == 0]\n",
    "    features_ones = features[target == 1]\n",
    "    target_zeros = target[target == 0]\n",
    "    target_ones = target[target == 1]\n",
    "\n",
    "    features_downsampled = pd.concat(\n",
    "        [features_zeros.sample(frac=fraction, random_state=12345)] + [features_ones])\n",
    "    target_downsampled = pd.concat(\n",
    "        [target_zeros.sample(frac=fraction, random_state=12345)] + [target_ones])\n",
    "    \n",
    "    features_downsampled, target_downsampled = shuffle(\n",
    "        features_downsampled, target_downsampled, random_state=12345)\n",
    "    \n",
    "    return features_downsampled, target_downsampled\n",
    "\n",
    "X_downsampled, y_downsampled = downsample(X_train, y_train, 0.25)\n",
    "print(X_downsampled.shape, y_downsampled.shape)"
   ]
  },
  {
   "cell_type": "markdown",
   "metadata": {},
   "source": [
    "Проверим на всех моделях результат Downsampling'а."
   ]
  },
  {
   "cell_type": "markdown",
   "metadata": {},
   "source": [
    "#### Логистическая регрессия"
   ]
  },
  {
   "cell_type": "code",
   "execution_count": 31,
   "metadata": {
    "scrolled": true
   },
   "outputs": [
    {
     "name": "stdout",
     "output_type": "stream",
     "text": [
      "[[1004  441]\n",
      " [ 115  258]]\n"
     ]
    },
    {
     "data": {
      "text/plain": [
       "0.4813432835820896"
      ]
     },
     "execution_count": 31,
     "metadata": {},
     "output_type": "execute_result"
    }
   ],
   "source": [
    "logistic_model = LogisticRegression(random_state=75, solver='lbfgs')\n",
    "logistic_model.fit(X_downsampled, y_downsampled)\n",
    "print(confusion_matrix(y_valid, logistic_model.predict(X_valid)))\n",
    "f1_score(y_valid, logistic_model.predict(X_valid))"
   ]
  },
  {
   "cell_type": "markdown",
   "metadata": {},
   "source": [
    "Выдающихся результатов нет."
   ]
  },
  {
   "cell_type": "markdown",
   "metadata": {},
   "source": [
    "#### Наивный байесовский классификатор."
   ]
  },
  {
   "cell_type": "code",
   "execution_count": 32,
   "metadata": {},
   "outputs": [
    {
     "name": "stdout",
     "output_type": "stream",
     "text": [
      "[[1081  364]\n",
      " [ 111  262]]\n"
     ]
    },
    {
     "data": {
      "text/plain": [
       "0.5245245245245246"
      ]
     },
     "execution_count": 32,
     "metadata": {},
     "output_type": "execute_result"
    }
   ],
   "source": [
    "gnb_model = GaussianNB()\n",
    "gnb_model.fit(X_downsampled, y_downsampled)\n",
    "print(confusion_matrix(y_valid, gnb_model.predict(X_valid)))\n",
    "f1_score(y_valid, gnb_model.predict(X_valid))"
   ]
  },
  {
   "cell_type": "markdown",
   "metadata": {},
   "source": [
    "Метрика стала лучше, но ненамного."
   ]
  },
  {
   "cell_type": "markdown",
   "metadata": {},
   "source": [
    "#### Дерево решений"
   ]
  },
  {
   "cell_type": "code",
   "execution_count": 33,
   "metadata": {},
   "outputs": [
    {
     "name": "stdout",
     "output_type": "stream",
     "text": [
      "Лучшая глубина дерева: 7 / Лучшая метрика F1: 0.5590717299578059\n"
     ]
    }
   ],
   "source": [
    "best_depth = 0\n",
    "best_score = 0\n",
    "for depth in range(1, 10):\n",
    "    tree_model = DecisionTreeClassifier(random_state=75,\n",
    "                                        max_depth=depth,\n",
    "                                        criterion='gini')\n",
    "    tree_model.fit(X_downsampled, y_downsampled)\n",
    "    if f1_score(y_valid, tree_model.predict(X_valid)) > best_score:\n",
    "        best_score = f1_score(y_valid, tree_model.predict(X_valid))\n",
    "        best_depth = depth\n",
    "print('Лучшая глубина дерева:', best_depth, '/ Лучшая метрика F1:', best_score)"
   ]
  },
  {
   "cell_type": "markdown",
   "metadata": {},
   "source": [
    "В дереве решений без изменений."
   ]
  },
  {
   "cell_type": "markdown",
   "metadata": {},
   "source": [
    "#### Случайный лес"
   ]
  },
  {
   "cell_type": "code",
   "execution_count": 34,
   "metadata": {
    "scrolled": true
   },
   "outputs": [
    {
     "name": "stdout",
     "output_type": "stream",
     "text": [
      "Лучшие параметры: {'est': 31, 'depth': 7} / F1: 0.597145993413831\n",
      "[[1179  266]\n",
      " [ 101  272]]\n",
      "Точность: 0.5055762081784386\n",
      "Полнота: 0.7292225201072386\n"
     ]
    }
   ],
   "source": [
    "best_params = {'est' : 0, 'depth' : 0}\n",
    "best_score = 0\n",
    "for est in range(1, 51, 10):\n",
    "    for depth in range(1, 10):\n",
    "        forest_model = RandomForestClassifier(random_state=75,\n",
    "                                              criterion='gini',\n",
    "                                              n_estimators=est,\n",
    "                                              max_depth=depth)\n",
    "        forest_model.fit(X_downsampled, y_downsampled)\n",
    "        if f1_score(y_valid, forest_model.predict(X_valid)) > best_score:\n",
    "            best_params['est'] = est\n",
    "            best_params['depth'] = depth\n",
    "            best_score = f1_score(y_valid, forest_model.predict(X_valid))\n",
    "print('Лучшие параметры:', best_params,'/ F1:', best_score)\n",
    "forest_model = RandomForestClassifier(random_state=75,\n",
    "                                              criterion='gini',\n",
    "                                              n_estimators=31,\n",
    "                                              max_depth=7)\n",
    "forest_model.fit(X_downsampled, y_downsampled)\n",
    "print(confusion_matrix(y_valid, forest_model.predict(X_valid)))\n",
    "print('Точность:', precision_score(y_valid, forest_model.predict(X_valid)))\n",
    "print('Полнота:', recall_score(y_valid, forest_model.predict(X_valid)))"
   ]
  },
  {
   "cell_type": "markdown",
   "metadata": {},
   "source": [
    "Метрика F1 стала хуже после downsampling'а, полнота истинноотрицательных значений увеличилась, точность снизилась."
   ]
  },
  {
   "cell_type": "markdown",
   "metadata": {},
   "source": [
    "### Параметр `balanced`"
   ]
  },
  {
   "cell_type": "markdown",
   "metadata": {},
   "source": [
    "Попробуем добавить параметр `balanced` в логистическую регрессию, дерево решений и случайный лес. У модели наивного байесовского классификатора параметра `balance` нет."
   ]
  },
  {
   "cell_type": "markdown",
   "metadata": {},
   "source": [
    "#### Логистическая регрессия"
   ]
  },
  {
   "cell_type": "code",
   "execution_count": 35,
   "metadata": {
    "scrolled": true
   },
   "outputs": [
    {
     "name": "stdout",
     "output_type": "stream",
     "text": [
      "[[1031  414]\n",
      " [ 111  262]]\n"
     ]
    },
    {
     "data": {
      "text/plain": [
       "0.4995233555767397"
      ]
     },
     "execution_count": 35,
     "metadata": {},
     "output_type": "execute_result"
    }
   ],
   "source": [
    "logistic_model = LogisticRegression(random_state=75, solver='lbfgs', class_weight='balanced')\n",
    "logistic_model.fit(X_train, y_train)\n",
    "print(confusion_matrix(y_valid, logistic_model.predict(X_valid)))\n",
    "f1_score(y_valid, logistic_model.predict(X_valid))"
   ]
  },
  {
   "cell_type": "markdown",
   "metadata": {},
   "source": [
    "Примерно тот же результат, что и при Upsampling'е."
   ]
  },
  {
   "cell_type": "markdown",
   "metadata": {},
   "source": [
    "#### Дерево решений"
   ]
  },
  {
   "cell_type": "code",
   "execution_count": 36,
   "metadata": {},
   "outputs": [
    {
     "name": "stdout",
     "output_type": "stream",
     "text": [
      "Лучшая глубина дерева: 7 / Лучшая метрика F1: 0.5589155370177269\n"
     ]
    }
   ],
   "source": [
    "best_depth = 0\n",
    "best_score = 0\n",
    "for depth in range(1, 10):\n",
    "    tree_model = DecisionTreeClassifier(random_state=75,\n",
    "                                        max_depth=depth,\n",
    "                                        criterion='gini',\n",
    "                                        class_weight='balanced')\n",
    "    tree_model.fit(X_train, y_train)\n",
    "    if f1_score(y_valid, tree_model.predict(X_valid)) > best_score:\n",
    "        best_score = f1_score(y_valid, tree_model.predict(X_valid))\n",
    "        best_depth = depth\n",
    "print('Лучшая глубина дерева:', best_depth, '/ Лучшая метрика F1:', best_score)"
   ]
  },
  {
   "cell_type": "markdown",
   "metadata": {},
   "source": [
    "Тут как и в предыдущие способы без изменений."
   ]
  },
  {
   "cell_type": "markdown",
   "metadata": {},
   "source": [
    "#### Случайный лес"
   ]
  },
  {
   "cell_type": "code",
   "execution_count": 37,
   "metadata": {
    "scrolled": false
   },
   "outputs": [
    {
     "name": "stdout",
     "output_type": "stream",
     "text": [
      "Лучшие параметры: {'est': 11, 'depth': 9} / F1: 0.6122448979591836\n",
      "[[1292  153]\n",
      " [ 145  228]]\n",
      "Точность: 0.583941605839416\n",
      "Полнота: 0.6434316353887399\n"
     ]
    }
   ],
   "source": [
    "best_params = {'est' : 0, 'depth' : 0}\n",
    "best_score = 0\n",
    "for est in range(1, 51, 10):\n",
    "    for depth in range(1, 10):\n",
    "        forest_model = RandomForestClassifier(random_state=75,\n",
    "                                              criterion='gini',\n",
    "                                              n_estimators=est,\n",
    "                                              max_depth=depth,\n",
    "                                              class_weight='balanced')\n",
    "        forest_model.fit(X_train, y_train)\n",
    "        if f1_score(y_valid, forest_model.predict(X_valid)) > best_score:\n",
    "            best_params['est'] = est\n",
    "            best_params['depth'] = depth\n",
    "            best_score = f1_score(y_valid, forest_model.predict(X_valid))\n",
    "print('Лучшие параметры:', best_params,'/ F1:', best_score)\n",
    "print(confusion_matrix(y_valid, forest_model.predict(X_valid)))\n",
    "forest_model = RandomForestClassifier(random_state=75,\n",
    "                                              criterion='gini',\n",
    "                                              n_estimators=11,\n",
    "                                              max_depth=9,\n",
    "                                      class_weight='balanced')\n",
    "forest_model.fit(X_train, y_train)\n",
    "print('Точность:', precision_score(y_valid, forest_model.predict(X_valid)))\n",
    "print('Полнота:', recall_score(y_valid, forest_model.predict(X_valid)))"
   ]
  },
  {
   "cell_type": "markdown",
   "metadata": {},
   "source": [
    "Модель показала хороший результат, почти как при Upsampling'е. Но при этом сильно изменились гиперпараметры."
   ]
  },
  {
   "cell_type": "markdown",
   "metadata": {},
   "source": [
    "Остановимся на выборе модели `Случайный лес` с `Upsampling'ом`, т.к. результат самый лучший."
   ]
  },
  {
   "cell_type": "markdown",
   "metadata": {},
   "source": [
    "Отрисуем roc-кривую."
   ]
  },
  {
   "cell_type": "code",
   "execution_count": 38,
   "metadata": {
    "scrolled": true
   },
   "outputs": [
    {
     "data": {
      "image/png": "[encoded data removed]",
      "text/plain": [
       "<Figure size 432x288 with 1 Axes>"
      ]
     },
     "metadata": {
      "needs_background": "light"
     },
     "output_type": "display_data"
    }
   ],
   "source": [
    "forest_model = RandomForestClassifier(random_state=75,\n",
    "                                              criterion='gini',\n",
    "                                              n_estimators=21,\n",
    "                                              max_depth=9)\n",
    "forest_model.fit(X_upsampled, y_upsampled)\n",
    "probabilities_valid = forest_model.predict_proba(X_valid)\n",
    "probabilities_one_valid = probabilities_valid[:, 1]\n",
    "\n",
    "\n",
    "fpr, tpr, thresholds = roc_curve(y_valid, probabilities_one_valid)\n",
    "\n",
    "plt.figure()\n",
    "plt.plot(fpr, tpr, linestyle='-')\n",
    "plt.plot([0, 1], [0, 1], linestyle='--')\n",
    "plt.xlim(0, 1)\n",
    "plt.ylim(0, 1)\n",
    "plt.xlabel('False Positive Rate')\n",
    "plt.ylabel('True Positive Rate')\n",
    "plt.title('ROC-кривая')\n",
    "\n",
    "\n",
    "plt.show()"
   ]
  },
  {
   "cell_type": "markdown",
   "metadata": {},
   "source": [
    "Найдем площадь под кривой."
   ]
  },
  {
   "cell_type": "code",
   "execution_count": 39,
   "metadata": {},
   "outputs": [
    {
     "data": {
      "text/plain": [
       "0.8450680445652478"
      ]
     },
     "execution_count": 39,
     "metadata": {},
     "output_type": "execute_result"
    }
   ],
   "source": [
    "roc_auc_score(y_valid, probabilities_one_valid)"
   ]
  },
  {
   "cell_type": "markdown",
   "metadata": {},
   "source": [
    "Значение площади — 0.84, модель явно лучше случайной. Лучшее полученное значение метрики F1 — 61%."
   ]
  },
  {
   "cell_type": "markdown",
   "metadata": {},
   "source": [
    "## Тестирование модели"
   ]
  },
  {
   "cell_type": "markdown",
   "metadata": {},
   "source": [
    "Настало время проверить модель на тестовых данных."
   ]
  },
  {
   "cell_type": "code",
   "execution_count": 40,
   "metadata": {},
   "outputs": [
    {
     "name": "stdout",
     "output_type": "stream",
     "text": [
      "[[1220  221]\n",
      " [ 107  271]]\n",
      "Точность: 0.5508130081300813\n",
      "Полнота: 0.716931216931217\n",
      "F1: 0.6229885057471264\n"
     ]
    }
   ],
   "source": [
    "predictions = forest_model.predict(X_test)\n",
    "print(confusion_matrix(y_test, predictions))\n",
    "print('Точность:', precision_score(y_test, predictions))\n",
    "print('Полнота:', recall_score(y_test, predictions))\n",
    "print('F1:', f1_score(y_test, predictions))"
   ]
  },
  {
   "cell_type": "markdown",
   "metadata": {},
   "source": [
    "Итак, модель на тестовых данных показала результат по метрике `Точность` — 55%, `Полнота` — 71%, `F1` — 62%."
   ]
  },
  {
   "cell_type": "markdown",
   "metadata": {},
   "source": [
    "Точность здесь означает, что из 100 человек, которые остались, модель смогла предсказать 55, а полнота означает, что из 100 человек, которые по мнению модели остались, действительно остались 71."
   ]
  },
  {
   "cell_type": "markdown",
   "metadata": {},
   "source": [
    "Отрисуем roc-кривую для тестовых данных."
   ]
  },
  {
   "cell_type": "code",
   "execution_count": 41,
   "metadata": {
    "scrolled": true
   },
   "outputs": [
    {
     "data": {
      "image/png": "[encoded data removed]",
      "text/plain": [
       "<Figure size 432x288 with 1 Axes>"
      ]
     },
     "metadata": {
      "needs_background": "light"
     },
     "output_type": "display_data"
    }
   ],
   "source": [
    "probabilities_valid = forest_model.predict_proba(X_test)\n",
    "probabilities_one_valid = probabilities_valid[:, 1]\n",
    "\n",
    "\n",
    "fpr, tpr, thresholds = roc_curve(y_test, probabilities_one_valid)\n",
    "\n",
    "plt.figure()\n",
    "plt.plot(fpr, tpr, linestyle='-')\n",
    "plt.plot([0, 1], [0, 1], linestyle='--')\n",
    "plt.xlim(0, 1)\n",
    "plt.ylim(0, 1)\n",
    "plt.xlabel('False Positive Rate')\n",
    "plt.ylabel('True Positive Rate')\n",
    "plt.title('ROC-кривая')\n",
    "\n",
    "\n",
    "plt.show()"
   ]
  },
  {
   "cell_type": "code",
   "execution_count": 42,
   "metadata": {
    "scrolled": true
   },
   "outputs": [
    {
     "data": {
      "text/plain": [
       "0.8657255947332284"
      ]
     },
     "execution_count": 42,
     "metadata": {},
     "output_type": "execute_result"
    }
   ],
   "source": [
    "roc_auc_score(y_test, probabilities_one_valid)"
   ]
  },
  {
   "cell_type": "markdown",
   "metadata": {},
   "source": [
    "Площадь под графиком — 0.86, метрика F1 — 62%. Сравним модель с константной, где все клиенты уходят."
   ]
  },
  {
   "cell_type": "code",
   "execution_count": 43,
   "metadata": {
    "scrolled": true
   },
   "outputs": [
    {
     "data": {
      "text/plain": [
       "0.3441055985434684"
      ]
     },
     "execution_count": 43,
     "metadata": {},
     "output_type": "execute_result"
    }
   ],
   "source": [
    "dummy_model = DummyClassifier(strategy='constant', constant=1)\n",
    "dummy_model.fit(X_train, y_train)\n",
    "f1_score(dummy_model.predict(X_test), y_test)"
   ]
  },
  {
   "cell_type": "markdown",
   "metadata": {},
   "source": [
    "Метрика F1 у константной модели — 34%, что явно хуже, чем у модели случайный лес."
   ]
  },
  {
   "cell_type": "markdown",
   "metadata": {},
   "source": [
    "## Вывод"
   ]
  },
  {
   "cell_type": "markdown",
   "metadata": {},
   "source": [
    "В данной работе был проведен анализ клиентов банка. Требовалось на основе данных о клиенте понять, уйдет ли он ближайшее время или нет. Приведенные данные:\n",
    " - индекс строки в данных;\n",
    " - уникальный идентификатор клиента;\n",
    " - фамилия;\n",
    " - кредитный рейтинг;\n",
    " - страна проживания;\n",
    " - пол;\n",
    " - возраст;\n",
    " - сколько лет человек является клиентом банка;\n",
    " - баланс на счёте;\n",
    " - количество продуктов банка, используемых клиентом;\n",
    " - наличие кредитной карты;\n",
    " - активность клиента;\n",
    " - предполагаемая зарплата."
   ]
  },
  {
   "cell_type": "markdown",
   "metadata": {},
   "source": [
    "Данные были предобработаны, проведен небольшой анализ. Признаки для обучения были масштабированы."
   ]
  },
  {
   "cell_type": "markdown",
   "metadata": {},
   "source": [
    "При обучении модели было представлено два подхода. \n",
    "- **Первый**: данные не балансировались. Модель обучалась на различных классификаторах: логистическая регрессия, байесовский классификатор, дерево решений, случайный лес.\n",
    "- **Второй**: данные балансировались тремя разными способами: upsample, downsample, изменения параметра balanced. Наилучший результат дала модель `Случайный лес` с балансировкой методом upsample."
   ]
  },
  {
   "cell_type": "markdown",
   "metadata": {},
   "source": [
    "Худшие результаты показали модели логистической регрессии и байесовского классификатора, их метрика F1 не превысила 52%. Остальные модели показали результат больше 55%."
   ]
  },
  {
   "cell_type": "markdown",
   "metadata": {},
   "source": [
    "Для моделей дерево решений и случайный лес были подобраны оптимальные гиперпараметры, конкретно случайный лес на валидационной выборке сумел показать результат по метрике F1 — 61%, кривая `roc` составила площадь под графиком величиной 0.84."
   ]
  },
  {
   "cell_type": "markdown",
   "metadata": {},
   "source": [
    "На тестовой выборке результат модели случайный лес составил 62% по метрике F1. Точность составила 55%, а полнота — 71%. Площадь под кривой `roc` составила 0.86. Это значит, что из 100 человек, которые остались, модель смогла предсказать 54, а из 100 человек, которые по мнению модели остались, действительно остались 71 человек. Кривая `roc` позволит задать необходимый уровень порога доверия, таким образом увеличивая значения полноты или точности, исходя из значимости этих метрик."
   ]
  }
 ],
 "metadata": {
  "ExecuteTimeLog": [
   {
    "duration": 51,
    "start_time": "2023-06-19T09:36:01.526Z"
   },
   {
    "duration": 374,
    "start_time": "2023-06-19T09:36:04.092Z"
   },
   {
    "duration": 103,
    "start_time": "2023-06-19T09:36:05.541Z"
   },
   {
    "duration": 47,
    "start_time": "2023-06-19T09:36:33.030Z"
   },
   {
    "duration": 28,
    "start_time": "2023-06-19T09:43:03.128Z"
   },
   {
    "duration": 20,
    "start_time": "2023-06-19T09:43:07.410Z"
   },
   {
    "duration": 23,
    "start_time": "2023-06-19T09:48:05.716Z"
   },
   {
    "duration": 25,
    "start_time": "2023-06-19T09:48:39.502Z"
   },
   {
    "duration": 211,
    "start_time": "2023-06-19T09:50:48.241Z"
   },
   {
    "duration": 1305,
    "start_time": "2023-06-19T09:50:54.317Z"
   },
   {
    "duration": 1098,
    "start_time": "2023-06-19T09:51:04.418Z"
   },
   {
    "duration": 4,
    "start_time": "2023-06-19T09:53:38.574Z"
   },
   {
    "duration": 5,
    "start_time": "2023-06-19T09:53:57.888Z"
   },
   {
    "duration": 21,
    "start_time": "2023-06-19T09:56:10.536Z"
   },
   {
    "duration": 5,
    "start_time": "2023-06-19T09:56:44.089Z"
   },
   {
    "duration": 6,
    "start_time": "2023-06-19T09:56:51.629Z"
   },
   {
    "duration": 19,
    "start_time": "2023-06-19T09:56:55.699Z"
   },
   {
    "duration": 2,
    "start_time": "2023-06-19T09:58:59.615Z"
   },
   {
    "duration": 56,
    "start_time": "2023-06-19T09:58:59.618Z"
   },
   {
    "duration": 20,
    "start_time": "2023-06-19T09:58:59.675Z"
   },
   {
    "duration": 15,
    "start_time": "2023-06-19T09:59:01.402Z"
   },
   {
    "duration": 15,
    "start_time": "2023-06-19T09:59:07.509Z"
   },
   {
    "duration": 22,
    "start_time": "2023-06-19T09:59:19.446Z"
   },
   {
    "duration": 4,
    "start_time": "2023-06-19T09:59:25.710Z"
   },
   {
    "duration": 10,
    "start_time": "2023-06-19T09:59:33.837Z"
   },
   {
    "duration": 2,
    "start_time": "2023-06-19T09:59:39.032Z"
   },
   {
    "duration": 97,
    "start_time": "2023-06-19T09:59:39.037Z"
   },
   {
    "duration": 18,
    "start_time": "2023-06-19T09:59:39.135Z"
   },
   {
    "duration": 20,
    "start_time": "2023-06-19T09:59:40.506Z"
   },
   {
    "duration": 46,
    "start_time": "2023-06-19T10:01:51.150Z"
   },
   {
    "duration": 770,
    "start_time": "2023-06-19T10:02:11.437Z"
   },
   {
    "duration": 8,
    "start_time": "2023-06-19T10:02:19.533Z"
   },
   {
    "duration": 1076,
    "start_time": "2023-06-19T10:02:24.586Z"
   },
   {
    "duration": 2204,
    "start_time": "2023-06-19T10:03:14.910Z"
   },
   {
    "duration": 7,
    "start_time": "2023-06-19T10:04:48.758Z"
   },
   {
    "duration": 29,
    "start_time": "2023-06-19T10:04:55.549Z"
   },
   {
    "duration": 11,
    "start_time": "2023-06-19T10:05:40.086Z"
   },
   {
    "duration": 10,
    "start_time": "2023-06-19T10:05:42.910Z"
   },
   {
    "duration": 4,
    "start_time": "2023-06-19T10:06:09.614Z"
   },
   {
    "duration": 8,
    "start_time": "2023-06-19T10:06:38.298Z"
   },
   {
    "duration": 5,
    "start_time": "2023-06-19T10:06:46.254Z"
   },
   {
    "duration": 5,
    "start_time": "2023-06-19T10:06:53.887Z"
   },
   {
    "duration": 5,
    "start_time": "2023-06-19T10:07:06.680Z"
   },
   {
    "duration": 288,
    "start_time": "2023-06-19T10:07:22.014Z"
   },
   {
    "duration": 8,
    "start_time": "2023-06-19T10:08:53.942Z"
   },
   {
    "duration": 15,
    "start_time": "2023-06-19T10:09:05.557Z"
   },
   {
    "duration": 11,
    "start_time": "2023-06-19T10:09:10.079Z"
   },
   {
    "duration": 136,
    "start_time": "2023-06-19T10:09:24.290Z"
   },
   {
    "duration": 7,
    "start_time": "2023-06-19T10:10:02.985Z"
   },
   {
    "duration": 191,
    "start_time": "2023-06-19T10:10:37.806Z"
   },
   {
    "duration": 260,
    "start_time": "2023-06-19T10:12:19.291Z"
   },
   {
    "duration": 149,
    "start_time": "2023-06-19T10:12:30.054Z"
   },
   {
    "duration": 200,
    "start_time": "2023-06-19T10:13:31.533Z"
   },
   {
    "duration": 267,
    "start_time": "2023-06-19T10:40:04.503Z"
   },
   {
    "duration": 110,
    "start_time": "2023-06-19T10:40:31.262Z"
   },
   {
    "duration": 148,
    "start_time": "2023-06-19T10:40:53.301Z"
   },
   {
    "duration": 176,
    "start_time": "2023-06-19T10:41:01.613Z"
   },
   {
    "duration": 67,
    "start_time": "2023-06-19T10:41:04.814Z"
   },
   {
    "duration": 2906,
    "start_time": "2023-06-19T10:41:33.313Z"
   },
   {
    "duration": 841,
    "start_time": "2023-06-19T10:41:49.394Z"
   },
   {
    "duration": 68,
    "start_time": "2023-06-19T10:43:52.838Z"
   },
   {
    "duration": 190,
    "start_time": "2023-06-19T10:46:10.771Z"
   },
   {
    "duration": 113,
    "start_time": "2023-06-19T10:46:13.311Z"
   },
   {
    "duration": 51,
    "start_time": "2023-06-19T10:46:18.293Z"
   },
   {
    "duration": 2069,
    "start_time": "2023-06-19T10:47:12.630Z"
   },
   {
    "duration": 3,
    "start_time": "2023-06-19T10:47:14.702Z"
   },
   {
    "duration": 73,
    "start_time": "2023-06-19T10:47:14.706Z"
   },
   {
    "duration": 21,
    "start_time": "2023-06-19T10:47:14.780Z"
   },
   {
    "duration": 20,
    "start_time": "2023-06-19T10:47:14.803Z"
   },
   {
    "duration": 6,
    "start_time": "2023-06-19T10:47:14.825Z"
   },
   {
    "duration": 2300,
    "start_time": "2023-06-19T10:47:14.832Z"
   },
   {
    "duration": 18,
    "start_time": "2023-06-19T10:47:17.134Z"
   },
   {
    "duration": 13,
    "start_time": "2023-06-19T10:47:17.154Z"
   },
   {
    "duration": 16,
    "start_time": "2023-06-19T10:47:17.169Z"
   },
   {
    "duration": 43,
    "start_time": "2023-06-19T10:47:17.187Z"
   },
   {
    "duration": 21,
    "start_time": "2023-06-19T10:47:31.022Z"
   },
   {
    "duration": 18,
    "start_time": "2023-06-19T10:48:01.814Z"
   },
   {
    "duration": 13,
    "start_time": "2023-06-19T10:52:24.854Z"
   },
   {
    "duration": 2163,
    "start_time": "2023-06-19T10:52:27.982Z"
   },
   {
    "duration": 3,
    "start_time": "2023-06-19T10:52:30.148Z"
   },
   {
    "duration": 102,
    "start_time": "2023-06-19T10:52:30.153Z"
   },
   {
    "duration": 29,
    "start_time": "2023-06-19T10:52:30.256Z"
   },
   {
    "duration": 4,
    "start_time": "2023-06-19T10:52:32.283Z"
   },
   {
    "duration": 6,
    "start_time": "2023-06-19T10:52:34.389Z"
   },
   {
    "duration": 223,
    "start_time": "2023-06-19T10:53:05.887Z"
   },
   {
    "duration": 1932,
    "start_time": "2023-06-19T10:53:09.984Z"
   },
   {
    "duration": 4,
    "start_time": "2023-06-19T10:53:11.919Z"
   },
   {
    "duration": 63,
    "start_time": "2023-06-19T10:53:11.924Z"
   },
   {
    "duration": 22,
    "start_time": "2023-06-19T10:53:11.988Z"
   },
   {
    "duration": 4,
    "start_time": "2023-06-19T10:53:12.012Z"
   },
   {
    "duration": 10,
    "start_time": "2023-06-19T10:53:12.018Z"
   },
   {
    "duration": 2435,
    "start_time": "2023-06-19T10:53:12.030Z"
   },
   {
    "duration": 23,
    "start_time": "2023-06-19T10:53:14.466Z"
   },
   {
    "duration": 10,
    "start_time": "2023-06-19T10:53:14.491Z"
   },
   {
    "duration": 26,
    "start_time": "2023-06-19T10:53:14.502Z"
   },
   {
    "duration": 242,
    "start_time": "2023-06-19T10:53:14.530Z"
   },
   {
    "duration": 13,
    "start_time": "2023-06-19T10:53:19.934Z"
   },
   {
    "duration": 48,
    "start_time": "2023-06-19T10:53:23.545Z"
   },
   {
    "duration": 12,
    "start_time": "2023-06-19T10:53:40.950Z"
   },
   {
    "duration": 1987,
    "start_time": "2023-06-19T10:53:44.242Z"
   },
   {
    "duration": 5,
    "start_time": "2023-06-19T10:53:46.232Z"
   },
   {
    "duration": 69,
    "start_time": "2023-06-19T10:53:46.238Z"
   },
   {
    "duration": 20,
    "start_time": "2023-06-19T10:53:46.309Z"
   },
   {
    "duration": 13,
    "start_time": "2023-06-19T10:53:46.332Z"
   },
   {
    "duration": 21,
    "start_time": "2023-06-19T10:53:46.346Z"
   },
   {
    "duration": 2239,
    "start_time": "2023-06-19T10:53:46.368Z"
   },
   {
    "duration": 26,
    "start_time": "2023-06-19T10:53:48.609Z"
   },
   {
    "duration": 9,
    "start_time": "2023-06-19T10:53:48.637Z"
   },
   {
    "duration": 4,
    "start_time": "2023-06-19T10:53:48.647Z"
   },
   {
    "duration": 24,
    "start_time": "2023-06-19T10:53:50.350Z"
   },
   {
    "duration": 20,
    "start_time": "2023-06-19T10:54:19.686Z"
   },
   {
    "duration": 8,
    "start_time": "2023-06-19T11:00:58.340Z"
   },
   {
    "duration": 1987,
    "start_time": "2023-06-19T11:01:05.455Z"
   },
   {
    "duration": 4,
    "start_time": "2023-06-19T11:01:07.444Z"
   },
   {
    "duration": 69,
    "start_time": "2023-06-19T11:01:07.450Z"
   },
   {
    "duration": 21,
    "start_time": "2023-06-19T11:01:07.521Z"
   },
   {
    "duration": 19,
    "start_time": "2023-06-19T11:01:07.543Z"
   },
   {
    "duration": 17,
    "start_time": "2023-06-19T11:01:07.564Z"
   },
   {
    "duration": 2313,
    "start_time": "2023-06-19T11:01:07.583Z"
   },
   {
    "duration": 31,
    "start_time": "2023-06-19T11:01:09.897Z"
   },
   {
    "duration": 12,
    "start_time": "2023-06-19T11:01:09.930Z"
   },
   {
    "duration": 10,
    "start_time": "2023-06-19T11:01:09.944Z"
   },
   {
    "duration": 37,
    "start_time": "2023-06-19T11:01:09.956Z"
   },
   {
    "duration": 9,
    "start_time": "2023-06-19T11:01:11.950Z"
   },
   {
    "duration": 9,
    "start_time": "2023-06-19T11:01:48.591Z"
   },
   {
    "duration": 2004,
    "start_time": "2023-06-19T11:02:14.750Z"
   },
   {
    "duration": 5,
    "start_time": "2023-06-19T11:07:43.420Z"
   },
   {
    "duration": 493,
    "start_time": "2023-06-19T11:09:01.344Z"
   },
   {
    "duration": 14,
    "start_time": "2023-06-19T11:11:01.205Z"
   },
   {
    "duration": 14,
    "start_time": "2023-06-19T11:13:38.968Z"
   },
   {
    "duration": 2,
    "start_time": "2023-06-19T11:13:42.831Z"
   },
   {
    "duration": 12,
    "start_time": "2023-06-19T11:14:17.735Z"
   },
   {
    "duration": 8,
    "start_time": "2023-06-19T11:14:28.484Z"
   },
   {
    "duration": 7,
    "start_time": "2023-06-19T11:14:36.524Z"
   },
   {
    "duration": 9,
    "start_time": "2023-06-19T11:15:37.832Z"
   },
   {
    "duration": 5,
    "start_time": "2023-06-19T11:15:45.247Z"
   },
   {
    "duration": 4,
    "start_time": "2023-06-19T11:20:30.301Z"
   },
   {
    "duration": 3,
    "start_time": "2023-06-19T11:22:03.560Z"
   },
   {
    "duration": 3,
    "start_time": "2023-06-19T11:22:30.999Z"
   },
   {
    "duration": 15,
    "start_time": "2023-06-19T11:25:19.565Z"
   },
   {
    "duration": 13456,
    "start_time": "2023-06-19T11:25:27.998Z"
   },
   {
    "duration": 13322,
    "start_time": "2023-06-19T11:26:24.032Z"
   },
   {
    "duration": 7,
    "start_time": "2023-06-19T11:26:46.311Z"
   },
   {
    "duration": 5,
    "start_time": "2023-06-19T11:29:04.460Z"
   },
   {
    "duration": 8,
    "start_time": "2023-06-19T11:30:12.735Z"
   },
   {
    "duration": 8,
    "start_time": "2023-06-19T11:30:24.895Z"
   },
   {
    "duration": 10,
    "start_time": "2023-06-19T11:30:53.586Z"
   },
   {
    "duration": 3,
    "start_time": "2023-06-19T11:32:33.864Z"
   },
   {
    "duration": 3,
    "start_time": "2023-06-19T11:32:54.728Z"
   },
   {
    "duration": 1991,
    "start_time": "2023-06-19T11:33:48.472Z"
   },
   {
    "duration": 4,
    "start_time": "2023-06-19T11:33:50.466Z"
   },
   {
    "duration": 93,
    "start_time": "2023-06-19T11:33:50.471Z"
   },
   {
    "duration": 19,
    "start_time": "2023-06-19T11:33:50.566Z"
   },
   {
    "duration": 15,
    "start_time": "2023-06-19T11:33:50.587Z"
   },
   {
    "duration": 40,
    "start_time": "2023-06-19T11:33:50.603Z"
   },
   {
    "duration": 2340,
    "start_time": "2023-06-19T11:33:50.644Z"
   },
   {
    "duration": 20,
    "start_time": "2023-06-19T11:33:52.986Z"
   },
   {
    "duration": 39,
    "start_time": "2023-06-19T11:33:53.008Z"
   },
   {
    "duration": 4,
    "start_time": "2023-06-19T11:33:53.050Z"
   },
   {
    "duration": 43,
    "start_time": "2023-06-19T11:33:53.055Z"
   },
   {
    "duration": 8,
    "start_time": "2023-06-19T11:33:53.100Z"
   },
   {
    "duration": 317,
    "start_time": "2023-06-19T11:33:53.109Z"
   },
   {
    "duration": 215,
    "start_time": "2023-06-19T11:33:53.431Z"
   },
   {
    "duration": 195,
    "start_time": "2023-06-19T11:33:53.648Z"
   },
   {
    "duration": 23,
    "start_time": "2023-06-19T11:33:53.845Z"
   },
   {
    "duration": 13742,
    "start_time": "2023-06-19T11:33:53.869Z"
   },
   {
    "duration": 12,
    "start_time": "2023-06-19T11:34:07.613Z"
   },
   {
    "duration": 23,
    "start_time": "2023-06-19T11:34:07.627Z"
   },
   {
    "duration": 10,
    "start_time": "2023-06-19T11:34:07.652Z"
   },
   {
    "duration": 3,
    "start_time": "2023-06-19T11:37:05.370Z"
   },
   {
    "duration": 14,
    "start_time": "2023-06-19T11:37:31.047Z"
   },
   {
    "duration": 13,
    "start_time": "2023-06-19T11:37:54.799Z"
   },
   {
    "duration": 14,
    "start_time": "2023-06-19T11:38:31.648Z"
   },
   {
    "duration": 60,
    "start_time": "2023-06-19T11:38:47.328Z"
   },
   {
    "duration": 26,
    "start_time": "2023-06-19T11:39:16.782Z"
   },
   {
    "duration": 13,
    "start_time": "2023-06-19T11:40:02.331Z"
   },
   {
    "duration": 2381,
    "start_time": "2023-06-19T11:40:14.418Z"
   },
   {
    "duration": 5,
    "start_time": "2023-06-19T11:40:16.801Z"
   },
   {
    "duration": 67,
    "start_time": "2023-06-19T11:40:16.808Z"
   },
   {
    "duration": 28,
    "start_time": "2023-06-19T11:40:16.877Z"
   },
   {
    "duration": 36,
    "start_time": "2023-06-19T11:40:16.907Z"
   },
   {
    "duration": 20,
    "start_time": "2023-06-19T11:40:16.945Z"
   },
   {
    "duration": 2614,
    "start_time": "2023-06-19T11:40:16.967Z"
   },
   {
    "duration": 22,
    "start_time": "2023-06-19T11:40:19.582Z"
   },
   {
    "duration": 603,
    "start_time": "2023-06-19T11:40:19.606Z"
   },
   {
    "duration": 35,
    "start_time": "2023-06-19T11:40:20.210Z"
   },
   {
    "duration": 38,
    "start_time": "2023-06-19T11:40:20.247Z"
   },
   {
    "duration": 21,
    "start_time": "2023-06-19T11:40:20.287Z"
   },
   {
    "duration": 612,
    "start_time": "2023-06-19T11:40:20.310Z"
   },
   {
    "duration": 92,
    "start_time": "2023-06-19T11:40:20.939Z"
   },
   {
    "duration": 108,
    "start_time": "2023-06-19T11:40:21.034Z"
   },
   {
    "duration": 30,
    "start_time": "2023-06-19T11:40:21.143Z"
   },
   {
    "duration": 14097,
    "start_time": "2023-06-19T11:40:21.175Z"
   },
   {
    "duration": 28,
    "start_time": "2023-06-19T11:40:35.274Z"
   },
   {
    "duration": 12782,
    "start_time": "2023-06-19T11:40:41.407Z"
   },
   {
    "duration": 20,
    "start_time": "2023-06-19T11:41:04.561Z"
   },
   {
    "duration": 11,
    "start_time": "2023-06-19T11:41:23.617Z"
   },
   {
    "duration": 18,
    "start_time": "2023-06-19T11:42:50.504Z"
   },
   {
    "duration": 11,
    "start_time": "2023-06-19T11:42:52.975Z"
   },
   {
    "duration": 105,
    "start_time": "2023-06-19T11:45:24.752Z"
   },
   {
    "duration": 27,
    "start_time": "2023-06-19T11:45:30.476Z"
   },
   {
    "duration": 26,
    "start_time": "2023-06-19T11:46:07.633Z"
   },
   {
    "duration": 13585,
    "start_time": "2023-06-19T11:46:24.704Z"
   },
   {
    "duration": 10873,
    "start_time": "2023-06-19T11:46:40.424Z"
   },
   {
    "duration": 20,
    "start_time": "2023-06-19T11:49:47.888Z"
   },
   {
    "duration": 22,
    "start_time": "2023-06-19T11:50:06.433Z"
   },
   {
    "duration": 10,
    "start_time": "2023-06-19T11:50:17.072Z"
   },
   {
    "duration": 111,
    "start_time": "2023-06-19T11:50:32.712Z"
   },
   {
    "duration": 17,
    "start_time": "2023-06-19T11:51:19.920Z"
   },
   {
    "duration": 8,
    "start_time": "2023-06-19T11:58:48.064Z"
   },
   {
    "duration": 5,
    "start_time": "2023-06-19T11:59:04.088Z"
   },
   {
    "duration": 5,
    "start_time": "2023-06-19T11:59:16.672Z"
   },
   {
    "duration": 7,
    "start_time": "2023-06-19T11:59:23.890Z"
   },
   {
    "duration": 6,
    "start_time": "2023-06-19T12:00:02.236Z"
   },
   {
    "duration": 6,
    "start_time": "2023-06-19T12:00:12.464Z"
   },
   {
    "duration": 18,
    "start_time": "2023-06-19T12:03:56.944Z"
   },
   {
    "duration": 4,
    "start_time": "2023-06-19T12:04:14.504Z"
   },
   {
    "duration": 13,
    "start_time": "2023-06-19T12:04:18.024Z"
   },
   {
    "duration": 46,
    "start_time": "2023-06-19T12:05:43.000Z"
   },
   {
    "duration": 34,
    "start_time": "2023-06-19T12:06:24.401Z"
   },
   {
    "duration": 13,
    "start_time": "2023-06-19T12:11:38.641Z"
   },
   {
    "duration": 11,
    "start_time": "2023-06-19T12:12:04.641Z"
   },
   {
    "duration": 18,
    "start_time": "2023-06-19T12:12:40.872Z"
   },
   {
    "duration": 51,
    "start_time": "2023-06-19T12:14:17.673Z"
   },
   {
    "duration": 31,
    "start_time": "2023-06-19T12:14:39.073Z"
   },
   {
    "duration": 42,
    "start_time": "2023-06-19T12:15:07.176Z"
   },
   {
    "duration": 33,
    "start_time": "2023-06-19T12:16:00.376Z"
   },
   {
    "duration": 11,
    "start_time": "2023-06-19T12:16:31.201Z"
   },
   {
    "duration": 27,
    "start_time": "2023-06-19T12:16:34.829Z"
   },
   {
    "duration": 28,
    "start_time": "2023-06-19T12:19:18.649Z"
   },
   {
    "duration": 4,
    "start_time": "2023-06-19T12:22:23.773Z"
   },
   {
    "duration": 6,
    "start_time": "2023-06-19T12:24:49.601Z"
   },
   {
    "duration": 7,
    "start_time": "2023-06-19T12:24:57.641Z"
   },
   {
    "duration": 4,
    "start_time": "2023-06-19T12:26:24.168Z"
   },
   {
    "duration": 12,
    "start_time": "2023-06-19T12:27:07.257Z"
   },
   {
    "duration": 5,
    "start_time": "2023-06-19T12:27:23.537Z"
   },
   {
    "duration": 10,
    "start_time": "2023-06-19T12:27:28.089Z"
   },
   {
    "duration": 123,
    "start_time": "2023-06-19T12:28:03.386Z"
   },
   {
    "duration": 7,
    "start_time": "2023-06-19T12:32:05.473Z"
   },
   {
    "duration": 13344,
    "start_time": "2023-06-19T12:35:20.176Z"
   },
   {
    "duration": 13002,
    "start_time": "2023-06-19T12:35:39.008Z"
   },
   {
    "duration": 201,
    "start_time": "2023-06-19T12:36:01.133Z"
   },
   {
    "duration": 11,
    "start_time": "2023-06-19T12:36:05.144Z"
   },
   {
    "duration": 4,
    "start_time": "2023-06-19T12:37:54.855Z"
   },
   {
    "duration": 24,
    "start_time": "2023-06-19T12:38:45.249Z"
   },
   {
    "duration": 26,
    "start_time": "2023-06-19T12:41:13.039Z"
   },
   {
    "duration": 33,
    "start_time": "2023-06-19T12:41:18.202Z"
   },
   {
    "duration": 1955,
    "start_time": "2023-06-19T12:41:39.659Z"
   },
   {
    "duration": 6,
    "start_time": "2023-06-19T12:41:41.616Z"
   },
   {
    "duration": 83,
    "start_time": "2023-06-19T12:41:41.624Z"
   },
   {
    "duration": 22,
    "start_time": "2023-06-19T12:41:41.708Z"
   },
   {
    "duration": 4,
    "start_time": "2023-06-19T12:41:41.732Z"
   },
   {
    "duration": 13,
    "start_time": "2023-06-19T12:41:41.738Z"
   },
   {
    "duration": 2246,
    "start_time": "2023-06-19T12:41:41.753Z"
   },
   {
    "duration": 28,
    "start_time": "2023-06-19T12:41:44.001Z"
   },
   {
    "duration": 10,
    "start_time": "2023-06-19T12:41:44.031Z"
   },
   {
    "duration": 33,
    "start_time": "2023-06-19T12:41:44.042Z"
   },
   {
    "duration": 39,
    "start_time": "2023-06-19T12:41:44.076Z"
   },
   {
    "duration": 17,
    "start_time": "2023-06-19T12:41:44.116Z"
   },
   {
    "duration": 386,
    "start_time": "2023-06-19T12:41:44.135Z"
   },
   {
    "duration": 97,
    "start_time": "2023-06-19T12:41:44.524Z"
   },
   {
    "duration": 113,
    "start_time": "2023-06-19T12:41:44.623Z"
   },
   {
    "duration": 20,
    "start_time": "2023-06-19T12:41:44.737Z"
   },
   {
    "duration": 13885,
    "start_time": "2023-06-19T12:41:44.759Z"
   },
   {
    "duration": 25,
    "start_time": "2023-06-19T12:41:58.647Z"
   },
   {
    "duration": 34,
    "start_time": "2023-06-19T12:41:58.674Z"
   },
   {
    "duration": 15316,
    "start_time": "2023-06-19T12:41:58.711Z"
   },
   {
    "duration": 121,
    "start_time": "2023-06-19T12:42:14.029Z"
   },
   {
    "duration": 20,
    "start_time": "2023-06-19T12:42:14.152Z"
   },
   {
    "duration": 46,
    "start_time": "2023-06-19T12:42:14.174Z"
   },
   {
    "duration": 26,
    "start_time": "2023-06-19T12:42:14.222Z"
   },
   {
    "duration": 6,
    "start_time": "2023-06-19T12:42:14.250Z"
   },
   {
    "duration": 12,
    "start_time": "2023-06-19T12:42:14.257Z"
   },
   {
    "duration": 57,
    "start_time": "2023-06-19T12:42:14.270Z"
   },
   {
    "duration": 10,
    "start_time": "2023-06-19T12:42:14.328Z"
   },
   {
    "duration": 52,
    "start_time": "2023-06-19T12:42:14.339Z"
   },
   {
    "duration": 44,
    "start_time": "2023-06-19T12:42:14.392Z"
   },
   {
    "duration": 117,
    "start_time": "2023-06-19T12:42:14.438Z"
   },
   {
    "duration": 6,
    "start_time": "2023-06-19T12:42:14.557Z"
   },
   {
    "duration": 18,
    "start_time": "2023-06-19T12:46:30.430Z"
   },
   {
    "duration": 88,
    "start_time": "2023-06-19T12:46:44.057Z"
   },
   {
    "duration": 90,
    "start_time": "2023-06-19T12:47:14.874Z"
   },
   {
    "duration": 94,
    "start_time": "2023-06-19T12:47:43.450Z"
   },
   {
    "duration": 103,
    "start_time": "2023-06-19T12:48:09.146Z"
   },
   {
    "duration": 97,
    "start_time": "2023-06-19T12:48:24.506Z"
   },
   {
    "duration": 85,
    "start_time": "2023-06-19T12:48:30.353Z"
   },
   {
    "duration": 88,
    "start_time": "2023-06-19T12:48:58.346Z"
   },
   {
    "duration": 89,
    "start_time": "2023-06-19T12:49:23.346Z"
   },
   {
    "duration": 101,
    "start_time": "2023-06-19T12:49:52.721Z"
   },
   {
    "duration": 100,
    "start_time": "2023-06-19T12:51:21.721Z"
   },
   {
    "duration": 9811,
    "start_time": "2023-06-19T12:51:40.570Z"
   },
   {
    "duration": 91,
    "start_time": "2023-06-19T12:52:46.321Z"
   },
   {
    "duration": 10,
    "start_time": "2023-06-19T12:53:41.121Z"
   },
   {
    "duration": 321,
    "start_time": "2023-06-19T12:53:46.102Z"
   },
   {
    "duration": 373,
    "start_time": "2023-06-19T12:54:22.588Z"
   },
   {
    "duration": 11999,
    "start_time": "2023-06-19T12:54:57.859Z"
   },
   {
    "duration": 10082,
    "start_time": "2023-06-19T12:56:03.330Z"
   },
   {
    "duration": 9731,
    "start_time": "2023-06-19T12:56:19.917Z"
   },
   {
    "duration": 115,
    "start_time": "2023-06-19T12:56:50.770Z"
   },
   {
    "duration": 130,
    "start_time": "2023-06-19T12:57:05.658Z"
   },
   {
    "duration": 12979,
    "start_time": "2023-06-19T12:57:35.041Z"
   },
   {
    "duration": 22,
    "start_time": "2023-06-19T12:57:56.658Z"
   },
   {
    "duration": 9826,
    "start_time": "2023-06-19T12:58:07.718Z"
   },
   {
    "duration": 180,
    "start_time": "2023-06-19T12:58:50.010Z"
   },
   {
    "duration": 325,
    "start_time": "2023-06-19T12:59:06.978Z"
   },
   {
    "duration": 141,
    "start_time": "2023-06-19T12:59:59.274Z"
   },
   {
    "duration": 22,
    "start_time": "2023-06-19T13:00:07.274Z"
   },
   {
    "duration": 376,
    "start_time": "2023-06-19T13:01:22.643Z"
   },
   {
    "duration": 28,
    "start_time": "2023-06-19T13:01:25.362Z"
   },
   {
    "duration": 363,
    "start_time": "2023-06-19T13:01:46.545Z"
   },
   {
    "duration": 23,
    "start_time": "2023-06-19T13:02:02.905Z"
   },
   {
    "duration": 29,
    "start_time": "2023-06-19T13:02:21.594Z"
   },
   {
    "duration": 133,
    "start_time": "2023-06-19T13:02:34.530Z"
   },
   {
    "duration": 27,
    "start_time": "2023-06-19T13:02:59.570Z"
   },
   {
    "duration": 11,
    "start_time": "2023-06-19T13:03:08.650Z"
   },
   {
    "duration": 223,
    "start_time": "2023-06-19T13:05:06.722Z"
   },
   {
    "duration": 10715,
    "start_time": "2023-06-19T13:05:35.730Z"
   },
   {
    "duration": 151,
    "start_time": "2023-06-19T13:06:06.762Z"
   },
   {
    "duration": 189,
    "start_time": "2023-06-19T13:06:19.395Z"
   },
   {
    "duration": 27,
    "start_time": "2023-06-19T13:06:26.698Z"
   },
   {
    "duration": 273,
    "start_time": "2023-06-19T13:06:45.178Z"
   },
   {
    "duration": 258,
    "start_time": "2023-06-19T13:08:42.882Z"
   },
   {
    "duration": 134,
    "start_time": "2023-06-19T13:09:31.706Z"
   },
   {
    "duration": 229,
    "start_time": "2023-06-19T13:10:25.994Z"
   },
   {
    "duration": 214,
    "start_time": "2023-06-19T13:10:50.162Z"
   },
   {
    "duration": 255,
    "start_time": "2023-06-19T13:11:39.747Z"
   },
   {
    "duration": 120,
    "start_time": "2023-06-19T13:12:25.754Z"
   },
   {
    "duration": 6,
    "start_time": "2023-06-19T13:12:40.577Z"
   },
   {
    "duration": 23,
    "start_time": "2023-06-19T13:16:29.322Z"
   },
   {
    "duration": 2024,
    "start_time": "2023-06-19T13:41:16.318Z"
   },
   {
    "duration": 5,
    "start_time": "2023-06-19T13:41:18.344Z"
   },
   {
    "duration": 62,
    "start_time": "2023-06-19T13:41:18.351Z"
   },
   {
    "duration": 21,
    "start_time": "2023-06-19T13:41:18.415Z"
   },
   {
    "duration": 8,
    "start_time": "2023-06-19T13:41:18.438Z"
   },
   {
    "duration": 20,
    "start_time": "2023-06-19T13:41:18.447Z"
   },
   {
    "duration": 2279,
    "start_time": "2023-06-19T13:41:18.468Z"
   },
   {
    "duration": 21,
    "start_time": "2023-06-19T13:41:20.748Z"
   },
   {
    "duration": 11,
    "start_time": "2023-06-19T13:41:20.771Z"
   },
   {
    "duration": 20,
    "start_time": "2023-06-19T13:41:20.784Z"
   },
   {
    "duration": 38,
    "start_time": "2023-06-19T13:41:20.805Z"
   },
   {
    "duration": 14,
    "start_time": "2023-06-19T13:41:20.844Z"
   },
   {
    "duration": 469,
    "start_time": "2023-06-19T13:41:20.859Z"
   },
   {
    "duration": 94,
    "start_time": "2023-06-19T13:41:21.330Z"
   },
   {
    "duration": 119,
    "start_time": "2023-06-19T13:41:21.425Z"
   },
   {
    "duration": 56,
    "start_time": "2023-06-19T13:41:21.545Z"
   },
   {
    "duration": 349,
    "start_time": "2023-06-19T13:41:21.602Z"
   },
   {
    "duration": 27,
    "start_time": "2023-06-19T13:41:21.952Z"
   },
   {
    "duration": 9,
    "start_time": "2023-06-19T13:41:21.981Z"
   },
   {
    "duration": 10579,
    "start_time": "2023-06-19T13:41:21.991Z"
   },
   {
    "duration": 183,
    "start_time": "2023-06-19T13:41:32.571Z"
   },
   {
    "duration": 25,
    "start_time": "2023-06-19T13:41:32.756Z"
   },
   {
    "duration": 27,
    "start_time": "2023-06-19T13:41:32.782Z"
   },
   {
    "duration": 48,
    "start_time": "2023-06-19T13:41:32.810Z"
   },
   {
    "duration": 29,
    "start_time": "2023-06-19T13:41:32.859Z"
   },
   {
    "duration": 31,
    "start_time": "2023-06-19T13:41:32.889Z"
   },
   {
    "duration": 284,
    "start_time": "2023-06-19T13:41:32.922Z"
   },
   {
    "duration": 18,
    "start_time": "2023-06-19T13:41:33.209Z"
   },
   {
    "duration": 139,
    "start_time": "2023-06-19T13:41:33.229Z"
   },
   {
    "duration": 206,
    "start_time": "2023-06-19T13:41:33.370Z"
   },
   {
    "duration": 118,
    "start_time": "2023-06-19T13:41:33.578Z"
   },
   {
    "duration": 6,
    "start_time": "2023-06-19T13:41:33.697Z"
   },
   {
    "duration": 32,
    "start_time": "2023-06-19T13:41:33.705Z"
   },
   {
    "duration": 24,
    "start_time": "2023-06-19T13:43:43.795Z"
   },
   {
    "duration": 113,
    "start_time": "2023-06-19T13:43:59.185Z"
   },
   {
    "duration": 16,
    "start_time": "2023-06-19T13:44:08.264Z"
   },
   {
    "duration": 7,
    "start_time": "2023-06-19T13:44:21.219Z"
   },
   {
    "duration": 2219,
    "start_time": "2023-06-19T13:48:28.028Z"
   },
   {
    "duration": 5,
    "start_time": "2023-06-19T13:48:30.250Z"
   },
   {
    "duration": 108,
    "start_time": "2023-06-19T13:48:30.257Z"
   },
   {
    "duration": 19,
    "start_time": "2023-06-19T13:48:30.367Z"
   },
   {
    "duration": 238,
    "start_time": "2023-06-19T13:48:30.388Z"
   },
   {
    "duration": 43,
    "start_time": "2023-06-19T13:48:30.628Z"
   },
   {
    "duration": 2347,
    "start_time": "2023-06-19T13:48:30.673Z"
   },
   {
    "duration": 20,
    "start_time": "2023-06-19T13:48:33.021Z"
   },
   {
    "duration": 20,
    "start_time": "2023-06-19T13:48:33.042Z"
   },
   {
    "duration": 15,
    "start_time": "2023-06-19T13:48:33.064Z"
   },
   {
    "duration": 34,
    "start_time": "2023-06-19T13:48:33.081Z"
   },
   {
    "duration": 8,
    "start_time": "2023-06-19T13:48:33.116Z"
   },
   {
    "duration": 399,
    "start_time": "2023-06-19T13:48:33.126Z"
   },
   {
    "duration": 95,
    "start_time": "2023-06-19T13:48:33.526Z"
   },
   {
    "duration": 106,
    "start_time": "2023-06-19T13:48:33.623Z"
   },
   {
    "duration": 17,
    "start_time": "2023-06-19T13:48:33.731Z"
   },
   {
    "duration": 367,
    "start_time": "2023-06-19T13:48:33.750Z"
   },
   {
    "duration": 26,
    "start_time": "2023-06-19T13:48:34.120Z"
   },
   {
    "duration": 9,
    "start_time": "2023-06-19T13:48:34.147Z"
   },
   {
    "duration": 11686,
    "start_time": "2023-06-19T13:48:34.158Z"
   },
   {
    "duration": 185,
    "start_time": "2023-06-19T13:48:45.846Z"
   },
   {
    "duration": 25,
    "start_time": "2023-06-19T13:48:46.032Z"
   },
   {
    "duration": 21,
    "start_time": "2023-06-19T13:48:46.059Z"
   },
   {
    "duration": 10,
    "start_time": "2023-06-19T13:48:46.081Z"
   },
   {
    "duration": 34,
    "start_time": "2023-06-19T13:48:46.093Z"
   },
   {
    "duration": 283,
    "start_time": "2023-06-19T13:48:46.128Z"
   },
   {
    "duration": 14,
    "start_time": "2023-06-19T13:48:46.412Z"
   },
   {
    "duration": 141,
    "start_time": "2023-06-19T13:48:46.428Z"
   },
   {
    "duration": 207,
    "start_time": "2023-06-19T13:48:46.570Z"
   },
   {
    "duration": 116,
    "start_time": "2023-06-19T13:48:46.779Z"
   },
   {
    "duration": 5,
    "start_time": "2023-06-19T13:48:46.897Z"
   },
   {
    "duration": 72,
    "start_time": "2023-06-19T13:48:46.903Z"
   },
   {
    "duration": 121,
    "start_time": "2023-06-19T13:48:46.977Z"
   },
   {
    "duration": 6,
    "start_time": "2023-06-19T13:48:47.100Z"
   },
   {
    "duration": 3333,
    "start_time": "2023-06-19T14:02:33.528Z"
   },
   {
    "duration": 2452,
    "start_time": "2023-06-19T14:02:36.864Z"
   },
   {
    "duration": 222,
    "start_time": "2023-06-19T14:02:39.318Z"
   },
   {
    "duration": 30,
    "start_time": "2023-06-19T14:02:39.542Z"
   },
   {
    "duration": 6,
    "start_time": "2023-06-19T14:02:39.575Z"
   },
   {
    "duration": 11,
    "start_time": "2023-06-19T14:02:39.583Z"
   },
   {
    "duration": 2685,
    "start_time": "2023-06-19T14:02:39.595Z"
   },
   {
    "duration": 27,
    "start_time": "2023-06-19T14:02:42.282Z"
   },
   {
    "duration": 25,
    "start_time": "2023-06-19T14:02:42.312Z"
   },
   {
    "duration": 62,
    "start_time": "2023-06-19T14:02:42.341Z"
   },
   {
    "duration": 31,
    "start_time": "2023-06-19T14:02:42.405Z"
   },
   {
    "duration": 9,
    "start_time": "2023-06-19T14:02:42.438Z"
   },
   {
    "duration": 3319,
    "start_time": "2023-06-19T14:02:42.448Z"
   },
   {
    "duration": 98,
    "start_time": "2023-06-19T14:02:45.768Z"
   },
   {
    "duration": 101,
    "start_time": "2023-06-19T14:02:45.869Z"
   },
   {
    "duration": 11,
    "start_time": "2023-06-19T14:02:45.972Z"
   },
   {
    "duration": 449,
    "start_time": "2023-06-19T14:02:45.985Z"
   },
   {
    "duration": 44,
    "start_time": "2023-06-19T14:02:46.436Z"
   },
   {
    "duration": 12,
    "start_time": "2023-06-19T14:02:46.482Z"
   },
   {
    "duration": 10901,
    "start_time": "2023-06-19T14:02:46.496Z"
   },
   {
    "duration": 194,
    "start_time": "2023-06-19T14:02:57.399Z"
   },
   {
    "duration": 31,
    "start_time": "2023-06-19T14:02:57.594Z"
   },
   {
    "duration": 47,
    "start_time": "2023-06-19T14:02:57.627Z"
   },
   {
    "duration": 7,
    "start_time": "2023-06-19T14:02:57.678Z"
   },
   {
    "duration": 15,
    "start_time": "2023-06-19T14:02:57.687Z"
   },
   {
    "duration": 287,
    "start_time": "2023-06-19T14:02:57.704Z"
   },
   {
    "duration": 10,
    "start_time": "2023-06-19T14:02:57.993Z"
   },
   {
    "duration": 163,
    "start_time": "2023-06-19T14:02:58.006Z"
   },
   {
    "duration": 226,
    "start_time": "2023-06-19T14:02:58.176Z"
   },
   {
    "duration": 134,
    "start_time": "2023-06-19T14:02:58.404Z"
   },
   {
    "duration": 0,
    "start_time": "2023-06-19T14:02:58.540Z"
   },
   {
    "duration": 0,
    "start_time": "2023-06-19T14:02:58.542Z"
   },
   {
    "duration": 0,
    "start_time": "2023-06-19T14:02:58.543Z"
   },
   {
    "duration": 0,
    "start_time": "2023-06-19T14:02:58.544Z"
   },
   {
    "duration": 11,
    "start_time": "2023-06-19T14:24:52.496Z"
   },
   {
    "duration": 1970,
    "start_time": "2023-06-19T14:42:31.494Z"
   },
   {
    "duration": 6,
    "start_time": "2023-06-19T14:42:33.466Z"
   },
   {
    "duration": 65,
    "start_time": "2023-06-19T14:42:33.473Z"
   },
   {
    "duration": 20,
    "start_time": "2023-06-19T14:42:33.540Z"
   },
   {
    "duration": 23,
    "start_time": "2023-06-19T14:42:33.561Z"
   },
   {
    "duration": 13,
    "start_time": "2023-06-19T14:42:33.585Z"
   },
   {
    "duration": 2193,
    "start_time": "2023-06-19T14:42:33.599Z"
   },
   {
    "duration": 31,
    "start_time": "2023-06-19T14:42:35.793Z"
   },
   {
    "duration": 9,
    "start_time": "2023-06-19T14:42:35.826Z"
   },
   {
    "duration": 5,
    "start_time": "2023-06-19T14:42:35.838Z"
   },
   {
    "duration": 37,
    "start_time": "2023-06-19T14:42:35.845Z"
   },
   {
    "duration": 9,
    "start_time": "2023-06-19T14:42:35.883Z"
   },
   {
    "duration": 427,
    "start_time": "2023-06-19T14:42:35.894Z"
   },
   {
    "duration": 99,
    "start_time": "2023-06-19T14:42:36.323Z"
   },
   {
    "duration": 98,
    "start_time": "2023-06-19T14:42:36.424Z"
   },
   {
    "duration": 32,
    "start_time": "2023-06-19T14:42:36.523Z"
   },
   {
    "duration": 361,
    "start_time": "2023-06-19T14:42:36.556Z"
   },
   {
    "duration": 29,
    "start_time": "2023-06-19T14:42:36.920Z"
   },
   {
    "duration": 10,
    "start_time": "2023-06-19T14:42:36.951Z"
   },
   {
    "duration": 11215,
    "start_time": "2023-06-19T14:42:36.962Z"
   },
   {
    "duration": 259,
    "start_time": "2023-06-19T14:42:48.179Z"
   },
   {
    "duration": 33,
    "start_time": "2023-06-19T14:42:48.440Z"
   },
   {
    "duration": 104,
    "start_time": "2023-06-19T14:42:48.475Z"
   },
   {
    "duration": 33,
    "start_time": "2023-06-19T14:42:48.581Z"
   },
   {
    "duration": 83,
    "start_time": "2023-06-19T14:42:48.616Z"
   },
   {
    "duration": 321,
    "start_time": "2023-06-19T14:42:48.701Z"
   },
   {
    "duration": 11,
    "start_time": "2023-06-19T14:42:49.024Z"
   },
   {
    "duration": 194,
    "start_time": "2023-06-19T14:42:49.038Z"
   },
   {
    "duration": 222,
    "start_time": "2023-06-19T14:42:49.243Z"
   },
   {
    "duration": 132,
    "start_time": "2023-06-19T14:42:49.467Z"
   },
   {
    "duration": 6,
    "start_time": "2023-06-19T14:42:49.601Z"
   },
   {
    "duration": 48,
    "start_time": "2023-06-19T14:42:49.608Z"
   },
   {
    "duration": 123,
    "start_time": "2023-06-19T14:42:49.657Z"
   },
   {
    "duration": 7,
    "start_time": "2023-06-19T14:42:49.781Z"
   },
   {
    "duration": 3273,
    "start_time": "2023-06-20T12:27:13.105Z"
   },
   {
    "duration": 1722,
    "start_time": "2023-06-20T12:27:16.380Z"
   },
   {
    "duration": 175,
    "start_time": "2023-06-20T12:27:18.104Z"
   },
   {
    "duration": 29,
    "start_time": "2023-06-20T12:27:18.281Z"
   },
   {
    "duration": 4,
    "start_time": "2023-06-20T12:27:18.312Z"
   },
   {
    "duration": 19,
    "start_time": "2023-06-20T12:27:18.318Z"
   },
   {
    "duration": 2857,
    "start_time": "2023-06-20T12:27:18.339Z"
   },
   {
    "duration": 161,
    "start_time": "2023-06-20T12:27:21.198Z"
   },
   {
    "duration": 142,
    "start_time": "2023-06-20T12:27:21.361Z"
   },
   {
    "duration": 21,
    "start_time": "2023-06-20T12:27:21.507Z"
   },
   {
    "duration": 62,
    "start_time": "2023-06-20T12:27:21.530Z"
   },
   {
    "duration": 49,
    "start_time": "2023-06-20T12:27:21.594Z"
   },
   {
    "duration": 2015,
    "start_time": "2023-06-20T12:27:21.645Z"
   },
   {
    "duration": 98,
    "start_time": "2023-06-20T12:27:23.662Z"
   },
   {
    "duration": 106,
    "start_time": "2023-06-20T12:27:23.764Z"
   },
   {
    "duration": 17,
    "start_time": "2023-06-20T12:27:23.872Z"
   },
   {
    "duration": 480,
    "start_time": "2023-06-20T12:27:23.890Z"
   },
   {
    "duration": 33,
    "start_time": "2023-06-20T12:27:24.372Z"
   },
   {
    "duration": 11,
    "start_time": "2023-06-20T12:27:24.407Z"
   },
   {
    "duration": 11091,
    "start_time": "2023-06-20T12:27:24.420Z"
   },
   {
    "duration": 190,
    "start_time": "2023-06-20T12:27:35.514Z"
   },
   {
    "duration": 33,
    "start_time": "2023-06-20T12:27:35.706Z"
   },
   {
    "duration": 42,
    "start_time": "2023-06-20T12:27:35.741Z"
   },
   {
    "duration": 15,
    "start_time": "2023-06-20T12:27:35.785Z"
   },
   {
    "duration": 59,
    "start_time": "2023-06-20T12:27:35.802Z"
   },
   {
    "duration": 327,
    "start_time": "2023-06-20T12:27:35.863Z"
   },
   {
    "duration": 12,
    "start_time": "2023-06-20T12:27:36.192Z"
   },
   {
    "duration": 220,
    "start_time": "2023-06-20T12:27:36.207Z"
   },
   {
    "duration": 232,
    "start_time": "2023-06-20T12:27:36.429Z"
   },
   {
    "duration": 139,
    "start_time": "2023-06-20T12:27:36.662Z"
   },
   {
    "duration": 7,
    "start_time": "2023-06-20T12:27:36.802Z"
   },
   {
    "duration": 38,
    "start_time": "2023-06-20T12:27:36.810Z"
   },
   {
    "duration": 142,
    "start_time": "2023-06-20T12:27:36.850Z"
   },
   {
    "duration": 7,
    "start_time": "2023-06-20T12:27:36.994Z"
   },
   {
    "duration": 36,
    "start_time": "2023-06-20T12:31:14.549Z"
   },
   {
    "duration": 2363,
    "start_time": "2023-06-20T12:34:00.550Z"
   },
   {
    "duration": 5,
    "start_time": "2023-06-20T12:34:02.915Z"
   },
   {
    "duration": 69,
    "start_time": "2023-06-20T12:34:02.922Z"
   },
   {
    "duration": 36,
    "start_time": "2023-06-20T12:34:02.993Z"
   },
   {
    "duration": 6,
    "start_time": "2023-06-20T12:34:03.032Z"
   },
   {
    "duration": 29,
    "start_time": "2023-06-20T12:34:03.040Z"
   },
   {
    "duration": 2718,
    "start_time": "2023-06-20T12:34:03.076Z"
   },
   {
    "duration": 21,
    "start_time": "2023-06-20T12:34:05.796Z"
   },
   {
    "duration": 9,
    "start_time": "2023-06-20T12:34:05.819Z"
   },
   {
    "duration": 1864,
    "start_time": "2023-06-20T12:34:05.830Z"
   },
   {
    "duration": 0,
    "start_time": "2023-06-20T12:34:07.696Z"
   },
   {
    "duration": 0,
    "start_time": "2023-06-20T12:34:07.698Z"
   },
   {
    "duration": 0,
    "start_time": "2023-06-20T12:34:07.699Z"
   },
   {
    "duration": 0,
    "start_time": "2023-06-20T12:34:07.700Z"
   },
   {
    "duration": 0,
    "start_time": "2023-06-20T12:34:07.702Z"
   },
   {
    "duration": 0,
    "start_time": "2023-06-20T12:34:07.703Z"
   },
   {
    "duration": 0,
    "start_time": "2023-06-20T12:34:07.704Z"
   },
   {
    "duration": 0,
    "start_time": "2023-06-20T12:34:07.705Z"
   },
   {
    "duration": 0,
    "start_time": "2023-06-20T12:34:07.706Z"
   },
   {
    "duration": 0,
    "start_time": "2023-06-20T12:34:07.707Z"
   },
   {
    "duration": 0,
    "start_time": "2023-06-20T12:34:07.708Z"
   },
   {
    "duration": 0,
    "start_time": "2023-06-20T12:34:07.709Z"
   },
   {
    "duration": 0,
    "start_time": "2023-06-20T12:34:07.710Z"
   },
   {
    "duration": 0,
    "start_time": "2023-06-20T12:34:07.711Z"
   },
   {
    "duration": 0,
    "start_time": "2023-06-20T12:34:07.712Z"
   },
   {
    "duration": 0,
    "start_time": "2023-06-20T12:34:07.714Z"
   },
   {
    "duration": 0,
    "start_time": "2023-06-20T12:34:07.714Z"
   },
   {
    "duration": 0,
    "start_time": "2023-06-20T12:34:07.715Z"
   },
   {
    "duration": 0,
    "start_time": "2023-06-20T12:34:07.716Z"
   },
   {
    "duration": 0,
    "start_time": "2023-06-20T12:34:07.717Z"
   },
   {
    "duration": 0,
    "start_time": "2023-06-20T12:34:07.718Z"
   },
   {
    "duration": 0,
    "start_time": "2023-06-20T12:34:07.719Z"
   },
   {
    "duration": 0,
    "start_time": "2023-06-20T12:34:07.719Z"
   },
   {
    "duration": 0,
    "start_time": "2023-06-20T12:34:07.720Z"
   },
   {
    "duration": 2235,
    "start_time": "2023-06-20T12:34:45.200Z"
   },
   {
    "duration": 6,
    "start_time": "2023-06-20T12:34:47.438Z"
   },
   {
    "duration": 84,
    "start_time": "2023-06-20T12:34:47.446Z"
   },
   {
    "duration": 26,
    "start_time": "2023-06-20T12:34:47.532Z"
   },
   {
    "duration": 17,
    "start_time": "2023-06-20T12:34:47.563Z"
   },
   {
    "duration": 22,
    "start_time": "2023-06-20T12:34:47.582Z"
   },
   {
    "duration": 2692,
    "start_time": "2023-06-20T12:34:47.606Z"
   },
   {
    "duration": 22,
    "start_time": "2023-06-20T12:34:50.300Z"
   },
   {
    "duration": 10,
    "start_time": "2023-06-20T12:34:50.324Z"
   },
   {
    "duration": 50,
    "start_time": "2023-06-20T12:34:50.336Z"
   },
   {
    "duration": 9,
    "start_time": "2023-06-20T12:34:50.389Z"
   },
   {
    "duration": 43,
    "start_time": "2023-06-20T12:34:50.400Z"
   },
   {
    "duration": 537,
    "start_time": "2023-06-20T12:34:50.444Z"
   },
   {
    "duration": 101,
    "start_time": "2023-06-20T12:34:51.058Z"
   },
   {
    "duration": 227,
    "start_time": "2023-06-20T12:34:51.161Z"
   },
   {
    "duration": 27,
    "start_time": "2023-06-20T12:34:51.390Z"
   },
   {
    "duration": 408,
    "start_time": "2023-06-20T12:34:51.419Z"
   },
   {
    "duration": 46,
    "start_time": "2023-06-20T12:34:51.829Z"
   },
   {
    "duration": 22,
    "start_time": "2023-06-20T12:34:51.878Z"
   },
   {
    "duration": 10308,
    "start_time": "2023-06-20T12:34:51.901Z"
   },
   {
    "duration": 209,
    "start_time": "2023-06-20T12:35:02.211Z"
   },
   {
    "duration": 54,
    "start_time": "2023-06-20T12:35:02.422Z"
   },
   {
    "duration": 8,
    "start_time": "2023-06-20T12:35:02.478Z"
   },
   {
    "duration": 40,
    "start_time": "2023-06-20T12:35:02.487Z"
   },
   {
    "duration": 282,
    "start_time": "2023-06-20T12:35:02.529Z"
   },
   {
    "duration": 11,
    "start_time": "2023-06-20T12:35:02.813Z"
   },
   {
    "duration": 194,
    "start_time": "2023-06-20T12:35:02.826Z"
   },
   {
    "duration": 224,
    "start_time": "2023-06-20T12:35:03.022Z"
   },
   {
    "duration": 150,
    "start_time": "2023-06-20T12:35:03.249Z"
   },
   {
    "duration": 8,
    "start_time": "2023-06-20T12:35:03.401Z"
   },
   {
    "duration": 55,
    "start_time": "2023-06-20T12:35:03.410Z"
   },
   {
    "duration": 276,
    "start_time": "2023-06-20T12:35:03.474Z"
   },
   {
    "duration": 21,
    "start_time": "2023-06-20T12:35:03.751Z"
   },
   {
    "duration": 18,
    "start_time": "2023-06-20T12:35:53.708Z"
   },
   {
    "duration": 144,
    "start_time": "2023-06-20T12:42:15.809Z"
   },
   {
    "duration": 160,
    "start_time": "2023-06-20T12:42:19.148Z"
   },
   {
    "duration": 145,
    "start_time": "2023-06-20T12:44:07.652Z"
   },
   {
    "duration": 27,
    "start_time": "2023-06-20T12:44:25.090Z"
   },
   {
    "duration": 30,
    "start_time": "2023-06-20T12:44:39.995Z"
   },
   {
    "duration": 135,
    "start_time": "2023-06-20T12:51:09.501Z"
   },
   {
    "duration": 3915,
    "start_time": "2023-06-20T12:51:48.437Z"
   },
   {
    "duration": 4008,
    "start_time": "2023-06-20T12:52:05.726Z"
   },
   {
    "duration": 234,
    "start_time": "2023-06-20T12:52:36.194Z"
   },
   {
    "duration": 235,
    "start_time": "2023-06-20T12:53:25.488Z"
   },
   {
    "duration": 36,
    "start_time": "2023-06-20T12:53:36.548Z"
   },
   {
    "duration": 3957,
    "start_time": "2023-06-20T12:54:45.476Z"
   },
   {
    "duration": 7,
    "start_time": "2023-06-20T12:55:13.365Z"
   },
   {
    "duration": 12,
    "start_time": "2023-06-20T12:56:06.957Z"
   },
   {
    "duration": 659,
    "start_time": "2023-06-20T13:00:29.614Z"
   },
   {
    "duration": 19,
    "start_time": "2023-06-20T13:02:16.732Z"
   },
   {
    "duration": 193,
    "start_time": "2023-06-20T13:03:53.701Z"
   },
   {
    "duration": 4135,
    "start_time": "2023-06-20T13:05:02.424Z"
   },
   {
    "duration": 5281,
    "start_time": "2023-06-20T13:06:02.805Z"
   },
   {
    "duration": 252,
    "start_time": "2023-06-20T13:07:25.117Z"
   },
   {
    "duration": 356,
    "start_time": "2023-06-20T13:08:08.295Z"
   },
   {
    "duration": 358,
    "start_time": "2023-06-20T13:08:12.109Z"
   },
   {
    "duration": 3836,
    "start_time": "2023-06-20T13:08:50.800Z"
   },
   {
    "duration": 4997,
    "start_time": "2023-06-20T13:09:18.001Z"
   },
   {
    "duration": 182,
    "start_time": "2023-06-20T13:09:27.341Z"
   },
   {
    "duration": 5338,
    "start_time": "2023-06-20T13:11:00.381Z"
   },
   {
    "duration": 97,
    "start_time": "2023-06-20T13:11:35.838Z"
   },
   {
    "duration": 239,
    "start_time": "2023-06-20T13:12:18.403Z"
   },
   {
    "duration": 14,
    "start_time": "2023-06-20T13:13:13.868Z"
   },
   {
    "duration": 648,
    "start_time": "2023-06-20T13:14:16.317Z"
   },
   {
    "duration": 18,
    "start_time": "2023-06-20T13:14:57.798Z"
   },
   {
    "duration": 106,
    "start_time": "2023-06-20T13:15:44.494Z"
   },
   {
    "duration": 2670,
    "start_time": "2023-06-20T13:16:50.653Z"
   },
   {
    "duration": 2673,
    "start_time": "2023-06-20T13:17:12.948Z"
   },
   {
    "duration": 174,
    "start_time": "2023-06-20T13:17:47.244Z"
   },
   {
    "duration": 2850,
    "start_time": "2023-06-20T13:18:14.795Z"
   },
   {
    "duration": 470,
    "start_time": "2023-06-20T13:20:46.012Z"
   },
   {
    "duration": 174,
    "start_time": "2023-06-20T13:22:17.724Z"
   },
   {
    "duration": 4506,
    "start_time": "2023-06-20T13:23:57.613Z"
   },
   {
    "duration": 3034,
    "start_time": "2023-06-20T13:26:27.158Z"
   },
   {
    "duration": 4910,
    "start_time": "2023-06-20T13:27:37.319Z"
   },
   {
    "duration": 349,
    "start_time": "2023-06-20T13:29:00.037Z"
   },
   {
    "duration": 13,
    "start_time": "2023-06-20T13:29:11.934Z"
   },
   {
    "duration": 24,
    "start_time": "2023-06-20T13:30:18.940Z"
   },
   {
    "duration": 227,
    "start_time": "2023-06-20T13:30:44.203Z"
   },
   {
    "duration": 9,
    "start_time": "2023-06-20T13:30:52.852Z"
   },
   {
    "duration": 8,
    "start_time": "2023-06-20T13:32:08.311Z"
   },
   {
    "duration": 7,
    "start_time": "2023-06-20T13:32:11.410Z"
   },
   {
    "duration": 12,
    "start_time": "2023-06-20T13:33:10.461Z"
   },
   {
    "duration": 3131,
    "start_time": "2023-06-20T13:40:15.717Z"
   },
   {
    "duration": 10,
    "start_time": "2023-06-20T13:40:18.853Z"
   },
   {
    "duration": 93,
    "start_time": "2023-06-20T13:40:18.865Z"
   },
   {
    "duration": 34,
    "start_time": "2023-06-20T13:40:18.961Z"
   },
   {
    "duration": 22,
    "start_time": "2023-06-20T13:40:18.998Z"
   },
   {
    "duration": 43,
    "start_time": "2023-06-20T13:40:19.023Z"
   },
   {
    "duration": 3410,
    "start_time": "2023-06-20T13:40:19.070Z"
   },
   {
    "duration": 24,
    "start_time": "2023-06-20T13:40:22.482Z"
   },
   {
    "duration": 10,
    "start_time": "2023-06-20T13:40:22.508Z"
   },
   {
    "duration": 60,
    "start_time": "2023-06-20T13:40:22.521Z"
   },
   {
    "duration": 11,
    "start_time": "2023-06-20T13:40:22.583Z"
   },
   {
    "duration": 25,
    "start_time": "2023-06-20T13:40:22.596Z"
   },
   {
    "duration": 49,
    "start_time": "2023-06-20T13:40:22.623Z"
   },
   {
    "duration": 101,
    "start_time": "2023-06-20T13:40:22.675Z"
   },
   {
    "duration": 85,
    "start_time": "2023-06-20T13:40:22.778Z"
   },
   {
    "duration": 97,
    "start_time": "2023-06-20T13:40:22.865Z"
   },
   {
    "duration": 16,
    "start_time": "2023-06-20T13:40:22.964Z"
   },
   {
    "duration": 230,
    "start_time": "2023-06-20T13:40:22.982Z"
   },
   {
    "duration": 55,
    "start_time": "2023-06-20T13:40:23.215Z"
   },
   {
    "duration": 5075,
    "start_time": "2023-06-20T13:40:23.273Z"
   },
   {
    "duration": 343,
    "start_time": "2023-06-20T13:40:28.351Z"
   },
   {
    "duration": 67,
    "start_time": "2023-06-20T13:40:28.696Z"
   },
   {
    "duration": 10,
    "start_time": "2023-06-20T13:40:28.765Z"
   },
   {
    "duration": 23,
    "start_time": "2023-06-20T13:40:28.779Z"
   },
   {
    "duration": 466,
    "start_time": "2023-06-20T13:40:28.806Z"
   },
   {
    "duration": 104,
    "start_time": "2023-06-20T13:40:29.280Z"
   },
   {
    "duration": 287,
    "start_time": "2023-06-20T13:40:29.387Z"
   },
   {
    "duration": 6075,
    "start_time": "2023-06-20T13:40:29.680Z"
   },
   {
    "duration": 289,
    "start_time": "2023-06-20T13:40:35.759Z"
   },
   {
    "duration": 22,
    "start_time": "2023-06-20T13:40:36.051Z"
   },
   {
    "duration": 108,
    "start_time": "2023-06-20T13:40:36.077Z"
   },
   {
    "duration": 91,
    "start_time": "2023-06-20T13:40:36.188Z"
   },
   {
    "duration": 277,
    "start_time": "2023-06-20T13:40:36.283Z"
   },
   {
    "duration": 3687,
    "start_time": "2023-06-20T13:40:36.562Z"
   },
   {
    "duration": 128,
    "start_time": "2023-06-20T13:40:40.251Z"
   },
   {
    "duration": 445,
    "start_time": "2023-06-20T13:40:40.383Z"
   },
   {
    "duration": 5034,
    "start_time": "2023-06-20T13:40:40.829Z"
   },
   {
    "duration": 541,
    "start_time": "2023-06-20T13:40:45.866Z"
   },
   {
    "duration": 13,
    "start_time": "2023-06-20T13:40:46.412Z"
   },
   {
    "duration": 60,
    "start_time": "2023-06-20T13:40:46.428Z"
   },
   {
    "duration": 204,
    "start_time": "2023-06-20T13:40:46.490Z"
   },
   {
    "duration": 11,
    "start_time": "2023-06-20T13:40:46.696Z"
   },
   {
    "duration": 12,
    "start_time": "2023-06-20T13:40:46.710Z"
   },
   {
    "duration": 3054,
    "start_time": "2023-06-20T13:41:10.982Z"
   },
   {
    "duration": 35,
    "start_time": "2023-06-20T13:41:14.043Z"
   },
   {
    "duration": 84,
    "start_time": "2023-06-20T13:41:14.081Z"
   },
   {
    "duration": 33,
    "start_time": "2023-06-20T13:41:14.167Z"
   },
   {
    "duration": 6,
    "start_time": "2023-06-20T13:41:14.204Z"
   },
   {
    "duration": 26,
    "start_time": "2023-06-20T13:41:14.212Z"
   },
   {
    "duration": 3430,
    "start_time": "2023-06-20T13:41:14.241Z"
   },
   {
    "duration": 40,
    "start_time": "2023-06-20T13:41:17.674Z"
   },
   {
    "duration": 18,
    "start_time": "2023-06-20T13:41:17.717Z"
   },
   {
    "duration": 53,
    "start_time": "2023-06-20T13:41:17.760Z"
   },
   {
    "duration": 28,
    "start_time": "2023-06-20T13:41:17.815Z"
   },
   {
    "duration": 77,
    "start_time": "2023-06-20T13:41:17.845Z"
   },
   {
    "duration": 25,
    "start_time": "2023-06-20T13:41:17.925Z"
   },
   {
    "duration": 708,
    "start_time": "2023-06-20T13:41:17.955Z"
   },
   {
    "duration": 107,
    "start_time": "2023-06-20T13:41:18.667Z"
   },
   {
    "duration": 96,
    "start_time": "2023-06-20T13:41:18.780Z"
   },
   {
    "duration": 16,
    "start_time": "2023-06-20T13:41:18.880Z"
   },
   {
    "duration": 285,
    "start_time": "2023-06-20T13:41:18.899Z"
   },
   {
    "duration": 74,
    "start_time": "2023-06-20T13:41:19.187Z"
   },
   {
    "duration": 4495,
    "start_time": "2023-06-20T13:41:19.264Z"
   },
   {
    "duration": 282,
    "start_time": "2023-06-20T13:41:23.761Z"
   },
   {
    "duration": 57,
    "start_time": "2023-06-20T13:41:24.045Z"
   },
   {
    "duration": 9,
    "start_time": "2023-06-20T13:41:24.104Z"
   },
   {
    "duration": 20,
    "start_time": "2023-06-20T13:41:24.116Z"
   },
   {
    "duration": 623,
    "start_time": "2023-06-20T13:41:24.158Z"
   },
   {
    "duration": 82,
    "start_time": "2023-06-20T13:41:24.879Z"
   },
   {
    "duration": 279,
    "start_time": "2023-06-20T13:41:24.963Z"
   },
   {
    "duration": 6087,
    "start_time": "2023-06-20T13:41:25.244Z"
   },
   {
    "duration": 196,
    "start_time": "2023-06-20T13:41:31.333Z"
   },
   {
    "duration": 35,
    "start_time": "2023-06-20T13:41:31.531Z"
   },
   {
    "duration": 2292,
    "start_time": "2023-06-20T13:41:31.569Z"
   },
   {
    "duration": 109,
    "start_time": "2023-06-20T13:41:33.864Z"
   },
   {
    "duration": 187,
    "start_time": "2023-06-20T13:41:33.975Z"
   },
   {
    "duration": 3313,
    "start_time": "2023-06-20T13:41:34.166Z"
   },
   {
    "duration": 419,
    "start_time": "2023-06-20T13:41:37.481Z"
   },
   {
    "duration": 273,
    "start_time": "2023-06-20T13:41:37.960Z"
   },
   {
    "duration": 4390,
    "start_time": "2023-06-20T13:41:38.236Z"
   },
   {
    "duration": 400,
    "start_time": "2023-06-20T13:41:42.628Z"
   },
   {
    "duration": 10,
    "start_time": "2023-06-20T13:41:43.030Z"
   },
   {
    "duration": 34,
    "start_time": "2023-06-20T13:41:43.058Z"
   },
   {
    "duration": 3693,
    "start_time": "2023-06-20T13:41:45.110Z"
   },
   {
    "duration": 1921,
    "start_time": "2023-06-20T13:41:48.806Z"
   },
   {
    "duration": 61,
    "start_time": "2023-06-20T13:41:50.729Z"
   },
   {
    "duration": 35,
    "start_time": "2023-06-20T13:41:50.792Z"
   },
   {
    "duration": 6,
    "start_time": "2023-06-20T13:41:50.830Z"
   },
   {
    "duration": 30,
    "start_time": "2023-06-20T13:41:50.838Z"
   },
   {
    "duration": 2947,
    "start_time": "2023-06-20T13:41:50.871Z"
   },
   {
    "duration": 47,
    "start_time": "2023-06-20T13:41:53.819Z"
   },
   {
    "duration": 14,
    "start_time": "2023-06-20T13:41:53.869Z"
   },
   {
    "duration": 36,
    "start_time": "2023-06-20T13:41:53.887Z"
   },
   {
    "duration": 43,
    "start_time": "2023-06-20T13:41:53.926Z"
   },
   {
    "duration": 53,
    "start_time": "2023-06-20T13:41:53.972Z"
   },
   {
    "duration": 36,
    "start_time": "2023-06-20T13:41:54.027Z"
   },
   {
    "duration": 111,
    "start_time": "2023-06-20T13:41:54.065Z"
   },
   {
    "duration": 80,
    "start_time": "2023-06-20T13:41:54.180Z"
   },
   {
    "duration": 99,
    "start_time": "2023-06-20T13:41:54.268Z"
   },
   {
    "duration": 10,
    "start_time": "2023-06-20T13:41:54.369Z"
   },
   {
    "duration": 383,
    "start_time": "2023-06-20T13:41:54.381Z"
   },
   {
    "duration": 73,
    "start_time": "2023-06-20T13:41:54.766Z"
   },
   {
    "duration": 4336,
    "start_time": "2023-06-20T13:41:54.842Z"
   },
   {
    "duration": 356,
    "start_time": "2023-06-20T13:41:59.181Z"
   },
   {
    "duration": 57,
    "start_time": "2023-06-20T13:41:59.540Z"
   },
   {
    "duration": 9,
    "start_time": "2023-06-20T13:41:59.601Z"
   },
   {
    "duration": 33,
    "start_time": "2023-06-20T13:41:59.613Z"
   },
   {
    "duration": 745,
    "start_time": "2023-06-20T13:41:59.649Z"
   },
   {
    "duration": 97,
    "start_time": "2023-06-20T13:42:00.492Z"
   },
   {
    "duration": 529,
    "start_time": "2023-06-20T13:42:00.592Z"
   },
   {
    "duration": 5656,
    "start_time": "2023-06-20T13:42:01.126Z"
   },
   {
    "duration": 205,
    "start_time": "2023-06-20T13:42:06.785Z"
   },
   {
    "duration": 14,
    "start_time": "2023-06-20T13:42:06.993Z"
   },
   {
    "duration": 265,
    "start_time": "2023-06-20T13:42:07.009Z"
   },
   {
    "duration": 98,
    "start_time": "2023-06-20T13:42:07.282Z"
   },
   {
    "duration": 180,
    "start_time": "2023-06-20T13:42:07.383Z"
   },
   {
    "duration": 3248,
    "start_time": "2023-06-20T13:42:07.567Z"
   },
   {
    "duration": 160,
    "start_time": "2023-06-20T13:42:10.817Z"
   },
   {
    "duration": 363,
    "start_time": "2023-06-20T13:42:10.981Z"
   },
   {
    "duration": 4523,
    "start_time": "2023-06-20T13:42:11.346Z"
   },
   {
    "duration": 301,
    "start_time": "2023-06-20T13:42:15.871Z"
   },
   {
    "duration": 11,
    "start_time": "2023-06-20T13:42:16.174Z"
   },
   {
    "duration": 40,
    "start_time": "2023-06-20T13:42:16.188Z"
   },
   {
    "duration": 156,
    "start_time": "2023-06-20T13:42:16.231Z"
   },
   {
    "duration": 9,
    "start_time": "2023-06-20T13:42:16.388Z"
   },
   {
    "duration": 25,
    "start_time": "2023-06-20T13:42:16.400Z"
   }
  ],
  "kernelspec": {
   "display_name": "Python 3 (ipykernel)",
   "language": "python",
   "name": "python3"
  },
  "language_info": {
   "codemirror_mode": {
    "name": "ipython",
    "version": 3
   },
   "file_extension": ".py",
   "mimetype": "text/x-python",
   "name": "python",
   "nbconvert_exporter": "python",
   "pygments_lexer": "ipython3",
   "version": "3.10.9"
  },
  "toc": {
   "base_numbering": 1,
   "nav_menu": {},
   "number_sections": true,
   "sideBar": true,
   "skip_h1_title": true,
   "title_cell": "Содержание",
   "title_sidebar": "Contents",
   "toc_cell": true,
   "toc_position": {},
   "toc_section_display": true,
   "toc_window_display": false
  }
 },
 "nbformat": 4,
 "nbformat_minor": 2
}
