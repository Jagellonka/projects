{
 "cells": [
  {
   "cell_type": "markdown",
   "metadata": {},
   "source": [
    "### Задача"
   ]
  },
  {
   "cell_type": "markdown",
   "metadata": {},
   "source": [
    "Доступны исторические данные о продажах игр, оценки пользователей и экспертов, жанры и платформы (например, Xbox или PlayStation). Нужно выявить определяющие успешность игры закономерности. Это позволит сделать ставку на потенциально популярный продукт и спланировать рекламные кампании."
   ]
  },
  {
   "cell_type": "markdown",
   "metadata": {},
   "source": [
    "### Считывание данных"
   ]
  },
  {
   "cell_type": "code",
   "execution_count": 36,
   "metadata": {},
   "outputs": [],
   "source": [
    "import pandas as pd # импортируем библиотеку pandas"
   ]
  },
  {
   "cell_type": "code",
   "execution_count": 37,
   "metadata": {
    "scrolled": true
   },
   "outputs": [
    {
     "data": {
      "text/html": [
       "<div>\n",
       "<style scoped>\n",
       "    .dataframe tbody tr th:only-of-type {\n",
       "        vertical-align: middle;\n",
       "    }\n",
       "\n",
       "    .dataframe tbody tr th {\n",
       "        vertical-align: top;\n",
       "    }\n",
       "\n",
       "    .dataframe thead th {\n",
       "        text-align: right;\n",
       "    }\n",
       "</style>\n",
       "<table border=\"1\" class=\"dataframe\">\n",
       "  <thead>\n",
       "    <tr style=\"text-align: right;\">\n",
       "      <th></th>\n",
       "      <th>Name</th>\n",
       "      <th>Platform</th>\n",
       "      <th>Year_of_Release</th>\n",
       "      <th>Genre</th>\n",
       "      <th>NA_sales</th>\n",
       "      <th>EU_sales</th>\n",
       "      <th>JP_sales</th>\n",
       "      <th>Other_sales</th>\n",
       "      <th>Critic_Score</th>\n",
       "      <th>User_Score</th>\n",
       "      <th>Rating</th>\n",
       "    </tr>\n",
       "  </thead>\n",
       "  <tbody>\n",
       "    <tr>\n",
       "      <th>0</th>\n",
       "      <td>Wii Sports</td>\n",
       "      <td>Wii</td>\n",
       "      <td>2006.0</td>\n",
       "      <td>Sports</td>\n",
       "      <td>41.36</td>\n",
       "      <td>28.96</td>\n",
       "      <td>3.77</td>\n",
       "      <td>8.45</td>\n",
       "      <td>76.0</td>\n",
       "      <td>8</td>\n",
       "      <td>E</td>\n",
       "    </tr>\n",
       "    <tr>\n",
       "      <th>1</th>\n",
       "      <td>Super Mario Bros.</td>\n",
       "      <td>NES</td>\n",
       "      <td>1985.0</td>\n",
       "      <td>Platform</td>\n",
       "      <td>29.08</td>\n",
       "      <td>3.58</td>\n",
       "      <td>6.81</td>\n",
       "      <td>0.77</td>\n",
       "      <td>NaN</td>\n",
       "      <td>NaN</td>\n",
       "      <td>NaN</td>\n",
       "    </tr>\n",
       "    <tr>\n",
       "      <th>2</th>\n",
       "      <td>Mario Kart Wii</td>\n",
       "      <td>Wii</td>\n",
       "      <td>2008.0</td>\n",
       "      <td>Racing</td>\n",
       "      <td>15.68</td>\n",
       "      <td>12.76</td>\n",
       "      <td>3.79</td>\n",
       "      <td>3.29</td>\n",
       "      <td>82.0</td>\n",
       "      <td>8.3</td>\n",
       "      <td>E</td>\n",
       "    </tr>\n",
       "    <tr>\n",
       "      <th>3</th>\n",
       "      <td>Wii Sports Resort</td>\n",
       "      <td>Wii</td>\n",
       "      <td>2009.0</td>\n",
       "      <td>Sports</td>\n",
       "      <td>15.61</td>\n",
       "      <td>10.93</td>\n",
       "      <td>3.28</td>\n",
       "      <td>2.95</td>\n",
       "      <td>80.0</td>\n",
       "      <td>8</td>\n",
       "      <td>E</td>\n",
       "    </tr>\n",
       "    <tr>\n",
       "      <th>4</th>\n",
       "      <td>Pokemon Red/Pokemon Blue</td>\n",
       "      <td>GB</td>\n",
       "      <td>1996.0</td>\n",
       "      <td>Role-Playing</td>\n",
       "      <td>11.27</td>\n",
       "      <td>8.89</td>\n",
       "      <td>10.22</td>\n",
       "      <td>1.00</td>\n",
       "      <td>NaN</td>\n",
       "      <td>NaN</td>\n",
       "      <td>NaN</td>\n",
       "    </tr>\n",
       "    <tr>\n",
       "      <th>...</th>\n",
       "      <td>...</td>\n",
       "      <td>...</td>\n",
       "      <td>...</td>\n",
       "      <td>...</td>\n",
       "      <td>...</td>\n",
       "      <td>...</td>\n",
       "      <td>...</td>\n",
       "      <td>...</td>\n",
       "      <td>...</td>\n",
       "      <td>...</td>\n",
       "      <td>...</td>\n",
       "    </tr>\n",
       "    <tr>\n",
       "      <th>16710</th>\n",
       "      <td>Samurai Warriors: Sanada Maru</td>\n",
       "      <td>PS3</td>\n",
       "      <td>2016.0</td>\n",
       "      <td>Action</td>\n",
       "      <td>0.00</td>\n",
       "      <td>0.00</td>\n",
       "      <td>0.01</td>\n",
       "      <td>0.00</td>\n",
       "      <td>NaN</td>\n",
       "      <td>NaN</td>\n",
       "      <td>NaN</td>\n",
       "    </tr>\n",
       "    <tr>\n",
       "      <th>16711</th>\n",
       "      <td>LMA Manager 2007</td>\n",
       "      <td>X360</td>\n",
       "      <td>2006.0</td>\n",
       "      <td>Sports</td>\n",
       "      <td>0.00</td>\n",
       "      <td>0.01</td>\n",
       "      <td>0.00</td>\n",
       "      <td>0.00</td>\n",
       "      <td>NaN</td>\n",
       "      <td>NaN</td>\n",
       "      <td>NaN</td>\n",
       "    </tr>\n",
       "    <tr>\n",
       "      <th>16712</th>\n",
       "      <td>Haitaka no Psychedelica</td>\n",
       "      <td>PSV</td>\n",
       "      <td>2016.0</td>\n",
       "      <td>Adventure</td>\n",
       "      <td>0.00</td>\n",
       "      <td>0.00</td>\n",
       "      <td>0.01</td>\n",
       "      <td>0.00</td>\n",
       "      <td>NaN</td>\n",
       "      <td>NaN</td>\n",
       "      <td>NaN</td>\n",
       "    </tr>\n",
       "    <tr>\n",
       "      <th>16713</th>\n",
       "      <td>Spirits &amp; Spells</td>\n",
       "      <td>GBA</td>\n",
       "      <td>2003.0</td>\n",
       "      <td>Platform</td>\n",
       "      <td>0.01</td>\n",
       "      <td>0.00</td>\n",
       "      <td>0.00</td>\n",
       "      <td>0.00</td>\n",
       "      <td>NaN</td>\n",
       "      <td>NaN</td>\n",
       "      <td>NaN</td>\n",
       "    </tr>\n",
       "    <tr>\n",
       "      <th>16714</th>\n",
       "      <td>Winning Post 8 2016</td>\n",
       "      <td>PSV</td>\n",
       "      <td>2016.0</td>\n",
       "      <td>Simulation</td>\n",
       "      <td>0.00</td>\n",
       "      <td>0.00</td>\n",
       "      <td>0.01</td>\n",
       "      <td>0.00</td>\n",
       "      <td>NaN</td>\n",
       "      <td>NaN</td>\n",
       "      <td>NaN</td>\n",
       "    </tr>\n",
       "  </tbody>\n",
       "</table>\n",
       "<p>16715 rows × 11 columns</p>\n",
       "</div>"
      ],
      "text/plain": [
       "                                Name Platform  Year_of_Release         Genre  \\\n",
       "0                         Wii Sports      Wii           2006.0        Sports   \n",
       "1                  Super Mario Bros.      NES           1985.0      Platform   \n",
       "2                     Mario Kart Wii      Wii           2008.0        Racing   \n",
       "3                  Wii Sports Resort      Wii           2009.0        Sports   \n",
       "4           Pokemon Red/Pokemon Blue       GB           1996.0  Role-Playing   \n",
       "...                              ...      ...              ...           ...   \n",
       "16710  Samurai Warriors: Sanada Maru      PS3           2016.0        Action   \n",
       "16711               LMA Manager 2007     X360           2006.0        Sports   \n",
       "16712        Haitaka no Psychedelica      PSV           2016.0     Adventure   \n",
       "16713               Spirits & Spells      GBA           2003.0      Platform   \n",
       "16714            Winning Post 8 2016      PSV           2016.0    Simulation   \n",
       "\n",
       "       NA_sales  EU_sales  JP_sales  Other_sales  Critic_Score User_Score  \\\n",
       "0         41.36     28.96      3.77         8.45          76.0          8   \n",
       "1         29.08      3.58      6.81         0.77           NaN        NaN   \n",
       "2         15.68     12.76      3.79         3.29          82.0        8.3   \n",
       "3         15.61     10.93      3.28         2.95          80.0          8   \n",
       "4         11.27      8.89     10.22         1.00           NaN        NaN   \n",
       "...         ...       ...       ...          ...           ...        ...   \n",
       "16710      0.00      0.00      0.01         0.00           NaN        NaN   \n",
       "16711      0.00      0.01      0.00         0.00           NaN        NaN   \n",
       "16712      0.00      0.00      0.01         0.00           NaN        NaN   \n",
       "16713      0.01      0.00      0.00         0.00           NaN        NaN   \n",
       "16714      0.00      0.00      0.01         0.00           NaN        NaN   \n",
       "\n",
       "      Rating  \n",
       "0          E  \n",
       "1        NaN  \n",
       "2          E  \n",
       "3          E  \n",
       "4        NaN  \n",
       "...      ...  \n",
       "16710    NaN  \n",
       "16711    NaN  \n",
       "16712    NaN  \n",
       "16713    NaN  \n",
       "16714    NaN  \n",
       "\n",
       "[16715 rows x 11 columns]"
      ]
     },
     "execution_count": 37,
     "metadata": {},
     "output_type": "execute_result"
    }
   ],
   "source": [
    "data = pd.read_csv('/datasets/games.csv') # считываем файл\n",
    "data"
   ]
  },
  {
   "cell_type": "markdown",
   "metadata": {},
   "source": [
    "Таблица состоит из 11 столбцов и 16715 строк."
   ]
  },
  {
   "cell_type": "markdown",
   "metadata": {},
   "source": [
    "Каждая строчка содержит информацию об играх:\n",
    "- `Name` — название игры;\n",
    "- `Platform` — игровая платформа;\n",
    "- `Year_of_Release` — год издания;\n",
    "- `Genre` — жанр игры;\n",
    "- `NA_sales` — продажи экземпляров игры в Северной Америке (в миллионах);\n",
    "- `EU_sales` — продажи экземпляров игры в Европе (в миллионах);\n",
    "- `JP_sales` — продажи экземпляров игры в Японии (в миллионах);\n",
    "- `Other_sales` — продажи экземпляров игры в других странах (в миллионах);\n",
    "- `Critic_Score` — оценка игры критиками по 100-бальной шкале;\n",
    "- `User_Score` — оценка игры игроками по 10-бальной шкале;\n",
    "- `Rating` — рейтинг от организации ESRB (возрастная категория)."
   ]
  },
  {
   "cell_type": "markdown",
   "metadata": {},
   "source": [
    "### Подготовка данных"
   ]
  },
  {
   "cell_type": "markdown",
   "metadata": {},
   "source": [
    "#### Названия столбцов"
   ]
  },
  {
   "cell_type": "markdown",
   "metadata": {},
   "source": [
    "Приведем названия столбцов в нормальный вид."
   ]
  },
  {
   "cell_type": "code",
   "execution_count": 38,
   "metadata": {
    "scrolled": false
   },
   "outputs": [
    {
     "data": {
      "text/html": [
       "<div>\n",
       "<style scoped>\n",
       "    .dataframe tbody tr th:only-of-type {\n",
       "        vertical-align: middle;\n",
       "    }\n",
       "\n",
       "    .dataframe tbody tr th {\n",
       "        vertical-align: top;\n",
       "    }\n",
       "\n",
       "    .dataframe thead th {\n",
       "        text-align: right;\n",
       "    }\n",
       "</style>\n",
       "<table border=\"1\" class=\"dataframe\">\n",
       "  <thead>\n",
       "    <tr style=\"text-align: right;\">\n",
       "      <th></th>\n",
       "      <th>name</th>\n",
       "      <th>platform</th>\n",
       "      <th>year_of_release</th>\n",
       "      <th>genre</th>\n",
       "      <th>na_sales</th>\n",
       "      <th>eu_sales</th>\n",
       "      <th>jp_sales</th>\n",
       "      <th>other_sales</th>\n",
       "      <th>critic_score</th>\n",
       "      <th>user_score</th>\n",
       "      <th>rating</th>\n",
       "    </tr>\n",
       "  </thead>\n",
       "  <tbody>\n",
       "    <tr>\n",
       "      <th>0</th>\n",
       "      <td>Wii Sports</td>\n",
       "      <td>Wii</td>\n",
       "      <td>2006.0</td>\n",
       "      <td>Sports</td>\n",
       "      <td>41.36</td>\n",
       "      <td>28.96</td>\n",
       "      <td>3.77</td>\n",
       "      <td>8.45</td>\n",
       "      <td>76.0</td>\n",
       "      <td>8</td>\n",
       "      <td>E</td>\n",
       "    </tr>\n",
       "    <tr>\n",
       "      <th>1</th>\n",
       "      <td>Super Mario Bros.</td>\n",
       "      <td>NES</td>\n",
       "      <td>1985.0</td>\n",
       "      <td>Platform</td>\n",
       "      <td>29.08</td>\n",
       "      <td>3.58</td>\n",
       "      <td>6.81</td>\n",
       "      <td>0.77</td>\n",
       "      <td>NaN</td>\n",
       "      <td>NaN</td>\n",
       "      <td>NaN</td>\n",
       "    </tr>\n",
       "    <tr>\n",
       "      <th>2</th>\n",
       "      <td>Mario Kart Wii</td>\n",
       "      <td>Wii</td>\n",
       "      <td>2008.0</td>\n",
       "      <td>Racing</td>\n",
       "      <td>15.68</td>\n",
       "      <td>12.76</td>\n",
       "      <td>3.79</td>\n",
       "      <td>3.29</td>\n",
       "      <td>82.0</td>\n",
       "      <td>8.3</td>\n",
       "      <td>E</td>\n",
       "    </tr>\n",
       "    <tr>\n",
       "      <th>3</th>\n",
       "      <td>Wii Sports Resort</td>\n",
       "      <td>Wii</td>\n",
       "      <td>2009.0</td>\n",
       "      <td>Sports</td>\n",
       "      <td>15.61</td>\n",
       "      <td>10.93</td>\n",
       "      <td>3.28</td>\n",
       "      <td>2.95</td>\n",
       "      <td>80.0</td>\n",
       "      <td>8</td>\n",
       "      <td>E</td>\n",
       "    </tr>\n",
       "    <tr>\n",
       "      <th>4</th>\n",
       "      <td>Pokemon Red/Pokemon Blue</td>\n",
       "      <td>GB</td>\n",
       "      <td>1996.0</td>\n",
       "      <td>Role-Playing</td>\n",
       "      <td>11.27</td>\n",
       "      <td>8.89</td>\n",
       "      <td>10.22</td>\n",
       "      <td>1.00</td>\n",
       "      <td>NaN</td>\n",
       "      <td>NaN</td>\n",
       "      <td>NaN</td>\n",
       "    </tr>\n",
       "    <tr>\n",
       "      <th>...</th>\n",
       "      <td>...</td>\n",
       "      <td>...</td>\n",
       "      <td>...</td>\n",
       "      <td>...</td>\n",
       "      <td>...</td>\n",
       "      <td>...</td>\n",
       "      <td>...</td>\n",
       "      <td>...</td>\n",
       "      <td>...</td>\n",
       "      <td>...</td>\n",
       "      <td>...</td>\n",
       "    </tr>\n",
       "    <tr>\n",
       "      <th>16710</th>\n",
       "      <td>Samurai Warriors: Sanada Maru</td>\n",
       "      <td>PS3</td>\n",
       "      <td>2016.0</td>\n",
       "      <td>Action</td>\n",
       "      <td>0.00</td>\n",
       "      <td>0.00</td>\n",
       "      <td>0.01</td>\n",
       "      <td>0.00</td>\n",
       "      <td>NaN</td>\n",
       "      <td>NaN</td>\n",
       "      <td>NaN</td>\n",
       "    </tr>\n",
       "    <tr>\n",
       "      <th>16711</th>\n",
       "      <td>LMA Manager 2007</td>\n",
       "      <td>X360</td>\n",
       "      <td>2006.0</td>\n",
       "      <td>Sports</td>\n",
       "      <td>0.00</td>\n",
       "      <td>0.01</td>\n",
       "      <td>0.00</td>\n",
       "      <td>0.00</td>\n",
       "      <td>NaN</td>\n",
       "      <td>NaN</td>\n",
       "      <td>NaN</td>\n",
       "    </tr>\n",
       "    <tr>\n",
       "      <th>16712</th>\n",
       "      <td>Haitaka no Psychedelica</td>\n",
       "      <td>PSV</td>\n",
       "      <td>2016.0</td>\n",
       "      <td>Adventure</td>\n",
       "      <td>0.00</td>\n",
       "      <td>0.00</td>\n",
       "      <td>0.01</td>\n",
       "      <td>0.00</td>\n",
       "      <td>NaN</td>\n",
       "      <td>NaN</td>\n",
       "      <td>NaN</td>\n",
       "    </tr>\n",
       "    <tr>\n",
       "      <th>16713</th>\n",
       "      <td>Spirits &amp; Spells</td>\n",
       "      <td>GBA</td>\n",
       "      <td>2003.0</td>\n",
       "      <td>Platform</td>\n",
       "      <td>0.01</td>\n",
       "      <td>0.00</td>\n",
       "      <td>0.00</td>\n",
       "      <td>0.00</td>\n",
       "      <td>NaN</td>\n",
       "      <td>NaN</td>\n",
       "      <td>NaN</td>\n",
       "    </tr>\n",
       "    <tr>\n",
       "      <th>16714</th>\n",
       "      <td>Winning Post 8 2016</td>\n",
       "      <td>PSV</td>\n",
       "      <td>2016.0</td>\n",
       "      <td>Simulation</td>\n",
       "      <td>0.00</td>\n",
       "      <td>0.00</td>\n",
       "      <td>0.01</td>\n",
       "      <td>0.00</td>\n",
       "      <td>NaN</td>\n",
       "      <td>NaN</td>\n",
       "      <td>NaN</td>\n",
       "    </tr>\n",
       "  </tbody>\n",
       "</table>\n",
       "<p>16715 rows × 11 columns</p>\n",
       "</div>"
      ],
      "text/plain": [
       "                                name platform  year_of_release         genre  \\\n",
       "0                         Wii Sports      Wii           2006.0        Sports   \n",
       "1                  Super Mario Bros.      NES           1985.0      Platform   \n",
       "2                     Mario Kart Wii      Wii           2008.0        Racing   \n",
       "3                  Wii Sports Resort      Wii           2009.0        Sports   \n",
       "4           Pokemon Red/Pokemon Blue       GB           1996.0  Role-Playing   \n",
       "...                              ...      ...              ...           ...   \n",
       "16710  Samurai Warriors: Sanada Maru      PS3           2016.0        Action   \n",
       "16711               LMA Manager 2007     X360           2006.0        Sports   \n",
       "16712        Haitaka no Psychedelica      PSV           2016.0     Adventure   \n",
       "16713               Spirits & Spells      GBA           2003.0      Platform   \n",
       "16714            Winning Post 8 2016      PSV           2016.0    Simulation   \n",
       "\n",
       "       na_sales  eu_sales  jp_sales  other_sales  critic_score user_score  \\\n",
       "0         41.36     28.96      3.77         8.45          76.0          8   \n",
       "1         29.08      3.58      6.81         0.77           NaN        NaN   \n",
       "2         15.68     12.76      3.79         3.29          82.0        8.3   \n",
       "3         15.61     10.93      3.28         2.95          80.0          8   \n",
       "4         11.27      8.89     10.22         1.00           NaN        NaN   \n",
       "...         ...       ...       ...          ...           ...        ...   \n",
       "16710      0.00      0.00      0.01         0.00           NaN        NaN   \n",
       "16711      0.00      0.01      0.00         0.00           NaN        NaN   \n",
       "16712      0.00      0.00      0.01         0.00           NaN        NaN   \n",
       "16713      0.01      0.00      0.00         0.00           NaN        NaN   \n",
       "16714      0.00      0.00      0.01         0.00           NaN        NaN   \n",
       "\n",
       "      rating  \n",
       "0          E  \n",
       "1        NaN  \n",
       "2          E  \n",
       "3          E  \n",
       "4        NaN  \n",
       "...      ...  \n",
       "16710    NaN  \n",
       "16711    NaN  \n",
       "16712    NaN  \n",
       "16713    NaN  \n",
       "16714    NaN  \n",
       "\n",
       "[16715 rows x 11 columns]"
      ]
     },
     "execution_count": 38,
     "metadata": {},
     "output_type": "execute_result"
    }
   ],
   "source": [
    "data.columns = data.columns.str.lower()\n",
    "data"
   ]
  },
  {
   "cell_type": "markdown",
   "metadata": {},
   "source": [
    "#### Типы данных"
   ]
  },
  {
   "cell_type": "markdown",
   "metadata": {},
   "source": [
    "Оценим типы данных в таблице."
   ]
  },
  {
   "cell_type": "code",
   "execution_count": 39,
   "metadata": {
    "scrolled": true
   },
   "outputs": [
    {
     "data": {
      "text/plain": [
       "name                object\n",
       "platform            object\n",
       "year_of_release    float64\n",
       "genre               object\n",
       "na_sales           float64\n",
       "eu_sales           float64\n",
       "jp_sales           float64\n",
       "other_sales        float64\n",
       "critic_score       float64\n",
       "user_score          object\n",
       "rating              object\n",
       "dtype: object"
      ]
     },
     "execution_count": 39,
     "metadata": {},
     "output_type": "execute_result"
    }
   ],
   "source": [
    "data.dtypes"
   ]
  },
  {
   "cell_type": "markdown",
   "metadata": {},
   "source": [
    "Год выпуска нужно привести к целочисленному типу, оценку критиков и оценку игроков проверим на наличие дробной части."
   ]
  },
  {
   "cell_type": "code",
   "execution_count": 40,
   "metadata": {},
   "outputs": [
    {
     "data": {
      "text/plain": [
       "array([76., nan, 82., 80., 89., 58., 87., 91., 61., 97., 95., 77., 88.,\n",
       "       83., 94., 93., 85., 86., 98., 96., 90., 84., 73., 74., 78., 92.,\n",
       "       71., 72., 68., 62., 49., 67., 81., 66., 56., 79., 70., 59., 64.,\n",
       "       75., 60., 63., 69., 50., 25., 42., 44., 55., 48., 57., 29., 47.,\n",
       "       65., 54., 20., 53., 37., 38., 33., 52., 30., 32., 43., 45., 51.,\n",
       "       40., 46., 39., 34., 35., 41., 36., 28., 31., 27., 26., 19., 23.,\n",
       "       24., 21., 17., 22., 13.])"
      ]
     },
     "execution_count": 40,
     "metadata": {},
     "output_type": "execute_result"
    }
   ],
   "source": [
    "data['critic_score'].unique()"
   ]
  },
  {
   "cell_type": "markdown",
   "metadata": {},
   "source": [
    "Дробной части в оценке критиков нет, приведем к целочисленному типу."
   ]
  },
  {
   "cell_type": "code",
   "execution_count": 41,
   "metadata": {
    "scrolled": true
   },
   "outputs": [
    {
     "data": {
      "text/plain": [
       "array(['8', nan, '8.3', '8.5', '6.6', '8.4', '8.6', '7.7', '6.3', '7.4',\n",
       "       '8.2', '9', '7.9', '8.1', '8.7', '7.1', '3.4', '5.3', '4.8', '3.2',\n",
       "       '8.9', '6.4', '7.8', '7.5', '2.6', '7.2', '9.2', '7', '7.3', '4.3',\n",
       "       '7.6', '5.7', '5', '9.1', '6.5', 'tbd', '8.8', '6.9', '9.4', '6.8',\n",
       "       '6.1', '6.7', '5.4', '4', '4.9', '4.5', '9.3', '6.2', '4.2', '6',\n",
       "       '3.7', '4.1', '5.8', '5.6', '5.5', '4.4', '4.6', '5.9', '3.9',\n",
       "       '3.1', '2.9', '5.2', '3.3', '4.7', '5.1', '3.5', '2.5', '1.9', '3',\n",
       "       '2.7', '2.2', '2', '9.5', '2.1', '3.6', '2.8', '1.8', '3.8', '0',\n",
       "       '1.6', '9.6', '2.4', '1.7', '1.1', '0.3', '1.5', '0.7', '1.2',\n",
       "       '2.3', '0.5', '1.3', '0.2', '0.6', '1.4', '0.9', '1', '9.7'],\n",
       "      dtype=object)"
      ]
     },
     "execution_count": 41,
     "metadata": {},
     "output_type": "execute_result"
    }
   ],
   "source": [
    "data['critic_score'] = data['critic_score'].astype('Int64')\n",
    "data['user_score'].unique()"
   ]
  },
  {
   "cell_type": "markdown",
   "metadata": {},
   "source": [
    "В оценке игроков есть дробная часть, а также значение `tbd`, что означает отсутствие оценки (заполним пустым значением). Приведем столбец к типу `float`."
   ]
  },
  {
   "cell_type": "code",
   "execution_count": 42,
   "metadata": {
    "scrolled": true
   },
   "outputs": [
    {
     "data": {
      "text/plain": [
       "array([2006., 1985., 2008., 2009., 1996., 1989., 1984., 2005., 1999.,\n",
       "       2007., 2010., 2013., 2004., 1990., 1988., 2002., 2001., 2011.,\n",
       "       1998., 2015., 2012., 2014., 1992., 1997., 1993., 1994., 1982.,\n",
       "       2016., 2003., 1986., 2000.,   nan, 1995., 1991., 1981., 1987.,\n",
       "       1980., 1983.])"
      ]
     },
     "execution_count": 42,
     "metadata": {},
     "output_type": "execute_result"
    }
   ],
   "source": [
    "data['user_score'] = pd.to_numeric(data['user_score'], errors = 'coerce')\n",
    "data['year_of_release'].unique()"
   ]
  },
  {
   "cell_type": "markdown",
   "metadata": {},
   "source": [
    "Год выпуска приведем к типу `int`."
   ]
  },
  {
   "cell_type": "code",
   "execution_count": 43,
   "metadata": {
    "scrolled": true
   },
   "outputs": [
    {
     "data": {
      "text/plain": [
       "name                object\n",
       "platform            object\n",
       "year_of_release      Int64\n",
       "genre               object\n",
       "na_sales           float64\n",
       "eu_sales           float64\n",
       "jp_sales           float64\n",
       "other_sales        float64\n",
       "critic_score         Int64\n",
       "user_score         float64\n",
       "rating              object\n",
       "dtype: object"
      ]
     },
     "execution_count": 43,
     "metadata": {},
     "output_type": "execute_result"
    }
   ],
   "source": [
    "data['year_of_release'] = data['year_of_release'].astype('Int64')\n",
    "data.dtypes # проверка"
   ]
  },
  {
   "cell_type": "markdown",
   "metadata": {},
   "source": [
    "### Обработка пропусков"
   ]
  },
  {
   "cell_type": "markdown",
   "metadata": {},
   "source": [
    "Определим количество пропусков в данных."
   ]
  },
  {
   "cell_type": "code",
   "execution_count": 44,
   "metadata": {
    "scrolled": true
   },
   "outputs": [
    {
     "data": {
      "text/plain": [
       "name                  2\n",
       "platform              0\n",
       "year_of_release     269\n",
       "genre                 2\n",
       "na_sales              0\n",
       "eu_sales              0\n",
       "jp_sales              0\n",
       "other_sales           0\n",
       "critic_score       8578\n",
       "user_score         9125\n",
       "rating             6766\n",
       "dtype: int64"
      ]
     },
     "execution_count": 44,
     "metadata": {},
     "output_type": "execute_result"
    }
   ],
   "source": [
    "data.isna().sum()"
   ]
  },
  {
   "cell_type": "markdown",
   "metadata": {},
   "source": [
    "Пойдем сверху-вниз. Есть пропуски в названии игр, их всего два, проще всего будет их удалить."
   ]
  },
  {
   "cell_type": "code",
   "execution_count": 45,
   "metadata": {
    "scrolled": true
   },
   "outputs": [
    {
     "data": {
      "text/plain": [
       "name                  0\n",
       "platform              0\n",
       "year_of_release     269\n",
       "genre                 0\n",
       "na_sales              0\n",
       "eu_sales              0\n",
       "jp_sales              0\n",
       "other_sales           0\n",
       "critic_score       8576\n",
       "user_score         9123\n",
       "rating             6764\n",
       "dtype: int64"
      ]
     },
     "execution_count": 45,
     "metadata": {},
     "output_type": "execute_result"
    }
   ],
   "source": [
    "data.dropna(subset=['name'], inplace=True)\n",
    "data.isna().sum()"
   ]
  },
  {
   "cell_type": "markdown",
   "metadata": {},
   "source": [
    "Пустые значения года издания не получится заполнить нужным образом, лучше их удалить. Таких значений всего 269."
   ]
  },
  {
   "cell_type": "code",
   "execution_count": 46,
   "metadata": {
    "scrolled": true
   },
   "outputs": [
    {
     "data": {
      "text/plain": [
       "name                  0\n",
       "platform              0\n",
       "year_of_release       0\n",
       "genre                 0\n",
       "na_sales              0\n",
       "eu_sales              0\n",
       "jp_sales              0\n",
       "other_sales           0\n",
       "critic_score       8461\n",
       "user_score         8981\n",
       "rating             6676\n",
       "dtype: int64"
      ]
     },
     "execution_count": 46,
     "metadata": {},
     "output_type": "execute_result"
    }
   ],
   "source": [
    "data.dropna(subset=['year_of_release'], inplace=True)\n",
    "data.isna().sum()"
   ]
  },
  {
   "cell_type": "markdown",
   "metadata": {},
   "source": [
    "Половина данных не содержат информацию об оценке критиков и игроков, попробуем посмотреть, с какими данными коррелируют эти столбцы. И заодно добавим столбцы с общими продажами игры на конкретной платформе и вне зависимости от платформы."
   ]
  },
  {
   "cell_type": "code",
   "execution_count": 47,
   "metadata": {
    "scrolled": true
   },
   "outputs": [
    {
     "data": {
      "text/html": [
       "<div>\n",
       "<style scoped>\n",
       "    .dataframe tbody tr th:only-of-type {\n",
       "        vertical-align: middle;\n",
       "    }\n",
       "\n",
       "    .dataframe tbody tr th {\n",
       "        vertical-align: top;\n",
       "    }\n",
       "\n",
       "    .dataframe thead th {\n",
       "        text-align: right;\n",
       "    }\n",
       "</style>\n",
       "<table border=\"1\" class=\"dataframe\">\n",
       "  <thead>\n",
       "    <tr style=\"text-align: right;\">\n",
       "      <th></th>\n",
       "      <th>critic_score</th>\n",
       "      <th>user_score</th>\n",
       "    </tr>\n",
       "  </thead>\n",
       "  <tbody>\n",
       "    <tr>\n",
       "      <th>year_of_release</th>\n",
       "      <td>0.011411</td>\n",
       "      <td>-0.267851</td>\n",
       "    </tr>\n",
       "    <tr>\n",
       "      <th>na_sales</th>\n",
       "      <td>0.240083</td>\n",
       "      <td>0.085549</td>\n",
       "    </tr>\n",
       "    <tr>\n",
       "      <th>eu_sales</th>\n",
       "      <td>0.221276</td>\n",
       "      <td>0.055530</td>\n",
       "    </tr>\n",
       "    <tr>\n",
       "      <th>jp_sales</th>\n",
       "      <td>0.153474</td>\n",
       "      <td>0.126372</td>\n",
       "    </tr>\n",
       "    <tr>\n",
       "      <th>other_sales</th>\n",
       "      <td>0.198410</td>\n",
       "      <td>0.056935</td>\n",
       "    </tr>\n",
       "    <tr>\n",
       "      <th>critic_score</th>\n",
       "      <td>1.000000</td>\n",
       "      <td>0.579671</td>\n",
       "    </tr>\n",
       "    <tr>\n",
       "      <th>user_score</th>\n",
       "      <td>0.579671</td>\n",
       "      <td>1.000000</td>\n",
       "    </tr>\n",
       "    <tr>\n",
       "      <th>total_sales_on_platform</th>\n",
       "      <td>0.245349</td>\n",
       "      <td>0.087984</td>\n",
       "    </tr>\n",
       "    <tr>\n",
       "      <th>total_sales_all_platforms</th>\n",
       "      <td>0.286786</td>\n",
       "      <td>-0.018643</td>\n",
       "    </tr>\n",
       "  </tbody>\n",
       "</table>\n",
       "</div>"
      ],
      "text/plain": [
       "                           critic_score  user_score\n",
       "year_of_release                0.011411   -0.267851\n",
       "na_sales                       0.240083    0.085549\n",
       "eu_sales                       0.221276    0.055530\n",
       "jp_sales                       0.153474    0.126372\n",
       "other_sales                    0.198410    0.056935\n",
       "critic_score                   1.000000    0.579671\n",
       "user_score                     0.579671    1.000000\n",
       "total_sales_on_platform        0.245349    0.087984\n",
       "total_sales_all_platforms      0.286786   -0.018643"
      ]
     },
     "execution_count": 47,
     "metadata": {},
     "output_type": "execute_result"
    }
   ],
   "source": [
    "data['total_sales_on_platform'] = data[['na_sales', 'eu_sales', 'jp_sales', 'other_sales']].sum(axis=1)\n",
    "data['total_sales_all_platforms'] = data.groupby('name')['total_sales_on_platform'].transform('sum')\n",
    "data.corr()[['critic_score', 'user_score']]"
   ]
  },
  {
   "cell_type": "markdown",
   "metadata": {},
   "source": [
    "Наибольшая корреляция наблюдается между оценками игроков и критиков, оно и понятно. Но обоих данных нет, чтобы заполнить пропуски. Заполним пропуски значениями `-1`. И посмотрим на распределение."
   ]
  },
  {
   "cell_type": "code",
   "execution_count": 48,
   "metadata": {},
   "outputs": [
    {
     "data": {
      "text/plain": [
       "name                            0\n",
       "platform                        0\n",
       "year_of_release                 0\n",
       "genre                           0\n",
       "na_sales                        0\n",
       "eu_sales                        0\n",
       "jp_sales                        0\n",
       "other_sales                     0\n",
       "critic_score                    0\n",
       "user_score                      0\n",
       "rating                       6676\n",
       "total_sales_on_platform         0\n",
       "total_sales_all_platforms       0\n",
       "dtype: int64"
      ]
     },
     "execution_count": 48,
     "metadata": {},
     "output_type": "execute_result"
    },
    {
     "data": {
      "image/png": "[encoded data removed]",
      "text/plain": [
       "<Figure size 648x864 with 1 Axes>"
      ]
     },
     "metadata": {
      "needs_background": "light"
     },
     "output_type": "display_data"
    }
   ],
   "source": [
    "data['critic_score'].fillna(-1, inplace=True)\n",
    "data['user_score'].fillna(-1, inplace=True)\n",
    "ax = data.query('critic_score > 0')['critic_score'].plot(\n",
    "    kind='hist', title='Распределение оценок критиков', bins=100, figsize=(9, 12));\n",
    "ax.set_xlabel('Оценка критиков');\n",
    "ax.set_ylabel('Частота встречаемости');\n",
    "data.isna().sum()"
   ]
  },
  {
   "cell_type": "code",
   "execution_count": 49,
   "metadata": {},
   "outputs": [
    {
     "data": {
      "image/png": "[encoded data removed]",
      "text/plain": [
       "<Figure size 648x864 with 1 Axes>"
      ]
     },
     "metadata": {
      "needs_background": "light"
     },
     "output_type": "display_data"
    }
   ],
   "source": [
    "ax = data.query('user_score > 0')['user_score'].plot(\n",
    "    kind='hist', title='Распределение оценок игроков', bins=100, figsize=(9, 12));\n",
    "ax.set_xlabel('Оценка игроков');\n",
    "ax.set_ylabel('Частота встречаемости');"
   ]
  },
  {
   "cell_type": "markdown",
   "metadata": {},
   "source": [
    "Осталось заполнить пропуски в возрастном рейтинге. Заполним пустоты значением `unknown`."
   ]
  },
  {
   "cell_type": "code",
   "execution_count": 50,
   "metadata": {
    "scrolled": true
   },
   "outputs": [
    {
     "data": {
      "text/plain": [
       "name                         0\n",
       "platform                     0\n",
       "year_of_release              0\n",
       "genre                        0\n",
       "na_sales                     0\n",
       "eu_sales                     0\n",
       "jp_sales                     0\n",
       "other_sales                  0\n",
       "critic_score                 0\n",
       "user_score                   0\n",
       "rating                       0\n",
       "total_sales_on_platform      0\n",
       "total_sales_all_platforms    0\n",
       "dtype: int64"
      ]
     },
     "execution_count": 50,
     "metadata": {},
     "output_type": "execute_result"
    }
   ],
   "source": [
    "data['rating'].fillna('unknown', inplace=True)\n",
    "data.isna().sum()"
   ]
  },
  {
   "cell_type": "markdown",
   "metadata": {},
   "source": [
    "Пропуски обработаны."
   ]
  },
  {
   "cell_type": "markdown",
   "metadata": {},
   "source": [
    "### Дубликаты"
   ]
  },
  {
   "cell_type": "markdown",
   "metadata": {},
   "source": [
    "Проверим датасет на наличие полностью одинаковых строк."
   ]
  },
  {
   "cell_type": "code",
   "execution_count": 51,
   "metadata": {},
   "outputs": [
    {
     "data": {
      "text/plain": [
       "0"
      ]
     },
     "execution_count": 51,
     "metadata": {},
     "output_type": "execute_result"
    }
   ],
   "source": [
    "data.duplicated().sum()"
   ]
  },
  {
   "cell_type": "markdown",
   "metadata": {},
   "source": [
    "Дубликатов нет. Поищем игры с одинаковыми названиями и одной платформой."
   ]
  },
  {
   "cell_type": "code",
   "execution_count": 52,
   "metadata": {},
   "outputs": [
    {
     "data": {
      "text/plain": [
       "3"
      ]
     },
     "execution_count": 52,
     "metadata": {},
     "output_type": "execute_result"
    }
   ],
   "source": [
    "data[['name', 'platform']].duplicated().sum()"
   ]
  },
  {
   "cell_type": "markdown",
   "metadata": {},
   "source": [
    "Три дубликата, удалим их."
   ]
  },
  {
   "cell_type": "code",
   "execution_count": 53,
   "metadata": {},
   "outputs": [],
   "source": [
    "data = data.drop_duplicates(['name', 'platform'])"
   ]
  },
  {
   "cell_type": "markdown",
   "metadata": {},
   "source": [
    "Оценим обработанные данные."
   ]
  },
  {
   "cell_type": "code",
   "execution_count": 54,
   "metadata": {
    "scrolled": true
   },
   "outputs": [
    {
     "data": {
      "image/png": "[encoded data removed]",
      "text/plain": [
       "<Figure size 1296x864 with 9 Axes>"
      ]
     },
     "metadata": {
      "needs_background": "light"
     },
     "output_type": "display_data"
    }
   ],
   "source": [
    "data.hist(figsize=(18, 12));"
   ]
  },
  {
   "cell_type": "markdown",
   "metadata": {},
   "source": [
    "Можно сделать некоторые выводы:\n",
    "- большая часть игр выпускалась после 1995 года, пик произовдства игр примерно в 2010 году;\n",
    "- подавляющая часть игр продавалась до 10 млн экземпляров;\n",
    "- пользовательская средняя оценка игр примерно 8 из 10, а критиков 75 из 100."
   ]
  },
  {
   "cell_type": "markdown",
   "metadata": {},
   "source": [
    "### Исследовательский анализ данных"
   ]
  },
  {
   "cell_type": "markdown",
   "metadata": {},
   "source": [
    "#### Сколько игр выпускалось в разные годы?"
   ]
  },
  {
   "cell_type": "code",
   "execution_count": 55,
   "metadata": {},
   "outputs": [
    {
     "data": {
      "image/png": "[encoded data removed]",
      "text/plain": [
       "<Figure size 648x864 with 1 Axes>"
      ]
     },
     "metadata": {
      "needs_background": "light"
     },
     "output_type": "display_data"
    }
   ],
   "source": [
    "ax = data.pivot_table(index='year_of_release', values='genre', aggfunc='count'). \\\n",
    "plot(figsize=(9, 12), legend=False, title='Релизы игр по годам');\n",
    "ax.set(xlabel='Год выпуска', ylabel='Количество выпущенных игр');"
   ]
  },
  {
   "cell_type": "markdown",
   "metadata": {},
   "source": [
    "Количество выпускаемых игр начало расти с 1995 года. А 2009 год \"золотой век\" индустрии игр, далее количество игр начало сокращаться."
   ]
  },
  {
   "cell_type": "markdown",
   "metadata": {},
   "source": [
    "#### Как менялись продажи по платформам? Рассмотреть платформы с наибольшими суммарными продажами и построить распределение по годам. За какой характерный срок появляются новые и исчезают старые платформы?"
   ]
  },
  {
   "cell_type": "markdown",
   "metadata": {},
   "source": [
    "Посмотрим сколько всего платформ представлено в датасете."
   ]
  },
  {
   "cell_type": "code",
   "execution_count": 56,
   "metadata": {},
   "outputs": [
    {
     "data": {
      "text/plain": [
       "31"
      ]
     },
     "execution_count": 56,
     "metadata": {},
     "output_type": "execute_result"
    }
   ],
   "source": [
    "data['platform'].value_counts().count()"
   ]
  },
  {
   "cell_type": "markdown",
   "metadata": {},
   "source": [
    "Всего 31 игровая платформа. Посмотрим на суммарные продажи по платформам."
   ]
  },
  {
   "cell_type": "code",
   "execution_count": 57,
   "metadata": {},
   "outputs": [
    {
     "data": {
      "image/png": "[encoded data removed]",
      "text/plain": [
       "<Figure size 1296x864 with 1 Axes>"
      ]
     },
     "metadata": {
      "needs_background": "light"
     },
     "output_type": "display_data"
    }
   ],
   "source": [
    "top_platforms = data.pivot_table(index='platform', values='total_sales_on_platform', aggfunc='sum') \\\n",
    ".sort_values(by='total_sales_on_platform', ascending=False)\n",
    "ax = top_platforms.plot(kind='bar', figsize=(18, 12), legend=False, title='Суммарные продажи игр по платформам');\n",
    "ax.set(xlabel='Название игровой платформы', ylabel='Продажи игр');"
   ]
  },
  {
   "cell_type": "markdown",
   "metadata": {},
   "source": [
    "Есть явные лидеры по продажам, среди них: PS2 (PlayStation 2), X360 (XBox 360), PS3 (PlayStation 3), Wii (Nintendo Wii), DS (Nintendo DS), PS (PlayStation 1). Каким образом персональный компьютер оказался на 11 месте, совсем неясно."
   ]
  },
  {
   "cell_type": "markdown",
   "metadata": {},
   "source": [
    "Посмотрим на распределение продаж по годам у этих платформ."
   ]
  },
  {
   "cell_type": "code",
   "execution_count": 58,
   "metadata": {},
   "outputs": [
    {
     "data": {
      "image/png": "[encoded data removed]",
      "text/plain": [
       "<Figure size 1296x864 with 1 Axes>"
      ]
     },
     "metadata": {
      "needs_background": "light"
     },
     "output_type": "display_data"
    }
   ],
   "source": [
    "top_platforms_list = top_platforms.reset_index().loc[:5, 'platform'].to_list() # создаем список из платформ с лучшими продажами\n",
    "top_platforms_data = data.query('platform.isin(@top_platforms_list)') # выделяем отдельный датафрейм из этих платформ\n",
    "ax = top_platforms_data.pivot_table(index='year_of_release', columns='platform', values='total_sales_on_platform', aggfunc='sum') \\\n",
    ".plot(figsize=(18, 12), xlim=(1994, 2016), title='График продаж игр на платформах по годам');\n",
    "ax.set(xlabel='Год', ylabel='Продажи игр');"
   ]
  },
  {
   "cell_type": "markdown",
   "metadata": {},
   "source": [
    "Исходя из графика видно, что спрос на платформу \"живет\" примерно 10 лет. Можно отметить отдельно графики PS3 и X360 — это консоли одного поколения и их графики по сути повторяют друг друга."
   ]
  },
  {
   "cell_type": "markdown",
   "metadata": {},
   "source": [
    "#### Выявление актуального периода"
   ]
  },
  {
   "cell_type": "markdown",
   "metadata": {},
   "source": [
    "Так как необходимо спрогнозировать спрос на 2017 год, то необходимо понять, какие данные стоит использовать для прогноза."
   ]
  },
  {
   "cell_type": "markdown",
   "metadata": {},
   "source": [
    "Посмотрим первые упоминания о платформах, в каком году они были."
   ]
  },
  {
   "cell_type": "code",
   "execution_count": 59,
   "metadata": {
    "scrolled": true
   },
   "outputs": [
    {
     "data": {
      "text/html": [
       "<div>\n",
       "<style scoped>\n",
       "    .dataframe tbody tr th:only-of-type {\n",
       "        vertical-align: middle;\n",
       "    }\n",
       "\n",
       "    .dataframe tbody tr th {\n",
       "        vertical-align: top;\n",
       "    }\n",
       "\n",
       "    .dataframe thead th {\n",
       "        text-align: right;\n",
       "    }\n",
       "</style>\n",
       "<table border=\"1\" class=\"dataframe\">\n",
       "  <thead>\n",
       "    <tr style=\"text-align: right;\">\n",
       "      <th></th>\n",
       "      <th>platform</th>\n",
       "      <th>year_of_release</th>\n",
       "    </tr>\n",
       "  </thead>\n",
       "  <tbody>\n",
       "    <tr>\n",
       "      <th>0</th>\n",
       "      <td>XOne</td>\n",
       "      <td>2013</td>\n",
       "    </tr>\n",
       "    <tr>\n",
       "      <th>1</th>\n",
       "      <td>PS4</td>\n",
       "      <td>2013</td>\n",
       "    </tr>\n",
       "    <tr>\n",
       "      <th>2</th>\n",
       "      <td>WiiU</td>\n",
       "      <td>2012</td>\n",
       "    </tr>\n",
       "    <tr>\n",
       "      <th>3</th>\n",
       "      <td>3DS</td>\n",
       "      <td>2011</td>\n",
       "    </tr>\n",
       "    <tr>\n",
       "      <th>4</th>\n",
       "      <td>PSV</td>\n",
       "      <td>2011</td>\n",
       "    </tr>\n",
       "    <tr>\n",
       "      <th>5</th>\n",
       "      <td>PS3</td>\n",
       "      <td>2006</td>\n",
       "    </tr>\n",
       "    <tr>\n",
       "      <th>6</th>\n",
       "      <td>Wii</td>\n",
       "      <td>2006</td>\n",
       "    </tr>\n",
       "    <tr>\n",
       "      <th>7</th>\n",
       "      <td>X360</td>\n",
       "      <td>2005</td>\n",
       "    </tr>\n",
       "    <tr>\n",
       "      <th>8</th>\n",
       "      <td>PSP</td>\n",
       "      <td>2004</td>\n",
       "    </tr>\n",
       "    <tr>\n",
       "      <th>9</th>\n",
       "      <td>GC</td>\n",
       "      <td>2001</td>\n",
       "    </tr>\n",
       "    <tr>\n",
       "      <th>10</th>\n",
       "      <td>GBA</td>\n",
       "      <td>2000</td>\n",
       "    </tr>\n",
       "    <tr>\n",
       "      <th>11</th>\n",
       "      <td>PS2</td>\n",
       "      <td>2000</td>\n",
       "    </tr>\n",
       "    <tr>\n",
       "      <th>12</th>\n",
       "      <td>XB</td>\n",
       "      <td>2000</td>\n",
       "    </tr>\n",
       "    <tr>\n",
       "      <th>13</th>\n",
       "      <td>WS</td>\n",
       "      <td>1999</td>\n",
       "    </tr>\n",
       "    <tr>\n",
       "      <th>14</th>\n",
       "      <td>DC</td>\n",
       "      <td>1998</td>\n",
       "    </tr>\n",
       "    <tr>\n",
       "      <th>15</th>\n",
       "      <td>PCFX</td>\n",
       "      <td>1996</td>\n",
       "    </tr>\n",
       "    <tr>\n",
       "      <th>16</th>\n",
       "      <td>N64</td>\n",
       "      <td>1996</td>\n",
       "    </tr>\n",
       "    <tr>\n",
       "      <th>17</th>\n",
       "      <td>TG16</td>\n",
       "      <td>1995</td>\n",
       "    </tr>\n",
       "    <tr>\n",
       "      <th>18</th>\n",
       "      <td>SAT</td>\n",
       "      <td>1994</td>\n",
       "    </tr>\n",
       "    <tr>\n",
       "      <th>19</th>\n",
       "      <td>PS</td>\n",
       "      <td>1994</td>\n",
       "    </tr>\n",
       "    <tr>\n",
       "      <th>20</th>\n",
       "      <td>3DO</td>\n",
       "      <td>1994</td>\n",
       "    </tr>\n",
       "    <tr>\n",
       "      <th>21</th>\n",
       "      <td>SCD</td>\n",
       "      <td>1993</td>\n",
       "    </tr>\n",
       "    <tr>\n",
       "      <th>22</th>\n",
       "      <td>NG</td>\n",
       "      <td>1993</td>\n",
       "    </tr>\n",
       "    <tr>\n",
       "      <th>23</th>\n",
       "      <td>GG</td>\n",
       "      <td>1992</td>\n",
       "    </tr>\n",
       "    <tr>\n",
       "      <th>24</th>\n",
       "      <td>SNES</td>\n",
       "      <td>1990</td>\n",
       "    </tr>\n",
       "    <tr>\n",
       "      <th>25</th>\n",
       "      <td>GEN</td>\n",
       "      <td>1990</td>\n",
       "    </tr>\n",
       "    <tr>\n",
       "      <th>26</th>\n",
       "      <td>GB</td>\n",
       "      <td>1988</td>\n",
       "    </tr>\n",
       "    <tr>\n",
       "      <th>27</th>\n",
       "      <td>PC</td>\n",
       "      <td>1985</td>\n",
       "    </tr>\n",
       "    <tr>\n",
       "      <th>28</th>\n",
       "      <td>DS</td>\n",
       "      <td>1985</td>\n",
       "    </tr>\n",
       "    <tr>\n",
       "      <th>29</th>\n",
       "      <td>NES</td>\n",
       "      <td>1983</td>\n",
       "    </tr>\n",
       "    <tr>\n",
       "      <th>30</th>\n",
       "      <td>2600</td>\n",
       "      <td>1980</td>\n",
       "    </tr>\n",
       "  </tbody>\n",
       "</table>\n",
       "</div>"
      ],
      "text/plain": [
       "   platform  year_of_release\n",
       "0      XOne             2013\n",
       "1       PS4             2013\n",
       "2      WiiU             2012\n",
       "3       3DS             2011\n",
       "4       PSV             2011\n",
       "5       PS3             2006\n",
       "6       Wii             2006\n",
       "7      X360             2005\n",
       "8       PSP             2004\n",
       "9        GC             2001\n",
       "10      GBA             2000\n",
       "11      PS2             2000\n",
       "12       XB             2000\n",
       "13       WS             1999\n",
       "14       DC             1998\n",
       "15     PCFX             1996\n",
       "16      N64             1996\n",
       "17     TG16             1995\n",
       "18      SAT             1994\n",
       "19       PS             1994\n",
       "20      3DO             1994\n",
       "21      SCD             1993\n",
       "22       NG             1993\n",
       "23       GG             1992\n",
       "24     SNES             1990\n",
       "25      GEN             1990\n",
       "26       GB             1988\n",
       "27       PC             1985\n",
       "28       DS             1985\n",
       "29      NES             1983\n",
       "30     2600             1980"
      ]
     },
     "execution_count": 59,
     "metadata": {},
     "output_type": "execute_result"
    }
   ],
   "source": [
    "platforms_year_of_release = data.pivot_table(index='platform', values='year_of_release', aggfunc='min') \\\n",
    ".sort_values(by='year_of_release', ascending=False).reset_index()\n",
    "platforms_year_of_release"
   ]
  },
  {
   "cell_type": "markdown",
   "metadata": {},
   "source": [
    "Брать в расчет платформы, младше 2013 года нет смысла, т.к. для них игры уже вряд ли будут разрабатывать, кроме `PC`. Возьмем актуальный период для платформ, выпускавшихся с 2013 года."
   ]
  },
  {
   "cell_type": "code",
   "execution_count": 60,
   "metadata": {
    "scrolled": false
   },
   "outputs": [
    {
     "data": {
      "text/html": [
       "<div>\n",
       "<style scoped>\n",
       "    .dataframe tbody tr th:only-of-type {\n",
       "        vertical-align: middle;\n",
       "    }\n",
       "\n",
       "    .dataframe tbody tr th {\n",
       "        vertical-align: top;\n",
       "    }\n",
       "\n",
       "    .dataframe thead th {\n",
       "        text-align: right;\n",
       "    }\n",
       "</style>\n",
       "<table border=\"1\" class=\"dataframe\">\n",
       "  <thead>\n",
       "    <tr style=\"text-align: right;\">\n",
       "      <th></th>\n",
       "      <th>name</th>\n",
       "      <th>platform</th>\n",
       "      <th>year_of_release</th>\n",
       "      <th>genre</th>\n",
       "      <th>na_sales</th>\n",
       "      <th>eu_sales</th>\n",
       "      <th>jp_sales</th>\n",
       "      <th>other_sales</th>\n",
       "      <th>critic_score</th>\n",
       "      <th>user_score</th>\n",
       "      <th>rating</th>\n",
       "      <th>total_sales_on_platform</th>\n",
       "      <th>total_sales_all_platforms</th>\n",
       "    </tr>\n",
       "  </thead>\n",
       "  <tbody>\n",
       "    <tr>\n",
       "      <th>16</th>\n",
       "      <td>Grand Theft Auto V</td>\n",
       "      <td>PS3</td>\n",
       "      <td>2013</td>\n",
       "      <td>Action</td>\n",
       "      <td>7.02</td>\n",
       "      <td>9.09</td>\n",
       "      <td>0.98</td>\n",
       "      <td>3.96</td>\n",
       "      <td>97</td>\n",
       "      <td>8.2</td>\n",
       "      <td>M</td>\n",
       "      <td>21.05</td>\n",
       "      <td>56.58</td>\n",
       "    </tr>\n",
       "    <tr>\n",
       "      <th>23</th>\n",
       "      <td>Grand Theft Auto V</td>\n",
       "      <td>X360</td>\n",
       "      <td>2013</td>\n",
       "      <td>Action</td>\n",
       "      <td>9.66</td>\n",
       "      <td>5.14</td>\n",
       "      <td>0.06</td>\n",
       "      <td>1.41</td>\n",
       "      <td>97</td>\n",
       "      <td>8.1</td>\n",
       "      <td>M</td>\n",
       "      <td>16.27</td>\n",
       "      <td>56.58</td>\n",
       "    </tr>\n",
       "    <tr>\n",
       "      <th>31</th>\n",
       "      <td>Call of Duty: Black Ops 3</td>\n",
       "      <td>PS4</td>\n",
       "      <td>2015</td>\n",
       "      <td>Shooter</td>\n",
       "      <td>6.03</td>\n",
       "      <td>5.86</td>\n",
       "      <td>0.36</td>\n",
       "      <td>2.38</td>\n",
       "      <td>-1</td>\n",
       "      <td>-1.0</td>\n",
       "      <td>unknown</td>\n",
       "      <td>14.63</td>\n",
       "      <td>25.67</td>\n",
       "    </tr>\n",
       "    <tr>\n",
       "      <th>33</th>\n",
       "      <td>Pokemon X/Pokemon Y</td>\n",
       "      <td>3DS</td>\n",
       "      <td>2013</td>\n",
       "      <td>Role-Playing</td>\n",
       "      <td>5.28</td>\n",
       "      <td>4.19</td>\n",
       "      <td>4.35</td>\n",
       "      <td>0.78</td>\n",
       "      <td>-1</td>\n",
       "      <td>-1.0</td>\n",
       "      <td>unknown</td>\n",
       "      <td>14.60</td>\n",
       "      <td>14.60</td>\n",
       "    </tr>\n",
       "    <tr>\n",
       "      <th>42</th>\n",
       "      <td>Grand Theft Auto V</td>\n",
       "      <td>PS4</td>\n",
       "      <td>2014</td>\n",
       "      <td>Action</td>\n",
       "      <td>3.96</td>\n",
       "      <td>6.31</td>\n",
       "      <td>0.38</td>\n",
       "      <td>1.97</td>\n",
       "      <td>97</td>\n",
       "      <td>8.3</td>\n",
       "      <td>M</td>\n",
       "      <td>12.62</td>\n",
       "      <td>56.58</td>\n",
       "    </tr>\n",
       "    <tr>\n",
       "      <th>...</th>\n",
       "      <td>...</td>\n",
       "      <td>...</td>\n",
       "      <td>...</td>\n",
       "      <td>...</td>\n",
       "      <td>...</td>\n",
       "      <td>...</td>\n",
       "      <td>...</td>\n",
       "      <td>...</td>\n",
       "      <td>...</td>\n",
       "      <td>...</td>\n",
       "      <td>...</td>\n",
       "      <td>...</td>\n",
       "      <td>...</td>\n",
       "    </tr>\n",
       "    <tr>\n",
       "      <th>16703</th>\n",
       "      <td>Strawberry Nauts</td>\n",
       "      <td>PSV</td>\n",
       "      <td>2016</td>\n",
       "      <td>Adventure</td>\n",
       "      <td>0.00</td>\n",
       "      <td>0.00</td>\n",
       "      <td>0.01</td>\n",
       "      <td>0.00</td>\n",
       "      <td>-1</td>\n",
       "      <td>-1.0</td>\n",
       "      <td>unknown</td>\n",
       "      <td>0.01</td>\n",
       "      <td>0.01</td>\n",
       "    </tr>\n",
       "    <tr>\n",
       "      <th>16707</th>\n",
       "      <td>Aiyoku no Eustia</td>\n",
       "      <td>PSV</td>\n",
       "      <td>2014</td>\n",
       "      <td>Misc</td>\n",
       "      <td>0.00</td>\n",
       "      <td>0.00</td>\n",
       "      <td>0.01</td>\n",
       "      <td>0.00</td>\n",
       "      <td>-1</td>\n",
       "      <td>-1.0</td>\n",
       "      <td>unknown</td>\n",
       "      <td>0.01</td>\n",
       "      <td>0.01</td>\n",
       "    </tr>\n",
       "    <tr>\n",
       "      <th>16710</th>\n",
       "      <td>Samurai Warriors: Sanada Maru</td>\n",
       "      <td>PS3</td>\n",
       "      <td>2016</td>\n",
       "      <td>Action</td>\n",
       "      <td>0.00</td>\n",
       "      <td>0.00</td>\n",
       "      <td>0.01</td>\n",
       "      <td>0.00</td>\n",
       "      <td>-1</td>\n",
       "      <td>-1.0</td>\n",
       "      <td>unknown</td>\n",
       "      <td>0.01</td>\n",
       "      <td>0.05</td>\n",
       "    </tr>\n",
       "    <tr>\n",
       "      <th>16712</th>\n",
       "      <td>Haitaka no Psychedelica</td>\n",
       "      <td>PSV</td>\n",
       "      <td>2016</td>\n",
       "      <td>Adventure</td>\n",
       "      <td>0.00</td>\n",
       "      <td>0.00</td>\n",
       "      <td>0.01</td>\n",
       "      <td>0.00</td>\n",
       "      <td>-1</td>\n",
       "      <td>-1.0</td>\n",
       "      <td>unknown</td>\n",
       "      <td>0.01</td>\n",
       "      <td>0.01</td>\n",
       "    </tr>\n",
       "    <tr>\n",
       "      <th>16714</th>\n",
       "      <td>Winning Post 8 2016</td>\n",
       "      <td>PSV</td>\n",
       "      <td>2016</td>\n",
       "      <td>Simulation</td>\n",
       "      <td>0.00</td>\n",
       "      <td>0.00</td>\n",
       "      <td>0.01</td>\n",
       "      <td>0.00</td>\n",
       "      <td>-1</td>\n",
       "      <td>-1.0</td>\n",
       "      <td>unknown</td>\n",
       "      <td>0.01</td>\n",
       "      <td>0.03</td>\n",
       "    </tr>\n",
       "  </tbody>\n",
       "</table>\n",
       "<p>2233 rows × 13 columns</p>\n",
       "</div>"
      ],
      "text/plain": [
       "                                name platform  year_of_release         genre  \\\n",
       "16                Grand Theft Auto V      PS3             2013        Action   \n",
       "23                Grand Theft Auto V     X360             2013        Action   \n",
       "31         Call of Duty: Black Ops 3      PS4             2015       Shooter   \n",
       "33               Pokemon X/Pokemon Y      3DS             2013  Role-Playing   \n",
       "42                Grand Theft Auto V      PS4             2014        Action   \n",
       "...                              ...      ...              ...           ...   \n",
       "16703               Strawberry Nauts      PSV             2016     Adventure   \n",
       "16707               Aiyoku no Eustia      PSV             2014          Misc   \n",
       "16710  Samurai Warriors: Sanada Maru      PS3             2016        Action   \n",
       "16712        Haitaka no Psychedelica      PSV             2016     Adventure   \n",
       "16714            Winning Post 8 2016      PSV             2016    Simulation   \n",
       "\n",
       "       na_sales  eu_sales  jp_sales  other_sales  critic_score  user_score  \\\n",
       "16         7.02      9.09      0.98         3.96            97         8.2   \n",
       "23         9.66      5.14      0.06         1.41            97         8.1   \n",
       "31         6.03      5.86      0.36         2.38            -1        -1.0   \n",
       "33         5.28      4.19      4.35         0.78            -1        -1.0   \n",
       "42         3.96      6.31      0.38         1.97            97         8.3   \n",
       "...         ...       ...       ...          ...           ...         ...   \n",
       "16703      0.00      0.00      0.01         0.00            -1        -1.0   \n",
       "16707      0.00      0.00      0.01         0.00            -1        -1.0   \n",
       "16710      0.00      0.00      0.01         0.00            -1        -1.0   \n",
       "16712      0.00      0.00      0.01         0.00            -1        -1.0   \n",
       "16714      0.00      0.00      0.01         0.00            -1        -1.0   \n",
       "\n",
       "        rating  total_sales_on_platform  total_sales_all_platforms  \n",
       "16           M                    21.05                      56.58  \n",
       "23           M                    16.27                      56.58  \n",
       "31     unknown                    14.63                      25.67  \n",
       "33     unknown                    14.60                      14.60  \n",
       "42           M                    12.62                      56.58  \n",
       "...        ...                      ...                        ...  \n",
       "16703  unknown                     0.01                       0.01  \n",
       "16707  unknown                     0.01                       0.01  \n",
       "16710  unknown                     0.01                       0.05  \n",
       "16712  unknown                     0.01                       0.01  \n",
       "16714  unknown                     0.01                       0.03  \n",
       "\n",
       "[2233 rows x 13 columns]"
      ]
     },
     "execution_count": 60,
     "metadata": {},
     "output_type": "execute_result"
    }
   ],
   "source": [
    "# создаем список актуальных платформ\n",
    "actual_data = data.query('year_of_release >= 2013')\n",
    "actual_data"
   ]
  },
  {
   "cell_type": "markdown",
   "metadata": {},
   "source": [
    "Получился датафрейм размером 2233 строк."
   ]
  },
  {
   "cell_type": "markdown",
   "metadata": {},
   "source": [
    "Посмотрим на продажи игр для этих платформ."
   ]
  },
  {
   "cell_type": "code",
   "execution_count": 61,
   "metadata": {},
   "outputs": [
    {
     "data": {
      "image/png": "[encoded data removed]",
      "text/plain": [
       "<Figure size 1296x864 with 1 Axes>"
      ]
     },
     "metadata": {
      "needs_background": "light"
     },
     "output_type": "display_data"
    }
   ],
   "source": [
    "ax = actual_data.pivot_table(index='year_of_release', columns='platform', values='total_sales_on_platform', aggfunc='sum'). \\\n",
    "plot(figsize=(18, 12), xlim=(2013, 2016), title='График продаж игр на платформах по годам');\n",
    "ax.set(xlabel='Год', ylabel='Продажи игр');"
   ]
  },
  {
   "cell_type": "markdown",
   "metadata": {},
   "source": [
    "Спрос на все платформы находится в фазе падения. Хороший спрос пока сохраняется у консолей PlayStation 4, XBox One."
   ]
  },
  {
   "cell_type": "markdown",
   "metadata": {},
   "source": [
    "Посмотрим на продажи игр на коробчатой диаграмме по каждой популярной платформе."
   ]
  },
  {
   "cell_type": "code",
   "execution_count": 62,
   "metadata": {
    "scrolled": false
   },
   "outputs": [
    {
     "data": {
      "image/png": "[encoded data removed]",
      "text/plain": [
       "<Figure size 1296x864 with 1 Axes>"
      ]
     },
     "metadata": {
      "needs_background": "light"
     },
     "output_type": "display_data"
    }
   ],
   "source": [
    "import matplotlib.pyplot as plt # импортируем библиотеку для визуализации\n",
    "\n",
    "fig, ax = plt.subplots(figsize=(18, 12))\n",
    "ps4_data = actual_data.query('platform == \"PS4\"') # собираем данные по платформе \"PS4\"\n",
    "xone_data = actual_data.query('platform == \"XOne\"') # собираем данные по платформе \"PS4\"\n",
    "pc_data = actual_data.query('platform == \"PC\"') # собираем данные по платформе \"PS4\"\n",
    "\n",
    "ax.boxplot([ps4_data['total_sales_on_platform'], xone_data['total_sales_on_platform'], pc_data['total_sales_on_platform']])\n",
    "ax.set(\n",
    "    xticklabels=['PS4', 'XBoxOne', 'PC'], \n",
    "    ylabel='Продажи в миллионах', \n",
    "    xlabel='Платформа', \n",
    "    title='Коробчатая диаграмма продаж на разных платформах')\n",
    "plt.show()"
   ]
  },
  {
   "cell_type": "markdown",
   "metadata": {},
   "source": [
    "Большая часть данных находится в районе близком к нулю, посмотрим на медиану датасета."
   ]
  },
  {
   "cell_type": "code",
   "execution_count": 63,
   "metadata": {
    "scrolled": false
   },
   "outputs": [
    {
     "data": {
      "text/plain": [
       "0.11"
      ]
     },
     "execution_count": 63,
     "metadata": {},
     "output_type": "execute_result"
    }
   ],
   "source": [
    "actual_data['total_sales_on_platform'].median()"
   ]
  },
  {
   "cell_type": "code",
   "execution_count": 64,
   "metadata": {},
   "outputs": [
    {
     "data": {
      "image/png": "[encoded data removed]",
      "text/plain": [
       "<Figure size 1296x864 with 1 Axes>"
      ]
     },
     "metadata": {
      "needs_background": "light"
     },
     "output_type": "display_data"
    }
   ],
   "source": [
    "fig, ax = plt.subplots(figsize=(18, 12))\n",
    "ps4_data = actual_data.query('platform == \"PS4\"') # собираем данные по платформе \"PS4\"\n",
    "xone_data = actual_data.query('platform == \"XOne\"') # собираем данные по платформе \"PS4\"\n",
    "pc_data = actual_data.query('platform == \"PC\"') # собираем данные по платформе \"PS4\"\n",
    "\n",
    "ax.boxplot([ps4_data['total_sales_on_platform'], xone_data['total_sales_on_platform'], pc_data['total_sales_on_platform']])\n",
    "ax.set(\n",
    "    xticklabels=['PS4', 'XBoxOne', 'PC'], \n",
    "    ylabel='Продажи в миллионах', \n",
    "    xlabel='Платформа', \n",
    "    title='Коробчатая диаграмма продаж на разных платформах')\n",
    "ax.set_ylim(ymax=2)\n",
    "plt.show()"
   ]
  },
  {
   "cell_type": "markdown",
   "metadata": {},
   "source": [
    "Половина игр продалась в количестве экземпляров меньше 110 тысяч. Третий квартиль примерно на уровне значения 700 тысяч. Первый квартиль — чуть выше нулевого значения."
   ]
  },
  {
   "cell_type": "markdown",
   "metadata": {},
   "source": [
    "#### Влияние отзывов игроков и критиков на продажи внутри одной популярной платформы."
   ]
  },
  {
   "cell_type": "markdown",
   "metadata": {},
   "source": [
    "Построим диаграмму рассеяния и определим влияние отзывов на продажи на платформе PS4 и найдем корреляцию."
   ]
  },
  {
   "cell_type": "code",
   "execution_count": 65,
   "metadata": {},
   "outputs": [
    {
     "data": {
      "text/html": [
       "<div>\n",
       "<style scoped>\n",
       "    .dataframe tbody tr th:only-of-type {\n",
       "        vertical-align: middle;\n",
       "    }\n",
       "\n",
       "    .dataframe tbody tr th {\n",
       "        vertical-align: top;\n",
       "    }\n",
       "\n",
       "    .dataframe thead th {\n",
       "        text-align: right;\n",
       "    }\n",
       "</style>\n",
       "<table border=\"1\" class=\"dataframe\">\n",
       "  <thead>\n",
       "    <tr style=\"text-align: right;\">\n",
       "      <th></th>\n",
       "      <th>critic_score</th>\n",
       "      <th>user_score</th>\n",
       "      <th>total_sales_on_platform</th>\n",
       "    </tr>\n",
       "  </thead>\n",
       "  <tbody>\n",
       "    <tr>\n",
       "      <th>critic_score</th>\n",
       "      <td>1.000000</td>\n",
       "      <td>0.557654</td>\n",
       "      <td>0.405895</td>\n",
       "    </tr>\n",
       "    <tr>\n",
       "      <th>user_score</th>\n",
       "      <td>0.557654</td>\n",
       "      <td>1.000000</td>\n",
       "      <td>-0.033625</td>\n",
       "    </tr>\n",
       "    <tr>\n",
       "      <th>total_sales_on_platform</th>\n",
       "      <td>0.405895</td>\n",
       "      <td>-0.033625</td>\n",
       "      <td>1.000000</td>\n",
       "    </tr>\n",
       "  </tbody>\n",
       "</table>\n",
       "</div>"
      ],
      "text/plain": [
       "                         critic_score  user_score  total_sales_on_platform\n",
       "critic_score                 1.000000    0.557654                 0.405895\n",
       "user_score                   0.557654    1.000000                -0.033625\n",
       "total_sales_on_platform      0.405895   -0.033625                 1.000000"
      ]
     },
     "execution_count": 65,
     "metadata": {},
     "output_type": "execute_result"
    }
   ],
   "source": [
    "ps4_data = ps4_data.query('critic_score > -1 & user_score > -1')\n",
    "ps4_data[['critic_score', 'user_score', 'total_sales_on_platform']].corr()"
   ]
  },
  {
   "cell_type": "markdown",
   "metadata": {},
   "source": [
    "Оценки критиков и пользователей почти не коррелируют с продажами игры. Построим диаграмму рассеяния."
   ]
  },
  {
   "cell_type": "code",
   "execution_count": 66,
   "metadata": {
    "scrolled": false
   },
   "outputs": [
    {
     "data": {
      "image/png": "[encoded data removed]",
      "text/plain": [
       "<Figure size 648x864 with 1 Axes>"
      ]
     },
     "metadata": {
      "needs_background": "light"
     },
     "output_type": "display_data"
    },
    {
     "data": {
      "image/png": "[encoded data removed]",
      "text/plain": [
       "<Figure size 648x864 with 1 Axes>"
      ]
     },
     "metadata": {
      "needs_background": "light"
     },
     "output_type": "display_data"
    }
   ],
   "source": [
    "ax = ps4_data.plot.scatter(\n",
    "    x='critic_score', y='total_sales_on_platform', figsize=(9, 12), title='Диаграмма рассения продаж от оценки критиков');\n",
    "ax.set(xlabel='Оценка критиков', ylabel='Количество продаж игры');\n",
    "ax = ps4_data.plot.scatter(\n",
    "    x='user_score', y='total_sales_on_platform', figsize=(9, 12), title='Диаграмма рассения продаж от оценки игроков');\n",
    "ax.set(xlabel='Оценка игроков', ylabel='Количество продаж игры');"
   ]
  },
  {
   "cell_type": "markdown",
   "metadata": {},
   "source": [
    "На диаграмме тоже не наблюдается какой-либо корреляции. Видимо, оценки критиков и пользователей никак не влияют на продажи игр. Проверим корелляцию на других платформах, например `PC`."
   ]
  },
  {
   "cell_type": "code",
   "execution_count": 67,
   "metadata": {
    "scrolled": false
   },
   "outputs": [
    {
     "data": {
      "text/html": [
       "<div>\n",
       "<style scoped>\n",
       "    .dataframe tbody tr th:only-of-type {\n",
       "        vertical-align: middle;\n",
       "    }\n",
       "\n",
       "    .dataframe tbody tr th {\n",
       "        vertical-align: top;\n",
       "    }\n",
       "\n",
       "    .dataframe thead th {\n",
       "        text-align: right;\n",
       "    }\n",
       "</style>\n",
       "<table border=\"1\" class=\"dataframe\">\n",
       "  <thead>\n",
       "    <tr style=\"text-align: right;\">\n",
       "      <th></th>\n",
       "      <th>critic_score</th>\n",
       "      <th>user_score</th>\n",
       "      <th>total_sales_on_platform</th>\n",
       "    </tr>\n",
       "  </thead>\n",
       "  <tbody>\n",
       "    <tr>\n",
       "      <th>critic_score</th>\n",
       "      <td>1.000000</td>\n",
       "      <td>0.429562</td>\n",
       "      <td>0.194124</td>\n",
       "    </tr>\n",
       "    <tr>\n",
       "      <th>user_score</th>\n",
       "      <td>0.429562</td>\n",
       "      <td>1.000000</td>\n",
       "      <td>-0.109235</td>\n",
       "    </tr>\n",
       "    <tr>\n",
       "      <th>total_sales_on_platform</th>\n",
       "      <td>0.194124</td>\n",
       "      <td>-0.109235</td>\n",
       "      <td>1.000000</td>\n",
       "    </tr>\n",
       "  </tbody>\n",
       "</table>\n",
       "</div>"
      ],
      "text/plain": [
       "                         critic_score  user_score  total_sales_on_platform\n",
       "critic_score                 1.000000    0.429562                 0.194124\n",
       "user_score                   0.429562    1.000000                -0.109235\n",
       "total_sales_on_platform      0.194124   -0.109235                 1.000000"
      ]
     },
     "execution_count": 67,
     "metadata": {},
     "output_type": "execute_result"
    }
   ],
   "source": [
    "pc_data = pc_data.query('critic_score > -1 & user_score > -1')\n",
    "pc_data[['critic_score', 'user_score', 'total_sales_on_platform']].corr()"
   ]
  },
  {
   "cell_type": "code",
   "execution_count": 68,
   "metadata": {},
   "outputs": [
    {
     "data": {
      "image/png": "[encoded data removed]",
      "text/plain": [
       "<Figure size 648x864 with 1 Axes>"
      ]
     },
     "metadata": {
      "needs_background": "light"
     },
     "output_type": "display_data"
    },
    {
     "data": {
      "image/png": "[encoded data removed]",
      "text/plain": [
       "<Figure size 648x864 with 1 Axes>"
      ]
     },
     "metadata": {
      "needs_background": "light"
     },
     "output_type": "display_data"
    }
   ],
   "source": [
    "ax = pc_data.plot.scatter(\n",
    "    x='critic_score', y='total_sales_on_platform', figsize=(9, 12), title='Диаграмма рассения продаж от оценки критиков');\n",
    "ax.set(xlabel='Оценка критиков', ylabel='Количество продаж игры');\n",
    "ax = pc_data.plot.scatter(\n",
    "    x='user_score', y='total_sales_on_platform', figsize=(9, 12), title='Диаграмма рассения продаж от оценки игроков');\n",
    "ax.set(xlabel='Оценка игроков', ylabel='Количество продаж игры');"
   ]
  },
  {
   "cell_type": "markdown",
   "metadata": {},
   "source": [
    "Здесь корреляция оказалась даже меньше, проверим `XBox One`."
   ]
  },
  {
   "cell_type": "code",
   "execution_count": 69,
   "metadata": {},
   "outputs": [
    {
     "data": {
      "text/html": [
       "<div>\n",
       "<style scoped>\n",
       "    .dataframe tbody tr th:only-of-type {\n",
       "        vertical-align: middle;\n",
       "    }\n",
       "\n",
       "    .dataframe tbody tr th {\n",
       "        vertical-align: top;\n",
       "    }\n",
       "\n",
       "    .dataframe thead th {\n",
       "        text-align: right;\n",
       "    }\n",
       "</style>\n",
       "<table border=\"1\" class=\"dataframe\">\n",
       "  <thead>\n",
       "    <tr style=\"text-align: right;\">\n",
       "      <th></th>\n",
       "      <th>critic_score</th>\n",
       "      <th>user_score</th>\n",
       "      <th>total_sales_on_platform</th>\n",
       "    </tr>\n",
       "  </thead>\n",
       "  <tbody>\n",
       "    <tr>\n",
       "      <th>critic_score</th>\n",
       "      <td>1.000000</td>\n",
       "      <td>0.472462</td>\n",
       "      <td>0.410422</td>\n",
       "    </tr>\n",
       "    <tr>\n",
       "      <th>user_score</th>\n",
       "      <td>0.472462</td>\n",
       "      <td>1.000000</td>\n",
       "      <td>-0.094003</td>\n",
       "    </tr>\n",
       "    <tr>\n",
       "      <th>total_sales_on_platform</th>\n",
       "      <td>0.410422</td>\n",
       "      <td>-0.094003</td>\n",
       "      <td>1.000000</td>\n",
       "    </tr>\n",
       "  </tbody>\n",
       "</table>\n",
       "</div>"
      ],
      "text/plain": [
       "                         critic_score  user_score  total_sales_on_platform\n",
       "critic_score                 1.000000    0.472462                 0.410422\n",
       "user_score                   0.472462    1.000000                -0.094003\n",
       "total_sales_on_platform      0.410422   -0.094003                 1.000000"
      ]
     },
     "execution_count": 69,
     "metadata": {},
     "output_type": "execute_result"
    }
   ],
   "source": [
    "xone_data = xone_data.query('critic_score > -1 & user_score > -1')\n",
    "xone_data[['critic_score', 'user_score', 'total_sales_on_platform']].corr()"
   ]
  },
  {
   "cell_type": "code",
   "execution_count": 70,
   "metadata": {},
   "outputs": [
    {
     "data": {
      "image/png": "[encoded data removed]",
      "text/plain": [
       "<Figure size 648x864 with 1 Axes>"
      ]
     },
     "metadata": {
      "needs_background": "light"
     },
     "output_type": "display_data"
    },
    {
     "data": {
      "image/png": "[encoded data removed]",
      "text/plain": [
       "<Figure size 648x864 with 1 Axes>"
      ]
     },
     "metadata": {
      "needs_background": "light"
     },
     "output_type": "display_data"
    }
   ],
   "source": [
    "ax = xone_data.plot.scatter(\n",
    "    x='critic_score', y='total_sales_on_platform', figsize=(9, 12), title='Диаграмма рассения продаж от оценки критиков');\n",
    "ax.set(xlabel='Оценка критиков', ylabel='Количество продаж игры');\n",
    "ax = xone_data.plot.scatter(\n",
    "    x='user_score', y='total_sales_on_platform', figsize=(9, 12), title='Диаграмма рассения продаж от оценки игроков');\n",
    "ax.set(xlabel='Оценка игроков', ylabel='Количество продаж игры');"
   ]
  },
  {
   "cell_type": "markdown",
   "metadata": {},
   "source": [
    "Здесь тоже слабая корреляция"
   ]
  },
  {
   "cell_type": "markdown",
   "metadata": {},
   "source": [
    "#### Распределение игр по жанрам. Самые прибыльные жанры. Продажи по жанрам."
   ]
  },
  {
   "cell_type": "markdown",
   "metadata": {},
   "source": [
    "Рассмотрим в каком количестве представлены игры по жанрам."
   ]
  },
  {
   "cell_type": "code",
   "execution_count": 71,
   "metadata": {},
   "outputs": [
    {
     "data": {
      "image/png": "[encoded data removed]",
      "text/plain": [
       "<Figure size 648x864 with 1 Axes>"
      ]
     },
     "metadata": {
      "needs_background": "light"
     },
     "output_type": "display_data"
    }
   ],
   "source": [
    "ax = actual_data['genre'].value_counts().plot(kind='bar', figsize=(9, 12), title='Распределение игр по жанрам');\n",
    "ax.set(xlabel='Жанр', ylabel='Количество игр');"
   ]
  },
  {
   "cell_type": "markdown",
   "metadata": {},
   "source": [
    "Большая часть игр выпускается в жанрах: экшн, ролевые игры, приключения, спорт, шутеры. Пазлы и стратегии почти не выпускаются."
   ]
  },
  {
   "cell_type": "markdown",
   "metadata": {},
   "source": [
    "Оценим спрос игры в зависимости от жанра."
   ]
  },
  {
   "cell_type": "code",
   "execution_count": 72,
   "metadata": {},
   "outputs": [
    {
     "data": {
      "image/png": "[encoded data removed]",
      "text/plain": [
       "<Figure size 648x864 with 1 Axes>"
      ]
     },
     "metadata": {
      "needs_background": "light"
     },
     "output_type": "display_data"
    }
   ],
   "source": [
    "ax = actual_data.pivot_table(index='genre', values='total_sales_all_platforms', aggfunc='sum') \\\n",
    ".sort_values(by='total_sales_all_platforms', ascending=False) \\\n",
    ".plot(kind='bar', figsize=(9, 12), legend=False, title='Спрос на игры в зависимости от жанра');\n",
    "ax.set(xlabel='Жанр', ylabel='Продажи игр');"
   ]
  },
  {
   "cell_type": "markdown",
   "metadata": {},
   "source": [
    "Наибольший спрос наблюдается на игры жанров: экшн, шутеры, спорт, ролевые игры. Пазлы, как и в предыдущей диаграмме закрывают список. Попробуем оценить по среднему показателю продаж на жанр."
   ]
  },
  {
   "cell_type": "code",
   "execution_count": 73,
   "metadata": {
    "scrolled": false
   },
   "outputs": [
    {
     "data": {
      "image/png": "[encoded data removed]",
      "text/plain": [
       "<Figure size 648x864 with 1 Axes>"
      ]
     },
     "metadata": {
      "needs_background": "light"
     },
     "output_type": "display_data"
    }
   ],
   "source": [
    "ax = actual_data.pivot_table(index='genre', values='total_sales_all_platforms', aggfunc='mean') \\\n",
    ".sort_values(by='total_sales_all_platforms', ascending=False) \\\n",
    ".plot(kind='bar', figsize=(9, 12), legend=False, title='Спрос на игры в зависимости от жанра');\n",
    "ax.set(xlabel='Жанр', ylabel='Среднее количество продаж (млн)');"
   ]
  },
  {
   "cell_type": "markdown",
   "metadata": {},
   "source": [
    "В среднем шутеры, спортивные и смешанные игры формируют топ три игр по продажам. Пазлы, как и прежде, не собираются."
   ]
  },
  {
   "cell_type": "markdown",
   "metadata": {},
   "source": [
    "### Портрет пользователя региона"
   ]
  },
  {
   "cell_type": "markdown",
   "metadata": {},
   "source": [
    "#### Самые популярные платформы"
   ]
  },
  {
   "cell_type": "markdown",
   "metadata": {},
   "source": [
    "Рассмотрим спрос на платформы в зависимости от региона."
   ]
  },
  {
   "cell_type": "code",
   "execution_count": 74,
   "metadata": {},
   "outputs": [
    {
     "data": {
      "image/png": "[encoded data removed]",
      "text/plain": [
       "<Figure size 648x864 with 1 Axes>"
      ]
     },
     "metadata": {
      "needs_background": "light"
     },
     "output_type": "display_data"
    }
   ],
   "source": [
    "ax = actual_data.pivot_table(index='platform', values=['na_sales', 'eu_sales', 'jp_sales'], aggfunc='sum') \\\n",
    ".plot(kind='bar', figsize=(9, 12), title='Распределение продаж по платформам в разных регионах');\n",
    "ax.set(xlabel='Название платформы', ylabel='Продажи игр');"
   ]
  },
  {
   "cell_type": "markdown",
   "metadata": {},
   "source": [
    "Европейские пользователи предпочитают играть на игровых консолях PS4, PS3 и XBox One. Они почти не играют в Nintendo и PSP."
   ]
  },
  {
   "cell_type": "markdown",
   "metadata": {},
   "source": [
    "Игроки из Северной Америки тоже предпочитают игровую консоль PS4, PS3, XBox One, XBox 360."
   ]
  },
  {
   "cell_type": "markdown",
   "metadata": {},
   "source": [
    "Японские пользователи почти не играют на компьютере и консолях XBox, зато больше остальных играют на приставке Nintendo 3DS и PlayStation Vita и PSP."
   ]
  },
  {
   "cell_type": "markdown",
   "metadata": {},
   "source": [
    "Короче, топ 5 для для:\n",
    "- Северной Америки: PS4, XBox One, XBox 360, PS3, Nintendo 3DS.\n",
    "- Европы: PS4, PS3, XBox One, XBox 360, Nintendo 3DS.\n",
    "- Японии: Nintendo 3DS, PS3, PSV, PS4, Nintendo Wii U."
   ]
  },
  {
   "cell_type": "markdown",
   "metadata": {},
   "source": [
    "#### Самые популярные жанры"
   ]
  },
  {
   "cell_type": "markdown",
   "metadata": {},
   "source": [
    "Оценим популярность жанров по регионам."
   ]
  },
  {
   "cell_type": "code",
   "execution_count": 75,
   "metadata": {},
   "outputs": [
    {
     "data": {
      "image/png": "[encoded data removed]",
      "text/plain": [
       "<Figure size 648x864 with 1 Axes>"
      ]
     },
     "metadata": {
      "needs_background": "light"
     },
     "output_type": "display_data"
    }
   ],
   "source": [
    "actual_data.pivot_table(index='genre', values=['na_sales', 'eu_sales', 'jp_sales'], aggfunc='sum') \\\n",
    ".plot(kind='bar', figsize=(9, 12), title='Распределение жанров в разных регионах');"
   ]
  },
  {
   "cell_type": "markdown",
   "metadata": {},
   "source": [
    "По данной диаграмме видно, что:\n",
    "- ролевые игры покупают почти одинаково во всех регоинах;\n",
    "- европейские и североамериканские игроки имеют схожие предпочтения;\n",
    "- японские игроки предпочитают в основном экшн и ролевые игры."
   ]
  },
  {
   "cell_type": "markdown",
   "metadata": {},
   "source": [
    "#### Влияет ли рейтинг ESRB на продажи в отдельном регионе?"
   ]
  },
  {
   "cell_type": "markdown",
   "metadata": {},
   "source": [
    "Оценим влияние возрастного рейтинга на продажи."
   ]
  },
  {
   "cell_type": "code",
   "execution_count": 76,
   "metadata": {},
   "outputs": [
    {
     "data": {
      "image/png": "[encoded data removed]",
      "text/plain": [
       "<Figure size 648x864 with 1 Axes>"
      ]
     },
     "metadata": {
      "needs_background": "light"
     },
     "output_type": "display_data"
    }
   ],
   "source": [
    "actual_data.pivot_table(index='rating', values=['na_sales', 'eu_sales', 'jp_sales'], aggfunc='sum') \\\n",
    ".plot(kind='bar', figsize=(9, 12), title='Распределение жанров в разных регионах');"
   ]
  },
  {
   "cell_type": "markdown",
   "metadata": {},
   "source": [
    "Нужно пояснить, что эти рейтинги значат:\n",
    "- E - игра для всех возрастов;\n",
    "- E10+ - игра для детей старше 10 лет;\n",
    "- EC - для детей младшего возраста;\n",
    "- K-A - для всех возрастов;\n",
    "- M - для возрастной категории старше 17 лет;\n",
    "- RP - рейтинг ожидается;\n",
    "- T - подросткам от 13 до 19 лет;\n",
    "- unknown - нет информации о рейтинге."
   ]
  },
  {
   "cell_type": "markdown",
   "metadata": {},
   "source": [
    "В Америке и Европе чаще всего играют в игры категории `M` старше 17 лет и в остальных рейтингах показывают схожее предпочтение. Японские игроки в большинстве своем играют в игры с неизвестным рейтингом."
   ]
  },
  {
   "cell_type": "markdown",
   "metadata": {},
   "source": [
    "### Проверка гипотез"
   ]
  },
  {
   "cell_type": "markdown",
   "metadata": {},
   "source": [
    "#### Средние пользовательские рейтинги платформ XBox One и PC одинаковые?"
   ]
  },
  {
   "cell_type": "markdown",
   "metadata": {},
   "source": [
    "Проверим двустороннюю гипотезу.\n",
    "- Нулевая гипотеза: средние пользовательские рейтинги платформ XBox One и PC одинаковые.\n",
    "- Альтернативная гипотеза: средние пользовательские рейтинги платформ XBox One и PC неодинаковые."
   ]
  },
  {
   "cell_type": "code",
   "execution_count": 77,
   "metadata": {},
   "outputs": [
    {
     "name": "stdout",
     "output_type": "stream",
     "text": [
      "p-значение: 0.20111399900783597\n",
      "Не отвергаем нулевую гипотезу\n"
     ]
    }
   ],
   "source": [
    "from scipy import stats as st # импортируем библиотеку stats\n",
    "\n",
    "xbox_one_user_scores = actual_data.query('platform == \"XOne\"')['user_score']\n",
    "pc_user_scores = actual_data.query('platform == \"PC\"')['user_score']\n",
    "\n",
    "alpha = 0.05 # уровень статистической значимости\n",
    "\n",
    "results = st.ttest_ind(\n",
    "    xbox_one_user_scores, \n",
    "    pc_user_scores)\n",
    "\n",
    "print('p-значение:', results.pvalue)\n",
    "\n",
    "if (results.pvalue < alpha):\n",
    "    print('Отвергаем нулевую гипотезу')\n",
    "else:\n",
    "    print('Не отвергаем нулевую гипотезу') "
   ]
  },
  {
   "cell_type": "markdown",
   "metadata": {},
   "source": [
    "**`Нулевая гипотеза не отвергнута, нет оснований утверждать, что пользовательские оценки платформ XBox One и PC разные.`**"
   ]
  },
  {
   "cell_type": "markdown",
   "metadata": {},
   "source": [
    "#### Средние пользовательские рейтинги жанров Action (англ. «действие», экшен-игры) и Sports (англ. «спортивные соревнования») разные?"
   ]
  },
  {
   "cell_type": "markdown",
   "metadata": {},
   "source": [
    "Проверим двустороннюю гипотезу.\n",
    "- Нулевая гипотеза: средние пользовательские рейтинги жанров Action и Sports одинаковые.\n",
    "- Альтернативная гипотеза: средние пользовательские рейтинги жанров Action и Sports неодинаковые."
   ]
  },
  {
   "cell_type": "code",
   "execution_count": 78,
   "metadata": {},
   "outputs": [
    {
     "name": "stdout",
     "output_type": "stream",
     "text": [
      "p-значение: 0.02193663336455412\n",
      "Отвергаем нулевую гипотезу\n"
     ]
    }
   ],
   "source": [
    "action_user_scores = actual_data.query('genre == \"Action\"')['user_score']\n",
    "sports_user_scores = actual_data.query('genre == \"Sports\"')['user_score']\n",
    "\n",
    "alpha = 0.05 # уровень статистической значимости\n",
    "\n",
    "results = st.ttest_ind(\n",
    "    action_user_scores, \n",
    "    sports_user_scores)\n",
    "\n",
    "print('p-значение:', results.pvalue)\n",
    "\n",
    "if (results.pvalue < alpha):\n",
    "    print('Отвергаем нулевую гипотезу')\n",
    "else:\n",
    "    print('Не отвергаем нулевую гипотезу') "
   ]
  },
  {
   "cell_type": "markdown",
   "metadata": {},
   "source": [
    "**`Нулевая гипотеза отвергнута, нет оснований утверждать, что пользовательские рейтинги жанров Action и Sports одинаковы.`**"
   ]
  },
  {
   "cell_type": "markdown",
   "metadata": {},
   "source": [
    "### Общий вывод"
   ]
  },
  {
   "cell_type": "markdown",
   "metadata": {},
   "source": [
    "В данной работе рассматривался набор данных о продажах игр в разных уголках мира. В данных была представлена информация о названиях игр, годе выпуска, жанрах, игровой платформе, продажах в различных регионах мира, возрастном рейтинге."
   ]
  },
  {
   "cell_type": "markdown",
   "metadata": {},
   "source": [
    "Требовалось определить, какие закономерности определяют успешность игры."
   ]
  },
  {
   "cell_type": "markdown",
   "metadata": {},
   "source": [
    "Во время работы в датасете были приведены типы данных, заполнены пропуски, проверены дубликаты."
   ]
  },
  {
   "cell_type": "markdown",
   "metadata": {},
   "source": [
    "В исследовательском анализе были проверены некоторые закономерности:\n",
    "- в 2009 году было продано больше всего экземпляров игр, до этого года продажи росли, далее начали падать;\n",
    "- самые популярные игровые платформы принадлежат сериям \"PlayStation\", \"XBox\" и \"Nintendo\";\n",
    "- средний срок актуальности игровой платформы — 10 лет;\n",
    "- по состоянию на 2017 год, наиболее актуальные игровые платформы: \"Nintendo 3DS\", \"PS4\", \"XBox One\";\n",
    "- мнение критиков и игроков почти не влияет на продажи игр;\n",
    "- в среднем, чаще всего пользователи покупали игры жанров шутер и спорт;\n",
    "- жители Северной Америки и Европы имеют схожие предпочтения в играх;\n",
    "- американцы и европейцы чаще играют в экшн игры и шутеры;\n",
    "- ролевые игры имеют примерно одинаковое количество игроков с каждого региона;\n",
    "- в приставку Nintendo 3DS играют в основном японцы;\n",
    "- люди в основном играют в игры с рейтингом от 17 лет или \"для всех\"."
   ]
  },
  {
   "cell_type": "markdown",
   "metadata": {},
   "source": [
    "Проверены две гипотезы: \n",
    "- Средние пользовательские рейтинги платформ XBox One и PC одинаковые? — по, рейтинги не одинаковые.\n",
    "- Средние пользовательские рейтинги жанров Action (англ. «действие», экшен-игры) и Sports (англ. «спортивные соревнования») разные? — гипотеза подтверждена."
   ]
  },
  {
   "cell_type": "markdown",
   "metadata": {},
   "source": [
    "Учитывая проведенный анализ, рекомендуется следующее: наибольшую выручку принесет продажа игр на игровых платформах \"PS4\", \"XBox One\", также еще сохраняется спрос на игры для \"Nintendo 3DS\" в Японии. Наиболее предпочтительные жанры: экшн и шутер для европейских и североамериканских пользователей, ролевые игры — для всех регионов, но особенно для Японии. Возрастной рейтинг игр должен быть от 13 лет."
   ]
  }
 ],
 "metadata": {
  "ExecuteTimeLog": [
   {
    "duration": 403,
    "start_time": "2023-05-15T11:11:13.888Z"
   },
   {
    "duration": 89,
    "start_time": "2023-05-15T11:11:32.928Z"
   },
   {
    "duration": 28,
    "start_time": "2023-05-15T11:11:33.838Z"
   },
   {
    "duration": 9,
    "start_time": "2023-05-15T11:11:44.423Z"
   },
   {
    "duration": 51,
    "start_time": "2023-05-15T17:56:58.996Z"
   },
   {
    "duration": 458,
    "start_time": "2023-05-15T17:57:01.421Z"
   },
   {
    "duration": 108,
    "start_time": "2023-05-15T17:57:03.268Z"
   },
   {
    "duration": 14,
    "start_time": "2023-05-15T17:57:04.935Z"
   },
   {
    "duration": 23,
    "start_time": "2023-05-15T17:57:13.701Z"
   },
   {
    "duration": 3,
    "start_time": "2023-05-15T17:58:05.036Z"
   },
   {
    "duration": 29,
    "start_time": "2023-05-15T17:58:17.604Z"
   },
   {
    "duration": 5,
    "start_time": "2023-05-15T18:00:41.160Z"
   },
   {
    "duration": 9,
    "start_time": "2023-05-15T18:01:34.604Z"
   },
   {
    "duration": 8,
    "start_time": "2023-05-15T18:01:41.132Z"
   },
   {
    "duration": 8,
    "start_time": "2023-05-15T18:01:57.532Z"
   },
   {
    "duration": 310,
    "start_time": "2023-05-15T18:02:06.924Z"
   },
   {
    "duration": 110,
    "start_time": "2023-05-15T18:02:09.613Z"
   },
   {
    "duration": 14,
    "start_time": "2023-05-15T18:02:12.740Z"
   },
   {
    "duration": 9,
    "start_time": "2023-05-15T18:03:12.990Z"
   },
   {
    "duration": 4,
    "start_time": "2023-05-15T18:03:43.436Z"
   },
   {
    "duration": 4,
    "start_time": "2023-05-15T18:03:47.652Z"
   },
   {
    "duration": 5,
    "start_time": "2023-05-15T18:03:52.324Z"
   },
   {
    "duration": 205,
    "start_time": "2023-05-15T18:04:05.300Z"
   },
   {
    "duration": 59,
    "start_time": "2023-05-15T18:04:10.884Z"
   },
   {
    "duration": 4,
    "start_time": "2023-05-15T18:04:15.153Z"
   },
   {
    "duration": 4,
    "start_time": "2023-05-15T18:04:37.604Z"
   },
   {
    "duration": 24,
    "start_time": "2023-05-15T18:04:41.068Z"
   },
   {
    "duration": 7,
    "start_time": "2023-05-15T18:05:08.777Z"
   },
   {
    "duration": 8,
    "start_time": "2023-05-15T18:06:45.515Z"
   },
   {
    "duration": 5,
    "start_time": "2023-05-15T18:06:47.980Z"
   },
   {
    "duration": 6,
    "start_time": "2023-05-15T18:07:00.932Z"
   },
   {
    "duration": 6,
    "start_time": "2023-05-15T18:07:17.228Z"
   },
   {
    "duration": 7,
    "start_time": "2023-05-15T18:08:18.972Z"
   },
   {
    "duration": 14,
    "start_time": "2023-05-15T18:08:40.892Z"
   },
   {
    "duration": 5,
    "start_time": "2023-05-15T18:09:50.300Z"
   },
   {
    "duration": 8,
    "start_time": "2023-05-15T18:10:20.036Z"
   },
   {
    "duration": 6,
    "start_time": "2023-05-15T18:10:24.979Z"
   },
   {
    "duration": 23,
    "start_time": "2023-05-15T18:11:35.653Z"
   },
   {
    "duration": 14,
    "start_time": "2023-05-15T18:12:10.620Z"
   },
   {
    "duration": 27,
    "start_time": "2023-05-15T18:12:22.101Z"
   },
   {
    "duration": 12,
    "start_time": "2023-05-15T18:13:47.804Z"
   },
   {
    "duration": 7,
    "start_time": "2023-05-15T18:13:49.652Z"
   },
   {
    "duration": 28,
    "start_time": "2023-05-15T18:13:54.108Z"
   },
   {
    "duration": 396,
    "start_time": "2023-05-15T18:15:51.178Z"
   },
   {
    "duration": 79,
    "start_time": "2023-05-15T18:15:52.484Z"
   },
   {
    "duration": 15,
    "start_time": "2023-05-15T18:16:02.588Z"
   },
   {
    "duration": 68,
    "start_time": "2023-05-15T18:16:16.545Z"
   },
   {
    "duration": 24,
    "start_time": "2023-05-15T18:16:24.541Z"
   },
   {
    "duration": 11,
    "start_time": "2023-05-15T18:16:29.874Z"
   },
   {
    "duration": 10,
    "start_time": "2023-05-15T18:16:32.133Z"
   },
   {
    "duration": 5,
    "start_time": "2023-05-15T18:17:22.386Z"
   },
   {
    "duration": 116,
    "start_time": "2023-05-15T18:17:22.394Z"
   },
   {
    "duration": 37,
    "start_time": "2023-05-15T18:17:22.512Z"
   },
   {
    "duration": 136,
    "start_time": "2023-05-15T18:17:22.551Z"
   },
   {
    "duration": 44,
    "start_time": "2023-05-15T18:17:22.690Z"
   },
   {
    "duration": 35,
    "start_time": "2023-05-15T18:17:22.737Z"
   },
   {
    "duration": 10,
    "start_time": "2023-05-15T18:17:26.116Z"
   },
   {
    "duration": 27,
    "start_time": "2023-05-15T18:17:41.481Z"
   },
   {
    "duration": 5,
    "start_time": "2023-05-15T18:18:02.245Z"
   },
   {
    "duration": 3839,
    "start_time": "2023-05-15T18:18:40.740Z"
   },
   {
    "duration": 11,
    "start_time": "2023-05-15T18:19:06.106Z"
   },
   {
    "duration": 1204,
    "start_time": "2023-05-15T18:19:32.653Z"
   },
   {
    "duration": 1248,
    "start_time": "2023-05-15T18:19:38.790Z"
   },
   {
    "duration": 7,
    "start_time": "2023-05-15T18:19:45.716Z"
   },
   {
    "duration": 10,
    "start_time": "2023-05-15T18:19:51.188Z"
   },
   {
    "duration": 8,
    "start_time": "2023-05-15T18:19:58.813Z"
   },
   {
    "duration": 8,
    "start_time": "2023-05-15T18:20:51.785Z"
   },
   {
    "duration": 24,
    "start_time": "2023-05-15T18:20:57.733Z"
   },
   {
    "duration": 11,
    "start_time": "2023-05-15T18:32:31.766Z"
   },
   {
    "duration": 6,
    "start_time": "2023-05-15T18:32:34.064Z"
   },
   {
    "duration": 74,
    "start_time": "2023-05-15T18:32:50.467Z"
   },
   {
    "duration": 2,
    "start_time": "2023-05-15T18:44:35.656Z"
   },
   {
    "duration": 78,
    "start_time": "2023-05-15T18:44:35.660Z"
   },
   {
    "duration": 29,
    "start_time": "2023-05-15T18:44:39.650Z"
   },
   {
    "duration": 5,
    "start_time": "2023-05-15T18:49:37.395Z"
   },
   {
    "duration": 6,
    "start_time": "2023-05-15T18:50:05.091Z"
   },
   {
    "duration": 8,
    "start_time": "2023-05-15T18:50:50.891Z"
   },
   {
    "duration": 11,
    "start_time": "2023-05-15T18:52:46.406Z"
   },
   {
    "duration": 6,
    "start_time": "2023-05-15T18:53:01.251Z"
   },
   {
    "duration": 10,
    "start_time": "2023-05-15T18:53:57.596Z"
   },
   {
    "duration": 16,
    "start_time": "2023-05-15T18:55:13.835Z"
   },
   {
    "duration": 4,
    "start_time": "2023-05-15T18:55:49.003Z"
   },
   {
    "duration": 2593,
    "start_time": "2023-05-15T18:55:54.771Z"
   },
   {
    "duration": 1450,
    "start_time": "2023-05-15T18:56:05.514Z"
   },
   {
    "duration": 3,
    "start_time": "2023-05-15T18:56:11.412Z"
   },
   {
    "duration": 74,
    "start_time": "2023-05-15T18:56:11.417Z"
   },
   {
    "duration": 21,
    "start_time": "2023-05-15T18:56:11.493Z"
   },
   {
    "duration": 10,
    "start_time": "2023-05-15T18:56:11.515Z"
   },
   {
    "duration": 19,
    "start_time": "2023-05-15T18:56:11.527Z"
   },
   {
    "duration": 6,
    "start_time": "2023-05-15T18:56:11.548Z"
   },
   {
    "duration": 20,
    "start_time": "2023-05-15T18:56:11.556Z"
   },
   {
    "duration": 7,
    "start_time": "2023-05-15T18:56:11.578Z"
   },
   {
    "duration": 9,
    "start_time": "2023-05-15T18:56:11.586Z"
   },
   {
    "duration": 12,
    "start_time": "2023-05-15T18:56:13.858Z"
   },
   {
    "duration": 12,
    "start_time": "2023-05-15T18:56:25.675Z"
   },
   {
    "duration": 7,
    "start_time": "2023-05-15T18:56:57.643Z"
   },
   {
    "duration": 2,
    "start_time": "2023-05-15T18:57:03.000Z"
   },
   {
    "duration": 94,
    "start_time": "2023-05-15T18:57:03.004Z"
   },
   {
    "duration": 27,
    "start_time": "2023-05-15T18:57:03.100Z"
   },
   {
    "duration": 34,
    "start_time": "2023-05-15T18:57:03.129Z"
   },
   {
    "duration": 40,
    "start_time": "2023-05-15T18:57:03.165Z"
   },
   {
    "duration": 31,
    "start_time": "2023-05-15T18:57:03.207Z"
   },
   {
    "duration": 30,
    "start_time": "2023-05-15T18:57:03.240Z"
   },
   {
    "duration": 18,
    "start_time": "2023-05-15T18:57:03.272Z"
   },
   {
    "duration": 20,
    "start_time": "2023-05-15T18:57:03.292Z"
   },
   {
    "duration": 12,
    "start_time": "2023-05-15T18:57:11.298Z"
   },
   {
    "duration": 15,
    "start_time": "2023-05-15T18:57:18.450Z"
   },
   {
    "duration": 16,
    "start_time": "2023-05-15T18:58:26.541Z"
   },
   {
    "duration": 3,
    "start_time": "2023-05-15T18:58:30.311Z"
   },
   {
    "duration": 97,
    "start_time": "2023-05-15T18:58:30.317Z"
   },
   {
    "duration": 20,
    "start_time": "2023-05-15T18:58:30.416Z"
   },
   {
    "duration": 47,
    "start_time": "2023-05-15T18:58:30.438Z"
   },
   {
    "duration": 36,
    "start_time": "2023-05-15T18:58:30.488Z"
   },
   {
    "duration": 17,
    "start_time": "2023-05-15T18:58:30.526Z"
   },
   {
    "duration": 33,
    "start_time": "2023-05-15T18:58:30.545Z"
   },
   {
    "duration": 33,
    "start_time": "2023-05-15T18:58:30.579Z"
   },
   {
    "duration": 40,
    "start_time": "2023-05-15T18:58:30.613Z"
   },
   {
    "duration": 14,
    "start_time": "2023-05-15T18:58:32.274Z"
   },
   {
    "duration": 23,
    "start_time": "2023-05-15T18:59:05.118Z"
   },
   {
    "duration": 13,
    "start_time": "2023-05-15T19:00:21.075Z"
   },
   {
    "duration": 16,
    "start_time": "2023-05-15T19:03:59.227Z"
   },
   {
    "duration": 601,
    "start_time": "2023-05-15T19:04:08.962Z"
   },
   {
    "duration": 15,
    "start_time": "2023-05-15T19:04:22.627Z"
   },
   {
    "duration": 10,
    "start_time": "2023-05-15T19:04:34.177Z"
   },
   {
    "duration": 9,
    "start_time": "2023-05-15T19:06:26.691Z"
   },
   {
    "duration": 10,
    "start_time": "2023-05-15T19:08:06.483Z"
   },
   {
    "duration": 765,
    "start_time": "2023-05-15T19:08:31.371Z"
   },
   {
    "duration": 179,
    "start_time": "2023-05-15T19:08:49.923Z"
   },
   {
    "duration": 191,
    "start_time": "2023-05-15T19:09:53.723Z"
   },
   {
    "duration": 11,
    "start_time": "2023-05-15T19:11:29.938Z"
   },
   {
    "duration": 25,
    "start_time": "2023-05-15T19:12:17.763Z"
   },
   {
    "duration": 24,
    "start_time": "2023-05-15T19:12:52.690Z"
   },
   {
    "duration": 11,
    "start_time": "2023-05-15T19:13:28.123Z"
   },
   {
    "duration": 11,
    "start_time": "2023-05-15T19:13:35.041Z"
   },
   {
    "duration": 10,
    "start_time": "2023-05-15T19:13:47.803Z"
   },
   {
    "duration": 9,
    "start_time": "2023-05-15T19:14:28.639Z"
   },
   {
    "duration": 10,
    "start_time": "2023-05-15T19:14:43.733Z"
   },
   {
    "duration": 3,
    "start_time": "2023-05-15T19:15:01.364Z"
   },
   {
    "duration": 171,
    "start_time": "2023-05-15T19:15:01.369Z"
   },
   {
    "duration": 59,
    "start_time": "2023-05-15T19:15:01.541Z"
   },
   {
    "duration": 76,
    "start_time": "2023-05-15T19:15:01.602Z"
   },
   {
    "duration": 101,
    "start_time": "2023-05-15T19:15:01.679Z"
   },
   {
    "duration": 66,
    "start_time": "2023-05-15T19:15:01.782Z"
   },
   {
    "duration": 55,
    "start_time": "2023-05-15T19:15:01.851Z"
   },
   {
    "duration": 109,
    "start_time": "2023-05-15T19:15:01.909Z"
   },
   {
    "duration": 96,
    "start_time": "2023-05-15T19:15:02.021Z"
   },
   {
    "duration": 83,
    "start_time": "2023-05-15T19:15:02.122Z"
   },
   {
    "duration": 41,
    "start_time": "2023-05-15T19:15:02.207Z"
   },
   {
    "duration": 200,
    "start_time": "2023-05-15T19:15:02.250Z"
   },
   {
    "duration": 12,
    "start_time": "2023-05-15T19:15:07.946Z"
   },
   {
    "duration": 14,
    "start_time": "2023-05-15T19:15:15.882Z"
   },
   {
    "duration": 111,
    "start_time": "2023-05-15T19:21:55.850Z"
   },
   {
    "duration": 12,
    "start_time": "2023-05-15T19:22:22.627Z"
   },
   {
    "duration": 9,
    "start_time": "2023-05-15T19:22:53.202Z"
   },
   {
    "duration": 10,
    "start_time": "2023-05-15T19:23:02.729Z"
   },
   {
    "duration": 71,
    "start_time": "2023-05-15T19:23:41.189Z"
   },
   {
    "duration": 22,
    "start_time": "2023-05-15T19:24:13.635Z"
   },
   {
    "duration": 68,
    "start_time": "2023-05-15T19:24:38.025Z"
   },
   {
    "duration": 14,
    "start_time": "2023-05-15T19:25:14.523Z"
   },
   {
    "duration": 11,
    "start_time": "2023-05-15T19:25:26.433Z"
   },
   {
    "duration": 9,
    "start_time": "2023-05-15T19:25:43.940Z"
   },
   {
    "duration": 130,
    "start_time": "2023-05-15T19:25:49.602Z"
   },
   {
    "duration": 3,
    "start_time": "2023-05-15T19:28:36.100Z"
   },
   {
    "duration": 74,
    "start_time": "2023-05-15T19:28:36.105Z"
   },
   {
    "duration": 21,
    "start_time": "2023-05-15T19:28:36.181Z"
   },
   {
    "duration": 5,
    "start_time": "2023-05-15T19:28:36.204Z"
   },
   {
    "duration": 8,
    "start_time": "2023-05-15T19:28:36.211Z"
   },
   {
    "duration": 32,
    "start_time": "2023-05-15T19:28:36.221Z"
   },
   {
    "duration": 15,
    "start_time": "2023-05-15T19:28:36.255Z"
   },
   {
    "duration": 18,
    "start_time": "2023-05-15T19:28:36.272Z"
   },
   {
    "duration": 14,
    "start_time": "2023-05-15T19:28:36.292Z"
   },
   {
    "duration": 37,
    "start_time": "2023-05-15T19:28:36.308Z"
   },
   {
    "duration": 13,
    "start_time": "2023-05-15T19:28:39.121Z"
   },
   {
    "duration": 55,
    "start_time": "2023-05-15T19:44:52.207Z"
   },
   {
    "duration": 3,
    "start_time": "2023-05-15T19:45:14.627Z"
   },
   {
    "duration": 64,
    "start_time": "2023-05-15T19:45:21.966Z"
   },
   {
    "duration": 67,
    "start_time": "2023-05-15T19:45:31.056Z"
   },
   {
    "duration": 64,
    "start_time": "2023-05-15T19:46:40.757Z"
   },
   {
    "duration": 89,
    "start_time": "2023-05-16T09:41:22.288Z"
   },
   {
    "duration": 402,
    "start_time": "2023-05-16T09:41:26.453Z"
   },
   {
    "duration": 518,
    "start_time": "2023-05-16T09:41:26.857Z"
   },
   {
    "duration": 23,
    "start_time": "2023-05-16T09:41:27.377Z"
   },
   {
    "duration": 6,
    "start_time": "2023-05-16T09:41:27.401Z"
   },
   {
    "duration": 25,
    "start_time": "2023-05-16T09:41:27.410Z"
   },
   {
    "duration": 11,
    "start_time": "2023-05-16T09:41:27.437Z"
   },
   {
    "duration": 18,
    "start_time": "2023-05-16T09:41:27.450Z"
   },
   {
    "duration": 11,
    "start_time": "2023-05-16T09:41:27.469Z"
   },
   {
    "duration": 9,
    "start_time": "2023-05-16T09:41:27.482Z"
   },
   {
    "duration": 50,
    "start_time": "2023-05-16T09:41:27.493Z"
   },
   {
    "duration": 17,
    "start_time": "2023-05-16T09:41:27.544Z"
   },
   {
    "duration": 15,
    "start_time": "2023-05-16T09:41:29.084Z"
   },
   {
    "duration": 685,
    "start_time": "2023-05-16T09:42:03.499Z"
   },
   {
    "duration": 212,
    "start_time": "2023-05-16T09:42:13.884Z"
   },
   {
    "duration": 28,
    "start_time": "2023-05-16T09:44:11.220Z"
   },
   {
    "duration": 12,
    "start_time": "2023-05-16T09:45:58.284Z"
   },
   {
    "duration": 19,
    "start_time": "2023-05-16T09:46:09.651Z"
   },
   {
    "duration": 15,
    "start_time": "2023-05-16T09:46:15.821Z"
   },
   {
    "duration": 16,
    "start_time": "2023-05-16T09:46:18.858Z"
   },
   {
    "duration": 24,
    "start_time": "2023-05-16T09:53:05.778Z"
   },
   {
    "duration": 36,
    "start_time": "2023-05-16T09:55:02.791Z"
   },
   {
    "duration": 3,
    "start_time": "2023-05-16T09:55:09.394Z"
   },
   {
    "duration": 88,
    "start_time": "2023-05-16T09:55:09.399Z"
   },
   {
    "duration": 34,
    "start_time": "2023-05-16T09:55:09.489Z"
   },
   {
    "duration": 12,
    "start_time": "2023-05-16T09:55:09.525Z"
   },
   {
    "duration": 6,
    "start_time": "2023-05-16T09:55:09.540Z"
   },
   {
    "duration": 13,
    "start_time": "2023-05-16T09:55:09.548Z"
   },
   {
    "duration": 10,
    "start_time": "2023-05-16T09:55:09.563Z"
   },
   {
    "duration": 8,
    "start_time": "2023-05-16T09:55:09.574Z"
   },
   {
    "duration": 9,
    "start_time": "2023-05-16T09:55:09.583Z"
   },
   {
    "duration": 39,
    "start_time": "2023-05-16T09:55:09.593Z"
   },
   {
    "duration": 18,
    "start_time": "2023-05-16T09:55:09.635Z"
   },
   {
    "duration": 20,
    "start_time": "2023-05-16T09:55:09.654Z"
   },
   {
    "duration": 41,
    "start_time": "2023-05-16T09:55:12.233Z"
   },
   {
    "duration": 17,
    "start_time": "2023-05-16T09:55:29.645Z"
   },
   {
    "duration": 12,
    "start_time": "2023-05-16T09:55:44.544Z"
   },
   {
    "duration": 169,
    "start_time": "2023-05-16T09:56:35.284Z"
   },
   {
    "duration": 182,
    "start_time": "2023-05-16T09:56:55.658Z"
   },
   {
    "duration": 299,
    "start_time": "2023-05-16T10:09:19.384Z"
   },
   {
    "duration": 42,
    "start_time": "2023-05-16T10:12:46.989Z"
   },
   {
    "duration": 9,
    "start_time": "2023-05-16T10:13:17.351Z"
   },
   {
    "duration": 18,
    "start_time": "2023-05-16T10:13:32.808Z"
   },
   {
    "duration": 10,
    "start_time": "2023-05-16T10:13:35.550Z"
   },
   {
    "duration": 1478,
    "start_time": "2023-05-16T10:15:01.933Z"
   },
   {
    "duration": 32,
    "start_time": "2023-05-16T10:15:19.295Z"
   },
   {
    "duration": 14,
    "start_time": "2023-05-16T10:15:23.483Z"
   },
   {
    "duration": 18,
    "start_time": "2023-05-16T10:15:54.488Z"
   },
   {
    "duration": 50,
    "start_time": "2023-05-16T10:16:07.226Z"
   },
   {
    "duration": 3,
    "start_time": "2023-05-16T10:29:59.788Z"
   },
   {
    "duration": 93,
    "start_time": "2023-05-16T10:29:59.792Z"
   },
   {
    "duration": 17,
    "start_time": "2023-05-16T10:29:59.887Z"
   },
   {
    "duration": 29,
    "start_time": "2023-05-16T10:29:59.905Z"
   },
   {
    "duration": 7,
    "start_time": "2023-05-16T10:29:59.937Z"
   },
   {
    "duration": 19,
    "start_time": "2023-05-16T10:29:59.946Z"
   },
   {
    "duration": 13,
    "start_time": "2023-05-16T10:29:59.967Z"
   },
   {
    "duration": 9,
    "start_time": "2023-05-16T10:29:59.982Z"
   },
   {
    "duration": 41,
    "start_time": "2023-05-16T10:29:59.993Z"
   },
   {
    "duration": 32,
    "start_time": "2023-05-16T10:30:00.039Z"
   },
   {
    "duration": 15,
    "start_time": "2023-05-16T10:30:00.074Z"
   },
   {
    "duration": 44,
    "start_time": "2023-05-16T10:30:00.091Z"
   },
   {
    "duration": 53,
    "start_time": "2023-05-16T10:30:15.121Z"
   },
   {
    "duration": 8,
    "start_time": "2023-05-16T10:30:38.487Z"
   },
   {
    "duration": 37,
    "start_time": "2023-05-16T10:30:55.852Z"
   },
   {
    "duration": 67,
    "start_time": "2023-05-16T10:32:22.503Z"
   },
   {
    "duration": 25,
    "start_time": "2023-05-16T10:32:47.003Z"
   },
   {
    "duration": 94,
    "start_time": "2023-05-16T10:34:26.647Z"
   },
   {
    "duration": 12,
    "start_time": "2023-05-16T10:34:30.828Z"
   },
   {
    "duration": 7,
    "start_time": "2023-05-16T10:35:35.993Z"
   },
   {
    "duration": 12,
    "start_time": "2023-05-16T10:35:49.247Z"
   },
   {
    "duration": 27,
    "start_time": "2023-05-16T10:36:41.066Z"
   },
   {
    "duration": 9,
    "start_time": "2023-05-16T10:36:55.350Z"
   },
   {
    "duration": 26,
    "start_time": "2023-05-16T10:37:20.734Z"
   },
   {
    "duration": 23,
    "start_time": "2023-05-16T10:39:48.824Z"
   },
   {
    "duration": 20,
    "start_time": "2023-05-16T10:40:15.522Z"
   },
   {
    "duration": 17,
    "start_time": "2023-05-16T10:40:51.582Z"
   },
   {
    "duration": 90,
    "start_time": "2023-05-16T10:43:15.952Z"
   },
   {
    "duration": 13,
    "start_time": "2023-05-16T10:43:18.426Z"
   },
   {
    "duration": 10,
    "start_time": "2023-05-16T10:44:03.404Z"
   },
   {
    "duration": 22,
    "start_time": "2023-05-16T10:44:07.945Z"
   },
   {
    "duration": 10,
    "start_time": "2023-05-16T10:44:20.946Z"
   },
   {
    "duration": 2,
    "start_time": "2023-05-16T10:44:28.180Z"
   },
   {
    "duration": 101,
    "start_time": "2023-05-16T10:44:28.184Z"
   },
   {
    "duration": 17,
    "start_time": "2023-05-16T10:44:28.287Z"
   },
   {
    "duration": 21,
    "start_time": "2023-05-16T10:44:28.314Z"
   },
   {
    "duration": 5,
    "start_time": "2023-05-16T10:44:28.341Z"
   },
   {
    "duration": 7,
    "start_time": "2023-05-16T10:44:28.349Z"
   },
   {
    "duration": 9,
    "start_time": "2023-05-16T10:44:28.357Z"
   },
   {
    "duration": 8,
    "start_time": "2023-05-16T10:44:28.367Z"
   },
   {
    "duration": 7,
    "start_time": "2023-05-16T10:44:28.376Z"
   },
   {
    "duration": 11,
    "start_time": "2023-05-16T10:44:28.385Z"
   },
   {
    "duration": 17,
    "start_time": "2023-05-16T10:44:28.398Z"
   },
   {
    "duration": 25,
    "start_time": "2023-05-16T10:44:28.417Z"
   },
   {
    "duration": 25,
    "start_time": "2023-05-16T10:44:28.444Z"
   },
   {
    "duration": 8,
    "start_time": "2023-05-16T10:44:28.471Z"
   },
   {
    "duration": 11,
    "start_time": "2023-05-16T10:44:31.795Z"
   },
   {
    "duration": 12,
    "start_time": "2023-05-16T10:44:52.254Z"
   },
   {
    "duration": 13,
    "start_time": "2023-05-16T10:44:56.851Z"
   },
   {
    "duration": 5,
    "start_time": "2023-05-16T10:45:03.978Z"
   },
   {
    "duration": 21,
    "start_time": "2023-05-16T10:45:06.605Z"
   },
   {
    "duration": 32,
    "start_time": "2023-05-16T10:45:22.202Z"
   },
   {
    "duration": 36,
    "start_time": "2023-05-16T10:47:24.749Z"
   },
   {
    "duration": 25,
    "start_time": "2023-05-16T10:47:36.402Z"
   },
   {
    "duration": 5,
    "start_time": "2023-05-16T10:47:41.458Z"
   },
   {
    "duration": 86,
    "start_time": "2023-05-16T10:47:41.465Z"
   },
   {
    "duration": 20,
    "start_time": "2023-05-16T10:47:41.555Z"
   },
   {
    "duration": 7,
    "start_time": "2023-05-16T10:47:41.579Z"
   },
   {
    "duration": 23,
    "start_time": "2023-05-16T10:47:41.588Z"
   },
   {
    "duration": 19,
    "start_time": "2023-05-16T10:47:41.617Z"
   },
   {
    "duration": 13,
    "start_time": "2023-05-16T10:47:41.641Z"
   },
   {
    "duration": 7,
    "start_time": "2023-05-16T10:47:41.656Z"
   },
   {
    "duration": 12,
    "start_time": "2023-05-16T10:47:41.664Z"
   },
   {
    "duration": 13,
    "start_time": "2023-05-16T10:47:41.678Z"
   },
   {
    "duration": 34,
    "start_time": "2023-05-16T10:47:41.693Z"
   },
   {
    "duration": 17,
    "start_time": "2023-05-16T10:47:41.737Z"
   },
   {
    "duration": 18,
    "start_time": "2023-05-16T10:47:43.656Z"
   },
   {
    "duration": 16,
    "start_time": "2023-05-16T10:48:29.222Z"
   },
   {
    "duration": 15,
    "start_time": "2023-05-16T10:48:45.654Z"
   },
   {
    "duration": 2,
    "start_time": "2023-05-16T10:48:53.550Z"
   },
   {
    "duration": 75,
    "start_time": "2023-05-16T10:48:53.554Z"
   },
   {
    "duration": 22,
    "start_time": "2023-05-16T10:48:53.632Z"
   },
   {
    "duration": 5,
    "start_time": "2023-05-16T10:48:53.655Z"
   },
   {
    "duration": 27,
    "start_time": "2023-05-16T10:48:53.662Z"
   },
   {
    "duration": 7,
    "start_time": "2023-05-16T10:48:53.690Z"
   },
   {
    "duration": 33,
    "start_time": "2023-05-16T10:48:53.699Z"
   },
   {
    "duration": 6,
    "start_time": "2023-05-16T10:48:53.734Z"
   },
   {
    "duration": 7,
    "start_time": "2023-05-16T10:48:53.742Z"
   },
   {
    "duration": 13,
    "start_time": "2023-05-16T10:48:53.751Z"
   },
   {
    "duration": 10,
    "start_time": "2023-05-16T10:48:53.766Z"
   },
   {
    "duration": 15,
    "start_time": "2023-05-16T10:48:53.778Z"
   },
   {
    "duration": 27,
    "start_time": "2023-05-16T10:48:53.806Z"
   },
   {
    "duration": 8,
    "start_time": "2023-05-16T10:48:53.836Z"
   },
   {
    "duration": 16,
    "start_time": "2023-05-16T10:48:53.845Z"
   },
   {
    "duration": 22,
    "start_time": "2023-05-16T10:48:55.102Z"
   },
   {
    "duration": 118,
    "start_time": "2023-05-16T10:50:38.846Z"
   },
   {
    "duration": 110,
    "start_time": "2023-05-16T10:50:41.454Z"
   },
   {
    "duration": 120,
    "start_time": "2023-05-16T10:50:48.201Z"
   },
   {
    "duration": 156,
    "start_time": "2023-05-16T10:50:56.802Z"
   },
   {
    "duration": 3,
    "start_time": "2023-05-16T10:51:10.475Z"
   },
   {
    "duration": 85,
    "start_time": "2023-05-16T10:51:10.480Z"
   },
   {
    "duration": 17,
    "start_time": "2023-05-16T10:51:10.566Z"
   },
   {
    "duration": 4,
    "start_time": "2023-05-16T10:51:10.585Z"
   },
   {
    "duration": 7,
    "start_time": "2023-05-16T10:51:10.592Z"
   },
   {
    "duration": 25,
    "start_time": "2023-05-16T10:51:10.600Z"
   },
   {
    "duration": 15,
    "start_time": "2023-05-16T10:51:10.630Z"
   },
   {
    "duration": 6,
    "start_time": "2023-05-16T10:51:10.647Z"
   },
   {
    "duration": 10,
    "start_time": "2023-05-16T10:51:10.654Z"
   },
   {
    "duration": 13,
    "start_time": "2023-05-16T10:51:10.665Z"
   },
   {
    "duration": 10,
    "start_time": "2023-05-16T10:51:10.679Z"
   },
   {
    "duration": 38,
    "start_time": "2023-05-16T10:51:10.690Z"
   },
   {
    "duration": 23,
    "start_time": "2023-05-16T10:51:10.731Z"
   },
   {
    "duration": 12,
    "start_time": "2023-05-16T10:51:10.757Z"
   },
   {
    "duration": 148,
    "start_time": "2023-05-16T10:51:10.771Z"
   },
   {
    "duration": 133,
    "start_time": "2023-05-16T10:51:12.054Z"
   },
   {
    "duration": 13,
    "start_time": "2023-05-16T10:54:15.602Z"
   },
   {
    "duration": 3,
    "start_time": "2023-05-16T10:54:31.266Z"
   },
   {
    "duration": 150,
    "start_time": "2023-05-16T10:54:31.271Z"
   },
   {
    "duration": 25,
    "start_time": "2023-05-16T10:54:31.425Z"
   },
   {
    "duration": 8,
    "start_time": "2023-05-16T10:54:31.453Z"
   },
   {
    "duration": 22,
    "start_time": "2023-05-16T10:54:31.463Z"
   },
   {
    "duration": 60,
    "start_time": "2023-05-16T10:54:31.487Z"
   },
   {
    "duration": 40,
    "start_time": "2023-05-16T10:54:31.549Z"
   },
   {
    "duration": 51,
    "start_time": "2023-05-16T10:54:31.590Z"
   },
   {
    "duration": 51,
    "start_time": "2023-05-16T10:54:31.643Z"
   },
   {
    "duration": 56,
    "start_time": "2023-05-16T10:54:31.696Z"
   },
   {
    "duration": 20,
    "start_time": "2023-05-16T10:54:31.755Z"
   },
   {
    "duration": 26,
    "start_time": "2023-05-16T10:54:31.777Z"
   },
   {
    "duration": 50,
    "start_time": "2023-05-16T10:54:31.805Z"
   },
   {
    "duration": 40,
    "start_time": "2023-05-16T10:54:31.859Z"
   },
   {
    "duration": 28,
    "start_time": "2023-05-16T10:54:31.901Z"
   },
   {
    "duration": 211,
    "start_time": "2023-05-16T10:54:31.931Z"
   },
   {
    "duration": 142,
    "start_time": "2023-05-16T10:54:32.144Z"
   },
   {
    "duration": 7,
    "start_time": "2023-05-16T10:54:33.553Z"
   },
   {
    "duration": 11,
    "start_time": "2023-05-16T10:55:31.132Z"
   },
   {
    "duration": 11,
    "start_time": "2023-05-16T10:55:41.824Z"
   },
   {
    "duration": 3,
    "start_time": "2023-05-16T10:55:48.855Z"
   },
   {
    "duration": 93,
    "start_time": "2023-05-16T10:55:48.860Z"
   },
   {
    "duration": 21,
    "start_time": "2023-05-16T10:55:48.957Z"
   },
   {
    "duration": 5,
    "start_time": "2023-05-16T10:55:48.980Z"
   },
   {
    "duration": 19,
    "start_time": "2023-05-16T10:55:48.987Z"
   },
   {
    "duration": 35,
    "start_time": "2023-05-16T10:55:49.008Z"
   },
   {
    "duration": 28,
    "start_time": "2023-05-16T10:55:49.045Z"
   },
   {
    "duration": 22,
    "start_time": "2023-05-16T10:55:49.075Z"
   },
   {
    "duration": 16,
    "start_time": "2023-05-16T10:55:49.099Z"
   },
   {
    "duration": 17,
    "start_time": "2023-05-16T10:55:49.117Z"
   },
   {
    "duration": 21,
    "start_time": "2023-05-16T10:55:49.136Z"
   },
   {
    "duration": 16,
    "start_time": "2023-05-16T10:55:49.159Z"
   },
   {
    "duration": 38,
    "start_time": "2023-05-16T10:55:49.177Z"
   },
   {
    "duration": 21,
    "start_time": "2023-05-16T10:55:49.223Z"
   },
   {
    "duration": 6,
    "start_time": "2023-05-16T10:55:49.246Z"
   },
   {
    "duration": 148,
    "start_time": "2023-05-16T10:55:49.253Z"
   },
   {
    "duration": 151,
    "start_time": "2023-05-16T10:55:49.403Z"
   },
   {
    "duration": 7,
    "start_time": "2023-05-16T10:55:50.746Z"
   },
   {
    "duration": 280,
    "start_time": "2023-05-16T10:57:20.159Z"
   },
   {
    "duration": 324,
    "start_time": "2023-05-16T10:57:26.702Z"
   },
   {
    "duration": 314,
    "start_time": "2023-05-16T10:57:30.874Z"
   },
   {
    "duration": 3,
    "start_time": "2023-05-16T10:58:11.856Z"
   },
   {
    "duration": 84,
    "start_time": "2023-05-16T10:58:11.861Z"
   },
   {
    "duration": 25,
    "start_time": "2023-05-16T10:58:11.947Z"
   },
   {
    "duration": 6,
    "start_time": "2023-05-16T10:58:11.974Z"
   },
   {
    "duration": 16,
    "start_time": "2023-05-16T10:58:11.983Z"
   },
   {
    "duration": 17,
    "start_time": "2023-05-16T10:58:12.001Z"
   },
   {
    "duration": 34,
    "start_time": "2023-05-16T10:58:12.020Z"
   },
   {
    "duration": 8,
    "start_time": "2023-05-16T10:58:12.059Z"
   },
   {
    "duration": 7,
    "start_time": "2023-05-16T10:58:12.069Z"
   },
   {
    "duration": 12,
    "start_time": "2023-05-16T10:58:12.078Z"
   },
   {
    "duration": 22,
    "start_time": "2023-05-16T10:58:12.091Z"
   },
   {
    "duration": 40,
    "start_time": "2023-05-16T10:58:12.115Z"
   },
   {
    "duration": 20,
    "start_time": "2023-05-16T10:58:12.157Z"
   },
   {
    "duration": 9,
    "start_time": "2023-05-16T10:58:12.179Z"
   },
   {
    "duration": 6,
    "start_time": "2023-05-16T10:58:12.189Z"
   },
   {
    "duration": 282,
    "start_time": "2023-05-16T10:58:12.196Z"
   },
   {
    "duration": 333,
    "start_time": "2023-05-16T10:58:12.479Z"
   },
   {
    "duration": 6,
    "start_time": "2023-05-16T10:58:12.816Z"
   },
   {
    "duration": 117,
    "start_time": "2023-05-16T10:59:01.882Z"
   },
   {
    "duration": 363,
    "start_time": "2023-05-16T10:59:09.484Z"
   },
   {
    "duration": 3,
    "start_time": "2023-05-16T10:59:13.597Z"
   },
   {
    "duration": 99,
    "start_time": "2023-05-16T10:59:13.602Z"
   },
   {
    "duration": 56,
    "start_time": "2023-05-16T10:59:13.703Z"
   },
   {
    "duration": 5,
    "start_time": "2023-05-16T10:59:13.762Z"
   },
   {
    "duration": 19,
    "start_time": "2023-05-16T10:59:13.769Z"
   },
   {
    "duration": 8,
    "start_time": "2023-05-16T10:59:13.789Z"
   },
   {
    "duration": 21,
    "start_time": "2023-05-16T10:59:13.798Z"
   },
   {
    "duration": 23,
    "start_time": "2023-05-16T10:59:13.821Z"
   },
   {
    "duration": 22,
    "start_time": "2023-05-16T10:59:13.846Z"
   },
   {
    "duration": 14,
    "start_time": "2023-05-16T10:59:13.869Z"
   },
   {
    "duration": 11,
    "start_time": "2023-05-16T10:59:13.884Z"
   },
   {
    "duration": 138,
    "start_time": "2023-05-16T10:59:13.897Z"
   },
   {
    "duration": 30,
    "start_time": "2023-05-16T10:59:14.039Z"
   },
   {
    "duration": 12,
    "start_time": "2023-05-16T10:59:14.070Z"
   },
   {
    "duration": 12,
    "start_time": "2023-05-16T10:59:14.083Z"
   },
   {
    "duration": 291,
    "start_time": "2023-05-16T10:59:14.096Z"
   },
   {
    "duration": 304,
    "start_time": "2023-05-16T10:59:14.390Z"
   },
   {
    "duration": 6,
    "start_time": "2023-05-16T10:59:14.695Z"
   },
   {
    "duration": 18,
    "start_time": "2023-05-16T11:04:18.652Z"
   },
   {
    "duration": 28,
    "start_time": "2023-05-16T11:04:41.525Z"
   },
   {
    "duration": 2,
    "start_time": "2023-05-16T11:07:28.888Z"
   },
   {
    "duration": 92,
    "start_time": "2023-05-16T11:07:28.893Z"
   },
   {
    "duration": 33,
    "start_time": "2023-05-16T11:07:28.987Z"
   },
   {
    "duration": 6,
    "start_time": "2023-05-16T11:07:29.033Z"
   },
   {
    "duration": 7,
    "start_time": "2023-05-16T11:07:29.041Z"
   },
   {
    "duration": 8,
    "start_time": "2023-05-16T11:07:29.050Z"
   },
   {
    "duration": 10,
    "start_time": "2023-05-16T11:07:29.059Z"
   },
   {
    "duration": 6,
    "start_time": "2023-05-16T11:07:29.071Z"
   },
   {
    "duration": 8,
    "start_time": "2023-05-16T11:07:29.078Z"
   },
   {
    "duration": 23,
    "start_time": "2023-05-16T11:07:29.108Z"
   },
   {
    "duration": 20,
    "start_time": "2023-05-16T11:07:29.133Z"
   },
   {
    "duration": 13,
    "start_time": "2023-05-16T11:07:29.155Z"
   },
   {
    "duration": 41,
    "start_time": "2023-05-16T11:07:29.169Z"
   },
   {
    "duration": 18,
    "start_time": "2023-05-16T11:07:29.213Z"
   },
   {
    "duration": 271,
    "start_time": "2023-05-16T11:07:29.233Z"
   },
   {
    "duration": 274,
    "start_time": "2023-05-16T11:07:29.506Z"
   },
   {
    "duration": 8,
    "start_time": "2023-05-16T11:09:07.994Z"
   },
   {
    "duration": 37,
    "start_time": "2023-05-16T11:09:13.668Z"
   },
   {
    "duration": 3,
    "start_time": "2023-05-16T11:17:11.733Z"
   },
   {
    "duration": 75,
    "start_time": "2023-05-16T11:17:11.738Z"
   },
   {
    "duration": 25,
    "start_time": "2023-05-16T11:17:11.820Z"
   },
   {
    "duration": 5,
    "start_time": "2023-05-16T11:17:11.846Z"
   },
   {
    "duration": 15,
    "start_time": "2023-05-16T11:17:11.854Z"
   },
   {
    "duration": 27,
    "start_time": "2023-05-16T11:17:11.871Z"
   },
   {
    "duration": 11,
    "start_time": "2023-05-16T11:17:11.900Z"
   },
   {
    "duration": 20,
    "start_time": "2023-05-16T11:17:11.913Z"
   },
   {
    "duration": 12,
    "start_time": "2023-05-16T11:17:11.935Z"
   },
   {
    "duration": 16,
    "start_time": "2023-05-16T11:17:11.949Z"
   },
   {
    "duration": 17,
    "start_time": "2023-05-16T11:17:11.967Z"
   },
   {
    "duration": 28,
    "start_time": "2023-05-16T11:17:11.985Z"
   },
   {
    "duration": 37,
    "start_time": "2023-05-16T11:17:12.019Z"
   },
   {
    "duration": 0,
    "start_time": "2023-05-16T11:17:12.057Z"
   },
   {
    "duration": 0,
    "start_time": "2023-05-16T11:17:12.058Z"
   },
   {
    "duration": 0,
    "start_time": "2023-05-16T11:17:12.059Z"
   },
   {
    "duration": 2,
    "start_time": "2023-05-16T11:17:40.161Z"
   },
   {
    "duration": 115,
    "start_time": "2023-05-16T11:17:40.165Z"
   },
   {
    "duration": 18,
    "start_time": "2023-05-16T11:17:40.281Z"
   },
   {
    "duration": 52,
    "start_time": "2023-05-16T11:17:40.300Z"
   },
   {
    "duration": 8,
    "start_time": "2023-05-16T11:17:40.355Z"
   },
   {
    "duration": 7,
    "start_time": "2023-05-16T11:17:40.364Z"
   },
   {
    "duration": 9,
    "start_time": "2023-05-16T11:17:40.372Z"
   },
   {
    "duration": 12,
    "start_time": "2023-05-16T11:17:40.383Z"
   },
   {
    "duration": 7,
    "start_time": "2023-05-16T11:17:40.397Z"
   },
   {
    "duration": 46,
    "start_time": "2023-05-16T11:17:40.405Z"
   },
   {
    "duration": 14,
    "start_time": "2023-05-16T11:17:40.453Z"
   },
   {
    "duration": 13,
    "start_time": "2023-05-16T11:17:40.469Z"
   },
   {
    "duration": 40,
    "start_time": "2023-05-16T11:17:40.483Z"
   },
   {
    "duration": 0,
    "start_time": "2023-05-16T11:17:40.533Z"
   },
   {
    "duration": 0,
    "start_time": "2023-05-16T11:17:40.539Z"
   },
   {
    "duration": 0,
    "start_time": "2023-05-16T11:17:40.545Z"
   },
   {
    "duration": 3,
    "start_time": "2023-05-16T11:17:55.956Z"
   },
   {
    "duration": 84,
    "start_time": "2023-05-16T11:17:55.961Z"
   },
   {
    "duration": 19,
    "start_time": "2023-05-16T11:17:56.047Z"
   },
   {
    "duration": 5,
    "start_time": "2023-05-16T11:17:56.067Z"
   },
   {
    "duration": 11,
    "start_time": "2023-05-16T11:17:56.074Z"
   },
   {
    "duration": 6,
    "start_time": "2023-05-16T11:17:56.087Z"
   },
   {
    "duration": 25,
    "start_time": "2023-05-16T11:17:56.094Z"
   },
   {
    "duration": 27,
    "start_time": "2023-05-16T11:17:56.120Z"
   },
   {
    "duration": 12,
    "start_time": "2023-05-16T11:17:56.148Z"
   },
   {
    "duration": 12,
    "start_time": "2023-05-16T11:17:56.162Z"
   },
   {
    "duration": 10,
    "start_time": "2023-05-16T11:17:56.176Z"
   },
   {
    "duration": 14,
    "start_time": "2023-05-16T11:17:56.187Z"
   },
   {
    "duration": 35,
    "start_time": "2023-05-16T11:17:56.202Z"
   },
   {
    "duration": 14,
    "start_time": "2023-05-16T11:17:56.241Z"
   },
   {
    "duration": 243,
    "start_time": "2023-05-16T11:17:56.257Z"
   },
   {
    "duration": 393,
    "start_time": "2023-05-16T11:17:56.501Z"
   },
   {
    "duration": 247,
    "start_time": "2023-05-16T11:19:17.692Z"
   },
   {
    "duration": 3,
    "start_time": "2023-05-16T11:19:22.301Z"
   },
   {
    "duration": 68,
    "start_time": "2023-05-16T11:19:22.305Z"
   },
   {
    "duration": 21,
    "start_time": "2023-05-16T11:19:22.375Z"
   },
   {
    "duration": 11,
    "start_time": "2023-05-16T11:19:22.398Z"
   },
   {
    "duration": 12,
    "start_time": "2023-05-16T11:19:22.411Z"
   },
   {
    "duration": 8,
    "start_time": "2023-05-16T11:19:22.425Z"
   },
   {
    "duration": 12,
    "start_time": "2023-05-16T11:19:22.434Z"
   },
   {
    "duration": 6,
    "start_time": "2023-05-16T11:19:22.448Z"
   },
   {
    "duration": 10,
    "start_time": "2023-05-16T11:19:22.456Z"
   },
   {
    "duration": 40,
    "start_time": "2023-05-16T11:19:22.468Z"
   },
   {
    "duration": 17,
    "start_time": "2023-05-16T11:19:22.512Z"
   },
   {
    "duration": 19,
    "start_time": "2023-05-16T11:19:22.531Z"
   },
   {
    "duration": 54,
    "start_time": "2023-05-16T11:19:22.553Z"
   },
   {
    "duration": 15,
    "start_time": "2023-05-16T11:19:22.610Z"
   },
   {
    "duration": 315,
    "start_time": "2023-05-16T11:19:22.627Z"
   },
   {
    "duration": 235,
    "start_time": "2023-05-16T11:19:22.944Z"
   },
   {
    "duration": 8,
    "start_time": "2023-05-16T11:20:12.534Z"
   },
   {
    "duration": 84,
    "start_time": "2023-05-16T11:20:12.545Z"
   },
   {
    "duration": 24,
    "start_time": "2023-05-16T11:20:12.631Z"
   },
   {
    "duration": 7,
    "start_time": "2023-05-16T11:20:12.656Z"
   },
   {
    "duration": 15,
    "start_time": "2023-05-16T11:20:12.666Z"
   },
   {
    "duration": 9,
    "start_time": "2023-05-16T11:20:12.683Z"
   },
   {
    "duration": 38,
    "start_time": "2023-05-16T11:20:12.693Z"
   },
   {
    "duration": 9,
    "start_time": "2023-05-16T11:20:12.738Z"
   },
   {
    "duration": 9,
    "start_time": "2023-05-16T11:20:12.749Z"
   },
   {
    "duration": 19,
    "start_time": "2023-05-16T11:20:12.760Z"
   },
   {
    "duration": 11,
    "start_time": "2023-05-16T11:20:12.780Z"
   },
   {
    "duration": 28,
    "start_time": "2023-05-16T11:20:12.793Z"
   },
   {
    "duration": 32,
    "start_time": "2023-05-16T11:20:12.825Z"
   },
   {
    "duration": 8,
    "start_time": "2023-05-16T11:20:12.860Z"
   },
   {
    "duration": 232,
    "start_time": "2023-05-16T11:20:12.870Z"
   },
   {
    "duration": 252,
    "start_time": "2023-05-16T11:20:13.109Z"
   },
   {
    "duration": 7,
    "start_time": "2023-05-16T11:20:35.528Z"
   },
   {
    "duration": 13,
    "start_time": "2023-05-16T11:21:04.704Z"
   },
   {
    "duration": 1520,
    "start_time": "2023-05-16T11:26:31.274Z"
   },
   {
    "duration": 2,
    "start_time": "2023-05-16T11:26:39.555Z"
   },
   {
    "duration": 73,
    "start_time": "2023-05-16T11:26:39.559Z"
   },
   {
    "duration": 26,
    "start_time": "2023-05-16T11:26:39.636Z"
   },
   {
    "duration": 5,
    "start_time": "2023-05-16T11:26:39.664Z"
   },
   {
    "duration": 5,
    "start_time": "2023-05-16T11:26:39.671Z"
   },
   {
    "duration": 5,
    "start_time": "2023-05-16T11:26:39.678Z"
   },
   {
    "duration": 32,
    "start_time": "2023-05-16T11:26:39.685Z"
   },
   {
    "duration": 8,
    "start_time": "2023-05-16T11:26:39.724Z"
   },
   {
    "duration": 10,
    "start_time": "2023-05-16T11:26:39.733Z"
   },
   {
    "duration": 99,
    "start_time": "2023-05-16T11:26:39.744Z"
   },
   {
    "duration": 11,
    "start_time": "2023-05-16T11:26:39.845Z"
   },
   {
    "duration": 12,
    "start_time": "2023-05-16T11:26:39.857Z"
   },
   {
    "duration": 0,
    "start_time": "2023-05-16T11:26:39.870Z"
   },
   {
    "duration": 0,
    "start_time": "2023-05-16T11:26:39.872Z"
   },
   {
    "duration": 0,
    "start_time": "2023-05-16T11:26:39.873Z"
   },
   {
    "duration": 0,
    "start_time": "2023-05-16T11:26:39.874Z"
   },
   {
    "duration": 2,
    "start_time": "2023-05-16T11:26:55.354Z"
   },
   {
    "duration": 73,
    "start_time": "2023-05-16T11:26:55.358Z"
   },
   {
    "duration": 18,
    "start_time": "2023-05-16T11:26:55.433Z"
   },
   {
    "duration": 4,
    "start_time": "2023-05-16T11:26:55.452Z"
   },
   {
    "duration": 5,
    "start_time": "2023-05-16T11:26:55.459Z"
   },
   {
    "duration": 7,
    "start_time": "2023-05-16T11:26:55.465Z"
   },
   {
    "duration": 9,
    "start_time": "2023-05-16T11:26:55.473Z"
   },
   {
    "duration": 9,
    "start_time": "2023-05-16T11:26:55.509Z"
   },
   {
    "duration": 16,
    "start_time": "2023-05-16T11:26:55.521Z"
   },
   {
    "duration": 13,
    "start_time": "2023-05-16T11:26:55.539Z"
   },
   {
    "duration": 9,
    "start_time": "2023-05-16T11:26:55.554Z"
   },
   {
    "duration": 24,
    "start_time": "2023-05-16T11:26:55.565Z"
   },
   {
    "duration": 37,
    "start_time": "2023-05-16T11:26:55.591Z"
   },
   {
    "duration": 14,
    "start_time": "2023-05-16T11:26:55.631Z"
   },
   {
    "duration": 248,
    "start_time": "2023-05-16T11:26:55.646Z"
   },
   {
    "duration": 263,
    "start_time": "2023-05-16T11:26:55.896Z"
   },
   {
    "duration": 7,
    "start_time": "2023-05-16T11:26:56.160Z"
   },
   {
    "duration": 28,
    "start_time": "2023-05-16T11:27:21.868Z"
   },
   {
    "duration": 32,
    "start_time": "2023-05-16T11:27:31.533Z"
   },
   {
    "duration": 41,
    "start_time": "2023-05-16T11:29:22.429Z"
   },
   {
    "duration": 3,
    "start_time": "2023-05-16T11:29:57.553Z"
   },
   {
    "duration": 73,
    "start_time": "2023-05-16T11:29:57.559Z"
   },
   {
    "duration": 20,
    "start_time": "2023-05-16T11:29:57.634Z"
   },
   {
    "duration": 7,
    "start_time": "2023-05-16T11:29:57.655Z"
   },
   {
    "duration": 6,
    "start_time": "2023-05-16T11:29:57.664Z"
   },
   {
    "duration": 6,
    "start_time": "2023-05-16T11:29:57.671Z"
   },
   {
    "duration": 34,
    "start_time": "2023-05-16T11:29:57.678Z"
   },
   {
    "duration": 10,
    "start_time": "2023-05-16T11:29:57.714Z"
   },
   {
    "duration": 7,
    "start_time": "2023-05-16T11:29:57.726Z"
   },
   {
    "duration": 13,
    "start_time": "2023-05-16T11:29:57.735Z"
   },
   {
    "duration": 12,
    "start_time": "2023-05-16T11:29:57.749Z"
   },
   {
    "duration": 71,
    "start_time": "2023-05-16T11:29:57.763Z"
   },
   {
    "duration": 29,
    "start_time": "2023-05-16T11:29:57.836Z"
   },
   {
    "duration": 14,
    "start_time": "2023-05-16T11:29:57.868Z"
   },
   {
    "duration": 260,
    "start_time": "2023-05-16T11:29:57.908Z"
   },
   {
    "duration": 24,
    "start_time": "2023-05-16T11:29:58.170Z"
   },
   {
    "duration": 2,
    "start_time": "2023-05-16T11:34:54.663Z"
   },
   {
    "duration": 79,
    "start_time": "2023-05-16T11:34:54.667Z"
   },
   {
    "duration": 18,
    "start_time": "2023-05-16T11:34:54.748Z"
   },
   {
    "duration": 13,
    "start_time": "2023-05-16T11:34:54.768Z"
   },
   {
    "duration": 12,
    "start_time": "2023-05-16T11:34:54.782Z"
   },
   {
    "duration": 15,
    "start_time": "2023-05-16T11:34:54.795Z"
   },
   {
    "duration": 14,
    "start_time": "2023-05-16T11:34:54.816Z"
   },
   {
    "duration": 6,
    "start_time": "2023-05-16T11:34:54.835Z"
   },
   {
    "duration": 8,
    "start_time": "2023-05-16T11:34:54.843Z"
   },
   {
    "duration": 18,
    "start_time": "2023-05-16T11:34:54.852Z"
   },
   {
    "duration": 12,
    "start_time": "2023-05-16T11:34:54.871Z"
   },
   {
    "duration": 55,
    "start_time": "2023-05-16T11:34:54.885Z"
   },
   {
    "duration": 19,
    "start_time": "2023-05-16T11:34:54.942Z"
   },
   {
    "duration": 10,
    "start_time": "2023-05-16T11:34:54.962Z"
   },
   {
    "duration": 264,
    "start_time": "2023-05-16T11:34:54.973Z"
   },
   {
    "duration": 22,
    "start_time": "2023-05-16T11:34:55.238Z"
   },
   {
    "duration": 267,
    "start_time": "2023-05-16T11:34:55.261Z"
   },
   {
    "duration": 18,
    "start_time": "2023-05-16T11:35:37.157Z"
   },
   {
    "duration": 17,
    "start_time": "2023-05-16T11:36:07.459Z"
   },
   {
    "duration": 4,
    "start_time": "2023-05-16T11:36:11.530Z"
   },
   {
    "duration": 68,
    "start_time": "2023-05-16T11:36:11.536Z"
   },
   {
    "duration": 28,
    "start_time": "2023-05-16T11:36:11.606Z"
   },
   {
    "duration": 7,
    "start_time": "2023-05-16T11:36:11.635Z"
   },
   {
    "duration": 5,
    "start_time": "2023-05-16T11:36:11.644Z"
   },
   {
    "duration": 11,
    "start_time": "2023-05-16T11:36:11.651Z"
   },
   {
    "duration": 10,
    "start_time": "2023-05-16T11:36:11.663Z"
   },
   {
    "duration": 13,
    "start_time": "2023-05-16T11:36:11.674Z"
   },
   {
    "duration": 40,
    "start_time": "2023-05-16T11:36:11.688Z"
   },
   {
    "duration": 11,
    "start_time": "2023-05-16T11:36:11.732Z"
   },
   {
    "duration": 9,
    "start_time": "2023-05-16T11:36:11.745Z"
   },
   {
    "duration": 26,
    "start_time": "2023-05-16T11:36:11.755Z"
   },
   {
    "duration": 17,
    "start_time": "2023-05-16T11:36:11.782Z"
   },
   {
    "duration": 8,
    "start_time": "2023-05-16T11:37:47.956Z"
   },
   {
    "duration": 12,
    "start_time": "2023-05-16T11:37:58.831Z"
   },
   {
    "duration": 7,
    "start_time": "2023-05-16T11:38:51.067Z"
   },
   {
    "duration": 2,
    "start_time": "2023-05-16T11:39:10.475Z"
   },
   {
    "duration": 94,
    "start_time": "2023-05-16T11:39:10.479Z"
   },
   {
    "duration": 17,
    "start_time": "2023-05-16T11:39:10.575Z"
   },
   {
    "duration": 21,
    "start_time": "2023-05-16T11:39:10.594Z"
   },
   {
    "duration": 15,
    "start_time": "2023-05-16T11:39:10.617Z"
   },
   {
    "duration": 28,
    "start_time": "2023-05-16T11:39:10.633Z"
   },
   {
    "duration": 20,
    "start_time": "2023-05-16T11:39:10.663Z"
   },
   {
    "duration": 5,
    "start_time": "2023-05-16T11:39:10.684Z"
   },
   {
    "duration": 24,
    "start_time": "2023-05-16T11:39:10.690Z"
   },
   {
    "duration": 27,
    "start_time": "2023-05-16T11:39:10.715Z"
   },
   {
    "duration": 16,
    "start_time": "2023-05-16T11:39:10.746Z"
   },
   {
    "duration": 27,
    "start_time": "2023-05-16T11:39:10.763Z"
   },
   {
    "duration": 19,
    "start_time": "2023-05-16T11:39:10.791Z"
   },
   {
    "duration": 9,
    "start_time": "2023-05-16T11:39:12.896Z"
   },
   {
    "duration": 28,
    "start_time": "2023-05-16T11:40:29.404Z"
   },
   {
    "duration": 28,
    "start_time": "2023-05-16T11:40:38.967Z"
   },
   {
    "duration": 2,
    "start_time": "2023-05-16T11:41:53.482Z"
   },
   {
    "duration": 101,
    "start_time": "2023-05-16T11:41:53.486Z"
   },
   {
    "duration": 30,
    "start_time": "2023-05-16T11:41:53.589Z"
   },
   {
    "duration": 10,
    "start_time": "2023-05-16T11:41:53.620Z"
   },
   {
    "duration": 6,
    "start_time": "2023-05-16T11:41:53.632Z"
   },
   {
    "duration": 15,
    "start_time": "2023-05-16T11:41:53.640Z"
   },
   {
    "duration": 12,
    "start_time": "2023-05-16T11:41:53.657Z"
   },
   {
    "duration": 13,
    "start_time": "2023-05-16T11:41:53.670Z"
   },
   {
    "duration": 10,
    "start_time": "2023-05-16T11:41:53.685Z"
   },
   {
    "duration": 40,
    "start_time": "2023-05-16T11:41:53.697Z"
   },
   {
    "duration": 15,
    "start_time": "2023-05-16T11:41:53.739Z"
   },
   {
    "duration": 26,
    "start_time": "2023-05-16T11:41:53.755Z"
   },
   {
    "duration": 34,
    "start_time": "2023-05-16T11:41:53.783Z"
   },
   {
    "duration": 21,
    "start_time": "2023-05-16T11:41:53.820Z"
   },
   {
    "duration": 355,
    "start_time": "2023-05-16T11:41:53.842Z"
   },
   {
    "duration": 32,
    "start_time": "2023-05-16T11:41:54.198Z"
   },
   {
    "duration": 315,
    "start_time": "2023-05-16T11:41:54.232Z"
   },
   {
    "duration": 7,
    "start_time": "2023-05-16T11:41:54.549Z"
   },
   {
    "duration": 62,
    "start_time": "2023-05-16T11:41:54.558Z"
   },
   {
    "duration": 273,
    "start_time": "2023-05-16T11:54:25.558Z"
   },
   {
    "duration": 3,
    "start_time": "2023-05-16T11:55:16.595Z"
   },
   {
    "duration": 90,
    "start_time": "2023-05-16T11:55:16.600Z"
   },
   {
    "duration": 48,
    "start_time": "2023-05-16T11:55:16.692Z"
   },
   {
    "duration": 7,
    "start_time": "2023-05-16T11:55:16.746Z"
   },
   {
    "duration": 4,
    "start_time": "2023-05-16T11:55:16.755Z"
   },
   {
    "duration": 7,
    "start_time": "2023-05-16T11:55:16.760Z"
   },
   {
    "duration": 9,
    "start_time": "2023-05-16T11:55:16.768Z"
   },
   {
    "duration": 5,
    "start_time": "2023-05-16T11:55:16.778Z"
   },
   {
    "duration": 7,
    "start_time": "2023-05-16T11:55:16.785Z"
   },
   {
    "duration": 18,
    "start_time": "2023-05-16T11:55:16.793Z"
   },
   {
    "duration": 27,
    "start_time": "2023-05-16T11:55:16.812Z"
   },
   {
    "duration": 37,
    "start_time": "2023-05-16T11:55:16.845Z"
   },
   {
    "duration": 18,
    "start_time": "2023-05-16T11:55:16.884Z"
   },
   {
    "duration": 30,
    "start_time": "2023-05-16T11:55:16.905Z"
   },
   {
    "duration": 211,
    "start_time": "2023-05-16T11:55:16.937Z"
   },
   {
    "duration": 21,
    "start_time": "2023-05-16T11:55:17.150Z"
   },
   {
    "duration": 276,
    "start_time": "2023-05-16T11:55:17.172Z"
   },
   {
    "duration": 170,
    "start_time": "2023-05-16T11:55:25.730Z"
   },
   {
    "duration": 4,
    "start_time": "2023-05-16T11:55:46.737Z"
   },
   {
    "duration": 92,
    "start_time": "2023-05-16T11:55:46.743Z"
   },
   {
    "duration": 21,
    "start_time": "2023-05-16T11:55:46.838Z"
   },
   {
    "duration": 4,
    "start_time": "2023-05-16T11:55:46.861Z"
   },
   {
    "duration": 8,
    "start_time": "2023-05-16T11:55:46.867Z"
   },
   {
    "duration": 12,
    "start_time": "2023-05-16T11:55:46.876Z"
   },
   {
    "duration": 9,
    "start_time": "2023-05-16T11:55:46.890Z"
   },
   {
    "duration": 27,
    "start_time": "2023-05-16T11:55:46.901Z"
   },
   {
    "duration": 17,
    "start_time": "2023-05-16T11:55:46.929Z"
   },
   {
    "duration": 15,
    "start_time": "2023-05-16T11:55:46.948Z"
   },
   {
    "duration": 10,
    "start_time": "2023-05-16T11:55:46.965Z"
   },
   {
    "duration": 57,
    "start_time": "2023-05-16T11:55:46.977Z"
   },
   {
    "duration": 26,
    "start_time": "2023-05-16T11:55:47.038Z"
   },
   {
    "duration": 10,
    "start_time": "2023-05-16T11:55:47.066Z"
   },
   {
    "duration": 297,
    "start_time": "2023-05-16T11:55:47.077Z"
   },
   {
    "duration": 22,
    "start_time": "2023-05-16T11:55:47.375Z"
   },
   {
    "duration": 428,
    "start_time": "2023-05-16T11:55:47.406Z"
   },
   {
    "duration": 12,
    "start_time": "2023-05-16T11:55:47.839Z"
   },
   {
    "duration": 259,
    "start_time": "2023-05-16T11:56:03.503Z"
   },
   {
    "duration": 2,
    "start_time": "2023-05-16T11:56:12.183Z"
   },
   {
    "duration": 81,
    "start_time": "2023-05-16T11:56:12.187Z"
   },
   {
    "duration": 18,
    "start_time": "2023-05-16T11:56:12.270Z"
   },
   {
    "duration": 9,
    "start_time": "2023-05-16T11:56:12.289Z"
   },
   {
    "duration": 43,
    "start_time": "2023-05-16T11:56:12.300Z"
   },
   {
    "duration": 11,
    "start_time": "2023-05-16T11:56:12.345Z"
   },
   {
    "duration": 8,
    "start_time": "2023-05-16T11:56:12.358Z"
   },
   {
    "duration": 15,
    "start_time": "2023-05-16T11:56:12.368Z"
   },
   {
    "duration": 17,
    "start_time": "2023-05-16T11:56:12.385Z"
   },
   {
    "duration": 42,
    "start_time": "2023-05-16T11:56:12.404Z"
   },
   {
    "duration": 15,
    "start_time": "2023-05-16T11:56:12.448Z"
   },
   {
    "duration": 32,
    "start_time": "2023-05-16T11:56:12.465Z"
   },
   {
    "duration": 34,
    "start_time": "2023-05-16T11:56:12.498Z"
   },
   {
    "duration": 17,
    "start_time": "2023-05-16T11:56:12.537Z"
   },
   {
    "duration": 298,
    "start_time": "2023-05-16T11:56:12.556Z"
   },
   {
    "duration": 22,
    "start_time": "2023-05-16T11:56:12.855Z"
   },
   {
    "duration": 259,
    "start_time": "2023-05-16T11:56:12.879Z"
   },
   {
    "duration": 3,
    "start_time": "2023-05-16T11:56:37.669Z"
   },
   {
    "duration": 94,
    "start_time": "2023-05-16T11:56:37.673Z"
   },
   {
    "duration": 18,
    "start_time": "2023-05-16T11:56:37.768Z"
   },
   {
    "duration": 11,
    "start_time": "2023-05-16T11:56:37.787Z"
   },
   {
    "duration": 54,
    "start_time": "2023-05-16T11:56:37.800Z"
   },
   {
    "duration": 6,
    "start_time": "2023-05-16T11:56:37.858Z"
   },
   {
    "duration": 9,
    "start_time": "2023-05-16T11:56:37.865Z"
   },
   {
    "duration": 13,
    "start_time": "2023-05-16T11:56:37.875Z"
   },
   {
    "duration": 13,
    "start_time": "2023-05-16T11:56:37.890Z"
   },
   {
    "duration": 30,
    "start_time": "2023-05-16T11:56:37.904Z"
   },
   {
    "duration": 15,
    "start_time": "2023-05-16T11:56:37.935Z"
   },
   {
    "duration": 27,
    "start_time": "2023-05-16T11:56:37.954Z"
   },
   {
    "duration": 19,
    "start_time": "2023-05-16T11:56:37.982Z"
   },
   {
    "duration": 30,
    "start_time": "2023-05-16T11:56:38.002Z"
   },
   {
    "duration": 249,
    "start_time": "2023-05-16T11:56:38.034Z"
   },
   {
    "duration": 28,
    "start_time": "2023-05-16T11:56:38.285Z"
   },
   {
    "duration": 301,
    "start_time": "2023-05-16T11:56:38.321Z"
   },
   {
    "duration": 47,
    "start_time": "2023-05-17T16:52:12.919Z"
   },
   {
    "duration": 441,
    "start_time": "2023-05-17T16:52:16.087Z"
   },
   {
    "duration": 116,
    "start_time": "2023-05-17T16:52:16.530Z"
   },
   {
    "duration": 26,
    "start_time": "2023-05-17T16:52:16.648Z"
   },
   {
    "duration": 33,
    "start_time": "2023-05-17T16:52:16.675Z"
   },
   {
    "duration": 29,
    "start_time": "2023-05-17T16:52:16.710Z"
   },
   {
    "duration": 79,
    "start_time": "2023-05-17T16:52:16.740Z"
   },
   {
    "duration": 27,
    "start_time": "2023-05-17T16:52:16.821Z"
   },
   {
    "duration": 33,
    "start_time": "2023-05-17T16:52:16.849Z"
   },
   {
    "duration": 21,
    "start_time": "2023-05-17T16:52:16.884Z"
   },
   {
    "duration": 58,
    "start_time": "2023-05-17T16:52:16.906Z"
   },
   {
    "duration": 24,
    "start_time": "2023-05-17T16:52:16.966Z"
   },
   {
    "duration": 36,
    "start_time": "2023-05-17T16:52:16.992Z"
   },
   {
    "duration": 35,
    "start_time": "2023-05-17T16:52:17.029Z"
   },
   {
    "duration": 10,
    "start_time": "2023-05-17T16:52:17.066Z"
   },
   {
    "duration": 883,
    "start_time": "2023-05-17T16:52:19.037Z"
   },
   {
    "duration": 892,
    "start_time": "2023-05-17T16:52:30.697Z"
   },
   {
    "duration": 703,
    "start_time": "2023-05-17T16:52:43.128Z"
   },
   {
    "duration": 154,
    "start_time": "2023-05-17T16:52:51.781Z"
   },
   {
    "duration": 9,
    "start_time": "2023-05-17T16:54:01.690Z"
   },
   {
    "duration": 278,
    "start_time": "2023-05-17T16:54:29.937Z"
   },
   {
    "duration": 2,
    "start_time": "2023-05-17T16:54:48.500Z"
   },
   {
    "duration": 75,
    "start_time": "2023-05-17T16:54:48.504Z"
   },
   {
    "duration": 17,
    "start_time": "2023-05-17T16:54:48.580Z"
   },
   {
    "duration": 9,
    "start_time": "2023-05-17T16:54:48.599Z"
   },
   {
    "duration": 25,
    "start_time": "2023-05-17T16:54:48.611Z"
   },
   {
    "duration": 20,
    "start_time": "2023-05-17T16:54:48.638Z"
   },
   {
    "duration": 22,
    "start_time": "2023-05-17T16:54:48.660Z"
   },
   {
    "duration": 33,
    "start_time": "2023-05-17T16:54:48.684Z"
   },
   {
    "duration": 52,
    "start_time": "2023-05-17T16:54:48.719Z"
   },
   {
    "duration": 19,
    "start_time": "2023-05-17T16:54:48.772Z"
   },
   {
    "duration": 11,
    "start_time": "2023-05-17T16:54:48.792Z"
   },
   {
    "duration": 29,
    "start_time": "2023-05-17T16:54:48.805Z"
   },
   {
    "duration": 20,
    "start_time": "2023-05-17T16:54:48.836Z"
   },
   {
    "duration": 9,
    "start_time": "2023-05-17T16:54:48.859Z"
   },
   {
    "duration": 10,
    "start_time": "2023-05-17T16:55:06.017Z"
   },
   {
    "duration": 10,
    "start_time": "2023-05-17T16:55:13.097Z"
   },
   {
    "duration": 250,
    "start_time": "2023-05-17T16:55:31.320Z"
   },
   {
    "duration": 153,
    "start_time": "2023-05-17T16:55:36.181Z"
   },
   {
    "duration": 7,
    "start_time": "2023-05-17T17:00:05.556Z"
   },
   {
    "duration": 8,
    "start_time": "2023-05-17T17:00:38.144Z"
   },
   {
    "duration": 14,
    "start_time": "2023-05-17T17:01:00.400Z"
   },
   {
    "duration": 275,
    "start_time": "2023-05-17T17:01:22.057Z"
   },
   {
    "duration": 18,
    "start_time": "2023-05-17T17:02:06.081Z"
   },
   {
    "duration": 290,
    "start_time": "2023-05-17T18:46:11.604Z"
   },
   {
    "duration": 274,
    "start_time": "2023-05-17T18:46:33.745Z"
   },
   {
    "duration": 4,
    "start_time": "2023-05-17T18:47:04.695Z"
   },
   {
    "duration": 85,
    "start_time": "2023-05-17T18:47:04.702Z"
   },
   {
    "duration": 23,
    "start_time": "2023-05-17T18:47:04.789Z"
   },
   {
    "duration": 11,
    "start_time": "2023-05-17T18:47:04.815Z"
   },
   {
    "duration": 31,
    "start_time": "2023-05-17T18:47:04.827Z"
   },
   {
    "duration": 31,
    "start_time": "2023-05-17T18:47:04.860Z"
   },
   {
    "duration": 42,
    "start_time": "2023-05-17T18:47:04.893Z"
   },
   {
    "duration": 21,
    "start_time": "2023-05-17T18:47:04.937Z"
   },
   {
    "duration": 36,
    "start_time": "2023-05-17T18:47:04.961Z"
   },
   {
    "duration": 49,
    "start_time": "2023-05-17T18:47:05.000Z"
   },
   {
    "duration": 22,
    "start_time": "2023-05-17T18:47:05.051Z"
   },
   {
    "duration": 82,
    "start_time": "2023-05-17T18:47:05.075Z"
   },
   {
    "duration": 41,
    "start_time": "2023-05-17T18:47:05.160Z"
   },
   {
    "duration": 45,
    "start_time": "2023-05-17T18:47:05.204Z"
   },
   {
    "duration": 386,
    "start_time": "2023-05-17T18:47:05.251Z"
   },
   {
    "duration": 302,
    "start_time": "2023-05-17T18:47:05.639Z"
   },
   {
    "duration": 391,
    "start_time": "2023-05-17T18:54:56.233Z"
   },
   {
    "duration": 321,
    "start_time": "2023-05-17T18:55:02.234Z"
   },
   {
    "duration": 3,
    "start_time": "2023-05-17T18:56:36.602Z"
   },
   {
    "duration": 91,
    "start_time": "2023-05-17T18:56:36.607Z"
   },
   {
    "duration": 20,
    "start_time": "2023-05-17T18:56:36.700Z"
   },
   {
    "duration": 10,
    "start_time": "2023-05-17T18:56:36.721Z"
   },
   {
    "duration": 7,
    "start_time": "2023-05-17T18:56:36.733Z"
   },
   {
    "duration": 10,
    "start_time": "2023-05-17T18:56:36.741Z"
   },
   {
    "duration": 10,
    "start_time": "2023-05-17T18:56:36.753Z"
   },
   {
    "duration": 20,
    "start_time": "2023-05-17T18:56:36.764Z"
   },
   {
    "duration": 18,
    "start_time": "2023-05-17T18:56:36.786Z"
   },
   {
    "duration": 22,
    "start_time": "2023-05-17T18:56:36.806Z"
   },
   {
    "duration": 13,
    "start_time": "2023-05-17T18:56:36.829Z"
   },
   {
    "duration": 29,
    "start_time": "2023-05-17T18:56:36.843Z"
   },
   {
    "duration": 21,
    "start_time": "2023-05-17T18:56:36.873Z"
   },
   {
    "duration": 11,
    "start_time": "2023-05-17T18:56:36.926Z"
   },
   {
    "duration": 265,
    "start_time": "2023-05-17T18:56:36.938Z"
   },
   {
    "duration": 362,
    "start_time": "2023-05-17T18:56:37.205Z"
   },
   {
    "duration": 266,
    "start_time": "2023-05-17T18:56:39.885Z"
   },
   {
    "duration": 10,
    "start_time": "2023-05-17T18:57:46.889Z"
   },
   {
    "duration": 34,
    "start_time": "2023-05-17T18:58:36.789Z"
   },
   {
    "duration": 2,
    "start_time": "2023-05-17T19:06:56.104Z"
   },
   {
    "duration": 81,
    "start_time": "2023-05-17T19:06:56.108Z"
   },
   {
    "duration": 21,
    "start_time": "2023-05-17T19:06:56.191Z"
   },
   {
    "duration": 11,
    "start_time": "2023-05-17T19:06:56.213Z"
   },
   {
    "duration": 13,
    "start_time": "2023-05-17T19:06:56.227Z"
   },
   {
    "duration": 11,
    "start_time": "2023-05-17T19:06:56.242Z"
   },
   {
    "duration": 24,
    "start_time": "2023-05-17T19:06:56.254Z"
   },
   {
    "duration": 9,
    "start_time": "2023-05-17T19:06:56.279Z"
   },
   {
    "duration": 8,
    "start_time": "2023-05-17T19:06:56.290Z"
   },
   {
    "duration": 13,
    "start_time": "2023-05-17T19:06:56.300Z"
   },
   {
    "duration": 16,
    "start_time": "2023-05-17T19:06:56.329Z"
   },
   {
    "duration": 33,
    "start_time": "2023-05-17T19:06:56.347Z"
   },
   {
    "duration": 21,
    "start_time": "2023-05-17T19:06:56.381Z"
   },
   {
    "duration": 18,
    "start_time": "2023-05-17T19:06:56.424Z"
   },
   {
    "duration": 261,
    "start_time": "2023-05-17T19:06:56.444Z"
   },
   {
    "duration": 261,
    "start_time": "2023-05-17T19:06:56.707Z"
   },
   {
    "duration": 12,
    "start_time": "2023-05-17T19:06:56.970Z"
   },
   {
    "duration": 28,
    "start_time": "2023-05-17T19:06:56.983Z"
   },
   {
    "duration": 268,
    "start_time": "2023-05-17T19:07:13.900Z"
   },
   {
    "duration": 36,
    "start_time": "2023-05-17T19:07:40.508Z"
   },
   {
    "duration": 3,
    "start_time": "2023-05-17T19:09:20.896Z"
   },
   {
    "duration": 76,
    "start_time": "2023-05-17T19:09:20.901Z"
   },
   {
    "duration": 22,
    "start_time": "2023-05-17T19:09:20.980Z"
   },
   {
    "duration": 6,
    "start_time": "2023-05-17T19:09:21.005Z"
   },
   {
    "duration": 15,
    "start_time": "2023-05-17T19:09:21.013Z"
   },
   {
    "duration": 23,
    "start_time": "2023-05-17T19:09:21.029Z"
   },
   {
    "duration": 25,
    "start_time": "2023-05-17T19:09:21.054Z"
   },
   {
    "duration": 8,
    "start_time": "2023-05-17T19:09:21.081Z"
   },
   {
    "duration": 18,
    "start_time": "2023-05-17T19:09:21.090Z"
   },
   {
    "duration": 42,
    "start_time": "2023-05-17T19:09:21.110Z"
   },
   {
    "duration": 27,
    "start_time": "2023-05-17T19:09:21.154Z"
   },
   {
    "duration": 32,
    "start_time": "2023-05-17T19:09:21.183Z"
   },
   {
    "duration": 27,
    "start_time": "2023-05-17T19:09:21.217Z"
   },
   {
    "duration": 15,
    "start_time": "2023-05-17T19:09:21.245Z"
   },
   {
    "duration": 250,
    "start_time": "2023-05-17T19:09:21.262Z"
   },
   {
    "duration": 338,
    "start_time": "2023-05-17T19:09:21.513Z"
   },
   {
    "duration": 267,
    "start_time": "2023-05-17T19:09:21.852Z"
   },
   {
    "duration": 32,
    "start_time": "2023-05-17T19:09:28.536Z"
   },
   {
    "duration": 29,
    "start_time": "2023-05-17T19:13:31.436Z"
   },
   {
    "duration": 12,
    "start_time": "2023-05-17T19:14:54.475Z"
   },
   {
    "duration": 13,
    "start_time": "2023-05-17T19:21:49.657Z"
   },
   {
    "duration": 13,
    "start_time": "2023-05-17T19:21:52.041Z"
   },
   {
    "duration": 27,
    "start_time": "2023-05-17T19:21:58.112Z"
   },
   {
    "duration": 73,
    "start_time": "2023-05-17T19:22:21.930Z"
   },
   {
    "duration": 13,
    "start_time": "2023-05-17T19:22:26.488Z"
   },
   {
    "duration": 17,
    "start_time": "2023-05-17T19:22:34.997Z"
   },
   {
    "duration": 12,
    "start_time": "2023-05-17T19:22:39.175Z"
   },
   {
    "duration": 141,
    "start_time": "2023-05-17T19:22:48.248Z"
   },
   {
    "duration": 131,
    "start_time": "2023-05-17T19:22:51.737Z"
   },
   {
    "duration": 167,
    "start_time": "2023-05-17T19:23:09.537Z"
   },
   {
    "duration": 272,
    "start_time": "2023-05-17T19:23:50.972Z"
   },
   {
    "duration": 137,
    "start_time": "2023-05-17T19:24:05.913Z"
   },
   {
    "duration": 133,
    "start_time": "2023-05-17T19:24:09.617Z"
   },
   {
    "duration": 326,
    "start_time": "2023-05-17T19:24:24.935Z"
   },
   {
    "duration": 14,
    "start_time": "2023-05-17T19:24:40.762Z"
   },
   {
    "duration": 155,
    "start_time": "2023-05-17T19:24:53.216Z"
   },
   {
    "duration": 137,
    "start_time": "2023-05-17T19:24:56.412Z"
   },
   {
    "duration": 164,
    "start_time": "2023-05-17T19:25:10.552Z"
   },
   {
    "duration": 171,
    "start_time": "2023-05-17T19:25:21.716Z"
   },
   {
    "duration": 153,
    "start_time": "2023-05-17T19:25:27.552Z"
   },
   {
    "duration": 167,
    "start_time": "2023-05-17T19:25:40.161Z"
   },
   {
    "duration": 44,
    "start_time": "2023-05-17T19:26:13.012Z"
   },
   {
    "duration": 165,
    "start_time": "2023-05-17T19:26:17.248Z"
   },
   {
    "duration": 7,
    "start_time": "2023-05-17T19:30:48.456Z"
   },
   {
    "duration": 7,
    "start_time": "2023-05-17T19:30:55.384Z"
   },
   {
    "duration": 141,
    "start_time": "2023-05-17T19:33:03.840Z"
   },
   {
    "duration": 140,
    "start_time": "2023-05-17T19:33:09.104Z"
   },
   {
    "duration": 125,
    "start_time": "2023-05-17T19:33:18.913Z"
   },
   {
    "duration": 17,
    "start_time": "2023-05-17T19:33:53.432Z"
   },
   {
    "duration": 348,
    "start_time": "2023-05-17T19:34:05.537Z"
   },
   {
    "duration": 286,
    "start_time": "2023-05-17T19:34:13.848Z"
   },
   {
    "duration": 319,
    "start_time": "2023-05-17T19:34:22.672Z"
   },
   {
    "duration": 320,
    "start_time": "2023-05-17T19:34:28.631Z"
   },
   {
    "duration": 333,
    "start_time": "2023-05-17T19:36:50.580Z"
   },
   {
    "duration": 329,
    "start_time": "2023-05-17T19:40:52.336Z"
   },
   {
    "duration": 69,
    "start_time": "2023-05-18T10:21:01.454Z"
   },
   {
    "duration": 407,
    "start_time": "2023-05-18T10:21:05.191Z"
   },
   {
    "duration": 114,
    "start_time": "2023-05-18T10:21:05.599Z"
   },
   {
    "duration": 17,
    "start_time": "2023-05-18T10:21:05.715Z"
   },
   {
    "duration": 24,
    "start_time": "2023-05-18T10:21:05.734Z"
   },
   {
    "duration": 15,
    "start_time": "2023-05-18T10:21:05.760Z"
   },
   {
    "duration": 9,
    "start_time": "2023-05-18T10:21:05.776Z"
   },
   {
    "duration": 38,
    "start_time": "2023-05-18T10:21:05.787Z"
   },
   {
    "duration": 24,
    "start_time": "2023-05-18T10:21:05.826Z"
   },
   {
    "duration": 8,
    "start_time": "2023-05-18T10:21:05.851Z"
   },
   {
    "duration": 27,
    "start_time": "2023-05-18T10:21:05.861Z"
   },
   {
    "duration": 11,
    "start_time": "2023-05-18T10:21:05.890Z"
   },
   {
    "duration": 26,
    "start_time": "2023-05-18T10:21:05.902Z"
   },
   {
    "duration": 21,
    "start_time": "2023-05-18T10:21:05.929Z"
   },
   {
    "duration": 10,
    "start_time": "2023-05-18T10:21:05.951Z"
   },
   {
    "duration": 675,
    "start_time": "2023-05-18T10:21:05.962Z"
   },
   {
    "duration": 249,
    "start_time": "2023-05-18T10:21:06.639Z"
   },
   {
    "duration": 298,
    "start_time": "2023-05-18T10:21:06.894Z"
   },
   {
    "duration": 10,
    "start_time": "2023-05-18T10:21:07.195Z"
   },
   {
    "duration": 11,
    "start_time": "2023-05-18T10:21:07.207Z"
   },
   {
    "duration": 178,
    "start_time": "2023-05-18T10:21:07.219Z"
   },
   {
    "duration": 6,
    "start_time": "2023-05-18T10:21:07.399Z"
   },
   {
    "duration": 40,
    "start_time": "2023-05-18T10:21:10.672Z"
   },
   {
    "duration": 285,
    "start_time": "2023-05-18T10:21:55.669Z"
   },
   {
    "duration": 294,
    "start_time": "2023-05-18T10:22:10.580Z"
   },
   {
    "duration": 281,
    "start_time": "2023-05-18T10:24:41.823Z"
   },
   {
    "duration": 278,
    "start_time": "2023-05-18T10:26:13.785Z"
   },
   {
    "duration": 51,
    "start_time": "2023-05-18T10:34:10.182Z"
   },
   {
    "duration": 353,
    "start_time": "2023-05-18T10:37:23.888Z"
   },
   {
    "duration": 7,
    "start_time": "2023-05-18T10:38:37.999Z"
   },
   {
    "duration": 6,
    "start_time": "2023-05-18T10:39:00.281Z"
   },
   {
    "duration": 33,
    "start_time": "2023-05-18T10:39:59.758Z"
   },
   {
    "duration": 12,
    "start_time": "2023-05-18T10:40:11.654Z"
   },
   {
    "duration": 185,
    "start_time": "2023-05-18T10:42:13.195Z"
   },
   {
    "duration": 226,
    "start_time": "2023-05-18T10:42:39.493Z"
   },
   {
    "duration": 243,
    "start_time": "2023-05-18T10:42:46.600Z"
   },
   {
    "duration": 268,
    "start_time": "2023-05-18T10:45:37.696Z"
   },
   {
    "duration": 252,
    "start_time": "2023-05-18T10:46:22.810Z"
   },
   {
    "duration": 265,
    "start_time": "2023-05-18T10:46:29.493Z"
   },
   {
    "duration": 257,
    "start_time": "2023-05-18T10:46:38.706Z"
   },
   {
    "duration": 266,
    "start_time": "2023-05-18T10:46:50.457Z"
   },
   {
    "duration": 6,
    "start_time": "2023-05-18T11:38:16.884Z"
   },
   {
    "duration": 363,
    "start_time": "2023-05-18T11:39:14.780Z"
   },
   {
    "duration": 304,
    "start_time": "2023-05-18T11:39:26.465Z"
   },
   {
    "duration": 367,
    "start_time": "2023-05-18T11:39:33.157Z"
   },
   {
    "duration": 25,
    "start_time": "2023-05-18T11:41:47.137Z"
   },
   {
    "duration": 270,
    "start_time": "2023-05-18T11:46:53.645Z"
   },
   {
    "duration": 293,
    "start_time": "2023-05-18T11:47:04.745Z"
   },
   {
    "duration": 247,
    "start_time": "2023-05-18T11:47:17.173Z"
   },
   {
    "duration": 274,
    "start_time": "2023-05-18T11:47:21.437Z"
   },
   {
    "duration": 13,
    "start_time": "2023-05-18T11:49:47.181Z"
   },
   {
    "duration": 14,
    "start_time": "2023-05-18T11:50:03.082Z"
   },
   {
    "duration": 15,
    "start_time": "2023-05-18T11:50:15.974Z"
   },
   {
    "duration": 14,
    "start_time": "2023-05-18T11:52:06.553Z"
   },
   {
    "duration": 6,
    "start_time": "2023-05-18T11:53:51.772Z"
   },
   {
    "duration": 34,
    "start_time": "2023-05-18T11:53:55.941Z"
   },
   {
    "duration": 323,
    "start_time": "2023-05-18T11:54:03.757Z"
   },
   {
    "duration": 10,
    "start_time": "2023-05-18T11:59:34.795Z"
   },
   {
    "duration": 14,
    "start_time": "2023-05-18T11:59:39.957Z"
   },
   {
    "duration": 14,
    "start_time": "2023-05-18T11:59:49.083Z"
   },
   {
    "duration": 13,
    "start_time": "2023-05-18T11:59:54.969Z"
   },
   {
    "duration": 14,
    "start_time": "2023-05-18T12:00:05.241Z"
   },
   {
    "duration": 835,
    "start_time": "2023-05-18T12:02:18.133Z"
   },
   {
    "duration": 6,
    "start_time": "2023-05-18T12:02:46.285Z"
   },
   {
    "duration": 32,
    "start_time": "2023-05-18T12:04:35.941Z"
   },
   {
    "duration": 18,
    "start_time": "2023-05-18T12:05:14.957Z"
   },
   {
    "duration": 20,
    "start_time": "2023-05-18T12:05:18.440Z"
   },
   {
    "duration": 248,
    "start_time": "2023-05-18T12:05:57.683Z"
   },
   {
    "duration": 15,
    "start_time": "2023-05-18T12:14:40.483Z"
   },
   {
    "duration": 46,
    "start_time": "2023-05-18T12:17:10.145Z"
   },
   {
    "duration": 30,
    "start_time": "2023-05-18T12:17:16.540Z"
   },
   {
    "duration": 266,
    "start_time": "2023-05-18T12:17:20.782Z"
   },
   {
    "duration": 267,
    "start_time": "2023-05-18T12:17:25.277Z"
   },
   {
    "duration": 205,
    "start_time": "2023-05-18T12:38:28.057Z"
   },
   {
    "duration": 214,
    "start_time": "2023-05-18T12:38:41.509Z"
   },
   {
    "duration": 18,
    "start_time": "2023-05-18T13:00:34.345Z"
   },
   {
    "duration": 267,
    "start_time": "2023-05-18T13:00:44.092Z"
   },
   {
    "duration": 191,
    "start_time": "2023-05-18T13:01:28.861Z"
   },
   {
    "duration": 218,
    "start_time": "2023-05-18T13:01:34.264Z"
   },
   {
    "duration": 11,
    "start_time": "2023-05-18T13:07:45.477Z"
   },
   {
    "duration": 9,
    "start_time": "2023-05-18T13:09:31.013Z"
   },
   {
    "duration": 132,
    "start_time": "2023-05-18T13:09:54.996Z"
   },
   {
    "duration": 170,
    "start_time": "2023-05-18T13:10:02.684Z"
   },
   {
    "duration": 208,
    "start_time": "2023-05-18T13:10:34.679Z"
   },
   {
    "duration": 187,
    "start_time": "2023-05-18T13:10:42.288Z"
   },
   {
    "duration": 190,
    "start_time": "2023-05-18T13:11:16.364Z"
   },
   {
    "duration": 168,
    "start_time": "2023-05-18T13:11:19.779Z"
   },
   {
    "duration": 202,
    "start_time": "2023-05-18T13:12:26.812Z"
   },
   {
    "duration": 192,
    "start_time": "2023-05-18T13:13:01.406Z"
   },
   {
    "duration": 224,
    "start_time": "2023-05-18T13:15:21.729Z"
   },
   {
    "duration": 161,
    "start_time": "2023-05-18T13:16:01.381Z"
   },
   {
    "duration": 207,
    "start_time": "2023-05-18T13:16:17.673Z"
   },
   {
    "duration": 376,
    "start_time": "2023-05-18T13:18:46.984Z"
   },
   {
    "duration": 3,
    "start_time": "2023-05-18T13:19:33.820Z"
   },
   {
    "duration": 71,
    "start_time": "2023-05-18T13:19:33.825Z"
   },
   {
    "duration": 20,
    "start_time": "2023-05-18T13:19:33.898Z"
   },
   {
    "duration": 13,
    "start_time": "2023-05-18T13:19:33.920Z"
   },
   {
    "duration": 5,
    "start_time": "2023-05-18T13:19:33.935Z"
   },
   {
    "duration": 9,
    "start_time": "2023-05-18T13:19:33.942Z"
   },
   {
    "duration": 12,
    "start_time": "2023-05-18T13:19:33.952Z"
   },
   {
    "duration": 7,
    "start_time": "2023-05-18T13:19:33.965Z"
   },
   {
    "duration": 10,
    "start_time": "2023-05-18T13:19:33.995Z"
   },
   {
    "duration": 14,
    "start_time": "2023-05-18T13:19:34.007Z"
   },
   {
    "duration": 12,
    "start_time": "2023-05-18T13:19:34.024Z"
   },
   {
    "duration": 59,
    "start_time": "2023-05-18T13:19:34.037Z"
   },
   {
    "duration": 21,
    "start_time": "2023-05-18T13:19:34.098Z"
   },
   {
    "duration": 10,
    "start_time": "2023-05-18T13:19:34.121Z"
   },
   {
    "duration": 245,
    "start_time": "2023-05-18T13:19:34.133Z"
   },
   {
    "duration": 291,
    "start_time": "2023-05-18T13:20:05.169Z"
   },
   {
    "duration": 265,
    "start_time": "2023-05-18T13:20:08.987Z"
   },
   {
    "duration": 15,
    "start_time": "2023-05-18T13:20:12.368Z"
   },
   {
    "duration": 37,
    "start_time": "2023-05-18T13:20:15.756Z"
   },
   {
    "duration": 263,
    "start_time": "2023-05-18T13:20:19.380Z"
   },
   {
    "duration": 198,
    "start_time": "2023-05-18T13:20:22.820Z"
   },
   {
    "duration": 10,
    "start_time": "2023-05-18T13:20:26.764Z"
   },
   {
    "duration": 231,
    "start_time": "2023-05-18T13:20:40.388Z"
   },
   {
    "duration": 167,
    "start_time": "2023-05-18T13:20:42.784Z"
   },
   {
    "duration": 404,
    "start_time": "2023-05-18T13:20:46.385Z"
   },
   {
    "duration": 319,
    "start_time": "2023-05-18T13:21:31.412Z"
   },
   {
    "duration": 150,
    "start_time": "2023-05-18T13:22:12.877Z"
   },
   {
    "duration": 369,
    "start_time": "2023-05-18T13:22:27.012Z"
   },
   {
    "duration": 320,
    "start_time": "2023-05-18T13:22:56.916Z"
   },
   {
    "duration": 316,
    "start_time": "2023-05-18T13:23:19.082Z"
   },
   {
    "duration": 9,
    "start_time": "2023-05-18T13:25:42.780Z"
   },
   {
    "duration": 3,
    "start_time": "2023-05-18T13:25:50.924Z"
   },
   {
    "duration": 77,
    "start_time": "2023-05-18T13:25:50.929Z"
   },
   {
    "duration": 21,
    "start_time": "2023-05-18T13:25:51.008Z"
   },
   {
    "duration": 35,
    "start_time": "2023-05-18T13:25:51.030Z"
   },
   {
    "duration": 22,
    "start_time": "2023-05-18T13:25:51.067Z"
   },
   {
    "duration": 25,
    "start_time": "2023-05-18T13:25:51.090Z"
   },
   {
    "duration": 17,
    "start_time": "2023-05-18T13:25:51.117Z"
   },
   {
    "duration": 25,
    "start_time": "2023-05-18T13:25:51.136Z"
   },
   {
    "duration": 20,
    "start_time": "2023-05-18T13:25:51.163Z"
   },
   {
    "duration": 41,
    "start_time": "2023-05-18T13:25:51.185Z"
   },
   {
    "duration": 16,
    "start_time": "2023-05-18T13:25:51.229Z"
   },
   {
    "duration": 27,
    "start_time": "2023-05-18T13:25:51.246Z"
   },
   {
    "duration": 29,
    "start_time": "2023-05-18T13:25:51.275Z"
   },
   {
    "duration": 14,
    "start_time": "2023-05-18T13:25:51.306Z"
   },
   {
    "duration": 253,
    "start_time": "2023-05-18T13:25:51.322Z"
   },
   {
    "duration": 312,
    "start_time": "2023-05-18T13:25:51.576Z"
   },
   {
    "duration": 273,
    "start_time": "2023-05-18T13:25:51.890Z"
   },
   {
    "duration": 10,
    "start_time": "2023-05-18T13:25:52.165Z"
   },
   {
    "duration": 31,
    "start_time": "2023-05-18T13:25:52.177Z"
   },
   {
    "duration": 172,
    "start_time": "2023-05-18T13:25:52.210Z"
   },
   {
    "duration": 7,
    "start_time": "2023-05-18T13:25:52.384Z"
   },
   {
    "duration": 341,
    "start_time": "2023-05-18T13:25:52.393Z"
   },
   {
    "duration": 293,
    "start_time": "2023-05-18T13:25:52.736Z"
   },
   {
    "duration": 15,
    "start_time": "2023-05-18T13:25:53.031Z"
   },
   {
    "duration": 54,
    "start_time": "2023-05-18T13:25:53.048Z"
   },
   {
    "duration": 295,
    "start_time": "2023-05-18T13:25:53.107Z"
   },
   {
    "duration": 212,
    "start_time": "2023-05-18T13:25:53.405Z"
   },
   {
    "duration": 9,
    "start_time": "2023-05-18T13:25:53.618Z"
   },
   {
    "duration": 368,
    "start_time": "2023-05-18T13:25:53.630Z"
   },
   {
    "duration": 387,
    "start_time": "2023-05-18T13:25:54.004Z"
   },
   {
    "duration": 412,
    "start_time": "2023-05-18T13:26:04.657Z"
   },
   {
    "duration": 355,
    "start_time": "2023-05-18T13:26:13.390Z"
   },
   {
    "duration": 11,
    "start_time": "2023-05-18T13:41:49.412Z"
   },
   {
    "duration": 15,
    "start_time": "2023-05-18T13:43:02.986Z"
   },
   {
    "duration": 374,
    "start_time": "2023-05-18T13:43:15.438Z"
   },
   {
    "duration": 286,
    "start_time": "2023-05-18T13:43:21.953Z"
   },
   {
    "duration": 159,
    "start_time": "2023-05-18T13:47:26.273Z"
   },
   {
    "duration": 21,
    "start_time": "2023-05-18T13:47:36.101Z"
   },
   {
    "duration": 216,
    "start_time": "2023-05-18T13:47:43.199Z"
   },
   {
    "duration": 9,
    "start_time": "2023-05-18T13:48:22.761Z"
   },
   {
    "duration": 175,
    "start_time": "2023-05-18T13:48:27.694Z"
   },
   {
    "duration": 193,
    "start_time": "2023-05-18T13:53:36.165Z"
   },
   {
    "duration": 225,
    "start_time": "2023-05-18T13:55:26.080Z"
   },
   {
    "duration": 192,
    "start_time": "2023-05-18T13:55:46.193Z"
   },
   {
    "duration": 190,
    "start_time": "2023-05-18T13:55:52.565Z"
   },
   {
    "duration": 354,
    "start_time": "2023-05-18T13:56:14.489Z"
   },
   {
    "duration": 236,
    "start_time": "2023-05-18T13:57:24.285Z"
   },
   {
    "duration": 37,
    "start_time": "2023-05-18T14:03:23.309Z"
   },
   {
    "duration": 175,
    "start_time": "2023-05-18T14:04:43.869Z"
   },
   {
    "duration": 160,
    "start_time": "2023-05-18T14:05:02.801Z"
   },
   {
    "duration": 206,
    "start_time": "2023-05-18T14:05:48.395Z"
   },
   {
    "duration": 219,
    "start_time": "2023-05-18T14:06:14.889Z"
   },
   {
    "duration": 213,
    "start_time": "2023-05-18T14:06:33.506Z"
   },
   {
    "duration": 44,
    "start_time": "2023-05-18T17:20:54.521Z"
   },
   {
    "duration": 361,
    "start_time": "2023-05-18T17:21:00.701Z"
   },
   {
    "duration": 119,
    "start_time": "2023-05-18T17:21:01.064Z"
   },
   {
    "duration": 21,
    "start_time": "2023-05-18T17:21:01.184Z"
   },
   {
    "duration": 34,
    "start_time": "2023-05-18T17:21:01.207Z"
   },
   {
    "duration": 31,
    "start_time": "2023-05-18T17:21:01.243Z"
   },
   {
    "duration": 45,
    "start_time": "2023-05-18T17:21:01.275Z"
   },
   {
    "duration": 44,
    "start_time": "2023-05-18T17:21:01.321Z"
   },
   {
    "duration": 51,
    "start_time": "2023-05-18T17:21:01.367Z"
   },
   {
    "duration": 41,
    "start_time": "2023-05-18T17:21:01.420Z"
   },
   {
    "duration": 49,
    "start_time": "2023-05-18T17:21:01.463Z"
   },
   {
    "duration": 33,
    "start_time": "2023-05-18T17:21:01.513Z"
   },
   {
    "duration": 79,
    "start_time": "2023-05-18T17:21:01.547Z"
   },
   {
    "duration": 35,
    "start_time": "2023-05-18T17:21:01.627Z"
   },
   {
    "duration": 63,
    "start_time": "2023-05-18T17:21:01.665Z"
   },
   {
    "duration": 636,
    "start_time": "2023-05-18T17:21:01.730Z"
   },
   {
    "duration": 249,
    "start_time": "2023-05-18T17:21:02.368Z"
   },
   {
    "duration": 281,
    "start_time": "2023-05-18T17:21:02.618Z"
   },
   {
    "duration": 12,
    "start_time": "2023-05-18T17:21:02.900Z"
   },
   {
    "duration": 9,
    "start_time": "2023-05-18T17:21:02.913Z"
   },
   {
    "duration": 178,
    "start_time": "2023-05-18T17:21:02.924Z"
   },
   {
    "duration": 5,
    "start_time": "2023-05-18T17:21:03.103Z"
   },
   {
    "duration": 296,
    "start_time": "2023-05-18T17:21:03.110Z"
   },
   {
    "duration": 298,
    "start_time": "2023-05-18T17:21:03.407Z"
   },
   {
    "duration": 15,
    "start_time": "2023-05-18T17:21:03.708Z"
   },
   {
    "duration": 29,
    "start_time": "2023-05-18T17:21:03.724Z"
   },
   {
    "duration": 252,
    "start_time": "2023-05-18T17:21:03.754Z"
   },
   {
    "duration": 236,
    "start_time": "2023-05-18T17:21:04.008Z"
   },
   {
    "duration": 11,
    "start_time": "2023-05-18T17:21:04.246Z"
   },
   {
    "duration": 310,
    "start_time": "2023-05-18T17:21:04.258Z"
   },
   {
    "duration": 181,
    "start_time": "2023-05-18T17:21:04.569Z"
   },
   {
    "duration": 192,
    "start_time": "2023-05-18T17:21:04.752Z"
   },
   {
    "duration": 247,
    "start_time": "2023-05-18T17:21:04.945Z"
   },
   {
    "duration": 244,
    "start_time": "2023-05-18T17:21:05.194Z"
   },
   {
    "duration": 217,
    "start_time": "2023-05-18T17:21:42.585Z"
   },
   {
    "duration": 222,
    "start_time": "2023-05-18T17:21:59.991Z"
   },
   {
    "duration": 193,
    "start_time": "2023-05-18T17:28:47.720Z"
   },
   {
    "duration": 59,
    "start_time": "2023-05-18T17:47:32.644Z"
   },
   {
    "duration": 403,
    "start_time": "2023-05-18T17:47:55.440Z"
   },
   {
    "duration": 15,
    "start_time": "2023-05-18T17:48:23.396Z"
   },
   {
    "duration": 17,
    "start_time": "2023-05-18T17:53:05.312Z"
   },
   {
    "duration": 11,
    "start_time": "2023-05-18T17:53:12.142Z"
   },
   {
    "duration": 17,
    "start_time": "2023-05-18T18:00:32.337Z"
   },
   {
    "duration": 16,
    "start_time": "2023-05-18T18:01:23.100Z"
   },
   {
    "duration": 248,
    "start_time": "2023-05-18T18:08:40.108Z"
   },
   {
    "duration": 169,
    "start_time": "2023-05-18T18:08:57.109Z"
   },
   {
    "duration": 207,
    "start_time": "2023-05-18T18:09:30.772Z"
   },
   {
    "duration": 157,
    "start_time": "2023-05-18T18:09:39.956Z"
   },
   {
    "duration": 168,
    "start_time": "2023-05-18T18:09:42.649Z"
   },
   {
    "duration": 158,
    "start_time": "2023-05-18T18:09:45.476Z"
   },
   {
    "duration": 206,
    "start_time": "2023-05-18T18:10:29.500Z"
   },
   {
    "duration": 3,
    "start_time": "2023-05-18T18:27:00.081Z"
   },
   {
    "duration": 141,
    "start_time": "2023-05-18T18:27:00.085Z"
   },
   {
    "duration": 16,
    "start_time": "2023-05-18T18:27:00.227Z"
   },
   {
    "duration": 11,
    "start_time": "2023-05-18T18:27:00.245Z"
   },
   {
    "duration": 21,
    "start_time": "2023-05-18T18:27:00.257Z"
   },
   {
    "duration": 29,
    "start_time": "2023-05-18T18:27:00.279Z"
   },
   {
    "duration": 22,
    "start_time": "2023-05-18T18:27:00.310Z"
   },
   {
    "duration": 11,
    "start_time": "2023-05-18T18:27:00.334Z"
   },
   {
    "duration": 10,
    "start_time": "2023-05-18T18:27:00.347Z"
   },
   {
    "duration": 17,
    "start_time": "2023-05-18T18:27:00.359Z"
   },
   {
    "duration": 20,
    "start_time": "2023-05-18T18:27:00.378Z"
   },
   {
    "duration": 33,
    "start_time": "2023-05-18T18:27:00.402Z"
   },
   {
    "duration": 21,
    "start_time": "2023-05-18T18:27:00.436Z"
   },
   {
    "duration": 37,
    "start_time": "2023-05-18T18:27:00.458Z"
   },
   {
    "duration": 236,
    "start_time": "2023-05-18T18:27:00.497Z"
   },
   {
    "duration": 219,
    "start_time": "2023-05-18T18:27:00.734Z"
   },
   {
    "duration": 302,
    "start_time": "2023-05-18T18:27:00.954Z"
   },
   {
    "duration": 8,
    "start_time": "2023-05-18T18:27:01.257Z"
   },
   {
    "duration": 54,
    "start_time": "2023-05-18T18:27:01.266Z"
   },
   {
    "duration": 54,
    "start_time": "2023-05-18T18:27:01.321Z"
   },
   {
    "duration": 191,
    "start_time": "2023-05-18T18:27:01.376Z"
   },
   {
    "duration": 5,
    "start_time": "2023-05-18T18:27:01.568Z"
   },
   {
    "duration": 353,
    "start_time": "2023-05-18T18:27:01.575Z"
   },
   {
    "duration": 270,
    "start_time": "2023-05-18T18:27:01.933Z"
   },
   {
    "duration": 15,
    "start_time": "2023-05-18T18:27:02.205Z"
   },
   {
    "duration": 47,
    "start_time": "2023-05-18T18:27:02.222Z"
   },
   {
    "duration": 248,
    "start_time": "2023-05-18T18:27:02.271Z"
   },
   {
    "duration": 202,
    "start_time": "2023-05-18T18:27:02.521Z"
   },
   {
    "duration": 10,
    "start_time": "2023-05-18T18:27:02.724Z"
   },
   {
    "duration": 303,
    "start_time": "2023-05-18T18:27:02.736Z"
   },
   {
    "duration": 179,
    "start_time": "2023-05-18T18:27:03.040Z"
   },
   {
    "duration": 178,
    "start_time": "2023-05-18T18:27:03.220Z"
   },
   {
    "duration": 257,
    "start_time": "2023-05-18T18:27:03.400Z"
   },
   {
    "duration": 238,
    "start_time": "2023-05-18T18:27:03.658Z"
   },
   {
    "duration": 193,
    "start_time": "2023-05-18T18:27:03.897Z"
   },
   {
    "duration": 11,
    "start_time": "2023-05-18T18:27:04.096Z"
   },
   {
    "duration": 13,
    "start_time": "2023-05-18T18:27:04.108Z"
   },
   {
    "duration": 14,
    "start_time": "2023-05-18T18:27:29.196Z"
   },
   {
    "duration": 60,
    "start_time": "2023-05-18T18:27:29.213Z"
   },
   {
    "duration": 22,
    "start_time": "2023-05-18T18:27:29.274Z"
   },
   {
    "duration": 10,
    "start_time": "2023-05-18T18:27:29.298Z"
   },
   {
    "duration": 10,
    "start_time": "2023-05-18T18:27:29.311Z"
   },
   {
    "duration": 9,
    "start_time": "2023-05-18T18:27:29.322Z"
   },
   {
    "duration": 10,
    "start_time": "2023-05-18T18:27:29.332Z"
   },
   {
    "duration": 6,
    "start_time": "2023-05-18T18:27:29.343Z"
   },
   {
    "duration": 8,
    "start_time": "2023-05-18T18:27:29.351Z"
   },
   {
    "duration": 37,
    "start_time": "2023-05-18T18:27:29.360Z"
   },
   {
    "duration": 14,
    "start_time": "2023-05-18T18:27:29.399Z"
   },
   {
    "duration": 24,
    "start_time": "2023-05-18T18:27:29.414Z"
   },
   {
    "duration": 18,
    "start_time": "2023-05-18T18:27:29.439Z"
   },
   {
    "duration": 28,
    "start_time": "2023-05-18T18:27:29.459Z"
   },
   {
    "duration": 209,
    "start_time": "2023-05-18T18:27:29.488Z"
   },
   {
    "duration": 222,
    "start_time": "2023-05-18T18:27:29.700Z"
   },
   {
    "duration": 220,
    "start_time": "2023-05-18T18:27:29.924Z"
   },
   {
    "duration": 8,
    "start_time": "2023-05-18T18:27:30.145Z"
   },
   {
    "duration": 22,
    "start_time": "2023-05-18T18:27:30.155Z"
   },
   {
    "duration": 37,
    "start_time": "2023-05-18T18:27:30.179Z"
   },
   {
    "duration": 150,
    "start_time": "2023-05-18T18:27:30.218Z"
   },
   {
    "duration": 5,
    "start_time": "2023-05-18T18:27:30.369Z"
   },
   {
    "duration": 301,
    "start_time": "2023-05-18T18:27:30.376Z"
   },
   {
    "duration": 345,
    "start_time": "2023-05-18T18:27:30.679Z"
   },
   {
    "duration": 14,
    "start_time": "2023-05-18T18:27:31.026Z"
   },
   {
    "duration": 42,
    "start_time": "2023-05-18T18:27:31.042Z"
   },
   {
    "duration": 258,
    "start_time": "2023-05-18T18:27:31.095Z"
   },
   {
    "duration": 202,
    "start_time": "2023-05-18T18:27:31.355Z"
   },
   {
    "duration": 12,
    "start_time": "2023-05-18T18:27:31.558Z"
   },
   {
    "duration": 322,
    "start_time": "2023-05-18T18:27:31.572Z"
   },
   {
    "duration": 172,
    "start_time": "2023-05-18T18:27:31.899Z"
   },
   {
    "duration": 186,
    "start_time": "2023-05-18T18:27:32.072Z"
   },
   {
    "duration": 195,
    "start_time": "2023-05-18T18:27:32.259Z"
   },
   {
    "duration": 242,
    "start_time": "2023-05-18T18:27:32.456Z"
   },
   {
    "duration": 183,
    "start_time": "2023-05-18T18:27:32.699Z"
   },
   {
    "duration": 15,
    "start_time": "2023-05-18T18:27:32.884Z"
   },
   {
    "duration": 48,
    "start_time": "2023-05-18T18:27:32.900Z"
   },
   {
    "duration": 11,
    "start_time": "2023-05-18T18:35:15.851Z"
   },
   {
    "duration": 12,
    "start_time": "2023-05-18T18:35:54.369Z"
   },
   {
    "duration": 12,
    "start_time": "2023-05-18T18:35:59.390Z"
   },
   {
    "duration": 4,
    "start_time": "2023-05-18T18:36:19.113Z"
   },
   {
    "duration": 4,
    "start_time": "2023-05-18T18:36:25.928Z"
   },
   {
    "duration": 10,
    "start_time": "2023-05-18T18:36:46.712Z"
   },
   {
    "duration": 10,
    "start_time": "2023-05-18T18:36:52.720Z"
   },
   {
    "duration": 431,
    "start_time": "2023-05-19T05:18:31.890Z"
   },
   {
    "duration": 124,
    "start_time": "2023-05-19T05:18:32.322Z"
   },
   {
    "duration": 20,
    "start_time": "2023-05-19T05:18:32.448Z"
   },
   {
    "duration": 16,
    "start_time": "2023-05-19T05:18:32.470Z"
   },
   {
    "duration": 18,
    "start_time": "2023-05-19T05:18:32.488Z"
   },
   {
    "duration": 20,
    "start_time": "2023-05-19T05:18:32.508Z"
   },
   {
    "duration": 15,
    "start_time": "2023-05-19T05:18:32.530Z"
   },
   {
    "duration": 29,
    "start_time": "2023-05-19T05:18:32.547Z"
   },
   {
    "duration": 9,
    "start_time": "2023-05-19T05:18:32.577Z"
   },
   {
    "duration": 14,
    "start_time": "2023-05-19T05:18:32.588Z"
   },
   {
    "duration": 10,
    "start_time": "2023-05-19T05:18:32.603Z"
   },
   {
    "duration": 36,
    "start_time": "2023-05-19T05:18:32.615Z"
   },
   {
    "duration": 46,
    "start_time": "2023-05-19T05:18:32.653Z"
   },
   {
    "duration": 15,
    "start_time": "2023-05-19T05:18:32.703Z"
   },
   {
    "duration": 666,
    "start_time": "2023-05-19T05:18:32.720Z"
   },
   {
    "duration": 261,
    "start_time": "2023-05-19T05:18:33.389Z"
   },
   {
    "duration": 309,
    "start_time": "2023-05-19T05:18:33.652Z"
   },
   {
    "duration": 11,
    "start_time": "2023-05-19T05:18:33.962Z"
   },
   {
    "duration": 23,
    "start_time": "2023-05-19T05:18:33.974Z"
   },
   {
    "duration": 15,
    "start_time": "2023-05-19T05:18:33.999Z"
   },
   {
    "duration": 169,
    "start_time": "2023-05-19T05:18:34.016Z"
   },
   {
    "duration": 13,
    "start_time": "2023-05-19T05:18:34.186Z"
   },
   {
    "duration": 306,
    "start_time": "2023-05-19T05:18:34.201Z"
   },
   {
    "duration": 309,
    "start_time": "2023-05-19T05:18:34.508Z"
   },
   {
    "duration": 15,
    "start_time": "2023-05-19T05:18:34.819Z"
   },
   {
    "duration": 33,
    "start_time": "2023-05-19T05:18:34.836Z"
   },
   {
    "duration": 269,
    "start_time": "2023-05-19T05:18:34.870Z"
   },
   {
    "duration": 218,
    "start_time": "2023-05-19T05:18:35.141Z"
   },
   {
    "duration": 13,
    "start_time": "2023-05-19T05:18:35.360Z"
   },
   {
    "duration": 327,
    "start_time": "2023-05-19T05:18:35.374Z"
   },
   {
    "duration": 188,
    "start_time": "2023-05-19T05:18:35.703Z"
   },
   {
    "duration": 187,
    "start_time": "2023-05-19T05:18:35.897Z"
   },
   {
    "duration": 261,
    "start_time": "2023-05-19T05:18:36.086Z"
   },
   {
    "duration": 263,
    "start_time": "2023-05-19T05:18:36.349Z"
   },
   {
    "duration": 213,
    "start_time": "2023-05-19T05:18:36.614Z"
   },
   {
    "duration": 424,
    "start_time": "2023-05-19T05:18:36.828Z"
   },
   {
    "duration": 10,
    "start_time": "2023-05-19T05:18:37.254Z"
   },
   {
    "duration": 379,
    "start_time": "2023-05-19T07:31:38.204Z"
   },
   {
    "duration": 187,
    "start_time": "2023-05-19T07:31:38.585Z"
   },
   {
    "duration": 20,
    "start_time": "2023-05-19T07:31:39.827Z"
   },
   {
    "duration": 3,
    "start_time": "2023-05-19T07:37:25.090Z"
   },
   {
    "duration": 66,
    "start_time": "2023-05-19T07:37:25.096Z"
   },
   {
    "duration": 21,
    "start_time": "2023-05-19T07:37:25.163Z"
   },
   {
    "duration": 13,
    "start_time": "2023-05-19T07:37:25.185Z"
   },
   {
    "duration": 6,
    "start_time": "2023-05-19T07:37:25.201Z"
   },
   {
    "duration": 8,
    "start_time": "2023-05-19T07:37:25.209Z"
   },
   {
    "duration": 10,
    "start_time": "2023-05-19T07:37:25.218Z"
   },
   {
    "duration": 7,
    "start_time": "2023-05-19T07:37:25.230Z"
   },
   {
    "duration": 40,
    "start_time": "2023-05-19T07:37:25.239Z"
   },
   {
    "duration": 16,
    "start_time": "2023-05-19T07:37:25.280Z"
   },
   {
    "duration": 17,
    "start_time": "2023-05-19T07:37:25.298Z"
   },
   {
    "duration": 27,
    "start_time": "2023-05-19T07:37:25.317Z"
   },
   {
    "duration": 64,
    "start_time": "2023-05-19T07:37:25.346Z"
   },
   {
    "duration": 11,
    "start_time": "2023-05-19T07:37:25.412Z"
   },
   {
    "duration": 665,
    "start_time": "2023-05-19T07:37:25.424Z"
   },
   {
    "duration": 282,
    "start_time": "2023-05-19T07:37:26.092Z"
   },
   {
    "duration": 375,
    "start_time": "2023-05-19T07:37:26.379Z"
   },
   {
    "duration": 10,
    "start_time": "2023-05-19T07:37:26.755Z"
   },
   {
    "duration": 20,
    "start_time": "2023-05-19T07:37:26.766Z"
   },
   {
    "duration": 18,
    "start_time": "2023-05-19T07:37:26.788Z"
   },
   {
    "duration": 206,
    "start_time": "2023-05-19T07:37:26.808Z"
   },
   {
    "duration": 7,
    "start_time": "2023-05-19T07:37:27.016Z"
   },
   {
    "duration": 349,
    "start_time": "2023-05-19T07:37:27.025Z"
   },
   {
    "duration": 379,
    "start_time": "2023-05-19T07:37:27.376Z"
   },
   {
    "duration": 16,
    "start_time": "2023-05-19T07:37:27.756Z"
   },
   {
    "duration": 43,
    "start_time": "2023-05-19T07:37:27.774Z"
   },
   {
    "duration": 300,
    "start_time": "2023-05-19T07:37:27.819Z"
   },
   {
    "duration": 50,
    "start_time": "2023-05-20T14:10:04.017Z"
   },
   {
    "duration": 440,
    "start_time": "2023-05-20T14:10:09.517Z"
   },
   {
    "duration": 136,
    "start_time": "2023-05-20T14:10:09.958Z"
   },
   {
    "duration": 25,
    "start_time": "2023-05-20T14:10:10.095Z"
   },
   {
    "duration": 4,
    "start_time": "2023-05-20T14:10:10.122Z"
   },
   {
    "duration": 5,
    "start_time": "2023-05-20T14:10:10.127Z"
   },
   {
    "duration": 12,
    "start_time": "2023-05-20T14:10:10.133Z"
   },
   {
    "duration": 8,
    "start_time": "2023-05-20T14:10:10.146Z"
   },
   {
    "duration": 5,
    "start_time": "2023-05-20T14:10:10.155Z"
   },
   {
    "duration": 43,
    "start_time": "2023-05-20T14:10:10.161Z"
   },
   {
    "duration": 22,
    "start_time": "2023-05-20T14:10:23.488Z"
   },
   {
    "duration": 676,
    "start_time": "2023-05-20T14:10:57.165Z"
   },
   {
    "duration": 3,
    "start_time": "2023-05-20T14:11:06.320Z"
   },
   {
    "duration": 96,
    "start_time": "2023-05-20T14:11:06.325Z"
   },
   {
    "duration": 21,
    "start_time": "2023-05-20T14:11:06.423Z"
   },
   {
    "duration": 8,
    "start_time": "2023-05-20T14:11:06.447Z"
   },
   {
    "duration": 6,
    "start_time": "2023-05-20T14:11:06.458Z"
   },
   {
    "duration": 36,
    "start_time": "2023-05-20T14:11:06.466Z"
   },
   {
    "duration": 10,
    "start_time": "2023-05-20T14:11:06.505Z"
   },
   {
    "duration": 11,
    "start_time": "2023-05-20T14:11:06.517Z"
   },
   {
    "duration": 7,
    "start_time": "2023-05-20T14:11:06.530Z"
   },
   {
    "duration": 13,
    "start_time": "2023-05-20T14:11:06.538Z"
   },
   {
    "duration": 9,
    "start_time": "2023-05-20T14:11:06.553Z"
   },
   {
    "duration": 45,
    "start_time": "2023-05-20T14:11:06.564Z"
   },
   {
    "duration": 19,
    "start_time": "2023-05-20T14:11:06.610Z"
   },
   {
    "duration": 8,
    "start_time": "2023-05-20T14:11:06.630Z"
   },
   {
    "duration": 228,
    "start_time": "2023-05-20T14:11:06.639Z"
   },
   {
    "duration": 247,
    "start_time": "2023-05-20T14:12:17.355Z"
   },
   {
    "duration": 8,
    "start_time": "2023-05-20T14:12:32.672Z"
   },
   {
    "duration": 207,
    "start_time": "2023-05-20T14:12:36.504Z"
   },
   {
    "duration": 242,
    "start_time": "2023-05-20T14:12:47.156Z"
   },
   {
    "duration": 128,
    "start_time": "2023-05-20T14:13:42.904Z"
   },
   {
    "duration": 267,
    "start_time": "2023-05-20T14:13:45.985Z"
   },
   {
    "duration": 202,
    "start_time": "2023-05-20T14:16:17.532Z"
   },
   {
    "duration": 265,
    "start_time": "2023-05-20T14:17:38.547Z"
   },
   {
    "duration": 204,
    "start_time": "2023-05-20T14:17:43.083Z"
   },
   {
    "duration": 219,
    "start_time": "2023-05-20T14:18:04.947Z"
   },
   {
    "duration": 28,
    "start_time": "2023-05-20T14:19:53.481Z"
   },
   {
    "duration": 5,
    "start_time": "2023-05-20T14:22:05.117Z"
   },
   {
    "duration": 3,
    "start_time": "2023-05-20T14:22:09.547Z"
   },
   {
    "duration": 83,
    "start_time": "2023-05-20T14:22:09.551Z"
   },
   {
    "duration": 17,
    "start_time": "2023-05-20T14:22:09.635Z"
   },
   {
    "duration": 29,
    "start_time": "2023-05-20T14:22:09.653Z"
   },
   {
    "duration": 22,
    "start_time": "2023-05-20T14:22:09.683Z"
   },
   {
    "duration": 13,
    "start_time": "2023-05-20T14:22:09.706Z"
   },
   {
    "duration": 17,
    "start_time": "2023-05-20T14:22:09.720Z"
   },
   {
    "duration": 5,
    "start_time": "2023-05-20T14:22:09.739Z"
   },
   {
    "duration": 7,
    "start_time": "2023-05-20T14:22:09.746Z"
   },
   {
    "duration": 16,
    "start_time": "2023-05-20T14:22:09.754Z"
   },
   {
    "duration": 9,
    "start_time": "2023-05-20T14:22:09.772Z"
   },
   {
    "duration": 38,
    "start_time": "2023-05-20T14:22:09.782Z"
   },
   {
    "duration": 4,
    "start_time": "2023-05-20T14:22:09.821Z"
   },
   {
    "duration": 12,
    "start_time": "2023-05-20T14:22:17.543Z"
   },
   {
    "duration": 9,
    "start_time": "2023-05-20T14:22:22.628Z"
   },
   {
    "duration": 8,
    "start_time": "2023-05-20T14:22:37.109Z"
   },
   {
    "duration": 10,
    "start_time": "2023-05-20T14:22:49.104Z"
   },
   {
    "duration": 8,
    "start_time": "2023-05-20T14:22:53.763Z"
   },
   {
    "duration": 1690,
    "start_time": "2023-05-20T14:25:02.664Z"
   },
   {
    "duration": 1254,
    "start_time": "2023-05-20T14:25:06.534Z"
   },
   {
    "duration": 217,
    "start_time": "2023-05-20T14:25:12.670Z"
   },
   {
    "duration": 287,
    "start_time": "2023-05-20T14:25:19.613Z"
   },
   {
    "duration": 303,
    "start_time": "2023-05-20T14:25:54.563Z"
   },
   {
    "duration": 239,
    "start_time": "2023-05-20T14:26:02.821Z"
   },
   {
    "duration": 280,
    "start_time": "2023-05-20T14:26:56.639Z"
   },
   {
    "duration": 196,
    "start_time": "2023-05-20T14:27:11.575Z"
   },
   {
    "duration": 266,
    "start_time": "2023-05-20T14:27:32.212Z"
   },
   {
    "duration": 9,
    "start_time": "2023-05-20T14:28:40.245Z"
   },
   {
    "duration": 44,
    "start_time": "2023-05-20T14:29:17.559Z"
   },
   {
    "duration": 18,
    "start_time": "2023-05-20T14:30:35.907Z"
   },
   {
    "duration": 9,
    "start_time": "2023-05-20T14:30:58.878Z"
   },
   {
    "duration": 12,
    "start_time": "2023-05-20T14:32:12.783Z"
   },
   {
    "duration": 9,
    "start_time": "2023-05-20T14:32:16.962Z"
   },
   {
    "duration": 20,
    "start_time": "2023-05-20T14:32:19.982Z"
   },
   {
    "duration": 3,
    "start_time": "2023-05-20T14:32:48.730Z"
   },
   {
    "duration": 65,
    "start_time": "2023-05-20T14:32:48.754Z"
   },
   {
    "duration": 18,
    "start_time": "2023-05-20T14:32:48.821Z"
   },
   {
    "duration": 10,
    "start_time": "2023-05-20T14:32:48.840Z"
   },
   {
    "duration": 12,
    "start_time": "2023-05-20T14:32:48.851Z"
   },
   {
    "duration": 22,
    "start_time": "2023-05-20T14:32:48.865Z"
   },
   {
    "duration": 14,
    "start_time": "2023-05-20T14:32:48.889Z"
   },
   {
    "duration": 6,
    "start_time": "2023-05-20T14:32:48.906Z"
   },
   {
    "duration": 10,
    "start_time": "2023-05-20T14:32:48.915Z"
   },
   {
    "duration": 12,
    "start_time": "2023-05-20T14:32:48.926Z"
   },
   {
    "duration": 11,
    "start_time": "2023-05-20T14:32:48.986Z"
   },
   {
    "duration": 27,
    "start_time": "2023-05-20T14:32:48.998Z"
   },
   {
    "duration": 271,
    "start_time": "2023-05-20T14:32:49.026Z"
   },
   {
    "duration": 301,
    "start_time": "2023-05-20T14:32:49.300Z"
   },
   {
    "duration": 10,
    "start_time": "2023-05-20T14:32:49.605Z"
   },
   {
    "duration": 38,
    "start_time": "2023-05-20T14:32:49.617Z"
   },
   {
    "duration": 12,
    "start_time": "2023-05-20T14:32:49.657Z"
   },
   {
    "duration": 19,
    "start_time": "2023-05-20T14:32:49.684Z"
   },
   {
    "duration": 9,
    "start_time": "2023-05-20T14:32:49.705Z"
   },
   {
    "duration": 19,
    "start_time": "2023-05-20T14:32:49.716Z"
   },
   {
    "duration": 699,
    "start_time": "2023-05-20T14:51:12.565Z"
   },
   {
    "duration": 23,
    "start_time": "2023-05-20T14:51:58.019Z"
   },
   {
    "duration": 20,
    "start_time": "2023-05-20T14:52:02.559Z"
   },
   {
    "duration": 20,
    "start_time": "2023-05-20T14:52:04.851Z"
   },
   {
    "duration": 19,
    "start_time": "2023-05-20T14:52:06.507Z"
   },
   {
    "duration": 268,
    "start_time": "2023-05-20T14:52:23.068Z"
   },
   {
    "duration": 7,
    "start_time": "2023-05-20T14:52:53.491Z"
   },
   {
    "duration": 7,
    "start_time": "2023-05-20T14:53:00.019Z"
   },
   {
    "duration": 40,
    "start_time": "2023-05-20T14:53:19.115Z"
   },
   {
    "duration": 7,
    "start_time": "2023-05-20T14:53:22.083Z"
   },
   {
    "duration": 109,
    "start_time": "2023-05-20T14:53:42.683Z"
   },
   {
    "duration": 565,
    "start_time": "2023-05-20T14:54:11.154Z"
   },
   {
    "duration": 796,
    "start_time": "2023-05-20T14:54:18.770Z"
   },
   {
    "duration": 151,
    "start_time": "2023-05-20T14:58:25.490Z"
   },
   {
    "duration": 148,
    "start_time": "2023-05-20T14:58:29.201Z"
   },
   {
    "duration": 267,
    "start_time": "2023-05-20T14:59:43.169Z"
   },
   {
    "duration": 3,
    "start_time": "2023-05-20T15:00:18.208Z"
   },
   {
    "duration": 74,
    "start_time": "2023-05-20T15:00:18.212Z"
   },
   {
    "duration": 16,
    "start_time": "2023-05-20T15:00:18.287Z"
   },
   {
    "duration": 11,
    "start_time": "2023-05-20T15:00:18.304Z"
   },
   {
    "duration": 11,
    "start_time": "2023-05-20T15:00:18.317Z"
   },
   {
    "duration": 14,
    "start_time": "2023-05-20T15:00:18.330Z"
   },
   {
    "duration": 23,
    "start_time": "2023-05-20T15:00:18.345Z"
   },
   {
    "duration": 7,
    "start_time": "2023-05-20T15:00:18.370Z"
   },
   {
    "duration": 16,
    "start_time": "2023-05-20T15:00:18.379Z"
   },
   {
    "duration": 20,
    "start_time": "2023-05-20T15:00:18.396Z"
   },
   {
    "duration": 69,
    "start_time": "2023-05-20T15:00:18.420Z"
   },
   {
    "duration": 24,
    "start_time": "2023-05-20T15:00:18.490Z"
   },
   {
    "duration": 243,
    "start_time": "2023-05-20T15:00:18.515Z"
   },
   {
    "duration": 221,
    "start_time": "2023-05-20T15:00:18.760Z"
   },
   {
    "duration": 10,
    "start_time": "2023-05-20T15:00:18.984Z"
   },
   {
    "duration": 18,
    "start_time": "2023-05-20T15:00:18.995Z"
   },
   {
    "duration": 13,
    "start_time": "2023-05-20T15:00:19.014Z"
   },
   {
    "duration": 23,
    "start_time": "2023-05-20T15:00:19.028Z"
   },
   {
    "duration": 806,
    "start_time": "2023-05-20T15:00:19.053Z"
   },
   {
    "duration": 161,
    "start_time": "2023-05-20T15:00:19.861Z"
   },
   {
    "duration": 6,
    "start_time": "2023-05-20T15:00:20.024Z"
   },
   {
    "duration": 282,
    "start_time": "2023-05-20T15:00:20.032Z"
   },
   {
    "duration": 320,
    "start_time": "2023-05-20T15:00:20.316Z"
   },
   {
    "duration": 301,
    "start_time": "2023-05-20T15:00:54.169Z"
   },
   {
    "duration": 10,
    "start_time": "2023-05-20T15:03:46.997Z"
   },
   {
    "duration": 2,
    "start_time": "2023-05-20T15:03:51.439Z"
   },
   {
    "duration": 79,
    "start_time": "2023-05-20T15:03:51.443Z"
   },
   {
    "duration": 16,
    "start_time": "2023-05-20T15:03:51.523Z"
   },
   {
    "duration": 7,
    "start_time": "2023-05-20T15:03:51.541Z"
   },
   {
    "duration": 6,
    "start_time": "2023-05-20T15:03:51.549Z"
   },
   {
    "duration": 6,
    "start_time": "2023-05-20T15:03:51.556Z"
   },
   {
    "duration": 26,
    "start_time": "2023-05-20T15:03:51.563Z"
   },
   {
    "duration": 12,
    "start_time": "2023-05-20T15:03:51.590Z"
   },
   {
    "duration": 8,
    "start_time": "2023-05-20T15:03:51.604Z"
   },
   {
    "duration": 17,
    "start_time": "2023-05-20T15:03:51.613Z"
   },
   {
    "duration": 10,
    "start_time": "2023-05-20T15:03:51.631Z"
   },
   {
    "duration": 48,
    "start_time": "2023-05-20T15:03:51.642Z"
   },
   {
    "duration": 234,
    "start_time": "2023-05-20T15:03:51.691Z"
   },
   {
    "duration": 220,
    "start_time": "2023-05-20T15:03:51.927Z"
   },
   {
    "duration": 9,
    "start_time": "2023-05-20T15:03:52.148Z"
   },
   {
    "duration": 30,
    "start_time": "2023-05-20T15:03:52.158Z"
   },
   {
    "duration": 11,
    "start_time": "2023-05-20T15:03:52.189Z"
   },
   {
    "duration": 11,
    "start_time": "2023-05-20T15:03:52.201Z"
   },
   {
    "duration": 846,
    "start_time": "2023-05-20T15:03:52.213Z"
   },
   {
    "duration": 220,
    "start_time": "2023-05-20T15:03:53.061Z"
   },
   {
    "duration": 5,
    "start_time": "2023-05-20T15:03:53.282Z"
   },
   {
    "duration": 274,
    "start_time": "2023-05-20T15:03:53.289Z"
   },
   {
    "duration": 250,
    "start_time": "2023-05-20T15:03:53.565Z"
   },
   {
    "duration": 15,
    "start_time": "2023-05-20T15:03:53.816Z"
   },
   {
    "duration": 22,
    "start_time": "2023-05-20T15:03:53.832Z"
   },
   {
    "duration": 202,
    "start_time": "2023-05-20T15:04:09.960Z"
   },
   {
    "duration": 206,
    "start_time": "2023-05-20T15:04:41.417Z"
   },
   {
    "duration": 243,
    "start_time": "2023-05-20T15:05:04.633Z"
   },
   {
    "duration": 213,
    "start_time": "2023-05-20T15:05:07.063Z"
   },
   {
    "duration": 155,
    "start_time": "2023-05-20T15:05:48.040Z"
   },
   {
    "duration": 7,
    "start_time": "2023-05-20T15:06:15.392Z"
   },
   {
    "duration": 291,
    "start_time": "2023-05-20T15:06:21.143Z"
   },
   {
    "duration": 222,
    "start_time": "2023-05-20T15:07:29.217Z"
   },
   {
    "duration": 66,
    "start_time": "2023-05-20T15:07:50.034Z"
   },
   {
    "duration": 22,
    "start_time": "2023-05-20T15:07:52.079Z"
   },
   {
    "duration": 160,
    "start_time": "2023-05-20T15:07:59.663Z"
   },
   {
    "duration": 12,
    "start_time": "2023-05-20T15:08:32.800Z"
   },
   {
    "duration": 12,
    "start_time": "2023-05-20T15:08:41.011Z"
   },
   {
    "duration": 475,
    "start_time": "2023-05-20T15:09:39.761Z"
   },
   {
    "duration": 503,
    "start_time": "2023-05-20T15:09:41.832Z"
   },
   {
    "duration": 14,
    "start_time": "2023-05-20T15:09:52.846Z"
   },
   {
    "duration": 8,
    "start_time": "2023-05-20T15:09:57.519Z"
   },
   {
    "duration": 317,
    "start_time": "2023-05-20T15:10:19.040Z"
   },
   {
    "duration": 7,
    "start_time": "2023-05-20T15:11:13.208Z"
   },
   {
    "duration": 6,
    "start_time": "2023-05-20T15:11:19.264Z"
   },
   {
    "duration": 4,
    "start_time": "2023-05-20T15:11:21.519Z"
   },
   {
    "duration": 5,
    "start_time": "2023-05-20T15:11:27.063Z"
   },
   {
    "duration": 7,
    "start_time": "2023-05-20T15:13:02.839Z"
   },
   {
    "duration": 22,
    "start_time": "2023-05-20T15:13:10.931Z"
   },
   {
    "duration": 4,
    "start_time": "2023-05-20T15:13:54.001Z"
   },
   {
    "duration": 20,
    "start_time": "2023-05-20T15:14:22.999Z"
   },
   {
    "duration": 6,
    "start_time": "2023-05-20T15:14:54.863Z"
   },
   {
    "duration": 6,
    "start_time": "2023-05-20T15:15:08.550Z"
   },
   {
    "duration": 7,
    "start_time": "2023-05-20T15:15:11.415Z"
   },
   {
    "duration": 269,
    "start_time": "2023-05-20T15:16:38.102Z"
   },
   {
    "duration": 43,
    "start_time": "2023-05-20T15:16:51.286Z"
   },
   {
    "duration": 317,
    "start_time": "2023-05-20T15:16:55.479Z"
   },
   {
    "duration": 299,
    "start_time": "2023-05-20T15:16:57.294Z"
   },
   {
    "duration": 14,
    "start_time": "2023-05-20T15:17:15.398Z"
   },
   {
    "duration": 262,
    "start_time": "2023-05-20T15:17:29.735Z"
   },
   {
    "duration": 656,
    "start_time": "2023-05-20T15:17:41.216Z"
   },
   {
    "duration": 576,
    "start_time": "2023-05-20T15:18:26.431Z"
   },
   {
    "duration": 233,
    "start_time": "2023-05-20T15:19:14.943Z"
   },
   {
    "duration": 559,
    "start_time": "2023-05-20T15:19:32.615Z"
   },
   {
    "duration": 749,
    "start_time": "2023-05-20T15:19:54.801Z"
   },
   {
    "duration": 196,
    "start_time": "2023-05-20T15:20:09.311Z"
   },
   {
    "duration": 19,
    "start_time": "2023-05-20T15:20:37.110Z"
   },
   {
    "duration": 10,
    "start_time": "2023-05-20T15:20:59.359Z"
   },
   {
    "duration": 561,
    "start_time": "2023-05-20T15:21:01.790Z"
   },
   {
    "duration": 666,
    "start_time": "2023-05-20T15:21:06.071Z"
   },
   {
    "duration": 483,
    "start_time": "2023-05-20T15:21:23.000Z"
   },
   {
    "duration": 583,
    "start_time": "2023-05-20T15:21:25.940Z"
   },
   {
    "duration": 275,
    "start_time": "2023-05-20T15:21:43.952Z"
   },
   {
    "duration": 381,
    "start_time": "2023-05-20T15:21:53.952Z"
   },
   {
    "duration": 261,
    "start_time": "2023-05-20T15:21:58.448Z"
   },
   {
    "duration": 10,
    "start_time": "2023-05-20T15:23:16.937Z"
   },
   {
    "duration": 264,
    "start_time": "2023-05-20T15:23:57.977Z"
   },
   {
    "duration": 325,
    "start_time": "2023-05-20T15:24:06.009Z"
   },
   {
    "duration": 282,
    "start_time": "2023-05-20T15:26:06.483Z"
   },
   {
    "duration": 273,
    "start_time": "2023-05-20T15:26:13.778Z"
   },
   {
    "duration": 384,
    "start_time": "2023-05-20T15:26:35.115Z"
   },
   {
    "duration": 310,
    "start_time": "2023-05-20T15:26:46.747Z"
   },
   {
    "duration": 271,
    "start_time": "2023-05-20T15:26:51.547Z"
   },
   {
    "duration": 280,
    "start_time": "2023-05-20T15:27:15.737Z"
   },
   {
    "duration": 8,
    "start_time": "2023-05-20T15:27:43.060Z"
   },
   {
    "duration": 12,
    "start_time": "2023-05-20T15:27:54.437Z"
   },
   {
    "duration": 9,
    "start_time": "2023-05-20T15:27:59.475Z"
   },
   {
    "duration": 8,
    "start_time": "2023-05-20T15:28:05.308Z"
   },
   {
    "duration": 3,
    "start_time": "2023-05-20T15:28:09.147Z"
   },
   {
    "duration": 4,
    "start_time": "2023-05-20T15:28:15.411Z"
   },
   {
    "duration": 4,
    "start_time": "2023-05-20T15:28:27.076Z"
   },
   {
    "duration": 18,
    "start_time": "2023-05-20T15:28:57.721Z"
   },
   {
    "duration": 254,
    "start_time": "2023-05-20T15:30:30.900Z"
   },
   {
    "duration": 99,
    "start_time": "2023-05-20T15:30:49.742Z"
   },
   {
    "duration": 220,
    "start_time": "2023-05-20T15:31:26.437Z"
   },
   {
    "duration": 127,
    "start_time": "2023-05-20T15:31:36.642Z"
   },
   {
    "duration": 112,
    "start_time": "2023-05-20T15:32:53.632Z"
   },
   {
    "duration": 111,
    "start_time": "2023-05-20T15:33:06.204Z"
   },
   {
    "duration": 181,
    "start_time": "2023-05-20T15:33:45.517Z"
   },
   {
    "duration": 111,
    "start_time": "2023-05-20T15:34:41.645Z"
   },
   {
    "duration": 125,
    "start_time": "2023-05-20T15:34:47.557Z"
   },
   {
    "duration": 115,
    "start_time": "2023-05-20T15:37:35.101Z"
   },
   {
    "duration": 120,
    "start_time": "2023-05-20T15:37:41.036Z"
   },
   {
    "duration": 139,
    "start_time": "2023-05-20T15:37:56.854Z"
   },
   {
    "duration": 7,
    "start_time": "2023-05-20T15:38:30.293Z"
   },
   {
    "duration": 10,
    "start_time": "2023-05-20T15:38:35.124Z"
   },
   {
    "duration": 336,
    "start_time": "2023-05-20T15:38:46.254Z"
   },
   {
    "duration": 285,
    "start_time": "2023-05-20T15:39:36.958Z"
   },
   {
    "duration": 278,
    "start_time": "2023-05-20T15:39:55.444Z"
   },
   {
    "duration": 10,
    "start_time": "2023-05-20T15:41:10.510Z"
   },
   {
    "duration": 11,
    "start_time": "2023-05-20T15:41:49.590Z"
   },
   {
    "duration": 195,
    "start_time": "2023-05-20T15:42:33.563Z"
   },
   {
    "duration": 167,
    "start_time": "2023-05-20T15:42:42.110Z"
   },
   {
    "duration": 258,
    "start_time": "2023-05-20T15:45:07.561Z"
   },
   {
    "duration": 190,
    "start_time": "2023-05-20T15:45:51.599Z"
   },
   {
    "duration": 178,
    "start_time": "2023-05-20T15:45:56.390Z"
   },
   {
    "duration": 159,
    "start_time": "2023-05-20T15:46:19.767Z"
   },
   {
    "duration": 182,
    "start_time": "2023-05-20T15:46:25.302Z"
   },
   {
    "duration": 162,
    "start_time": "2023-05-20T15:46:31.510Z"
   },
   {
    "duration": 176,
    "start_time": "2023-05-20T15:46:58.670Z"
   },
   {
    "duration": 14,
    "start_time": "2023-05-20T15:49:32.362Z"
   },
   {
    "duration": 15,
    "start_time": "2023-05-20T15:49:39.102Z"
   },
   {
    "duration": 153,
    "start_time": "2023-05-20T15:49:44.391Z"
   },
   {
    "duration": 155,
    "start_time": "2023-05-20T15:50:08.927Z"
   },
   {
    "duration": 23,
    "start_time": "2023-05-20T15:52:09.428Z"
   },
   {
    "duration": 22,
    "start_time": "2023-05-20T15:52:17.086Z"
   },
   {
    "duration": 6,
    "start_time": "2023-05-20T15:52:26.769Z"
   },
   {
    "duration": 22,
    "start_time": "2023-05-20T15:52:31.166Z"
   },
   {
    "duration": 271,
    "start_time": "2023-05-20T15:52:37.559Z"
   },
   {
    "duration": 2,
    "start_time": "2023-05-20T15:53:26.218Z"
   },
   {
    "duration": 69,
    "start_time": "2023-05-20T15:53:26.222Z"
   },
   {
    "duration": 19,
    "start_time": "2023-05-20T15:53:26.292Z"
   },
   {
    "duration": 6,
    "start_time": "2023-05-20T15:53:26.313Z"
   },
   {
    "duration": 13,
    "start_time": "2023-05-20T15:53:26.320Z"
   },
   {
    "duration": 20,
    "start_time": "2023-05-20T15:53:26.335Z"
   },
   {
    "duration": 12,
    "start_time": "2023-05-20T15:53:26.357Z"
   },
   {
    "duration": 16,
    "start_time": "2023-05-20T15:53:26.370Z"
   },
   {
    "duration": 10,
    "start_time": "2023-05-20T15:53:26.388Z"
   },
   {
    "duration": 15,
    "start_time": "2023-05-20T15:53:26.400Z"
   },
   {
    "duration": 15,
    "start_time": "2023-05-20T15:53:26.418Z"
   },
   {
    "duration": 54,
    "start_time": "2023-05-20T15:53:26.435Z"
   },
   {
    "duration": 344,
    "start_time": "2023-05-20T15:53:26.490Z"
   },
   {
    "duration": 265,
    "start_time": "2023-05-20T15:53:26.835Z"
   },
   {
    "duration": 10,
    "start_time": "2023-05-20T15:53:27.102Z"
   },
   {
    "duration": 14,
    "start_time": "2023-05-20T15:53:27.114Z"
   },
   {
    "duration": 9,
    "start_time": "2023-05-20T15:53:27.130Z"
   },
   {
    "duration": 8,
    "start_time": "2023-05-20T15:53:27.140Z"
   },
   {
    "duration": 819,
    "start_time": "2023-05-20T15:53:27.150Z"
   },
   {
    "duration": 153,
    "start_time": "2023-05-20T15:53:27.971Z"
   },
   {
    "duration": 5,
    "start_time": "2023-05-20T15:53:28.125Z"
   },
   {
    "duration": 272,
    "start_time": "2023-05-20T15:53:28.131Z"
   },
   {
    "duration": 333,
    "start_time": "2023-05-20T15:53:28.405Z"
   },
   {
    "duration": 14,
    "start_time": "2023-05-20T15:53:28.740Z"
   },
   {
    "duration": 32,
    "start_time": "2023-05-20T15:53:28.755Z"
   },
   {
    "duration": 273,
    "start_time": "2023-05-20T15:53:28.788Z"
   },
   {
    "duration": 130,
    "start_time": "2023-05-20T15:53:29.063Z"
   },
   {
    "duration": 4,
    "start_time": "2023-05-20T15:53:29.195Z"
   },
   {
    "duration": 10,
    "start_time": "2023-05-20T15:53:29.203Z"
   },
   {
    "duration": 301,
    "start_time": "2023-05-20T15:53:29.215Z"
   },
   {
    "duration": 10,
    "start_time": "2023-05-20T15:53:29.517Z"
   },
   {
    "duration": 9,
    "start_time": "2023-05-20T15:53:29.529Z"
   },
   {
    "duration": 183,
    "start_time": "2023-05-20T15:53:29.539Z"
   },
   {
    "duration": 181,
    "start_time": "2023-05-20T15:53:29.723Z"
   },
   {
    "duration": 175,
    "start_time": "2023-05-20T15:53:29.905Z"
   },
   {
    "duration": 216,
    "start_time": "2023-05-20T15:53:30.084Z"
   },
   {
    "duration": 176,
    "start_time": "2023-05-20T15:54:18.679Z"
   },
   {
    "duration": 173,
    "start_time": "2023-05-20T15:55:05.022Z"
   },
   {
    "duration": 187,
    "start_time": "2023-05-20T15:55:27.422Z"
   },
   {
    "duration": 231,
    "start_time": "2023-05-20T15:55:48.526Z"
   },
   {
    "duration": 292,
    "start_time": "2023-05-20T15:59:54.977Z"
   },
   {
    "duration": 210,
    "start_time": "2023-05-20T15:59:57.165Z"
   },
   {
    "duration": 211,
    "start_time": "2023-05-20T16:02:41.673Z"
   },
   {
    "duration": 169,
    "start_time": "2023-05-20T16:03:02.210Z"
   },
   {
    "duration": 358,
    "start_time": "2023-05-20T16:03:36.994Z"
   },
   {
    "duration": 10,
    "start_time": "2023-05-20T16:04:07.721Z"
   },
   {
    "duration": 419,
    "start_time": "2023-05-21T07:50:34.676Z"
   },
   {
    "duration": 119,
    "start_time": "2023-05-21T07:50:35.099Z"
   },
   {
    "duration": 18,
    "start_time": "2023-05-21T07:50:35.220Z"
   },
   {
    "duration": 10,
    "start_time": "2023-05-21T07:50:35.240Z"
   },
   {
    "duration": 8,
    "start_time": "2023-05-21T07:50:35.252Z"
   },
   {
    "duration": 7,
    "start_time": "2023-05-21T07:50:35.262Z"
   },
   {
    "duration": 29,
    "start_time": "2023-05-21T07:50:35.271Z"
   },
   {
    "duration": 8,
    "start_time": "2023-05-21T07:50:35.301Z"
   },
   {
    "duration": 8,
    "start_time": "2023-05-21T07:50:35.311Z"
   },
   {
    "duration": 13,
    "start_time": "2023-05-21T07:50:35.321Z"
   },
   {
    "duration": 15,
    "start_time": "2023-05-21T07:50:35.335Z"
   },
   {
    "duration": 60,
    "start_time": "2023-05-21T07:50:35.352Z"
   },
   {
    "duration": 502,
    "start_time": "2023-05-21T07:50:35.413Z"
   },
   {
    "duration": 262,
    "start_time": "2023-05-21T07:50:35.918Z"
   },
   {
    "duration": 15,
    "start_time": "2023-05-21T07:50:36.190Z"
   },
   {
    "duration": 30,
    "start_time": "2023-05-21T07:50:36.207Z"
   },
   {
    "duration": 20,
    "start_time": "2023-05-21T07:50:36.239Z"
   },
   {
    "duration": 42,
    "start_time": "2023-05-21T07:50:36.261Z"
   },
   {
    "duration": 885,
    "start_time": "2023-05-21T07:50:36.304Z"
   },
   {
    "duration": 173,
    "start_time": "2023-05-21T07:50:37.190Z"
   },
   {
    "duration": 8,
    "start_time": "2023-05-21T07:50:37.365Z"
   },
   {
    "duration": 293,
    "start_time": "2023-05-21T07:50:37.389Z"
   },
   {
    "duration": 291,
    "start_time": "2023-05-21T07:50:37.684Z"
   },
   {
    "duration": 23,
    "start_time": "2023-05-21T07:50:37.977Z"
   },
   {
    "duration": 21,
    "start_time": "2023-05-21T07:50:38.001Z"
   },
   {
    "duration": 279,
    "start_time": "2023-05-21T07:50:38.024Z"
   },
   {
    "duration": 131,
    "start_time": "2023-05-21T07:50:38.305Z"
   },
   {
    "duration": 5,
    "start_time": "2023-05-21T07:50:38.438Z"
   },
   {
    "duration": 19,
    "start_time": "2023-05-21T07:50:38.444Z"
   },
   {
    "duration": 307,
    "start_time": "2023-05-21T07:50:38.465Z"
   },
   {
    "duration": 25,
    "start_time": "2023-05-21T07:50:38.774Z"
   },
   {
    "duration": 10,
    "start_time": "2023-05-21T07:50:38.800Z"
   },
   {
    "duration": 231,
    "start_time": "2023-05-21T07:50:38.811Z"
   },
   {
    "duration": 178,
    "start_time": "2023-05-21T07:50:39.043Z"
   },
   {
    "duration": 180,
    "start_time": "2023-05-21T07:50:39.222Z"
   },
   {
    "duration": 220,
    "start_time": "2023-05-21T07:50:39.404Z"
   },
   {
    "duration": 223,
    "start_time": "2023-05-21T07:50:39.625Z"
   },
   {
    "duration": 183,
    "start_time": "2023-05-21T07:50:39.849Z"
   },
   {
    "duration": 422,
    "start_time": "2023-05-21T07:50:40.033Z"
   },
   {
    "duration": 9,
    "start_time": "2023-05-21T07:50:40.456Z"
   },
   {
    "duration": 49,
    "start_time": "2023-05-21T09:01:28.009Z"
   },
   {
    "duration": 448,
    "start_time": "2023-05-21T09:01:31.428Z"
   },
   {
    "duration": 229,
    "start_time": "2023-05-21T09:01:31.877Z"
   },
   {
    "duration": 23,
    "start_time": "2023-05-21T09:01:32.108Z"
   },
   {
    "duration": 50,
    "start_time": "2023-05-21T09:01:32.133Z"
   },
   {
    "duration": 7,
    "start_time": "2023-05-21T09:01:32.186Z"
   },
   {
    "duration": 22,
    "start_time": "2023-05-21T09:01:32.195Z"
   },
   {
    "duration": 16,
    "start_time": "2023-05-21T09:01:32.218Z"
   },
   {
    "duration": 12,
    "start_time": "2023-05-21T09:01:32.235Z"
   },
   {
    "duration": 18,
    "start_time": "2023-05-21T09:01:32.249Z"
   },
   {
    "duration": 16,
    "start_time": "2023-05-21T09:01:32.272Z"
   },
   {
    "duration": 21,
    "start_time": "2023-05-21T09:01:32.292Z"
   },
   {
    "duration": 46,
    "start_time": "2023-05-21T09:01:32.315Z"
   },
   {
    "duration": 824,
    "start_time": "2023-05-21T09:01:32.364Z"
   },
   {
    "duration": 315,
    "start_time": "2023-05-21T09:01:33.193Z"
   },
   {
    "duration": 11,
    "start_time": "2023-05-21T09:01:33.509Z"
   },
   {
    "duration": 15,
    "start_time": "2023-05-21T09:01:33.521Z"
   },
   {
    "duration": 12,
    "start_time": "2023-05-21T09:01:33.556Z"
   },
   {
    "duration": 12,
    "start_time": "2023-05-21T09:01:33.570Z"
   },
   {
    "duration": 1197,
    "start_time": "2023-05-21T09:01:33.584Z"
   },
   {
    "duration": 208,
    "start_time": "2023-05-21T09:01:34.783Z"
   },
   {
    "duration": 6,
    "start_time": "2023-05-21T09:01:34.993Z"
   },
   {
    "duration": 449,
    "start_time": "2023-05-21T09:01:35.001Z"
   },
   {
    "duration": 346,
    "start_time": "2023-05-21T09:01:35.451Z"
   },
   {
    "duration": 17,
    "start_time": "2023-05-21T09:01:35.799Z"
   },
   {
    "duration": 26,
    "start_time": "2023-05-21T09:01:35.818Z"
   },
   {
    "duration": 345,
    "start_time": "2023-05-21T09:01:35.846Z"
   },
   {
    "duration": 22,
    "start_time": "2023-05-21T09:01:36.193Z"
   },
   {
    "duration": 15,
    "start_time": "2023-05-21T09:02:20.373Z"
   },
   {
    "duration": 6,
    "start_time": "2023-05-21T09:02:40.527Z"
   },
   {
    "duration": 7,
    "start_time": "2023-05-21T09:03:23.414Z"
   },
   {
    "duration": 6,
    "start_time": "2023-05-21T09:05:23.782Z"
   },
   {
    "duration": 11,
    "start_time": "2023-05-21T09:06:10.016Z"
   },
   {
    "duration": 342,
    "start_time": "2023-05-21T09:11:10.703Z"
   },
   {
    "duration": 122,
    "start_time": "2023-05-21T09:11:24.968Z"
   },
   {
    "duration": 169,
    "start_time": "2023-05-21T09:11:33.768Z"
   },
   {
    "duration": 121,
    "start_time": "2023-05-21T09:12:01.375Z"
   },
   {
    "duration": 143,
    "start_time": "2023-05-21T09:12:23.963Z"
   },
   {
    "duration": 131,
    "start_time": "2023-05-21T09:12:45.041Z"
   },
   {
    "duration": 120,
    "start_time": "2023-05-21T09:13:02.504Z"
   },
   {
    "duration": 225,
    "start_time": "2023-05-21T09:31:11.254Z"
   },
   {
    "duration": 105,
    "start_time": "2023-05-21T09:31:51.607Z"
   },
   {
    "duration": 131,
    "start_time": "2023-05-21T09:32:19.612Z"
   },
   {
    "duration": 154,
    "start_time": "2023-05-21T09:34:15.949Z"
   },
   {
    "duration": 233,
    "start_time": "2023-05-21T09:36:00.818Z"
   },
   {
    "duration": 209,
    "start_time": "2023-05-21T09:46:41.882Z"
   },
   {
    "duration": 213,
    "start_time": "2023-05-21T09:47:11.126Z"
   },
   {
    "duration": 194,
    "start_time": "2023-05-21T09:51:22.974Z"
   },
   {
    "duration": 233,
    "start_time": "2023-05-21T09:51:43.190Z"
   },
   {
    "duration": 207,
    "start_time": "2023-05-21T09:51:50.118Z"
   },
   {
    "duration": 195,
    "start_time": "2023-05-21T09:52:10.268Z"
   },
   {
    "duration": 214,
    "start_time": "2023-05-21T09:52:43.989Z"
   },
   {
    "duration": 14,
    "start_time": "2023-05-21T09:55:04.926Z"
   },
   {
    "duration": 15,
    "start_time": "2023-05-21T09:55:59.918Z"
   },
   {
    "duration": 410,
    "start_time": "2023-05-21T09:57:06.981Z"
   },
   {
    "duration": 35,
    "start_time": "2023-05-21T09:57:24.102Z"
   },
   {
    "duration": 9,
    "start_time": "2023-05-21T09:57:34.677Z"
   },
   {
    "duration": 9,
    "start_time": "2023-05-21T09:57:54.991Z"
   },
   {
    "duration": 10,
    "start_time": "2023-05-21T09:57:58.171Z"
   },
   {
    "duration": 10,
    "start_time": "2023-05-21T09:58:01.554Z"
   },
   {
    "duration": 9,
    "start_time": "2023-05-21T09:58:08.389Z"
   },
   {
    "duration": 17,
    "start_time": "2023-05-21T09:58:18.155Z"
   },
   {
    "duration": 10,
    "start_time": "2023-05-21T09:58:21.821Z"
   },
   {
    "duration": 16,
    "start_time": "2023-05-21T09:58:27.454Z"
   },
   {
    "duration": 7,
    "start_time": "2023-05-21T09:58:29.701Z"
   },
   {
    "duration": 4,
    "start_time": "2023-05-21T09:58:34.355Z"
   },
   {
    "duration": 69,
    "start_time": "2023-05-21T09:58:34.371Z"
   },
   {
    "duration": 26,
    "start_time": "2023-05-21T09:58:34.442Z"
   },
   {
    "duration": 6,
    "start_time": "2023-05-21T09:58:34.470Z"
   },
   {
    "duration": 16,
    "start_time": "2023-05-21T09:58:34.478Z"
   },
   {
    "duration": 17,
    "start_time": "2023-05-21T09:58:34.496Z"
   },
   {
    "duration": 9,
    "start_time": "2023-05-21T09:58:34.515Z"
   },
   {
    "duration": 9,
    "start_time": "2023-05-21T09:58:34.526Z"
   },
   {
    "duration": 30,
    "start_time": "2023-05-21T09:58:34.536Z"
   },
   {
    "duration": 17,
    "start_time": "2023-05-21T09:58:34.568Z"
   },
   {
    "duration": 13,
    "start_time": "2023-05-21T09:58:34.587Z"
   },
   {
    "duration": 55,
    "start_time": "2023-05-21T09:58:34.602Z"
   },
   {
    "duration": 318,
    "start_time": "2023-05-21T09:58:34.668Z"
   },
   {
    "duration": 402,
    "start_time": "2023-05-21T09:58:34.988Z"
   },
   {
    "duration": 10,
    "start_time": "2023-05-21T09:58:35.393Z"
   },
   {
    "duration": 16,
    "start_time": "2023-05-21T09:58:35.405Z"
   },
   {
    "duration": 9,
    "start_time": "2023-05-21T09:58:35.422Z"
   },
   {
    "duration": 41,
    "start_time": "2023-05-21T09:58:35.433Z"
   },
   {
    "duration": 1116,
    "start_time": "2023-05-21T09:58:35.476Z"
   },
   {
    "duration": 206,
    "start_time": "2023-05-21T09:58:36.595Z"
   },
   {
    "duration": 6,
    "start_time": "2023-05-21T09:58:36.803Z"
   },
   {
    "duration": 359,
    "start_time": "2023-05-21T09:58:36.811Z"
   },
   {
    "duration": 338,
    "start_time": "2023-05-21T09:58:37.172Z"
   },
   {
    "duration": 18,
    "start_time": "2023-05-21T09:58:37.512Z"
   },
   {
    "duration": 50,
    "start_time": "2023-05-21T09:58:37.531Z"
   },
   {
    "duration": 486,
    "start_time": "2023-05-21T09:58:37.583Z"
   },
   {
    "duration": 234,
    "start_time": "2023-05-21T09:58:38.073Z"
   },
   {
    "duration": 5,
    "start_time": "2023-05-21T09:58:38.308Z"
   },
   {
    "duration": 14,
    "start_time": "2023-05-21T09:58:38.315Z"
   },
   {
    "duration": 46,
    "start_time": "2023-05-21T09:58:38.331Z"
   },
   {
    "duration": 372,
    "start_time": "2023-05-21T09:58:46.421Z"
   },
   {
    "duration": 369,
    "start_time": "2023-05-21T10:00:01.895Z"
   },
   {
    "duration": 15,
    "start_time": "2023-05-21T10:00:08.685Z"
   },
   {
    "duration": 390,
    "start_time": "2023-05-21T10:00:11.214Z"
   },
   {
    "duration": 15,
    "start_time": "2023-05-21T10:01:09.989Z"
   },
   {
    "duration": 376,
    "start_time": "2023-05-21T10:01:11.821Z"
   },
   {
    "duration": 102,
    "start_time": "2023-05-22T06:19:04.281Z"
   },
   {
    "duration": 433,
    "start_time": "2023-05-22T08:19:29.992Z"
   },
   {
    "duration": 213,
    "start_time": "2023-05-22T08:19:30.427Z"
   },
   {
    "duration": 21,
    "start_time": "2023-05-22T08:19:30.641Z"
   },
   {
    "duration": 27,
    "start_time": "2023-05-22T08:19:30.664Z"
   },
   {
    "duration": 33,
    "start_time": "2023-05-22T08:19:30.693Z"
   },
   {
    "duration": 20,
    "start_time": "2023-05-22T08:19:30.727Z"
   },
   {
    "duration": 32,
    "start_time": "2023-05-22T08:19:30.749Z"
   },
   {
    "duration": 59,
    "start_time": "2023-05-22T08:19:30.783Z"
   },
   {
    "duration": 47,
    "start_time": "2023-05-22T08:19:30.844Z"
   },
   {
    "duration": 58,
    "start_time": "2023-05-22T08:19:30.894Z"
   },
   {
    "duration": 32,
    "start_time": "2023-05-22T08:19:30.954Z"
   },
   {
    "duration": 51,
    "start_time": "2023-05-22T08:19:30.988Z"
   },
   {
    "duration": 748,
    "start_time": "2023-05-22T08:19:31.041Z"
   },
   {
    "duration": 302,
    "start_time": "2023-05-22T08:19:31.791Z"
   },
   {
    "duration": 10,
    "start_time": "2023-05-22T08:19:32.095Z"
   },
   {
    "duration": 27,
    "start_time": "2023-05-22T08:19:32.106Z"
   },
   {
    "duration": 8,
    "start_time": "2023-05-22T08:19:32.135Z"
   },
   {
    "duration": 8,
    "start_time": "2023-05-22T08:19:32.145Z"
   },
   {
    "duration": 1074,
    "start_time": "2023-05-22T08:19:32.154Z"
   },
   {
    "duration": 187,
    "start_time": "2023-05-22T08:19:33.230Z"
   },
   {
    "duration": 12,
    "start_time": "2023-05-22T08:19:33.419Z"
   },
   {
    "duration": 332,
    "start_time": "2023-05-22T08:19:33.433Z"
   },
   {
    "duration": 324,
    "start_time": "2023-05-22T08:19:33.767Z"
   },
   {
    "duration": 21,
    "start_time": "2023-05-22T08:19:34.093Z"
   },
   {
    "duration": 29,
    "start_time": "2023-05-22T08:19:34.116Z"
   },
   {
    "duration": 335,
    "start_time": "2023-05-22T08:19:34.146Z"
   },
   {
    "duration": 208,
    "start_time": "2023-05-22T08:19:34.483Z"
   },
   {
    "duration": 5,
    "start_time": "2023-05-22T08:19:34.694Z"
   },
   {
    "duration": 272,
    "start_time": "2023-05-22T08:19:44.841Z"
   },
   {
    "duration": 72,
    "start_time": "2023-05-22T08:19:56.594Z"
   },
   {
    "duration": 222,
    "start_time": "2023-05-22T08:20:02.229Z"
   },
   {
    "duration": 274,
    "start_time": "2023-05-22T08:20:51.091Z"
   },
   {
    "duration": 269,
    "start_time": "2023-05-22T08:20:58.812Z"
   },
   {
    "duration": 198,
    "start_time": "2023-05-22T08:22:52.354Z"
   },
   {
    "duration": 201,
    "start_time": "2023-05-22T08:23:00.030Z"
   },
   {
    "duration": 3,
    "start_time": "2023-05-22T08:24:55.925Z"
   },
   {
    "duration": 76,
    "start_time": "2023-05-22T08:24:55.930Z"
   },
   {
    "duration": 31,
    "start_time": "2023-05-22T08:24:56.009Z"
   },
   {
    "duration": 18,
    "start_time": "2023-05-22T08:24:56.042Z"
   },
   {
    "duration": 7,
    "start_time": "2023-05-22T08:24:56.062Z"
   },
   {
    "duration": 10,
    "start_time": "2023-05-22T08:24:56.072Z"
   },
   {
    "duration": 10,
    "start_time": "2023-05-22T08:24:56.084Z"
   },
   {
    "duration": 32,
    "start_time": "2023-05-22T08:24:56.095Z"
   },
   {
    "duration": 10,
    "start_time": "2023-05-22T08:24:56.129Z"
   },
   {
    "duration": 15,
    "start_time": "2023-05-22T08:24:56.140Z"
   },
   {
    "duration": 12,
    "start_time": "2023-05-22T08:24:56.157Z"
   },
   {
    "duration": 57,
    "start_time": "2023-05-22T08:24:56.171Z"
   },
   {
    "duration": 294,
    "start_time": "2023-05-22T08:24:56.230Z"
   },
   {
    "duration": 315,
    "start_time": "2023-05-22T08:24:56.526Z"
   },
   {
    "duration": 14,
    "start_time": "2023-05-22T08:24:56.843Z"
   },
   {
    "duration": 15,
    "start_time": "2023-05-22T08:24:56.859Z"
   },
   {
    "duration": 25,
    "start_time": "2023-05-22T08:24:56.876Z"
   },
   {
    "duration": 22,
    "start_time": "2023-05-22T08:24:56.903Z"
   },
   {
    "duration": 1184,
    "start_time": "2023-05-22T08:24:56.927Z"
   },
   {
    "duration": 198,
    "start_time": "2023-05-22T08:24:58.112Z"
   },
   {
    "duration": 15,
    "start_time": "2023-05-22T08:24:58.312Z"
   },
   {
    "duration": 349,
    "start_time": "2023-05-22T08:24:58.329Z"
   },
   {
    "duration": 334,
    "start_time": "2023-05-22T08:24:58.680Z"
   },
   {
    "duration": 32,
    "start_time": "2023-05-22T08:24:59.016Z"
   },
   {
    "duration": 34,
    "start_time": "2023-05-22T08:24:59.050Z"
   },
   {
    "duration": 367,
    "start_time": "2023-05-22T08:24:59.087Z"
   },
   {
    "duration": 234,
    "start_time": "2023-05-22T08:24:59.456Z"
   },
   {
    "duration": 5,
    "start_time": "2023-05-22T08:24:59.692Z"
   },
   {
    "duration": 261,
    "start_time": "2023-05-22T08:24:59.700Z"
   },
   {
    "duration": 19,
    "start_time": "2023-05-22T08:24:59.963Z"
   },
   {
    "duration": 527,
    "start_time": "2023-05-22T08:24:59.984Z"
   },
   {
    "duration": 20,
    "start_time": "2023-05-22T08:25:00.513Z"
   },
   {
    "duration": 462,
    "start_time": "2023-05-22T08:25:00.537Z"
   },
   {
    "duration": 13,
    "start_time": "2023-05-22T08:25:01.000Z"
   },
   {
    "duration": 412,
    "start_time": "2023-05-22T08:25:01.025Z"
   },
   {
    "duration": 226,
    "start_time": "2023-05-22T08:25:01.439Z"
   },
   {
    "duration": 252,
    "start_time": "2023-05-22T08:25:01.667Z"
   },
   {
    "duration": 236,
    "start_time": "2023-05-22T08:25:01.921Z"
   },
   {
    "duration": 285,
    "start_time": "2023-05-22T08:25:02.158Z"
   },
   {
    "duration": 296,
    "start_time": "2023-05-22T08:25:02.445Z"
   },
   {
    "duration": 225,
    "start_time": "2023-05-22T08:25:02.743Z"
   },
   {
    "duration": 537,
    "start_time": "2023-05-22T08:25:02.970Z"
   },
   {
    "duration": 18,
    "start_time": "2023-05-22T08:25:03.508Z"
   }
  ],
  "kernelspec": {
   "display_name": "Python 3 (ipykernel)",
   "language": "python",
   "name": "python3"
  },
  "language_info": {
   "codemirror_mode": {
    "name": "ipython",
    "version": 3
   },
   "file_extension": ".py",
   "mimetype": "text/x-python",
   "name": "python",
   "nbconvert_exporter": "python",
   "pygments_lexer": "ipython3",
   "version": "3.10.9"
  },
  "toc": {
   "base_numbering": 1,
   "nav_menu": {},
   "number_sections": true,
   "sideBar": true,
   "skip_h1_title": true,
   "title_cell": "Table of Contents",
   "title_sidebar": "Contents",
   "toc_cell": false,
   "toc_position": {},
   "toc_section_display": true,
   "toc_window_display": false
  }
 },
 "nbformat": 4,
 "nbformat_minor": 2
}
