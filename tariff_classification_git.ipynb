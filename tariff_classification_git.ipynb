{
 "cells": [
  {
   "cell_type": "markdown",
   "metadata": {},
   "source": [
    "# Рекомендация тарифов"
   ]
  },
  {
   "cell_type": "markdown",
   "metadata": {},
   "source": [
    "В вашем распоряжении данные о поведении клиентов, которые уже перешли на эти тарифы (из проекта курса «Статистический анализ данных»). Нужно построить модель для задачи классификации, которая выберет подходящий тариф. Предобработка данных не понадобится — вы её уже сделали.\n",
    "\n",
    "Постройте модель с максимально большим значением *accuracy*. Чтобы сдать проект успешно, нужно довести долю правильных ответов по крайней мере до 0.75. Проверьте *accuracy* на тестовой выборке самостоятельно."
   ]
  },
  {
   "cell_type": "markdown",
   "metadata": {},
   "source": [
    "## Откройте и изучите файл"
   ]
  },
  {
   "cell_type": "code",
   "execution_count": 104,
   "metadata": {
    "scrolled": false
   },
   "outputs": [
    {
     "name": "stdout",
     "output_type": "stream",
     "text": [
      "Requirement already satisfied: fast_ml in /opt/conda/lib/python3.9/site-packages (3.68)\r\n"
     ]
    },
    {
     "data": {
      "text/html": [
       "<div>\n",
       "<style scoped>\n",
       "    .dataframe tbody tr th:only-of-type {\n",
       "        vertical-align: middle;\n",
       "    }\n",
       "\n",
       "    .dataframe tbody tr th {\n",
       "        vertical-align: top;\n",
       "    }\n",
       "\n",
       "    .dataframe thead th {\n",
       "        text-align: right;\n",
       "    }\n",
       "</style>\n",
       "<table border=\"1\" class=\"dataframe\">\n",
       "  <thead>\n",
       "    <tr style=\"text-align: right;\">\n",
       "      <th></th>\n",
       "      <th>calls</th>\n",
       "      <th>minutes</th>\n",
       "      <th>messages</th>\n",
       "      <th>mb_used</th>\n",
       "      <th>is_ultra</th>\n",
       "    </tr>\n",
       "  </thead>\n",
       "  <tbody>\n",
       "    <tr>\n",
       "      <th>0</th>\n",
       "      <td>40.0</td>\n",
       "      <td>311.90</td>\n",
       "      <td>83.0</td>\n",
       "      <td>19915.42</td>\n",
       "      <td>0</td>\n",
       "    </tr>\n",
       "    <tr>\n",
       "      <th>1</th>\n",
       "      <td>85.0</td>\n",
       "      <td>516.75</td>\n",
       "      <td>56.0</td>\n",
       "      <td>22696.96</td>\n",
       "      <td>0</td>\n",
       "    </tr>\n",
       "    <tr>\n",
       "      <th>2</th>\n",
       "      <td>77.0</td>\n",
       "      <td>467.66</td>\n",
       "      <td>86.0</td>\n",
       "      <td>21060.45</td>\n",
       "      <td>0</td>\n",
       "    </tr>\n",
       "    <tr>\n",
       "      <th>3</th>\n",
       "      <td>106.0</td>\n",
       "      <td>745.53</td>\n",
       "      <td>81.0</td>\n",
       "      <td>8437.39</td>\n",
       "      <td>1</td>\n",
       "    </tr>\n",
       "    <tr>\n",
       "      <th>4</th>\n",
       "      <td>66.0</td>\n",
       "      <td>418.74</td>\n",
       "      <td>1.0</td>\n",
       "      <td>14502.75</td>\n",
       "      <td>0</td>\n",
       "    </tr>\n",
       "    <tr>\n",
       "      <th>...</th>\n",
       "      <td>...</td>\n",
       "      <td>...</td>\n",
       "      <td>...</td>\n",
       "      <td>...</td>\n",
       "      <td>...</td>\n",
       "    </tr>\n",
       "    <tr>\n",
       "      <th>3209</th>\n",
       "      <td>122.0</td>\n",
       "      <td>910.98</td>\n",
       "      <td>20.0</td>\n",
       "      <td>35124.90</td>\n",
       "      <td>1</td>\n",
       "    </tr>\n",
       "    <tr>\n",
       "      <th>3210</th>\n",
       "      <td>25.0</td>\n",
       "      <td>190.36</td>\n",
       "      <td>0.0</td>\n",
       "      <td>3275.61</td>\n",
       "      <td>0</td>\n",
       "    </tr>\n",
       "    <tr>\n",
       "      <th>3211</th>\n",
       "      <td>97.0</td>\n",
       "      <td>634.44</td>\n",
       "      <td>70.0</td>\n",
       "      <td>13974.06</td>\n",
       "      <td>0</td>\n",
       "    </tr>\n",
       "    <tr>\n",
       "      <th>3212</th>\n",
       "      <td>64.0</td>\n",
       "      <td>462.32</td>\n",
       "      <td>90.0</td>\n",
       "      <td>31239.78</td>\n",
       "      <td>0</td>\n",
       "    </tr>\n",
       "    <tr>\n",
       "      <th>3213</th>\n",
       "      <td>80.0</td>\n",
       "      <td>566.09</td>\n",
       "      <td>6.0</td>\n",
       "      <td>29480.52</td>\n",
       "      <td>1</td>\n",
       "    </tr>\n",
       "  </tbody>\n",
       "</table>\n",
       "<p>3214 rows × 5 columns</p>\n",
       "</div>"
      ],
      "text/plain": [
       "      calls  minutes  messages   mb_used  is_ultra\n",
       "0      40.0   311.90      83.0  19915.42         0\n",
       "1      85.0   516.75      56.0  22696.96         0\n",
       "2      77.0   467.66      86.0  21060.45         0\n",
       "3     106.0   745.53      81.0   8437.39         1\n",
       "4      66.0   418.74       1.0  14502.75         0\n",
       "...     ...      ...       ...       ...       ...\n",
       "3209  122.0   910.98      20.0  35124.90         1\n",
       "3210   25.0   190.36       0.0   3275.61         0\n",
       "3211   97.0   634.44      70.0  13974.06         0\n",
       "3212   64.0   462.32      90.0  31239.78         0\n",
       "3213   80.0   566.09       6.0  29480.52         1\n",
       "\n",
       "[3214 rows x 5 columns]"
      ]
     },
     "execution_count": 104,
     "metadata": {},
     "output_type": "execute_result"
    }
   ],
   "source": [
    "!pip install fast_ml\n",
    "import pandas as pd # импортируем библиотеку pandas\n",
    "from fast_ml.model_development import train_valid_test_split # библиотека для разделения данных на выборки\n",
    "from sklearn.tree import DecisionTreeClassifier # Дерево решений\n",
    "from sklearn.ensemble import RandomForestClassifier # Случайный лес\n",
    "from sklearn.linear_model import LogisticRegression # Логистическая регрессия\n",
    "from sklearn.model_selection import RandomizedSearchCV # библиотека перебора гиперпараметров\n",
    "from sklearn.metrics import confusion_matrix, ConfusionMatrixDisplay # библиотека для проверки моделей\n",
    "from scipy.stats import randint # генератор случайных чисел\n",
    "\n",
    "data = pd.read_csv('/datasets/users_behavior.csv') # считываем файл\n",
    "data"
   ]
  },
  {
   "cell_type": "markdown",
   "metadata": {},
   "source": [
    "В датасете присутствует 3214 строк и 5 столбцов:\n",
    "- `calls` — количество звонков;\n",
    "- `minutes` — суммарное время разговоров в минутах;\n",
    "- `messages` — количество отправленных сообщений;\n",
    "- `mb_used` — количество использованных МБ интернета;\n",
    "- `is_ultra` — принадлежность к тарифу (0 — `\"Смарт\"`, 1 — `\"Ультра\"`)."
   ]
  },
  {
   "cell_type": "markdown",
   "metadata": {},
   "source": [
    "Проверим типы данных"
   ]
  },
  {
   "cell_type": "code",
   "execution_count": 105,
   "metadata": {},
   "outputs": [
    {
     "name": "stdout",
     "output_type": "stream",
     "text": [
      "<class 'pandas.core.frame.DataFrame'>\n",
      "RangeIndex: 3214 entries, 0 to 3213\n",
      "Data columns (total 5 columns):\n",
      " #   Column    Non-Null Count  Dtype  \n",
      "---  ------    --------------  -----  \n",
      " 0   calls     3214 non-null   float64\n",
      " 1   minutes   3214 non-null   float64\n",
      " 2   messages  3214 non-null   float64\n",
      " 3   mb_used   3214 non-null   float64\n",
      " 4   is_ultra  3214 non-null   int64  \n",
      "dtypes: float64(4), int64(1)\n",
      "memory usage: 125.7 KB\n"
     ]
    }
   ],
   "source": [
    "data.info()"
   ]
  },
  {
   "cell_type": "markdown",
   "metadata": {},
   "source": [
    "Количество звонков и отправленных сообщений можно привести к целочисленному типу."
   ]
  },
  {
   "cell_type": "code",
   "execution_count": 106,
   "metadata": {},
   "outputs": [
    {
     "name": "stdout",
     "output_type": "stream",
     "text": [
      "<class 'pandas.core.frame.DataFrame'>\n",
      "RangeIndex: 3214 entries, 0 to 3213\n",
      "Data columns (total 5 columns):\n",
      " #   Column    Non-Null Count  Dtype  \n",
      "---  ------    --------------  -----  \n",
      " 0   calls     3214 non-null   int64  \n",
      " 1   minutes   3214 non-null   float64\n",
      " 2   messages  3214 non-null   int64  \n",
      " 3   mb_used   3214 non-null   float64\n",
      " 4   is_ultra  3214 non-null   int64  \n",
      "dtypes: float64(2), int64(3)\n",
      "memory usage: 125.7 KB\n"
     ]
    }
   ],
   "source": [
    "data[['calls', 'messages']] = data[['calls', 'messages']].astype('int64')\n",
    "data.info()"
   ]
  },
  {
   "cell_type": "markdown",
   "metadata": {},
   "source": [
    "Проверим пропуски и дубликаты."
   ]
  },
  {
   "cell_type": "code",
   "execution_count": 107,
   "metadata": {},
   "outputs": [
    {
     "data": {
      "text/plain": [
       "calls       0\n",
       "minutes     0\n",
       "messages    0\n",
       "mb_used     0\n",
       "is_ultra    0\n",
       "dtype: int64"
      ]
     },
     "execution_count": 107,
     "metadata": {},
     "output_type": "execute_result"
    }
   ],
   "source": [
    "data.isna().sum()"
   ]
  },
  {
   "cell_type": "markdown",
   "metadata": {},
   "source": [
    "Пропусков нет."
   ]
  },
  {
   "cell_type": "code",
   "execution_count": 108,
   "metadata": {},
   "outputs": [
    {
     "data": {
      "text/plain": [
       "0"
      ]
     },
     "execution_count": 108,
     "metadata": {},
     "output_type": "execute_result"
    }
   ],
   "source": [
    "data.duplicated().sum()"
   ]
  },
  {
   "cell_type": "markdown",
   "metadata": {},
   "source": [
    "Полностью одинаковых строк тоже нет."
   ]
  },
  {
   "cell_type": "markdown",
   "metadata": {},
   "source": [
    "Оценим датасет по гистограммам."
   ]
  },
  {
   "cell_type": "code",
   "execution_count": 109,
   "metadata": {
    "scrolled": false
   },
   "outputs": [
    {
     "data": {
      "image/png": "[encoded data removed]",
      "text/plain": [
       "<Figure size 1296x864 with 6 Axes>"
      ]
     },
     "metadata": {
      "needs_background": "light"
     },
     "output_type": "display_data"
    }
   ],
   "source": [
    "data.hist(figsize=(18, 12));"
   ]
  },
  {
   "cell_type": "markdown",
   "metadata": {},
   "source": [
    "Сходу можно сказать, что большинство клиентов в месяц:\n",
    "- делают в основном до 100 звонков;\n",
    "- тратят на звонки до 800 минут;\n",
    "- отправляют до 100 сообщений;\n",
    "- используют до 30 тысяч мегабайт интернета;\n",
    "- используют тариф \"Смарт\"."
   ]
  },
  {
   "cell_type": "markdown",
   "metadata": {},
   "source": [
    "Оценим медианные показатели пользователей в зависимости от тарифа."
   ]
  },
  {
   "cell_type": "code",
   "execution_count": 110,
   "metadata": {
    "scrolled": true
   },
   "outputs": [
    {
     "data": {
      "text/html": [
       "<div>\n",
       "<style scoped>\n",
       "    .dataframe tbody tr th:only-of-type {\n",
       "        vertical-align: middle;\n",
       "    }\n",
       "\n",
       "    .dataframe tbody tr th {\n",
       "        vertical-align: top;\n",
       "    }\n",
       "\n",
       "    .dataframe thead th {\n",
       "        text-align: right;\n",
       "    }\n",
       "</style>\n",
       "<table border=\"1\" class=\"dataframe\">\n",
       "  <thead>\n",
       "    <tr style=\"text-align: right;\">\n",
       "      <th></th>\n",
       "      <th>calls</th>\n",
       "      <th>minutes</th>\n",
       "      <th>messages</th>\n",
       "      <th>mb_used</th>\n",
       "    </tr>\n",
       "    <tr>\n",
       "      <th>is_ultra</th>\n",
       "      <th></th>\n",
       "      <th></th>\n",
       "      <th></th>\n",
       "      <th></th>\n",
       "    </tr>\n",
       "  </thead>\n",
       "  <tbody>\n",
       "    <tr>\n",
       "      <th>0</th>\n",
       "      <td>60</td>\n",
       "      <td>410.56</td>\n",
       "      <td>28</td>\n",
       "      <td>16506.93</td>\n",
       "    </tr>\n",
       "    <tr>\n",
       "      <th>1</th>\n",
       "      <td>74</td>\n",
       "      <td>502.55</td>\n",
       "      <td>38</td>\n",
       "      <td>19308.01</td>\n",
       "    </tr>\n",
       "  </tbody>\n",
       "</table>\n",
       "</div>"
      ],
      "text/plain": [
       "          calls  minutes  messages   mb_used\n",
       "is_ultra                                    \n",
       "0            60   410.56        28  16506.93\n",
       "1            74   502.55        38  19308.01"
      ]
     },
     "execution_count": 110,
     "metadata": {},
     "output_type": "execute_result"
    }
   ],
   "source": [
    "data.groupby('is_ultra').median()"
   ]
  },
  {
   "cell_type": "markdown",
   "metadata": {},
   "source": [
    "Пользователи с тарифом \"Ультра\" пользуются услугами связи и общения значительно больше, чем пользователи с тарифом \"Смарт\"."
   ]
  },
  {
   "cell_type": "markdown",
   "metadata": {},
   "source": [
    "## Разбейте данные на выборки"
   ]
  },
  {
   "cell_type": "markdown",
   "metadata": {},
   "source": [
    "Разделим выборку на обучающую, валидационную и тестовую. Целовой признак — тариф."
   ]
  },
  {
   "cell_type": "code",
   "execution_count": 111,
   "metadata": {},
   "outputs": [],
   "source": [
    "x_train, y_train, x_valid, y_valid, x_test, y_test = train_valid_test_split(\n",
    "    data, target='is_ultra', train_size=0.6, valid_size=0.2, test_size=0.2, method='random', random_state=12345)"
   ]
  },
  {
   "cell_type": "markdown",
   "metadata": {},
   "source": [
    "## Исследуйте модели"
   ]
  },
  {
   "cell_type": "markdown",
   "metadata": {},
   "source": [
    "Перед нами стоит задача классификации, обучим три разные модели и посмотрим какая из них будет лучше."
   ]
  },
  {
   "cell_type": "markdown",
   "metadata": {},
   "source": [
    "### Дерево решений"
   ]
  },
  {
   "cell_type": "markdown",
   "metadata": {},
   "source": [
    "Обучим модель \"Дерево решений\" с различными гиперпараметрами и определим наилучшее `accuracy`."
   ]
  },
  {
   "cell_type": "code",
   "execution_count": 112,
   "metadata": {
    "scrolled": true
   },
   "outputs": [
    {
     "name": "stdout",
     "output_type": "stream",
     "text": [
      "Лучшие гиперпараметры: {'criterion': 'gini', 'max_depth': 6, 'min_samples_leaf': 6}\n"
     ]
    }
   ],
   "source": [
    "param_dist = {'max_depth': list(range(1, 11)), # перебираем гиперпараметры\n",
    "             'min_samples_leaf': randint(1, 9),\n",
    "             'criterion' : ['gini', 'entropy']}\n",
    "tree_model = DecisionTreeClassifier() # создаем модель дерево решений\n",
    "tree_cv = RandomizedSearchCV(tree_model, param_dist, cv=5, random_state=12345) # ищем лучшие гиперпараметры\n",
    "tree_cv.fit(x_train, y_train) \n",
    "print('Лучшие гиперпараметры:', tree_cv.best_params_)"
   ]
  },
  {
   "cell_type": "markdown",
   "metadata": {},
   "source": [
    "Пройдем валидацию обученной модели. Результат проверим при помощи Confusion Matrix."
   ]
  },
  {
   "cell_type": "code",
   "execution_count": 113,
   "metadata": {},
   "outputs": [
    {
     "data": {
      "text/plain": [
       "array([[430, 117],\n",
       "       [ 24,  72]])"
      ]
     },
     "execution_count": 113,
     "metadata": {},
     "output_type": "execute_result"
    }
   ],
   "source": [
    "y_pred = tree_cv.predict(x_valid)\n",
    "cm = confusion_matrix(y_pred, y_valid)\n",
    "cm"
   ]
  },
  {
   "cell_type": "markdown",
   "metadata": {},
   "source": [
    "Правильных значений получилось 502 из 643. Найдем `accuracy`."
   ]
  },
  {
   "cell_type": "code",
   "execution_count": 114,
   "metadata": {},
   "outputs": [
    {
     "data": {
      "text/plain": [
       "0.7807153965785381"
      ]
     },
     "execution_count": 114,
     "metadata": {},
     "output_type": "execute_result"
    }
   ],
   "source": [
    "tree_cv.score(x_valid, y_valid)"
   ]
  },
  {
   "cell_type": "markdown",
   "metadata": {},
   "source": [
    "`Accuracy` составила 78%."
   ]
  },
  {
   "cell_type": "markdown",
   "metadata": {},
   "source": [
    "### Случайный лес"
   ]
  },
  {
   "cell_type": "markdown",
   "metadata": {},
   "source": [
    "Обучим модель \"Случайный лес\" с различными гиперпараметрами."
   ]
  },
  {
   "cell_type": "code",
   "execution_count": 115,
   "metadata": {
    "scrolled": true
   },
   "outputs": [
    {
     "name": "stdout",
     "output_type": "stream",
     "text": [
      "Лучшие гиперпараметры: {'max_depth': 10, 'min_samples_leaf': 4, 'n_estimators': 17}\n"
     ]
    }
   ],
   "source": [
    "param_dist = {'n_estimators' : list(range(1, 20)),\n",
    "              'max_depth': list(range(1, 11)),\n",
    "             'min_samples_leaf': randint(1, 9)}\n",
    "forest_model = RandomForestClassifier()\n",
    "forest_cv = RandomizedSearchCV(forest_model, param_dist, cv=5, random_state=12345)\n",
    "forest_cv.fit(x_train, y_train)\n",
    "print('Лучшие гиперпараметры:', forest_cv.best_params_)"
   ]
  },
  {
   "cell_type": "markdown",
   "metadata": {},
   "source": [
    "Проверим на матрице."
   ]
  },
  {
   "cell_type": "code",
   "execution_count": 116,
   "metadata": {},
   "outputs": [
    {
     "data": {
      "text/plain": [
       "array([[419,  96],\n",
       "       [ 35,  93]])"
      ]
     },
     "execution_count": 116,
     "metadata": {},
     "output_type": "execute_result"
    }
   ],
   "source": [
    "y_pred = forest_cv.predict(x_valid)\n",
    "cm = confusion_matrix(y_pred, y_valid)\n",
    "cm"
   ]
  },
  {
   "cell_type": "markdown",
   "metadata": {},
   "source": [
    "Правильных значений получилось 509 из 643."
   ]
  },
  {
   "cell_type": "code",
   "execution_count": 117,
   "metadata": {},
   "outputs": [
    {
     "data": {
      "text/plain": [
       "0.7962674961119751"
      ]
     },
     "execution_count": 117,
     "metadata": {},
     "output_type": "execute_result"
    }
   ],
   "source": [
    "forest_cv.score(x_valid, y_valid)"
   ]
  },
  {
   "cell_type": "markdown",
   "metadata": {},
   "source": [
    "Значение `accuracy` — 79%."
   ]
  },
  {
   "cell_type": "markdown",
   "metadata": {},
   "source": [
    "### Логистическая регрессия"
   ]
  },
  {
   "cell_type": "markdown",
   "metadata": {},
   "source": [
    "Обучим модель \"Логистической регрессии\" с количеством итераций 1000."
   ]
  },
  {
   "cell_type": "code",
   "execution_count": 118,
   "metadata": {},
   "outputs": [
    {
     "name": "stdout",
     "output_type": "stream",
     "text": [
      "Значение \"accuracy\": 0.7107309486780715\n"
     ]
    }
   ],
   "source": [
    "log_model = LogisticRegression(random_state=12345, solver='lbfgs', max_iter=1000) \n",
    "log_model.fit(x_train, y_train)\n",
    "print('Значение \"accuracy\":', log_model.score(x_valid, y_valid))"
   ]
  },
  {
   "cell_type": "markdown",
   "metadata": {},
   "source": [
    "Модель \"Логистическая регрессия\" дала результат более 71% правильности."
   ]
  },
  {
   "cell_type": "markdown",
   "metadata": {},
   "source": [
    "**Наилучший результат показала модель обучения \"Случайный лес\". Значение \"accuracy\" составило более 79% правильности.**"
   ]
  },
  {
   "cell_type": "markdown",
   "metadata": {},
   "source": [
    "## Тестирование моделей"
   ]
  },
  {
   "cell_type": "markdown",
   "metadata": {},
   "source": [
    "Проверим `Дерево решений` на тестовой выборке."
   ]
  },
  {
   "cell_type": "code",
   "execution_count": 119,
   "metadata": {
    "scrolled": true
   },
   "outputs": [
    {
     "name": "stdout",
     "output_type": "stream",
     "text": [
      "Значение \"accuracy\": 0.7838258164852255\n"
     ]
    }
   ],
   "source": [
    "print('Значение \"accuracy\":', tree_cv.score(x_test, y_test))"
   ]
  },
  {
   "cell_type": "markdown",
   "metadata": {},
   "source": [
    "Правильность составила 78%. Теперь проверим `Случайный лес`."
   ]
  },
  {
   "cell_type": "code",
   "execution_count": 120,
   "metadata": {},
   "outputs": [
    {
     "name": "stdout",
     "output_type": "stream",
     "text": [
      "Значение \"accuracy\": 0.80248833592535\n"
     ]
    }
   ],
   "source": [
    "print('Значение \"accuracy\":', forest_cv.score(x_test, y_test))"
   ]
  },
  {
   "cell_type": "markdown",
   "metadata": {},
   "source": [
    "На тестовой выборке модель показала 80% правильности. Осталось проверить `Логистическую регрессию`."
   ]
  },
  {
   "cell_type": "code",
   "execution_count": 121,
   "metadata": {
    "scrolled": true
   },
   "outputs": [
    {
     "name": "stdout",
     "output_type": "stream",
     "text": [
      "Значение \"accuracy\": 0.6842923794712286\n"
     ]
    }
   ],
   "source": [
    "print('Значение \"accuracy\":', log_model.score(x_test, y_test))"
   ]
  },
  {
   "cell_type": "markdown",
   "metadata": {},
   "source": [
    "Правильность составила 68%."
   ]
  },
  {
   "cell_type": "markdown",
   "metadata": {},
   "source": [
    "## Проверьте модели на адекватность"
   ]
  },
  {
   "cell_type": "markdown",
   "metadata": {},
   "source": [
    "Оценим, как делает предсказания наша лучшая модель. Мы будем использовать матрицу, по которой сможем оценить, как классифицирует данные наша модель."
   ]
  },
  {
   "cell_type": "code",
   "execution_count": 122,
   "metadata": {},
   "outputs": [
    {
     "data": {
      "image/png": "[encoded data removed]",
      "text/plain": [
       "<Figure size 432x288 with 2 Axes>"
      ]
     },
     "metadata": {
      "needs_background": "light"
     },
     "output_type": "display_data"
    }
   ],
   "source": [
    "y_pred = forest_cv.predict(x_test) # делаем предсказания на тестовой выборке\n",
    "cm = confusion_matrix(y_pred, y_test) # создаем матрицу\n",
    "disp = ConfusionMatrixDisplay(confusion_matrix=cm, display_labels=forest_cv.classes_) # визуализация\n",
    "disp.plot();"
   ]
  },
  {
   "cell_type": "markdown",
   "metadata": {},
   "source": [
    "Модель правильно предсказала 405 клиентов, которые пользуются тарифом \"Smart\" и 110 клиентов на тарифе \"Ultra\". В первом тарифе было сделано 93 ошибки, во втором 35."
   ]
  },
  {
   "cell_type": "markdown",
   "metadata": {},
   "source": [
    "## Выводы"
   ]
  },
  {
   "cell_type": "markdown",
   "metadata": {},
   "source": [
    "В данной работе был рассмотрен датасет клиентов мобильной связи. Было известно месячное количество звонков, отправленных сообщений, общее время звонков и использованные мегабайты интернета, а также принадлежность к одному из двух тарифов: \"Smart\" и \"Ultra\"."
   ]
  },
  {
   "cell_type": "markdown",
   "metadata": {},
   "source": [
    "Был проведен небольшой анализ данных, удалось выяснить, что большинство клиентов в месяц:\n",
    "- делают в основном до 100 звонков;\n",
    "- тратят на звонки до 800 минут;\n",
    "- отправляют до 100 сообщений;\n",
    "- используют до 30 тысяч мегабайт интернета;\n",
    "- используют тариф \"Смарт\"."
   ]
  },
  {
   "cell_type": "markdown",
   "metadata": {},
   "source": [
    "Также выяcнилось, что клиенты с тарифом \"Ultra\" больше пользуются услугами связи во всех отношениях."
   ]
  },
  {
   "cell_type": "markdown",
   "metadata": {},
   "source": [
    "В проекте была поставлена задача обучить модель, которая сможет определять тариф клиента, на основе того, как он пользуется услугами связи."
   ]
  },
  {
   "cell_type": "markdown",
   "metadata": {},
   "source": [
    "Было рассмотрено три модели, которые решали задачу классификации: \"Дерево решений\", \"Случайный лес\", \"Логистическая регрессия\". Они дали результат правильности соответственно: 78%, 80%, 68%. С небольшим отрывом модель \"Случайный лес\" показала наилучший результат."
   ]
  },
  {
   "cell_type": "markdown",
   "metadata": {},
   "source": [
    "Модель \"Случайный лес\" была проверена на адекватность. Она правильно определила пользователей тарифа \"Smart\" в 405 случаях из 498, а для клиентов тарифа \"Smart\" 110 из 145."
   ]
  },
  {
   "cell_type": "markdown",
   "metadata": {},
   "source": [
    "Лучшая обученная модель позволит определять наиболее подходящий тариф для клиента с точностью 80%, опираясь на то, как он пользуется услугами связи."
   ]
  }
 ],
 "metadata": {
  "ExecuteTimeLog": [
   {
    "duration": 545,
    "start_time": "2023-06-02T13:01:44.969Z"
   },
   {
    "duration": 66,
    "start_time": "2023-06-02T13:05:52.246Z"
   },
   {
    "duration": 10,
    "start_time": "2023-06-02T13:05:55.948Z"
   },
   {
    "duration": 7,
    "start_time": "2023-06-02T13:06:01.167Z"
   },
   {
    "duration": 9,
    "start_time": "2023-06-02T13:06:06.190Z"
   },
   {
    "duration": 8,
    "start_time": "2023-06-02T13:06:09.558Z"
   },
   {
    "duration": 8,
    "start_time": "2023-06-02T13:06:32.337Z"
   },
   {
    "duration": 11,
    "start_time": "2023-06-02T13:06:36.051Z"
   },
   {
    "duration": 7,
    "start_time": "2023-06-02T13:07:44.182Z"
   },
   {
    "duration": 5,
    "start_time": "2023-06-02T13:07:46.647Z"
   },
   {
    "duration": 11,
    "start_time": "2023-06-02T13:07:50.269Z"
   },
   {
    "duration": 5,
    "start_time": "2023-06-02T13:08:43.678Z"
   },
   {
    "duration": 9,
    "start_time": "2023-06-02T13:09:09.301Z"
   },
   {
    "duration": 7,
    "start_time": "2023-06-02T13:09:12.110Z"
   },
   {
    "duration": 1059,
    "start_time": "2023-06-02T13:10:46.366Z"
   },
   {
    "duration": 580,
    "start_time": "2023-06-02T13:10:48.350Z"
   },
   {
    "duration": 1084,
    "start_time": "2023-06-02T13:15:33.718Z"
   },
   {
    "duration": 554,
    "start_time": "2023-06-02T13:17:01.553Z"
   },
   {
    "duration": 1072,
    "start_time": "2023-06-02T13:17:11.650Z"
   },
   {
    "duration": 14,
    "start_time": "2023-06-02T13:17:59.853Z"
   },
   {
    "duration": 9,
    "start_time": "2023-06-02T13:19:37.955Z"
   },
   {
    "duration": 695,
    "start_time": "2023-06-02T13:24:31.282Z"
   },
   {
    "duration": 6,
    "start_time": "2023-06-02T13:24:33.047Z"
   },
   {
    "duration": 55,
    "start_time": "2023-06-02T13:33:11.995Z"
   },
   {
    "duration": 4,
    "start_time": "2023-06-02T13:33:16.843Z"
   },
   {
    "duration": 14,
    "start_time": "2023-06-02T13:33:18.687Z"
   },
   {
    "duration": 38,
    "start_time": "2023-06-02T13:33:38.015Z"
   },
   {
    "duration": 21,
    "start_time": "2023-06-02T13:36:58.747Z"
   },
   {
    "duration": 8,
    "start_time": "2023-06-02T13:37:57.542Z"
   },
   {
    "duration": 14,
    "start_time": "2023-06-02T13:38:03.598Z"
   },
   {
    "duration": 88,
    "start_time": "2023-06-02T13:38:33.071Z"
   },
   {
    "duration": 83,
    "start_time": "2023-06-02T13:41:49.467Z"
   },
   {
    "duration": 96,
    "start_time": "2023-06-02T13:44:04.079Z"
   },
   {
    "duration": 97,
    "start_time": "2023-06-02T13:44:10.147Z"
   },
   {
    "duration": 96,
    "start_time": "2023-06-02T13:44:18.449Z"
   },
   {
    "duration": 88,
    "start_time": "2023-06-02T13:44:27.665Z"
   },
   {
    "duration": 90,
    "start_time": "2023-06-02T13:44:30.798Z"
   },
   {
    "duration": 84,
    "start_time": "2023-06-02T13:45:41.791Z"
   },
   {
    "duration": 88,
    "start_time": "2023-06-02T13:45:46.295Z"
   },
   {
    "duration": 9,
    "start_time": "2023-06-02T13:48:44.567Z"
   },
   {
    "duration": 9,
    "start_time": "2023-06-02T13:48:47.903Z"
   },
   {
    "duration": 2,
    "start_time": "2023-06-02T13:49:07.912Z"
   },
   {
    "duration": 332,
    "start_time": "2023-06-02T13:49:10.559Z"
   },
   {
    "duration": 991,
    "start_time": "2023-06-02T13:49:40.663Z"
   },
   {
    "duration": 1188,
    "start_time": "2023-06-02T13:49:47.070Z"
   },
   {
    "duration": 1074,
    "start_time": "2023-06-02T13:50:08.559Z"
   },
   {
    "duration": 1064,
    "start_time": "2023-06-02T13:50:31.887Z"
   },
   {
    "duration": 3,
    "start_time": "2023-06-02T13:53:25.392Z"
   },
   {
    "duration": 753,
    "start_time": "2023-06-02T13:54:09.967Z"
   },
   {
    "duration": 362,
    "start_time": "2023-06-02T13:54:20.979Z"
   },
   {
    "duration": 82,
    "start_time": "2023-06-02T13:54:27.235Z"
   },
   {
    "duration": 16,
    "start_time": "2023-06-02T13:54:30.471Z"
   },
   {
    "duration": 19,
    "start_time": "2023-06-02T13:54:33.938Z"
   },
   {
    "duration": 491,
    "start_time": "2023-06-02T13:54:36.539Z"
   },
   {
    "duration": 678,
    "start_time": "2023-06-02T13:54:56.243Z"
   },
   {
    "duration": 77,
    "start_time": "2023-06-02T14:02:59.589Z"
   },
   {
    "duration": 9,
    "start_time": "2023-06-02T14:14:12.079Z"
   },
   {
    "duration": 9,
    "start_time": "2023-06-02T14:14:15.750Z"
   },
   {
    "duration": 10,
    "start_time": "2023-06-02T14:14:20.560Z"
   },
   {
    "duration": 4,
    "start_time": "2023-06-02T14:16:28.759Z"
   },
   {
    "duration": 15,
    "start_time": "2023-06-02T14:16:31.384Z"
   },
   {
    "duration": 11,
    "start_time": "2023-06-02T14:17:00.564Z"
   },
   {
    "duration": 14,
    "start_time": "2023-06-02T14:17:05.360Z"
   },
   {
    "duration": 6,
    "start_time": "2023-06-02T14:17:28.952Z"
   },
   {
    "duration": 5,
    "start_time": "2023-06-02T14:17:33.161Z"
   },
   {
    "duration": 17,
    "start_time": "2023-06-02T14:18:05.808Z"
   },
   {
    "duration": 9,
    "start_time": "2023-06-02T14:18:10.054Z"
   },
   {
    "duration": 6,
    "start_time": "2023-06-02T14:18:12.999Z"
   },
   {
    "duration": 6,
    "start_time": "2023-06-02T14:18:24.287Z"
   },
   {
    "duration": 14,
    "start_time": "2023-06-02T14:19:19.368Z"
   },
   {
    "duration": 9,
    "start_time": "2023-06-02T14:19:24.840Z"
   },
   {
    "duration": 20,
    "start_time": "2023-06-02T14:19:29.015Z"
   },
   {
    "duration": 13,
    "start_time": "2023-06-02T14:19:38.439Z"
   },
   {
    "duration": 9,
    "start_time": "2023-06-02T14:19:48.087Z"
   },
   {
    "duration": 6,
    "start_time": "2023-06-02T14:19:51.480Z"
   },
   {
    "duration": 6,
    "start_time": "2023-06-02T14:19:54.991Z"
   },
   {
    "duration": 13,
    "start_time": "2023-06-02T14:20:02.736Z"
   },
   {
    "duration": 34,
    "start_time": "2023-06-02T14:20:05.999Z"
   },
   {
    "duration": 8,
    "start_time": "2023-06-02T14:21:02.104Z"
   },
   {
    "duration": 10,
    "start_time": "2023-06-02T14:21:23.052Z"
   },
   {
    "duration": 15,
    "start_time": "2023-06-02T14:21:25.911Z"
   },
   {
    "duration": 68,
    "start_time": "2023-06-02T14:22:03.308Z"
   },
   {
    "duration": 14,
    "start_time": "2023-06-02T14:22:03.379Z"
   },
   {
    "duration": 88,
    "start_time": "2023-06-02T14:22:03.395Z"
   },
   {
    "duration": 10,
    "start_time": "2023-06-02T14:22:03.485Z"
   },
   {
    "duration": 11,
    "start_time": "2023-06-02T14:22:03.499Z"
   },
   {
    "duration": 764,
    "start_time": "2023-06-02T14:22:03.512Z"
   },
   {
    "duration": 11,
    "start_time": "2023-06-02T14:22:04.278Z"
   },
   {
    "duration": 6,
    "start_time": "2023-06-02T14:22:04.290Z"
   },
   {
    "duration": 26,
    "start_time": "2023-06-02T14:22:04.297Z"
   },
   {
    "duration": 90,
    "start_time": "2023-06-02T14:22:04.324Z"
   },
   {
    "duration": 1240,
    "start_time": "2023-06-02T14:22:04.421Z"
   },
   {
    "duration": 1684,
    "start_time": "2023-06-02T14:22:05.665Z"
   },
   {
    "duration": 217,
    "start_time": "2023-06-02T14:22:07.354Z"
   },
   {
    "duration": 10,
    "start_time": "2023-06-02T14:22:07.574Z"
   },
   {
    "duration": 3,
    "start_time": "2023-06-02T14:40:03.264Z"
   },
   {
    "duration": 520,
    "start_time": "2023-06-02T15:06:37.368Z"
   },
   {
    "duration": 10,
    "start_time": "2023-06-02T15:06:37.890Z"
   },
   {
    "duration": 14,
    "start_time": "2023-06-02T15:06:37.902Z"
   },
   {
    "duration": 5,
    "start_time": "2023-06-02T15:06:37.917Z"
   },
   {
    "duration": 10,
    "start_time": "2023-06-02T15:06:37.924Z"
   },
   {
    "duration": 901,
    "start_time": "2023-06-02T15:06:37.935Z"
   },
   {
    "duration": 10,
    "start_time": "2023-06-02T15:06:38.838Z"
   },
   {
    "duration": 1963,
    "start_time": "2023-06-02T15:06:38.850Z"
   },
   {
    "duration": 6,
    "start_time": "2023-06-02T15:06:40.815Z"
   },
   {
    "duration": 78,
    "start_time": "2023-06-02T15:06:40.822Z"
   },
   {
    "duration": 1023,
    "start_time": "2023-06-02T15:06:40.901Z"
   },
   {
    "duration": 96,
    "start_time": "2023-06-02T15:06:41.926Z"
   },
   {
    "duration": 243,
    "start_time": "2023-06-02T15:06:42.023Z"
   },
   {
    "duration": 8,
    "start_time": "2023-06-02T15:06:42.269Z"
   },
   {
    "duration": 4531,
    "start_time": "2023-06-03T15:55:59.077Z"
   },
   {
    "duration": 2060,
    "start_time": "2023-06-03T15:56:57.659Z"
   },
   {
    "duration": 1937,
    "start_time": "2023-06-03T16:05:42.411Z"
   },
   {
    "duration": 11,
    "start_time": "2023-06-03T16:05:44.350Z"
   },
   {
    "duration": 12,
    "start_time": "2023-06-03T16:05:44.363Z"
   },
   {
    "duration": 13,
    "start_time": "2023-06-03T16:05:44.376Z"
   },
   {
    "duration": 20,
    "start_time": "2023-06-03T16:05:44.392Z"
   },
   {
    "duration": 513,
    "start_time": "2023-06-03T16:05:44.413Z"
   },
   {
    "duration": 10,
    "start_time": "2023-06-03T16:05:44.927Z"
   },
   {
    "duration": 66,
    "start_time": "2023-06-03T16:05:47.082Z"
   },
   {
    "duration": 9,
    "start_time": "2023-06-03T16:06:37.890Z"
   },
   {
    "duration": 124,
    "start_time": "2023-06-03T16:08:40.011Z"
   },
   {
    "duration": 9,
    "start_time": "2023-06-03T16:09:11.883Z"
   },
   {
    "duration": 9,
    "start_time": "2023-06-03T16:09:18.587Z"
   },
   {
    "duration": 8,
    "start_time": "2023-06-03T16:09:21.230Z"
   },
   {
    "duration": 1874,
    "start_time": "2023-06-03T16:30:40.488Z"
   },
   {
    "duration": 15,
    "start_time": "2023-06-03T16:34:51.192Z"
   },
   {
    "duration": 2023,
    "start_time": "2023-06-03T16:35:29.049Z"
   },
   {
    "duration": 443,
    "start_time": "2023-06-03T16:35:36.891Z"
   },
   {
    "duration": 69,
    "start_time": "2023-06-03T16:36:00.115Z"
   },
   {
    "duration": 377,
    "start_time": "2023-06-03T16:36:05.651Z"
   },
   {
    "duration": 405,
    "start_time": "2023-06-03T16:37:25.139Z"
   },
   {
    "duration": 19,
    "start_time": "2023-06-03T16:41:04.720Z"
   },
   {
    "duration": 317,
    "start_time": "2023-06-03T16:41:42.659Z"
   },
   {
    "duration": 1561,
    "start_time": "2023-06-03T16:41:49.092Z"
   },
   {
    "duration": 1632,
    "start_time": "2023-06-03T16:42:04.412Z"
   },
   {
    "duration": 2339,
    "start_time": "2023-06-03T16:45:00.968Z"
   },
   {
    "duration": 8,
    "start_time": "2023-06-03T16:45:38.995Z"
   },
   {
    "duration": 7,
    "start_time": "2023-06-03T16:45:45.035Z"
   },
   {
    "duration": 372,
    "start_time": "2023-06-03T16:46:21.467Z"
   },
   {
    "duration": 391,
    "start_time": "2023-06-03T16:46:23.539Z"
   },
   {
    "duration": 394,
    "start_time": "2023-06-03T16:46:25.291Z"
   },
   {
    "duration": 355,
    "start_time": "2023-06-03T16:46:27.334Z"
   },
   {
    "duration": 327,
    "start_time": "2023-06-03T16:46:29.371Z"
   },
   {
    "duration": 357,
    "start_time": "2023-06-03T16:46:55.483Z"
   },
   {
    "duration": 370,
    "start_time": "2023-06-03T16:46:59.563Z"
   },
   {
    "duration": 365,
    "start_time": "2023-06-03T16:47:01.531Z"
   },
   {
    "duration": 296,
    "start_time": "2023-06-03T16:47:03.411Z"
   },
   {
    "duration": 382,
    "start_time": "2023-06-03T16:47:05.651Z"
   },
   {
    "duration": 381,
    "start_time": "2023-06-03T16:47:20.666Z"
   },
   {
    "duration": 383,
    "start_time": "2023-06-03T16:47:25.707Z"
   },
   {
    "duration": 392,
    "start_time": "2023-06-03T16:47:27.900Z"
   },
   {
    "duration": 392,
    "start_time": "2023-06-03T16:47:29.674Z"
   },
   {
    "duration": 14,
    "start_time": "2023-06-03T16:47:34.211Z"
   },
   {
    "duration": 17,
    "start_time": "2023-06-03T16:47:36.921Z"
   },
   {
    "duration": 407,
    "start_time": "2023-06-03T16:47:39.335Z"
   },
   {
    "duration": 382,
    "start_time": "2023-06-03T16:47:41.355Z"
   },
   {
    "duration": 370,
    "start_time": "2023-06-03T16:47:45.907Z"
   },
   {
    "duration": 410,
    "start_time": "2023-06-03T16:47:47.948Z"
   },
   {
    "duration": 424,
    "start_time": "2023-06-03T16:47:50.811Z"
   },
   {
    "duration": 34,
    "start_time": "2023-06-03T16:51:43.596Z"
   },
   {
    "duration": 6,
    "start_time": "2023-06-03T16:52:24.284Z"
   },
   {
    "duration": 8,
    "start_time": "2023-06-03T16:53:19.788Z"
   },
   {
    "duration": 971,
    "start_time": "2023-06-03T16:53:38.563Z"
   },
   {
    "duration": 9,
    "start_time": "2023-06-03T16:53:42.340Z"
   },
   {
    "duration": 9,
    "start_time": "2023-06-03T16:53:47.764Z"
   },
   {
    "duration": 1969,
    "start_time": "2023-06-03T16:56:57.097Z"
   },
   {
    "duration": 7,
    "start_time": "2023-06-03T16:57:04.275Z"
   },
   {
    "duration": 364,
    "start_time": "2023-06-03T16:57:06.004Z"
   },
   {
    "duration": 6,
    "start_time": "2023-06-03T16:57:07.836Z"
   },
   {
    "duration": 8,
    "start_time": "2023-06-03T16:57:37.316Z"
   },
   {
    "duration": 13,
    "start_time": "2023-06-03T16:58:44.507Z"
   },
   {
    "duration": 11,
    "start_time": "2023-06-03T16:58:48.100Z"
   },
   {
    "duration": 26,
    "start_time": "2023-06-03T16:58:55.700Z"
   },
   {
    "duration": 22,
    "start_time": "2023-06-03T16:59:08.243Z"
   },
   {
    "duration": 21,
    "start_time": "2023-06-03T16:59:11.251Z"
   },
   {
    "duration": 5,
    "start_time": "2023-06-03T17:06:03.788Z"
   },
   {
    "duration": 11,
    "start_time": "2023-06-03T17:06:15.108Z"
   },
   {
    "duration": 6,
    "start_time": "2023-06-03T17:06:24.907Z"
   },
   {
    "duration": 6,
    "start_time": "2023-06-03T17:06:30.827Z"
   },
   {
    "duration": 7,
    "start_time": "2023-06-03T17:06:57.572Z"
   },
   {
    "duration": 7,
    "start_time": "2023-06-03T17:07:56.012Z"
   },
   {
    "duration": 9,
    "start_time": "2023-06-03T17:11:30.388Z"
   },
   {
    "duration": 11,
    "start_time": "2023-06-03T17:11:53.340Z"
   },
   {
    "duration": 10,
    "start_time": "2023-06-03T17:11:56.004Z"
   },
   {
    "duration": 10,
    "start_time": "2023-06-03T17:12:50.796Z"
   },
   {
    "duration": 7,
    "start_time": "2023-06-03T17:12:59.548Z"
   },
   {
    "duration": 13,
    "start_time": "2023-06-03T17:14:22.531Z"
   },
   {
    "duration": 2029,
    "start_time": "2023-06-03T17:14:46.516Z"
   },
   {
    "duration": 18,
    "start_time": "2023-06-03T17:14:52.835Z"
   },
   {
    "duration": 143,
    "start_time": "2023-06-03T17:15:37.108Z"
   },
   {
    "duration": 122,
    "start_time": "2023-06-03T17:15:41.067Z"
   },
   {
    "duration": 129,
    "start_time": "2023-06-03T17:15:44.140Z"
   },
   {
    "duration": 129,
    "start_time": "2023-06-03T17:17:14.411Z"
   },
   {
    "duration": 1874,
    "start_time": "2023-06-03T17:23:35.584Z"
   },
   {
    "duration": 11,
    "start_time": "2023-06-03T17:23:37.460Z"
   },
   {
    "duration": 11,
    "start_time": "2023-06-03T17:23:37.472Z"
   },
   {
    "duration": 6,
    "start_time": "2023-06-03T17:23:37.485Z"
   },
   {
    "duration": 12,
    "start_time": "2023-06-03T17:23:37.493Z"
   },
   {
    "duration": 512,
    "start_time": "2023-06-03T17:23:37.507Z"
   },
   {
    "duration": 11,
    "start_time": "2023-06-03T17:23:38.021Z"
   },
   {
    "duration": 11,
    "start_time": "2023-06-03T17:23:38.034Z"
   },
   {
    "duration": 382,
    "start_time": "2023-06-03T17:23:38.047Z"
   },
   {
    "duration": 8,
    "start_time": "2023-06-03T17:23:38.431Z"
   },
   {
    "duration": 10,
    "start_time": "2023-06-03T17:23:38.440Z"
   },
   {
    "duration": 995,
    "start_time": "2023-06-03T17:23:38.452Z"
   },
   {
    "duration": 10,
    "start_time": "2023-06-03T17:23:39.449Z"
   },
   {
    "duration": 12,
    "start_time": "2023-06-03T17:23:39.461Z"
   },
   {
    "duration": 41,
    "start_time": "2023-06-03T17:23:39.475Z"
   },
   {
    "duration": 7,
    "start_time": "2023-06-03T17:23:39.517Z"
   },
   {
    "duration": 17,
    "start_time": "2023-06-03T17:23:39.525Z"
   },
   {
    "duration": 7,
    "start_time": "2023-06-03T17:23:39.544Z"
   },
   {
    "duration": 151,
    "start_time": "2023-06-03T17:23:39.553Z"
   },
   {
    "duration": 1902,
    "start_time": "2023-06-03T17:24:33.807Z"
   },
   {
    "duration": 11,
    "start_time": "2023-06-03T17:24:35.711Z"
   },
   {
    "duration": 20,
    "start_time": "2023-06-03T17:24:35.724Z"
   },
   {
    "duration": 13,
    "start_time": "2023-06-03T17:24:35.746Z"
   },
   {
    "duration": 12,
    "start_time": "2023-06-03T17:24:35.762Z"
   },
   {
    "duration": 590,
    "start_time": "2023-06-03T17:24:35.776Z"
   },
   {
    "duration": 10,
    "start_time": "2023-06-03T17:24:36.367Z"
   },
   {
    "duration": 6,
    "start_time": "2023-06-03T17:24:36.378Z"
   },
   {
    "duration": 361,
    "start_time": "2023-06-03T17:24:36.386Z"
   },
   {
    "duration": 7,
    "start_time": "2023-06-03T17:24:36.748Z"
   },
   {
    "duration": 7,
    "start_time": "2023-06-03T17:24:36.756Z"
   },
   {
    "duration": 1011,
    "start_time": "2023-06-03T17:24:36.765Z"
   },
   {
    "duration": 8,
    "start_time": "2023-06-03T17:24:37.778Z"
   },
   {
    "duration": 9,
    "start_time": "2023-06-03T17:24:37.789Z"
   },
   {
    "duration": 24,
    "start_time": "2023-06-03T17:24:37.815Z"
   },
   {
    "duration": 6,
    "start_time": "2023-06-03T17:24:37.841Z"
   },
   {
    "duration": 8,
    "start_time": "2023-06-03T17:24:37.848Z"
   },
   {
    "duration": 6,
    "start_time": "2023-06-03T17:24:37.858Z"
   },
   {
    "duration": 178,
    "start_time": "2023-06-03T17:24:37.867Z"
   }
  ],
  "kernelspec": {
   "display_name": "Python 3 (ipykernel)",
   "language": "python",
   "name": "python3"
  },
  "language_info": {
   "codemirror_mode": {
    "name": "ipython",
    "version": 3
   },
   "file_extension": ".py",
   "mimetype": "text/x-python",
   "name": "python",
   "nbconvert_exporter": "python",
   "pygments_lexer": "ipython3",
   "version": "3.10.9"
  },
  "toc": {
   "base_numbering": 1,
   "nav_menu": {},
   "number_sections": true,
   "sideBar": true,
   "skip_h1_title": true,
   "title_cell": "Table of Contents",
   "title_sidebar": "Contents",
   "toc_cell": false,
   "toc_position": {},
   "toc_section_display": true,
   "toc_window_display": true
  }
 },
 "nbformat": 4,
 "nbformat_minor": 2
}
