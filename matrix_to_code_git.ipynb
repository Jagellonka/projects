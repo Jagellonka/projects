{
 "cells": [
  {
   "cell_type": "markdown",
   "metadata": {
    "toc": true
   },
   "source": [
    "<h1>Содержание<span class=\"tocSkip\"></span></h1>\n",
    "<div class=\"toc\"><ul class=\"toc-item\"><li><span><a href=\"#Загрузка-данных\" data-toc-modified-id=\"Загрузка-данных-1\"><span class=\"toc-item-num\">1&nbsp;&nbsp;</span>Загрузка данных</a></span></li><li><span><a href=\"#Умножение-матриц\" data-toc-modified-id=\"Умножение-матриц-2\"><span class=\"toc-item-num\">2&nbsp;&nbsp;</span>Умножение матриц</a></span></li><li><span><a href=\"#Алгоритм-преобразования\" data-toc-modified-id=\"Алгоритм-преобразования-3\"><span class=\"toc-item-num\">3&nbsp;&nbsp;</span>Алгоритм преобразования</a></span></li><li><span><a href=\"#Проверка-алгоритма\" data-toc-modified-id=\"Проверка-алгоритма-4\"><span class=\"toc-item-num\">4&nbsp;&nbsp;</span>Проверка алгоритма</a></span></li><li><span><a href=\"#Вывод\" data-toc-modified-id=\"Вывод-5\"><span class=\"toc-item-num\">5&nbsp;&nbsp;</span>Вывод</a></span></li><li><span><a href=\"#Чек-лист-проверки\" data-toc-modified-id=\"Чек-лист-проверки-6\"><span class=\"toc-item-num\">6&nbsp;&nbsp;</span>Чек-лист проверки</a></span></li></ul></div>"
   ]
  },
  {
   "cell_type": "markdown",
   "metadata": {},
   "source": [
    "# Защита персональных данных клиентов"
   ]
  },
  {
   "cell_type": "markdown",
   "metadata": {},
   "source": [
    "Вам нужно защитить данные клиентов страховой компании «Хоть потоп». Разработайте такой метод преобразования данных, чтобы по ним было сложно восстановить персональную информацию. Обоснуйте корректность его работы.\n",
    "\n",
    "Нужно защитить данные, чтобы при преобразовании качество моделей машинного обучения не ухудшилось. Подбирать наилучшую модель не требуется."
   ]
  },
  {
   "cell_type": "markdown",
   "metadata": {},
   "source": [
    "## Загрузка данных"
   ]
  },
  {
   "cell_type": "code",
   "execution_count": 1,
   "metadata": {},
   "outputs": [],
   "source": [
    "import pandas as pd # библиотека Pandas\n",
    "import numpy as np # библиотека NumPy\n",
    "from sklearn.linear_model import LinearRegression # линейная регрессия\n",
    "from sklearn.metrics import r2_score # r2 метрика"
   ]
  },
  {
   "cell_type": "code",
   "execution_count": 2,
   "metadata": {},
   "outputs": [],
   "source": [
    "data = pd.read_csv('/datasets/insurance.csv')"
   ]
  },
  {
   "cell_type": "code",
   "execution_count": 3,
   "metadata": {
    "scrolled": false
   },
   "outputs": [
    {
     "name": "stdout",
     "output_type": "stream",
     "text": [
      "<class 'pandas.core.frame.DataFrame'>\n",
      "RangeIndex: 5000 entries, 0 to 4999\n",
      "Data columns (total 5 columns):\n",
      " #   Column             Non-Null Count  Dtype  \n",
      "---  ------             --------------  -----  \n",
      " 0   Пол                5000 non-null   int64  \n",
      " 1   Возраст            5000 non-null   float64\n",
      " 2   Зарплата           5000 non-null   float64\n",
      " 3   Члены семьи        5000 non-null   int64  \n",
      " 4   Страховые выплаты  5000 non-null   int64  \n",
      "dtypes: float64(2), int64(3)\n",
      "memory usage: 195.4 KB\n"
     ]
    },
    {
     "data": {
      "text/html": [
       "<div>\n",
       "<style scoped>\n",
       "    .dataframe tbody tr th:only-of-type {\n",
       "        vertical-align: middle;\n",
       "    }\n",
       "\n",
       "    .dataframe tbody tr th {\n",
       "        vertical-align: top;\n",
       "    }\n",
       "\n",
       "    .dataframe thead th {\n",
       "        text-align: right;\n",
       "    }\n",
       "</style>\n",
       "<table border=\"1\" class=\"dataframe\">\n",
       "  <thead>\n",
       "    <tr style=\"text-align: right;\">\n",
       "      <th></th>\n",
       "      <th>Пол</th>\n",
       "      <th>Возраст</th>\n",
       "      <th>Зарплата</th>\n",
       "      <th>Члены семьи</th>\n",
       "      <th>Страховые выплаты</th>\n",
       "    </tr>\n",
       "  </thead>\n",
       "  <tbody>\n",
       "    <tr>\n",
       "      <th>0</th>\n",
       "      <td>1</td>\n",
       "      <td>41.0</td>\n",
       "      <td>49600.0</td>\n",
       "      <td>1</td>\n",
       "      <td>0</td>\n",
       "    </tr>\n",
       "    <tr>\n",
       "      <th>1</th>\n",
       "      <td>0</td>\n",
       "      <td>46.0</td>\n",
       "      <td>38000.0</td>\n",
       "      <td>1</td>\n",
       "      <td>1</td>\n",
       "    </tr>\n",
       "    <tr>\n",
       "      <th>2</th>\n",
       "      <td>0</td>\n",
       "      <td>29.0</td>\n",
       "      <td>21000.0</td>\n",
       "      <td>0</td>\n",
       "      <td>0</td>\n",
       "    </tr>\n",
       "    <tr>\n",
       "      <th>3</th>\n",
       "      <td>0</td>\n",
       "      <td>21.0</td>\n",
       "      <td>41700.0</td>\n",
       "      <td>2</td>\n",
       "      <td>0</td>\n",
       "    </tr>\n",
       "    <tr>\n",
       "      <th>4</th>\n",
       "      <td>1</td>\n",
       "      <td>28.0</td>\n",
       "      <td>26100.0</td>\n",
       "      <td>0</td>\n",
       "      <td>0</td>\n",
       "    </tr>\n",
       "  </tbody>\n",
       "</table>\n",
       "</div>"
      ],
      "text/plain": [
       "   Пол  Возраст  Зарплата  Члены семьи  Страховые выплаты\n",
       "0    1     41.0   49600.0            1                  0\n",
       "1    0     46.0   38000.0            1                  1\n",
       "2    0     29.0   21000.0            0                  0\n",
       "3    0     21.0   41700.0            2                  0\n",
       "4    1     28.0   26100.0            0                  0"
      ]
     },
     "metadata": {},
     "output_type": "display_data"
    }
   ],
   "source": [
    "data.info()\n",
    "display(data.head())"
   ]
  },
  {
   "cell_type": "markdown",
   "metadata": {},
   "source": [
    "Датасет состоит из 5 тысяч строк и 5 столбцов. Обучающие признаки: пол, возраст, зарплата, количество членов семьи. Целевой признак — количество страховых выплат."
   ]
  },
  {
   "cell_type": "markdown",
   "metadata": {},
   "source": [
    "## Умножение матриц"
   ]
  },
  {
   "cell_type": "markdown",
   "metadata": {},
   "source": [
    "Обозначения:\n",
    "\n",
    "- $X$ — матрица признаков (нулевой столбец состоит из единиц)\n",
    "\n",
    "- $y$ — вектор целевого признака\n",
    "\n",
    "- $P$ — матрица, на которую умножаются признаки\n",
    "\n",
    "- $w$ — вектор весов линейной регрессии (нулевой элемент равен сдвигу)"
   ]
  },
  {
   "cell_type": "markdown",
   "metadata": {},
   "source": [
    "Предсказания:\n",
    "\n",
    "$$\n",
    "a = Xw\n",
    "$$\n",
    "\n",
    "Задача обучения:\n",
    "\n",
    "$$\n",
    "w = \\arg\\min_w MSE(Xw, y)\n",
    "$$\n",
    "\n",
    "Формула обучения:\n",
    "\n",
    "$$\n",
    "w = (X^T X)^{-1} X^T y\n",
    "$$"
   ]
  },
  {
   "cell_type": "markdown",
   "metadata": {},
   "source": [
    "Требуется зашифровать данные так, чтобы модель линейной регрессии не потеряла своих качеств. Предлагается умножить признаки на матрицу, которая обратима. Вопрос: изменится ли качество модели на измененных признаках?"
   ]
  },
  {
   "cell_type": "markdown",
   "metadata": {},
   "source": [
    "**Ответ:** не изменится.\n",
    "\n",
    "**Обоснование:** запишем новую формулу.\n",
    "\n",
    "$$\n",
    "w = ((XP)^T (XP))^{-1} (XP)^T y\n",
    "$$\n",
    "\n",
    "Известно, что транспонирование произведения матриц равно произведению транспонированных матриц, взятых в обратном порядке, т.е.:\n",
    "\n",
    "$$\n",
    "(AB)^T = B^T A^T\n",
    "$$\n",
    "\n",
    "Перепишем уравнение:\n",
    "\n",
    "$$\n",
    "w = (P^T X^T (XP))^{-1} P^T X^T y\n",
    "$$\n",
    "\n",
    "Также известно свойство обратных матриц:\n",
    "\n",
    "$$\n",
    "(AB)^{-1} = B^{-1} A^{-1}\n",
    "$$\n",
    "\n",
    "И свойство ассоциативности матриц:\n",
    "\n",
    "$$\n",
    "A (BC) = (AB) C\n",
    "$$\n",
    "\n",
    "Перепишем уравнение:\n",
    "\n",
    "$$\n",
    "w = P^{-1}(X^T X)^{-1} P^{T^{-1}} P^T X^T y\n",
    "$$\n",
    "\n",
    "Матрица, умноженная на обратную, обладает следующим свойством:\n",
    "\n",
    "$$\n",
    "A A^{-1} = A^{-1} A = E\n",
    "$$\n",
    "\n",
    "В итоге уравнение принимает вид:\n",
    "\n",
    "$$\n",
    "w = P^{-1} (X^T X)^{-1} X^T y\n",
    "$$\n"
   ]
  },
  {
   "cell_type": "markdown",
   "metadata": {},
   "source": [
    "В итоге получается, что в формуле предсказания появляется две новых переменных, которые дают в произведении E:\n",
    "\n",
    "$$\n",
    "a = XP P^{-1} w = X E w\n",
    "$$\n",
    "\n",
    "А как известно:\n",
    "\n",
    "$$\n",
    "X E = X\n",
    "$$\n",
    "\n",
    "Следовательно:\n",
    "\n",
    "$$\n",
    "a = X w\n",
    "$$"
   ]
  },
  {
   "cell_type": "markdown",
   "metadata": {},
   "source": [
    "Что и требовалось доказать."
   ]
  },
  {
   "cell_type": "markdown",
   "metadata": {},
   "source": [
    "Разница формулы весов для обычных и преобразованных признаков."
   ]
  },
  {
   "cell_type": "markdown",
   "metadata": {},
   "source": [
    "$$\n",
    "w = (X^T X)^{-1} X^T y\n",
    "$$$$\n",
    "w_P = P^{-1} (X^T X)^{-1} X^T y\n",
    "$$"
   ]
  },
  {
   "cell_type": "markdown",
   "metadata": {},
   "source": [
    "Новая формула содержит коэффициент.\n",
    "\n",
    "$$\n",
    "P^{-1}\n",
    "$$\n",
    "\n",
    "Данный коэффициент сокращается во время нахождения целевого признака,"
   ]
  },
  {
   "cell_type": "markdown",
   "metadata": {},
   "source": [
    "## Алгоритм преобразования"
   ]
  },
  {
   "cell_type": "markdown",
   "metadata": {},
   "source": [
    "**Алгоритм**\n",
    "\n",
    "Возьмем случайную матрицу размеров 4 х 4 (только квадратная матрица имеет обратную), и умножим признаки на нее, далее обучим модель на новых признаках и сравним качество модели с оригинальной.\n",
    "\n",
    "**Обоснование**\n",
    "\n",
    "Алгоритм обосновывается формулой, которая была выведена выше. Ниже можно рассмотреть пример, которые иллюстрирует формулу."
   ]
  },
  {
   "cell_type": "markdown",
   "metadata": {},
   "source": [
    "Выделим обучающие признаки и умножим на случайную матрицу 4 х 4, а далее на обратную ей матрицу, мы должны получить исходные данные."
   ]
  },
  {
   "cell_type": "code",
   "execution_count": 4,
   "metadata": {},
   "outputs": [],
   "source": [
    "np.random.seed(75)\n",
    "test_features = data.drop(columns='Страховые выплаты').head(4)\n",
    "test_matrix = np.random.rand(4,4)\n",
    "inv_test_matrix = np.linalg.inv(test_matrix)"
   ]
  },
  {
   "cell_type": "code",
   "execution_count": 5,
   "metadata": {},
   "outputs": [
    {
     "data": {
      "text/html": [
       "<div>\n",
       "<style scoped>\n",
       "    .dataframe tbody tr th:only-of-type {\n",
       "        vertical-align: middle;\n",
       "    }\n",
       "\n",
       "    .dataframe tbody tr th {\n",
       "        vertical-align: top;\n",
       "    }\n",
       "\n",
       "    .dataframe thead th {\n",
       "        text-align: right;\n",
       "    }\n",
       "</style>\n",
       "<table border=\"1\" class=\"dataframe\">\n",
       "  <thead>\n",
       "    <tr style=\"text-align: right;\">\n",
       "      <th></th>\n",
       "      <th>Пол</th>\n",
       "      <th>Возраст</th>\n",
       "      <th>Зарплата</th>\n",
       "      <th>Члены семьи</th>\n",
       "    </tr>\n",
       "  </thead>\n",
       "  <tbody>\n",
       "    <tr>\n",
       "      <th>0</th>\n",
       "      <td>1</td>\n",
       "      <td>41.0</td>\n",
       "      <td>49600.0</td>\n",
       "      <td>1</td>\n",
       "    </tr>\n",
       "    <tr>\n",
       "      <th>1</th>\n",
       "      <td>0</td>\n",
       "      <td>46.0</td>\n",
       "      <td>38000.0</td>\n",
       "      <td>1</td>\n",
       "    </tr>\n",
       "    <tr>\n",
       "      <th>2</th>\n",
       "      <td>0</td>\n",
       "      <td>29.0</td>\n",
       "      <td>21000.0</td>\n",
       "      <td>0</td>\n",
       "    </tr>\n",
       "    <tr>\n",
       "      <th>3</th>\n",
       "      <td>0</td>\n",
       "      <td>21.0</td>\n",
       "      <td>41700.0</td>\n",
       "      <td>2</td>\n",
       "    </tr>\n",
       "  </tbody>\n",
       "</table>\n",
       "</div>"
      ],
      "text/plain": [
       "   Пол  Возраст  Зарплата  Члены семьи\n",
       "0    1     41.0   49600.0            1\n",
       "1    0     46.0   38000.0            1\n",
       "2    0     29.0   21000.0            0\n",
       "3    0     21.0   41700.0            2"
      ]
     },
     "metadata": {},
     "output_type": "display_data"
    },
    {
     "data": {
      "text/html": [
       "<div>\n",
       "<style scoped>\n",
       "    .dataframe tbody tr th:only-of-type {\n",
       "        vertical-align: middle;\n",
       "    }\n",
       "\n",
       "    .dataframe tbody tr th {\n",
       "        vertical-align: top;\n",
       "    }\n",
       "\n",
       "    .dataframe thead th {\n",
       "        text-align: right;\n",
       "    }\n",
       "</style>\n",
       "<table border=\"1\" class=\"dataframe\">\n",
       "  <thead>\n",
       "    <tr style=\"text-align: right;\">\n",
       "      <th></th>\n",
       "      <th>0</th>\n",
       "      <th>1</th>\n",
       "      <th>2</th>\n",
       "      <th>3</th>\n",
       "    </tr>\n",
       "  </thead>\n",
       "  <tbody>\n",
       "    <tr>\n",
       "      <th>0</th>\n",
       "      <td>1</td>\n",
       "      <td>41</td>\n",
       "      <td>49600</td>\n",
       "      <td>1</td>\n",
       "    </tr>\n",
       "    <tr>\n",
       "      <th>1</th>\n",
       "      <td>0</td>\n",
       "      <td>46</td>\n",
       "      <td>38000</td>\n",
       "      <td>1</td>\n",
       "    </tr>\n",
       "    <tr>\n",
       "      <th>2</th>\n",
       "      <td>0</td>\n",
       "      <td>29</td>\n",
       "      <td>21000</td>\n",
       "      <td>0</td>\n",
       "    </tr>\n",
       "    <tr>\n",
       "      <th>3</th>\n",
       "      <td>0</td>\n",
       "      <td>21</td>\n",
       "      <td>41700</td>\n",
       "      <td>2</td>\n",
       "    </tr>\n",
       "  </tbody>\n",
       "</table>\n",
       "</div>"
      ],
      "text/plain": [
       "   0   1      2  3\n",
       "0  1  41  49600  1\n",
       "1  0  46  38000  1\n",
       "2  0  29  21000  0\n",
       "3  0  21  41700  2"
      ]
     },
     "metadata": {},
     "output_type": "display_data"
    }
   ],
   "source": [
    "display(test_features)\n",
    "display((np.round(test_features @ test_matrix @ inv_test_matrix)).astype('int64'))"
   ]
  },
  {
   "cell_type": "markdown",
   "metadata": {},
   "source": [
    "Как можно заметить, данные после преобразование не изменились, формула работает."
   ]
  },
  {
   "cell_type": "markdown",
   "metadata": {},
   "source": [
    "## Проверка алгоритма"
   ]
  },
  {
   "cell_type": "code",
   "execution_count": 6,
   "metadata": {},
   "outputs": [
    {
     "name": "stdout",
     "output_type": "stream",
     "text": [
      "R2 оригинальной модели: 0.4249455028666801\n"
     ]
    }
   ],
   "source": [
    "features = data.drop(columns='Страховые выплаты', axis=1)\n",
    "target = data['Страховые выплаты']\n",
    "model_original = LinearRegression()\n",
    "model_original.fit(features, target)\n",
    "print('R2 оригинальной модели:', r2_score(target, model_original.predict(features)))"
   ]
  },
  {
   "cell_type": "markdown",
   "metadata": {},
   "source": [
    "Создадим матрицу 4 х 4 и проверим ее обратимость."
   ]
  },
  {
   "cell_type": "code",
   "execution_count": 7,
   "metadata": {},
   "outputs": [
    {
     "data": {
      "text/plain": [
       "array([[ -2.54773559,  -1.68021092,   0.19503476,   3.27472764],\n",
       "       [-16.29074687, -20.43153602,   3.55084425,  22.5865093 ],\n",
       "       [ 25.11292394,  32.1571056 ,  -3.84066438, -36.80061206],\n",
       "       [ -2.39036068,  -5.36595151,   0.51899692,   5.80976917]])"
      ]
     },
     "execution_count": 7,
     "metadata": {},
     "output_type": "execute_result"
    }
   ],
   "source": [
    "matrix = np.random.rand(4,4)\n",
    "np.linalg.inv(matrix)"
   ]
  },
  {
   "cell_type": "markdown",
   "metadata": {},
   "source": [
    "Матрица обратима, умножим ее на признаки и проверим модель."
   ]
  },
  {
   "cell_type": "code",
   "execution_count": 8,
   "metadata": {
    "scrolled": true
   },
   "outputs": [
    {
     "name": "stdout",
     "output_type": "stream",
     "text": [
      "R2 обновленной модели: 0.4249455028668023\n"
     ]
    }
   ],
   "source": [
    "new_features = features @ matrix\n",
    "model_matrix = LinearRegression()\n",
    "model_matrix.fit(new_features, target)\n",
    "print('R2 обновленной модели:', r2_score(target, model_matrix.predict(new_features)))"
   ]
  },
  {
   "cell_type": "markdown",
   "metadata": {},
   "source": [
    "Метрика практически не изменилась, при этом новые признаки выглядят так:"
   ]
  },
  {
   "cell_type": "code",
   "execution_count": 9,
   "metadata": {
    "scrolled": true
   },
   "outputs": [
    {
     "data": {
      "text/html": [
       "<div>\n",
       "<style scoped>\n",
       "    .dataframe tbody tr th:only-of-type {\n",
       "        vertical-align: middle;\n",
       "    }\n",
       "\n",
       "    .dataframe tbody tr th {\n",
       "        vertical-align: top;\n",
       "    }\n",
       "\n",
       "    .dataframe thead th {\n",
       "        text-align: right;\n",
       "    }\n",
       "</style>\n",
       "<table border=\"1\" class=\"dataframe\">\n",
       "  <thead>\n",
       "    <tr style=\"text-align: right;\">\n",
       "      <th></th>\n",
       "      <th>0</th>\n",
       "      <th>1</th>\n",
       "      <th>2</th>\n",
       "      <th>3</th>\n",
       "    </tr>\n",
       "  </thead>\n",
       "  <tbody>\n",
       "    <tr>\n",
       "      <th>0</th>\n",
       "      <td>37096.194474</td>\n",
       "      <td>48637.935027</td>\n",
       "      <td>38598.000194</td>\n",
       "      <td>34491.891247</td>\n",
       "    </tr>\n",
       "    <tr>\n",
       "      <th>1</th>\n",
       "      <td>28435.094125</td>\n",
       "      <td>37264.979140</td>\n",
       "      <td>29574.176738</td>\n",
       "      <td>26428.901763</td>\n",
       "    </tr>\n",
       "    <tr>\n",
       "      <th>2</th>\n",
       "      <td>15717.181938</td>\n",
       "      <td>20594.273639</td>\n",
       "      <td>16344.297849</td>\n",
       "      <td>14606.074515</td>\n",
       "    </tr>\n",
       "    <tr>\n",
       "      <th>3</th>\n",
       "      <td>31175.183025</td>\n",
       "      <td>40889.261084</td>\n",
       "      <td>32447.450605</td>\n",
       "      <td>28994.634380</td>\n",
       "    </tr>\n",
       "    <tr>\n",
       "      <th>4</th>\n",
       "      <td>19526.402573</td>\n",
       "      <td>25594.669298</td>\n",
       "      <td>20312.036095</td>\n",
       "      <td>18151.749432</td>\n",
       "    </tr>\n",
       "    <tr>\n",
       "      <th>...</th>\n",
       "      <td>...</td>\n",
       "      <td>...</td>\n",
       "      <td>...</td>\n",
       "      <td>...</td>\n",
       "    </tr>\n",
       "    <tr>\n",
       "      <th>4995</th>\n",
       "      <td>26699.828982</td>\n",
       "      <td>35007.371359</td>\n",
       "      <td>27781.025105</td>\n",
       "      <td>24825.726585</td>\n",
       "    </tr>\n",
       "    <tr>\n",
       "      <th>4996</th>\n",
       "      <td>39180.738695</td>\n",
       "      <td>51382.201697</td>\n",
       "      <td>40774.657400</td>\n",
       "      <td>36435.617044</td>\n",
       "    </tr>\n",
       "    <tr>\n",
       "      <th>4997</th>\n",
       "      <td>25347.133570</td>\n",
       "      <td>33241.358423</td>\n",
       "      <td>26378.868168</td>\n",
       "      <td>23572.241872</td>\n",
       "    </tr>\n",
       "    <tr>\n",
       "      <th>4998</th>\n",
       "      <td>24453.835567</td>\n",
       "      <td>32065.224929</td>\n",
       "      <td>25446.109567</td>\n",
       "      <td>22740.017813</td>\n",
       "    </tr>\n",
       "    <tr>\n",
       "      <th>4999</th>\n",
       "      <td>30359.688541</td>\n",
       "      <td>39811.735942</td>\n",
       "      <td>31593.174989</td>\n",
       "      <td>28231.985911</td>\n",
       "    </tr>\n",
       "  </tbody>\n",
       "</table>\n",
       "<p>5000 rows × 4 columns</p>\n",
       "</div>"
      ],
      "text/plain": [
       "                 0             1             2             3\n",
       "0     37096.194474  48637.935027  38598.000194  34491.891247\n",
       "1     28435.094125  37264.979140  29574.176738  26428.901763\n",
       "2     15717.181938  20594.273639  16344.297849  14606.074515\n",
       "3     31175.183025  40889.261084  32447.450605  28994.634380\n",
       "4     19526.402573  25594.669298  20312.036095  18151.749432\n",
       "...            ...           ...           ...           ...\n",
       "4995  26699.828982  35007.371359  27781.025105  24825.726585\n",
       "4996  39180.738695  51382.201697  40774.657400  36435.617044\n",
       "4997  25347.133570  33241.358423  26378.868168  23572.241872\n",
       "4998  24453.835567  32065.224929  25446.109567  22740.017813\n",
       "4999  30359.688541  39811.735942  31593.174989  28231.985911\n",
       "\n",
       "[5000 rows x 4 columns]"
      ]
     },
     "execution_count": 9,
     "metadata": {},
     "output_type": "execute_result"
    }
   ],
   "source": [
    "new_features"
   ]
  },
  {
   "cell_type": "markdown",
   "metadata": {},
   "source": [
    "## Вывод"
   ]
  },
  {
   "cell_type": "markdown",
   "metadata": {},
   "source": [
    "В данной работе требовалось зашифровать данные клиентов страховой фирмы так, чтобы не раскрывать информацию о клиенте. При этом в данных существует целевой признак, который должна рассчитывать модель линейной регрессии, важно, чтобы после шифрования модель могла продолжать работать."
   ]
  },
  {
   "cell_type": "markdown",
   "metadata": {},
   "source": [
    "Задача решается умножением обучающих признаков на обратимую матрицу. Характер предсказаний на новых данных не меняется, что было строго математически доказано и проверено."
   ]
  },
  {
   "cell_type": "code",
   "execution_count": null,
   "metadata": {},
   "outputs": [],
   "source": []
  }
 ],
 "metadata": {
  "ExecuteTimeLog": [
   {
    "duration": 415,
    "start_time": "2023-07-25T18:59:41.106Z"
   },
   {
    "duration": 100,
    "start_time": "2023-07-25T18:59:52.102Z"
   },
   {
    "duration": 22,
    "start_time": "2023-07-25T18:59:55.226Z"
   },
   {
    "duration": 51,
    "start_time": "2023-07-26T11:54:42.997Z"
   },
   {
    "duration": 6,
    "start_time": "2023-07-26T11:54:52.354Z"
   },
   {
    "duration": 394,
    "start_time": "2023-07-26T11:55:35.547Z"
   },
   {
    "duration": 76,
    "start_time": "2023-07-26T11:55:35.944Z"
   },
   {
    "duration": 27,
    "start_time": "2023-07-26T11:55:36.021Z"
   },
   {
    "duration": 3,
    "start_time": "2023-07-26T11:55:55.444Z"
   },
   {
    "duration": 10,
    "start_time": "2023-07-26T11:56:38.307Z"
   },
   {
    "duration": 21,
    "start_time": "2023-07-26T11:56:49.743Z"
   },
   {
    "duration": 14,
    "start_time": "2023-07-26T11:56:54.206Z"
   },
   {
    "duration": 1097,
    "start_time": "2023-07-26T13:00:30.797Z"
   },
   {
    "duration": 152,
    "start_time": "2023-07-26T13:01:37.156Z"
   },
   {
    "duration": 17,
    "start_time": "2023-07-26T13:01:42.495Z"
   },
   {
    "duration": 26,
    "start_time": "2023-07-26T13:01:49.015Z"
   },
   {
    "duration": 18,
    "start_time": "2023-07-26T13:02:21.823Z"
   },
   {
    "duration": 6,
    "start_time": "2023-07-26T13:03:00.909Z"
   },
   {
    "duration": 17,
    "start_time": "2023-07-26T13:04:51.185Z"
   },
   {
    "duration": 11,
    "start_time": "2023-07-26T13:05:06.874Z"
   },
   {
    "duration": 1149,
    "start_time": "2023-07-26T13:12:43.258Z"
   },
   {
    "duration": 50,
    "start_time": "2023-07-26T13:12:44.409Z"
   },
   {
    "duration": 38,
    "start_time": "2023-07-26T13:12:44.462Z"
   },
   {
    "duration": 138,
    "start_time": "2023-07-26T13:12:44.503Z"
   },
   {
    "duration": 14,
    "start_time": "2023-07-26T13:12:44.646Z"
   },
   {
    "duration": 242,
    "start_time": "2023-07-26T13:12:44.663Z"
   },
   {
    "duration": 183,
    "start_time": "2023-07-26T13:12:44.910Z"
   },
   {
    "duration": 1364,
    "start_time": "2023-07-26T13:13:00.397Z"
   },
   {
    "duration": 33,
    "start_time": "2023-07-26T13:13:01.764Z"
   },
   {
    "duration": 187,
    "start_time": "2023-07-26T13:13:01.800Z"
   },
   {
    "duration": 109,
    "start_time": "2023-07-26T13:13:01.988Z"
   },
   {
    "duration": 169,
    "start_time": "2023-07-26T13:13:02.100Z"
   },
   {
    "duration": 80,
    "start_time": "2023-07-26T13:13:02.271Z"
   },
   {
    "duration": 138,
    "start_time": "2023-07-26T13:13:02.359Z"
   },
   {
    "duration": 11,
    "start_time": "2023-07-26T13:13:17.357Z"
   },
   {
    "duration": 18,
    "start_time": "2023-07-26T13:13:19.557Z"
   },
   {
    "duration": 1244,
    "start_time": "2023-07-26T13:13:24.362Z"
   },
   {
    "duration": 31,
    "start_time": "2023-07-26T13:13:25.608Z"
   },
   {
    "duration": 33,
    "start_time": "2023-07-26T13:13:25.640Z"
   },
   {
    "duration": 58,
    "start_time": "2023-07-26T13:13:25.675Z"
   },
   {
    "duration": 157,
    "start_time": "2023-07-26T13:13:25.738Z"
   },
   {
    "duration": 135,
    "start_time": "2023-07-26T13:13:25.900Z"
   },
   {
    "duration": 90,
    "start_time": "2023-07-26T13:13:26.047Z"
   },
   {
    "duration": 16,
    "start_time": "2023-07-26T13:18:20.348Z"
   },
   {
    "duration": 7,
    "start_time": "2023-07-26T13:18:53.764Z"
   },
   {
    "duration": 142,
    "start_time": "2023-07-26T13:19:13.927Z"
   },
   {
    "duration": 7,
    "start_time": "2023-07-26T13:19:36.258Z"
   },
   {
    "duration": 25,
    "start_time": "2023-07-26T13:19:37.933Z"
   },
   {
    "duration": 22,
    "start_time": "2023-07-26T13:19:46.660Z"
   },
   {
    "duration": 21,
    "start_time": "2023-07-26T13:20:46.023Z"
   },
   {
    "duration": 34,
    "start_time": "2023-07-26T13:21:05.223Z"
   },
   {
    "duration": 14,
    "start_time": "2023-07-26T13:21:39.599Z"
   },
   {
    "duration": 17,
    "start_time": "2023-07-26T13:21:51.726Z"
   },
   {
    "duration": 17,
    "start_time": "2023-07-26T13:22:01.575Z"
   },
   {
    "duration": 17,
    "start_time": "2023-07-26T13:22:40.365Z"
   },
   {
    "duration": 1132,
    "start_time": "2023-07-26T13:23:08.280Z"
   },
   {
    "duration": 46,
    "start_time": "2023-07-26T13:23:09.414Z"
   },
   {
    "duration": 26,
    "start_time": "2023-07-26T13:23:09.462Z"
   },
   {
    "duration": 28,
    "start_time": "2023-07-26T13:23:09.489Z"
   },
   {
    "duration": 28,
    "start_time": "2023-07-26T13:23:09.523Z"
   },
   {
    "duration": 181,
    "start_time": "2023-07-26T13:23:09.553Z"
   },
   {
    "duration": 111,
    "start_time": "2023-07-26T13:23:09.749Z"
   },
   {
    "duration": 99,
    "start_time": "2023-07-26T13:23:09.868Z"
   },
   {
    "duration": 81,
    "start_time": "2023-07-26T13:23:10.039Z"
   },
   {
    "duration": 22,
    "start_time": "2023-07-26T13:23:34.384Z"
   },
   {
    "duration": 1360,
    "start_time": "2023-07-26T13:28:16.647Z"
   },
   {
    "duration": 29,
    "start_time": "2023-07-26T13:28:18.009Z"
   },
   {
    "duration": 27,
    "start_time": "2023-07-26T13:28:18.040Z"
   },
   {
    "duration": 48,
    "start_time": "2023-07-26T13:28:18.070Z"
   },
   {
    "duration": 148,
    "start_time": "2023-07-26T13:28:18.121Z"
   },
   {
    "duration": 70,
    "start_time": "2023-07-26T13:28:18.272Z"
   },
   {
    "duration": 155,
    "start_time": "2023-07-26T13:28:18.347Z"
   },
   {
    "duration": 44,
    "start_time": "2023-07-26T13:28:18.504Z"
   },
   {
    "duration": 216,
    "start_time": "2023-07-26T13:28:18.555Z"
   },
   {
    "duration": 2874,
    "start_time": "2023-07-26T18:15:26.234Z"
   },
   {
    "duration": 98,
    "start_time": "2023-07-26T18:15:29.110Z"
   },
   {
    "duration": 24,
    "start_time": "2023-07-26T18:15:29.209Z"
   },
   {
    "duration": 10,
    "start_time": "2023-07-26T18:15:29.236Z"
   },
   {
    "duration": 59,
    "start_time": "2023-07-26T18:15:29.248Z"
   },
   {
    "duration": 180,
    "start_time": "2023-07-26T18:15:29.308Z"
   },
   {
    "duration": 98,
    "start_time": "2023-07-26T18:15:29.491Z"
   },
   {
    "duration": 103,
    "start_time": "2023-07-26T18:15:29.591Z"
   },
   {
    "duration": 192,
    "start_time": "2023-07-26T18:15:29.696Z"
   },
   {
    "duration": 47,
    "start_time": "2023-07-26T19:11:01.165Z"
   },
   {
    "duration": 6,
    "start_time": "2023-07-26T19:11:09.455Z"
   },
   {
    "duration": 7,
    "start_time": "2023-07-26T19:11:13.254Z"
   },
   {
    "duration": 1106,
    "start_time": "2023-07-26T19:11:17.705Z"
   },
   {
    "duration": 74,
    "start_time": "2023-07-26T19:11:18.813Z"
   },
   {
    "duration": 25,
    "start_time": "2023-07-26T19:11:18.889Z"
   },
   {
    "duration": 5,
    "start_time": "2023-07-26T19:11:18.915Z"
   },
   {
    "duration": 108,
    "start_time": "2023-07-26T19:11:18.924Z"
   },
   {
    "duration": 100,
    "start_time": "2023-07-26T19:11:19.034Z"
   },
   {
    "duration": 116,
    "start_time": "2023-07-26T19:11:19.137Z"
   },
   {
    "duration": 78,
    "start_time": "2023-07-26T19:11:19.255Z"
   },
   {
    "duration": 135,
    "start_time": "2023-07-26T19:11:19.336Z"
   }
  ],
  "kernelspec": {
   "display_name": "Python 3 (ipykernel)",
   "language": "python",
   "name": "python3"
  },
  "language_info": {
   "codemirror_mode": {
    "name": "ipython",
    "version": 3
   },
   "file_extension": ".py",
   "mimetype": "text/x-python",
   "name": "python",
   "nbconvert_exporter": "python",
   "pygments_lexer": "ipython3",
   "version": "3.10.9"
  },
  "toc": {
   "base_numbering": 1,
   "nav_menu": {},
   "number_sections": true,
   "sideBar": true,
   "skip_h1_title": true,
   "title_cell": "Содержание",
   "title_sidebar": "Contents",
   "toc_cell": true,
   "toc_position": {},
   "toc_section_display": true,
   "toc_window_display": false
  }
 },
 "nbformat": 4,
 "nbformat_minor": 2
}
